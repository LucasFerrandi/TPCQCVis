{
 "cells": [
  {
   "cell_type": "code",
   "execution_count": null,
   "id": "d1af81a4",
   "metadata": {
    "scrolled": false
   },
   "outputs": [],
   "source": [
    "from datetime import date, datetime\n",
    "import math\n",
    "import ROOT\n",
    "import numpy as np, pandas as pd\n",
    "import bokeh\n",
    "import yaml\n",
    "from bokeh.io import output_notebook, show\n",
    "from bokeh.models import CustomJS, MultiSelect, Button, ColumnDataSource, DateRangeSlider\n",
    "from bokeh.models import RangeSlider, CheckboxButtonGroup, MultiChoice, TextInput\n",
    "from bokeh.events import ButtonClick, MenuItemClick\n",
    "from bokeh.layouts import row, column\n",
    "output_notebook()\n",
    "ROOT.gROOT.LoadMacro(\"../RootMacros/runCCDBItemList.C\")\n",
    "ROOT.gROOT.LoadMacro(\"../RootMacros/runCCDBDownloadTarget.C\")"
   ]
  },
  {
   "cell_type": "markdown",
   "id": "0fc11205",
   "metadata": {},
   "source": [
    "### Get the list of objects on the CCDB\n",
    "First choose from where you want to get the data.\n",
    "Options:\n",
    "* TestCCDB\n",
    "* QCDB\n",
    "* localhost"
   ]
  },
  {
   "cell_type": "code",
   "execution_count": null,
   "id": "4e94b9b5",
   "metadata": {},
   "outputs": [],
   "source": [
    "target = \"QCDB\""
   ]
  },
  {
   "cell_type": "markdown",
   "id": "c6839c77",
   "metadata": {},
   "source": [
    "The /Data/UserFiles/CCDB.csv file should be generated in advance so we know what files are on the CCDB. If you already have this, no need to run the next cell which calls the runCCDBItemList.C macro."
   ]
  },
  {
   "cell_type": "code",
   "execution_count": null,
   "id": "1b39fe90",
   "metadata": {},
   "outputs": [],
   "source": [
    "ROOT.runCCDBItemList(target)"
   ]
  },
  {
   "cell_type": "markdown",
   "id": "fa94cc1c",
   "metadata": {},
   "source": [
    "### Read the file list\n",
    "Here we import the file list we created into python."
   ]
  },
  {
   "cell_type": "code",
   "execution_count": null,
   "id": "b35db2aa",
   "metadata": {
    "scrolled": true
   },
   "outputs": [],
   "source": [
    "CCDB = pd.read_csv(\"../../Data/UserFiles/localDB/\"+target+\"_list.csv\",header=0, sep = r',', skipinitialspace = True)\n",
    "files = list(set(CCDB.Name))\n",
    "paths = list(set(CCDB.Path))\n",
    "time_stamps = list(set(CCDB.TimeStamp))\n",
    "types = list(set(CCDB.Type))\n",
    "tasks = list(set(CCDB.Task))\n",
    "sizes = list(set(CCDB.Size))\n",
    "runNumbers = list(set(CCDB.RunNumber))"
   ]
  },
  {
   "cell_type": "markdown",
   "id": "63aa334b",
   "metadata": {},
   "source": [
    "### Dashboard to select files to download\n",
    "Click the download button after selecting the wanted task, object, file type and time range"
   ]
  },
  {
   "cell_type": "code",
   "execution_count": null,
   "id": "4817dfaf",
   "metadata": {},
   "outputs": [],
   "source": [
    "files_data = CCDB.copy(deep=True)\n",
    "\n",
    "selected_files = files_data.copy(deep=True)\n",
    "shown_files = files_data.copy(deep=True)\n",
    "\n",
    "selected_data = []\n",
    "selected_types = []\n",
    "selected_tasks = []\n",
    "time_range = [files_data['TimeStamp'].min(),files_data['TimeStamp'].max()]\n",
    "#time_range = [1644415200000,1644419264263] # if you want to hard select the time range\n",
    "runNum_range = [files_data['RunNumber'].min(),files_data['RunNumber'].max()]"
   ]
  },
  {
   "cell_type": "code",
   "execution_count": null,
   "id": "0ace28ca",
   "metadata": {},
   "outputs": [],
   "source": [
    "time_range"
   ]
  },
  {
   "cell_type": "code",
   "execution_count": null,
   "id": "7cca0820",
   "metadata": {
    "scrolled": false
   },
   "outputs": [],
   "source": [
    "def file_browser(doc):\n",
    "    def file_size_str(table):\n",
    "        size = table[\"Size\"].sum()\n",
    "        if size < 1E3:\n",
    "            string = \"{} Bytes\".format(size)\n",
    "        elif size < 1E6:\n",
    "            string = \"{:.2f} kB\".format(size*(1E-3))\n",
    "        elif size < 1E9:\n",
    "            string = \"{:.2f} MB\".format(size*(1E-6))\n",
    "        else:\n",
    "            string = \"{:.2f} GB\".format(size*(1E-9))\n",
    "        return string\n",
    "    \n",
    "    def download_selected(selected_files):\n",
    "        ROOT.runCCDBDownloadTarget(list(selected_files[\"ID\"]),target,\"../../Data/UserFiles/DownlodedFiles.root\",)\n",
    "        \n",
    "    def update_button_label():\n",
    "        global selected_files\n",
    "        label = \"Download {} files ({})\".format(str(len(selected_files.index)),file_size_str(selected_files))\n",
    "        button.label = label\n",
    "        \n",
    "    def update_file_select_list():\n",
    "        global selected_files, time_range, selected_types, selected_tasks, files_data, shown_files\n",
    "        time_condition = ((files_data['TimeStamp'] >= time_range[0]) & (files_data['TimeStamp'] <= time_range[1]))\n",
    "        type_condition = files_data['Type'].map(lambda x: x in selected_types)\n",
    "        task_condition = files_data['Task'].map(lambda x: x in selected_tasks)\n",
    "        shown_files = files_data[type_condition & time_condition & task_condition]\n",
    "        file_select.options = list(set(shown_files['Name']))\n",
    "        \n",
    "    def update_time_range():\n",
    "        global shown_files\n",
    "        if not shown_files.empty:\n",
    "            date_range.value=[shown_files['TimeStamp'].min(),shown_files['TimeStamp'].max()]\n",
    "            date_range.start=shown_files['TimeStamp'].min()\n",
    "            date_range.end=shown_files['TimeStamp'].max()\n",
    "    \n",
    "    def update_run_range():\n",
    "        global shown_files\n",
    "        if not shown_files.empty:\n",
    "            run_range.value=[shown_files['RunNumber'].min(),shown_files['RunNumber'].max()]\n",
    "            run_range.start=shown_files['RunNumber'].min()\n",
    "            run_range.end=shown_files['RunNumber'].max()\n",
    "    \n",
    "    def update_type_list():\n",
    "        global selected_tasks, time_range, files_data\n",
    "        time_condition = ((files_data['TimeStamp'] >= time_range[0]) & (files_data['TimeStamp'] <= time_range[1]))\n",
    "        task_condition = files_data['Task'].map(lambda x: x in selected_tasks)\n",
    "        existing_types = files_data[time_condition & task_condition]\n",
    "        type_select.options = list(set(existing_types['Type']))\n",
    "        \n",
    "    def update_selection():\n",
    "        global selected_data, selected_files, time_range, selected_types, selected_tasks, files_data, runNum_range\n",
    "        time_condition = ((files_data['TimeStamp'] >= time_range[0]) & (files_data['TimeStamp'] <= time_range[1]))\n",
    "        name_condition = files_data['Name'].map(lambda x: x in selected_data)\n",
    "        type_condition = files_data['Type'].map(lambda x: x in selected_types)\n",
    "        task_condition = files_data['Task'].map(lambda x: x in selected_tasks)\n",
    "        run_condition = ((files_data['RunNumber'] >= runNum_range[0]) & (files_data['RunNumber'] <= runNum_range[1]))\n",
    "        selected_files = files_data[name_condition & time_condition & type_condition & task_condition & run_condition]\n",
    "    \n",
    "    def select_callback(attr,old,new):\n",
    "        global selected_data, selected_files, files_data, time_range, selected_types, selected_tasks\n",
    "        selected_data = file_select.value\n",
    "        update_selection()\n",
    "        update_button_label()\n",
    "        \n",
    "    def date_callback(attr,old,new):\n",
    "        global selected_data, selected_files, files_data, time_range, selected_types, shown_files, selected_tasks\n",
    "        time_range = date_range.value\n",
    "        update_selection()\n",
    "        update_file_select_list()\n",
    "        update_button_label()\n",
    "        \n",
    "    def run_callback(attr,old,new):\n",
    "        global selected_data, selected_files, files_data, runNum_range, selected_types, shown_files, selected_tasks\n",
    "        runNum_range = run_range.value\n",
    "        update_selection()\n",
    "        update_file_select_list()\n",
    "        update_button_label()\n",
    "        \n",
    "    def type_callback(attr,old,new):\n",
    "        global selected_data, selected_files, files_data, time_range, selected_types, shown_files, selected_tasks\n",
    "        selected_types = type_select.value\n",
    "        update_selection()\n",
    "        update_file_select_list()\n",
    "        update_time_range()\n",
    "        update_button_label()\n",
    "        update_run_range()\n",
    "        \n",
    "    def task_callback(attr,old,new):\n",
    "        global selected_data, selected_files, files_data, time_range, selected_types, shown_files, selected_tasks\n",
    "        selected_tasks = task_select.value\n",
    "        update_selection()\n",
    "        update_file_select_list()\n",
    "        update_time_range()\n",
    "        update_button_label()\n",
    "        update_type_list()\n",
    "        update_run_range()\n",
    "        \n",
    "    def button_callback(event):\n",
    "        global selected_data, selected_files, files_data, time_range, selected_types\n",
    "        display(selected_files)\n",
    "        print(\"Downloading {} files\".format(str(len(selected_files.index))))\n",
    "        download_selected(selected_files)\n",
    "\n",
    "    type_select = MultiChoice(title='Object type',options=types,value=[])\n",
    "    type_select.on_change(\"value\",type_callback)\n",
    "    \n",
    "    task_select = MultiChoice(title='QC task',options=tasks,value=[])\n",
    "    task_select.on_change(\"value\",task_callback)\n",
    "        \n",
    "    date_range = DateRangeSlider(title='Time range',value=[files_data['TimeStamp'].min(),files_data['TimeStamp'].max()],\n",
    "                                    start=files_data['TimeStamp'].min(), end=files_data['TimeStamp'].max())\n",
    "    date_range.on_change(\"value_throttled\",date_callback)    \n",
    "    \n",
    "    run_range = RangeSlider(title='Run Number',value=[files_data['RunNumber'].min(),files_data['RunNumber'].max()],\n",
    "                                    start=files_data['RunNumber'].min()-1, end=files_data['RunNumber'].max())\n",
    "    run_range.on_change(\"value_throttled\",run_callback)\n",
    "    \n",
    "    run_range_text_low = TextInput(value=str(runNum_range[0]), title=\"Run number low:\", width=150)\n",
    "    run_range_text_high = TextInput(value=str(runNum_range[1]), title=\"Run number high:\", width=150)\n",
    "    #run_range_text_low.on_change(\"value_throttled\",run_text_low_callback)\n",
    "    #run_range_text_high.on_change(\"value_throttled\",run_text_high_callback)\n",
    "    \n",
    "    file_select = MultiSelect(title=\"Files\", value=[], options=files, height=300)\n",
    "    file_select.on_change(\"value\", select_callback)\n",
    "\n",
    "    button = Button(label=\"Download all ({})\".format(file_size_str(files_data)), button_type=\"success\") \n",
    "    button.on_event(ButtonClick, button_callback)\n",
    "    \n",
    "    doc.add_root(row(column(task_select,type_select,date_range,run_range,button),file_select))\n",
    "    #,row(run_range_text_low,run_range_text_high)\n",
    "show(file_browser)"
   ]
  },
  {
   "cell_type": "code",
   "execution_count": null,
   "id": "9d750b4b",
   "metadata": {},
   "outputs": [],
   "source": []
  },
  {
   "cell_type": "code",
   "execution_count": null,
   "id": "df203ade",
   "metadata": {},
   "outputs": [],
   "source": []
  }
 ],
 "metadata": {
  "kernelspec": {
   "display_name": "Python 3",
   "language": "python",
   "name": "python3"
  },
  "language_info": {
   "codemirror_mode": {
    "name": "ipython",
    "version": 3
   },
   "file_extension": ".py",
   "mimetype": "text/x-python",
   "name": "python",
   "nbconvert_exporter": "python",
   "pygments_lexer": "ipython3",
   "version": "3.6.10"
  }
 },
 "nbformat": 4,
 "nbformat_minor": 5
}
