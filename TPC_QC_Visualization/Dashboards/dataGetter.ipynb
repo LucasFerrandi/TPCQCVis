{
 "cells": [
  {
   "cell_type": "code",
   "execution_count": 1,
   "id": "a9b2440b",
   "metadata": {},
   "outputs": [
    {
     "name": "stdout",
     "output_type": "stream",
     "text": [
      "Welcome to JupyROOT 6.24/06\n"
     ]
    },
    {
     "data": {
      "text/html": [
       "\n",
       "    <div class=\"bk-root\">\n",
       "        <a href=\"https://bokeh.org\" target=\"_blank\" class=\"bk-logo bk-logo-small bk-logo-notebook\"></a>\n",
       "        <span id=\"1001\">Loading BokehJS ...</span>\n",
       "    </div>"
      ]
     },
     "metadata": {},
     "output_type": "display_data"
    },
    {
     "data": {
      "application/javascript": [
       "\n",
       "(function(root) {\n",
       "  function now() {\n",
       "    return new Date();\n",
       "  }\n",
       "\n",
       "  var force = true;\n",
       "\n",
       "  if (typeof root._bokeh_onload_callbacks === \"undefined\" || force === true) {\n",
       "    root._bokeh_onload_callbacks = [];\n",
       "    root._bokeh_is_loading = undefined;\n",
       "  }\n",
       "\n",
       "  var JS_MIME_TYPE = 'application/javascript';\n",
       "  var HTML_MIME_TYPE = 'text/html';\n",
       "  var EXEC_MIME_TYPE = 'application/vnd.bokehjs_exec.v0+json';\n",
       "  var CLASS_NAME = 'output_bokeh rendered_html';\n",
       "\n",
       "  /**\n",
       "   * Render data to the DOM node\n",
       "   */\n",
       "  function render(props, node) {\n",
       "    var script = document.createElement(\"script\");\n",
       "    node.appendChild(script);\n",
       "  }\n",
       "\n",
       "  /**\n",
       "   * Handle when an output is cleared or removed\n",
       "   */\n",
       "  function handleClearOutput(event, handle) {\n",
       "    var cell = handle.cell;\n",
       "\n",
       "    var id = cell.output_area._bokeh_element_id;\n",
       "    var server_id = cell.output_area._bokeh_server_id;\n",
       "    // Clean up Bokeh references\n",
       "    if (id != null && id in Bokeh.index) {\n",
       "      Bokeh.index[id].model.document.clear();\n",
       "      delete Bokeh.index[id];\n",
       "    }\n",
       "\n",
       "    if (server_id !== undefined) {\n",
       "      // Clean up Bokeh references\n",
       "      var cmd = \"from bokeh.io.state import curstate; print(curstate().uuid_to_server['\" + server_id + \"'].get_sessions()[0].document.roots[0]._id)\";\n",
       "      cell.notebook.kernel.execute(cmd, {\n",
       "        iopub: {\n",
       "          output: function(msg) {\n",
       "            var id = msg.content.text.trim();\n",
       "            if (id in Bokeh.index) {\n",
       "              Bokeh.index[id].model.document.clear();\n",
       "              delete Bokeh.index[id];\n",
       "            }\n",
       "          }\n",
       "        }\n",
       "      });\n",
       "      // Destroy server and session\n",
       "      var cmd = \"import bokeh.io.notebook as ion; ion.destroy_server('\" + server_id + \"')\";\n",
       "      cell.notebook.kernel.execute(cmd);\n",
       "    }\n",
       "  }\n",
       "\n",
       "  /**\n",
       "   * Handle when a new output is added\n",
       "   */\n",
       "  function handleAddOutput(event, handle) {\n",
       "    var output_area = handle.output_area;\n",
       "    var output = handle.output;\n",
       "\n",
       "    // limit handleAddOutput to display_data with EXEC_MIME_TYPE content only\n",
       "    if ((output.output_type != \"display_data\") || (!Object.prototype.hasOwnProperty.call(output.data, EXEC_MIME_TYPE))) {\n",
       "      return\n",
       "    }\n",
       "\n",
       "    var toinsert = output_area.element.find(\".\" + CLASS_NAME.split(' ')[0]);\n",
       "\n",
       "    if (output.metadata[EXEC_MIME_TYPE][\"id\"] !== undefined) {\n",
       "      toinsert[toinsert.length - 1].firstChild.textContent = output.data[JS_MIME_TYPE];\n",
       "      // store reference to embed id on output_area\n",
       "      output_area._bokeh_element_id = output.metadata[EXEC_MIME_TYPE][\"id\"];\n",
       "    }\n",
       "    if (output.metadata[EXEC_MIME_TYPE][\"server_id\"] !== undefined) {\n",
       "      var bk_div = document.createElement(\"div\");\n",
       "      bk_div.innerHTML = output.data[HTML_MIME_TYPE];\n",
       "      var script_attrs = bk_div.children[0].attributes;\n",
       "      for (var i = 0; i < script_attrs.length; i++) {\n",
       "        toinsert[toinsert.length - 1].firstChild.setAttribute(script_attrs[i].name, script_attrs[i].value);\n",
       "        toinsert[toinsert.length - 1].firstChild.textContent = bk_div.children[0].textContent\n",
       "      }\n",
       "      // store reference to server id on output_area\n",
       "      output_area._bokeh_server_id = output.metadata[EXEC_MIME_TYPE][\"server_id\"];\n",
       "    }\n",
       "  }\n",
       "\n",
       "  function register_renderer(events, OutputArea) {\n",
       "\n",
       "    function append_mime(data, metadata, element) {\n",
       "      // create a DOM node to render to\n",
       "      var toinsert = this.create_output_subarea(\n",
       "        metadata,\n",
       "        CLASS_NAME,\n",
       "        EXEC_MIME_TYPE\n",
       "      );\n",
       "      this.keyboard_manager.register_events(toinsert);\n",
       "      // Render to node\n",
       "      var props = {data: data, metadata: metadata[EXEC_MIME_TYPE]};\n",
       "      render(props, toinsert[toinsert.length - 1]);\n",
       "      element.append(toinsert);\n",
       "      return toinsert\n",
       "    }\n",
       "\n",
       "    /* Handle when an output is cleared or removed */\n",
       "    events.on('clear_output.CodeCell', handleClearOutput);\n",
       "    events.on('delete.Cell', handleClearOutput);\n",
       "\n",
       "    /* Handle when a new output is added */\n",
       "    events.on('output_added.OutputArea', handleAddOutput);\n",
       "\n",
       "    /**\n",
       "     * Register the mime type and append_mime function with output_area\n",
       "     */\n",
       "    OutputArea.prototype.register_mime_type(EXEC_MIME_TYPE, append_mime, {\n",
       "      /* Is output safe? */\n",
       "      safe: true,\n",
       "      /* Index of renderer in `output_area.display_order` */\n",
       "      index: 0\n",
       "    });\n",
       "  }\n",
       "\n",
       "  // register the mime type if in Jupyter Notebook environment and previously unregistered\n",
       "  if (root.Jupyter !== undefined) {\n",
       "    var events = require('base/js/events');\n",
       "    var OutputArea = require('notebook/js/outputarea').OutputArea;\n",
       "\n",
       "    if (OutputArea.prototype.mime_types().indexOf(EXEC_MIME_TYPE) == -1) {\n",
       "      register_renderer(events, OutputArea);\n",
       "    }\n",
       "  }\n",
       "\n",
       "  \n",
       "  if (typeof (root._bokeh_timeout) === \"undefined\" || force === true) {\n",
       "    root._bokeh_timeout = Date.now() + 5000;\n",
       "    root._bokeh_failed_load = false;\n",
       "  }\n",
       "\n",
       "  var NB_LOAD_WARNING = {'data': {'text/html':\n",
       "     \"<div style='background-color: #fdd'>\\n\"+\n",
       "     \"<p>\\n\"+\n",
       "     \"BokehJS does not appear to have successfully loaded. If loading BokehJS from CDN, this \\n\"+\n",
       "     \"may be due to a slow or bad network connection. Possible fixes:\\n\"+\n",
       "     \"</p>\\n\"+\n",
       "     \"<ul>\\n\"+\n",
       "     \"<li>re-rerun `output_notebook()` to attempt to load from CDN again, or</li>\\n\"+\n",
       "     \"<li>use INLINE resources instead, as so:</li>\\n\"+\n",
       "     \"</ul>\\n\"+\n",
       "     \"<code>\\n\"+\n",
       "     \"from bokeh.resources import INLINE\\n\"+\n",
       "     \"output_notebook(resources=INLINE)\\n\"+\n",
       "     \"</code>\\n\"+\n",
       "     \"</div>\"}};\n",
       "\n",
       "  function display_loaded() {\n",
       "    var el = document.getElementById(\"1001\");\n",
       "    if (el != null) {\n",
       "      el.textContent = \"BokehJS is loading...\";\n",
       "    }\n",
       "    if (root.Bokeh !== undefined) {\n",
       "      if (el != null) {\n",
       "        el.textContent = \"BokehJS \" + root.Bokeh.version + \" successfully loaded.\";\n",
       "      }\n",
       "    } else if (Date.now() < root._bokeh_timeout) {\n",
       "      setTimeout(display_loaded, 100)\n",
       "    }\n",
       "  }\n",
       "\n",
       "\n",
       "  function run_callbacks() {\n",
       "    try {\n",
       "      root._bokeh_onload_callbacks.forEach(function(callback) {\n",
       "        if (callback != null)\n",
       "          callback();\n",
       "      });\n",
       "    } finally {\n",
       "      delete root._bokeh_onload_callbacks\n",
       "    }\n",
       "    console.debug(\"Bokeh: all callbacks have finished\");\n",
       "  }\n",
       "\n",
       "  function load_libs(css_urls, js_urls, callback) {\n",
       "    if (css_urls == null) css_urls = [];\n",
       "    if (js_urls == null) js_urls = [];\n",
       "\n",
       "    root._bokeh_onload_callbacks.push(callback);\n",
       "    if (root._bokeh_is_loading > 0) {\n",
       "      console.debug(\"Bokeh: BokehJS is being loaded, scheduling callback at\", now());\n",
       "      return null;\n",
       "    }\n",
       "    if (js_urls == null || js_urls.length === 0) {\n",
       "      run_callbacks();\n",
       "      return null;\n",
       "    }\n",
       "    console.debug(\"Bokeh: BokehJS not loaded, scheduling load and callback at\", now());\n",
       "    root._bokeh_is_loading = css_urls.length + js_urls.length;\n",
       "\n",
       "    function on_load() {\n",
       "      root._bokeh_is_loading--;\n",
       "      if (root._bokeh_is_loading === 0) {\n",
       "        console.debug(\"Bokeh: all BokehJS libraries/stylesheets loaded\");\n",
       "        run_callbacks()\n",
       "      }\n",
       "    }\n",
       "\n",
       "    function on_error(url) {\n",
       "      console.error(\"failed to load \" + url);\n",
       "    }\n",
       "\n",
       "    for (let i = 0; i < css_urls.length; i++) {\n",
       "      const url = css_urls[i];\n",
       "      const element = document.createElement(\"link\");\n",
       "      element.onload = on_load;\n",
       "      element.onerror = on_error.bind(null, url);\n",
       "      element.rel = \"stylesheet\";\n",
       "      element.type = \"text/css\";\n",
       "      element.href = url;\n",
       "      console.debug(\"Bokeh: injecting link tag for BokehJS stylesheet: \", url);\n",
       "      document.body.appendChild(element);\n",
       "    }\n",
       "\n",
       "    const hashes = {\"https://cdn.bokeh.org/bokeh/release/bokeh-2.3.3.min.js\": \"dM3QQsP+wXdHg42wTqW85BjZQdLNNIXqlPw/BgKoExPmTG7ZLML4EGqLMfqHT6ON\", \"https://cdn.bokeh.org/bokeh/release/bokeh-tables-2.3.3.min.js\": \"8x57I4YuIfu8XyZfFo0XVr2WAT8EK4rh/uDe3wF7YuW2FNUSNEpJbsPaB1nJ2fz2\", \"https://cdn.bokeh.org/bokeh/release/bokeh-widgets-2.3.3.min.js\": \"3QTqdz9LyAm2i0sG5XTePsHec3UHWwVsrOL68SYRoAXsafvfAyqtQ+h440+qIBhS\"};\n",
       "\n",
       "    for (let i = 0; i < js_urls.length; i++) {\n",
       "      const url = js_urls[i];\n",
       "      const element = document.createElement('script');\n",
       "      element.onload = on_load;\n",
       "      element.onerror = on_error.bind(null, url);\n",
       "      element.async = false;\n",
       "      element.src = url;\n",
       "      if (url in hashes) {\n",
       "        element.crossOrigin = \"anonymous\";\n",
       "        element.integrity = \"sha384-\" + hashes[url];\n",
       "      }\n",
       "      console.debug(\"Bokeh: injecting script tag for BokehJS library: \", url);\n",
       "      document.head.appendChild(element);\n",
       "    }\n",
       "  };\n",
       "\n",
       "  function inject_raw_css(css) {\n",
       "    const element = document.createElement(\"style\");\n",
       "    element.appendChild(document.createTextNode(css));\n",
       "    document.body.appendChild(element);\n",
       "  }\n",
       "\n",
       "  \n",
       "  var js_urls = [\"https://cdn.bokeh.org/bokeh/release/bokeh-2.3.3.min.js\", \"https://cdn.bokeh.org/bokeh/release/bokeh-widgets-2.3.3.min.js\", \"https://cdn.bokeh.org/bokeh/release/bokeh-tables-2.3.3.min.js\"];\n",
       "  var css_urls = [];\n",
       "  \n",
       "\n",
       "  var inline_js = [\n",
       "    function(Bokeh) {\n",
       "      Bokeh.set_log_level(\"info\");\n",
       "    },\n",
       "    function(Bokeh) {\n",
       "    \n",
       "    \n",
       "    }\n",
       "  ];\n",
       "\n",
       "  function run_inline_js() {\n",
       "    \n",
       "    if (root.Bokeh !== undefined || force === true) {\n",
       "      \n",
       "    for (var i = 0; i < inline_js.length; i++) {\n",
       "      inline_js[i].call(root, root.Bokeh);\n",
       "    }\n",
       "    if (force === true) {\n",
       "        display_loaded();\n",
       "      }} else if (Date.now() < root._bokeh_timeout) {\n",
       "      setTimeout(run_inline_js, 100);\n",
       "    } else if (!root._bokeh_failed_load) {\n",
       "      console.log(\"Bokeh: BokehJS failed to load within specified timeout.\");\n",
       "      root._bokeh_failed_load = true;\n",
       "    } else if (force !== true) {\n",
       "      var cell = $(document.getElementById(\"1001\")).parents('.cell').data().cell;\n",
       "      cell.output_area.append_execute_result(NB_LOAD_WARNING)\n",
       "    }\n",
       "\n",
       "  }\n",
       "\n",
       "  if (root._bokeh_is_loading === 0) {\n",
       "    console.debug(\"Bokeh: BokehJS loaded, going straight to plotting\");\n",
       "    run_inline_js();\n",
       "  } else {\n",
       "    load_libs(css_urls, js_urls, function() {\n",
       "      console.debug(\"Bokeh: BokehJS plotting callback run at\", now());\n",
       "      run_inline_js();\n",
       "    });\n",
       "  }\n",
       "}(window));"
      ],
      "application/vnd.bokehjs_load.v0+json": "\n(function(root) {\n  function now() {\n    return new Date();\n  }\n\n  var force = true;\n\n  if (typeof root._bokeh_onload_callbacks === \"undefined\" || force === true) {\n    root._bokeh_onload_callbacks = [];\n    root._bokeh_is_loading = undefined;\n  }\n\n  \n\n  \n  if (typeof (root._bokeh_timeout) === \"undefined\" || force === true) {\n    root._bokeh_timeout = Date.now() + 5000;\n    root._bokeh_failed_load = false;\n  }\n\n  var NB_LOAD_WARNING = {'data': {'text/html':\n     \"<div style='background-color: #fdd'>\\n\"+\n     \"<p>\\n\"+\n     \"BokehJS does not appear to have successfully loaded. If loading BokehJS from CDN, this \\n\"+\n     \"may be due to a slow or bad network connection. Possible fixes:\\n\"+\n     \"</p>\\n\"+\n     \"<ul>\\n\"+\n     \"<li>re-rerun `output_notebook()` to attempt to load from CDN again, or</li>\\n\"+\n     \"<li>use INLINE resources instead, as so:</li>\\n\"+\n     \"</ul>\\n\"+\n     \"<code>\\n\"+\n     \"from bokeh.resources import INLINE\\n\"+\n     \"output_notebook(resources=INLINE)\\n\"+\n     \"</code>\\n\"+\n     \"</div>\"}};\n\n  function display_loaded() {\n    var el = document.getElementById(\"1001\");\n    if (el != null) {\n      el.textContent = \"BokehJS is loading...\";\n    }\n    if (root.Bokeh !== undefined) {\n      if (el != null) {\n        el.textContent = \"BokehJS \" + root.Bokeh.version + \" successfully loaded.\";\n      }\n    } else if (Date.now() < root._bokeh_timeout) {\n      setTimeout(display_loaded, 100)\n    }\n  }\n\n\n  function run_callbacks() {\n    try {\n      root._bokeh_onload_callbacks.forEach(function(callback) {\n        if (callback != null)\n          callback();\n      });\n    } finally {\n      delete root._bokeh_onload_callbacks\n    }\n    console.debug(\"Bokeh: all callbacks have finished\");\n  }\n\n  function load_libs(css_urls, js_urls, callback) {\n    if (css_urls == null) css_urls = [];\n    if (js_urls == null) js_urls = [];\n\n    root._bokeh_onload_callbacks.push(callback);\n    if (root._bokeh_is_loading > 0) {\n      console.debug(\"Bokeh: BokehJS is being loaded, scheduling callback at\", now());\n      return null;\n    }\n    if (js_urls == null || js_urls.length === 0) {\n      run_callbacks();\n      return null;\n    }\n    console.debug(\"Bokeh: BokehJS not loaded, scheduling load and callback at\", now());\n    root._bokeh_is_loading = css_urls.length + js_urls.length;\n\n    function on_load() {\n      root._bokeh_is_loading--;\n      if (root._bokeh_is_loading === 0) {\n        console.debug(\"Bokeh: all BokehJS libraries/stylesheets loaded\");\n        run_callbacks()\n      }\n    }\n\n    function on_error(url) {\n      console.error(\"failed to load \" + url);\n    }\n\n    for (let i = 0; i < css_urls.length; i++) {\n      const url = css_urls[i];\n      const element = document.createElement(\"link\");\n      element.onload = on_load;\n      element.onerror = on_error.bind(null, url);\n      element.rel = \"stylesheet\";\n      element.type = \"text/css\";\n      element.href = url;\n      console.debug(\"Bokeh: injecting link tag for BokehJS stylesheet: \", url);\n      document.body.appendChild(element);\n    }\n\n    const hashes = {\"https://cdn.bokeh.org/bokeh/release/bokeh-2.3.3.min.js\": \"dM3QQsP+wXdHg42wTqW85BjZQdLNNIXqlPw/BgKoExPmTG7ZLML4EGqLMfqHT6ON\", \"https://cdn.bokeh.org/bokeh/release/bokeh-tables-2.3.3.min.js\": \"8x57I4YuIfu8XyZfFo0XVr2WAT8EK4rh/uDe3wF7YuW2FNUSNEpJbsPaB1nJ2fz2\", \"https://cdn.bokeh.org/bokeh/release/bokeh-widgets-2.3.3.min.js\": \"3QTqdz9LyAm2i0sG5XTePsHec3UHWwVsrOL68SYRoAXsafvfAyqtQ+h440+qIBhS\"};\n\n    for (let i = 0; i < js_urls.length; i++) {\n      const url = js_urls[i];\n      const element = document.createElement('script');\n      element.onload = on_load;\n      element.onerror = on_error.bind(null, url);\n      element.async = false;\n      element.src = url;\n      if (url in hashes) {\n        element.crossOrigin = \"anonymous\";\n        element.integrity = \"sha384-\" + hashes[url];\n      }\n      console.debug(\"Bokeh: injecting script tag for BokehJS library: \", url);\n      document.head.appendChild(element);\n    }\n  };\n\n  function inject_raw_css(css) {\n    const element = document.createElement(\"style\");\n    element.appendChild(document.createTextNode(css));\n    document.body.appendChild(element);\n  }\n\n  \n  var js_urls = [\"https://cdn.bokeh.org/bokeh/release/bokeh-2.3.3.min.js\", \"https://cdn.bokeh.org/bokeh/release/bokeh-widgets-2.3.3.min.js\", \"https://cdn.bokeh.org/bokeh/release/bokeh-tables-2.3.3.min.js\"];\n  var css_urls = [];\n  \n\n  var inline_js = [\n    function(Bokeh) {\n      Bokeh.set_log_level(\"info\");\n    },\n    function(Bokeh) {\n    \n    \n    }\n  ];\n\n  function run_inline_js() {\n    \n    if (root.Bokeh !== undefined || force === true) {\n      \n    for (var i = 0; i < inline_js.length; i++) {\n      inline_js[i].call(root, root.Bokeh);\n    }\n    if (force === true) {\n        display_loaded();\n      }} else if (Date.now() < root._bokeh_timeout) {\n      setTimeout(run_inline_js, 100);\n    } else if (!root._bokeh_failed_load) {\n      console.log(\"Bokeh: BokehJS failed to load within specified timeout.\");\n      root._bokeh_failed_load = true;\n    } else if (force !== true) {\n      var cell = $(document.getElementById(\"1001\")).parents('.cell').data().cell;\n      cell.output_area.append_execute_result(NB_LOAD_WARNING)\n    }\n\n  }\n\n  if (root._bokeh_is_loading === 0) {\n    console.debug(\"Bokeh: BokehJS loaded, going straight to plotting\");\n    run_inline_js();\n  } else {\n    load_libs(css_urls, js_urls, function() {\n      console.debug(\"Bokeh: BokehJS plotting callback run at\", now());\n      run_inline_js();\n    });\n  }\n}(window));"
     },
     "metadata": {},
     "output_type": "display_data"
    },
    {
     "data": {
      "text/plain": [
       "0"
      ]
     },
     "execution_count": 1,
     "metadata": {},
     "output_type": "execute_result"
    }
   ],
   "source": [
    "from datetime import date, datetime\n",
    "import math\n",
    "import ROOT\n",
    "import numpy as np, pandas as pd\n",
    "import bokeh\n",
    "import yaml\n",
    "from bokeh.io import output_notebook, show\n",
    "from bokeh.models import CustomJS, MultiSelect, Button, ColumnDataSource, DateRangeSlider, CheckboxButtonGroup\n",
    "from bokeh.events import ButtonClick, MenuItemClick\n",
    "from bokeh.layouts import row, column\n",
    "output_notebook()\n",
    "ROOT.gROOT.LoadMacro(\"runCCDBItemList.C\")\n",
    "#ROOT.gROOT.LoadMacro(\"runCCDBDownloadTarget.C\")"
   ]
  },
  {
   "cell_type": "code",
   "execution_count": 2,
   "id": "2df171e1",
   "metadata": {},
   "outputs": [
    {
     "name": "stdout",
     "output_type": "stream",
     "text": [
      "[INFO] Is alien token present?: 0\n"
     ]
    }
   ],
   "source": [
    "ROOT.runCCDBItemList()\n",
    "with open('directoryTree.txt') as directoryTree: \n",
    "    lines = directoryTree.readlines()"
   ]
  },
  {
   "cell_type": "code",
   "execution_count": 3,
   "id": "b33ba978",
   "metadata": {},
   "outputs": [],
   "source": [
    "files = list()\n",
    "paths = list()\n",
    "time_stamps = list()\n",
    "dates = list()\n",
    "types = list()\n",
    "\n",
    "active_file = ''\n",
    "file_type = ''\n",
    "for line in lines:\n",
    "    if line[0:7] == 'qc/TPC/':\n",
    "        active_file = line[10:-2]\n",
    "        files.append(active_file)\n",
    "    elif line[0:5] == 'Type:':\n",
    "        file_type = line[6:-1]\n",
    "    elif line[0] == '-':\n",
    "        paths.append(active_file)\n",
    "        types.append(file_type)\n",
    "        time_stamp = int(line[3:-2])\n",
    "        time_stamps.append(time_stamp)\n",
    "        date = datetime.utcfromtimestamp(math.ceil(time_stamp)/100).strftime('%Y-%m-%d-%H:%M:%S')\n",
    "        dates.append(date)\n",
    "    \n",
    "files_data = pd.DataFrame({'Path': paths, 'Type': types, 'TimeStamp': time_stamps, 'Date':dates})\n",
    "type_set = sorted(list(set(types)))"
   ]
  },
  {
   "cell_type": "code",
   "execution_count": 4,
   "id": "718eac17",
   "metadata": {},
   "outputs": [
    {
     "data": {
      "text/plain": [
       "['TEfficiency', 'TH1F', 'TH2F']"
      ]
     },
     "execution_count": 4,
     "metadata": {},
     "output_type": "execute_result"
    }
   ],
   "source": [
    "type_set"
   ]
  },
  {
   "cell_type": "code",
   "execution_count": 5,
   "id": "3fdd84e0",
   "metadata": {},
   "outputs": [
    {
     "data": {
      "text/plain": [
       "160562680033"
      ]
     },
     "execution_count": 5,
     "metadata": {},
     "output_type": "execute_result"
    }
   ],
   "source": [
    "files_data['TimeStamp'].min()"
   ]
  },
  {
   "cell_type": "code",
   "execution_count": 45,
   "id": "05cc59e3",
   "metadata": {
    "scrolled": false
   },
   "outputs": [
    {
     "data": {
      "application/vnd.bokehjs_exec.v0+json": "",
      "text/html": [
       "\n",
       "<script id=\"2065\">\n",
       "  var xhr = new XMLHttpRequest()\n",
       "  xhr.responseType = 'blob';\n",
       "  xhr.open('GET', \"http://localhost:33811/autoload.js?bokeh-autoload-element=2065&bokeh-absolute-url=http://localhost:33811&resources=none\", true);\n",
       "  \n",
       "  xhr.onload = function (event) {\n",
       "    var script = document.createElement('script'),\n",
       "    src = URL.createObjectURL(event.target.response);\n",
       "    script.src = src;\n",
       "    document.body.appendChild(script);\n",
       "  };\n",
       "xhr.send();\n",
       "</script>"
      ]
     },
     "metadata": {
      "application/vnd.bokehjs_exec.v0+json": {
       "server_id": "6810f96f9768440f8009bebb002691cf"
      }
     },
     "output_type": "display_data"
    },
    {
     "name": "stdout",
     "output_type": "stream",
     "text": [
      "Will download\n",
      "               Path  Type     TimeStamp                 Date\n",
      "1236  Tracks/hPtNe  TH1F  163343131937  2021-10-05-10:55:19\n",
      "1237  Tracks/hPtNe  TH1F  163717135344  2021-11-17-17:49:13\n",
      "1238  Tracks/hPtNe  TH1F  163784791711  2021-11-25-13:45:17\n",
      "1239  Tracks/hPtNe  TH1F  163862796188  2021-12-04-14:26:01\n",
      "1240  Tracks/hPtNe  TH1F  163915175088  2021-12-10-15:55:50\n",
      "1241  Tracks/hPtNe  TH1F  163966613624  2021-12-16-14:48:56\n",
      "1242  Tracks/hPtNe  TH1F  164001790055  2021-12-20-16:31:40\n",
      "1243  Tracks/hPtNe  TH1F  163551147604  2021-10-29-12:44:36\n",
      "1244  Tracks/hPtNe  TH1F  163533923080  2021-10-27-12:53:50\n",
      "1245  Tracks/hPtNe  TH1F  163343989812  2021-10-05-13:18:18\n",
      "1246  Tracks/hPtNe  TH1F  163343626620  2021-10-05-12:17:46\n",
      "1247  Tracks/hPtNe  TH1F  162920321985  2021-08-17-12:26:59\n",
      "1248  Tracks/hPtNe  TH1F  162886382710  2021-08-13-14:10:27\n",
      "1249  Tracks/hPtNe  TH1F  162791966473  2021-08-02-15:54:24\n",
      "1250  Tracks/hPtNe  TH1F  162884783156  2021-08-13-09:43:51\n",
      "1251  Tracks/hPtNe  TH1F  162850968559  2021-08-09-11:48:05\n",
      "1252  Tracks/hPtNe  TH1F  162792374275  2021-08-02-17:02:22\n",
      "1253  Tracks/hPtNe  TH1F  162826356568  2021-08-06-15:26:05\n",
      "1254  Tracks/hPtNe  TH1F  162816635520  2021-08-05-12:25:55\n"
     ]
    }
   ],
   "source": [
    "selected_data = []\n",
    "selected_files = files_data.copy(deep=True)\n",
    "selected_types = type_set\n",
    "time_range = [files_data['TimeStamp'].min()*10,files_data['TimeStamp'].max()*10]\n",
    "shown_files = files\n",
    "\n",
    "def file_browser(doc):\n",
    "    def update_button_label():\n",
    "        label = \"Download {} files\".format(str(len(selected_files.index)))\n",
    "        button.label = label\n",
    "        \n",
    "    def update_file_select_list(shown_files):\n",
    "        new_list = list(set(shown_files['Path']))\n",
    "        file_select.options = new_list\n",
    "        file_select.value = []\n",
    "        update_time_range(shown_files)\n",
    "        \n",
    "    def update_time_range(shown_files):\n",
    "        if not shown_files.empty:\n",
    "            date_range.value=[shown_files['TimeStamp'].min()*10,shown_files['TimeStamp'].max()*10]\n",
    "            date_range.start=shown_files['TimeStamp'].min()*10\n",
    "            date_range.end=shown_files['TimeStamp'].max()*10\n",
    "    \n",
    "    def download_selected(selection):\n",
    "        paths2download = selection['Path'].to_list()\n",
    "        ROOT.runCCDBDownloadTarget(str(paths2download)) \n",
    "        \n",
    "    def select_callback(attr,old,new):\n",
    "        global selected_data, selected_files, files_data, time_range, selected_types\n",
    "        selected_data = file_select.value\n",
    "        time_condition = ((files_data['TimeStamp'] >= time_range[0]/10) & (files_data['TimeStamp'] <= time_range[1]/10))\n",
    "        path_condition = files_data['Path'].map(lambda x: x in selected_data)\n",
    "        type_condition = files_data['Type'].map(lambda x: x in selected_types)\n",
    "        selected_files = files_data[path_condition & time_condition & type_condition]\n",
    "        update_button_label()\n",
    "        \n",
    "    def date_callback(attr,old,new):\n",
    "        global selected_data, selected_files, files_data, time_range, selected_types\n",
    "        time_range = date_range.value\n",
    "        time_condition = ((files_data['TimeStamp'] >= time_range[0]/10) & (files_data['TimeStamp'] <= time_range[1]/10))\n",
    "        path_condition = files_data['Path'].map(lambda x: x in selected_data)\n",
    "        type_condition = files_data['Type'].map(lambda x: x in selected_types)\n",
    "        selected_files = files_data[path_condition & time_condition & type_condition]\n",
    "        update_button_label()\n",
    "        \n",
    "    def type_callback(attr,old,new):\n",
    "        global selected_data, selected_files, files_data, time_range, selected_types, shown_files\n",
    "        selected_types = [type_set[i] for i in checkbox.active]\n",
    "        time_condition = ((files_data['TimeStamp'] >= time_range[0]/10) & (files_data['TimeStamp'] <= time_range[1]/10))\n",
    "        path_condition = files_data['Path'].map(lambda x: x in selected_data)\n",
    "        type_condition = files_data['Type'].map(lambda x: x in selected_types)\n",
    "        selected_files = files_data[path_condition & time_condition & type_condition]\n",
    "        shown_files = files_data[type_condition]\n",
    "        update_file_select_list(shown_files)\n",
    "        update_button_label()\n",
    "        \n",
    "    def button_callback(event):\n",
    "        global selected_data, selected_files, files_data, time_range, selected_types\n",
    "        print(\"Will download\\n\", selected_files)\n",
    "        #download_selected(selected_files)   \n",
    "\n",
    "    checkbox = CheckboxButtonGroup(labels=type_set,active=list(range(0,len(type_set))))\n",
    "    checkbox.on_change(\"active\",type_callback)\n",
    "        \n",
    "    date_range = DateRangeSlider(value=[files_data['TimeStamp'].min()*10,files_data['TimeStamp'].max()*10],\n",
    "                                    start=files_data['TimeStamp'].min()*10, end=files_data['TimeStamp'].max()*10)\n",
    "    date_range.on_change(\"value_throttled\",date_callback)    \n",
    "    \n",
    "    file_select = MultiSelect(title=\"Files\", value=[], options=files, height=200)\n",
    "    file_select.on_change(\"value\", select_callback)\n",
    "\n",
    "    button = Button(label=\"Download all\", button_type=\"success\") \n",
    "    button.on_event(ButtonClick, button_callback)\n",
    "    \n",
    "    doc.add_root(column(file_select,checkbox,date_range,button))\n",
    "show(file_browser)"
   ]
  },
  {
   "cell_type": "code",
   "execution_count": 36,
   "id": "b449cbff",
   "metadata": {},
   "outputs": [
    {
     "data": {
      "text/plain": [
       "True"
      ]
     },
     "execution_count": 36,
     "metadata": {},
     "output_type": "execute_result"
    }
   ],
   "source": [
    "shown_files.empty"
   ]
  },
  {
   "cell_type": "code",
   "execution_count": 8,
   "id": "2fab7cc7",
   "metadata": {},
   "outputs": [
    {
     "name": "stdout",
     "output_type": "stream",
     "text": [
      "[INFO] Is alien token present?: 0\n",
      "['qc/TPC/MO/BhawaniTutorial/h2DNClustersEt', 'qc/TPC/MO/BhawaniTutorial/h2DNClustersPhiAsid', 'qc/TPC/MO/BhawaniTutorial/h2DNClustersPhiCsid']\n"
     ]
    }
   ],
   "source": [
    "ROOT.runCCDBDownloadTarget(str(selected_files['Path'].to_list()))"
   ]
  },
  {
   "cell_type": "markdown",
   "id": "1b88e9bc",
   "metadata": {},
   "source": [
    "# Workaround with hash numbers\n",
    "could get hash numbers by scrapting the web address"
   ]
  },
  {
   "cell_type": "code",
   "execution_count": 3,
   "id": "abf75047",
   "metadata": {},
   "outputs": [
    {
     "data": {
      "text/plain": [
       "<cppyy.gbl.std.vector<string> object at 0xb6caff0>"
      ]
     },
     "execution_count": 3,
     "metadata": {},
     "output_type": "execute_result"
    }
   ],
   "source": [
    "!wget http://ccdb-test.cern.ch:8080/download/91218f16-6414-11ec-8339-8af603f7250c -O ./test_download/out.root\n",
    "!ls -l test_download\n",
    "!cat test_download/out.root"
   ]
  }
 ],
 "metadata": {
  "kernelspec": {
   "display_name": "Python 3",
   "language": "python",
   "name": "python3"
  },
  "language_info": {
   "codemirror_mode": {
    "name": "ipython",
    "version": 3
   },
   "file_extension": ".py",
   "mimetype": "text/x-python",
   "name": "python",
   "nbconvert_exporter": "python",
   "pygments_lexer": "ipython3",
   "version": "3.6.10"
  }
 },
 "nbformat": 4,
 "nbformat_minor": 5
}
