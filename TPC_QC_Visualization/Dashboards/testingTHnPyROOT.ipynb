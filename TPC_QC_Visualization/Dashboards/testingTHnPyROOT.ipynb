{
 "cells": [
  {
   "cell_type": "markdown",
   "id": "0d7e8fb8",
   "metadata": {},
   "source": [
    "# Visualization with PyROOT\n",
    "* can do projections to 1D & 2D histograms\n",
    "* similar interaction with normal TBrowser, but a bit easier to use"
   ]
  },
  {
   "cell_type": "code",
   "execution_count": null,
   "id": "94b7c074",
   "metadata": {},
   "outputs": [],
   "source": [
    "from datetime import date, datetime\n",
    "import math\n",
    "import ROOT\n",
    "import bokeh\n",
    "from bokeh.io import output_notebook\n",
    "from bokeh.plotting import output_file\n",
    "output_notebook()"
   ]
  },
  {
   "cell_type": "markdown",
   "id": "3fc3798a",
   "metadata": {},
   "source": [
    "### Load the THnSparse file"
   ]
  },
  {
   "cell_type": "code",
   "execution_count": null,
   "id": "7518b8b1",
   "metadata": {},
   "outputs": [],
   "source": [
    "myFile = ROOT.TFile.Open(\"~/Software/TPC_QC_Visualization/Data/UserFiles/myFile.root\")\n",
    "hist = myFile.ExpertVis\n",
    "thn = hist.Get(\"ExpertVis;1\")\n",
    "thn.ls()"
   ]
  },
  {
   "cell_type": "markdown",
   "id": "a7ef90d9",
   "metadata": {},
   "source": [
    "### Define helper function"
   ]
  },
  {
   "cell_type": "code",
   "execution_count": null,
   "id": "e13c3bfc",
   "metadata": {},
   "outputs": [],
   "source": [
    "dimensions = []\n",
    "for i in range(thn.GetNdimensions()):\n",
    "    dimensions.append(thn.GetAxis(i).GetTitle())\n",
    "    \n",
    "def listOptions(thn):\n",
    "    axes=[]\n",
    "    for i in range(thn.GetNdimensions()):\n",
    "        axes.append(thn.GetAxis(i).GetTitle())\n",
    "    print(axes)\n",
    "    \n",
    "def drawProjection(thn,axis):\n",
    "    if(len(axis) == 1):\n",
    "        h = thn.Projection(dimensions.index(axis[0]))\n",
    "        h.GetYaxis().SetTitle('Counts');\n",
    "        h.Draw()\n",
    "    elif(len(axis) == 2):\n",
    "        h = thn.Projection(dimensions.index(axis[1]),dimensions.index(axis[0]))\n",
    "        h.GetZaxis().SetTitle('Counts');\n",
    "        h.Draw(\"colz\")\n",
    "    elif(len(axis) == 3):\n",
    "        h = thn.Projection(dimensions.index(axis[2]),dimensions.index(axis[1]),dimensions.index(axis[0]))\n",
    "        h.Draw()\n",
    "    else: print(\"Wrong number of dimensions given, please make 1D,2D or 3D projections\")"
   ]
  },
  {
   "cell_type": "markdown",
   "id": "0f3aaa87",
   "metadata": {},
   "source": [
    "### Make projections"
   ]
  },
  {
   "cell_type": "code",
   "execution_count": null,
   "id": "e87c4808",
   "metadata": {},
   "outputs": [],
   "source": [
    "listOptions(thn)"
   ]
  },
  {
   "cell_type": "code",
   "execution_count": null,
   "id": "f43a5e7a",
   "metadata": {
    "scrolled": false
   },
   "outputs": [],
   "source": [
    "%jsroot on\n",
    "c = ROOT.TCanvas(\"myTHnProjection\",\"The Canvas Title\",800,600)\n",
    "drawProjection(thn,['P','dEdxMax'])\n",
    "c.Draw()"
   ]
  },
  {
   "cell_type": "code",
   "execution_count": null,
   "id": "7e4c9547",
   "metadata": {},
   "outputs": [],
   "source": []
  }
 ],
 "metadata": {
  "kernelspec": {
   "display_name": "Python 3",
   "language": "python",
   "name": "python3"
  },
  "language_info": {
   "codemirror_mode": {
    "name": "ipython",
    "version": 3
   },
   "file_extension": ".py",
   "mimetype": "text/x-python",
   "name": "python",
   "nbconvert_exporter": "python",
   "pygments_lexer": "ipython3",
   "version": "3.6.10"
  }
 },
 "nbformat": 4,
 "nbformat_minor": 5
}
