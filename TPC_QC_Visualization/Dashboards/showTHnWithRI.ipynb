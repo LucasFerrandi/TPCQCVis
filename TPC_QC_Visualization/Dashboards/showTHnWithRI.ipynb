{
 "cells": [
  {
   "cell_type": "markdown",
   "id": "e3a6e04d",
   "metadata": {},
   "source": [
    "# THn visualization with RootInteractive\n",
    "### Import libraries\n",
    "\n",
    "* colorcet optional (for more ROOT colz like color pallete import it and use cc.b_linear_kbgoy_20_95_c57)"
   ]
  },
  {
   "cell_type": "code",
   "execution_count": null,
   "id": "75055b22",
   "metadata": {},
   "outputs": [],
   "source": [
    "from datetime import date, datetime\n",
    "import math\n",
    "import ROOT\n",
    "import numpy as np, pandas as pd\n",
    "import bokeh\n",
    "import yaml\n",
    "import base64\n",
    "import ctypes\n",
    "import logging\n",
    "from bokeh.io import output_notebook, show\n",
    "from bokeh.plotting import output_file\n",
    "from RootInteractive.InteractiveDrawing.bokeh.bokehDrawSA import *\n",
    "from RootInteractive.InteractiveDrawing.bokeh.bokehTools import bokehDrawArray\n",
    "from RootInteractive.Tools.pandaTools import initMetadata\n",
    "import colorcet as cc"
   ]
  },
  {
   "cell_type": "markdown",
   "id": "6ef16551",
   "metadata": {},
   "source": [
    "### Load the THnSparse file"
   ]
  },
  {
   "cell_type": "code",
   "execution_count": null,
   "id": "15965b1f",
   "metadata": {},
   "outputs": [],
   "source": [
    "myFile = ROOT.TFile.Open(\"~/Software/TPC_QC_Visualization/Data/UserFiles/myFile.root\")\n",
    "hist = myFile.ExpertVis\n",
    "thn = hist.Get(\"ExpertVis;1\")\n",
    "dimensions = []\n",
    "for i in range(thn.GetNdimensions()):\n",
    "    dimensions.append(thn.GetAxis(i).GetTitle())\n",
    "thn.ls()"
   ]
  },
  {
   "cell_type": "markdown",
   "id": "0c160c67",
   "metadata": {},
   "source": [
    "### Convert THnSparse to pandas.DataFrame\n",
    "* the binning parameters should be known (ToDo: investigate if this can be extracted from the THn) "
   ]
  },
  {
   "cell_type": "code",
   "execution_count": null,
   "id": "56473998",
   "metadata": {},
   "outputs": [],
   "source": [
    "bin_count = [40, 100, 100, 72, 24, 24, 40, 3]\n",
    "bin_min = [0.05, 1., 1., 0., -1.2, -1.2, 52., -1.]\n",
    "bin_max = [20., 2000., 1000., 6.3, 1.2, 1.2, 212., 1.]\n",
    "dim_count = len(bin_count)\n",
    "bin_width = [(bin_max[x]-bin_min[x])/(bin_count[x]+1) for x in range(dim_count)]\n",
    "\n",
    "tracks = [];\n",
    "coord = (ctypes.c_int*dim_count)()\n",
    "#for Bin in range(thn.GetNbins()):\n",
    "for Bin in range(100000):\n",
    "    val = thn.GetBinContent(Bin,coord)\n",
    "    tracks.append(val)\n",
    "    for Dim in range(dim_count):\n",
    "        #tracks.append(bin_min[Dim]+(coord[Dim]-0.5)*bin_width[Dim])\n",
    "        tracks.append(coord[Dim])\n",
    "    \n",
    "df = pd.DataFrame(np.reshape(tracks, newshape=(int(len(tracks)/(dim_count+1)), dim_count+1)), \n",
    "                         columns = ['Weight','P','dEdxTot','dEdxMax','Phi','Tgl','Snp','NClusters','Sign'])\n",
    "initMetadata(df)\n",
    "df.head()"
   ]
  },
  {
   "cell_type": "markdown",
   "id": "7593467e",
   "metadata": {},
   "source": [
    "## Plot as scatter plot\n",
    "Doesn't make too much sense for us here since the data from all the dimensions are not aggregated"
   ]
  },
  {
   "cell_type": "code",
   "execution_count": null,
   "id": "aaced45d",
   "metadata": {
    "scrolled": false
   },
   "outputs": [],
   "source": [
    "output_file(\"thn_scatter.html\")\n",
    "\n",
    "figureArray = [\n",
    "    [['P'], ['dEdxTot'], {\"colorZvar\": \"Weight\"}],\n",
    "    [['NClusters'], ['dEdxTot'], {\"colorZvar\": \"Weight\"}],\n",
    "    [['Phi'], ['dEdxTot'], {\"colorZvar\": \"Weight\"}],\n",
    "    [['Tgl'], ['dEdxTot'], {\"colorZvar\": \"Weight\"}],\n",
    "    {\"size\":2, \"legend_options\": {\"label_text_font_size\": \"13px\"}}\n",
    "]\n",
    "layout = {\n",
    "    \"dEdx (a.u.) vs p (GeV/c)\": [\n",
    "        [0, {'y_visible': 1, 'x_visible':1, 'plot_height': 400}]],\n",
    "    \"dEdx (a.u.) vs ncls\": [\n",
    "        [1, {'y_visible': 1, 'x_visible':1, 'plot_height': 400}]],\n",
    "    \"dEdx (a.u.) vs φ (rad)\": [\n",
    "        [2, {'y_visible': 1, 'x_visible':1, 'plot_height': 400}]],\n",
    "    \"dEdx (a.u.) vs tanλ\": [\n",
    "        [3, {'y_visible': 1, 'x_visible':1, 'plot_height': 400}]]\n",
    "}\n",
    "tooltips = []\n",
    "widgetParams=[\n",
    "    ['range', ['P']],\n",
    "    ['range', ['dEdxTot']],\n",
    "    ['range', ['dEdxMax']],\n",
    "    ['range', ['Phi']],\n",
    "    ['range', ['Tgl']],\n",
    "    ['range', ['Snp']],\n",
    "    ['range', ['NClusters']],\n",
    "    ['range', ['Weight']]\n",
    "]\n",
    "widgetLayoutDesc={\n",
    "    \"Selection\": [[0],[1],[2],[3],[4],[5],[6],[7], {'sizing_mode': 'scale_width'}]\n",
    "    }    \n",
    "xxx = bokehDrawSA.fromArray(df, \"P>0\", figureArray, widgetParams, layout=layout,\n",
    "                      tooltips=tooltips, widgetLayout=widgetLayoutDesc)"
   ]
  },
  {
   "cell_type": "markdown",
   "id": "0fc6854e",
   "metadata": {},
   "source": [
    "## As 1D histograms\n",
    "Makes sense"
   ]
  },
  {
   "cell_type": "code",
   "execution_count": null,
   "id": "cd05d7b2",
   "metadata": {},
   "outputs": [],
   "source": [
    "output_file(\"thn_1D.html\")\n",
    "\n",
    "histoArray = [\n",
    "    {\"name\": \"dEdxTot_hist\", \"variables\": [\"dEdxTot\"], \"nbins\": 100, \"weights\": \"Weight\"},\n",
    "    {\"name\": \"NClusters_hist\", \"variables\": [\"NClusters\"], \"nbins\": 40, \"weights\": \"Weight\"},\n",
    "    {\"name\": \"Phi_hist\", \"variables\": [\"Phi\"], \"nbins\": 72, \"weights\": \"Weight\"},\n",
    "    {\"name\": \"Tgl_hist\", \"variables\": [\"Tgl\"], \"nbins\": 24, \"weights\": \"Weight\"},\n",
    "    {\"name\": \"P_hist\", \"variables\": [\"P\"], \"nbins\": 40, \"weights\": \"Weight\"},\n",
    "    {\"name\": \"dEdxMax_hist\", \"variables\": [\"dEdxMax\"], \"nbins\": 100, \"weights\": \"Weight\"}\n",
    "    \n",
    "]\n",
    "figureArray = [\n",
    "    [['dEdxTot'],['dEdxTot_hist'],{'size': 5}],\n",
    "    [['NClusters'],['NClusters_hist'],{'size': 5}],\n",
    "    [['Phi'],['Phi_hist'],{'size': 5}],\n",
    "    [['Tgl'],['Tgl_hist'],{'size': 5}],\n",
    "    [['P'],['P_hist'],{'size': 5}],\n",
    "    [['dEdxMax'],['dEdxMax_hist'],{'size': 5}]\n",
    "]\n",
    "figureLayoutDesc=[\n",
    "    [[0, 1], [2,3], [4,5], {'y_visible': 1, 'x_visible':1, 'plot_height': 300}],\n",
    "        {'plot_height': 100, 'sizing_mode': 'scale_width'}\n",
    "]\n",
    "widgetParams=[\n",
    "    ['range', ['P']],\n",
    "    ['range', ['dEdxTot']],\n",
    "    ['range', ['dEdxMax']],\n",
    "    ['range', ['Phi']],\n",
    "    ['range', ['Tgl']],\n",
    "    ['range', ['Snp']],\n",
    "    ['range', ['NClusters']],\n",
    "    ['range', ['Weight']]\n",
    "]\n",
    "widgetLayoutDesc={\n",
    "    \"Selection\": [[0],[1],[2],[3],[4],[5],[6],[7], {'width':1}]\n",
    "    }\n",
    "tooltips = []\n",
    "xxx = bokehDrawSA.fromArray(df, \"P>0\", figureArray, widgetParams, layout=figureLayoutDesc, tooltips=tooltips,\n",
    "                            widgetLayout=widgetLayoutDesc, plot_width= 500, histogramArray=histoArray)"
   ]
  },
  {
   "cell_type": "markdown",
   "id": "8ecf46c9",
   "metadata": {},
   "source": [
    "## As 2D histograms\n",
    "Also makes sense"
   ]
  },
  {
   "cell_type": "code",
   "execution_count": null,
   "id": "9d62b560",
   "metadata": {},
   "outputs": [],
   "source": [
    "output_file(\"thn_2D.html\")\n",
    "\n",
    "histoArray = [\n",
    "    {\"name\": \"dEdx_vs_P\", \"variables\": [\"P\", \"dEdxMax\"], \"nbins\": [40, 100], \"weights\": \"Weight\", \"axis\": [0, 1], \"quantiles\": []},\n",
    "    {\"name\": \"dEdx_vs_ncls\", \"variables\": [\"NClusters\", \"dEdxTot\"], \"nbins\": [40, 50], \"weights\": \"Weight\", \"axis\": [0, 1], \"quantiles\": []},\n",
    "    {\"name\": \"dEdx_vs_phi\", \"variables\": [\"Phi\", \"dEdxTot\"], \"nbins\": [72, 50], \"weights\": \"Weight\", \"axis\": [0, 1], \"quantiles\": []},\n",
    "    {\"name\": \"dEdx_vs_tgl\", \"variables\": [\"Tgl\", \"dEdxTot\"], \"nbins\": [24, 50], \"weights\": \"Weight\", \"axis\": [0, 1], \"quantiles\": []}\n",
    "]\n",
    "figureArray = [\n",
    "    [['P'], ['dEdx_vs_P']],\n",
    "    [['NClusters'], ['dEdx_vs_ncls']],\n",
    "    [['Phi'], ['dEdx_vs_phi']],\n",
    "    [['Tgl'], ['dEdx_vs_tgl']],\n",
    "    [\"tableHisto\", {\"rowwise\": True}]\n",
    "]\n",
    "figureLayoutDesc={\n",
    "    \"dEdx_vs_p\" : [[0,4, {'y_visible': 1, 'x_visible':1, 'plot_height': 400}],\n",
    "        {'plot_height': 400, 'sizing_mode': 'scale_width', 'y_visible' : 2}],\n",
    "    \"dEdx_vs_ncls\" : [[1,4, {'y_visible': 1, 'x_visible':1, 'plot_height': 400}],\n",
    "        {'plot_height': 400, 'sizing_mode': 'scale_width', 'y_visible' : 2}],\n",
    "    \"dEdx_vs_phi\" : [[2,4, {'y_visible': 1, 'x_visible':1, 'plot_height': 400}],\n",
    "        {'plot_height': 400, 'sizing_mode': 'scale_width', 'y_visible' : 2}],\n",
    "    \"dEdx_vs_tgl\" : [[3,4, {'y_visible': 1, 'x_visible':1, 'plot_height': 400}],\n",
    "        {'plot_height': 400, 'sizing_mode': 'scale_width', 'y_visible' : 2}]\n",
    "}\n",
    "tooltips = []\n",
    "widgetParams=[\n",
    "    ['range', ['P']],\n",
    "    ['range', ['dEdxTot']],\n",
    "    ['range', ['dEdxMax']],\n",
    "    ['range', ['Phi']],\n",
    "    ['range', ['Tgl']],\n",
    "    ['range', ['Snp']],\n",
    "    ['range', ['NClusters']],\n",
    "    ['range', ['Weight']]\n",
    "]\n",
    "widgetLayoutDesc={\n",
    "    \"Selection\": [[0],[1],[2],[3],[4],[5],[6],[7], {'width':1}]\n",
    "    }\n",
    "xxx = bokehDrawSA.fromArray(df, \"P>0\", figureArray, widgetParams, layout=figureLayoutDesc, tooltips=tooltips,\n",
    "                            widgetLayout=widgetLayoutDesc, histogramArray=histoArray, plot_width= 500,\n",
    "                            colors=\"Bokeh\",rescaleColorMapper=True, nCols = 4)"
   ]
  },
  {
   "cell_type": "code",
   "execution_count": null,
   "id": "705505b6",
   "metadata": {},
   "outputs": [],
   "source": []
  }
 ],
 "metadata": {
  "kernelspec": {
   "display_name": "Python 3",
   "language": "python",
   "name": "python3"
  },
  "language_info": {
   "codemirror_mode": {
    "name": "ipython",
    "version": 3
   },
   "file_extension": ".py",
   "mimetype": "text/x-python",
   "name": "python",
   "nbconvert_exporter": "python",
   "pygments_lexer": "ipython3",
   "version": "3.6.10"
  }
 },
 "nbformat": 4,
 "nbformat_minor": 5
}
