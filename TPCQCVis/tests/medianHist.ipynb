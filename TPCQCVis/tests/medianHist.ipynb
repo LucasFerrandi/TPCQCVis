{
 "cells": [
  {
   "cell_type": "code",
   "execution_count": null,
   "id": "4bbf51da",
   "metadata": {},
   "outputs": [],
   "source": [
    "%%capture\n",
    "import ROOT\n",
    "import glob\n",
    "import math\n",
    "import sys\n",
    "import numpy as np\n",
    "import pandas as pd\n",
    "from IPython.display import display, Markdown, HTML\n",
    "import ipywidgets as widgets\n",
    "from TPCQCVis.src.drawHistograms import *\n",
    "from TPCQCVis.src.drawTrending import *\n",
    "from TPCQCVis.src.drawMultiTrending import *\n",
    "from TPCQCVis.src.checkHistograms import *\n",
    "from TPCQCVis.src.checkTrending import *\n",
    "import warnings\n",
    "from copy import copy\n",
    "warnings.filterwarnings('ignore')"
   ]
  },
  {
   "cell_type": "code",
   "execution_count": null,
   "id": "8a88f01e",
   "metadata": {},
   "outputs": [],
   "source": [
    "%jsroot on\n",
    "display(HTML(\"<style>.container { width:95% !important; align-items: center;}</style>\"))\n",
    "display(HTML(\"<style>table {float:left;}</style>\"))\n",
    "ROOT.gErrorIgnoreLevel = ROOT.kFatal\n",
    "#display(HTML('<style>{}</style>'.format(CSS)))\n",
    "#ROOT.gStyle.SetPalette(57)"
   ]
  },
  {
   "cell_type": "markdown",
   "id": "a7fc9cc5",
   "metadata": {},
   "source": [
    "### Quality of life functions"
   ]
  },
  {
   "cell_type": "code",
   "execution_count": null,
   "id": "8111671d",
   "metadata": {},
   "outputs": [],
   "source": [
    "def checkIfExists(files, title):\n",
    "    objectAvailable = False\n",
    "    hist = None\n",
    "    goodFiles = []\n",
    "    if type(files) is list:\n",
    "        file = files[0]\n",
    "        try:\n",
    "            hist = file.PIDQC.Get(title)\n",
    "            if not hist : hist = file.TracksQC.Get(title)\n",
    "            if not hist : hist = file.ClusterQC.Get(title)\n",
    "            if not hist : hist = file.PID.Get(title)\n",
    "            if not hist : hist = file.Tracks.Get(title)\n",
    "        except:\n",
    "            objectAvailable = False\n",
    "        else:\n",
    "            if hist:\n",
    "                objectAvailable = True\n",
    "            else:\n",
    "                objectAvailable = False\n",
    "        if not objectAvailable:\n",
    "            print(title,\"not found\")\n",
    "    else:\n",
    "        for file in files:\n",
    "            try:\n",
    "                hist = file.PIDQC.Get(title)\n",
    "                if not hist : hist = file.TracksQC.Get(title)\n",
    "                if not hist : hist = file.ClusterQC.Get(title)\n",
    "                if not hist : hist = file.PID.Get(title)\n",
    "                if not hist : hist = file.Tracks.Get(title)\n",
    "            except:\n",
    "                objectAvailable = False\n",
    "            else:\n",
    "                if hist:\n",
    "                    objectAvailable = True\n",
    "                    goodFiles.append(file)\n",
    "                else:\n",
    "                    objectAvailable = False\n",
    "            if not objectAvailable:\n",
    "                print(title,\"not found in\", file)\n",
    "        files = goodFiles\n",
    "        if len(files):\n",
    "            objectAvailable = True\n",
    "    return objectAvailable"
   ]
  },
  {
   "cell_type": "markdown",
   "id": "bf1e5fe0",
   "metadata": {},
   "source": [
    "## Read files"
   ]
  },
  {
   "cell_type": "code",
   "execution_count": null,
   "id": "6c2a3467",
   "metadata": {},
   "outputs": [],
   "source": [
    "# Notebook variables\n",
    "periodName = \"LHC23zzk\"\n",
    "passName = \"apass1\"\n",
    "runNumber = \"544508\"\n",
    "path = \"/cave/alice-tpc-qc/data/2023/\"\n",
    "# Read the Root Files\n",
    "fileList = glob.glob(path+\"/\"+periodName+\"/\"+passName+\"/\"+\"*_QC.root\")\n",
    "fileList = [file for file in fileList if file[-13] != \"_\"]\n",
    "fileList.sort()\n",
    "#fileList = fileList[13:]\n",
    "runList = [fileList[i][-14:-8] for i in range(len(fileList))]\n",
    "rootDataFile=[]\n",
    "for file in fileList:\n",
    "    rootDataFile.append(ROOT.TFile.Open(file,\"READ\"))"
   ]
  },
  {
   "cell_type": "code",
   "execution_count": null,
   "id": "6c989b10",
   "metadata": {},
   "outputs": [],
   "source": [
    "ROOT.gStyle.SetPalette(57)\n",
    "ROOT.gStyle.SetPalette(55)\n",
    "ROOT.gStyle.SetGridStyle(3)\n",
    "ROOT.gStyle.SetGridWidth(1)\n",
    "ROOT.gStyle.SetOptStat(0)\n",
    "cols = list(ROOT.TColor.GetPalette())\n",
    "def updateColors(histograms,palette):\n",
    "    colors = []\n",
    "    for i,hist in enumerate(histograms):\n",
    "        if len(histograms)>1:\n",
    "            color = palette[math.floor((i/(len(histograms)-1))*(len(palette)-1))]\n",
    "        else:\n",
    "            color = palette[0]\n",
    "        #color = i\n",
    "        colors.append(color)\n",
    "        hist.SetLineColor(color)\n",
    "        hist.SetMarkerColor(color)\n",
    "    return colors\n",
    "\n",
    "def updateRanges(histograms):\n",
    "    maxRange = max([hist.GetMaximum() for hist in histograms])\n",
    "    minRange = min([hist.GetMinimum() for hist in histograms])\n",
    "    for i,hist in enumerate(histograms):\n",
    "        if len(histograms)>1:\n",
    "            hist.SetMaximum(maxRange)\n",
    "            hist.SetMinimum(maxRange)"
   ]
  },
  {
   "cell_type": "code",
   "execution_count": null,
   "id": "cbb71cd0",
   "metadata": {},
   "outputs": [],
   "source": [
    "%jsroot on\n",
    "objectName=\"hEta\"\n",
    "if checkIfExists(rootDataFile,objectName):\n",
    "    [hist,legend,canvas,pad1] = drawHistograms(objectName,rootDataFile,normalize=True,legend=True,legendNames=runList,pads=False,\n",
    "                                               drawOption=\"SAME L\",xAxisRange=[-1.1,1.1],grid=True)\n",
    "    updateColors(hist,cols)\n",
    "    pad1.SetGrid(1)\n",
    "    canvas.SetCanvasSize(700,400)\n",
    "    canvas.Draw()"
   ]
  },
  {
   "cell_type": "markdown",
   "id": "2c4bacbf",
   "metadata": {},
   "source": [
    "## Build median histogram"
   ]
  },
  {
   "cell_type": "code",
   "execution_count": null,
   "id": "5b2becb0",
   "metadata": {},
   "outputs": [],
   "source": [
    "def getMedianHistogram(hists):\n",
    "    from statistics import median\n",
    "    if len(hists) == 1:\n",
    "        return hists[0]\n",
    "    else:\n",
    "        nBins = hist[0].GetNbinsX()\n",
    "        xMin = hist[0].GetXaxis().GetXmin()\n",
    "        xMax = hist[0].GetXaxis().GetXmax()\n",
    "        medianHist = ROOT.TH1F(\"median_\"+hist[0].GetName(),\"Median \"+hist[0].GetTitle(),nBins,xMin,xMax)\n",
    "        for xBin in range(nBins):\n",
    "            vals = [h.GetBinContent(xBin) for h in hist]\n",
    "            medianHist.SetBinContent(xBin,median(vals))\n",
    "        return medianHist"
   ]
  },
  {
   "cell_type": "code",
   "execution_count": null,
   "id": "1f3546ce",
   "metadata": {},
   "outputs": [],
   "source": [
    "%jsroot on\n",
    "objectName=\"hEta\"\n",
    "if checkIfExists(rootDataFile,objectName):\n",
    "    [hist,legend,canvas,pad1] = drawHistograms(objectName,rootDataFile,normalize=True,legend=True,legendNames=runList,pads=False,\n",
    "                                               drawOption=\"SAME L\",xAxisRange=[-1.1,1.1],grid=True)\n",
    "    updateColors(hist,cols)\n",
    "    pad1.SetGrid(1)\n",
    "    pad1.cd()\n",
    "    medianHist = getMedianHistogram(hist)\n",
    "    medianHist.Draw(\"SAME *\")\n",
    "    canvas.SetCanvasSize(700,400)\n",
    "    canvas.Draw()"
   ]
  }
 ],
 "metadata": {
  "kernelspec": {
   "display_name": "Python 3 (ipykernel)",
   "language": "python",
   "name": "python3"
  },
  "language_info": {
   "codemirror_mode": {
    "name": "ipython",
    "version": 3
   },
   "file_extension": ".py",
   "mimetype": "text/x-python",
   "name": "python",
   "nbconvert_exporter": "python",
   "pygments_lexer": "ipython3",
   "version": "3.9.16"
  }
 },
 "nbformat": 4,
 "nbformat_minor": 5
}
