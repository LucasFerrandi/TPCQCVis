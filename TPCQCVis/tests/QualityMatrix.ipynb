{
 "cells": [
  {
   "cell_type": "markdown",
   "id": "c6eae2aa",
   "metadata": {
    "toc": true
   },
   "source": [
    "<h1>Table of Contents<span class=\"tocSkip\"></span></h1>\n",
    "<div class=\"toc\"><ul class=\"toc-item\"></ul></div>"
   ]
  },
  {
   "cell_type": "code",
   "execution_count": null,
   "id": "f202c2e8",
   "metadata": {},
   "outputs": [],
   "source": [
    "%%capture\n",
    "import ROOT\n",
    "import glob\n",
    "import math\n",
    "import numpy as np\n",
    "import pandas as pd\n",
    "from IPython.display import display, Markdown\n",
    "from IPython.display import display, HTML\n",
    "from TPCQCVis.src.drawHistograms import *\n",
    "from TPCQCVis.src.drawTrending import *\n",
    "from TPCQCVis.src.checkHistograms import *\n",
    "from TPCQCVis.src.checkTrending import *"
   ]
  },
  {
   "cell_type": "code",
   "execution_count": null,
   "id": "0739b6c4",
   "metadata": {},
   "outputs": [],
   "source": [
    "display(HTML(\"<style>.container { width:95% !important; }</style>\"))\n",
    "display(HTML(\"<style>table {float:left;}</style>\"))"
   ]
  },
  {
   "cell_type": "code",
   "execution_count": null,
   "id": "7be0cfb0",
   "metadata": {},
   "outputs": [],
   "source": [
    "# Read the Root Files\n",
    "path = \"/cave/alice/data/2022/LHC22o/apass2/\"\n",
    "fileList = glob.glob(path+\"*_QC.root\")\n",
    "fileList.sort()\n",
    "#fileList = fileList[13:]\n",
    "runList = [fileList[i][36:-8] for i in range(len(fileList))]\n",
    "rootDataFile=[]\n",
    "for file in fileList:\n",
    "    rootDataFile.append(ROOT.TFile.Open(file,\"READ\"))"
   ]
  },
  {
   "cell_type": "code",
   "execution_count": null,
   "id": "e308d00d",
   "metadata": {},
   "outputs": [],
   "source": [
    "qualities = pd.DataFrame({'runNumber':range(10),'hist1': np.random.randint(4, size=10), 'hist2': np.random.randint(4, size=10)})\n",
    "qualities"
   ]
  },
  {
   "cell_type": "code",
   "execution_count": null,
   "id": "7a4e6c98",
   "metadata": {},
   "outputs": [],
   "source": [
    "%%cpp\n",
    "Int_t palette[4];\n",
    "palette[0] = 920;\n",
    "palette[1] = 414;\n",
    "palette[2] = 801;\n",
    "palette[3] = 633;\n",
    "gStyle->SetPalette(4,palette);"
   ]
  },
  {
   "cell_type": "code",
   "execution_count": null,
   "id": "7088d7b2",
   "metadata": {},
   "outputs": [],
   "source": [
    "%jsroot on\n",
    "ROOT.gROOT.ForceStyle()\n",
    "\n",
    "ROOT.gStyle.SetGridStyle(1);\n",
    "qualityLabels = {0:\"NULL\",1:\"GOOD\",2:\"MEDIUM\",3:\"BAD\"}\n",
    "\n",
    "canvas = ROOT.TCanvas()\n",
    "canvas.SetLeftMargin(0.15);\n",
    "canvas.SetBottomMargin(0.15);\n",
    "canvas.SetGrid()\n",
    "\n",
    "qualityHist = ROOT.TH2I(\"QualityMatrix\",\"Histogram showing qualities from checks\",\n",
    "                        len(qualities.index),min(qualities.index),max(qualities.index)+1,\n",
    "                        len(qualities.columns)-1,0,len(qualities.columns)-1)\n",
    "qualityHist.SetCanExtend(ROOT.TH1.kAllAxes)\n",
    "qualityHist.SetStats(0)\n",
    "for runIndex,run in enumerate(qualities.runNumber):\n",
    "    qualityHist.GetXaxis().SetBinLabel(runIndex+1,str(run))\n",
    "    qualityHist.GetXaxis().SetTickLength( 0.03)\n",
    "    for checkIndex,check in enumerate(qualities.loc[:, qualities.columns != \"runNumber\"].columns):\n",
    "        #print(checkIndex,runIndex)\n",
    "        qualityHist.Fill(run,check,qualities.iloc[runIndex][check])\n",
    "\n",
    "qualityHist.LabelsOption(\"u\")\n",
    "qualityHist.Draw(\"colz\")\n",
    "qualityHist.GetZaxis().SetRangeUser(-0.5,3.5);\n",
    "qualityHist.LabelsOption(\"v\")\n",
    "canvas.Draw()"
   ]
  },
  {
   "cell_type": "code",
   "execution_count": null,
   "id": "3316b7ba",
   "metadata": {},
   "outputs": [],
   "source": [
    "qualities[qualities[\"runNumber\"]== 1]"
   ]
  },
  {
   "cell_type": "code",
   "execution_count": null,
   "id": "27e89e05",
   "metadata": {},
   "outputs": [],
   "source": [
    "%jsroot on\n",
    "objectName=\"hPt;1\"\n",
    "trending = \"entries\"\n",
    "error = \"stdDev\"\n",
    "\n",
    "[trend,canvas] = drawTrending(objectName,rootDataFile,files=22,names=runList,namesFromRunList=True,\n",
    "                               trend=trending,error=error,axis=1)\n",
    "[qualities,canvas] = checkTrending(trend,canvas=canvas)\n",
    "\n",
    "canvas.Draw()"
   ]
  },
  {
   "cell_type": "code",
   "execution_count": null,
   "id": "9a073402",
   "metadata": {},
   "outputs": [],
   "source": [
    "import matplotlib.pyplot as plt\n",
    "from IPython.display import set_matplotlib_formats\n",
    "set_matplotlib_formats(\"svg\")\n",
    "\n",
    "fig, ax = plt.subplots()\n",
    "ax.scatter([1, 2, 3], [4, 5, 6])\n",
    "text = ax.annotate(\"Link\", xy=(2,5), xytext=(2.2,5.5),\n",
    "                    url='http://matplotlib.org', \n",
    "                    bbox=dict(color='w', alpha=1e-6, url='http://matplotlib.org'))"
   ]
  },
  {
   "cell_type": "code",
   "execution_count": null,
   "id": "71c8ada7",
   "metadata": {},
   "outputs": [],
   "source": [
    "import numpy as np\n",
    "import matplotlib.cm as cm\n",
    "import matplotlib.mlab as mlab\n",
    "import matplotlib.pyplot as pyplot\n",
    "\n",
    "pyplot.scatter([1, 2, 3], [4, 5, 6])\n",
    "t = mpl.text.TextPath((2, 4), 'This is text', size=0.1)\n",
    "pc = mpl.collections.PathCollection([t])\n",
    "pc.set_urls(['http://www.google.com'])\n",
    "ax = pyplot.gca()\n",
    "ax.add_collection(pc)\n",
    "pyplot.draw()\n",
    "f = pyplot.gcf()\n",
    "f.canvas.print_figure('fig.svg')"
   ]
  },
  {
   "cell_type": "code",
   "execution_count": null,
   "id": "54635081",
   "metadata": {},
   "outputs": [],
   "source": []
  },
  {
   "cell_type": "code",
   "execution_count": null,
   "id": "8f376ed1",
   "metadata": {},
   "outputs": [],
   "source": []
  }
 ],
 "metadata": {
  "kernelspec": {
   "display_name": "Python 3 (ipykernel)",
   "language": "python",
   "name": "python3"
  },
  "language_info": {
   "codemirror_mode": {
    "name": "ipython",
    "version": 3
   },
   "file_extension": ".py",
   "mimetype": "text/x-python",
   "name": "python",
   "nbconvert_exporter": "python",
   "pygments_lexer": "ipython3",
   "version": "3.9.12"
  },
  "toc": {
   "base_numbering": 1,
   "nav_menu": {},
   "number_sections": false,
   "sideBar": false,
   "skip_h1_title": true,
   "title_cell": "Table of Contents",
   "title_sidebar": "Contents",
   "toc_cell": true,
   "toc_position": {},
   "toc_section_display": true,
   "toc_window_display": false
  }
 },
 "nbformat": 4,
 "nbformat_minor": 5
}
