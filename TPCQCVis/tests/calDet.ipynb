{
 "cells": [
  {
   "cell_type": "code",
   "execution_count": null,
   "id": "4eacdc95-b868-48bc-a6bf-d1f6a1fd4f0c",
   "metadata": {},
   "outputs": [],
   "source": [
    "%%capture\n",
    "import ROOT\n",
    "import glob\n",
    "import math\n",
    "import numpy as np\n",
    "from IPython.display import display, Markdown, HTML\n",
    "import ipywidgets as widgets\n",
    "from TPCQCVis.src.drawHistograms import *\n",
    "from TPCQCVis.src.drawTrending import *\n",
    "from TPCQCVis.src.checkHistograms import *"
   ]
  },
  {
   "cell_type": "code",
   "execution_count": null,
   "id": "e16f3c36-50dc-4da5-ad67-4c302f479405",
   "metadata": {},
   "outputs": [],
   "source": [
    "# Read the Root Files\n",
    "path = \"/cave/alice-tpc-qc/data/2023/LHC23zx/cpass0/543442.root\"\n",
    "file = ROOT.TFile.Open(path,\"READ\")"
   ]
  },
  {
   "cell_type": "code",
   "execution_count": null,
   "id": "9e55ed8a-2e99-49df-8f15-e2fa72563be7",
   "metadata": {},
   "outputs": [],
   "source": [
    "clustersData = file.TPC.Clusters.At(0).getObject().getClusters()"
   ]
  },
  {
   "cell_type": "code",
   "execution_count": null,
   "id": "388bbb17-808e-4ec9-baca-28ab66cef548",
   "metadata": {},
   "outputs": [],
   "source": [
    "nClusters = clustersData.getNClusters()"
   ]
  },
  {
   "cell_type": "code",
   "execution_count": null,
   "id": "4ec1d707-af65-45c1-9dac-e783e0670218",
   "metadata": {},
   "outputs": [],
   "source": [
    "coords = []\n",
    "for pad in ROOT.o2.tpc.painter.getPadCoordinatesSector():\n",
    "    coords.append([(pad.xVals[0]+pad.xVals[1])/2,(pad.yVals[0]+pad.yVals[1])/2])"
   ]
  },
  {
   "cell_type": "code",
   "execution_count": null,
   "id": "f638fb9e-1cd2-442e-8df0-96cf2a1da34c",
   "metadata": {},
   "outputs": [],
   "source": [
    "ROOT.o2.tpc.painter.getPadCoordinatesSector()[0].yVals"
   ]
  },
  {
   "cell_type": "code",
   "execution_count": null,
   "id": "117a77a7-b87a-4b3f-98d7-cb566ba0bb55",
   "metadata": {},
   "outputs": [],
   "source": [
    "angles = np.linspace(0,360,19)[1:]\n",
    "angles -= angles[0]/2"
   ]
  },
  {
   "cell_type": "code",
   "execution_count": null,
   "id": "536fdc6f-2676-49ce-8a0c-c7037a2b30b0",
   "metadata": {},
   "outputs": [],
   "source": [
    "%jsroot on\n",
    "canvas = ROOT.TCanvas(\"\",\"\",600,600)\n",
    "hist = ROOT.TH2F(\"coords\",\"coords\",332,-300,300,332,-300,300)\n",
    "for sector in range(18):\n",
    "    for pad in ROOT.o2.tpc.painter.getPadCoordinatesSector():\n",
    "        pad.rotate(angles[sector])\n",
    "        #coords.append([pad.xVals[0],pad.yVals[0]])\n",
    "        hist.Fill((pad.xVals[0]+pad.xVals[1])/2,(pad.yVals[0]+pad.yVals[2])/2)\n",
    "hist.Draw(\"COLZ\")\n",
    "canvas.Draw()"
   ]
  },
  {
   "cell_type": "code",
   "execution_count": null,
   "id": "c1929719-f935-43d4-b6dd-3ba4788e2227",
   "metadata": {},
   "outputs": [],
   "source": [
    "%jsroot on\n",
    "rVals = [sqrt(pad.xVals[0]**2+pad.yVals[0]**2) for pad in ROOT.o2.tpc.painter.getPadCoordinatesSector()]\n",
    "phiVals = [math.atan(pad.yVals[0]/pad.xVals[0])+math.pi/18 for pad in ROOT.o2.tpc.painter.getPadCoordinatesSector()]\n",
    "\n",
    "canvas = ROOT.TCanvas(\"\",\"\",800,400)\n",
    "reference = ROOT.TH2F(\"reference\",\"reference\",180,0,2*math.pi,100,80,255)\n",
    "hist = ROOT.TH2F(\"vals\",\"vals\",180,0,2*math.pi,100,80,255)\n",
    "nClusters.getData()[0].getData()\n",
    "for sector in range(18):\n",
    "    for pad in range(len(rVals)):\n",
    "        reference.Fill(phiVals[pad]+(sector/9*math.pi),rVals[pad])\n",
    "        \n",
    "reference.Draw(\"COLZ\")\n",
    "canvas.Draw()"
   ]
  },
  {
   "cell_type": "code",
   "execution_count": null,
   "id": "7580be20-eeaf-43d7-b253-c554d919bcd0",
   "metadata": {},
   "outputs": [],
   "source": [
    "%jsroot on\n",
    "canvas = ROOT.TCanvas()\n",
    "hist = ROOT.TH2F(\"coords\",\"coords\",100,-200,200,100,-200,200)\n",
    "for i,padVal in enumerate(nClusters.getData()[0].getData()):\n",
    "    hist.Fill(coords[i][0],coords[i][1],padVal)\n",
    "hist.Draw(\"COLZ\")\n",
    "canvas.Draw()"
   ]
  },
  {
   "cell_type": "code",
   "execution_count": null,
   "id": "0c753a4c-e004-4d17-8d8d-880c18e57c85",
   "metadata": {},
   "outputs": [],
   "source": [
    "nClusters.getData()[0].getValue()"
   ]
  },
  {
   "cell_type": "code",
   "execution_count": null,
   "id": "7a474c1e-d42c-41cf-9534-197e5e417e3b",
   "metadata": {},
   "outputs": [],
   "source": [
    "mapper = ROOT.o2.tpc.Mapper.instance()"
   ]
  },
  {
   "cell_type": "code",
   "execution_count": null,
   "id": "a94ebfd7-bbec-48de-a28b-c2e3a6bb0e42",
   "metadata": {},
   "outputs": [],
   "source": [
    "mapper.getNumberOfPadsInRowSector(500)"
   ]
  },
  {
   "cell_type": "code",
   "execution_count": null,
   "id": "9b16a56e-f9a9-4c90-b792-63bbfa70624d",
   "metadata": {},
   "outputs": [],
   "source": [
    "pads = 0\n",
    "for row in range(mapper.getNumberOfRowsInIROC()):\n",
    "    #for sector in range(18):\n",
    "    pads += mapper.getNumberOfPadsInRowSector(row)\n",
    "pads"
   ]
  },
  {
   "cell_type": "code",
   "execution_count": null,
   "id": "df174bb7-ec7d-41d1-b310-f4a08bbbc044",
   "metadata": {},
   "outputs": [],
   "source": []
  }
 ],
 "metadata": {
  "kernelspec": {
   "display_name": "Python 3 (ipykernel)",
   "language": "python",
   "name": "python3"
  },
  "language_info": {
   "codemirror_mode": {
    "name": "ipython",
    "version": 3
   },
   "file_extension": ".py",
   "mimetype": "text/x-python",
   "name": "python",
   "nbconvert_exporter": "python",
   "pygments_lexer": "ipython3",
   "version": "3.9.16"
  }
 },
 "nbformat": 4,
 "nbformat_minor": 5
}
