{
 "cells": [
  {
   "cell_type": "code",
   "execution_count": null,
   "id": "f77f08d7",
   "metadata": {},
   "outputs": [],
   "source": [
    "%%capture\n",
    "import ROOT\n",
    "import glob\n",
    "import math\n",
    "import numpy as np\n",
    "from IPython.display import display, Markdown\n",
    "from IPython.display import display, HTML\n",
    "from TPCQCVis.src.drawHistograms import *\n",
    "from TPCQCVis.src.drawTrending import *\n",
    "from TPCQCVis.src.checkHistograms import *\n",
    "from TPCQCVis.src.emptyClustersChecker import *\n",
    "from TPCQCVis.src.utility import *\n",
    "from copy import copy\n",
    "ROOT.gErrorIgnoreLevel = ROOT.kError"
   ]
  },
  {
   "cell_type": "code",
   "execution_count": null,
   "id": "9ea3a6a4",
   "metadata": {},
   "outputs": [],
   "source": [
    "%jsroot on\n",
    "display(HTML(\"<style>.container { width:95% !important; }</style>\"))\n",
    "display(HTML(\"<style>table {float:left;}</style>\"))"
   ]
  },
  {
   "cell_type": "code",
   "execution_count": null,
   "id": "cea2524a",
   "metadata": {},
   "outputs": [],
   "source": [
    "# Notebook variables\n",
    "path = \"/cave/alice-tpc-qc/data/2023\"\n",
    "periodName = \"LHC23zzm\"\n",
    "passName = \"cpass0\"\n",
    "runNumber = 544652\n",
    "\n",
    "\n",
    "# Read QC root file\n",
    "rootDataFile=[]\n",
    "rootDataFile.append(ROOT.TFile.Open(path+\"/\"+periodName+\"/\"+passName+\"/\"+str(runNumber)+\"_QC.root\",\"READ\"))"
   ]
  },
  {
   "cell_type": "code",
   "execution_count": null,
   "id": "e9940d3e",
   "metadata": {},
   "outputs": [],
   "source": [
    "objectName = \"c_N_Clusters\"\n",
    "if checkIfExists(rootDataFile,objectName):\n",
    "    c = rootDataFile[0].ClusterQC.Get(objectName)\n",
    "    outliers,centers,hulls =  detectOutlierRegions(c,avvalue=0.6)\n",
    "    c.Draw()"
   ]
  }
 ],
 "metadata": {
  "kernelspec": {
   "display_name": "Python 3 (ipykernel)",
   "language": "python",
   "name": "python3"
  },
  "language_info": {
   "codemirror_mode": {
    "name": "ipython",
    "version": 3
   },
   "file_extension": ".py",
   "mimetype": "text/x-python",
   "name": "python",
   "nbconvert_exporter": "python",
   "pygments_lexer": "ipython3",
   "version": "3.9.16"
  }
 },
 "nbformat": 4,
 "nbformat_minor": 5
}
