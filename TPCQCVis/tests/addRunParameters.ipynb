{
 "cells": [
  {
   "cell_type": "markdown",
   "id": "3fcffabf",
   "metadata": {
    "toc": true
   },
   "source": [
    "<h1>Table of Contents<span class=\"tocSkip\"></span></h1>\n",
    "<div class=\"toc\"><ul class=\"toc-item\"></ul></div>"
   ]
  },
  {
   "cell_type": "code",
   "execution_count": null,
   "id": "8144bc1d",
   "metadata": {},
   "outputs": [],
   "source": [
    "%%capture\n",
    "import ROOT\n",
    "import glob\n",
    "import math\n",
    "import numpy as np\n",
    "from IPython.display import display, Markdown, HTML\n",
    "import ipywidgets as widgets\n",
    "from TPCQCVis.src.drawHistograms import *\n",
    "from TPCQCVis.src.drawTrending import *\n",
    "from TPCQCVis.src.checkHistograms import *\n",
    "from TPCQCVis.src.drawBetheBloch import *\n",
    "from array import array\n",
    "import matplotlib.pyplot as plt"
   ]
  },
  {
   "cell_type": "code",
   "execution_count": null,
   "id": "1636ad60",
   "metadata": {},
   "outputs": [],
   "source": [
    "display(HTML(\"<style>.container { width:95% !important; }</style>\"))\n",
    "display(HTML(\"<style>table {float:left;}</style>\"))"
   ]
  },
  {
   "cell_type": "code",
   "execution_count": null,
   "id": "8a2d9e4a-db2c-4af0-b67d-3dff189b4bd5",
   "metadata": {},
   "outputs": [],
   "source": [
    "runExists = False\n",
    "api = ROOT.o2.ccdb.CcdbApi()\n",
    "api.init(\"alice-ccdb.cern.ch\")\n",
    "headers = api.retrieveHeaders(\"RCT/Info/RunInformation\",[],536774)\n",
    "if not headers.find(\"SOR\").first == \"\" : runExists = True\n",
    "if runExists:\n",
    "    timestamp = int(headers.find(\"SOR\").second)\n",
    "    ROOT.gInterpreter.ProcessLine(\"std::map<std::string, std::string> metadata;\")\n",
    "    ROOT.gInterpreter.ProcessLine('api.retrieveFromTFileAny(\"RCT/Info/RunInformation\",metadata,timestamp);')\n",
    "    api.retrieveFromTFileAny(\"RCT/Info/RunInformation\",ROOT.metadata,timestamp)"
   ]
  },
  {
   "cell_type": "code",
   "execution_count": null,
   "id": "b566e522",
   "metadata": {},
   "outputs": [],
   "source": [
    "import os\n",
    "os.system('o2-calibration-get-run-parameters -r 523308')"
   ]
  },
  {
   "cell_type": "code",
   "execution_count": null,
   "id": "a0a5b215",
   "metadata": {},
   "outputs": [],
   "source": [
    "with open('IR.txt') as f:\n",
    "    lines = f.readlines()\n",
    "IR  = array('d',[float(lines[0])])\n",
    "with open('Duration.txt') as f:\n",
    "    lines = f.readlines()\n",
    "Duration = array('d',[float(lines[0])])\n",
    "with open('BField.txt') as f:\n",
    "    lines = f.readlines()\n",
    "BField = array('d',[float(lines[0])])"
   ]
  },
  {
   "cell_type": "code",
   "execution_count": null,
   "id": "c22908a8",
   "metadata": {},
   "outputs": [],
   "source": [
    "output = ROOT.TFile(\"526886_QC.root\",\"update\")\n",
    "#directory = ROOT.TDirectory(\"RunParameters\",\"RunParameters\")\n",
    "tree = ROOT.TTree(\"RunParameters\",\"RunParameters\")\n",
    "tree.Branch(\"IR\",  IR,  'IR/D')\n",
    "tree.Branch(\"Duration\",  Duration,  'Duration/D')\n",
    "tree.Branch(\"BField\",  BField,  'BField/D')\n",
    "tree.Fill()\n",
    "output.Write()"
   ]
  },
  {
   "cell_type": "code",
   "execution_count": null,
   "id": "f0339322",
   "metadata": {},
   "outputs": [],
   "source": []
  },
  {
   "cell_type": "code",
   "execution_count": null,
   "id": "064ac796",
   "metadata": {},
   "outputs": [],
   "source": []
  }
 ],
 "metadata": {
  "celltoolbar": "Slideshow",
  "kernelspec": {
   "display_name": "Python 3 (ipykernel)",
   "language": "python",
   "name": "python3"
  },
  "language_info": {
   "codemirror_mode": {
    "name": "ipython",
    "version": 3
   },
   "file_extension": ".py",
   "mimetype": "text/x-python",
   "name": "python",
   "nbconvert_exporter": "python",
   "pygments_lexer": "ipython3",
   "version": "3.9.16"
  },
  "toc": {
   "base_numbering": 1,
   "nav_menu": {},
   "number_sections": false,
   "sideBar": false,
   "skip_h1_title": true,
   "title_cell": "Table of Contents",
   "title_sidebar": "Contents",
   "toc_cell": true,
   "toc_position": {},
   "toc_section_display": true,
   "toc_window_display": false
  }
 },
 "nbformat": 4,
 "nbformat_minor": 5
}
