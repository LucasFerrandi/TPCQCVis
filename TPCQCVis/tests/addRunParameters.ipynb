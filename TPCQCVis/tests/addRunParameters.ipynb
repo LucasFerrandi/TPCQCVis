{
 "cells": [
  {
   "cell_type": "markdown",
   "id": "3fcffabf",
   "metadata": {
    "toc": true
   },
   "source": [
    "<h1>Table of Contents<span class=\"tocSkip\"></span></h1>\n",
    "<div class=\"toc\"><ul class=\"toc-item\"></ul></div>"
   ]
  },
  {
   "cell_type": "code",
   "execution_count": 1,
   "id": "8144bc1d",
   "metadata": {},
   "outputs": [],
   "source": [
    "%%capture\n",
    "import ROOT\n",
    "import glob\n",
    "import math\n",
    "import numpy as np\n",
    "from IPython.display import display, Markdown, HTML\n",
    "import ipywidgets as widgets\n",
    "from TPCQCVis.src.drawHistograms import *\n",
    "from TPCQCVis.src.drawTrending import *\n",
    "from TPCQCVis.src.checkHistograms import *\n",
    "from TPCQCVis.src.drawBetheBloch import *\n",
    "from array import array\n",
    "import matplotlib.pyplot as plt"
   ]
  },
  {
   "cell_type": "code",
   "execution_count": 2,
   "id": "1636ad60",
   "metadata": {},
   "outputs": [
    {
     "data": {
      "text/html": [
       "<style>.container { width:95% !important; }</style>"
      ],
      "text/plain": [
       "<IPython.core.display.HTML object>"
      ]
     },
     "metadata": {},
     "output_type": "display_data"
    },
    {
     "data": {
      "text/html": [
       "<style>table {float:left;}</style>"
      ],
      "text/plain": [
       "<IPython.core.display.HTML object>"
      ]
     },
     "metadata": {},
     "output_type": "display_data"
    }
   ],
   "source": [
    "display(HTML(\"<style>.container { width:95% !important; }</style>\"))\n",
    "display(HTML(\"<style>table {float:left;}</style>\"))"
   ]
  },
  {
   "cell_type": "code",
   "execution_count": 3,
   "id": "b566e522",
   "metadata": {},
   "outputs": [
    {
     "data": {
      "text/plain": [
       "0"
      ]
     },
     "execution_count": 3,
     "metadata": {},
     "output_type": "execute_result"
    },
    {
     "name": "stdout",
     "output_type": "stream",
     "text": [
      "[INFO] Init CcdApi with UserAgentID: biollante-1684772735-rpA1xl, Host: http://alice-ccdb.cern.ch/\n",
      "[INFO] Init CcdApi with UserAgentID: biollante-1684772735-rpA1xl, Host: https://alice-ccdb.cern.ch\n",
      "[INFO] tsSOR = 1660430519564 ms, tsEOR = 1660434505397 ms\n",
      "[INFO] Getting B field\n",
      "DN >>> C=ch/O=AliEn2/CN=Users/CN=bulukutl/OU=bulukutl\n",
      "ISSUER >>> C=ch/O=AliEn2/CN=AliEn CA\n",
      "BEGIN >>> 2023-05-19 09:20:41\n",
      "EXPIRE >>> 2023-06-19 11:20:41\n",
      "[INFO] ccdb reads https://alice-ccdb.cern.ch/GLO/Config/GRPMagField/1660136402191/58d24d86-18ac-11ed-8002-0aa1229c1b9a for 1660430519564 (retrieve, agent_id: biollante-1684772735-rpA1xl), \n",
      "[INFO] run 523308: B field = -29999.936\n",
      "[INFO] Checking IR and duration\n",
      "[INFO] ccdb reads https://alice-ccdb.cern.ch/CTP/Calib/Scalers/1660429919693/6e05f854-1b62-11ed-8002-0aa140651b9a for 1660430519564 (retrieve, agent_id: biollante-1684772735-rpA1xl), \n",
      "[ERROR] L1B > L0A Before error:1\n",
      "[ERROR] L1B > L0A Before error:1\n",
      "[ERROR] LMA > LMB error:1\n",
      "[ERROR] LMA > LMB error:1\n",
      "Counter errorrs: lmB:0 l0B:0 l1B:0 lmA:0 l0A:0 l1A:0 lmBlmA:5 lmAl0B:0 l0Bl0A:0 l0Al1B: 175 l1Bl1A:0\n",
      "[INFO] run 523308: orbit.front = 999230767 orbit.back = 1043479536 duration = 3935 s scalers = 1918096658 IR = 487445.16 Hz\n",
      "[INFO] IR > 100 kHz\n"
     ]
    },
    {
     "name": "stderr",
     "output_type": "stream",
     "text": [
      "Info in <TJAlienConnectionManager>: Opening connection to JCentral. Please wait\n",
      "Info in <TJAlienConnectionManager>: Opening connection to 137.138.99.170\n",
      "Info in <TJAlienConnectionManager>: Successfully connected to 137.138.99.170\n",
      "Info in <TJAlienFile::Open>: Accessing file /alice/data/CCDB/GLO/Config/GRPMagField/14/44155/58d24d86-18ac-11ed-8002-0aa1229c1b9a in SE <ALICE::UPB::EOS>\n",
      "Info in <TJAlienFile::Open>: Accessing file /alice/data/CCDB/CTP/Calib/Scalers/07/33595/6e05f854-1b62-11ed-8002-0aa140651b9a in SE <ALICE::UPB::EOS>\n"
     ]
    }
   ],
   "source": [
    "import os\n",
    "os.system('o2-calibration-get-run-parameters -r 523308')"
   ]
  },
  {
   "cell_type": "code",
   "execution_count": 23,
   "id": "a0a5b215",
   "metadata": {},
   "outputs": [],
   "source": [
    "with open('IR.txt') as f:\n",
    "    lines = f.readlines()\n",
    "IR  = array('d',[float(lines[0])])\n",
    "with open('Duration.txt') as f:\n",
    "    lines = f.readlines()\n",
    "Duration = array('d',[float(lines[0])])\n",
    "with open('BField.txt') as f:\n",
    "    lines = f.readlines()\n",
    "BField = array('d',[float(lines[0])])"
   ]
  },
  {
   "cell_type": "code",
   "execution_count": 54,
   "id": "c22908a8",
   "metadata": {},
   "outputs": [
    {
     "data": {
      "text/plain": [
       "568"
      ]
     },
     "execution_count": 54,
     "metadata": {},
     "output_type": "execute_result"
    }
   ],
   "source": [
    "output = ROOT.TFile(\"526886_QC.root\",\"update\")\n",
    "#directory = ROOT.TDirectory(\"RunParameters\",\"RunParameters\")\n",
    "tree = ROOT.TTree(\"RunParameters\",\"RunParameters\")\n",
    "tree.Branch(\"IR\",  IR,  'IR/D')\n",
    "tree.Branch(\"Duration\",  Duration,  'Duration/D')\n",
    "tree.Branch(\"BField\",  BField,  'BField/D')\n",
    "tree.Fill()\n",
    "output.Write()"
   ]
  },
  {
   "cell_type": "code",
   "execution_count": 37,
   "id": "f0339322",
   "metadata": {},
   "outputs": [
    {
     "ename": "AttributeError",
     "evalue": "'CPyCppyy_NoneType' object has no attribute 'Write'",
     "output_type": "error",
     "traceback": [
      "\u001b[0;31m---------------------------------------------------------------------------\u001b[0m",
      "\u001b[0;31mAttributeError\u001b[0m                            Traceback (most recent call last)",
      "\u001b[0;32m<ipython-input-37-e3ce82b34b74>\u001b[0m in \u001b[0;36m<module>\u001b[0;34m\u001b[0m\n\u001b[1;32m      1\u001b[0m \u001b[0moutput\u001b[0m \u001b[0;34m=\u001b[0m \u001b[0mROOT\u001b[0m\u001b[0;34m.\u001b[0m\u001b[0mTFile\u001b[0m\u001b[0;34m(\u001b[0m\u001b[0;34m\"526886_QC.root\"\u001b[0m\u001b[0;34m,\u001b[0m\u001b[0;34m\"update\"\u001b[0m\u001b[0;34m)\u001b[0m\u001b[0;34m\u001b[0m\u001b[0;34m\u001b[0m\u001b[0m\n\u001b[0;32m----> 2\u001b[0;31m \u001b[0mtree\u001b[0m\u001b[0;34m.\u001b[0m\u001b[0mWrite\u001b[0m\u001b[0;34m(\u001b[0m\u001b[0;34m)\u001b[0m\u001b[0;34m\u001b[0m\u001b[0;34m\u001b[0m\u001b[0m\n\u001b[0m",
      "\u001b[0;31mAttributeError\u001b[0m: 'CPyCppyy_NoneType' object has no attribute 'Write'"
     ]
    }
   ],
   "source": []
  },
  {
   "cell_type": "code",
   "execution_count": null,
   "id": "064ac796",
   "metadata": {},
   "outputs": [],
   "source": []
  }
 ],
 "metadata": {
  "celltoolbar": "Slideshow",
  "kernelspec": {
   "display_name": "Python 3 (ipykernel)",
   "language": "python",
   "name": "python3"
  },
  "language_info": {
   "codemirror_mode": {
    "name": "ipython",
    "version": 3
   },
   "file_extension": ".py",
   "mimetype": "text/x-python",
   "name": "python",
   "nbconvert_exporter": "python",
   "pygments_lexer": "ipython3",
   "version": "3.9.12"
  },
  "toc": {
   "base_numbering": 1,
   "nav_menu": {},
   "number_sections": false,
   "sideBar": false,
   "skip_h1_title": true,
   "title_cell": "Table of Contents",
   "title_sidebar": "Contents",
   "toc_cell": true,
   "toc_position": {},
   "toc_section_display": true,
   "toc_window_display": false
  }
 },
 "nbformat": 4,
 "nbformat_minor": 5
}
