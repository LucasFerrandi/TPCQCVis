{
 "cells": [
  {
   "cell_type": "code",
   "execution_count": 8,
   "metadata": {},
   "outputs": [],
   "source": [
    "import ROOT\n",
    "from TPCQCVis.tools.drawTHn import *"
   ]
  },
  {
   "cell_type": "code",
   "execution_count": 9,
   "metadata": {},
   "outputs": [],
   "source": [
    "rootDataFile = ROOT.TFile.Open(\"../../data/examples/THn/hNdPID.root\",\"READ\")\n",
    "expertTHn = rootDataFile.ExpertVis.Get(\"ExpertVis;1\")"
   ]
  },
  {
   "cell_type": "code",
   "execution_count": 10,
   "metadata": {},
   "outputs": [
    {
     "name": "stdout",
     "output_type": "stream",
     "text": [
      "['P', 'dEdxTot', 'dEdxMax', 'Phi', 'Tgl', 'Snp', 'NClusters', 'Sign']\n"
     ]
    }
   ],
   "source": [
    "listTHnOptions(expertTHn)"
   ]
  },
  {
   "cell_type": "code",
   "execution_count": 4,
   "metadata": {},
   "outputs": [
    {
     "data": {
      "text/html": [
       "\n",
       "\n",
       "<div id=\"root_plot_1653338916497\"\n",
       "     style=\"width: 796px; height: 572px\">\n",
       "</div>\n",
       "<script>\n",
       "\n",
       "function display_root_plot_1653338916497(Core) {\n",
       "   let obj = Core.parse({\"_typename\":\"TCanvas\",\"fUniqueID\":0,\"fBits\":3342344,\"fLineColor\":1,\"fLineStyle\":1,\"fLineWidth\":1,\"fFillColor\":0,\"fFillStyle\":1001,\"fLeftMargin\":0.1,\"fRightMargin\":0.1,\"fBottomMargin\":0.1,\"fTopMargin\":0.1,\"fXfile\":2,\"fYfile\":2,\"fAfile\":1,\"fXstat\":0.99,\"fYstat\":0.99,\"fAstat\":2,\"fFrameFillColor\":0,\"fFrameLineColor\":1,\"fFrameFillStyle\":1001,\"fFrameLineStyle\":1,\"fFrameLineWidth\":1,\"fFrameBorderSize\":1,\"fFrameBorderMode\":0,\"fX1\":-0.787500058673326,\"fY1\":-1.50000002235174,\"fX2\":7.08750005867333,\"fY2\":1.50000002235174,\"fXtoAbsPixelk\":79.6000547445299,\"fXtoPixelk\":79.6000547445299,\"fXtoPixel\":101.079363573165,\"fYtoAbsPixelk\":286.00005,\"fYtoPixelk\":286.00005,\"fYtoPixel\":-190.666663825512,\"fUtoAbsPixelk\":5e-5,\"fUtoPixelk\":5e-5,\"fUtoPixel\":796,\"fVtoAbsPixelk\":572.00005,\"fVtoPixelk\":572,\"fVtoPixel\":-572,\"fAbsPixeltoXk\":-0.787500058673326,\"fPixeltoXk\":-0.787500058673326,\"fPixeltoX\":0.00989321622782243,\"fAbsPixeltoYk\":1.50000002235174,\"fPixeltoYk\":-1.50000002235174,\"fPixeltoY\":-0.00524475532290819,\"fXlowNDC\":0,\"fYlowNDC\":0,\"fXUpNDC\":1,\"fYUpNDC\":1,\"fWNDC\":1,\"fHNDC\":1,\"fAbsXlowNDC\":0,\"fAbsYlowNDC\":0,\"fAbsWNDC\":1,\"fAbsHNDC\":1,\"fUxmin\":0,\"fUymin\":-1.2,\"fUxmax\":6.3,\"fUymax\":1.2,\"fTheta\":30,\"fPhi\":30,\"fAspectRatio\":0,\"fNumber\":0,\"fTickx\":0,\"fTicky\":0,\"fLogx\":0,\"fLogy\":0,\"fLogz\":0,\"fPadPaint\":0,\"fCrosshair\":0,\"fCrosshairPos\":0,\"fBorderSize\":2,\"fBorderMode\":0,\"fModified\":false,\"fGridx\":false,\"fGridy\":false,\"fAbsCoord\":false,\"fEditable\":true,\"fFixedAspectRatio\":false,\"fPrimitives\":{\"_typename\":\"TList\",\"name\":\"TList\",\"arr\":[{\"_typename\":\"TFrame\",\"fUniqueID\":0,\"fBits\":8,\"fLineColor\":1,\"fLineStyle\":1,\"fLineWidth\":1,\"fFillColor\":0,\"fFillStyle\":1001,\"fX1\":0,\"fY1\":-1.2,\"fX2\":6.3,\"fY2\":1.2,\"fBorderSize\":1,\"fBorderMode\":0},{\"_typename\":\"TH2D\",\"fUniqueID\":0,\"fBits\":8,\"fName\":\"hNdPid_proj_3_4\",\"fTitle\":\"Sprase Nd ExpertVis histogram for PID variables projection PhiTgl\",\"fLineColor\":602,\"fLineStyle\":1,\"fLineWidth\":1,\"fFillColor\":0,\"fFillStyle\":1001,\"fMarkerColor\":1,\"fMarkerStyle\":1,\"fMarkerSize\":1,\"fNcells\":1924,\"fXaxis\":{\"_typename\":\"TAxis\",\"fUniqueID\":0,\"fBits\":0,\"fName\":\"xaxis\",\"fTitle\":\"Phi\",\"fNdivisions\":510,\"fAxisColor\":1,\"fLabelColor\":1,\"fLabelFont\":42,\"fLabelOffset\":0.005,\"fLabelSize\":0.035,\"fTickLength\":0.03,\"fTitleOffset\":1,\"fTitleSize\":0.035,\"fTitleColor\":1,\"fTitleFont\":42,\"fNbins\":72,\"fXmin\":0,\"fXmax\":6.3,\"fXbins\":[],\"fFirst\":0,\"fLast\":0,\"fBits2\":0,\"fTimeDisplay\":false,\"fTimeFormat\":\"\",\"fLabels\":null,\"fModLabs\":null},\"fYaxis\":{\"_typename\":\"TAxis\",\"fUniqueID\":0,\"fBits\":0,\"fName\":\"yaxis\",\"fTitle\":\"Tgl\",\"fNdivisions\":510,\"fAxisColor\":1,\"fLabelColor\":1,\"fLabelFont\":42,\"fLabelOffset\":0.005,\"fLabelSize\":0.035,\"fTickLength\":0.03,\"fTitleOffset\":0,\"fTitleSize\":0.035,\"fTitleColor\":1,\"fTitleFont\":42,\"fNbins\":24,\"fXmin\":-1.2,\"fXmax\":1.2,\"fXbins\":[],\"fFirst\":0,\"fLast\":0,\"fBits2\":0,\"fTimeDisplay\":false,\"fTimeFormat\":\"\",\"fLabels\":null,\"fModLabs\":null},\"fZaxis\":{\"_typename\":\"TAxis\",\"fUniqueID\":0,\"fBits\":0,\"fName\":\"zaxis\",\"fTitle\":\"Counts\",\"fNdivisions\":510,\"fAxisColor\":1,\"fLabelColor\":1,\"fLabelFont\":42,\"fLabelOffset\":0.005,\"fLabelSize\":0.035,\"fTickLength\":0.03,\"fTitleOffset\":1,\"fTitleSize\":0.035,\"fTitleColor\":1,\"fTitleFont\":42,\"fNbins\":1,\"fXmin\":0,\"fXmax\":1,\"fXbins\":[],\"fFirst\":0,\"fLast\":0,\"fBits2\":0,\"fTimeDisplay\":false,\"fTimeFormat\":\"\",\"fLabels\":null,\"fModLabs\":null},\"fBarOffset\":0,\"fBarWidth\":1000,\"fEntries\":4049750,\"fTsumw\":0,\"fTsumw2\":0,\"fTsumwx\":0,\"fTsumwx2\":0,\"fMaximum\":-1111,\"fMinimum\":-1111,\"fNormFactor\":0,\"fContour\":{\"$arr\":\"Float64\",\"len\":20,\"v\":[287,659.7,1032.4,1405.1,1777.8,2150.5,2523.2,2895.9,3268.6,3641.3,4014,4386.7,4759.4,5132.1,5504.8,5877.5,6250.2,6622.9,6995.6,7368.3]},\"fSumw2\":[],\"fOption\":\"\",\"fFunctions\":{\"_typename\":\"TList\",\"name\":\"TList\",\"arr\":[{\"_typename\":\"TPaletteAxis\",\"fUniqueID\":0,\"fBits\":0,\"fLineColor\":1,\"fLineStyle\":1,\"fLineWidth\":1,\"fFillColor\":1178,\"fFillStyle\":1001,\"fX1\":6.33937500058673,\"fY1\":-1.2,\"fX2\":6.69375000586733,\"fY2\":1.2,\"fX1NDC\":0.904999994039535,\"fY1NDC\":0.100000005960465,\"fX2NDC\":0.949999994039535,\"fY2NDC\":0.899999994039535,\"fBorderSize\":4,\"fInit\":1,\"fShadowColor\":1,\"fCornerRadius\":0,\"fOption\":\"br\",\"fName\":\"palette\",\"fAxis\":{\"_typename\":\"TGaxis\",\"fUniqueID\":0,\"fBits\":0,\"fLineColor\":1,\"fLineStyle\":1,\"fLineWidth\":1,\"fX1\":0,\"fY1\":0,\"fX2\":0,\"fY2\":0,\"fTextAngle\":0,\"fTextSize\":0.04,\"fTextAlign\":11,\"fTextColor\":1,\"fTextFont\":42,\"fWmin\":0,\"fWmax\":0,\"fGridLength\":0,\"fTickSize\":0.03,\"fLabelOffset\":0.005,\"fLabelSize\":0.035,\"fTitleOffset\":1,\"fTitleSize\":0.035,\"fNdiv\":0,\"fLabelColor\":1,\"fLabelFont\":42,\"fNModLabs\":0,\"fChopt\":\"\",\"fName\":\"\",\"fTitle\":\"Counts\",\"fTimeFormat\":\"\",\"fFunctionName\":\"\",\"fModLabs\":null}},{\"_typename\":\"TPaveStats\",\"fUniqueID\":0,\"fBits\":9,\"fLineColor\":1,\"fLineStyle\":1,\"fLineWidth\":1,\"fFillColor\":0,\"fFillStyle\":1001,\"fX1\":5.35500015959144,\"fY1\":0.585000031962992,\"fX2\":6.9300002065301,\"fY2\":1.30500002659857,\"fX1NDC\":0.780000016093254,\"fY1NDC\":0.695000007748604,\"fX2NDC\":0.980000019073486,\"fY2NDC\":0.935000002384186,\"fBorderSize\":1,\"fInit\":1,\"fShadowColor\":1,\"fCornerRadius\":0,\"fOption\":\"brNDC\",\"fName\":\"stats\",\"fTextAngle\":0,\"fTextSize\":0,\"fTextAlign\":12,\"fTextColor\":1,\"fTextFont\":42,\"fLabel\":\"\",\"fLongest\":19,\"fMargin\":0.05,\"fLines\":{\"_typename\":\"TList\",\"name\":\"TList\",\"arr\":[{\"_typename\":\"TLatex\",\"fUniqueID\":0,\"fBits\":0,\"fName\":\"\",\"fTitle\":\"hNdPid_proj_3_4\",\"fTextAngle\":0,\"fTextSize\":0.0368,\"fTextAlign\":0,\"fTextColor\":0,\"fTextFont\":0,\"fX\":0,\"fY\":0,\"fLineColor\":1,\"fLineStyle\":1,\"fLineWidth\":2,\"fLimitFactorSize\":3,\"fOriginSize\":0.0368000008165836},{\"_typename\":\"TLatex\",\"fUniqueID\":0,\"fBits\":0,\"fName\":\"\",\"fTitle\":\"Entries = 4049750\",\"fTextAngle\":0,\"fTextSize\":0,\"fTextAlign\":0,\"fTextColor\":0,\"fTextFont\":0,\"fX\":0,\"fY\":0,\"fLineColor\":1,\"fLineStyle\":1,\"fLineWidth\":2,\"fLimitFactorSize\":3,\"fOriginSize\":0.04},{\"_typename\":\"TLatex\",\"fUniqueID\":0,\"fBits\":0,\"fName\":\"\",\"fTitle\":\"Mean x =  3.158\",\"fTextAngle\":0,\"fTextSize\":0,\"fTextAlign\":0,\"fTextColor\":0,\"fTextFont\":0,\"fX\":0,\"fY\":0,\"fLineColor\":1,\"fLineStyle\":1,\"fLineWidth\":2,\"fLimitFactorSize\":3,\"fOriginSize\":0.04},{\"_typename\":\"TLatex\",\"fUniqueID\":0,\"fBits\":0,\"fName\":\"\",\"fTitle\":\"Mean y = -6.615e-05\",\"fTextAngle\":0,\"fTextSize\":0,\"fTextAlign\":0,\"fTextColor\":0,\"fTextFont\":0,\"fX\":0,\"fY\":0,\"fLineColor\":1,\"fLineStyle\":1,\"fLineWidth\":2,\"fLimitFactorSize\":3,\"fOriginSize\":0.04},{\"_typename\":\"TLatex\",\"fUniqueID\":0,\"fBits\":0,\"fName\":\"\",\"fTitle\":\"Std Dev x =  1.797\",\"fTextAngle\":0,\"fTextSize\":0,\"fTextAlign\":0,\"fTextColor\":0,\"fTextFont\":0,\"fX\":0,\"fY\":0,\"fLineColor\":1,\"fLineStyle\":1,\"fLineWidth\":2,\"fLimitFactorSize\":3,\"fOriginSize\":0.04},{\"_typename\":\"TLatex\",\"fUniqueID\":0,\"fBits\":0,\"fName\":\"\",\"fTitle\":\"Std Dev y = 0.5401\",\"fTextAngle\":0,\"fTextSize\":0,\"fTextAlign\":0,\"fTextColor\":0,\"fTextFont\":0,\"fX\":0,\"fY\":0,\"fLineColor\":1,\"fLineStyle\":1,\"fLineWidth\":2,\"fLimitFactorSize\":3,\"fOriginSize\":0.04}],\"opt\":[\"\",\"\",\"\",\"\",\"\",\"\"]},\"fOptFit\":0,\"fOptStat\":1111,\"fFitFormat\":\"5.4g\",\"fStatFormat\":\"6.4g\",\"fParent\":{\"$ref\":3}}],\"opt\":[\"br\",\"brNDC\"]},\"fBufferSize\":0,\"fBuffer\":[],\"fBinStatErrOpt\":0,\"fStatOverflows\":2,\"fScalefactor\":1,\"fTsumwy\":0,\"fTsumwy2\":0,\"fTsumwxy\":0,\"fArray\":{\"$arr\":\"Float64\",\"len\":1924,\"p\":75,\"v\":[674,899,658,727,1044,502,802,587,1010,703,1655,1541,893,587,564,618,1206,835,421,1182,894,1041,1012,744,343,1577,1325,476,603,1743,687,1236,851,1491,961,1371,787,974,694,998,1114,702,957,750,1210,898,325,655,1757,867,856,842,1104,422,361,1175,1065,590,741,1095,821,861,594,580,845,1642,713,830,678,942,739,1145,0,0,1810,435,658,1389,1146,1124,1197,1832,640,1432,1837,1702,839,1092,822,981,1276,2143,889,1879,1231,1246,1083,1732,954,1652,1574,870,2512,1072,1093,1977,1436,714,1379,1912,1010,1371,1121,2221,1067,1136,1520,1173,564,1819,2234,652,1393,733,1422,2333,1446,1169,1826,801,851,1019,1451,1877,1214,1007,1591,1154,2596,1631,961,2301,859,2035,1238,1201,0,0,1232,1130,439,2786,1001,2131,1092,1208,2100,1400,1267,1758,2191,2443,892,549,1696,1228,1822,1062,1598,807,670,1194,1343,1200,1154,1047,1237,1832,1547,1470,1545,1788,1939,564,1665,2007,1826,2572,1727,1083,1150,941,925,2507,1593,1198,934,854,1758,1068,1214,1343,1504,973,2853,1480,831,1809,1605,1639,873,1054,1390,415,1185,1189,898,700,742,1160,0,0,1156,1902,1462,1090,1485,1563,1219,580,1202,1699,2539,2000,1205,1769,1240,1760,996,519,1423,1943,2337,1688,1945,916,1320,780,1397,1902,1943,2139,645,2120,1182,1162,2316,1142,1588,849,1209,1072,1004,1742,1201,1196,1198,927,1476,1227,1239,1034,1303,1278,1508,888,769,1234,1809,541,1910,1583,1944,1325,1378,2232,452,1521,1410,1268,1267,831,1920,1339,0,0,1748,1319,1069,2663,1449,1986,745,2171,1603,1454,627,1064,1558,2170,2332,2228,1890,1330,1821,1019,1625,1243,1533,1034,1753,1769,1811,830,906,823,1066,1432,1929,1945,3039,1508,1629,2480,2241,3802,2190,959,867,1994,1428,1544,1871,2475,1623,1783,1721,1887,1410,819,894,2304,1874,838,1980,1824,1160,1946,2555,1357,1544,3219,1989,1644,1405,1255,2283,971,0,0,966,2358,903,1870,2069,2037,1464,1851,1710,2414,2358,1351,1635,903,2295,1594,1619,868,2576,1350,1204,908,2669,1596,2960,3369,2554,2071,1396,523,1238,1826,1923,989,675,1955,1114,2076,1936,2750,1334,2139,2640,1112,2905,2040,2176,1683,1912,2076,795,2092,1052,1249,1380,879,1564,1323,1302,2023,767,1315,1044,2360,2018,2558,1686,2154,797,1446,2616,1879,0,0,2046,1427,1193,1400,1464,2232,1427,2467,2071,2619,2534,2859,1751,1051,1379,2512,2652,1190,1176,1431,1401,1504,2354,1515,1506,1346,1193,3017,1744,1315,1063,1657,1539,1652,1369,2717,2497,1778,3246,1326,2654,2580,2735,2493,2534,2622,2455,1872,2330,1825,2137,1763,2247,1915,2572,2658,2227,2025,1444,2407,1853,1533,896,2381,2040,4150,2417,1812,1791,892,1364,1165,0,0,2536,1606,2628,1942,1868,2139,1164,2685,2589,2415,2023,2662,2846,2549,1321,1428,2198,1243,1638,1332,1931,2975,3194,2190,1633,1312,2684,1520,1588,3993,1759,2276,2012,1284,1536,1863,3698,1843,2551,2152,3604,2790,1740,2080,1541,2632,2101,1827,2266,2066,2007,1878,2538,2169,2740,2326,2706,2620,1595,1488,2283,3047,1512,1644,1844,1816,1780,897,2172,1444,2545,1913,0,0,1754,2109,2192,1776,3235,2006,1193,2582,2153,2824,1943,1789,1929,2285,2655,2421,3047,2172,1635,1444,1720,1991,3429,2249,1384,2048,3054,2263,2372,3763,3482,1748,2983,2309,2415,1736,1754,2788,2197,2353,2932,2151,2536,3485,2372,2352,2548,2783,1774,2548,2659,2656,2789,2288,1694,2899,1931,2831,3523,2712,2368,3477,1911,2634,1683,1720,2153,2550,3725,2431,3778,2351,0,0,2863,3027,2725,3788,3001,2249,2091,2350,3334,2237,2276,5294,2611,3136,4266,3066,3262,2676,2133,2176,2234,2418,3831,2657,2400,4060,3195,3252,3977,2687,2506,3635,3366,2821,2777,2699,3848,2937,2774,2279,3543,3695,2264,3164,3897,3354,4029,3251,2915,2052,3283,3406,2275,2000,4548,2626,2759,3061,4327,3940,2962,2595,2298,2216,2864,2229,3351,3151,2905,3395,4097,2085,0,0,5277,4160,4323,4361,4272,3923,3519,3527,4418,5450,4081,4219,4000,3839,3683,5768,4707,3011,3853,3724,3883,3546,3390,5318,4216,4905,4664,6174,4097,5998,4395,5227,4102,4229,4602,4978,3993,5788,4739,5021,5720,5383,4329,3983,5474,4302,4802,4198,5513,4233,4633,4481,4944,4671,4151,4961,5612,4190,3498,5670,3522,4791,5125,5695,4915,4218,5616,3474,3104,4905,4032,3551,0,0,4563,5556,7309,6078,4795,4537,4668,5029,5890,5996,4876,4405,4574,5516,5391,6553,5310,5435,5621,5510,6254,5309,6129,5241,5572,6157,7117,6197,6355,7741,6573,6356,4673,5875,5130,6623,7149,7422,6681,5097,5328,4759,4734,5507,5612,4823,5672,5232,5892,6143,5485,6005,5596,5623,7190,6486,5083,5147,5255,4554,5054,5247,7719,5690,5185,5649,4944,3931,5458,5173,5414,3333,0,0,6330,7158,5664,4583,4800,5274,6916,6566,5496,4709,5010,5603,4636,4632,4644,4637,6238,5736,6536,5400,5802,5212,4476,5667,5012,5186,5497,5682,7424,4650,4999,6029,5118,4783,5471,6253,5995,5524,5716,5718,5189,7193,6668,4490,6957,6174,6198,5848,7073,6983,6041,7432,6492,5855,6093,5515,7399,6996,5738,5172,5240,6099,5310,5023,5894,6192,5243,5723,4431,6625,5100,5169,0,0,5144,5059,4420,4053,5061,3860,3523,5279,3181,3414,4098,4295,3875,4038,4706,4850,4400,4176,4792,3823,4927,4653,3163,4135,4400,4372,4840,3908,4090,3268,3432,4110,4451,4846,3944,3764,6270,5319,4169,3596,3971,4178,5136,5824,5482,4367,4738,5454,4194,4853,5648,5902,4189,5222,4911,5601,6858,5461,4593,4427,3205,4306,4670,6017,5281,4178,4239,4587,4570,4848,3654,3639,0,0,3737,3134,2844,3014,3367,2370,3525,3003,4047,2863,1894,3714,3333,3475,3951,2410,1909,2979,2319,2639,2869,2402,3572,3443,3526,3841,2872,2128,2765,3284,3605,2889,4160,2800,3165,3823,3099,2224,2381,3284,3844,2673,2413,4235,5074,2402,4053,2563,4186,3388,2807,3470,2624,2798,3721,2979,2876,2028,3536,2859,3655,2700,2553,2908,3036,3872,3039,2490,3115,3927,2392,2539,0,0,2613,2125,2235,2223,3157,1433,3182,2996,1781,2223,1934,2275,2193,3042,2054,2176,1860,2175,2557,2790,3002,2054,3710,3423,2693,1857,2459,2466,2809,2023,2558,2966,2743,3835,2383,1910,2007,1959,2143,2341,2857,3090,2646,2206,2134,2204,2720,2362,2211,2442,2328,2323,3671,2056,2799,1476,2844,1752,2734,2696,2202,2334,2767,2170,3156,3711,2609,1261,1398,2348,2028,2634,0,0,2689,2278,2576,1728,1421,1442,1930,2444,2036,2126,3172,2720,1040,2580,2356,1888,1797,3105,2011,2100,2137,2161,1810,2242,1267,2422,2691,2069,3236,2720,1972,2216,2009,2168,1973,1763,2405,1503,1438,1690,1636,1486,2029,1303,2069,2220,1404,851,2291,1304,1335,1245,2437,1644,2223,2056,826,2494,1708,2356,1203,2139,2777,1447,2532,2556,3922,2179,1687,1123,2442,1626,0,0,1566,1763,2569,2299,1013,1461,1764,865,2021,3019,1091,1359,864,1375,1581,1441,2257,2275,2394,1547,4146,1431,1516,2174,1391,2617,2054,2331,2195,1483,2403,2536,3321,2065,2322,1359,1948,1787,1558,1806,2406,906,1735,2497,2402,1572,1825,1862,1929,1333,1792,901,2150,2724,717,2043,1301,2157,1061,2195,1483,1878,1390,2512,2574,1888,1712,1364,1289,1128,2961,1137,0,0,786,810,3289,1310,939,1695,839,892,2341,2015,2110,1154,1597,938,1321,1365,2318,2277,2401,2429,1698,1596,2785,1779,2422,1912,1486,2752,3747,1896,1750,580,2249,2259,1307,1935,2729,2523,1834,1433,1622,1629,3700,1682,2004,2041,1113,1455,2391,1319,1117,1870,1302,1442,2140,2184,1697,1931,1669,867,1179,902,2598,1895,1176,2584,2006,2698,916,2951,1828,916,0,0,839,1779,2549,1443,1551,1269,1797,954,1486,1262,1145,1360,1005,1211,1344,1700,1167,2061,1243,2004,1904,2518,2343,1217,2247,2199,1654,1921,1426,1602,1190,1343,2665,672,1416,983,2580,3157,1785,2762,1302,2941,641,1232,2375,997,1560,1684,1961,3063,1875,1947,930,2078,1912,1287,1155,2247,1304,1310,1027,1721,1934,728,1258,1090,787,1665,1603,1408,1842,1727,0,0,1253,2795,2147,796,779,1488,1527,1603,1942,1132,2648,1277,1043,577,973,1274,1916,1159,1334,1186,1565,1187,1253,1372,2295,1733,1156,1467,3132,1690,1772,1160,680,529,1071,1570,1935,1786,2337,2099,2630,1243,1211,2311,803,1162,1295,2441,1867,733,895,784,637,721,1479,2170,1629,1155,2143,1276,1318,2130,1148,1115,2251,1061,1027,2193,1100,1486,917,1812,0,0,1667,1467,2646,1498,1944,2009,1565,1645,2470,1442,1485,1588,2626,1786,1477,657,2256,1722,731,949,1762,1164,1824,713,936,1355,1318,1547,1204,703,1233,808,1222,888,1083,1274,2075,1534,1245,1372,2566,1101,1810,722,620,754,2344,2429,1779,730,1730,1279,505,1009,893,2512,1134,1201,1223,1101,1552,1580,1764,1210,636,940,1744,1755,1480,1149,1175,1568,0,0,959,809,1358,1425,1254,1133,1455,1209,1449,704,1282,1059,2900,1029,1076,2658,1428,2315,1161,828,2093,1477,1414,1572,1230,654,1272,830,1018,932,1466,2315,1011,1014,381,2620,1682,1568,1102,1012,617,1007,2025,1981,1871,664,1297,1765,1011,339,1095,1628,1164,1161,917,1563,409,1717,1419,1990,703,732,1263,1171,775,884,1477,2160,1731,1181,1408,807,0,0,862,840,583,722,1121,811,754,538,1220,780,421,740,1217,1412,829,1381,777,518,587,858,884,911,1227,2064,419,832,816,902,848,1477,566,842,953,1467,752,1068,716,1086,669,725,733,720,930,1213,1025,542,653,1066,979,363,606,342,1150,947,1225,1375,821,846,375,897,412,1262,287,624,401,831,464,644,498,855,1526,466]}},{\"_typename\":\"TPaveText\",\"fUniqueID\":0,\"fBits\":9,\"fLineColor\":1,\"fLineStyle\":1,\"fLineWidth\":1,\"fFillColor\":0,\"fFillStyle\":0,\"fX1\":0.393749958928672,\"fY1\":1.30248255119614,\"fX2\":5.90625004107133,\"fY2\":1.48500003643334,\"fX1NDC\":0.15,\"fY1NDC\":0.934160843929211,\"fX2NDC\":0.85,\"fY2NDC\":0.995000004768372,\"fBorderSize\":0,\"fInit\":1,\"fShadowColor\":1,\"fCornerRadius\":0,\"fOption\":\"blNDC\",\"fName\":\"title\",\"fTextAngle\":0,\"fTextSize\":0,\"fTextAlign\":22,\"fTextColor\":1,\"fTextFont\":42,\"fLabel\":\"\",\"fLongest\":65,\"fMargin\":0.05,\"fLines\":{\"_typename\":\"TList\",\"name\":\"TList\",\"arr\":[{\"_typename\":\"TLatex\",\"fUniqueID\":0,\"fBits\":0,\"fName\":\"\",\"fTitle\":\"Sprase Nd ExpertVis histogram for PID variables projection PhiTgl\",\"fTextAngle\":0,\"fTextSize\":0,\"fTextAlign\":0,\"fTextColor\":0,\"fTextFont\":0,\"fX\":0,\"fY\":0,\"fLineColor\":1,\"fLineStyle\":1,\"fLineWidth\":2,\"fLimitFactorSize\":3,\"fOriginSize\":0.0517132878303528}],\"opt\":[\"\"]}},{\"_typename\":\"TStyle\",\"fUniqueID\":0,\"fBits\":0,\"fName\":\"Modern\",\"fTitle\":\"Modern Style\",\"fLineColor\":1,\"fLineStyle\":1,\"fLineWidth\":1,\"fFillColor\":19,\"fFillStyle\":1001,\"fMarkerColor\":1,\"fMarkerStyle\":1,\"fMarkerSize\":1,\"fTextAngle\":0,\"fTextSize\":0.05,\"fTextAlign\":11,\"fTextColor\":1,\"fTextFont\":62,\"fXaxis\":{\"_typename\":\"TAttAxis\",\"fNdivisions\":510,\"fAxisColor\":1,\"fLabelColor\":1,\"fLabelFont\":42,\"fLabelOffset\":0.005,\"fLabelSize\":0.035,\"fTickLength\":0.03,\"fTitleOffset\":1,\"fTitleSize\":0.035,\"fTitleColor\":1,\"fTitleFont\":42},\"fYaxis\":{\"_typename\":\"TAttAxis\",\"fNdivisions\":510,\"fAxisColor\":1,\"fLabelColor\":1,\"fLabelFont\":42,\"fLabelOffset\":0.005,\"fLabelSize\":0.035,\"fTickLength\":0.03,\"fTitleOffset\":0,\"fTitleSize\":0.035,\"fTitleColor\":1,\"fTitleFont\":42},\"fZaxis\":{\"_typename\":\"TAttAxis\",\"fNdivisions\":510,\"fAxisColor\":1,\"fLabelColor\":1,\"fLabelFont\":42,\"fLabelOffset\":0.005,\"fLabelSize\":0.035,\"fTickLength\":0.03,\"fTitleOffset\":1,\"fTitleSize\":0.035,\"fTitleColor\":1,\"fTitleFont\":42},\"fBarWidth\":1,\"fBarOffset\":0,\"fColorModelPS\":0,\"fDrawBorder\":0,\"fOptLogx\":0,\"fOptLogy\":0,\"fOptLogz\":0,\"fOptDate\":0,\"fOptStat\":1111,\"fOptTitle\":1,\"fOptFile\":0,\"fOptFit\":0,\"fShowEventStatus\":0,\"fShowEditor\":0,\"fShowToolBar\":0,\"fNumberContours\":20,\"fAttDate\":{\"_typename\":\"TAttText\",\"fTextAngle\":0,\"fTextSize\":0.025,\"fTextAlign\":11,\"fTextColor\":1,\"fTextFont\":62},\"fDateX\":0.01,\"fDateY\":0.01,\"fEndErrorSize\":2,\"fErrorX\":0.5,\"fFuncColor\":2,\"fFuncStyle\":1,\"fFuncWidth\":2,\"fGridColor\":0,\"fGridStyle\":3,\"fGridWidth\":1,\"fLegendBorderSize\":1,\"fLegendFillColor\":0,\"fLegendFont\":42,\"fLegendTextSize\":0,\"fHatchesLineWidth\":1,\"fHatchesSpacing\":1,\"fFrameFillColor\":0,\"fFrameLineColor\":1,\"fFrameFillStyle\":1001,\"fFrameLineStyle\":1,\"fFrameLineWidth\":1,\"fFrameBorderSize\":1,\"fFrameBorderMode\":0,\"fHistFillColor\":0,\"fHistLineColor\":602,\"fHistFillStyle\":1001,\"fHistLineStyle\":1,\"fHistLineWidth\":1,\"fHistMinimumZero\":false,\"fHistTopMargin\":0.05,\"fCanvasPreferGL\":false,\"fCanvasColor\":0,\"fCanvasBorderSize\":2,\"fCanvasBorderMode\":0,\"fCanvasDefH\":500,\"fCanvasDefW\":700,\"fCanvasDefX\":10,\"fCanvasDefY\":10,\"fPadColor\":0,\"fPadBorderSize\":2,\"fPadBorderMode\":0,\"fPadBottomMargin\":0.1,\"fPadTopMargin\":0.1,\"fPadLeftMargin\":0.1,\"fPadRightMargin\":0.1,\"fPadGridX\":false,\"fPadGridY\":false,\"fPadTickX\":0,\"fPadTickY\":0,\"fPaperSizeX\":20,\"fPaperSizeY\":26,\"fScreenFactor\":1,\"fStatColor\":0,\"fStatTextColor\":1,\"fStatBorderSize\":1,\"fStatFont\":42,\"fStatFontSize\":0,\"fStatStyle\":1001,\"fStatFormat\":\"6.4g\",\"fStatX\":0.98,\"fStatY\":0.935,\"fStatW\":0.2,\"fStatH\":0.16,\"fStripDecimals\":true,\"fTitleAlign\":23,\"fTitleColor\":0,\"fTitleTextColor\":1,\"fTitleBorderSize\":0,\"fTitleFont\":42,\"fTitleFontSize\":0.05,\"fTitleStyle\":0,\"fTitleX\":0.5,\"fTitleY\":0.995,\"fTitleW\":0,\"fTitleH\":0,\"fLegoInnerR\":0.5,\"fLineStyles\":[\"\",\"  \",\" 12 12\",\" 4 8\",\" 12 16 4 16\",\" 20 12 4 12\",\" 20 12 4 12 4 12 4 12\",\" 20 20\",\" 20 12 4 12 4 12\",\" 80 20\",\" 80 40 4 40\",\"  \",\"  \",\"  \",\"  \",\"  \",\"  \",\"  \",\"  \",\"  \",\"  \",\"  \",\"  \",\"  \",\"  \",\"  \",\"  \",\"  \",\"  \",\"  \"],\"fHeaderPS\":\"\",\"fTitlePS\":\"\",\"fFitFormat\":\"5.4g\",\"fPaintTextFormat\":\"g\",\"fLineScalePS\":3,\"fJoinLinePS\":0,\"fCapLinePS\":0,\"fTimeOffset\":788918400,\"fImageScaling\":1}],\"opt\":[\"\",\"colz\",\"blNDC\",\"\"]},\"fExecs\":null,\"fName\":\"myTHnProjection\",\"fTitle\":\"The Canvas Title\",\"fNumPaletteColor\":0,\"fNextPaletteColor\":0,\"fDISPLAY\":\"$DISPLAY\",\"fDoubleBuffer\":0,\"fRetained\":true,\"fXsizeUser\":0,\"fYsizeUser\":0,\"fXsizeReal\":20,\"fYsizeReal\":15,\"fWindowTopX\":0,\"fWindowTopY\":0,\"fWindowWidth\":0,\"fWindowHeight\":0,\"fCw\":796,\"fCh\":572,\"fCatt\":{\"_typename\":\"TAttCanvas\",\"fXBetween\":2,\"fYBetween\":2,\"fTitleFromTop\":1.2,\"fXdate\":0.2,\"fYdate\":0.3,\"fAdate\":1},\"kMoveOpaque\":true,\"kResizeOpaque\":true,\"fHighLightColor\":2,\"fBatch\":true,\"kShowEventStatus\":false,\"kAutoExec\":true,\"kMenuBar\":true});\n",
       "   Core.settings.HandleKeys = false;\n",
       "   Core.draw(\"root_plot_1653338916497\", obj, \"\");\n",
       "}\n",
       "\n",
       "function script_load_root_plot_1653338916497(src, on_error) {\n",
       "    let script = document.createElement('script');\n",
       "    script.src = src;\n",
       "    script.onload = function() { display_root_plot_1653338916497(JSROOT); };\n",
       "    script.onerror = function() { script.remove(); on_error(); };\n",
       "    document.head.appendChild(script);\n",
       "}\n",
       "\n",
       "if (typeof requirejs !== 'undefined') {\n",
       "\n",
       "    // We are in jupyter notebooks, use require.js which should be configured already\n",
       "    requirejs.config({\n",
       "       paths: { 'JSRootCore' : [ 'scripts/JSRoot.core', 'https://root.cern/js/6.1.1/scripts/JSRoot.core.min', 'https://jsroot.gsi.de/6.1.1/scripts/JSRoot.core.min' ] }\n",
       "    })(['JSRootCore'],  function(Core) {\n",
       "       display_root_plot_1653338916497(Core);\n",
       "    });\n",
       "\n",
       "} else if (typeof JSROOT !== 'undefined') {\n",
       "\n",
       "   // JSROOT already loaded, just use it\n",
       "   display_root_plot_1653338916497(JSROOT);\n",
       "\n",
       "} else {\n",
       "\n",
       "    // We are in jupyterlab without require.js, directly loading jsroot\n",
       "    // Jupyterlab might be installed in a different base_url so we need to know it.\n",
       "    try {\n",
       "        var base_url = JSON.parse(document.getElementById('jupyter-config-data').innerHTML).baseUrl;\n",
       "    } catch(_) {\n",
       "        var base_url = '/';\n",
       "    }\n",
       "\n",
       "    // Try loading a local version of requirejs and fallback to cdn if not possible.\n",
       "    script_load_root_plot_1653338916497(base_url + 'static/scripts/JSRoot.core.js', function(){\n",
       "        console.error('Fail to load JSROOT locally, please check your jupyter_notebook_config.py file');\n",
       "        script_load_root_plot_1653338916497('https://root.cern/js/6.1.1/scripts/JSRoot.core.min.js', function(){\n",
       "            document.getElementById(\"root_plot_1653338916497\").innerHTML = \"Failed to load JSROOT\";\n",
       "        });\n",
       "    });\n",
       "}\n",
       "\n",
       "</script>\n"
      ],
      "text/plain": [
       "<IPython.core.display.HTML object>"
      ]
     },
     "metadata": {},
     "output_type": "display_data"
    }
   ],
   "source": [
    "%jsroot on\n",
    "c = ROOT.TCanvas(\"myTHnProjection\",\"The Canvas Title\",800,600)\n",
    "drawTHnProjection(expertTHn,['Phi','Tgl'])\n",
    "c.Draw()"
   ]
  },
  {
   "cell_type": "code",
   "execution_count": null,
   "metadata": {},
   "outputs": [],
   "source": []
  }
 ],
 "metadata": {
  "interpreter": {
   "hash": "181fd93a06d91a699a8ed251e416bd937e527a4f6be34a6ada15bd496bf9d2d9"
  },
  "kernelspec": {
   "display_name": "Python 3 (ipykernel)",
   "language": "python",
   "name": "python3"
  },
  "language_info": {
   "codemirror_mode": {
    "name": "ipython",
    "version": 3
   },
   "file_extension": ".py",
   "mimetype": "text/x-python",
   "name": "python",
   "nbconvert_exporter": "python",
   "pygments_lexer": "ipython3",
   "version": "3.9.13"
  }
 },
 "nbformat": 4,
 "nbformat_minor": 2
}
