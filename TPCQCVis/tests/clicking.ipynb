{
 "cells": [
  {
   "cell_type": "code",
   "execution_count": null,
   "id": "05ade2ba",
   "metadata": {},
   "outputs": [],
   "source": [
    "import uproot\n",
    "import plotly.graph_objs as go\n",
    "import numpy as np\n",
    "import webbrowser"
   ]
  },
  {
   "cell_type": "code",
   "execution_count": null,
   "id": "a0817763",
   "metadata": {},
   "outputs": [],
   "source": [
    "# Load the ROOT file and extract the histogram data\n",
    "root_file = uproot.open(\"/cave/alice/data/2022/LHC22o/test/527978_QC.root\")\n",
    "histogram = root_file[\"TracksQC/hEta\"]"
   ]
  },
  {
   "cell_type": "code",
   "execution_count": null,
   "id": "5fe1c0bc",
   "metadata": {},
   "outputs": [],
   "source": [
    "# Get bin edges and bin contents\n",
    "bin_edges = histogram.axis().edges()\n",
    "bin_contents = histogram.values()"
   ]
  },
  {
   "cell_type": "code",
   "execution_count": null,
   "id": "e9cd1f0a",
   "metadata": {},
   "outputs": [],
   "source": [
    "# Define the custom link function for each bin\n",
    "def get_link_for_bin(bin_idx):\n",
    "    # Replace with your own logic for generating a link based on the bin index\n",
    "    return f\"https://example.com/link_for_bin_{bin_idx}\"\n",
    "\n",
    "# Create custom data array for plotly to use\n",
    "custom_data = np.array(\n",
    "    [(get_link_for_bin(i), bin_contents[i]) for i in range(len(bin_contents))]\n",
    ")\n",
    "\n",
    "trace = go.Bar(\n",
    "    x=bin_edges,\n",
    "    y=bin_contents,\n",
    "    width=np.diff(bin_edges),\n",
    "    customdata=custom_data,\n",
    "    hovertemplate=\"%{customdata[1]:.2f}<extra></extra>\",\n",
    ")\n",
    "\n",
    "# Create the figure\n",
    "fig = go.FigureWidget(data=[trace])\n",
    "\n",
    "# Add click event to open the link\n",
    "def on_bar_click(trace, points, selector):\n",
    "    for idx in points.point_inds:\n",
    "        link = trace.customdata[idx][0]\n",
    "        webbrowser.open_new_tab(link)\n",
    "\n",
    "fig.data[0].on_click(on_bar_click)\n",
    "\n",
    "# Display the figure in the Jupyter Notebook\n",
    "fig"
   ]
  },
  {
   "cell_type": "code",
   "execution_count": null,
   "id": "40e9a7bf",
   "metadata": {},
   "outputs": [],
   "source": []
  }
 ],
 "metadata": {
  "kernelspec": {
   "display_name": "Python 3 (ipykernel)",
   "language": "python",
   "name": "python3"
  },
  "language_info": {
   "codemirror_mode": {
    "name": "ipython",
    "version": 3
   },
   "file_extension": ".py",
   "mimetype": "text/x-python",
   "name": "python",
   "nbconvert_exporter": "python",
   "pygments_lexer": "ipython3",
   "version": "3.9.16"
  },
  "toc": {
   "base_numbering": 1,
   "nav_menu": {},
   "number_sections": false,
   "sideBar": false,
   "skip_h1_title": true,
   "title_cell": "Table of Contents",
   "title_sidebar": "Contents",
   "toc_cell": true,
   "toc_position": {},
   "toc_section_display": true,
   "toc_window_display": false
  }
 },
 "nbformat": 4,
 "nbformat_minor": 5
}
