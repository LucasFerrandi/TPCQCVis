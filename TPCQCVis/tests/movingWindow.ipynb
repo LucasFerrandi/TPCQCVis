{
 "cells": [
  {
   "cell_type": "code",
   "execution_count": null,
   "id": "405d1f81",
   "metadata": {},
   "outputs": [],
   "source": [
    "import ROOT\n",
    "import glob\n",
    "from datetime import datetime\n",
    "import math\n",
    "from copy import copy\n",
    "%jsroot on\n",
    "\n",
    "ROOT.gStyle.SetGridStyle(3)\n",
    "ROOT.gStyle.SetGridWidth(1)\n",
    "ROOT.gStyle.SetOptStat(0)\n",
    "ROOT.gStyle.SetPalette(57)\n",
    "palette = list(ROOT.TColor.GetPalette())"
   ]
  },
  {
   "cell_type": "code",
   "execution_count": null,
   "id": "ad9ae90a",
   "metadata": {},
   "outputs": [],
   "source": [
    "futures[0]"
   ]
  },
  {
   "cell_type": "code",
   "execution_count": null,
   "id": "6614b0ef",
   "metadata": {},
   "outputs": [],
   "source": [
    "path = \"/cave/alice-tpc-qc/data/2023/LHC23r/apass3/536606.root\"\n",
    "file = ROOT.TFile(path,\"r\")"
   ]
  },
  {
   "cell_type": "code",
   "execution_count": null,
   "id": "200891f8",
   "metadata": {},
   "outputs": [],
   "source": [
    "path = \"/cave/alice-tpc-qc/data/2023/LHC23r/apass3/536606.root\"\n",
    "file = ROOT.TFile(path,\"r\")\n",
    "with ROOT.TFile(path.split(\".root\")[0]+\"_QC.root\", \"update\") as outfile:\n",
    "    outfile.cd()\n",
    "    for folder in file.mw.TPC.GetListOfKeys():\n",
    "        timestamps = [timestamp.GetName() for timestamp in file.mw.TPC.Get(folder.GetName()).GetListOfKeys()]\n",
    "        objects = [obj.GetName() for obj in file.mw.TPC.Get(folder.GetName()).Get(timestamps[0])]\n",
    "        if not len(timestamps) : continue\n",
    "        outfile.cd(folder.GetName()+\"QC\")\n",
    "        for item in range(len(objects)):\n",
    "            ROOT.gDirectory.mkdir(objects[item]+\"_mw\")\n",
    "            outfile.cd(folder.GetName()+\"QC/\"+objects[item]+\"_mw\")\n",
    "            for timestamp in timestamps:\n",
    "                histo = file.mw.TPC.Get(folder.GetName()).Get(timestamp).At(item).getObject()\n",
    "                histo.SetName(timestamp)\n",
    "                histo.Write(\"\")\n",
    "                #outfile.WriteObject(hout, \"myhisto\")"
   ]
  },
  {
   "cell_type": "code",
   "execution_count": null,
   "id": "1b622181",
   "metadata": {},
   "outputs": [],
   "source": [
    "#file = ROOT.TFile(\"/cave/alice-tpc-qc/data/2023/LHC23r/apass3/test.root\",\"RECREATE\")\n",
    "ROOT.TFile(\"/cave/alice-tpc-qc/data/2023/LHC23r/apass3/test.root\",\"a\")\n",
    "with ROOT.TFile(path.split(\".root\")[0]+\"_QC.root\", \"recreate\") as outfile:\n",
    "    outfile.cd()\n",
    "    ROOT.gDirectory.mkdir(\"PID\")\n",
    "    outfile.cd(\"PID\")\n",
    "    histo.Write(\"\")"
   ]
  },
  {
   "cell_type": "code",
   "execution_count": null,
   "id": "03b89ef6",
   "metadata": {},
   "outputs": [],
   "source": [
    "timestamps = [timestamp.GetName() for timestamp in file.mw.TPC.PID.GetListOfKeys()]\n",
    "pidObjects = [obj.GetName() for obj in file.mw.TPC.PID.Get(timestamps[0])]\n",
    "tracksObjects = [obj.GetName() for obj in file.mw.TPC.Tracks.Get(timestamps[0])]"
   ]
  },
  {
   "cell_type": "code",
   "execution_count": null,
   "id": "b073f2a1",
   "metadata": {},
   "outputs": [],
   "source": [
    "histograms = []\n",
    "for task in [\"PID\"]:\n",
    "    timestamps = [timestamp.GetName() for timestamp in file.mw.TPC.Get(task).GetListOfKeys()]\n",
    "    myObjects = [obj.GetName() for obj in file.mw.TPC.Get(task).Get(timestamps[0])]\n",
    "    for timestamp in timestamps:\n",
    "        for item in range(len(pidObjects)):\n",
    "            histo = file.mw.TPC.Get(\"PID\").Get(timestamp).At(item).getObject()\n",
    "            histo.SetName(timestamp)\n",
    "            histo.Scale(1/histo.Integral())\n",
    "            histograms.append(histo)"
   ]
  },
  {
   "cell_type": "code",
   "execution_count": null,
   "id": "9003c1f9",
   "metadata": {},
   "outputs": [],
   "source": [
    "def drawMovingWindowOverlay(histograms,timestamps):\n",
    "    canvas = ROOT.TCanvas()\n",
    "    canvas.SetGrid()\n",
    "    leg = ROOT.TLegend()\n",
    "    leg.SetHeader(datetime.fromtimestamp(int(timestamps[0])/1000).strftime('%d-%b-%y'))\n",
    "    leg.SetNColumns(round(len(timestamps)/6))\n",
    "    for i,hist in enumerate(histograms):\n",
    "        color = palette[math.floor((i/(len(histograms)-1))*(len(palette)-1))]\n",
    "        hist.SetLineColor(color)\n",
    "        hist.SetMarkerColor(color)\n",
    "        hist.Draw(\"SAME L\")\n",
    "        leg.AddEntry(hist,datetime.fromtimestamp(int(hist.GetName())/1000).strftime('%H:%M'))\n",
    "    return canvas,leg\n",
    "\n",
    "def drawMovingWindow2D(histograms, timestamps):\n",
    "    timestep = (int(timestamps[1])-int(timestamps[0]))/2\n",
    "    my2D = ROOT.TH2F(histograms[0].GetName()+\"_mw\",\n",
    "                     histograms[0].GetTitle() +\" Moving Window\",\n",
    "                     len(histograms),int(timestamps[0])-timestep,int(timestamps[-1])+timestep,\n",
    "                     histograms[0].GetNbinsX(),\n",
    "                     histograms[0].GetXaxis().GetXmin(),\n",
    "                     histograms[0].GetXaxis().GetXmax())\n",
    "    for i,hist in enumerate(histograms):\n",
    "        for binx in range(hist.GetNbinsX()):\n",
    "            my2D.Fill(int(timestamps[i]),hist.GetBinCenter(binx+1),hist.GetBinContent(binx))\n",
    "    canvas = ROOT.TCanvas()\n",
    "    my2D.GetXaxis().SetTimeDisplay(1)\n",
    "    my2D.GetXaxis().SetTitle(\"Time\")\n",
    "    my2D.GetYaxis().SetTitle(histograms[0].GetXaxis().GetTitle())\n",
    "    my2D.Draw(\"COLZ\")\n",
    "    return my2D,canvas"
   ]
  },
  {
   "cell_type": "code",
   "execution_count": null,
   "id": "68da60a2",
   "metadata": {},
   "outputs": [],
   "source": [
    "canvas,leg = drawMovingWindowOverlay(histograms,timestamps)\n",
    "leg.Draw()\n",
    "canvas.Draw()"
   ]
  },
  {
   "cell_type": "code",
   "execution_count": null,
   "id": "e157772c",
   "metadata": {},
   "outputs": [],
   "source": [
    "hist2D"
   ]
  },
  {
   "cell_type": "code",
   "execution_count": null,
   "id": "bf5f8edf",
   "metadata": {},
   "outputs": [],
   "source": [
    "with ROOT.TFile(\"~/Desktop/file1.root\", \"recreate\") as outfile:\n",
    "    outfile.WriteObject(hist2D, \"myHIst\")"
   ]
  },
  {
   "cell_type": "code",
   "execution_count": null,
   "id": "d5febf05",
   "metadata": {},
   "outputs": [],
   "source": [
    "timestamps = [int(val)/1000 for val in timestamps]"
   ]
  },
  {
   "cell_type": "code",
   "execution_count": null,
   "id": "c47d64ca",
   "metadata": {},
   "outputs": [],
   "source": [
    "timestep = (int(timestamps[1])-int(timestamps[0]))/2\n",
    "my2d = ROOT.TH2F(\"\",\"\",len(histograms),int(timestamps[0])-timestep,int(timestamps[-1])+timestep,\n",
    "                 histograms[0].GetNbinsX(),\n",
    "                 histograms[0].GetXaxis().GetXmin(),\n",
    "                 histograms[0].GetXaxis().GetXmax())\n",
    "for i,hist in enumerate(histograms):\n",
    "    for binx in range(hist.GetNbinsX()):\n",
    "        my2d.Fill(int(timestamps[i]),hist.GetBinCenter(binx+1),hist.GetBinContent(binx))\n",
    "canvas = ROOT.TCanvas()\n",
    "my2d.GetXaxis().SetTimeDisplay(1)\n",
    "my2d.GetXaxis().SetTitle(\"Time\")\n",
    "my2d.GetYaxis().SetTitle(histograms[0].GetXaxis().GetTitle())\n",
    "my2d.Draw(\"COLZ\")\n",
    "my2d.SetTitle(\"Moving Windows - \"+histograms[0].GetTitle())\n",
    "myFunc = ROOT.TF1(\"myFunc\",\"gaus\",40,60)\n",
    "my2d.FitSlicesY(myFunc, 0, -1, 0, \"QNR\")\n",
    "fit = copy(ROOT.gDirectory.Get(my2d.GetName()+\"_1\"))\n",
    "fit.SetLineWidth(2)\n",
    "fit.SetMarkerStyle(21)\n",
    "fit.SetMarkerSize(0.6)\n",
    "fit.Draw(\"SAME P E\")\n",
    "canvas.Draw()"
   ]
  },
  {
   "cell_type": "code",
   "execution_count": null,
   "id": "ad76effc",
   "metadata": {},
   "outputs": [],
   "source": [
    "datetime.fromtimestamp(1697089439887/1000).strftime('%H:%M %d-%b-%Y')"
   ]
  },
  {
   "cell_type": "code",
   "execution_count": null,
   "id": "b33b363c",
   "metadata": {},
   "outputs": [],
   "source": [
    "file.mw.TPC.Get(\"PID\")"
   ]
  },
  {
   "cell_type": "code",
   "execution_count": null,
   "id": "f458380c",
   "metadata": {},
   "outputs": [],
   "source": []
  }
 ],
 "metadata": {
  "kernelspec": {
   "display_name": "Python 3 (ipykernel)",
   "language": "python",
   "name": "python3"
  },
  "language_info": {
   "codemirror_mode": {
    "name": "ipython",
    "version": 3
   },
   "file_extension": ".py",
   "mimetype": "text/x-python",
   "name": "python",
   "nbconvert_exporter": "python",
   "pygments_lexer": "ipython3",
   "version": "3.9.16"
  }
 },
 "nbformat": 4,
 "nbformat_minor": 5
}
