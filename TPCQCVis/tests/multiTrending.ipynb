{
 "cells": [
  {
   "cell_type": "markdown",
   "id": "a80e9fae",
   "metadata": {},
   "source": [
    "# Create multi trending from canvases with pads\n",
    "> Goal is to trend and check canvases with multiple pads, such as the ones we get from the cluster task\n"
   ]
  },
  {
   "cell_type": "markdown",
   "id": "89f3a995",
   "metadata": {
    "toc": true
   },
   "source": [
    "<h1>Table of Contents<span class=\"tocSkip\"></span></h1>\n",
    "<div class=\"toc\"><ul class=\"toc-item\"><li><span><a href=\"#Import-libraries\" data-toc-modified-id=\"Import-libraries-1\">Import libraries</a></span></li><li><span><a href=\"#Read-ROOT-files\" data-toc-modified-id=\"Read-ROOT-files-2\">Read ROOT files</a></span><ul class=\"toc-item\"><li><span><a href=\"#Showing-the-canvases-we-want-to-trend\" data-toc-modified-id=\"Showing-the-canvases-we-want-to-trend-2.1\">Showing the canvases we want to trend</a></span></li></ul></li><li><span><a href=\"#Trend-and-check\" data-toc-modified-id=\"Trend-and-check-3\">Trend and check</a></span><ul class=\"toc-item\"><li><span><a href=\"#Create-the-quality-matrix-to-keep-track-of-the-check-results\" data-toc-modified-id=\"Create-the-quality-matrix-to-keep-track-of-the-check-results-3.1\">Create the quality matrix to keep track of the check results</a></span></li><li><span><a href=\"#multiTrending\" data-toc-modified-id=\"multiTrending-3.2\">multiTrending</a></span></li><li><span><a href=\"#Draw-the-QualityMatrix\" data-toc-modified-id=\"Draw-the-QualityMatrix-3.3\">Draw the QualityMatrix</a></span></li></ul></li></ul></div>"
   ]
  },
  {
   "cell_type": "markdown",
   "id": "3cca14da",
   "metadata": {},
   "source": [
    "## Import libraries"
   ]
  },
  {
   "cell_type": "code",
   "execution_count": null,
   "id": "67f70f76",
   "metadata": {},
   "outputs": [],
   "source": [
    "%%capture\n",
    "import ROOT\n",
    "import glob\n",
    "import math\n",
    "import numpy as np\n",
    "import pandas as pd\n",
    "from IPython.display import display, Markdown\n",
    "from IPython.display import display, HTML\n",
    "from TPCQCVis.src.drawHistograms import *\n",
    "from TPCQCVis.src.drawTrending import *\n",
    "from TPCQCVis.src.drawMultiTrending import *\n",
    "from TPCQCVis.src.checkHistograms import *\n",
    "from TPCQCVis.src.checkTrending import *"
   ]
  },
  {
   "cell_type": "code",
   "execution_count": null,
   "id": "a69cb4c6",
   "metadata": {},
   "outputs": [],
   "source": [
    "display(HTML(\"<style>.container { width:95% !important; }</style>\"))\n",
    "display(HTML(\"<style>table {float:left;}</style>\"))\n",
    "%jsroot on"
   ]
  },
  {
   "cell_type": "markdown",
   "id": "c9848225",
   "metadata": {},
   "source": [
    "## Read ROOT files"
   ]
  },
  {
   "cell_type": "code",
   "execution_count": null,
   "id": "28305ecd",
   "metadata": {
    "scrolled": true
   },
   "outputs": [],
   "source": [
    "# Read the Root Files\n",
    "path = \"/cave/alice/data/2022/LHC22o/apass3/\"\n",
    "fileList = glob.glob(path+\"*_QC.root\")\n",
    "fileList.sort()\n",
    "#fileList = fileList[13:]\n",
    "runList = [fileList[i][-14:-8] for i in range(len(fileList))]\n",
    "rootDataFile=[]\n",
    "for file in fileList:\n",
    "    rootDataFile.append(ROOT.TFile.Open(file,\"READ\"))\n",
    "print(runList)"
   ]
  },
  {
   "cell_type": "markdown",
   "id": "ec5301d2",
   "metadata": {},
   "source": [
    "### Showing the canvases we want to trend\n",
    "Make sure you have these canvases in your *_QC.root file\n",
    "The plotter should be new version when running (https://github.com/bulukutlu/TPCQCVis/commit/179e67ef0d4d4032d6a7dfcf4aa1ba4058790980)"
   ]
  },
  {
   "cell_type": "code",
   "execution_count": null,
   "id": "b2011fe5",
   "metadata": {},
   "outputs": [],
   "source": [
    "objectName = \"c_ROCs_N_Clusters_1D\"\n",
    "c = rootDataFile[0].ClusterQC.Get(objectName)\n",
    "c.Draw()"
   ]
  },
  {
   "cell_type": "code",
   "execution_count": null,
   "id": "02bdde84",
   "metadata": {
    "scrolled": true
   },
   "outputs": [],
   "source": [
    "# The pads in the canvas\n",
    "c.GetListOfPrimitives().ls()"
   ]
  },
  {
   "cell_type": "markdown",
   "id": "f5a49871",
   "metadata": {},
   "source": [
    "## Trend and check\n",
    "### Create the quality matrix to keep track of the check results"
   ]
  },
  {
   "cell_type": "code",
   "execution_count": null,
   "id": "1e215761",
   "metadata": {},
   "outputs": [],
   "source": [
    "qualityDF = pd.DataFrame({'runNumber':runList})\n",
    "names = []\n",
    "for i in range(72):\n",
    "    if i < 18*2: roc = \"IROC-\"\n",
    "    else: roc = \"OROC-\"\n",
    "    if i%(18*2) < 18: side = \"A\"\n",
    "    else : side = \"C\"\n",
    "    names.append(roc+side+str(i%18).zfill(2))"
   ]
  },
  {
   "cell_type": "markdown",
   "id": "2c0b3cb9",
   "metadata": {},
   "source": [
    "### multiTrending\n",
    "For the checker I simply call the checkTrending function on each trend in the output canvas"
   ]
  },
  {
   "cell_type": "code",
   "execution_count": null,
   "id": "1f09efbb",
   "metadata": {
    "scrolled": false
   },
   "outputs": [],
   "source": [
    "objectName=\"c_ROCs_N_Clusters_1D;1\"\n",
    "trending = \"mean\"\n",
    "error = \"\"\n",
    "[trends,canvas] = drawMultiTrending(objectName,rootDataFile,names=runList,namesFromRunList=True,\n",
    "                               trend=trending,error=error,pads=True,normalize=True,\n",
    "                               log=\"none\",yAxisRange=[0,500])\n",
    "for iPad,pad in enumerate(canvas.GetListOfPrimitives()):\n",
    "    trend = trends[iPad]\n",
    "    [qualities,pad] = checkTrending(trend,canvas=pad,thresholds={\"GOOD\":3,\"MEDIUM\":6,\"BAD\":9})\n",
    "    qualityDF[names[iPad]] = qualities\n",
    "    canvas.Update()\n",
    "canvas.Draw()"
   ]
  },
  {
   "cell_type": "markdown",
   "id": "54d4fe38",
   "metadata": {},
   "source": [
    "### Draw the QualityMatrix"
   ]
  },
  {
   "cell_type": "code",
   "execution_count": null,
   "id": "e0eb72f4",
   "metadata": {},
   "outputs": [],
   "source": [
    "myPalette = np.array([920, 414, 801, 633],dtype=np.int32)\n",
    "ROOT.gStyle.SetPalette(4,myPalette)\n",
    "ROOT.gStyle.SetGridStyle(1)\n",
    "qualityLabels = {\"NULL\":0,\"GOOD\":1,\"MEDIUM\":2,\"BAD\":3}\n",
    "\n",
    "canvas = ROOT.TCanvas(\"QualityMatrix\",\"\",1100,400)\n",
    "canvas.SetLeftMargin(0.15)\n",
    "canvas.SetBottomMargin(0.15)\n",
    "canvas.SetGrid()\n",
    "\n",
    "qualityHist = ROOT.TH2I(\"QualityMatrix\",\"Quality Matrix Clusters\",\n",
    "                        len(qualityDF.index),min(qualityDF.index),max(qualityDF.index)+1,\n",
    "                        len(qualityDF.columns)-1,0,len(qualityDF.columns)-1)\n",
    "qualityHist.SetCanExtend(ROOT.TH1.kAllAxes)\n",
    "qualityHist.SetStats(0)\n",
    "for runIndex,run in enumerate(qualityDF.runNumber):\n",
    "    qualityHist.GetXaxis().SetBinLabel(runIndex+1,str(run))\n",
    "    qualityHist.GetXaxis().SetTickLength( 0.03)\n",
    "    for checkIndex,check in enumerate(qualityDF.loc[:, qualityDF.columns != \"runNumber\"].columns):\n",
    "        #print(checkIndex,runIndex)\n",
    "        qualityHist.Fill(run,check,qualityLabels.get(qualityDF.iloc[runIndex][check]))\n",
    "\n",
    "qualityHist.LabelsOption(\"u\")\n",
    "qualityHist.Draw(\"COL\")\n",
    "qualityHist.GetZaxis().SetRangeUser(-0.5,3.5);\n",
    "qualityHist.LabelsOption(\"v\")\n",
    "\n",
    "canvas.Draw()"
   ]
  },
  {
   "cell_type": "code",
   "execution_count": null,
   "id": "6973e7a2",
   "metadata": {},
   "outputs": [],
   "source": []
  }
 ],
 "metadata": {
  "kernelspec": {
   "display_name": "Python 3 (ipykernel)",
   "language": "python",
   "name": "python3"
  },
  "language_info": {
   "codemirror_mode": {
    "name": "ipython",
    "version": 3
   },
   "file_extension": ".py",
   "mimetype": "text/x-python",
   "name": "python",
   "nbconvert_exporter": "python",
   "pygments_lexer": "ipython3",
   "version": "3.9.12"
  },
  "toc": {
   "base_numbering": 1,
   "nav_menu": {},
   "number_sections": false,
   "sideBar": false,
   "skip_h1_title": true,
   "title_cell": "Table of Contents",
   "title_sidebar": "Contents",
   "toc_cell": true,
   "toc_position": {},
   "toc_section_display": true,
   "toc_window_display": false
  }
 },
 "nbformat": 4,
 "nbformat_minor": 5
}
