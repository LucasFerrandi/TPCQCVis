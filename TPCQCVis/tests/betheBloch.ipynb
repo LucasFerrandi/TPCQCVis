{
 "cells": [
  {
   "cell_type": "markdown",
   "id": "8c475afe",
   "metadata": {
    "toc": true
   },
   "source": [
    "<h1>Table of Contents<span class=\"tocSkip\"></span></h1>\n",
    "<div class=\"toc\"><ul class=\"toc-item\"></ul></div>"
   ]
  },
  {
   "cell_type": "code",
   "execution_count": null,
   "id": "7e496934",
   "metadata": {},
   "outputs": [],
   "source": [
    "%%capture\n",
    "import ROOT\n",
    "import glob\n",
    "import math\n",
    "import numpy as np\n",
    "from IPython.display import display, Markdown, HTML\n",
    "import ipywidgets as widgets\n",
    "from TPCQCVis.src.drawHistograms import *\n",
    "from TPCQCVis.src.drawTrending import *\n",
    "from TPCQCVis.src.checkHistograms import *\n",
    "from TPCQCVis.src.drawBetheBloch import *\n",
    "from array import array\n",
    "import matplotlib.pyplot as plt"
   ]
  },
  {
   "cell_type": "code",
   "execution_count": null,
   "id": "fcf8e00c",
   "metadata": {},
   "outputs": [],
   "source": [
    "display(HTML(\"<style>.container { width:95% !important; }</style>\"))\n",
    "display(HTML(\"<style>table {float:left;}</style>\"))"
   ]
  },
  {
   "cell_type": "code",
   "execution_count": null,
   "id": "15950cdc",
   "metadata": {},
   "outputs": [],
   "source": [
    "api = ROOT.o2.ccdb.CcdbApi()\n",
    "api.init(\"alice-ccdb.cern.ch\")"
   ]
  },
  {
   "cell_type": "code",
   "execution_count": null,
   "id": "d5a9ed95",
   "metadata": {},
   "outputs": [],
   "source": [
    "headers = api.retrieveHeaders(\"RCT/Info/RunInformation\",[],536774)"
   ]
  },
  {
   "cell_type": "code",
   "execution_count": null,
   "id": "c29fc616",
   "metadata": {},
   "outputs": [],
   "source": [
    "ROOT.metadata"
   ]
  },
  {
   "cell_type": "code",
   "execution_count": null,
   "id": "ec14dd5b",
   "metadata": {},
   "outputs": [],
   "source": [
    "api.retrieveFromTFileAny(\"Analysis/PID/TPC/Response\",None,-1)\n"
   ]
  },
  {
   "cell_type": "code",
   "execution_count": null,
   "id": "01005279",
   "metadata": {},
   "outputs": [],
   "source": [
    "api.retrieveHeaders()"
   ]
  },
  {
   "cell_type": "code",
   "execution_count": null,
   "id": "5ec5acd7",
   "metadata": {},
   "outputs": [],
   "source": [
    "def BetheBlochAleph(bg,kp1=0.820172e-1,kp2=9.94795,kp3=8.97292e-05,kp4=2.05873,kp5=1.65272):\n",
    "    beta = bg / math.sqrt(1 + bg * bg)\n",
    "    aa = beta**kp4\n",
    "    bb = bg**(-kp5)\n",
    "    bb = math.log(kp3 + bb)\n",
    "    return (kp2 - aa - bb) * kp1 / aa\n",
    "\n",
    "def betaGamma(p,particle):\n",
    "    mass = {\n",
    "        \"electron\" : 0.000511,\n",
    "        \"muon\" : 0.105658,\n",
    "        \"pion\" : 0.139570,\n",
    "        \"kaon\" : 0.493677,\n",
    "        \"proton\" : 0.938272,\n",
    "        \"deuteron\" : 1.8756129,\n",
    "        \"triton\": 2.8089211\n",
    "    }\n",
    "    return p/(mass.get(particle))"
   ]
  },
  {
   "cell_type": "code",
   "execution_count": null,
   "id": "d9ad0935",
   "metadata": {},
   "outputs": [],
   "source": [
    "# Read the Root Files\n",
    "path = \"/cave/alice-tpc-qc/data/2022/LHC22q/apass3/\"\n",
    "passName = \"apass3\"\n",
    "fileList = glob.glob(path+\"*_QC.root\")\n",
    "fileList.sort()\n",
    "#fileList = fileList[13:]\n",
    "runList = [fileList[i][-(8+len(\"528991\")):-8] for i in range(len(fileList))]\n",
    "rootDataFile=[]\n",
    "for file in fileList:\n",
    "    rootDataFile.append(ROOT.TFile.Open(file,\"READ\"))\n",
    "#fileList\n",
    "runList"
   ]
  },
  {
   "cell_type": "code",
   "execution_count": null,
   "id": "8aeb5673",
   "metadata": {},
   "outputs": [],
   "source": [
    "%jsroot on\n",
    "objectName=\"hdEdxTotVsP_TPC\"\n",
    "[hist,legend,canvas,pad1] = drawHistograms(objectName,rootDataFile,normalize=False,legend=False,log=\"logxyz\",legendNames=runList,pads=True,drawOption=\"COLZ\")\n",
    "betheBlochLines = getBetheBloch(runList)\n",
    "pad1 = drawBetheBloch(betheBlochLines,pad1)\n",
    "canvas.Draw()"
   ]
  },
  {
   "cell_type": "code",
   "execution_count": null,
   "id": "9a198484",
   "metadata": {},
   "outputs": [],
   "source": [
    "canvas.Draw()"
   ]
  },
  {
   "cell_type": "code",
   "execution_count": null,
   "id": "ef3e6d64",
   "metadata": {},
   "outputs": [],
   "source": []
  }
 ],
 "metadata": {
  "kernelspec": {
   "display_name": "Python 3 (ipykernel)",
   "language": "python",
   "name": "python3"
  },
  "language_info": {
   "codemirror_mode": {
    "name": "ipython",
    "version": 3
   },
   "file_extension": ".py",
   "mimetype": "text/x-python",
   "name": "python",
   "nbconvert_exporter": "python",
   "pygments_lexer": "ipython3",
   "version": "3.9.16"
  },
  "toc": {
   "base_numbering": 1,
   "nav_menu": {},
   "number_sections": false,
   "sideBar": false,
   "skip_h1_title": true,
   "title_cell": "Table of Contents",
   "title_sidebar": "Contents",
   "toc_cell": true,
   "toc_position": {},
   "toc_section_display": true,
   "toc_window_display": false
  }
 },
 "nbformat": 4,
 "nbformat_minor": 5
}
