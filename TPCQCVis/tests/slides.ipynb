{
 "cells": [
  {
   "cell_type": "markdown",
   "id": "dab7b583",
   "metadata": {
    "slideshow": {
     "slide_type": "slide"
    }
   },
   "source": [
    "# Report on new futures\n",
    "Added some new futures which can be shown in slides"
   ]
  },
  {
   "cell_type": "markdown",
   "id": "5a8195e4",
   "metadata": {
    "slideshow": {
     "slide_type": "skip"
    },
    "toc": true
   },
   "source": [
    "<h1>Table of Contents<span class=\"tocSkip\"></span></h1>\n",
    "<div class=\"toc\"><ul class=\"toc-item\"><li><span><a href=\"#Bethe-Bloch-lines\" data-toc-modified-id=\"Bethe-Bloch-lines-1\">Bethe-Bloch lines</a></span></li><li><span><a href=\"#Phi-distributions\" data-toc-modified-id=\"Phi-distributions-2\">Phi distributions</a></span></li></ul></div>"
   ]
  },
  {
   "cell_type": "code",
   "execution_count": null,
   "id": "6eb9a6fd",
   "metadata": {
    "slideshow": {
     "slide_type": "skip"
    }
   },
   "outputs": [],
   "source": [
    "%%capture\n",
    "import ROOT\n",
    "import glob\n",
    "import math\n",
    "import numpy as np\n",
    "from IPython.display import display, Markdown, HTML\n",
    "import ipywidgets as widgets\n",
    "from TPCQCVis.src.drawHistograms import *\n",
    "from TPCQCVis.src.drawTrending import *\n",
    "from TPCQCVis.src.checkHistograms import *\n",
    "from TPCQCVis.src.drawBetheBloch import *\n",
    "from array import array\n",
    "import matplotlib.pyplot as plt"
   ]
  },
  {
   "cell_type": "code",
   "execution_count": null,
   "id": "5233941a",
   "metadata": {
    "slideshow": {
     "slide_type": "skip"
    }
   },
   "outputs": [],
   "source": [
    "from IPython.core.display import HTML as Center\n",
    "\n",
    "Center(\"\"\" <style>\n",
    ".output_png {\n",
    "    display: table-cell;\n",
    "    text-align: center;\n",
    "    vertical-align: middle;\n",
    "}\n",
    "</style> \"\"\")"
   ]
  },
  {
   "cell_type": "code",
   "execution_count": null,
   "id": "77ab733f",
   "metadata": {
    "slideshow": {
     "slide_type": "skip"
    }
   },
   "outputs": [],
   "source": [
    "# Read the Root Files\n",
    "path = \"/cave/alice/data/2022/LHC22q/apass3/\"\n",
    "passName = \"apass3\"\n",
    "fileList = glob.glob(path+\"*_QC.root\")\n",
    "fileList.sort()\n",
    "#fileList = fileList[13:]\n",
    "runList = [fileList[i][36:-8] for i in range(len(fileList))]\n",
    "rootDataFile=[]\n",
    "for file in fileList:\n",
    "    rootDataFile.append(ROOT.TFile.Open(file,\"READ\"))\n",
    "#fileList\n",
    "runList"
   ]
  },
  {
   "cell_type": "markdown",
   "id": "db8405cb",
   "metadata": {
    "slideshow": {
     "slide_type": "slide"
    }
   },
   "source": [
    "### Bethe-Bloch lines\n",
    "+ Getting parameters from CCDB"
   ]
  },
  {
   "cell_type": "code",
   "execution_count": null,
   "id": "b52ffde4",
   "metadata": {},
   "outputs": [],
   "source": [
    "%jsroot on\n",
    "canvas = ROOT.TCanvas(\"\",\"\",600,500)\n",
    "objectName=\"hdEdxTotVsP_TPC\"\n",
    "[hist,legend,canvas,pad1] = drawHistograms(objectName,rootDataFile[0:1],normalize=False,legend=False,log=\"logxyz\",canvas=canvas,legendNames=runList[0:1],pads=True,drawOption=\"COLZ\")\n",
    "betheBlochLines = getBetheBloch(runList[0:1])\n",
    "pad1 = drawBetheBloch(betheBlochLines,pad1)\n",
    "canvas.Draw()"
   ]
  },
  {
   "cell_type": "markdown",
   "id": "3f3c8dbe",
   "metadata": {},
   "source": [
    "+ For protons, muons, pions, electrons, kaons, deuterons and tritons"
   ]
  },
  {
   "cell_type": "markdown",
   "id": "b5bcccea",
   "metadata": {
    "slideshow": {
     "slide_type": "slide"
    }
   },
   "source": [
    "### Phi distributions"
   ]
  },
  {
   "cell_type": "code",
   "execution_count": null,
   "id": "02b0c96b",
   "metadata": {},
   "outputs": [],
   "source": [
    "%jsroot on\n",
    "canvas = ROOT.TCanvas(\"\",\"\",600,500)\n",
    "objectName=\"hdEdxTotVsP_TPC\"\n",
    "[hist,legend,canvas,pad1] = drawHistograms(objectName,rootDataFile[0:1],normalize=False,legend=False,log=\"logxyz\",canvas=canvas,legendNames=runList[0:1],pads=True,drawOption=\"COLZ\")\n",
    "betheBlochLines = getBetheBloch(runList[0:1])\n",
    "pad1 = drawBetheBloch(betheBlochLines,pad1)\n",
    "canvas.Draw()"
   ]
  },
  {
   "cell_type": "code",
   "execution_count": null,
   "id": "9e0160ec",
   "metadata": {},
   "outputs": [],
   "source": []
  },
  {
   "cell_type": "code",
   "execution_count": null,
   "id": "9dd5e52d",
   "metadata": {},
   "outputs": [],
   "source": []
  },
  {
   "cell_type": "code",
   "execution_count": null,
   "id": "9db6ac21",
   "metadata": {},
   "outputs": [],
   "source": []
  },
  {
   "cell_type": "code",
   "execution_count": null,
   "id": "a535c62d",
   "metadata": {},
   "outputs": [],
   "source": []
  }
 ],
 "metadata": {
  "celltoolbar": "Slideshow",
  "kernelspec": {
   "display_name": "Python 3 (ipykernel)",
   "language": "python",
   "name": "python3"
  },
  "language_info": {
   "codemirror_mode": {
    "name": "ipython",
    "version": 3
   },
   "file_extension": ".py",
   "mimetype": "text/x-python",
   "name": "python",
   "nbconvert_exporter": "python",
   "pygments_lexer": "ipython3",
   "version": "3.9.12"
  },
  "toc": {
   "base_numbering": 1,
   "nav_menu": {},
   "number_sections": false,
   "sideBar": false,
   "skip_h1_title": true,
   "title_cell": "Table of Contents",
   "title_sidebar": "Contents",
   "toc_cell": true,
   "toc_position": {},
   "toc_section_display": true,
   "toc_window_display": false
  }
 },
 "nbformat": 4,
 "nbformat_minor": 5
}
