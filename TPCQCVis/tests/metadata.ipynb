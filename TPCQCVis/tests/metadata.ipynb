{
 "cells": [
  {
   "cell_type": "code",
   "execution_count": null,
   "id": "f0807c29-ee70-4392-aa67-6c1879367336",
   "metadata": {},
   "outputs": [],
   "source": [
    "%%capture\n",
    "import ROOT\n",
    "import glob\n",
    "import math\n",
    "import sys\n",
    "import numpy as np\n",
    "import pandas as pd\n",
    "from IPython.display import display, Markdown, HTML\n",
    "import ipywidgets as widgets\n",
    "from TPCQCVis.src.drawHistograms import *\n",
    "from TPCQCVis.src.drawTrending import *\n",
    "from TPCQCVis.src.drawMultiTrending import *\n",
    "from TPCQCVis.src.checkHistograms import *\n",
    "from TPCQCVis.src.checkTrending import *\n",
    "import warnings\n",
    "warnings.filterwarnings('ignore')"
   ]
  },
  {
   "cell_type": "code",
   "execution_count": null,
   "id": "a6c3d86c-9709-4569-ac36-5aec23357b6d",
   "metadata": {},
   "outputs": [],
   "source": [
    "%jsroot on\n",
    "display(HTML(\"<style>.container { width:95% !important; align-items: center;}</style>\"))\n",
    "display(HTML(\"<style>table {float:left;}</style>\"))\n",
    "quality=\"GOOD\"\n",
    "display(HTML(f\"<meta name=\\\"quality\\\" content=\\\"{quality}\\\">\"))\n",
    "ROOT.gErrorIgnoreLevel = ROOT.kError\n",
    "#display(HTML('<style>{}</style>'.format(CSS)))\n",
    "#ROOT.gStyle.SetPalette(57)"
   ]
  },
  {
   "cell_type": "markdown",
   "id": "801a8343-265f-4f0f-9b4b-9a321f620bfd",
   "metadata": {},
   "source": [
    "# TPC Async QC Report - myPeriod - myPass\n",
    "### RCT Tables:\n",
    "+ [2022](https://docs.google.com/spreadsheets/d/14vXFYVx3oVE8wgJKmIBhjvAt6NpGp7D6H4AmBM9E0Cw/edit#gid=0 \"test message\"), [2023](https://docs.google.com/spreadsheets/d/1YBQLXWwwc3aC3B_PYVpFkTgEP0n6u1ovtYfiCOMWnTc/edit?pli=1#gid=0), [2023_PbPb](https://docs.google.com/spreadsheets/d/1vsl-pkLdUoNXZm6muPyMENWdDSKM7UDtQLcXc2B9QhE/edit#gid=492527515)"
   ]
  },
  {
   "cell_type": "code",
   "execution_count": null,
   "id": "c15bce95-1a0a-4d39-9066-7e221e2d4fac",
   "metadata": {},
   "outputs": [],
   "source": [
    "# Notebook variables\n",
    "periodName = \"LHC23zzh\"\n",
    "passName = \"cpass0\"\n",
    "runNumber = 123456\n",
    "path = \"/cave/alice-tpc-qc/data/2023/\"\n",
    "\n",
    "# Read the Root Files\n",
    "fileList = glob.glob(path+\"/\"+periodName+\"/\"+passName+\"/\"+\"*_QC.root\")\n",
    "fileList = [file for file in fileList if file[-13] != \"_\"]\n",
    "fileList.sort()\n",
    "#fileList = fileList[13:]\n",
    "runList = [fileList[i][-14:-8] for i in range(len(fileList))]\n",
    "rootDataFile=[]\n",
    "for file in fileList:\n",
    "    rootDataFile.append(ROOT.TFile.Open(file,\"READ\"))"
   ]
  },
  {
   "cell_type": "code",
   "execution_count": null,
   "id": "0c76d5fb-7320-41b7-a11e-c62a50f978d7",
   "metadata": {},
   "outputs": [],
   "source": [
    "%jsroot on\n",
    "objectName=\"hPhiAside;1\"\n",
    "trending = \"mean\"\n",
    "error = \"meanError\"\n",
    "leg = ROOT.TLegend()\n",
    "[trend,canvas] = drawTrending(objectName,rootDataFile,names=runList,namesFromRunList=True,\n",
    "                               trend=trending,error=error,axis=1,\n",
    "                               log=\"none\")\n",
    "#[qualities,canvas] = checkTrending(trend,canvas=canvas,thresholds={\"GOOD\":3,\"MEDIUM\":6,\"BAD\":9})\n",
    "canvas.SetCanvasSize(1000,400)\n",
    "#qualityDF[objectName] = qualities\n",
    "canvas.Draw()"
   ]
  },
  {
   "cell_type": "code",
   "execution_count": null,
   "id": "392c8afd-6074-466d-9f42-addb88bf274a",
   "metadata": {},
   "outputs": [],
   "source": []
  },
  {
   "cell_type": "code",
   "execution_count": null,
   "id": "b501c667-8ddb-4302-8642-0103ec13e243",
   "metadata": {},
   "outputs": [],
   "source": [
    "data, metadata = get_ipython().display_formatter.format(canvas.Draw)\n",
    "with open('table.html', 'w') as f:\n",
    "    f.write(data['text/plain'])  # Assuming the object has an HTML representation"
   ]
  },
  {
   "cell_type": "code",
   "execution_count": null,
   "id": "69180f21-f2ae-4efc-8a25-6a081d39c78c",
   "metadata": {},
   "outputs": [],
   "source": [
    "data"
   ]
  },
  {
   "cell_type": "code",
   "execution_count": null,
   "id": "b8b78d98-2997-44b6-a25d-690ae36ceb6a",
   "metadata": {},
   "outputs": [],
   "source": []
  }
 ],
 "metadata": {
  "kernelspec": {
   "display_name": "Python 3 (ipykernel)",
   "language": "python",
   "name": "python3"
  },
  "language_info": {
   "codemirror_mode": {
    "name": "ipython",
    "version": 3
   },
   "file_extension": ".py",
   "mimetype": "text/x-python",
   "name": "python",
   "nbconvert_exporter": "python",
   "pygments_lexer": "ipython3",
   "version": "3.9.16"
  }
 },
 "nbformat": 4,
 "nbformat_minor": 5
}
