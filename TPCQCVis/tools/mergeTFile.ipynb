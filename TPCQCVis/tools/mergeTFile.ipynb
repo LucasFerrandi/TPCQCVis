{
 "cells": [
  {
   "cell_type": "code",
   "execution_count": null,
   "id": "d439be5e",
   "metadata": {},
   "outputs": [],
   "source": [
    "import ROOT"
   ]
  },
  {
   "cell_type": "code",
   "execution_count": null,
   "id": "1e3390b3",
   "metadata": {},
   "outputs": [],
   "source": [
    "path = \"/Users/berki/Documents/QC/QCAsync/\"\n",
    "\n",
    "f1 = ROOT.TFile.Open(path+\"aLHC22c5_505548_PID.root\",\"READ\")\n",
    "PID = f1.GetDirectory(\"PID\")\n",
    "#ROOT.CopyDir(PID)\n",
    "outfile = ROOT.TFile(path+\"LHC22c5_505548.root\", \"recreate\")\n",
    "outfile.WriteObject(PID,\"PID\")"
   ]
  },
  {
   "cell_type": "code",
   "execution_count": null,
   "id": "85cbdcf3",
   "metadata": {},
   "outputs": [],
   "source": [
    "outfile.PID.ls()"
   ]
  },
  {
   "cell_type": "code",
   "execution_count": null,
   "id": "a6fcfdb2",
   "metadata": {},
   "outputs": [],
   "source": [
    "ROOT.hadd()"
   ]
  },
  {
   "cell_type": "code",
   "execution_count": null,
   "id": "e891d15b",
   "metadata": {},
   "outputs": [],
   "source": []
  }
 ],
 "metadata": {
  "kernelspec": {
   "display_name": "Python 3 (ipykernel)",
   "language": "python",
   "name": "python3"
  },
  "language_info": {
   "codemirror_mode": {
    "name": "ipython",
    "version": 3
   },
   "file_extension": ".py",
   "mimetype": "text/x-python",
   "name": "python",
   "nbconvert_exporter": "python",
   "pygments_lexer": "ipython3",
   "version": "3.6.10"
  }
 },
 "nbformat": 4,
 "nbformat_minor": 5
}
