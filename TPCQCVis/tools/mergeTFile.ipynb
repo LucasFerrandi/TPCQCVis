{
 "cells": [
  {
   "cell_type": "code",
   "execution_count": 2,
   "id": "d439be5e",
   "metadata": {},
   "outputs": [
    {
     "name": "stdout",
     "output_type": "stream",
     "text": [
      "Welcome to JupyROOT 6.26/02\n"
     ]
    }
   ],
   "source": [
    "import ROOT"
   ]
  },
  {
   "cell_type": "code",
   "execution_count": 10,
   "id": "1e3390b3",
   "metadata": {
    "scrolled": true
   },
   "outputs": [
    {
     "data": {
      "text/plain": [
       "109"
      ]
     },
     "execution_count": 10,
     "metadata": {},
     "output_type": "execute_result"
    }
   ],
   "source": [
    "path = \"/Users/berki/Documents/QC/QCAsync/\"\n",
    "\n",
    "f1 = ROOT.TFile.Open(path+\"aLHC22c5_505548_PID.root\",\"READ\")\n",
    "PID = f1.GetDirectory(\"PID\")\n",
    "#ROOT.CopyDir(PID)\n",
    "outfile = ROOT.TFile(path+\"LHC22c5_505548.root\", \"recreate\")\n",
    "outfile.WriteObject(PID,\"PID\")"
   ]
  },
  {
   "cell_type": "code",
   "execution_count": null,
   "id": "85cbdcf3",
   "metadata": {},
   "outputs": [],
   "source": [
    "outfile.PID.ls()"
   ]
  },
  {
   "cell_type": "code",
   "execution_count": 4,
   "id": "a6fcfdb2",
   "metadata": {},
   "outputs": [
    {
     "ename": "AttributeError",
     "evalue": "Failed to get attribute hadd from ROOT",
     "output_type": "error",
     "traceback": [
      "\u001b[0;31m---------------------------------------------------------------------------\u001b[0m",
      "\u001b[0;31mAttributeError\u001b[0m                            Traceback (most recent call last)",
      "Input \u001b[0;32mIn [4]\u001b[0m, in \u001b[0;36m<cell line: 1>\u001b[0;34m()\u001b[0m\n\u001b[0;32m----> 1\u001b[0m \u001b[43mROOT\u001b[49m\u001b[38;5;241;43m.\u001b[39;49m\u001b[43mhadd\u001b[49m()\n",
      "File \u001b[0;32m/opt/homebrew/Cellar/root/6.26.02_1/lib/root/ROOT/_facade.py:195\u001b[0m, in \u001b[0;36mROOTFacade._fallback_getattr\u001b[0;34m(self, name)\u001b[0m\n\u001b[1;32m    193\u001b[0m     \u001b[38;5;28;01mif\u001b[39;00m res:\n\u001b[1;32m    194\u001b[0m         \u001b[38;5;28;01mreturn\u001b[39;00m res\n\u001b[0;32m--> 195\u001b[0m \u001b[38;5;28;01mraise\u001b[39;00m \u001b[38;5;167;01mAttributeError\u001b[39;00m(\u001b[38;5;124m\"\u001b[39m\u001b[38;5;124mFailed to get attribute \u001b[39m\u001b[38;5;132;01m{}\u001b[39;00m\u001b[38;5;124m from ROOT\u001b[39m\u001b[38;5;124m\"\u001b[39m\u001b[38;5;241m.\u001b[39mformat(name))\n",
      "\u001b[0;31mAttributeError\u001b[0m: Failed to get attribute hadd from ROOT"
     ]
    }
   ],
   "source": [
    "ROOT.hadd()"
   ]
  },
  {
   "cell_type": "code",
   "execution_count": null,
   "id": "e891d15b",
   "metadata": {},
   "outputs": [],
   "source": []
  }
 ],
 "metadata": {
  "kernelspec": {
   "display_name": "Python 3 (ipykernel)",
   "language": "python",
   "name": "python3"
  },
  "language_info": {
   "codemirror_mode": {
    "name": "ipython",
    "version": 3
   },
   "file_extension": ".py",
   "mimetype": "text/x-python",
   "name": "python",
   "nbconvert_exporter": "python",
   "pygments_lexer": "ipython3",
   "version": "3.9.13"
  }
 },
 "nbformat": 4,
 "nbformat_minor": 5
}
