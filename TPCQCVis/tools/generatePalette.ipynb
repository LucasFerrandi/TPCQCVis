{
 "cells": [
  {
   "cell_type": "code",
   "execution_count": null,
   "id": "4eda4a01",
   "metadata": {},
   "outputs": [],
   "source": [
    "from __future__ import division, print_function\n",
    "import ROOT\n",
    "import ctypes\n",
    "import matplotlib\n"
   ]
  },
  {
   "cell_type": "markdown",
   "id": "0303b639",
   "metadata": {},
   "source": [
    "More values for Root palettes can be found on: https://root.cern.ch/doc/master/TColor_8cxx_source.html#l02562\n",
    "\n",
    "# kBird"
   ]
  },
  {
   "cell_type": "code",
   "execution_count": null,
   "id": "21399663",
   "metadata": {},
   "outputs": [],
   "source": [
    "red = [0.2082, 0.0592, 0.0780, 0.0232, 0.1802, 0.5301, 0.8186, 0.9956, 0.9764]\n",
    "green=[0.1664, 0.3599, 0.5041, 0.6419, 0.7178, 0.7492, 0.7328, 0.7862, 0.9832]\n",
    "blue=[.5293, 0.8684, 0.8385, 0.7914, 0.6425, 0.4662, 0.3499, 0.1968, 0.0539]\n",
    "stops=[0.0000, 0.1250, 0.2500, 0.3750, 0.5000, 0.6250, 0.7500, 0.8750, 1.0000]"
   ]
  },
  {
   "cell_type": "markdown",
   "id": "51bfa02a",
   "metadata": {},
   "source": [
    "# kRainbow"
   ]
  },
  {
   "cell_type": "code",
   "execution_count": null,
   "id": "d59a56ce",
   "metadata": {},
   "outputs": [],
   "source": [
    "red=[0./255.,5./255.,15./255.,35./255.,102./255.,196./255.,208./255.,199./255.,110./255.]\n",
    "green=[0./255.,48./255.,124./255.,192./255.,206./255.,226./255.,97./255.,16./255.,0./255.]\n",
    "blue=[99./255.,142./255.,198./255.,201./255.,90./255.,22./255.,13./255.,8./255.,2./255.]\n",
    "stops=[0.0000, 0.1250, 0.2500, 0.3750, 0.5000, 0.6250, 0.7500, 0.8750, 1.0000]"
   ]
  },
  {
   "cell_type": "code",
   "execution_count": null,
   "id": "2058bcae",
   "metadata": {},
   "outputs": [],
   "source": [
    "def print_list(values):\n",
    "    print('[' + ', '.join(format(value, '.3f') for value in values) + ']')\n",
    "\n",
    "def interpolate(inp, fi):\n",
    "    i, f = int(fi // 1), fi % 1  # Split floating-point index into whole & fractional parts.\n",
    "    j = i+1 if f > 0 else i  # Avoid index error.\n",
    "    return (1-f) * inp[i] + f * inp[j]\n",
    "\n",
    "new_len = 30\n",
    "delta = (len(red)-1) / (new_len-1)\n",
    "redpp = [interpolate(red, i*delta) for i in range(new_len)]\n",
    "greenpp = [interpolate(green, i*delta) for i in range(new_len)]\n",
    "bluepp = [interpolate(blue, i*delta) for i in range(new_len)]"
   ]
  },
  {
   "cell_type": "code",
   "execution_count": null,
   "id": "b613464b",
   "metadata": {},
   "outputs": [],
   "source": [
    "palette=[]\n",
    "for i in range(len(redpp)):\n",
    "    palette.append(matplotlib.colors.to_hex([redpp[i],greenpp[i],bluepp[i]]))"
   ]
  },
  {
   "cell_type": "code",
   "execution_count": null,
   "id": "ac69bdec",
   "metadata": {},
   "outputs": [],
   "source": [
    "palette"
   ]
  },
  {
   "cell_type": "code",
   "execution_count": null,
   "id": "7b0cb2b8",
   "metadata": {},
   "outputs": [],
   "source": []
  }
 ],
 "metadata": {
  "kernelspec": {
   "display_name": "Python 3 (ipykernel)",
   "language": "python",
   "name": "python3"
  },
  "language_info": {
   "codemirror_mode": {
    "name": "ipython",
    "version": 3
   },
   "file_extension": ".py",
   "mimetype": "text/x-python",
   "name": "python",
   "nbconvert_exporter": "python",
   "pygments_lexer": "ipython3",
   "version": "3.9.12"
  }
 },
 "nbformat": 4,
 "nbformat_minor": 5
}
