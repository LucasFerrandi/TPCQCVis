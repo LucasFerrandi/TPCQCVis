{
 "cells": [
  {
   "cell_type": "code",
   "execution_count": 1,
   "id": "07852569",
   "metadata": {},
   "outputs": [
    {
     "name": "stdout",
     "output_type": "stream",
     "text": [
      "Welcome to JupyROOT 6.24/06\n"
     ]
    }
   ],
   "source": [
    "import ROOT"
   ]
  },
  {
   "cell_type": "code",
   "execution_count": 37,
   "id": "430da198",
   "metadata": {},
   "outputs": [],
   "source": [
    "path = \"../../data/userFiles/\"\n",
    "f1 = ROOT.TFile.Open(path+\"apass4_505548_QC.root\",\"READ\")"
   ]
  },
  {
   "cell_type": "code",
   "execution_count": 38,
   "id": "c4cca31f",
   "metadata": {},
   "outputs": [],
   "source": [
    "PID = f1.Get(\"PID\")\n",
    "#ROOT.CopyDir(PID)\n",
    "outfile = ROOT.TFile.Open(\"test.root\", \"recreate\")\n",
    "outfile.cd()\n",
    "PID.Write()\n",
    "outfile.Close()"
   ]
  },
  {
   "cell_type": "code",
   "execution_count": 47,
   "id": "8c79d3eb",
   "metadata": {},
   "outputs": [
    {
     "ename": "AttributeError",
     "evalue": "'MonitorObjectCollection' object has no attribute 'GetObject'",
     "output_type": "error",
     "traceback": [
      "\u001b[0;31m---------------------------------------------------------------------------\u001b[0m",
      "\u001b[0;31mAttributeError\u001b[0m                            Traceback (most recent call last)",
      "\u001b[0;32m<ipython-input-47-c67f72b92a3b>\u001b[0m in \u001b[0;36m<module>\u001b[0;34m\u001b[0m\n\u001b[0;32m----> 1\u001b[0;31m \u001b[0mPID\u001b[0m\u001b[0;34m.\u001b[0m\u001b[0mGetObject\u001b[0m\u001b[0;34m(\u001b[0m\u001b[0;34m\"hNClusters\"\u001b[0m\u001b[0;34m)\u001b[0m\u001b[0;34m\u001b[0m\u001b[0;34m\u001b[0m\u001b[0m\n\u001b[0m",
      "\u001b[0;31mAttributeError\u001b[0m: 'MonitorObjectCollection' object has no attribute 'GetObject'"
     ]
    }
   ],
   "source": [
    "PID.GetObject(\"hNClusters\")"
   ]
  },
  {
   "cell_type": "code",
   "execution_count": 41,
   "id": "07dae451",
   "metadata": {},
   "outputs": [
    {
     "ename": "TypeError",
     "evalue": "'NoneType' object is not iterable",
     "output_type": "error",
     "traceback": [
      "\u001b[0;31m---------------------------------------------------------------------------\u001b[0m",
      "\u001b[0;31mTypeError\u001b[0m                                 Traceback (most recent call last)",
      "\u001b[0;32m<ipython-input-41-44b216682b0c>\u001b[0m in \u001b[0;36m<module>\u001b[0;34m\u001b[0m\n\u001b[0;32m----> 1\u001b[0;31m \u001b[0;32mfor\u001b[0m \u001b[0mi\u001b[0m \u001b[0;32min\u001b[0m \u001b[0mPID\u001b[0m\u001b[0;34m.\u001b[0m\u001b[0mls\u001b[0m\u001b[0;34m(\u001b[0m\u001b[0;34m)\u001b[0m\u001b[0;34m:\u001b[0m\u001b[0;34m\u001b[0m\u001b[0;34m\u001b[0m\u001b[0m\n\u001b[0m\u001b[1;32m      2\u001b[0m     \u001b[0mprint\u001b[0m\u001b[0;34m(\u001b[0m\u001b[0mi\u001b[0m\u001b[0;34m)\u001b[0m\u001b[0;34m\u001b[0m\u001b[0;34m\u001b[0m\u001b[0m\n",
      "\u001b[0;31mTypeError\u001b[0m: 'NoneType' object is not iterable"
     ]
    },
    {
     "name": "stdout",
     "output_type": "stream",
     "text": [
      "OBJ: o2::quality_control::core::MonitorObjectCollection\tPID\t : 0\n",
      " OBJ: o2::quality_control::core::MonitorObject\thNClusters\t : 0 at: 0x10da78e0\n",
      " OBJ: o2::quality_control::core::MonitorObject\thdEdxTot\t : 0 at: 0x10d6f370\n",
      " OBJ: o2::quality_control::core::MonitorObject\thdEdxMax\t : 0 at: 0x10c40e00\n",
      " OBJ: o2::quality_control::core::MonitorObject\thPhi\t : 0 at: 0x10d26ed0\n",
      " OBJ: o2::quality_control::core::MonitorObject\thTgl\t : 0 at: 0x10d277e0\n",
      " OBJ: o2::quality_control::core::MonitorObject\thSnp\t : 0 at: 0x10d27f10\n",
      " OBJ: o2::quality_control::core::MonitorObject\thdEdxMips\t : 0 at: 0x10c9c7c0\n",
      " OBJ: o2::quality_control::core::MonitorObject\thdEdxEles\t : 0 at: 0x10c9ce50\n",
      " OBJ: o2::quality_control::core::MonitorObject\thNClustersBeforeCuts\t : 0 at: 0x10c9d4e0\n",
      " OBJ: o2::quality_control::core::MonitorObject\thdEdxVsPhi\t : 0 at: 0x10c406b0\n",
      " OBJ: o2::quality_control::core::MonitorObject\thdEdxVsTgl\t : 0 at: 0x1103a4e0\n",
      " OBJ: o2::quality_control::core::MonitorObject\thdEdxVsncls\t : 0 at: 0x1103aa50\n",
      " OBJ: o2::quality_control::core::MonitorObject\thdEdxVsp\t : 0 at: 0x1103b030\n",
      " OBJ: o2::quality_control::core::MonitorObject\thdEdxVspBeforeCuts\t : 0 at: 0x1103bd30\n",
      " OBJ: o2::quality_control::core::MonitorObject\thdEdxVsPhiMipsAside\t : 0 at: 0x10c0e980\n",
      " OBJ: o2::quality_control::core::MonitorObject\thdEdxVsPhiMipsCside\t : 0 at: 0x10ccd050\n",
      " OBJ: o2::quality_control::core::MonitorObject\thdEdxVsPhiElesAside\t : 0 at: 0x10ccd700\n",
      " OBJ: o2::quality_control::core::MonitorObject\thdEdxVsPhiElesCside\t : 0 at: 0x10ccd9a0\n",
      " OBJ: o2::quality_control::core::MonitorObject\thdEdxMaxVsp\t : 0 at: 0x10df3a40\n",
      " OBJ: o2::quality_control::core::MonitorObject\thdEdxMaxVspBeforeCuts\t : 0 at: 0x10c0fb20\n"
     ]
    }
   ],
   "source": [
    "for i in PID.ls():\n",
    "    print(i)"
   ]
  },
  {
   "cell_type": "code",
   "execution_count": null,
   "id": "7c6ac683",
   "metadata": {},
   "outputs": [],
   "source": []
  }
 ],
 "metadata": {
  "kernelspec": {
   "display_name": "Python 3 (ipykernel)",
   "language": "python",
   "name": "python3"
  },
  "language_info": {
   "codemirror_mode": {
    "name": "ipython",
    "version": 3
   },
   "file_extension": ".py",
   "mimetype": "text/x-python",
   "name": "python",
   "nbconvert_exporter": "python",
   "pygments_lexer": "ipython3",
   "version": "3.6.10"
  }
 },
 "nbformat": 4,
 "nbformat_minor": 5
}
