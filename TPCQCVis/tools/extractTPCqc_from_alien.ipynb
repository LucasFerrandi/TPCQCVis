{
 "cells": [
  {
   "cell_type": "code",
   "execution_count": null,
   "id": "07852569",
   "metadata": {},
   "outputs": [],
   "source": [
    "import ROOT"
   ]
  },
  {
   "cell_type": "code",
   "execution_count": null,
   "id": "430da198",
   "metadata": {},
   "outputs": [],
   "source": [
    "path = \"../../data/userFiles/\"\n",
    "f1 = ROOT.TFile.Open(path+\"apass4_505548_QC.root\",\"READ\")"
   ]
  },
  {
   "cell_type": "code",
   "execution_count": null,
   "id": "c4cca31f",
   "metadata": {},
   "outputs": [],
   "source": [
    "PID = f1.Get(\"PID\")\n",
    "#ROOT.CopyDir(PID)\n",
    "outfile = ROOT.TFile.Open(\"test.root\", \"recreate\")\n",
    "outfile.cd()\n",
    "PID.Write()\n",
    "outfile.Close()"
   ]
  },
  {
   "cell_type": "code",
   "execution_count": null,
   "id": "8c79d3eb",
   "metadata": {},
   "outputs": [],
   "source": [
    "PID.GetObject(\"hNClusters\")"
   ]
  },
  {
   "cell_type": "code",
   "execution_count": null,
   "id": "07dae451",
   "metadata": {},
   "outputs": [],
   "source": [
    "for i in PID.ls():\n",
    "    print(i)"
   ]
  },
  {
   "cell_type": "code",
   "execution_count": null,
   "id": "7c6ac683",
   "metadata": {},
   "outputs": [],
   "source": []
  }
 ],
 "metadata": {
  "kernelspec": {
   "display_name": "Python 3 (ipykernel)",
   "language": "python",
   "name": "python3"
  },
  "language_info": {
   "codemirror_mode": {
    "name": "ipython",
    "version": 3
   },
   "file_extension": ".py",
   "mimetype": "text/x-python",
   "name": "python",
   "nbconvert_exporter": "python",
   "pygments_lexer": "ipython3",
   "version": "3.6.10"
  }
 },
 "nbformat": 4,
 "nbformat_minor": 5
}
