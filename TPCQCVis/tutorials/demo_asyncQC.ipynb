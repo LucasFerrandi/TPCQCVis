{
 "cells": [
  {
   "cell_type": "code",
   "execution_count": null,
   "id": "a8c7a05a",
   "metadata": {},
   "outputs": [],
   "source": [
    "import ROOT\n",
    "import glob\n",
    "import math\n",
    "from IPython.display import display, Markdown\n",
    "from IPython.display import display, HTML\n",
    "from TPCQCVis.src.drawHistograms import *\n",
    "from TPCQCVis.src.drawTrending import *\n",
    "\n",
    "display(HTML(\"<style>.container { width:100% !important; }</style>\"))\n",
    "jsroot = True"
   ]
  },
  {
   "cell_type": "markdown",
   "id": "14a3086a",
   "metadata": {},
   "source": [
    "## Read root files\n",
    "+ The QC output of the async Reconstruction are saved on the alien in a `QC.root` file\n",
    "+ These can be downloaded with `alien_cp` to local system\n",
    "+ To extract the TPC specific plots (and create Cluster plots from `ClustersData` object) use the plotQCData.C macro\n",
    "+ The generated root files can be displayed like shown below (the tools displayed below cna be used to generate reports for any root file)\n",
    "+ Create the needed plots and add Markdown text for explanations\n",
    "+ Using `jupyter nbconvert my_dashboard.ipynb  --to html --no-input --post serve` the html report can be generated"
   ]
  },
  {
   "cell_type": "code",
   "execution_count": null,
   "id": "c5085b14",
   "metadata": {},
   "outputs": [],
   "source": [
    "# Read the Root Files\n",
    "path = \"/Users/ahutson/Desktop/QCServiceWork/userFiles/\"\n",
    "fileList = glob.glob(path+\"*_QC.root\")\n",
    "runList = [fileList[i][55:-8] for i in range(len(fileList))]\n",
    "rootDataFile=[]\n",
    "for file in fileList:\n",
    "    rootDataFile.append(ROOT.TFile.Open(file,\"READ\"))"
   ]
  },
  {
   "cell_type": "markdown",
   "id": "e76711ce",
   "metadata": {},
   "source": [
    "## Display object directly from the TFile\n",
    "+ Cluster task painter generates nice canvases from the get-go, so these can simply be drawn liek shown below: "
   ]
  },
  {
   "cell_type": "code",
   "execution_count": null,
   "id": "b9ce40fe",
   "metadata": {},
   "outputs": [],
   "source": [
    "%jsroot on\n",
    "objectName = \"c_N_Clusters\"\n",
    "c = rootDataFile[0].ClusterQC.Get(objectName)\n",
    "c.Draw()\n",
    "\n",
    "display(Markdown('---\\n'+'### '+objectName+ ' (shown is Run 517222)'))\n",
    "display(Markdown('- Increased noise on OROC3 of C4 and A10. <br /> - Expected to be related to the powering of the field cage. <br />'+\n",
    "                 '- **Both runs OK**'))"
   ]
  },
  {
   "cell_type": "markdown",
   "id": "f2026610",
   "metadata": {},
   "source": [
    "## Show mutliple instances of histograms from different runs together\n",
    "+ See the drawHistograms.py for different options"
   ]
  },
  {
   "cell_type": "code",
   "execution_count": null,
   "id": "3ffd4139",
   "metadata": {},
   "outputs": [],
   "source": [
    "%jsroot on\n",
    "objectName=\"hNClsSubPID;1\"\n",
    "[hist,legend,canvas,pad1] = drawHistograms(objectName,rootDataFile,normalize=True,legend=True,legendNames=runList,pads=True)\n",
    "canvas.Draw()\n",
    "display(Markdown('---\\n'+'### '+objectName))\n",
    "display(Markdown('- Distribution as expected.\\n'+\n",
    "                 '- **OK**'))"
   ]
  },
  {
   "cell_type": "markdown",
   "id": "b10a12b3",
   "metadata": {},
   "source": [
    "## Create trending of variable over the runs\n",
    "+ To see how a certain variable was behaving over different runs it is usually benefical to plot the trending graph\n",
    "+ This can simply be generated like shown below\n",
    "+ See drawTrending.py for details"
   ]
  },
  {
   "cell_type": "code",
   "execution_count": null,
   "id": "92cde513",
   "metadata": {},
   "outputs": [],
   "source": [
    "%jsroot on\n",
    "objectName=\"hNClsSubPID;1\"\n",
    "[trend,canvas] = drawTrending(objectName,rootDataFile,names=runList,error=\"meanError\")\n",
    "canvas.Draw()"
   ]
  },
  {
   "cell_type": "code",
   "execution_count": null,
   "id": "d1eea28e",
   "metadata": {},
   "outputs": [],
   "source": []
  }
 ],
 "metadata": {
  "kernelspec": {
   "display_name": "Python 3 (ipykernel)",
   "language": "python",
   "name": "python3"
  },
  "language_info": {
   "codemirror_mode": {
    "name": "ipython",
    "version": 3
   },
   "file_extension": ".py",
   "mimetype": "text/x-python",
   "name": "python",
   "nbconvert_exporter": "python",
   "pygments_lexer": "ipython3",
   "version": "3.9.12"
  }
 },
 "nbformat": 4,
 "nbformat_minor": 5
}
