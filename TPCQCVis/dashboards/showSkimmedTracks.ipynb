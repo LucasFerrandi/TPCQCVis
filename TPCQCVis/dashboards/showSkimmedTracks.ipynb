{
 "cells": [
  {
   "cell_type": "code",
   "execution_count": null,
   "id": "f4a093f7",
   "metadata": {},
   "outputs": [],
   "source": [
    "from IPython.display import display, Markdown, HTML\n",
    "display(HTML(\"<style>.container { width:95% !important; }</style>\"))"
   ]
  },
  {
   "cell_type": "code",
   "execution_count": null,
   "id": "d0aa810b",
   "metadata": {},
   "outputs": [],
   "source": [
    "import math\n",
    "import ROOT\n",
    "import numpy as np, pandas as pd\n",
    "import yaml\n",
    "import base64\n",
    "import ctypes\n",
    "import logging\n",
    "\n",
    "import bokeh\n",
    "from bokeh.io import output_notebook, show\n",
    "from bokeh.plotting import output_file\n",
    "\n",
    "from RootInteractive.InteractiveDrawing.bokeh.bokehDrawSA import *\n",
    "from RootInteractive.InteractiveDrawing.bokeh.bokehTools import bokehDrawArray\n",
    "from RootInteractive.Tools.pandaTools import initMetadata\n",
    "from RootInteractive.Tools.aliTreePlayer import *\n",
    "\n",
    "output_notebook()"
   ]
  },
  {
   "cell_type": "markdown",
   "id": "62670e53",
   "metadata": {},
   "source": [
    "# Display skimmed AO2D tracks"
   ]
  },
  {
   "cell_type": "code",
   "execution_count": null,
   "id": "1fb86bc5",
   "metadata": {
    "scrolled": false
   },
   "outputs": [],
   "source": [
    "f=ROOT.TFile.Open(\"~/Software/TPCQCVis/data/examples/SkimmedTracks/tpcqcskimmingTracks.root\")\n",
    "tracks = f.Get(\"tracks;2\")  \n",
    "tracks.SetAlias(\"weight1\",\"((triggerMask&0x1)>0)*max(weight,0.01)\")\n",
    "#tracks.Show(0)"
   ]
  },
  {
   "cell_type": "code",
   "execution_count": null,
   "id": "97b3ca67",
   "metadata": {},
   "outputs": [],
   "source": [
    "df=tree2Panda(tracks, [\".*\"], \"\", exclude=[\"trackPar\"])\n",
    "df.head()"
   ]
  },
  {
   "cell_type": "code",
   "execution_count": null,
   "id": "4aab69b3",
   "metadata": {},
   "outputs": [],
   "source": [
    "output_file(\"investigating_skimmed_tracks.html\")\n",
    "histoArray = [{\"name\": \"ptHist\", \"variables\": [\"pt\"], \"nbins\":200, \"range\": [0, 20]},\n",
    "              {\"name\": \"ptWeightedHist\", \"variables\": [\"pt\"], \"nbins\":200, \"range\": [0, 20], \"weights\":\"weight\"},\n",
    "              {\"name\": \"weightHist\", \"variables\": [\"weight\"], \"nbins\":200, \"range\": [0, 20]},\n",
    "              {\"name\": \"ptWeightHist\", \"variables\": [\"pt\",\"weight\"], \"nbins\":[200,200], \"range\": [[0, 20],[0,20]]},\n",
    "              {\"name\": \"phiWeightedHist\", \"variables\": [\"phi\"], \"nbins\":180, \"range\": [0, 6.28], \"weights\":\"weight\"},\n",
    "              {\"name\": \"phiHist\", \"variables\": [\"phi\"], \"nbins\":180, \"range\": [0, 6.28]},\n",
    "              {\"name\": \"ptVsPhi\", \"variables\": [\"pt\",\"phi\"], \"nbins\":[20,18], \"range\": [[0,20],[0, 6.28]]}]\n",
    "\n",
    "figureArray = [[['pt'],['ptHist']],\n",
    "               [['pt'],['ptWeightedHist']],\n",
    "               [['pt'],['ptVsPhi']],\n",
    "               [['phi'],['phiWeightedHist','phiHist']]]\n",
    "\n",
    "layout = [[0,1],[2,3]]\n",
    "tooltips = []\n",
    "widgetParams=[['range', ['pt',0,20,1,0,20]],\n",
    "              ['range', ['phi']]]\n",
    "widgetLayoutDesc=[[0],[1], {'sizing_mode': 'scale_width'}]   \n",
    "xxx = bokehDrawSA.fromArray(df, \"(triggerMask%2)==1\", figureArray, widgetParams, layout=layout, tooltips=tooltips, widgetLayout=widgetLayoutDesc,\n",
    "                            histogramArray=histoArray)"
   ]
  },
  {
   "cell_type": "code",
   "execution_count": null,
   "id": "360fd5e2",
   "metadata": {},
   "outputs": [],
   "source": []
  }
 ],
 "metadata": {
  "kernelspec": {
   "display_name": "Python 3 (ipykernel)",
   "language": "python",
   "name": "python3"
  },
  "language_info": {
   "codemirror_mode": {
    "name": "ipython",
    "version": 3
   },
   "file_extension": ".py",
   "mimetype": "text/x-python",
   "name": "python",
   "nbconvert_exporter": "python",
   "pygments_lexer": "ipython3",
   "version": "3.6.10"
  }
 },
 "nbformat": 4,
 "nbformat_minor": 5
}
