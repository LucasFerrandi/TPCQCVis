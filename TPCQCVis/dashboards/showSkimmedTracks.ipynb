{
 "cells": [
  {
   "cell_type": "code",
   "execution_count": null,
   "metadata": {},
   "outputs": [],
   "source": [
    "from IPython.display import display, Markdown, HTML\n",
    "display(HTML(\"<style>.container { width:95% !important; }</style>\"))"
   ]
  },
  {
   "cell_type": "code",
   "execution_count": null,
   "metadata": {},
   "outputs": [],
   "source": [
    "import math\n",
    "import ROOT\n",
    "import numpy as np, pandas as pd\n",
    "import yaml\n",
    "import base64\n",
    "import ctypes\n",
    "import logging\n",
    "\n",
    "import bokeh\n",
    "from bokeh.io import output_notebook, show\n",
    "from bokeh.plotting import output_file\n",
    "\n",
    "from RootInteractive.InteractiveDrawing.bokeh.bokehDrawSA import *\n",
    "from RootInteractive.InteractiveDrawing.bokeh.bokehTools import bokehDrawArray\n",
    "from RootInteractive.Tools.pandaTools import initMetadata\n",
    "from RootInteractive.Tools.aliTreePlayer import *\n",
    "\n",
    "output_notebook()"
   ]
  },
  {
   "cell_type": "markdown",
   "metadata": {},
   "source": [
    "# Display skimmed AO2D tracks"
   ]
  },
  {
   "cell_type": "code",
   "execution_count": null,
   "metadata": {},
   "outputs": [],
   "source": [
    "inputFile=\"/lustre/alice/users/miranov/NOTESData/alice-tpc-notes/JIRA/ATO-592/tpcqcskimmingTracks.root\"\n",
    "#inputFile=\"~/Software/TPCQCVis/data/examples/SkimmedTracks/tpcqcskimmingTracks.root\""
   ]
  },
  {
   "cell_type": "code",
   "execution_count": null,
   "metadata": {
    "scrolled": false
   },
   "outputs": [],
   "source": [
    "f=ROOT.TFile.Open(inputFile)\n",
    "tracks = f.Get(\"tracks;2\")  \n",
    "tracks.SetAlias(\"weight1\",\"((triggerMask&0x1)>0)*max(weight,0.01)\")\n",
    "tracks.SetAlias(\"rMin\",\"trackPar.mX\")\n",
    "tracks.SetAlias(\"qPt\",\"trackPar.mP[4]\")\n",
    "tracks.SetAlias(\"pzPt\",\"trackPar.mP[3]\")\n",
    "tracks.SetAlias(\"itsOn\",\"itsClusterMap>0\")\n",
    "tracks.SetAlias(\"tofOn\",\"abs(tofChi2)<100\")\n",
    "#tracks.SetAlias(\"side\",\"pzPt>0\")\n",
    "\n",
    "#tracks.Show(0)"
   ]
  },
  {
   "cell_type": "code",
   "execution_count": null,
   "metadata": {},
   "outputs": [],
   "source": [
    "tracks.Show(0)"
   ]
  },
  {
   "cell_type": "code",
   "execution_count": null,
   "metadata": {},
   "outputs": [],
   "source": [
    "df=tree2Panda(tracks, [\".*\"], \"\", exclude=[\"trackPar\"])\n",
    "df[\"side\"]=df.eval(\"pzPt>0\") ##  (A/C/CrossAC/CrossCA side)\n",
    "df[\"isPrim5\"]=df.eval(\"abs(dcaXY)<5 &  abs(dcaZ)<5 & rMin<5\")\n",
    "\n",
    "df.head()"
   ]
  },
  {
   "cell_type": "code",
   "execution_count": null,
   "metadata": {},
   "outputs": [],
   "source": [
    "widgetParams=[['range', ['pt']],\n",
    "              ['range', ['qPt']],\n",
    "              ['range', ['phi']],\n",
    "              ['range', ['pzPt']],\n",
    "              #\n",
    "              ['range', ['dcaXY']],\n",
    "              ['range', ['dcaZ']],\n",
    "              ['range', ['rMin']],\n",
    "              ['range', ['tpcNClsFindable']],\n",
    "              #\n",
    "              ['multiSelect',[\"side\"]],\n",
    "              ['multiSelect',[\"isPrim5\"]],\n",
    "              ['multiSelect',[\"itsOn\"]],\n",
    "              ['multiSelect',[\"tofOn\"]],\n",
    "              ['multiSelect',[\"hasCollision\"]],\n",
    "             ]\n",
    "widgetLayoutDesc=[[0,1,2,3],[4,5,6,7],[8,9,10,11,12], {'sizing_mode': 'scale_width'}]   \n",
    "#widgetLayoutDesc=[[0,1,2,3],[4,5,6], {'sizing_mode': 'scale_width'}]  \n",
    "#widgetLayoutDesc=[[0],[1], {'sizing_mode': 'scale_width'}] "
   ]
  },
  {
   "cell_type": "code",
   "execution_count": null,
   "metadata": {},
   "outputs": [],
   "source": [
    "aliasArray = [    {\n",
    "        \"name\": \"logPtWeight\",\n",
    "        \"variables\": [\"bin_count\"],\n",
    "        \"func\": \"return Math.log(bin_count)\",\n",
    "        \"context\": \"ptWeightedHist\"\n",
    "    }\n",
    "]\n"
   ]
  },
  {
   "cell_type": "code",
   "execution_count": null,
   "metadata": {},
   "outputs": [],
   "source": [
    "output_file(\"investigating_skimmed_tracks.html\")\n",
    "histoArray = [{\"name\": \"ptHist\", \"variables\": [\"pt\"], \"nbins\":200, \"range\": [0, 20]},\n",
    "              {\"name\": \"ptWeightedHist\", \"variables\": [\"pt\"], \"nbins\":200, \"range\": [0, 20], \"weights\":\"weight\"},\n",
    "              {\"name\": \"weightHist\", \"variables\": [\"weight\"], \"nbins\":200, \"range\": [0, 20]},\n",
    "              {\"name\": \"ptWeightHist\", \"variables\": [\"pt\",\"weight\"], \"nbins\":[200,200], \"range\": [[0, 20],[0,20]]},\n",
    "              {\"name\": \"phiWeightedHist\", \"variables\": [\"phi\"], \"nbins\":180, \"range\": [0, 6.28], \"weights\":\"weight\"},\n",
    "              {\"name\": \"phiHist\", \"variables\": [\"phi\"], \"nbins\":180, \"range\": [0, 6.28]},\n",
    "              {\"name\": \"phiHistA\", \"variables\": [\"phi\"], \"nbins\":90},\n",
    "              {\"name\": \"ptVsPhi\", \"variables\": [\"pt\",\"phi\"], \"nbins\":[20,18], \"range\": [[0,20],[0, 6.28]]}]\n",
    "\n",
    "figureArray = [[['pt'],['ptHist']],\n",
    "               [['pt'],['ptWeightedHist']],\n",
    "               [['bin_center'],['logPtWeight'],{\"source\":\"ptWeightedHist\"}],\n",
    "               [['pt'],['ptVsPhi']],\n",
    "               [['phi'],['phiWeightedHist','phiHist']],\n",
    "               [['phi'],['phiHistA']],\n",
    "              ]\n",
    "\n",
    "layout = [[0,2],[3,5]]\n",
    "tooltips = []\n",
    "\n",
    "  \n",
    "xxx = bokehDrawSA.fromArray(df, \"(triggerMask%2)==1&pt<20&abs(qPt)<20\", figureArray, widgetParams, layout=layout, tooltips=tooltips, widgetLayout=widgetLayoutDesc,\n",
    "                            histogramArray=histoArray,aliasArray=aliasArray)"
   ]
  },
  {
   "cell_type": "code",
   "execution_count": null,
   "metadata": {},
   "outputs": [],
   "source": [
    "c1=ROOT.TCanvas(\"c\",\"c\")\n",
    "tracks.SetAlias(\"itsOn\",\"(flags&0x1)>0\")\n",
    "tracks.Draw(\"tpcNClsFindable\",\"\")\n",
    "c1.Draw()"
   ]
  },
  {
   "cell_type": "code",
   "execution_count": null,
   "metadata": {},
   "outputs": [],
   "source": [
    "tracks.GetLeaf(\"tpcNClsFindable\").Print()\n",
    "tracks.GetLeaf(\"tpcNClsFindableMinusFound\").Print()"
   ]
  },
  {
   "cell_type": "code",
   "execution_count": null,
   "metadata": {},
   "outputs": [],
   "source": [
    "c1=ROOT.TCanvas(\"c\",\"c\")\n",
    "tracks.SetAlias(\"itsOn\",\"(flags&0x1)>0\")\n",
    "tracks.Draw(\"dcaXY:phi\",\"pzPt<0&&phi<1&&abs(dcaXY)<10&&pt>2\",\"prof\")\n",
    "c1.Draw()"
   ]
  },
  {
   "cell_type": "code",
   "execution_count": null,
   "metadata": {},
   "outputs": [],
   "source": []
  }
 ],
 "metadata": {
  "kernelspec": {
   "display_name": "Python 3",
   "language": "python",
   "name": "python3"
  },
  "language_info": {
   "codemirror_mode": {
    "name": "ipython",
    "version": 3
   },
   "file_extension": ".py",
   "mimetype": "text/x-python",
   "name": "python",
   "nbconvert_exporter": "python",
   "pygments_lexer": "ipython3",
   "version": "3.6.9"
  }
 },
 "nbformat": 4,
 "nbformat_minor": 5
}
