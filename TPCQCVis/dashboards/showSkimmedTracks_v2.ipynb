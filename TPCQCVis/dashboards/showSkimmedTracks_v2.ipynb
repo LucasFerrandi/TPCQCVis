{
 "cells": [
  {
   "cell_type": "code",
   "execution_count": null,
   "id": "98083544",
   "metadata": {
    "slideshow": {
     "slide_type": "skip"
    }
   },
   "outputs": [],
   "source": [
    "from IPython.display import display, Markdown, HTML\n",
    "display(HTML(\"<style>.container { width:95% !important; }</style>\"))"
   ]
  },
  {
   "cell_type": "code",
   "execution_count": null,
   "id": "3f64c162",
   "metadata": {
    "slideshow": {
     "slide_type": "skip"
    }
   },
   "outputs": [],
   "source": [
    "import math\n",
    "import ROOT\n",
    "import numpy as np, pandas as pd\n",
    "import yaml\n",
    "import base64\n",
    "import ctypes\n",
    "import logging\n",
    "import bokeh\n",
    "from bokeh.io import output_notebook, show\n",
    "from bokeh.plotting import output_file\n",
    "from RootInteractive.InteractiveDrawing.bokeh.bokehDrawSA import *\n",
    "from RootInteractive.InteractiveDrawing.bokeh.bokehTools import bokehDrawArray\n",
    "from RootInteractive.Tools.pandaTools import initMetadata\n",
    "from RootInteractive.Tools.aliTreePlayer import *\n",
    "from RootInteractive.Tools.compressArray import arrayCompressionRelative8\n",
    "\n",
    "output_notebook()"
   ]
  },
  {
   "cell_type": "markdown",
   "id": "48b4cd87",
   "metadata": {
    "slideshow": {
     "slide_type": "slide"
    }
   },
   "source": [
    "# Display skimmed AO2D tracks"
   ]
  },
  {
   "cell_type": "code",
   "execution_count": null,
   "id": "b7ca5579",
   "metadata": {},
   "outputs": [],
   "source": [
    "#inputFile=\"/lustre/alice/users/miranov/NOTESData/alice-tpc-notes/JIRA/ATO-592/tpcqcskimmingTracks.root\"\n",
    "inputFile=\"~/Software/TPCQCVis/data/tpcqcskimmingTracks.root\""
   ]
  },
  {
   "cell_type": "code",
   "execution_count": null,
   "id": "1b9848ec",
   "metadata": {},
   "outputs": [],
   "source": [
    "f=ROOT.TFile.Open(inputFile)\n",
    "tracks = f.Get(\"tracks;2\")  \n",
    "tracks.SetAlias(\"weight1\",\"((triggerMask&0x1)>0)*max(weight,0.01)\")\n",
    "tracks.SetAlias(\"rMin\",\"trackPar.mX\")\n",
    "tracks.SetAlias(\"qPt\",\"trackPar.mP[4]\")\n",
    "tracks.SetAlias(\"pzPt\",\"trackPar.mP[3]\")\n",
    "tracks.SetAlias(\"itsOn\",\"itsClusterMap>0\")\n",
    "\n",
    "tracks.SetAlias(\"tofOn\",\"abs(tofChi2)<100\")"
   ]
  },
  {
   "cell_type": "code",
   "execution_count": null,
   "id": "343df9f1",
   "metadata": {},
   "outputs": [],
   "source": [
    "df=tree2Panda(tracks, [\".*\"], \"\", exclude=[\"trackPar\"])   \n",
    "df[\"side\"]=df.eval(\"pzPt>0\") ##  (A/C/CrossAC/CrossCA side)\n",
    "df[\"isPrim5\"]=df.eval(\"abs(dcaXY)<5 &  abs(dcaZ)<5 & rMin<5\")\n",
    "df[\"tpcNCR\"]=df[\"tpcNClsFindable\"]-df[\"tpcNClsFindableMinusCrossedRows\"]\n",
    "df.head()"
   ]
  },
  {
   "cell_type": "code",
   "execution_count": null,
   "id": "8aa2cd02",
   "metadata": {},
   "outputs": [],
   "source": [
    "aliasArray = [\n",
    "    {\n",
    "        \"name\": \"logPtWeight\",\n",
    "        \"variables\": [\"bin_count\"],\n",
    "        \"func\": \"return Math.log(bin_count)\",\n",
    "        \"context\": \"ptWeightedHist\"\n",
    "    }\n",
    "]"
   ]
  },
  {
   "cell_type": "code",
   "execution_count": null,
   "id": "d614b7ba",
   "metadata": {},
   "outputs": [],
   "source": [
    "parameterArray = [\n",
    "    {\"name\": \"size\", \"value\":5, \"range\":[0, 20]},\n",
    "    {\"name\": \"legendFontSize\", \"value\":\"13px\", \"options\":[\"9px\", \"11px\", \"13px\", \"15px\"]},\n",
    "    {\"name\": \"binCountTrans\", \"value\":\"bin_count\", \"options\":[\"bin_count\", \"logbin_count\",\"sqrtbin_count\"]},\n",
    "    {\"name\": \"legendVisible\", \"value\":True},\n",
    "    {\"name\": \"legendLocation\", \"value\":\"top_right\", \"options\":[\"top_right\",\"top_left\", \"bottom_right\",\"bottom_left\"]},\n",
    "]"
   ]
  },
  {
   "cell_type": "code",
   "execution_count": null,
   "id": "7e718a8c",
   "metadata": {},
   "outputs": [],
   "source": [
    "widgetParams=[\n",
    "      ['range', ['pt']],\n",
    "      ['range', ['qPt']],\n",
    "      ['range', ['phi']],\n",
    "      ['range', ['pzPt']],\n",
    "      #\n",
    "      ['range', ['dcaXY']],\n",
    "      ['range', ['dcaZ']],\n",
    "      ['range', ['rMin']],\n",
    "      ['range', ['tpcNClsFindable']],\n",
    "      #\n",
    "      ['multiSelect',[\"side\"]],\n",
    "      ['multiSelect',[\"isPrim5\"]],\n",
    "      ['multiSelect',[\"itsOn\"]],\n",
    "      ['multiSelect',[\"tofOn\"]],\n",
    "      ['multiSelect',[\"hasCollision\"]],\n",
    "      ['textQuery', {\"title\": \"user select\"}],\n",
    "      # Graphics\n",
    "      ['slider',[\"size\"], {\"callback\": \"parameter\", \"title\":\"Marker size\"}],\n",
    "      ['select',[\"binCountTrans\"], {\"callback\": \"parameter\", \"default\": 1, \"title\":\"Bin count transformation\"}],\n",
    "      ['toggle',['legendVisible']],  \n",
    "      ['select',[\"legendFontSize\"], {\"callback\": \"parameter\", \"default\": 2, \"title\":\"Legend font size\"}],\n",
    "      ['select',[\"legendLocation\"], {\"callback\": \"parameter\", \"default\": 0}]\n",
    "]\n",
    "widgetLayoutDesc={\n",
    "    \"Selection:\": [[0,1,2,3],[4,5,6,7],[8,9,10,11,12],[13], {'sizing_mode': 'scale_width'}],\n",
    "    \"Graphics\": [[14,15,16,17,18], {'sizing_mode': 'scale_width'}],\n",
    "}"
   ]
  },
  {
   "cell_type": "code",
   "execution_count": null,
   "id": "0ea07ca7",
   "metadata": {},
   "outputs": [],
   "source": [
    "histoArray = [\n",
    "    #{\"name\": \"ptHist\", \"variables\": [\"pt\"], \"nbins\":200, \"range\": [0, 20]},\n",
    "    #{\"name\": \"phiHist\", \"variables\": [\"phi\"], \"nbins\":180, \"range\": [0, 6.28]},\n",
    "    #{\"name\": \"phiHistA\", \"variables\": [\"phi\"], \"nbins\":90},\n",
    "    #{\"name\": \"ptWeightedHist\", \"variables\": [\"pt\"], \"nbins\":200, \"range\": [0, 20], \"weights\":\"weight\"},\n",
    "    #{\"name\": \"weightHist\", \"variables\": [\"weight\"], \"nbins\":200, \"range\": [0, 20]},\n",
    "    #{\"name\": \"ptWeightHist\", \"variables\": [\"pt\",\"weight\"], \"nbins\":[200,200], \"range\": [[0, 20],[0,20]]},\n",
    "    #{\"name\": \"phiWeightedHist\", \"variables\": [\"phi\"], \"nbins\":180, \"range\": [0, 6.28], \"weights\":\"weight\"},\n",
    "    {\"name\": \"ptVsPhi\", \"variables\": [\"phi\",\"pt\"], \"nbins\":[90,40], \"range\": [[0, 6.28],[0,20]]},\n",
    "    {\"name\": \"ptVstpcNClsFindable\", \"variables\": [\"tpcNClsFindable\",\"pt\"], \"nbins\":[80,40], \"range\": [[0,160],[0,20]]},\n",
    "    {\"name\": \"tpcSignalVspt\", \"variables\": [\"pt\",\"tpcSignal\"], \"nbins\":[80,80], \"range\": [[0,20],[0, 400]]},\n",
    "    {\"name\": \"tpcSignalVsPhi\", \"variables\": [\"phi\",\"tpcSignal\"], \"nbins\":[90,80], \"range\": [[0, 6.28],[0, 400]]},\n",
    "]\n",
    "\n",
    "histArrayPhi=[\n",
    "    {\"name\": \"dcaXYVsPhi\", \"variables\": [\"phi\",\"dcaXY\"], \"nbins\":[30,80], \"range\": [None, [-6,6]], \"quantiles\": [.05, .5, .95],\"axis\": [0, 1]},\n",
    "    {\"name\": \"dcaZVsPhi\", \"variables\": [\"phi\",\"dcaZ\"], \"nbins\":[30,80], \"range\": [None, [-6,6]], \"quantiles\": [.05, .5, .95],\"axis\": [0, 1]},\n",
    "    {\"name\": \"tpcNClsFindableVsPhi\", \"variables\": [\"phi\",\"tpcNClsFindable\"], \"nbins\":[30,20], \"range\": [None,[0, 159]], \"quantiles\": [.05, .5, .95],\"axis\": [0, 1]},\n",
    "    {\"name\": \"tpcNCRVsPhi\", \"variables\": [\"phi\",\"tpcNCR\"], \"nbins\":[30,20], \"range\": [None,[0, 159]], \"quantiles\": [.05, .5, .95],\"axis\": [0, 1]},\n",
    "    {\"name\": \"tpcChi2NClVsPhi\", \"variables\": [\"phi\",\"tpcChi2NCl\"], \"nbins\":[30,20], \"range\": [None,[0, 6.28]], \"quantiles\": [.05, .5, .95],\"axis\": [0, 1]},\n",
    "]\n",
    "histoArray.extend(histArrayPhi)\n",
    "\n",
    "histArrayPt=[\n",
    "    {\"name\": \"dcaXYVsPt\", \"variables\": [\"pt\",\"dcaXY\"], \"nbins\":[30,80], \"range\": [None, [-6,6]], \"quantiles\": [.05, .5, .95],\"axis\": [0, 1]},\n",
    "    {\"name\": \"dcaZVsPt\", \"variables\": [\"pt\",\"dcaZ\"], \"nbins\":[30,80], \"range\": [None, [-6,6]], \"quantiles\": [.05, .5, .95],\"axis\": [0, 1]},\n",
    "    {\"name\": \"tpcNClsFindableVsPt\", \"variables\": [\"pt\",\"tpcNClsFindable\"], \"nbins\":[30,20], \"range\": [None,[0, 159]], \"quantiles\": [.05, .5, .95],\"axis\": [0, 1]},\n",
    "    {\"name\": \"tpcNCRVsPt\", \"variables\": [\"pt\",\"tpcNCR\"], \"nbins\":[30,20], \"range\": [None,[0, 159]], \"quantiles\": [.05, .5, .95],\"axis\": [0, 1]},\n",
    "    {\"name\": \"tpcChi2NClVsPt\", \"variables\": [\"pt\",\"tpcChi2NCl\"], \"nbins\":[30,20], \"range\": [None,[0, 6.28]], \"quantiles\": [.05, .5, .95],\"axis\": [0, 1]},\n",
    "]\n",
    "histoArray.extend(histArrayPt)\n",
    "\n",
    "histArraytpcNCR=[\n",
    "    {\"name\": \"dcaXYVstpcNCR\", \"variables\": [\"tpcNCR\",\"dcaXY\"], \"nbins\":[30,80], \"range\": [None, [-6,6]], \"quantiles\": [.05, .5, .95],\"axis\": [0, 1]},\n",
    "    {\"name\": \"dcaZVstpcNCR\", \"variables\": [\"tpcNCR\",\"dcaZ\"], \"nbins\":[30,80], \"range\": [None, [-6,6]], \"quantiles\": [.05, .5, .95],\"axis\": [0, 1]},\n",
    "    #{\"name\": \"tpcNClsFindableVsPt\", \"variables\": [\"pt\",\"tpcNClsFindable\"], \"nbins\":[30,20], \"range\": [None,[0, 159]], \"quantiles\": [.05, .5, .95],\"axis\": [0, 1]},\n",
    "    #{\"name\": \"tpcNCRVsPt\", \"variables\": [\"pt\",\"tpcNCR\"], \"nbins\":[30,20], \"range\": [None,[0, 159]], \"quantiles\": [.05, .5, .95],\"axis\": [0, 1]},\n",
    "    #{\"name\": \"tpcChi2NClVsPt\", \"variables\": [\"pt\",\"tpcChi2NCl\"], \"nbins\":[30,20], \"range\": [None,[0, 6.28]], \"quantiles\": [.05, .5, .95],\"axis\": [0, 1]},\n",
    "]\n",
    "histoArray.extend(histArraytpcNCR)"
   ]
  },
  {
   "cell_type": "code",
   "execution_count": null,
   "id": "9856d739",
   "metadata": {},
   "outputs": [],
   "source": [
    "histoArrayLog=[]\n",
    "for his in histoArray:\n",
    "    histoName=his[\"name\"]    \n",
    "    histoArrayLog.append({ \"name\": f\"log{histoName}\",\"variables\": [\"bin_count\"],\"func\": \"return Math.log(bin_count+0.2)\",\"context\": f\"{histoName}\"})\n",
    "    histoArrayLog.append({ \"name\": f\"log{histoName}Err\",\"variables\": [\"bin_count\"],\"func\": \"return 1/Math.sqrt(bin_count+0.2)\",\"context\": f\"{histoName}\"})               \n",
    "    histoArrayLog.append({ \"name\": f\"{histoName}Err\",\"variables\": [\"entries\",\"std\"],\"func\": \"return std/Math.sqrt(entries+0.1)\",\"context\": f\"{histoName}_1\"})\n",
    "    #\n",
    "    histoArrayLog.append({ \"name\": f\"logbin_count\",\"variables\": [\"bin_count\"],\"func\": \"return Math.log(bin_count+0.2)\",\"context\": f\"{histoName}\"})\n",
    "    histoArrayLog.append({ \"name\": f\"sqrtbin_count\",\"variables\": [\"bin_count\"],\"func\": \"return Math.sqrt(bin_count+0.2)\",\"context\": f\"{histoName}\"})\n",
    "aliasArray.extend(histoArrayLog)"
   ]
  },
  {
   "cell_type": "code",
   "execution_count": null,
   "id": "7af8398f",
   "metadata": {},
   "outputs": [],
   "source": [
    "tooltips = []"
   ]
  },
  {
   "cell_type": "code",
   "execution_count": null,
   "id": "df171132",
   "metadata": {},
   "outputs": [],
   "source": [
    "figureArray = [\n",
    "    # Phi DCA\n",
    "    [[\"bin_center_1\"],[\"logdcaXYVsPhi\"],{\"source\": \"dcaXYVsPhi\",\"colorZvar\":\"bin_center_0\",\"errY\":\"logdcaXYVsPhiErr\",\n",
    "                                         \"xAxisTitle\":\"DCA XY\",\"yAxisTitle\":\"log(counts)\"}],\n",
    "    [[\"bin_center_1\"],[\"logdcaZVsPhi\"],{\"source\": \"dcaZVsPhi\",\"colorZvar\":\"bin_center_0\",\"errY\":\"logdcaZVsPhiErr\",\n",
    "                                        \"xAxisTitle\":\"DCA Z\",\"yAxisTitle\":\"log(counts)\"}],\n",
    "    [[\"bin_center_0\"],[\"quantile_1\"],{\"source\": \"dcaXYVsPhi_1\",\"errY\":\"dcaXYVsPhiErr\",\n",
    "                                      \"xAxisTitle\":\"Phi\",\"yAxisTitle\":\"dcaXY (Quantile 0.5)\"}],\n",
    "    [[\"bin_center_0\"],[\"quantile_1\"],{\"source\": \"dcaZVsPhi_1\",\"errY\":\"dcaZVsPhiErr\",\n",
    "                                      \"xAxisTitle\":\"Phi\",\"yAxisTitle\":\"dcaZ (Quantile 0.5)\"}],\n",
    "    # Phi\n",
    "    [[\"bin_center_1\"],[\"logtpcNClsFindableVsPhi\"],{\"source\": \"tpcNClsFindableVsPhi\",\"colorZvar\":\"bin_center_0\",\"errY\":\"logtpcNClsFindableVsPhiErr\",\n",
    "                                                   \"xAxisTitle\":\"NClsFindable\"}],\n",
    "    [[\"bin_center_1\"],[\"logtpcNCRVsPhi\"],{\"source\": \"tpcNCRVsPhi\",\"colorZvar\":\"bin_center_0\",\"errY\":\"logtpcNCRVsPhiErr\",\n",
    "                                          \"xAxisTitle\":\"TPC NCR\"}],\n",
    "    [[\"bin_center_1\"],[\"logtpcChi2NClVsPhi\"],{\"source\": \"tpcChi2NClVsPhi\",\"colorZvar\":\"bin_center_0\",\"errY\":\"logtpcChi2NClVsPhiErr\"}],\n",
    "    [[\"bin_center_0\"],[\"quantile_1\"],{\"source\": \"tpcNClsFindableVsPhi_1\",\n",
    "                                      \"xAxisTitle\":\"Phi\",\"yAxisTitle\":\"tpcNClsFindable (Quantile 0.5)\"}],\n",
    "    [[\"bin_center_0\"],[\"quantile_1\"],{\"source\": \"tpcNCRVsPhi_1\",\n",
    "                                      \"xAxisTitle\":\"Phi\",\"yAxisTitle\":\"tpcNCR (Quantile 0.5)\"}],\n",
    "    [[\"bin_center_0\"],[\"quantile_1\"],{\"source\": \"tpcChi2NClVsPhi_1\",\n",
    "                                      \"xAxisTitle\":\"Phi\",\"yAxisTitle\":\"tpcChi2 (Quantile 0.5)\"}],\n",
    "    # Pt DCA\n",
    "    [[\"bin_center_1\"],[\"logdcaXYVsPt\"],{\"source\": \"dcaXYVsPt\",\"colorZvar\":\"bin_center_0\",\"errY\":\"logdcaXYVsPtErr\",\n",
    "                                        \"xAxisTitle\":\"DCA XY\",\"yAxisTitle\":\"log(counts)\"}],\n",
    "    [[\"bin_center_1\"],[\"logdcaZVsPt\"],{\"source\": \"dcaZVsPt\",\"colorZvar\":\"bin_center_0\",\"errY\":\"logdcaZVsPtErr\",\n",
    "                                       \"xAxisTitle\":\"DCA Z\",\"yAxisTitle\":\"log(counts)\"}],\n",
    "    [[\"bin_center_0\"],[\"quantile_1\"],{\"source\": \"dcaXYVsPt_1\",\"errY\":\"dcaXYVsPtErr\",\n",
    "                                      \"xAxisTitle\":\"pT\",\"yAxisTitle\":\"dcaXY (Quantile 0.5)\"}],\n",
    "    [[\"bin_center_0\"],[\"quantile_1\"],{\"source\": \"dcaZVsPt_1\",\"errY\":\"dcaZVsPtErr\",\n",
    "                                      \"xAxisTitle\":\"pT\",\"yAxisTitle\":\"dcaZ (Quantile 0.5)\"}],\n",
    "    # Pt\n",
    "    [[\"bin_center_1\"],[\"logtpcNClsFindableVsPt\"],{\"source\": \"tpcNClsFindableVsPt\",\"colorZvar\":\"bin_center_0\",\"errY\":\"logtpcNClsFindableVsPtErr\",\n",
    "                                                  \"xAxisTitle\":\"NClsFindable\"}],\n",
    "    [[\"bin_center_1\"],[\"logtpcNCRVsPt\"],{\"source\": \"tpcNCRVsPt\",\"colorZvar\":\"bin_center_0\",\"errY\":\"logtpcNCRVsPtErr\",\n",
    "                                         \"xAxisTitle\":\"TPC NCR\"}],\n",
    "    [[\"bin_center_1\"],[\"logtpcChi2NClVsPt\"],{\"source\": \"tpcChi2NClVsPt\",\"colorZvar\":\"bin_center_0\",\"errY\":\"logtpcChi2NClVsPtErr\"}],\n",
    "    [[\"bin_center_0\"],[\"quantile_1\"],{\"source\": \"tpcNClsFindableVsPt_1\",\n",
    "                                      \"xAxisTitle\":\"pT\",\"yAxisTitle\":\"tpcNClsFindable (Quantile 0.5)\"}],\n",
    "    [[\"bin_center_0\"],[\"quantile_1\"],{\"source\": \"tpcNCRVsPt_1\",\n",
    "                                      \"xAxisTitle\":\"pT\",\"yAxisTitle\":\"tpcNCR (Quantile 0.5)\"}],\n",
    "    [[\"bin_center_0\"],[\"quantile_1\"],{\"source\": \"tpcChi2NClVsPt_1\",\n",
    "                                      \"xAxisTitle\":\"pT\",\"yAxisTitle\":\"tpcChi2 (Quantile 0.5)\"}],\n",
    "    # tpcNCR DCA\n",
    "    [[\"bin_center_1\"],[\"logdcaXYVstpcNCR\"],{\"source\": \"dcaXYVstpcNCR\",\"colorZvar\":\"bin_center_0\",\"errY\":\"logdcaXYVstpcNCRErr\",\n",
    "                                            \"xAxisTitle\":\"DCA XY\",\"yAxisTitle\":\"log(counts)\"}],\n",
    "    #[[\"bin_center_1\"],[\"binCountTrans\"],{\"source\": \"dcaXYVstpcNCR\",\"colorZvar\":\"bin_center_0\",\"errY\":\"logdcaXYVstpcNCRErr\",\"xAxisTitle\":\"DCA XY\"}],\n",
    "    [[\"bin_center_1\"],[\"logdcaZVstpcNCR\"],{\"source\": \"dcaZVstpcNCR\",\"colorZvar\":\"bin_center_0\",\"errY\":\"logdcaZVstpcNCRErr\",\n",
    "                                           \"xAxisTitle\":\"DCA Z\",\"yAxisTitle\":\"log(counts)\"}],\n",
    "    [[\"bin_center_0\"],[\"quantile_1\"],{\"source\": \"dcaXYVstpcNCR_1\",\"errY\":\"dcaXYVstpcNCRErr\",\n",
    "                                      \"xAxisTitle\":\"NCR\",\"yAxisTitle\":\"dcaXY (Quantile 0.5)\"}],\n",
    "    [[\"bin_center_0\"],[\"quantile_1\"],{\"source\": \"dcaZVstpcNCR_1\",\"errY\":\"dcaZVstpcNCRErr\",\n",
    "                                      \"xAxisTitle\":\"NCR\",\"yAxisTitle\":\"dcaZ (Quantile 0.5)\"}],\n",
    "    # Overview\n",
    "    [['pt'],['tpcSignalVsPhi'],{\"xAxisTitle\":\"phi\", \"yAxisTitle\":\"tpcSignal\"}],\n",
    "    [['pt'],['tpcSignalVspt'],{\"xAxisTitle\":\"pT\", \"yAxisTitle\":\"tpcSignal\"}],\n",
    "    [['pt'],['ptVsPhi'],{\"xAxisTitle\":\"phi\", \"yAxisTitle\":\"pT\"}],\n",
    "    [['pt'],['ptVstpcNClsFindable'],{\"xAxisTitle\":\"NClusters findable\", \"yAxisTitle\":\"pT\"}],\n",
    "    #[['pt'],['ptHist'],{\"xAxisTitle\":\"pT\", \"yAxisTitle\":\"Counts\"}],\n",
    "    #[['bin_center'],['logbin_count'],{\"source\":\"ptHist\",\"xAxisTitle\":\"pT\", \"yAxisTitle\":\"log(Counts)\"}],\n",
    "    #[['pt'],['phiHistA'],{\"xAxisTitle\":\"phi\", \"yAxisTitle\":\"Counts\"}],\n",
    "    \n",
    "    {'plot_height':150, \"commonX\":0, \"size\":\"size\",\n",
    "     \"legend_options\": {\"label_text_font_size\": \"legendFontSize\", \"visible\": \"legendVisible\", \"location\":\"legendLocation\"}}\n",
    "]            "
   ]
  },
  {
   "cell_type": "code",
   "execution_count": null,
   "id": "db1649ef",
   "metadata": {},
   "outputs": [],
   "source": [
    "figureLayout = {\n",
    "    \"Overview\": {\n",
    "        \"TPC Signal\": [[24,25], {'plot_height':400,'sizing_mode':'scale_width',\"legend_visible\":True}],\n",
    "        \"pT\": [[26,27], {'plot_height':400,'sizing_mode':'scale_width',\"legend_visible\":True}]\n",
    "    },\n",
    "    \"Phi\": {\n",
    "        \"DCA phi\":[[0,1],[2,3], {'plot_height':200,'sizing_mode':'scale_width',\"legend_visible\":True}],\n",
    "        \"TPC N/Chi2, phi\":[[4,5,6],[7,8,9], {'plot_height':300,'sizing_mode':'scale_width',\"legend_visible\":True}]\n",
    "    },\n",
    "    \"Pt\": {\n",
    "        \"DCA pt\":[[10,11],[12,13], {'plot_height':200,'sizing_mode':'scale_width',\"legend_visible\":True}],\n",
    "        \"TPC N/Chi2, pt\":[[14,15,16],[17,18,19], {'plot_height':300,'sizing_mode':'scale_width',\"legend_visible\":True}]\n",
    "    },\n",
    "    \"tpcNCR\": {\n",
    "        \"DCA tpcNCR\":[[20,21],[22,23], {'plot_height':200,'sizing_mode':'scale_width',\"legend_visible\":True}]\n",
    "    }\n",
    "}"
   ]
  },
  {
   "cell_type": "code",
   "execution_count": null,
   "id": "ffb73bbd",
   "metadata": {},
   "outputs": [],
   "source": [
    "output_file(\"investigating_skimmed_tracks.html\")\n",
    "xxx = bokehDrawSA.fromArray(df, \"pt<20&abs(qPt)<20&abs(pzPt)<2\", figureArray, widgetParams, layout=figureLayout, tooltips=tooltips, widgetLayout=widgetLayoutDesc,\n",
    "                            parameterArray=parameterArray, histogramArray=histoArray,aliasArray=aliasArray,sizing_mode='scale_width',\n",
    "                            arrayCompression=arrayCompressionRelative8)"
   ]
  },
  {
   "cell_type": "code",
   "execution_count": null,
   "id": "559224af",
   "metadata": {},
   "outputs": [],
   "source": []
  }
 ],
 "metadata": {
  "celltoolbar": "Slideshow",
  "kernelspec": {
   "display_name": "Python 3 (ipykernel)",
   "language": "python",
   "name": "python3"
  },
  "language_info": {
   "codemirror_mode": {
    "name": "ipython",
    "version": 3
   },
   "file_extension": ".py",
   "mimetype": "text/x-python",
   "name": "python",
   "nbconvert_exporter": "python",
   "pygments_lexer": "ipython3",
   "version": "3.6.10"
  },
  "rise": {
   "scroll": true
  }
 },
 "nbformat": 4,
 "nbformat_minor": 5
}
