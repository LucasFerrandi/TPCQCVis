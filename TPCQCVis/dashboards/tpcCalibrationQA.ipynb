{
 "cells": [
  {
   "cell_type": "markdown",
   "id": "2ca40e23",
   "metadata": {},
   "source": [
    "# Calibration QA for per pad and per time series - see AT0-611\n",
    "\n",
    "* Input data are trees per run with aggregated per pad information\n",
    "* Machine learning used for the per pad interpolation\n"
   ]
  },
  {
   "cell_type": "code",
   "execution_count": null,
   "id": "dba9daa3",
   "metadata": {},
   "outputs": [],
   "source": [
    "from bokeh.io import output_notebook\n",
    "from RootInteractive.Tools.aliTreePlayer import *\n",
    "from RootInteractive.InteractiveDrawing.bokeh.bokehDrawSA import *\n",
    "from bokeh.io import curdoc\n",
    "import numpy as np\n",
    "import os\n",
    "import sys\n",
    "from ROOT import TFile, gSystem\n",
    "import plotly.express as px\n",
    "output_notebook()\n",
    "from IPython.display import Image\n",
    "from IPython.core.display import display, HTML\n",
    "display(HTML(\"<style>.container { width:100% !important; }</style>\"))\n",
    "import matplotlib.pyplot as plt\n",
    "\n",
    "\n",
    "from scipy.stats import norm\n",
    "import matplotlib.mlab as mlab\n",
    "import scipy.stats as stats\n",
    "import math"
   ]
  },
  {
   "cell_type": "code",
   "execution_count": null,
   "id": "74668ef1",
   "metadata": {},
   "outputs": [],
   "source": [
    "import pprint\n",
    "from RootInteractive.InteractiveDrawing.bokeh.bokehInteractiveParameters import *\n",
    "pp = pprint.PrettyPrinter(width=220, compact=True)\n",
    "#from RootInteractive.MLpipeline.NDFunctionInterface import  *\n",
    "from RootInteractive.MLpipeline.MIForestErrPDF import *"
   ]
  },
  {
   "cell_type": "markdown",
   "id": "d72a6542",
   "metadata": {},
   "source": [
    "# Parametrize algorithm\n",
    "* Random forest parameters\n",
    "* compression parameter"
   ]
  },
  {
   "cell_type": "markdown",
   "id": "24b05fc6",
   "metadata": {},
   "source": [
    "### Random forest parameters for the per pad calibration"
   ]
  },
  {
   "cell_type": "code",
   "execution_count": null,
   "id": "17ce7697",
   "metadata": {},
   "outputs": [],
   "source": [
    "%%time\n",
    "n_estimators=200\n",
    "n_jobs=100\n",
    "npoints=1000000\n",
    "max_depthBase=14\n",
    "max_samples=0.1\n",
    "regressorBase = RandomForestRegressor(n_estimators =n_estimators,n_jobs=n_jobs,max_depth=max_depthBase,max_samples=max_samples)\n",
    "regressorLocal = RandomForestRegressor(n_estimators =n_estimators,n_jobs=n_jobs,max_samples=max_samples)"
   ]
  },
  {
   "cell_type": "markdown",
   "id": "fb98e708",
   "metadata": {},
   "source": [
    "### Data dashboard compression"
   ]
  },
  {
   "cell_type": "code",
   "execution_count": null,
   "id": "55092aab",
   "metadata": {},
   "outputs": [],
   "source": [
    "arrayCompressionRelative10=[(\".*\",[(\"relative\",10), (\"code\",0), (\"zip\",0), (\"base64\",0)])]"
   ]
  },
  {
   "cell_type": "code",
   "execution_count": null,
   "id": "5812c1cd",
   "metadata": {},
   "outputs": [],
   "source": [
    "# defined by user\n",
    "inputPath=\"/home/berki/Software/TPCQCVis/TPCQCVis/macro/out_528471.root\"\n"
   ]
  },
  {
   "cell_type": "code",
   "execution_count": null,
   "id": "bbd26e08",
   "metadata": {},
   "outputs": [],
   "source": [
    "fIn =ROOT.TFile.Open(inputPath)\n",
    "tree=fIn.Get(\"tree\")\n",
    "tree.Show(0)\n",
    "tree.GetListOfAliases().Print()"
   ]
  },
  {
   "cell_type": "markdown",
   "id": "63b83ddc",
   "metadata": {},
   "source": [
    "## Import variables and aliases from the tree to panda"
   ]
  },
  {
   "cell_type": "code",
   "execution_count": null,
   "id": "47640d6f",
   "metadata": {},
   "outputs": [],
   "source": [
    "%%time\n",
    "varList=[\".*Median.*\",\".*Mean.*\", \".*RMS.*\",                             ## Mean, Median and RMS properties     \n",
    "        \"roc\",\"ly\",\"lx\",\"gy\",\"gx\",\"row\",\"pad\",\"padArea\",  \"padHeight\",   ## position\n",
    "        \"isEdgePad\",\"partition\",                                         ## \n",
    "        #\"traceLength\",                                                   ## trace length\n",
    "        \"sector\",\"roc\",\"A_Side\",\"C_Side\",                                ## switch A side C side\n",
    "        ]\n",
    "exclude=[\".*TS.*\"]\n",
    "dfScan=tree2Panda(tree,varList,\"roc>=0\",columnMask=[[\"_fElements\",\"\"]], exclude=exclude)\n",
    "print(dfScan.shape)"
   ]
  },
  {
   "cell_type": "code",
   "execution_count": null,
   "id": "90dd0d59",
   "metadata": {},
   "outputs": [],
   "source": [
    "print(dfScan.columns,dfScan.columns.shape)"
   ]
  },
  {
   "cell_type": "code",
   "execution_count": null,
   "id": "f0d7398d",
   "metadata": {},
   "outputs": [],
   "source": [
    "#dfScan[\"dPedestals\"]=dfScan[\"Pedestals\"]-dfScan[\"Pedestals\"].astype('int16')"
   ]
  },
  {
   "cell_type": "markdown",
   "id": "9dcaa257",
   "metadata": {},
   "source": [
    "# Fit base and local  propeties\n",
    "* regressor with local X\n",
    "* local filter regressor - mean,median,std filter"
   ]
  },
  {
   "cell_type": "code",
   "execution_count": null,
   "id": "9ad4379a",
   "metadata": {},
   "outputs": [],
   "source": [
    "%%script false --no-raise-error  # disable for a moment\n",
    "%%time\n",
    "statDictionary={\"mean\":None,\"median\":None, \"std\":None}\n",
    "\n",
    "varListG=[\"lx\",\"traceLength\",\"padArea\"]\n",
    "varListLocal=[\"lx\",\"ly\",\"roc\"]\n",
    "vars=[\n",
    "    \"Noise\",\"N_Digits\",\"N_Clusters\",\n",
    "    \"Q_Max\", \"Q_Tot\", \"GainMap\",\"Q_Max_Digits\",\n",
    "    \"fraction\",\"expLambda\"\n",
    "]\n",
    "for var in vars:\n",
    "    # base regression limitted deep\n",
    "    regressorBase.fit(dfScan[varListG],dfScan[var])\n",
    "    dfScan[f\"{var}RF0\"]= regressorBase.predict(dfScan[varListG])\n",
    "    dfScan[f\"{var}RF0_Ratio\"]=dfScan[f\"{var}\"]/dfScan[f\"{var}RF0\"]\n",
    "    # local regression  \n",
    "    regressorLocal.fit(dfScan[varListLocal],dfScan[var])\n",
    "    statDictionaryOut=predictRFStatNew(regressorLocal,dfScan[varListLocal].astype('float32').to_numpy(),statDictionary,n_jobs)\n",
    "    dfScan[f\"{var}RFL\"]= regressorLocal.predict(dfScan[varListLocal])\n",
    "    dfScan[f\"{var}RFL_Ratio\"]=dfScan[f\"{var}\"]/dfScan[f\"{var}RFL\"]\n",
    "    dfScan[f\"{var}RFL_Med\"]=statDictionaryOut[\"median\"]\n",
    "    dfScan[f\"{var}RFL_Std\"]=statDictionaryOut[\"std\"]\n",
    "    dfScan[f\"{var}RFLMed_Ratio\"]=dfScan[f\"{var}\"]/dfScan[f\"{var}RFL_Med\"]\n",
    "    print(f\"Fit {var}\")\n",
    "\n"
   ]
  },
  {
   "cell_type": "markdown",
   "id": "f5f75425",
   "metadata": {},
   "source": [
    "# Define metadata variables"
   ]
  },
  {
   "cell_type": "code",
   "execution_count": null,
   "id": "095f784b",
   "metadata": {},
   "outputs": [],
   "source": [
    "df=dfScan\n",
    "initMetadata(df)\n",
    "df.meta.metaData = {'qVector.AxisTitle': \"Q(ADC)\"}"
   ]
  },
  {
   "cell_type": "code",
   "execution_count": null,
   "id": "5cb32afd",
   "metadata": {},
   "outputs": [],
   "source": [
    "df[\"padrow\"]=df[\"row\"]+(df[\"partition\"]>1)*63"
   ]
  },
  {
   "cell_type": "code",
   "execution_count": null,
   "id": "8525bce9",
   "metadata": {},
   "outputs": [],
   "source": [
    "df.columns"
   ]
  },
  {
   "cell_type": "code",
   "execution_count": null,
   "id": "f5f31876",
   "metadata": {},
   "outputs": [],
   "source": [
    "\n",
    "# here we can define derivd variables -  to define some invariances eg abs(XX_Mean/XXXMedain)<\n",
    "aliasArray=[\n",
    "#    (\"\",\"dNprimdx*padLength\"),                                    # ionization over pad\n",
    "]\n",
    "\n",
    "#\n",
    "variables=df.columns\n",
    "\n",
    "\n",
    "parameterArray = [  \n",
    "    {\"name\": \"varX\", \"value\":\"padrow\", \"options\":variables},\n",
    "    {\"name\": \"varY\", \"value\":\"padArea\", \"options\":variables},\n",
    "    {\"name\": \"varYNorm\", \"value\":\"padArea\", \"options\":variables},\n",
    "    {\"name\": \"varZ\", \"value\":\"partition\", \"options\":variables},\n",
    "    {\"name\": \"nbinsX\", \"value\":30, \"range\":[10, 200]},\n",
    "    {\"name\": \"nbinsY\", \"value\":30, \"range\":[10, 200]},\n",
    "    {\"name\": \"nbinsZ\", \"value\":5, \"range\":[1,10]},\n",
    "    #{\"name\": \"sigmaNRel\", \"value\":3.35, \"range\":[1,5]},\n",
    "    #\n",
    "    {\"name\": \"exponentX\", \"value\":1, \"range\":[-5, 5]},\n",
    "    {'name': \"xAxisTransform\", \"value\":None, \"options\":[None, \"sqrt\", \"lambda x: log(1+x)\",\"lambda x: 1/sqrt(x)\", \"lambda x: x**exponentX\",\"lambda x,y: x/y\" ]},\n",
    "    {'name': \"yAxisTransform\", \"value\":None, \"options\":[None, \"sqrt\", \"lambda x: log(1+x)\",\"lambda x: 1/sqrt(x)\", \"lambda x: x**exponentX\",\"lambda x,y: y/x\" ]},\n",
    "    {'name': \"zAxisTransform\", \"value\":None, \"options\":[None, \"sqrt\", \"lambda x: log(1+x)\",\"lambda x: 1/sqrt(x)\", \"lambda x: x**exponentX\" ]},\n",
    "\n",
    "]\n",
    "\n",
    "parameterArray.extend(figureParameters[\"legend\"]['parameterArray'])   \n",
    "parameterArray.extend(figureParameters[\"markers\"]['parameterArray'])    \n",
    "\n",
    "widgetParams=[\n",
    "    ['multiSelect',[\"sector\"],{\"name\":\"sector\"}],\n",
    "    ['multiSelect',[\"partition\"],{\"name\":\"partition\"}],\n",
    "    ['multiSelect',[\"isEdgePad\"],{\"name\":\"isEdgePad\"}],\n",
    "    ['multiSelect',[\"A_Side\"],{\"name\":\"A_Side\"}],\n",
    "    ['range',[\"padrow\"],{\"name\":\"padrow\"}],\n",
    "    ['range',[\"lx\"],{\"name\":\"lx\"}],\n",
    "    ['range',[\"gx\"],{\"name\":\"gx\"}],\n",
    "    ['range',[\"gy\"],{\"name\":\"gy\"}],\n",
    "#    ['spinnerRange',[\"logq2NPrimRatio\"],{\"name\":\"logq2NPrimRatio\",\"range\": [-2, 4]}],\n",
    "#    ['spinnerRange',[\"lognTot2NPrimRatio\"],{\"name\":\"lognTot2NPrimRatio\"}],\n",
    "    #\n",
    "    ['select', ['varX'], {\"name\": \"varX\"}],\n",
    "    ['select', ['varY'], {\"name\": \"varY\"}],\n",
    "    ['select', ['varYNorm'], {\"name\": \"varYNorm\"}],\n",
    "    ['select', ['varZ'], {\"name\": \"varZ\"}],\n",
    "    ['slider', ['nbinsY'], {\"name\": \"nbinsY\"}],\n",
    "    ['slider', ['nbinsX'], {\"name\": \"nbinsX\"}],\n",
    "    ['slider', ['nbinsZ'], {\"name\": \"nbinsZ\"}],\n",
    "    #\n",
    "    ['spinner', ['exponentX'],{\"name\": \"exponentX\"}],\n",
    "    #['spinner', ['sigmaNRel'],{\"name\": \"sigmaNRel\"}],\n",
    "    ['select', ['yAxisTransform'], {\"name\": \"yAxisTransform\"}],\n",
    "    ['select', ['xAxisTransform'], {\"name\": \"xAxisTransform\"}],\n",
    "    ['select', ['zAxisTransform'], {\"name\": \"zAxisTransform\"}],\n",
    "]                         \n",
    "\n",
    "widgetParams.extend(figureParameters[\"legend\"][\"widgets\"])\n",
    "widgetParams.extend(figureParameters[\"markers\"][\"widgets\"])\n",
    "\n",
    "widgetLayoutDesc={\n",
    "    \"Select\":[[\"sector\",\"A_Side\",\"partition\",\"isEdgePad\"],[\"padrow\",\"lx\",\"gx\",\"gy\"]],\n",
    "    #\"Select\":[[\"region\",\"SatOn\"],[\"dNprimdx\",\"nSecSatur\",\"TransGEM\"]],\n",
    "    \"Histograms\":[[\"nbinsX\",\"nbinsY\", \"nbinsZ\", \"varX\",\"varY\",\"varYNorm\",\"varZ\"], {'sizing_mode': 'scale_width'}],\n",
    "    \"Transform\":[[\"exponentX\",\"xAxisTransform\", \"yAxisTransform\",\"zAxisTransform\"],{'sizing_mode': 'scale_width'}],\n",
    "    \"Legend\": figureParameters['legend']['widgetLayout'],\n",
    "    \"Markers\":[\"markerSize\"]\n",
    "}\n",
    "\n",
    "figureGlobalOption={}\n",
    "figureGlobalOption=figureParameters[\"legend\"][\"figureOptions\"]\n",
    "figureGlobalOption[\"size\"]=\"markerSize\"\n",
    "figureGlobalOption[\"x_transform\"]=\"xAxisTransform\"\n",
    "figureGlobalOption[\"y_transform\"]=\"yAxisTransform\"\n",
    "figureGlobalOption[\"z_transform\"]=\"zAxisTransform\""
   ]
  },
  {
   "cell_type": "code",
   "execution_count": null,
   "id": "6d813dbc",
   "metadata": {},
   "outputs": [],
   "source": [
    "histoArray=[    \n",
    "    {\n",
    "        \"name\": \"histoXYData\",\n",
    "        \"variables\": [\"varX\",\"varY\"],\n",
    "        \"nbins\":[\"nbinsX\",\"nbinsY\"], \"axis\":[1],\"quantiles\": [0.35,0.5],\"unbinned_projections\":True,\n",
    "    },\n",
    "    {\n",
    "        \"name\": \"histoXYNormData\",\n",
    "        \"variables\": [\"varX\",\"varY/varYNorm\"],\n",
    "        \"nbins\":[\"nbinsX\",\"nbinsY\"], \"axis\":[1],\"quantiles\": [0.35,0.5],\"unbinned_projections\":True,\n",
    "    },\n",
    "    {\n",
    "        \"name\": \"histoXYZData\",\n",
    "        \"variables\": [\"varX\",\"varY\",\"varZ\"],\n",
    "        \"nbins\":[\"nbinsX\",\"nbinsY\",\"nbinsZ\"], \"axis\":[1],\"quantiles\": [0.35,0.5],\"unbinned_projections\":True,\n",
    "    },\n",
    "    {\n",
    "        \"name\": \"histoXYNormZData\",\n",
    "        \"variables\": [\"varX\",\"varY/varYNorm\",\"varZ\"],\n",
    "        \"nbins\":[\"nbinsX\",\"nbinsY\",\"nbinsZ\"], \"axis\":[1],\"quantiles\": [0.35,0.5],\"unbinned_projections\":True,\n",
    "    },\n",
    "]"
   ]
  },
  {
   "cell_type": "code",
   "execution_count": null,
   "id": "4665dbc0",
   "metadata": {},
   "outputs": [],
   "source": [
    "figureArray=[\n",
    "    #\n",
    "    [[(\"bin_bottom_0\", \"bin_top_0\")], [(\"bin_bottom_1\", \"bin_top_1\")], {\"colorZvar\": \"bin_count\", \"source\":\"histoXYData\"}],\n",
    "    [[\"bin_center_1\"], [\"bin_count\"], { \"source\":\"histoXYData\", \"colorZvar\": \"bin_center_0\"}],\n",
    "    [[\"bin_center_0\"], [\"mean\",\"quantile_0\",], { \"source\":\"histoXYData_1\",\"errY\":\"std/sqrt(entries)\"}],\n",
    "    [[\"bin_center_0\"], [\"std\"], { \"source\":\"histoXYData_1\",\"errY\":\"std/sqrt(entries)\"}],\n",
    "    #\n",
    "    [[(\"bin_bottom_0\", \"bin_top_0\")], [(\"bin_bottom_1\", \"bin_top_1\")], {\"colorZvar\": \"bin_count\", \"source\":\"histoXYNormData\"}],\n",
    "    [[\"bin_center_1\"], [\"bin_count\"], { \"source\":\"histoXYNormData\", \"colorZvar\": \"bin_center_0\"}],\n",
    "    [[\"bin_center_0\"], [\"mean\",\"quantile_0\",], { \"source\":\"histoXYNormData_1\",\"errY\":\"std/sqrt(entries)\"}],\n",
    "    [[\"bin_center_0\"], [\"std\"], { \"source\":\"histoXYNormData_1\",\"errY\":\"std/sqrt(entries)\"}],\n",
    "    #\n",
    "    [[\"bin_center_0\"], [\"mean\"], { \"source\":\"histoXYZData_1\",\"colorZvar\":\"bin_center_2\",\"errY\":\"std/sqrt(entries)\"}],\n",
    "    [[\"bin_center_0\"], [\"quantile_0\"], { \"source\":\"histoXYZData_1\",\"colorZvar\":\"bin_center_2\",\"errY\":\"2*std/sqrt(entries)\"}],\n",
    "    [[\"bin_center_0\"], [\"quantile_1\"], { \"source\":\"histoXYZData_1\",\"colorZvar\":\"bin_center_2\",\"errY\":\"3*std/sqrt(entries)\"}],\n",
    "    [[\"bin_center_0\"], [\"std\"], { \"source\":\"histoXYZData_1\",\"colorZvar\":\"bin_center_2\",\"errY\":\"std/sqrt(entries)\"}],\n",
    "    #\n",
    "    [[\"bin_center_0\"], [\"mean\"], { \"source\":\"histoXYNormZData_1\",\"colorZvar\":\"bin_center_2\",\"errY\":\"std/sqrt(entries)\",\"yAxisTitle\":\"{varY}/{varYNorm}\"}],\n",
    "    [[\"bin_center_0\"], [\"quantile_0\"], { \"source\":\"histoXYNormZData_1\",\"colorZvar\":\"bin_center_2\",\"errY\":\"2*std/sqrt(entries)\",\"yAxisTitle\":\"{varY}/{varYNorm}\"}],\n",
    "    [[\"bin_center_0\"], [\"quantile_1\"], { \"source\":\"histoXYNormZData_1\",\"colorZvar\":\"bin_center_2\",\"errY\":\"3*std/sqrt(entries)\",\"yAxisTitle\":\"{varY}/{varYNorm}\"}],\n",
    "    [[\"bin_center_0\"], [\"std\"], { \"source\":\"histoXYNormZData_1\",\"colorZvar\":\"bin_center_2\",\"errY\":\"std/sqrt(entries)\",\"yAxisTitle\":\"{varY}/{varYNorm}\"}],\n",
    "    figureGlobalOption\n",
    "]\n",
    "figureLayoutDesc={\n",
    "    \"histoXY\":[[0,1],[2,3],{\"plot_height\":200}],\n",
    "    \"histoXYNorm\":[[4,5],[6,7],{\"plot_height\":200}],\n",
    "    \"histoXYZ\":[[8,9],[10,11],{\"plot_height\":200}],\n",
    "    \"histoXYNormZ\":[[12,13],[14,15],{\"plot_height\":200}],\n",
    "}"
   ]
  },
  {
   "cell_type": "code",
   "execution_count": null,
   "id": "8e3d6b56",
   "metadata": {},
   "outputs": [],
   "source": [
    "%%time\n",
    "output_file(\"QAQCcalPadSummary.html\") \n",
    "arrayCompression=arrayCompressionRelative10\n",
    "dfSample=df.sort_index()\n",
    "fig=bokehDrawSA.fromArray(dfSample, None, figureArray, widgetParams, layout=figureLayoutDesc, sizing_mode='scale_width', nPointRender=50000, widgetLayout=widgetLayoutDesc, \n",
    "                          parameterArray=parameterArray, histogramArray=histoArray, rescaleColorMapper=True, arrayCompression=arrayCompression,aliasArray=aliasArray)\n",
    "\n"
   ]
  },
  {
   "cell_type": "markdown",
   "id": "ceb1f5d2",
   "metadata": {},
   "source": [
    "## Histogram array\n",
    "* histogram user defined - X,Y\n",
    "* number of bins user defined"
   ]
  },
  {
   "cell_type": "code",
   "execution_count": null,
   "id": "97edb9ee",
   "metadata": {},
   "outputs": [],
   "source": []
  },
  {
   "cell_type": "code",
   "execution_count": null,
   "id": "7357f9bf",
   "metadata": {},
   "outputs": [],
   "source": []
  }
 ],
 "metadata": {
  "kernelspec": {
   "display_name": "Python 3 (ipykernel)",
   "language": "python",
   "name": "python3"
  },
  "language_info": {
   "codemirror_mode": {
    "name": "ipython",
    "version": 3
   },
   "file_extension": ".py",
   "mimetype": "text/x-python",
   "name": "python",
   "nbconvert_exporter": "python",
   "pygments_lexer": "ipython3",
   "version": "3.9.12"
  }
 },
 "nbformat": 4,
 "nbformat_minor": 5
}
