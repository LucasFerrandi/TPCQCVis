{
 "cells": [
  {
   "cell_type": "markdown",
   "id": "cfc58c05",
   "metadata": {},
   "source": [
    "# THn visualization with RootInteractive\n",
    "### Import libraries"
   ]
  },
  {
   "cell_type": "code",
   "execution_count": null,
   "id": "f511771f",
   "metadata": {},
   "outputs": [],
   "source": [
    "from datetime import date, datetime\n",
    "import math\n",
    "import ROOT\n",
    "import numpy as np, pandas as pd\n",
    "import bokeh\n",
    "import yaml\n",
    "import base64\n",
    "import ctypes\n",
    "import logging\n",
    "from bokeh.io import output_notebook, show\n",
    "from bokeh.plotting import output_file\n",
    "from RootInteractive.InteractiveDrawing.bokeh.bokehDrawSA import *\n",
    "from RootInteractive.InteractiveDrawing.bokeh.bokehTools import bokehDrawArray\n",
    "from RootInteractive.Tools.pandaTools import initMetadata"
   ]
  },
  {
   "cell_type": "markdown",
   "id": "e73849ee",
   "metadata": {},
   "source": [
    "### Load the THnSparse file"
   ]
  },
  {
   "cell_type": "code",
   "execution_count": null,
   "id": "d0711e0e",
   "metadata": {},
   "outputs": [],
   "source": [
    "myFile = ROOT.TFile.Open(\"~/Software/TPCQCVis/data/examples/THn/hNdPID.root\")\n",
    "hist = myFile.ExpertVis\n",
    "thn = hist.Get(\"ExpertVis;1\")\n",
    "dim_count = thn.GetNdimensions()\n",
    "dimensions = []\n",
    "bin_count = []\n",
    "bin_min = []\n",
    "bin_max = []\n",
    "\n",
    "for i in range(dim_count):\n",
    "    dimensions.append(thn.GetAxis(i).GetTitle())\n",
    "    bin_count.append(thn.GetAxis(i).GetNbins())\n",
    "    bin_min.append(thn.GetAxis(i).GetXmin())\n",
    "    bin_max.append(thn.GetAxis(i).GetXmax())\n",
    "    \n",
    "bin_centers = np.empty((dim_count, max(bin_count)))\n",
    "for i in range(dim_count):\n",
    "    for j in range(bin_count[i]):\n",
    "        bin_centers[i][j] = thn.GetAxis(i).GetBinCenter(j+1)\n",
    "        \n",
    "thn.ls()"
   ]
  },
  {
   "cell_type": "markdown",
   "id": "938a539a",
   "metadata": {},
   "source": [
    "### Convert THnSparse to pandas.DataFrame\n",
    "* the binning parameters should be known (ToDo: investigate if this can be extracted from the THn) "
   ]
  },
  {
   "cell_type": "code",
   "execution_count": null,
   "id": "b1863bb2",
   "metadata": {},
   "outputs": [],
   "source": [
    "bin_width = [(bin_max[x]-bin_min[x])/(bin_count[x]+1) for x in range(dim_count)]\n",
    "\n",
    "tracks = [];\n",
    "coord = (ctypes.c_int*dim_count)()\n",
    "#for Bin in range(thn.GetNbins()):\n",
    "for Bin in range(100000):\n",
    "    val = thn.GetBinContent(Bin,coord)\n",
    "    tracks.append(val)\n",
    "    for Dim in range(dim_count):\n",
    "        #tracks.append(bin_min[Dim]+(coord[Dim]-0.5)*bin_width[Dim])\n",
    "        tracks.append(bin_centers[Dim][coord[Dim]-1])\n",
    "    \n",
    "df = pd.DataFrame(np.reshape(tracks, newshape=(int(len(tracks)/(dim_count+1)), dim_count+1)), \n",
    "                         columns = ['Weight','P','dEdxTot','dEdxMax','Phi','Tgl','Snp','NClusters','Sign'])\n",
    "initMetadata(df)\n",
    "\n",
    "df.head()"
   ]
  },
  {
   "cell_type": "markdown",
   "id": "d220d4e6",
   "metadata": {},
   "source": [
    "## Plot as scatter plot\n",
    "Doesn't make too much sense for us here since the data from all the dimensions are not aggregated"
   ]
  },
  {
   "cell_type": "code",
   "execution_count": null,
   "id": "b00e65d8",
   "metadata": {
    "scrolled": false
   },
   "outputs": [],
   "source": [
    "output_file(\"thn_scatter.html\")\n",
    "\n",
    "figureArray = [\n",
    "    [['P'], ['dEdxTot'], {\"colorZvar\": \"Weight\"}],\n",
    "    [['NClusters'], ['dEdxTot'], {\"colorZvar\": \"Weight\"}],\n",
    "    [['Phi'], ['dEdxTot'], {\"colorZvar\": \"Weight\"}],\n",
    "    [['Tgl'], ['dEdxTot'], {\"colorZvar\": \"Weight\"}],\n",
    "    {\"size\":2, \"legend_options\": {\"label_text_font_size\": \"13px\"}}\n",
    "]\n",
    "layout = {\n",
    "    \"dEdx (a.u.) vs p (GeV/c)\": [\n",
    "        [0, {'y_visible': 1, 'x_visible':1, 'plot_height': 400}]],\n",
    "    \"dEdx (a.u.) vs ncls\": [\n",
    "        [1, {'y_visible': 1, 'x_visible':1, 'plot_height': 400}]],\n",
    "    \"dEdx (a.u.) vs φ (rad)\": [\n",
    "        [2, {'y_visible': 1, 'x_visible':1, 'plot_height': 400}]],\n",
    "    \"dEdx (a.u.) vs tanλ\": [\n",
    "        [3, {'y_visible': 1, 'x_visible':1, 'plot_height': 400}]]\n",
    "}\n",
    "tooltips = []\n",
    "widgetParams=[\n",
    "    ['range', ['P']],\n",
    "    ['range', ['dEdxTot']],\n",
    "    ['range', ['dEdxMax']],\n",
    "    ['range', ['Phi']],\n",
    "    ['range', ['Tgl']],\n",
    "    ['range', ['Snp']],\n",
    "    ['range', ['NClusters']],\n",
    "    ['range', ['Weight']]\n",
    "]\n",
    "widgetLayoutDesc={\n",
    "    \"Selection\": [[0],[1],[2],[3],[4],[5],[6],[7], {'sizing_mode': 'scale_width'}]\n",
    "    }    \n",
    "xxx = bokehDrawSA.fromArray(df, \"P>0\", figureArray, widgetParams, layout=layout,\n",
    "                      tooltips=tooltips, widgetLayout=widgetLayoutDesc)"
   ]
  },
  {
   "cell_type": "markdown",
   "id": "d16f4676",
   "metadata": {},
   "source": [
    "## As 1D histograms\n",
    "Makes sense"
   ]
  },
  {
   "cell_type": "code",
   "execution_count": null,
   "id": "12da7da9",
   "metadata": {},
   "outputs": [],
   "source": [
    "output_file(\"thn_1D.html\")\n",
    "\n",
    "histo1D = lambda x: {\"name\": x + \"_hist\",\n",
    "                     \"variables\": [x],\n",
    "                     \"nbins\": bin_count[dimensions.index(x)],\n",
    "                     \"range\": [bin_min[dimensions.index(x)],bin_max[dimensions.index(x)]],\n",
    "                     \"weights\": \"Weight\"}\n",
    "\n",
    "histoArray = [\n",
    "    histo1D(\"dEdxTot\"),\n",
    "    histo1D(\"NClusters\"),\n",
    "    histo1D(\"Phi\"),\n",
    "    histo1D(\"Tgl\"),\n",
    "    histo1D(\"P\"),\n",
    "    histo1D(\"dEdxMax\"),\n",
    "    histo1D(\"Sign\")\n",
    "]\n",
    "figureArray = [\n",
    "    [['dEdxTot'],['dEdxTot_hist'],{'size': 5}],\n",
    "    [['NClusters'],['NClusters_hist'],{'size': 5}],\n",
    "    [['Phi'],['Phi_hist'],{'size': 5}],\n",
    "    [['Tgl'],['Tgl_hist'],{'size': 5}],\n",
    "    [['P'],['P_hist'],{'size': 5}],\n",
    "    [['dEdxMax'],['dEdxMax_hist'],{'size': 5}],\n",
    "    [['Sign'],['Sign_hist'],{'size': 5}]\n",
    "]\n",
    "figureLayoutDesc=[\n",
    "    [[0, 1], [2,3], [4,6], {'y_visible': 1, 'x_visible':1, 'plot_height': 300}],\n",
    "        {'plot_height': 100, 'sizing_mode': 'scale_width'}\n",
    "]\n",
    "widgetParams=[\n",
    "    ['range', ['P']],\n",
    "    ['range', ['dEdxTot']],\n",
    "    ['range', ['dEdxMax']],\n",
    "    ['range', ['Phi']],\n",
    "    ['range', ['Tgl']],\n",
    "    ['range', ['Snp']],\n",
    "    ['range', ['NClusters']],\n",
    "    ['range', ['Weight']]\n",
    "]\n",
    "widgetLayoutDesc={\n",
    "    \"Selection\": [[0],[1],[2],[3],[4],[5],[6],[7], {'width':1}]\n",
    "    }\n",
    "tooltips = []\n",
    "xxx = bokehDrawSA.fromArray(df, \"P>0\", figureArray, widgetParams, layout=figureLayoutDesc, tooltips=tooltips,\n",
    "                            widgetLayout=widgetLayoutDesc, plot_width= 500, histogramArray=histoArray)"
   ]
  },
  {
   "cell_type": "markdown",
   "id": "e816b226",
   "metadata": {},
   "source": [
    "## As 2D histograms\n",
    "Also makes sense"
   ]
  },
  {
   "cell_type": "code",
   "execution_count": null,
   "id": "cfeb187b",
   "metadata": {},
   "outputs": [],
   "source": [
    "output_file(\"thn_2D.html\")\n",
    "\n",
    "histo2D = lambda x,y : {\"name\": y + \"_vs_\" + x,\n",
    "                        \"variables\": [x, y],\n",
    "                        \"nbins\": [bin_count[dimensions.index(x)], bin_count[dimensions.index(y)]],\n",
    "                        \"range\": [[bin_min[dimensions.index(x)],bin_max[dimensions.index(x)]],[bin_min[dimensions.index(y)],bin_max[dimensions.index(y)]]],\n",
    "                        \"weights\": \"Weight\"}\n",
    "\n",
    "histoArray = [\n",
    "    histo2D(\"P\",\"dEdxMax\"),\n",
    "    histo2D(\"NClusters\", \"dEdxTot\"),\n",
    "    histo2D(\"Phi\", \"dEdxTot\"),\n",
    "    histo2D(\"Tgl\", \"dEdxTot\")\n",
    "]\n",
    "figureArray = [\n",
    "    [['P'], ['dEdxMax_vs_P']],\n",
    "    [['NClusters'], ['dEdxTot_vs_NClusters']],\n",
    "    [['Phi'], ['dEdxTot_vs_Phi']],\n",
    "    [['Tgl'], ['dEdxTot_vs_Tgl']],\n",
    "    [\"tableHisto\", {\"rowwise\": True}]\n",
    "]\n",
    "figureLayoutDesc={\n",
    "    \"dEdx_vs_p\" : [[0,4, {'y_visible': 1, 'x_visible':1, 'plot_height': 400}],\n",
    "        {'plot_height': 400, 'sizing_mode': 'scale_width', 'y_visible' : 2}],\n",
    "    \"dEdx_vs_ncls\" : [[1,4, {'y_visible': 1, 'x_visible':1, 'plot_height': 400}],\n",
    "        {'plot_height': 400, 'sizing_mode': 'scale_width', 'y_visible' : 2}],\n",
    "    \"dEdx_vs_phi\" : [[2,4, {'y_visible': 1, 'x_visible':1, 'plot_height': 400}],\n",
    "        {'plot_height': 400, 'sizing_mode': 'scale_width', 'y_visible' : 2}],\n",
    "    \"dEdx_vs_tgl\" : [[3,4, {'y_visible': 1, 'x_visible':1, 'plot_height': 400}],\n",
    "        {'plot_height': 400, 'sizing_mode': 'scale_width', 'y_visible' : 2}]\n",
    "}\n",
    "tooltips = []\n",
    "widgetParams=[\n",
    "    ['range', ['P']],\n",
    "    ['range', ['dEdxTot']],\n",
    "    ['range', ['dEdxMax']],\n",
    "    ['range', ['Phi']],\n",
    "    ['range', ['Tgl']],\n",
    "    ['range', ['Snp']],\n",
    "    ['range', ['NClusters']],\n",
    "    ['range', ['Weight']]\n",
    "]\n",
    "widgetLayoutDesc={\n",
    "    \"Selection\": [[0],[1],[2],[3],[4],[5],[6],[7], {'width':1}]\n",
    "    }\n",
    "xxx = bokehDrawSA.fromArray(df, \"P>0\", figureArray, widgetParams, layout=figureLayoutDesc, tooltips=tooltips,\n",
    "                            widgetLayout=widgetLayoutDesc, histogramArray=histoArray, plot_width= 500,\n",
    "                            colors=\"Bokeh\",rescaleColorMapper=True, nCols = 4)"
   ]
  },
  {
   "cell_type": "code",
   "execution_count": null,
   "id": "b443e77f",
   "metadata": {},
   "outputs": [],
   "source": []
  }
 ],
 "metadata": {
  "kernelspec": {
   "display_name": "Python 3 (ipykernel)",
   "language": "python",
   "name": "python3"
  },
  "language_info": {
   "codemirror_mode": {
    "name": "ipython",
    "version": 3
   },
   "file_extension": ".py",
   "mimetype": "text/x-python",
   "name": "python",
   "nbconvert_exporter": "python",
   "pygments_lexer": "ipython3",
   "version": "3.6.10"
  }
 },
 "nbformat": 4,
 "nbformat_minor": 5
}
