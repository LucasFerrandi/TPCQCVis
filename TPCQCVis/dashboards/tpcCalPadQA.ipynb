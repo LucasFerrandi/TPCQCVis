{
 "cells": [
  {
   "cell_type": "code",
   "execution_count": null,
   "id": "50dbcfe4",
   "metadata": {},
   "outputs": [],
   "source": [
    "from bokeh.io import output_notebook\n",
    "from RootInteractive.Tools.aliTreePlayer import *\n",
    "from RootInteractive.InteractiveDrawing.bokeh.bokehDrawSA import *\n",
    "from bokeh.io import curdoc\n",
    "import numpy as np\n",
    "import os\n",
    "import sys\n",
    "from ROOT import TFile, gSystem\n",
    "import plotly.express as px\n",
    "output_notebook()\n",
    "from IPython.display import Image\n",
    "from IPython.core.display import display, HTML\n",
    "display(HTML(\"<style>.container { width:100% !important; }</style>\"))\n",
    "import matplotlib.pyplot as plt\n",
    "\n",
    "\n",
    "from scipy.stats import norm\n",
    "import matplotlib.mlab as mlab\n",
    "import scipy.stats as stats\n",
    "import math"
   ]
  },
  {
   "cell_type": "code",
   "execution_count": null,
   "id": "877ee0d0",
   "metadata": {},
   "outputs": [],
   "source": [
    "import pprint\n",
    "from RootInteractive.InteractiveDrawing.bokeh.bokehInteractiveParameters import *\n",
    "pp = pprint.PrettyPrinter(width=220, compact=True)\n",
    "#from RootInteractive.MLpipeline.NDFunctionInterface import  *\n",
    "from RootInteractive.MLpipeline.MIForestErrPDF import *"
   ]
  },
  {
   "cell_type": "markdown",
   "id": "7e87e82a",
   "metadata": {},
   "source": [
    "# Random forest parameters "
   ]
  },
  {
   "cell_type": "code",
   "execution_count": null,
   "id": "bbd7c4f3",
   "metadata": {},
   "outputs": [],
   "source": [
    "#%%time\n",
    "n_estimators=200\n",
    "n_jobs=100\n",
    "npoints=1000000\n",
    "max_depthBase=14\n",
    "max_samples=0.1\n",
    "regressorBase = RandomForestRegressor(n_estimators =n_estimators,n_jobs=n_jobs,max_depth=max_depthBase,max_samples=max_samples)\n",
    "regressorLocal = RandomForestRegressor(n_estimators =n_estimators,n_jobs=n_jobs,max_samples=max_samples)"
   ]
  },
  {
   "cell_type": "code",
   "execution_count": null,
   "id": "5b674e4d",
   "metadata": {},
   "outputs": [],
   "source": [
    "arrayCompressionRelative10=[(\".*\",[(\"relative\",10), (\"code\",0), (\"zip\",0), (\"base64\",0)])]"
   ]
  },
  {
   "cell_type": "code",
   "execution_count": null,
   "id": "cf02ee47",
   "metadata": {},
   "outputs": [],
   "source": [
    "# defined by user\n",
    "calPath=\"/home/berki/Software/TPCQCVis/TPCQCVis/macro/TreeDump_run_523556.root\"\n",
    "fIn =ROOT.TFile.Open(calPath)\n",
    "tree=fIn.Get(\"calibTree\")"
   ]
  },
  {
   "cell_type": "code",
   "execution_count": null,
   "id": "331e6659",
   "metadata": {},
   "outputs": [],
   "source": [
    "tree.Show(0)\n",
    "#tree.GetListOfAliases().Print()"
   ]
  },
  {
   "cell_type": "markdown",
   "id": "54bdba2a",
   "metadata": {},
   "source": [
    "## Import variables and aliases from the tree to panda"
   ]
  },
  {
   "cell_type": "code",
   "execution_count": null,
   "id": "1c266ff9",
   "metadata": {},
   "outputs": [],
   "source": [
    "#%%time\n",
    "varList=[\n",
    "    \"roc\",\"ly\",\"lx\",\"gy\",\"gx\",\"row\",\"pad\",\"padArea\", ## position\n",
    "    \"isEdgePad\",\"partition\",           ## \n",
    "    \"traceLength\",                     ## trace length\n",
    "    \"GainMap\",                         ## krypton gain map\n",
    "    \"Pedestals\",\"Noise\",               ## \n",
    "    \"T0\",\"Qtot\",                       ## pulser properties          \n",
    "    \"N_Digits\",\"Q_Max_Digits\",         ## digits occumancy and Qmax \n",
    "    \"N_Clusters\",\"Q_Max\",\"Q_Tot\",      ## cluster Q-Max,Q_tot \n",
    "    #\"fraction\",\"expLambda\",            ## ion tail prameters \n",
    "    \"Sigma_Time\",\"Sigma_Pad\",          ## should be mean sigma of cluster finder in pad and time direction\n",
    "    \"A_Side\",\"C_Side\"\n",
    "]\n",
    "\n",
    "dfScan=tree2Panda(tree,varList,\"roc>=0\",columnMask=[[\"_fElements\",\"\"]])\n",
    "print(dfScan.shape)"
   ]
  },
  {
   "cell_type": "code",
   "execution_count": null,
   "id": "e2f4ae86",
   "metadata": {},
   "outputs": [],
   "source": []
  },
  {
   "cell_type": "code",
   "execution_count": null,
   "id": "6260d8b3",
   "metadata": {},
   "outputs": [],
   "source": [
    "dfScan[\"roc\"]"
   ]
  },
  {
   "cell_type": "code",
   "execution_count": null,
   "id": "fe597258",
   "metadata": {},
   "outputs": [],
   "source": [
    "dfScan[\"dPedestals\"]=dfScan[\"Pedestals\"]-dfScan[\"Pedestals\"].astype('int16')"
   ]
  },
  {
   "cell_type": "markdown",
   "id": "47f14036",
   "metadata": {},
   "source": [
    "# Fit base and local  propeties\n",
    "* regressor with local X\n",
    "* local filter regressor - mean,median,std filter"
   ]
  },
  {
   "cell_type": "code",
   "execution_count": null,
   "id": "a363197a",
   "metadata": {},
   "outputs": [],
   "source": [
    "#%%time\n",
    "statDictionary={\"mean\":None,\"median\":None, \"std\":None}\n",
    "\n",
    "varListN=[\"lx\",\"traceLength\",\"padArea\"]\n",
    "varListLocal=[\"lx\",\"ly\",\"roc\"]\n",
    "vars=[\n",
    "    \"Noise\",\"N_Digits\",\"N_Clusters\",\n",
    "    \"Q_Max\", \"Q_Tot\", \"GainMap\",\"Q_Max_Digits\",\n",
    "    \"fraction\",\"expLambda\"\n",
    "]\n",
    "for var in vars:\n",
    "    # base regression limitted deep\n",
    "    regressorBase.fit(dfScan[varList],dfScan[var])\n",
    "    dfScan[f\"{var}RF0\"]= regressorBase.predict(dfScan[varList])\n",
    "    dfScan[f\"{var}RF0_Ratio\"]=dfScan[f\"{var}\"]/dfScan[f\"{var}RF0\"]\n",
    "    # local regression  \n",
    "    regressorLocal.fit(dfScan[varListLocal],dfScan[var])\n",
    "    statDictionaryOut=predictRFStatNew(regressorLocal,dfScan[varListLocal].astype('float32').to_numpy(),statDictionary,n_jobs)\n",
    "    dfScan[f\"{var}RFL\"]= regressorLocal.predict(dfScan[varListLocal])\n",
    "    dfScan[f\"{var}RFL_Ratio\"]=dfScan[f\"{var}\"]/dfScan[f\"{var}RFL\"]\n",
    "    dfScan[f\"{var}RFL_Med\"]=statDictionaryOut[\"median\"]\n",
    "    dfScan[f\"{var}RFL_Std\"]=statDictionaryOut[\"std\"]\n",
    "    dfScan[f\"{var}RFLMed_Ratio\"]=dfScan[f\"{var}\"]/dfScan[f\"{var}RFL_Med\"]\n",
    "    print(f\"Fit {var}\")\n",
    "\n"
   ]
  },
  {
   "cell_type": "code",
   "execution_count": null,
   "id": "50e656f1",
   "metadata": {},
   "outputs": [],
   "source": [
    "print(dfScan[\"NoiseRF0\"].mean(),dfScan[\"NoiseRF0_Ratio\"].mean())\n"
   ]
  },
  {
   "cell_type": "markdown",
   "id": "b0348463",
   "metadata": {},
   "source": [
    "# Make parameters and widgets"
   ]
  },
  {
   "cell_type": "code",
   "execution_count": null,
   "id": "a66d2cd0",
   "metadata": {},
   "outputs": [],
   "source": [
    "variables=[\"lx\",\"dPedestals\",\"Noise\",\"NoiseRF0\",\"NoiseRF0_Ratio\",\"N_Digits\",\"N_DigitsRF0\",\"N_DigitsRF0_Ratio\",\"N_Clusters\",\"N_ClustersRF0\",\"N_ClustersRF0_Ratio\",\n",
    "           \"Q_Max\",\"Q_MaxRF0_Ratio\",\"Q_Tot\",\"Q_TotRF0_Ratio\",\n",
    "           \"GainMap\",\"Q_Max_Digits\",\n",
    "          \"Sigma_Time\",\"Sigma_Pad\"]\n",
    "\n",
    "\n",
    "parameterArray = [  \n",
    "    {\"name\": \"varX\", \"value\":\"Noise\", \"options\": variables},\n",
    "    {\"name\": \"varY\", \"value\":\"N_Digits\", \"options\": variables },\n",
    "    {\"name\": \"nbinsX\", \"value\":30, \"range\":[5, 100]},\n",
    "    {\"name\": \"nbinsY\", \"value\":30, \"range\":[5, 100]},\n",
    "    #\n",
    "    {\"name\": \"nbinsGX\", \"value\":50, \"range\":[30, 250]},\n",
    "    {\"name\": \"nbinsGY\", \"value\":50, \"range\":[30, 250]},\n",
    "    {\"name\": \"yAxisTransform\", \"value\":\"linear\", \"options\":[\"linear\",\"sqrt\",\"log\"]},\n",
    "]\n",
    "#\n",
    "parameterArray.extend(figureParameters[\"legend\"]['parameterArray'])   # add legend configuration as in the default \n",
    "parameterArray.extend(figureParameters[\"markers\"]['parameterArray'])   # add legend configuration as in the default \n",
    "#\n",
    "widgetParams=[\n",
    "              #['spinnerRange', ['qMax'], {}],\n",
    "              ['spinnerRange', ['roc'],{\"name\": \"roc\"}],\n",
    "              ['spinnerRange', ['row'],{\"name\": \"row\"}],\n",
    "              [\"multiSelect\",[\"partition\"],{\"name\":\"partition\"}],\n",
    "              ['multiSelect',[\"isEdgePad\"],{\"name\":\"isEdgePad\"}],\n",
    "              #\n",
    "              ['range', ['lx'],{\"name\": \"lx\"}],\n",
    "              ['range', ['ly'],{\"name\": \"ly\"}],\n",
    "              ['range', ['gx'],{\"name\": \"gx\"}],\n",
    "              ['range', ['gy'],{\"name\": \"gy\"}],\n",
    "              #\n",
    "              ['spinnerRange', ['Noise'],{\"name\": \"Noise\"}],\n",
    "              ['spinnerRange', ['NoiseRF0_Ratio'],{\"name\": \"NoiseRF0_Ratio\"}],\n",
    "              ['spinnerRange', ['N_DigitsRF0_Ratio'],{\"name\": \"N_DigitsRF0_Ratio\"}],\n",
    "              ['spinnerRange', ['N_ClustersRF0_Ratio'],{\"name\": \"N_ClustersRF0_Ratio\"}],\n",
    "              ['range', ['dPedestals'],{\"name\": \"dPedestals\"}],\n",
    "    \n",
    "              #\n",
    "              ['select', ['varX'], {\"name\": \"varX\"}],\n",
    "              ['select', ['varY'], {\"name\": \"varY\"}],\n",
    "              ['spinner', ['nbinsY'], {\"name\": \"nbinsY\"}],\n",
    "              ['spinner', ['nbinsX'], {\"name\": \"nbinsX\"}],\n",
    "              ['spinner', ['nbinsGY'], {\"name\": \"nbinsGY\"}],\n",
    "              ['spinner', ['nbinsGX'], {\"name\": \"nbinsGX\"}],\n",
    "              ['select', ['yAxisTransform'], {\"name\": \"yAxisTransform\"}],\n",
    "    \n",
    "]\n",
    "#\n",
    "widgetParams.extend(figureParameters[\"legend\"][\"widgets\"])\n",
    "widgetParams.extend(figureParameters[\"markers\"][\"widgets\"])\n",
    "#\n",
    "widgetLayoutKine=[[\"roc\",\"row\",\"partition\",\"isEdgePad\"],[\"lx\",\"ly\",\"gx\",\"gy\"], [\"dPedestals\",\"Noise\",\"NoiseRF0_Ratio\",\"N_ClustersRF0_Ratio\",\"N_DigitsRF0_Ratio\"], {'sizing_mode': 'scale_width'}]\n",
    "widgetLayoutDesc={\n",
    "    \"Select\":widgetLayoutKine,\n",
    "    \"Histograms\":[[\"nbinsX\",\"nbinsY\", \"nbinsGX\",\"nbinsGY\",\"varX\",\"varY\",\"yAxisTransform\"], {'sizing_mode': 'scale_width'}],\n",
    "    \"Legend\": figureParameters['legend']['widgetLayout'],\n",
    "    \"Markers\":[\"markerSize\"]\n",
    "}\n",
    "\n",
    "#figureGlobalOption={\"size\":\"size\"}\n",
    "figureGlobalOption={}\n",
    "figureGlobalOption=figureParameters[\"legend\"][\"figureOptions\"]\n",
    "figureGlobalOption[\"size\"]=\"markerSize\""
   ]
  },
  {
   "cell_type": "markdown",
   "id": "8c0c0809",
   "metadata": {},
   "source": [
    "## Histogram array\n",
    "* histogram user defined - X,Y\n",
    "* number of bins user defined"
   ]
  },
  {
   "cell_type": "code",
   "execution_count": null,
   "id": "a0f017f8",
   "metadata": {},
   "outputs": [],
   "source": [
    "histoArray=[    \n",
    "    {\n",
    "        \"name\": \"histoXY\",\n",
    "        \"variables\": [\"varX\", \"varY\"],\n",
    "        \"nbins\":[\"nbinsX\", \"nbinsY\"], \"axis\":[0,1],\"quantiles\": [.1, .5, .9],\"unbinned_projections\":True\n",
    "    },\n",
    "    #\n",
    "    {\"name\": \"histoX\", \"variables\": [\"varX\"], \"nbins\":\"nbinsX\", \"range\": None},\n",
    "    #\n",
    "    {\"name\": \"histoY\", \"variables\": [\"varY\"], \"nbins\":\"nbinsY\", \"range\": None, },\n",
    "    {\n",
    "        \"name\": \"histoGXYYA\",\n",
    "        \"variables\": [\"gx\", \"gy\",\"varY\"],\n",
    "        \"nbins\":[\"nbinsGX\", \"nbinsGY\",\"nbinsY\"], \"axis\":[2],\"quantiles\": [.5],\"unbinned_projections\":True, \"weights\":\"A_Side\"\n",
    "    },\n",
    "    {\n",
    "        \"name\": \"histoGXYYC\",\n",
    "        \"variables\": [\"gx\", \"gy\",\"varY\"],\n",
    "        \"nbins\":[\"nbinsGX\", \"nbinsGY\",\"nbinsY\"], \"axis\":[2],\"quantiles\": [.5],\"unbinned_projections\":True, \"weights\":\"C_Side\"\n",
    "    }\n",
    "]\n",
    "\n",
    "aliasArray=[]"
   ]
  },
  {
   "cell_type": "markdown",
   "id": "8553c925",
   "metadata": {},
   "source": [
    "## Create figure/application layout"
   ]
  },
  {
   "cell_type": "code",
   "execution_count": null,
   "id": "c38ad5c7",
   "metadata": {},
   "outputs": [],
   "source": [
    "figureArray=[\n",
    "    [[\"bin_center\"],[\"bin_count\"],{\"source\":\"histoX\",\"yAxisTitle\":\"N\", \"xAxisTitle\":\"varX\", \"errY\": [\"sqrt(bin_count)\"]}],\n",
    "    [[\"bin_center\"],[\"bin_count\"],{\"source\":\"histoY\",\"yAxisTitle\":\"N\", \"xAxisTitle\":\"varY\", \"errY\": [\"sqrt(bin_count)\"]}],\n",
    "    [[(\"bin_bottom_0\", \"bin_top_0\")], [(\"bin_bottom_1\", \"bin_top_1\")], {\"colorZvar\": \"log(bin_count+1)\", \"source\":\"histoXY\"}],\n",
    "    #\n",
    "    [[(\"bin_bottom_0\", \"bin_top_0\")], [(\"bin_bottom_1\", \"bin_top_1\")], {\"colorZvar\": \"log(bin_count+1)\", \"source\":\"histoXY\"}],\n",
    "    [[\"bin_center_0\"], [\"mean\",\"quantile_1\"], { \"source\":\"histoXY_1\"}],\n",
    "    [[\"bin_center_0\"], [\"std\"], { \"source\":\"histoXY_1\"}],\n",
    "    # global XY profile\n",
    "     [[(\"bin_bottom_0\", \"bin_top_0\")], [(\"bin_bottom_1\", \"bin_top_1\")], {\"colorZvar\": \"quantile_0\", \"source\":\"histoGXYYA_2\"}],\n",
    "     [[(\"bin_bottom_0\", \"bin_top_0\")], [(\"bin_bottom_1\", \"bin_top_1\")], {\"colorZvar\": \"quantile_0\", \"source\":\"histoGXYYC_2\"}],\n",
    "\n",
    "    figureGlobalOption\n",
    "]\n",
    "figureLayoutDesc={\n",
    "    \"histo\":[[0,1,2],{\"plot_height\":350}],\n",
    "    \"projection\":[[3,4,5],{\"plot_height\":350}],\n",
    "    \"gxy\":[[6,7],{\"plot_height\":350}],\n",
    "}\n"
   ]
  },
  {
   "cell_type": "code",
   "execution_count": null,
   "id": "f036499d",
   "metadata": {},
   "outputs": [],
   "source": [
    "#%pdb\n",
    "output_file(\"calibPad.html\")\n",
    "arrayCompression=arrayCompressionRelative10\n",
    "#dfDraw=dfScan.sample(600000).sort_index()\n",
    "dfDraw=dfScan\n",
    "bokehDrawSA.fromArray(dfDraw, None, figureArray, widgetParams, layout=figureLayoutDesc, parameterArray=parameterArray, aliasArray=aliasArray,\n",
    "                              widgetLayout=widgetLayoutDesc, sizing_mode=\"scale_width\", nPointRender=80000, histogramArray=histoArray,\n",
    "                     arrayCompression=arrayCompression)"
   ]
  },
  {
   "cell_type": "code",
   "execution_count": null,
   "id": "ef3c6f09",
   "metadata": {},
   "outputs": [],
   "source": []
  },
  {
   "cell_type": "code",
   "execution_count": null,
   "id": "960f0a80",
   "metadata": {},
   "outputs": [],
   "source": []
  }
 ],
 "metadata": {
  "kernelspec": {
   "display_name": "Python 3 (ipykernel)",
   "language": "python",
   "name": "python3"
  },
  "language_info": {
   "codemirror_mode": {
    "name": "ipython",
    "version": 3
   },
   "file_extension": ".py",
   "mimetype": "text/x-python",
   "name": "python",
   "nbconvert_exporter": "python",
   "pygments_lexer": "ipython3",
   "version": "3.9.12"
  }
 },
 "nbformat": 4,
 "nbformat_minor": 5
}
