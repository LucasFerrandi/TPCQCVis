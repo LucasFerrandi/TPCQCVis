{
 "cells": [
  {
   "cell_type": "code",
   "execution_count": null,
   "id": "a043bd09",
   "metadata": {
    "slideshow": {
     "slide_type": "notes"
    }
   },
   "outputs": [],
   "source": [
    "from IPython.display import display, Markdown, HTML\n",
    "display(HTML(\"<style>.container { width:90% !important; }</style>\"))"
   ]
  },
  {
   "cell_type": "code",
   "execution_count": null,
   "id": "dc661370",
   "metadata": {},
   "outputs": [],
   "source": [
    "from platform import python_version\n",
    "python_version()"
   ]
  },
  {
   "cell_type": "code",
   "execution_count": null,
   "id": "97a3378b",
   "metadata": {
    "slideshow": {
     "slide_type": "notes"
    }
   },
   "outputs": [],
   "source": [
    "import math\n",
    "import ROOT\n",
    "import numpy as np, pandas as pd\n",
    "import yaml\n",
    "import base64\n",
    "import ctypes\n",
    "import logging\n",
    "import bokeh\n",
    "from bokeh.io import output_notebook, show\n",
    "from bokeh.plotting import output_file\n",
    "from RootInteractive.InteractiveDrawing.bokeh.bokehDrawSA import *\n",
    "from RootInteractive.InteractiveDrawing.bokeh.bokehTools import bokehDrawArray\n",
    "from RootInteractive.Tools.pandaTools import initMetadata\n",
    "from RootInteractive.Tools.aliTreePlayer import *\n",
    "from RootInteractive.Tools.compressArray import arrayCompressionRelative8\n",
    "from TPCQCVis.src.palette import *\n",
    "#output_notebook()"
   ]
  },
  {
   "cell_type": "markdown",
   "id": "117b5153",
   "metadata": {
    "slideshow": {
     "slide_type": "slide"
    }
   },
   "source": [
    "# Display skimmed AO2D tracks\n",
    "In this notebook a RootInteractive dashboard is created for interactive investigation of skimmed AO2D tracks."
   ]
  },
  {
   "cell_type": "markdown",
   "id": "b3275c44",
   "metadata": {
    "slideshow": {
     "slide_type": "slide"
    }
   },
   "source": [
    "## Used data\n",
    "We are using AO2D tracks data from the 2021 Pilot beam\n",
    "Skimming is done on O2Physics side and only the skimmed tracks file is imported into the notebook"
   ]
  },
  {
   "cell_type": "code",
   "execution_count": null,
   "id": "d1bdcb35",
   "metadata": {
    "slideshow": {
     "slide_type": "-"
    }
   },
   "outputs": [],
   "source": [
    "#inputFile=\"/lustre/alice/users/miranov/NOTESData/alice-tpc-notes/JIRA/ATO-592/tpcqcskimmingTracks.root\"\n",
    "inputFile=\"~/Software/TPCQCVis/data/tpcqcskimmingTracks.root\""
   ]
  },
  {
   "cell_type": "markdown",
   "id": "424ec980",
   "metadata": {
    "slideshow": {
     "slide_type": "-"
    }
   },
   "source": [
    "We can define new branches using aliases with Root or by defining new columns in the dataframe"
   ]
  },
  {
   "cell_type": "code",
   "execution_count": null,
   "id": "66aa0d8a",
   "metadata": {
    "slideshow": {
     "slide_type": "-"
    }
   },
   "outputs": [],
   "source": [
    "f=ROOT.TFile.Open(inputFile)\n",
    "tracks = f.Get(\"tracks;2\")  \n",
    "tracks.SetAlias(\"weight1\",\"((triggerMask&0x1)>0)*100*max(weight,0.01)\")\n",
    "tracks.SetAlias(\"weight2\",\"((triggerMask&0x2)>0)*100*max(weight*pt*pt,0.01)\")\n",
    "tracks.SetAlias(\"weight3\",\"((triggerMask&0x4)>0)*100\")\n",
    "tracks.SetAlias(\"weight_full\",\"weight1+weight2+weight3\")\n",
    "tracks.SetAlias(\"rMin\",\"trackPar.mX\")\n",
    "tracks.SetAlias(\"qPt\",\"trackPar.mP[4]\")\n",
    "tracks.SetAlias(\"pzPt\",\"trackPar.mP[3]\")\n",
    "tracks.SetAlias(\"itsOn\",\"itsClusterMap>0\")\n",
    "tracks.SetAlias(\"tofOn\",\"abs(tofChi2)<100\")\n",
    "tracks.SetAlias(\"p\",\"pt*sqrt(1+pzPt*pzPt)\")\n",
    "tracks.SetAlias(\"logp\",\"log(p)\")\n",
    "tracks.SetAlias(\"logtpcSignal\",\"log(tpcSignal)\")\n",
    "tracks.SetAlias(\"eta\",\"trackPar.getEta()\")\n",
    "tracks.SetAlias(\"theta\",\"trackPar.getTheta()\")\n",
    "tracks.SetAlias(\"tgl\",\"trackPar.getTgl()\")\n",
    "tracks.SetAlias(\"snp\",\"trackPar.getSnp()\")"
   ]
  },
  {
   "cell_type": "code",
   "execution_count": null,
   "id": "5260a5c3",
   "metadata": {
    "slideshow": {
     "slide_type": "-"
    }
   },
   "outputs": [],
   "source": [
    "df=tree2Panda(tracks, [\".*\"], \"\", exclude=[\"trackPar\"])   \n",
    "df[\"dcaDefined\"]=df.eval(\"dcaXY!=0\")\n",
    "df[\"side\"]=df.eval(\"pzPt>0\") ##  (A/C/CrossAC/CrossCA side)\n",
    "df[\"isPrim5\"]=df.eval(\"abs(dcaXY)<5 &  abs(dcaZ)<5 & rMin<5\")\n",
    "df[\"tpcNCR\"]=df[\"tpcNClsFindable\"]-df[\"tpcNClsFindableMinusCrossedRows\"]\n",
    "df.head()"
   ]
  },
  {
   "cell_type": "markdown",
   "id": "25da660b",
   "metadata": {
    "slideshow": {
     "slide_type": "slide"
    }
   },
   "source": [
    "## Defining the dashboard\n",
    "To have a custom dashboard for visualizing the skimmed tracks data we need to first configure some things"
   ]
  },
  {
   "cell_type": "code",
   "execution_count": null,
   "id": "5479adb6",
   "metadata": {
    "slideshow": {
     "slide_type": "-"
    }
   },
   "outputs": [],
   "source": [
    "parameterArray = [\n",
    "    # scatter\n",
    "    {\"name\": \"size\", \"value\":5, \"range\":[0, 20]},\n",
    "    # legend\n",
    "    {\"name\": \"legendFontSize\", \"value\":\"13px\", \"options\":[\"9px\", \"11px\", \"13px\", \"15px\"]},\n",
    "    {\"name\": \"legendVisible\", \"value\":True},\n",
    "    {\"name\": \"legendLocation\", \"value\":\"top_right\", \"options\":[\"top_right\",\"top_left\", \"bottom_right\",\"bottom_left\"]},\n",
    "    # axis transform\n",
    "    {\"name\": \"zAxisTrans\", \"value\":\"lin_z\", \"options\":[\"lin_z\", \"log_z\",\"sqrt_z\"]},\n",
    "    # skimming\n",
    "    {\"name\": \"weighting\", \"value\":\"weight_full\", \"options\":[\"weight_full\",\"weight1\", \"weight2\",\"weight3\"]},\n",
    "]"
   ]
  },
  {
   "cell_type": "code",
   "execution_count": null,
   "id": "d0b71ce8",
   "metadata": {
    "slideshow": {
     "slide_type": "subslide"
    }
   },
   "outputs": [],
   "source": [
    "widgetParams=[\n",
    "      # Geometry\n",
    "      ['range', ['phi']],\n",
    "      ['range', ['eta']],\n",
    "      ['range', ['theta']],\n",
    "      ['range', ['tgl']],\n",
    "      ['multiSelect',[\"side\"]],\n",
    "      # Momenta\n",
    "      ['range', ['pt']],\n",
    "      ['range', ['qPt']],\n",
    "      ['range', ['pzPt']],\n",
    "      ['range', ['p']],\n",
    "      # vertex\n",
    "      ['range', ['dcaXY']],\n",
    "      ['range', ['dcaZ']],\n",
    "      ['range', ['rMin']],\n",
    "      ['multiSelect',[\"dcaDefined\"]],\n",
    "      ['multiSelect',[\"isPrim5\"]],\n",
    "      ['multiSelect',[\"hasCollision\"]],\n",
    "      # detectors\n",
    "      ['range', ['tpcNClsFindable']],\n",
    "      ['range', ['tpcSignal']],\n",
    "      ['multiSelect',[\"itsOn\"]],\n",
    "      ['multiSelect',[\"tofOn\"]],\n",
    "      # other\n",
    "      ['textQuery', {\"title\": \"user select\"}],\n",
    "      # skimming\n",
    "      ['multiSelect',[\"triggerMask\"]],\n",
    "      ['select',[\"weighting\"]],\n",
    "      # Graphics\n",
    "      ['select',[\"zAxisTrans\"], {\"callback\": \"parameter\", \"default\": 0, \"title\":\"z-Axis transformation\"}],\n",
    "      ['slider',[\"size\"], {\"callback\": \"parameter\", \"title\":\"Marker size\"}],\n",
    "      ['toggle',['legendVisible']],  \n",
    "      ['select',[\"legendFontSize\"], {\"callback\": \"parameter\", \"default\": 2, \"title\":\"Legend font size\"}],\n",
    "      ['select',[\"legendLocation\"], {\"callback\": \"parameter\", \"default\": 0}],\n",
    "]\n",
    "widgetLayoutDesc={\n",
    "    \"Geometry\": [[0,1,2,3],[4], {'sizing_mode': 'scale_width'}],\n",
    "    \"Momentum\": [[5,6],[7,8], {'sizing_mode': 'scale_width'}],\n",
    "    \"Vertex\": [[9,10,11],[12,13,14], {'sizing_mode': 'scale_width'}],\n",
    "    \"Detectors\": [[15,16],[17,18], {'sizing_mode': 'scale_width'}],\n",
    "    \"UserSelect\": [[19], {'sizing_mode': 'scale_width'}],\n",
    "    \"Skimming\": [[20,21], {'sizing_mode': 'scale_width'}],\n",
    "    \"Graphics\": [[22,23],[24,25,26], {'sizing_mode': 'scale_width'}],\n",
    "}"
   ]
  },
  {
   "cell_type": "markdown",
   "id": "198e88c6",
   "metadata": {
    "slideshow": {
     "slide_type": "subslide"
    }
   },
   "source": [
    "## Histogramming\n",
    "We can choose the histograms we want to be able to create figures with\n",
    "\n",
    "When cuts, selections, etc. are applied to the data these projections will be updated"
   ]
  },
  {
   "cell_type": "code",
   "execution_count": null,
   "id": "8efd74ef",
   "metadata": {
    "slideshow": {
     "slide_type": "-"
    }
   },
   "outputs": [],
   "source": [
    "histoArray = []\n",
    "histoArrayTPCsignal=[\n",
    "    {\"name\": \"tpcSignalVslogp\", \"variables\": [\"logp\",\"tpcSignal\"], \"nbins\":[100,100], \"range\": [[math.log(0.05),math.log(20)],[0, 500]],\"weights\":\"weighting\"},\n",
    "    {\"name\": \"tpcSignalVsqPt\", \"variables\": [\"qPt\",\"tpcSignal\"], \"nbins\":[100,100], \"range\": [[-20,20],[0, 500]],\"weights\":\"weighting\"},\n",
    "    {\"name\": \"tpcSignalVsphi\", \"variables\": [\"phi\",\"tpcSignal\"], \"nbins\":[90,100], \"range\": [[0, 6.28],[0, 500]],\"weights\":\"weighting\"},\n",
    "    {\"name\": \"tpcSignalVstpcNClsFindable\", \"variables\": [\"tpcNClsFindable\",\"tpcSignal\"], \"nbins\":[85,100], \"range\": [[0, 170],[0, 500]],\"weights\":\"weighting\"},\n",
    "    {\"name\": \"tpcSignalVseta\", \"variables\": [\"eta\",\"tpcSignal\"], \"nbins\":[40,100], \"range\": [[-2, 2],[0, 500]],\"weights\":\"weighting\"},\n",
    "    {\"name\": \"tpcSignalVstgl\", \"variables\": [\"tgl\",\"tpcSignal\"], \"nbins\":[40,100], \"range\": [[-2, 2],[0, 500]],\"weights\":\"weighting\"}\n",
    "]\n",
    "histoArray.extend(histoArrayTPCsignal)\n",
    "\n",
    "histoArrayPt=[\n",
    "    {\"name\": \"ptVsphi\", \"variables\": [\"phi\",\"pt\"], \"nbins\":[90,100], \"range\": [[0, 6.28],[0,20]],\"weights\":\"weighting\"},\n",
    "    {\"name\": \"ptVstpcNClsFindable\", \"variables\": [\"tpcNClsFindable\",\"pt\"], \"nbins\":[80,100], \"range\": [[0,160],[0,20]],\"weights\":\"weighting\"},\n",
    "    {\"name\": \"ptVseta\", \"variables\": [\"eta\",\"pt\"], \"nbins\":[40,100], \"range\": [[-2, 2],[0, 20]],\"weights\":\"weighting\"},\n",
    "    {\"name\": \"ptVstgl\", \"variables\": [\"tgl\",\"pt\"], \"nbins\":[40,100], \"range\": [[-2, 2],[0, 20]],\"weights\":\"weighting\"}\n",
    "]\n",
    "histoArray.extend(histoArrayPt)\n",
    "\n",
    "histoArrayNCluster=[\n",
    "    {\"name\": \"tpcNClsFindable_Hist\", \"variables\": [\"tpcNClsFindable\"], \"nbins\":32, \"range\": [0,160],\"weights\":\"weighting\"},\n",
    "    {\"name\": \"tpcNClsFindableVsphi\", \"variables\": [\"phi\",\"tpcNClsFindable\"], \"nbins\":[90,100], \"range\": [[0, 6.28],[0,160]],\"weights\":\"weighting\"},\n",
    "    {\"name\": \"tpcNClsFindableVseta\", \"variables\": [\"eta\",\"tpcNClsFindable\"], \"nbins\":[40,100], \"range\": [[-2, 2],[0,160]],\"weights\":\"weighting\"},\n",
    "    {\"name\": \"tpcNClsFindableVstgl\", \"variables\": [\"tgl\",\"tpcNClsFindable\"], \"nbins\":[40,100], \"range\": [[-2, 2],[0,160]],\"weights\":\"weighting\"}\n",
    "]\n",
    "histoArray.extend(histoArrayNCluster)\n"
   ]
  },
  {
   "cell_type": "code",
   "execution_count": null,
   "id": "11c26588",
   "metadata": {},
   "outputs": [],
   "source": [
    "aliasArray = []\n",
    "histoArrayLog=[]\n",
    "for his in histoArray:\n",
    "    histoName=his[\"name\"]\n",
    "    # z (color)\n",
    "    histoArrayLog.append({ \"name\": f\"lin_x\",\"variables\": [\"bin_center_0\"],\"func\": \"return Math.max(bin_center_0,0)\",\"context\": f\"{histoName}\"})\n",
    "    histoArrayLog.append({ \"name\": f\"log_x\",\"variables\": [\"bin_center_0\"],\"func\": \"return Math.log(Math.max(bin_center_0,1))\",\"context\": f\"{histoName}\"})\n",
    "    histoArrayLog.append({ \"name\": f\"sqrt_x\",\"variables\": [\"bin_center_0\"],\"func\": \"return Math.sqrt(Math.max(bin_center_0,0))\",\"context\": f\"{histoName}\"})\n",
    "    histoArrayLog.append({ \"name\": f\"lin_z\",\"variables\": [\"bin_count\"],\"func\": \"return Math.max(bin_count,0)\",\"context\": f\"{histoName}\"})\n",
    "    histoArrayLog.append({ \"name\": f\"log_z\",\"variables\": [\"bin_count\"],\"func\": \"return Math.log(Math.max(bin_count,1))\",\"context\": f\"{histoName}\"})\n",
    "    histoArrayLog.append({ \"name\": f\"sqrt_z\",\"variables\": [\"bin_count\"],\"func\": \"return Math.sqrt(Math.max(bin_count,0))\",\"context\": f\"{histoName}\"})\n",
    "aliasArray.extend(histoArrayLog)"
   ]
  },
  {
   "cell_type": "markdown",
   "id": "f96adf63",
   "metadata": {
    "slideshow": {
     "slide_type": "slide"
    }
   },
   "source": [
    "## Figures\n",
    "We define the figures and the layout in which they will be shown on the dashboard"
   ]
  },
  {
   "cell_type": "code",
   "execution_count": null,
   "id": "388d329b",
   "metadata": {
    "slideshow": {
     "slide_type": "-"
    }
   },
   "outputs": [],
   "source": [
    "figureArray = [\n",
    "    # tpcSignal\n",
    "    [['bin_center_0'],['bin_center_1'],{\"source\":\"tpcSignalVslogp\",\"colorZvar\":\"zAxisTrans\",\"xAxisTitle\":\"log(p)\", \"yAxisTitle\":\"tpcSignal\"}],\n",
    "    [['bin_center_0'],['bin_center_1'],{\"source\":\"tpcSignalVsqPt\",\"colorZvar\":\"zAxisTrans\", \"xAxisTitle\":\"q/pT\", \"yAxisTitle\":\"tpcSignal\"}],\n",
    "    [['bin_center_0'],['bin_center_1'],{\"source\":\"tpcSignalVsphi\",\"colorZvar\":\"zAxisTrans\", \"xAxisTitle\":\"phi\", \"yAxisTitle\":\"tpcSignal\"}],\n",
    "    [['bin_center_0'],['bin_center_1'],{\"source\":\"tpcSignalVstpcNClsFindable\",\"colorZvar\":\"zAxisTrans\", \"xAxisTitle\":\"tpcNClsFindable\", \"yAxisTitle\":\"tpcSignal\"}],\n",
    "    [['bin_center_0'],['bin_center_1'],{\"source\":\"tpcSignalVseta\",\"colorZvar\":\"zAxisTrans\", \"xAxisTitle\":\"eta\", \"yAxisTitle\":\"tpcSignal\"}],\n",
    "    [['bin_center_0'],['bin_center_1'],{\"source\":\"tpcSignalVstgl\",\"colorZvar\":\"zAxisTrans\", \"xAxisTitle\":\"tan(lambda)\", \"yAxisTitle\":\"tpcSignal\"}],\n",
    "    # pT\n",
    "    [['bin_center_0'],['bin_center_1'],{\"source\":\"ptVsphi\",\"colorZvar\":\"zAxisTrans\", \"xAxisTitle\":\"phi\", \"yAxisTitle\":\"pt\"}],\n",
    "    [['bin_center_0'],['bin_center_1'],{\"source\":\"ptVstpcNClsFindable\",\"colorZvar\":\"zAxisTrans\", \"xAxisTitle\":\"tpcNClsFindable\", \"yAxisTitle\":\"pt\"}],\n",
    "    [['bin_center_0'],['bin_center_1'],{\"source\":\"ptVseta\",\"colorZvar\":\"zAxisTrans\", \"xAxisTitle\":\"eta\", \"yAxisTitle\":\"pt\"}],\n",
    "    [['bin_center_0'],['bin_center_1'],{\"source\":\"ptVstgl\",\"colorZvar\":\"zAxisTrans\", \"xAxisTitle\":\"tan(lambda)\", \"yAxisTitle\":\"pt\"}],\n",
    "    # nClustersFindable\n",
    "    [['tpcNClsFindable'],['tpcNClsFindable_Hist'],{\"xAxisTitle\":\"tpcNClsFindable\", \"yAxisTitle\":\"counts\",\"size\":\"size\",\"visualization_type\":\"bars\",\"color\":\"#AAAAAA\"}],\n",
    "    [['bin_center_0'],['bin_center_1'],{\"source\":\"tpcNClsFindableVsphi\",\"colorZvar\":\"zAxisTrans\", \"xAxisTitle\":\"phi\", \"yAxisTitle\":\"tpcNClsFindable\"}],\n",
    "    [['bin_center_0'],['bin_center_1'],{\"source\":\"tpcNClsFindableVseta\",\"colorZvar\":\"zAxisTrans\", \"xAxisTitle\":\"eta\", \"yAxisTitle\":\"tpcNClsFindable\"}],\n",
    "    [['bin_center_0'],['bin_center_1'],{\"source\":\"tpcNClsFindableVstgl\",\"colorZvar\":\"zAxisTrans\", \"xAxisTitle\":\"tan(lambda)\", \"yAxisTitle\":\"tpcNClsFindable\"}],\n",
    "    \n",
    "    {'plot_height':150, \"commonX\":0,\"palette\":kBird256,\"visualization_type\":\"heatmap\",\n",
    "     \"legend_options\": {\"label_text_font_size\": \"legendFontSize\", \"visible\": \"legendVisible\", \"location\":\"legendLocation\"}}\n",
    "]            "
   ]
  },
  {
   "cell_type": "code",
   "execution_count": null,
   "id": "77507360",
   "metadata": {
    "slideshow": {
     "slide_type": "subslide"
    }
   },
   "outputs": [],
   "source": [
    "figureLayout = {\n",
    "    \"TPC Signal\": {\n",
    "        \"p & qPt\": [[0,1], {'plot_height':400,'sizing_mode':'scale_width',\"legend_visible\":True}],\n",
    "        \"phi & tpcNClsFindable\": [[2,3], {'plot_height':400,'sizing_mode':'scale_width',\"legend_visible\":True}],\n",
    "        \"eta & tan(lambda)\": [[4,5], {'plot_height':400,'sizing_mode':'scale_width',\"legend_visible\":True}]\n",
    "    },\n",
    "    \"pT\": {\n",
    "        \"phi & tpcNClsFindable\": [[6,7], {'plot_height':400,'sizing_mode':'scale_width',\"legend_visible\":True}],\n",
    "        \"eta & tan(lambda)\": [[8,9], {'plot_height':400,'sizing_mode':'scale_width',\"legend_visible\":True}]\n",
    "    },\n",
    "    \"nClustersFindable\": {\n",
    "        \"1D & phi\": [[10,11], {'plot_height':400,'sizing_mode':'scale_width',\"legend_visible\":True}],\n",
    "        \"eta & tan(lambda)\": [[12,13], {'plot_height':400,'sizing_mode':'scale_width',\"legend_visible\":True}]\n",
    "    }\n",
    "}"
   ]
  },
  {
   "cell_type": "code",
   "execution_count": null,
   "id": "c4f29c6e",
   "metadata": {
    "scrolled": false,
    "slideshow": {
     "slide_type": "-"
    }
   },
   "outputs": [],
   "source": [
    "tooltips=[]\n",
    "output_file(\"qc_dashboard.html\")\n",
    "xxx = bokehDrawSA.fromArray(df, \"pt<20&abs(qPt)<20&abs(pzPt)<2\", figureArray, widgetParams, layout=figureLayout, tooltips=tooltips, widgetLayout=widgetLayoutDesc,\n",
    "                            parameterArray=parameterArray, histogramArray=histoArray,aliasArray=aliasArray,sizing_mode='scale_width',\n",
    "                            arrayCompression=arrayCompressionRelative8)"
   ]
  },
  {
   "cell_type": "code",
   "execution_count": null,
   "id": "e774cf35",
   "metadata": {},
   "outputs": [],
   "source": []
  },
  {
   "cell_type": "code",
   "execution_count": null,
   "id": "b353a556",
   "metadata": {},
   "outputs": [],
   "source": []
  },
  {
   "cell_type": "code",
   "execution_count": null,
   "id": "646dbdc1",
   "metadata": {},
   "outputs": [],
   "source": []
  }
 ],
 "metadata": {
  "kernelspec": {
   "display_name": "Python 3 (ipykernel)",
   "language": "python",
   "name": "python3"
  },
  "language_info": {
   "codemirror_mode": {
    "name": "ipython",
    "version": 3
   },
   "file_extension": ".py",
   "mimetype": "text/x-python",
   "name": "python",
   "nbconvert_exporter": "python",
   "pygments_lexer": "ipython3",
   "version": "3.6.10"
  },
  "rise": {
   "scroll": true
  }
 },
 "nbformat": 4,
 "nbformat_minor": 5
}
