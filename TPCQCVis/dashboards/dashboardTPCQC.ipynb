{
 "cells": [
  {
   "cell_type": "code",
   "execution_count": 1,
   "id": "a043bd09",
   "metadata": {
    "slideshow": {
     "slide_type": "notes"
    }
   },
   "outputs": [
    {
     "data": {
      "text/html": [
       "<style>.container { width:90% !important; }</style>"
      ],
      "text/plain": [
       "<IPython.core.display.HTML object>"
      ]
     },
     "metadata": {},
     "output_type": "display_data"
    }
   ],
   "source": [
    "from IPython.display import display, Markdown, HTML\n",
    "display(HTML(\"<style>.container { width:90% !important; }</style>\"))"
   ]
  },
  {
   "cell_type": "code",
   "execution_count": 2,
   "id": "dc661370",
   "metadata": {},
   "outputs": [
    {
     "data": {
      "text/plain": [
       "'3.9.12'"
      ]
     },
     "execution_count": 2,
     "metadata": {},
     "output_type": "execute_result"
    }
   ],
   "source": [
    "from platform import python_version\n",
    "python_version()"
   ]
  },
  {
   "cell_type": "code",
   "execution_count": 3,
   "id": "97a3378b",
   "metadata": {
    "slideshow": {
     "slide_type": "notes"
    }
   },
   "outputs": [
    {
     "name": "stdout",
     "output_type": "stream",
     "text": [
      "Welcome to JupyROOT 6.26/04\n"
     ]
    },
    {
     "name": "stderr",
     "output_type": "stream",
     "text": [
      "/home/berki/alice/sw/ubuntu2004_x86-64/Python-modules/1.0-17/share/python-modules/lib/python/site-packages/_distutils_hack/__init__.py:18: UserWarning: Distutils was imported before Setuptools, but importing Setuptools also replaces the `distutils` module in `sys.modules`. This may lead to undesirable behaviors or errors. To avoid these issues, avoid using distutils directly, ensure that setuptools is installed in the traditional way (e.g. not an editable install), and/or make sure that setuptools is always imported before distutils.\n",
      "  warnings.warn(\n",
      "/home/berki/alice/sw/ubuntu2004_x86-64/Python-modules/1.0-17/share/python-modules/lib/python/site-packages/_distutils_hack/__init__.py:33: UserWarning: Setuptools is replacing distutils.\n",
      "  warnings.warn(\"Setuptools is replacing distutils.\")\n"
     ]
    },
    {
     "name": "stdout",
     "output_type": "stream",
     "text": [
      "x bokehVisJS3DGraph.ts\n",
      "x HistogramCDS.ts\n",
      "Import  CDSCompress.ts\n",
      "Import  DownsamplerCDS.ts\n",
      "Import  CDSAlias.ts\n",
      "Import  CDSJoin.ts\n"
     ]
    }
   ],
   "source": [
    "import math\n",
    "import ROOT\n",
    "import numpy as np, pandas as pd\n",
    "import yaml\n",
    "import base64\n",
    "import ctypes\n",
    "import logging\n",
    "import bokeh\n",
    "from bokeh.io import output_notebook, show\n",
    "from bokeh.plotting import output_file\n",
    "from RootInteractive.InteractiveDrawing.bokeh.bokehDrawSA import *\n",
    "from RootInteractive.InteractiveDrawing.bokeh.bokehTools import bokehDrawArray\n",
    "from RootInteractive.Tools.pandaTools import initMetadata\n",
    "from RootInteractive.Tools.aliTreePlayer import *\n",
    "from RootInteractive.Tools.compressArray import arrayCompressionRelative8\n",
    "from TPCQCVis.src.palette import *\n",
    "#output_notebook()"
   ]
  },
  {
   "cell_type": "markdown",
   "id": "117b5153",
   "metadata": {
    "slideshow": {
     "slide_type": "slide"
    }
   },
   "source": [
    "# Display skimmed AO2D tracks\n",
    "In this notebook a RootInteractive dashboard is created for interactive investigation of skimmed AO2D tracks."
   ]
  },
  {
   "cell_type": "markdown",
   "id": "b3275c44",
   "metadata": {
    "slideshow": {
     "slide_type": "slide"
    }
   },
   "source": [
    "## Used data\n",
    "We are using AO2D tracks data from the 2021 Pilot beam\n",
    "Skimming is done on O2Physics side and only the skimmed tracks file is imported into the notebook"
   ]
  },
  {
   "cell_type": "code",
   "execution_count": 4,
   "id": "d1bdcb35",
   "metadata": {
    "slideshow": {
     "slide_type": "-"
    }
   },
   "outputs": [],
   "source": [
    "#inputFile=\"/lustre/alice/users/miranov/NOTESData/alice-tpc-notes/JIRA/ATO-592/tpcqcskimmingTracks.root\"\n",
    "inputFile=\"~/Software/TPCQCVis/data/tpcqcskimmingTracks.root\""
   ]
  },
  {
   "cell_type": "markdown",
   "id": "424ec980",
   "metadata": {
    "slideshow": {
     "slide_type": "-"
    }
   },
   "source": [
    "We can define new branches using aliases with Root or by defining new columns in the dataframe"
   ]
  },
  {
   "cell_type": "code",
   "execution_count": 5,
   "id": "66aa0d8a",
   "metadata": {
    "slideshow": {
     "slide_type": "-"
    }
   },
   "outputs": [
    {
     "data": {
      "text/plain": [
       "True"
      ]
     },
     "execution_count": 5,
     "metadata": {},
     "output_type": "execute_result"
    }
   ],
   "source": [
    "f=ROOT.TFile.Open(inputFile)\n",
    "tracks = f.Get(\"tracks;2\")  \n",
    "tracks.SetAlias(\"weight1\",\"((triggerMask&0x1)>0)*100*max(weight,0.01)\")\n",
    "tracks.SetAlias(\"weight2\",\"((triggerMask&0x2)>0)*100*max(weight*pt*pt,0.01)\")\n",
    "tracks.SetAlias(\"weight3\",\"((triggerMask&0x4)>0)*100\")\n",
    "tracks.SetAlias(\"weight_full\",\"weight1+weight2+weight3\")\n",
    "tracks.SetAlias(\"rMin\",\"trackPar.mX\")\n",
    "tracks.SetAlias(\"qPt\",\"trackPar.mP[4]\")\n",
    "tracks.SetAlias(\"pzPt\",\"trackPar.mP[3]\")\n",
    "tracks.SetAlias(\"itsOn\",\"itsClusterMap>0\")\n",
    "tracks.SetAlias(\"tofOn\",\"abs(tofChi2)<100\")\n",
    "tracks.SetAlias(\"p\",\"pt*sqrt(1+pzPt*pzPt)\")\n",
    "tracks.SetAlias(\"logp\",\"log(p)\")\n",
    "tracks.SetAlias(\"logtpcSignal\",\"log(tpcSignal)\")\n",
    "tracks.SetAlias(\"eta\",\"trackPar.getEta()\")\n",
    "tracks.SetAlias(\"theta\",\"trackPar.getTheta()\")\n",
    "tracks.SetAlias(\"tgl\",\"trackPar.getTgl()\")\n",
    "tracks.SetAlias(\"snp\",\"trackPar.getSnp()\")"
   ]
  },
  {
   "cell_type": "code",
   "execution_count": 6,
   "id": "5260a5c3",
   "metadata": {
    "slideshow": {
     "slide_type": "-"
    }
   },
   "outputs": [
    {
     "data": {
      "text/html": [
       "<div>\n",
       "<style scoped>\n",
       "    .dataframe tbody tr th:only-of-type {\n",
       "        vertical-align: middle;\n",
       "    }\n",
       "\n",
       "    .dataframe tbody tr th {\n",
       "        vertical-align: top;\n",
       "    }\n",
       "\n",
       "    .dataframe thead th {\n",
       "        text-align: right;\n",
       "    }\n",
       "</style>\n",
       "<table border=\"1\" class=\"dataframe\">\n",
       "  <thead>\n",
       "    <tr style=\"text-align: right;\">\n",
       "      <th></th>\n",
       "      <th>weight</th>\n",
       "      <th>itsClusterMap</th>\n",
       "      <th>tpcNClsFindableMinusFound</th>\n",
       "      <th>trdChi2</th>\n",
       "      <th>rMin</th>\n",
       "      <th>logtpcSignal</th>\n",
       "      <th>theta</th>\n",
       "      <th>length</th>\n",
       "      <th>trackEtaEmcal</th>\n",
       "      <th>weight_full</th>\n",
       "      <th>...</th>\n",
       "      <th>snp</th>\n",
       "      <th>tofExpMom</th>\n",
       "      <th>hasCollision</th>\n",
       "      <th>tofChi2</th>\n",
       "      <th>tpcSignal</th>\n",
       "      <th>logp</th>\n",
       "      <th>dcaDefined</th>\n",
       "      <th>side</th>\n",
       "      <th>isPrim5</th>\n",
       "      <th>tpcNCR</th>\n",
       "    </tr>\n",
       "  </thead>\n",
       "  <tbody>\n",
       "    <tr>\n",
       "      <th>0</th>\n",
       "      <td>3.385787e-09</td>\n",
       "      <td>0</td>\n",
       "      <td>0</td>\n",
       "      <td>-996.0</td>\n",
       "      <td>0.000000</td>\n",
       "      <td>4.400771</td>\n",
       "      <td>1.945668</td>\n",
       "      <td>147.625</td>\n",
       "      <td>-999.0</td>\n",
       "      <td>2.000000</td>\n",
       "      <td>...</td>\n",
       "      <td>-1.449371e-08</td>\n",
       "      <td>37.210938</td>\n",
       "      <td>False</td>\n",
       "      <td>2.234375</td>\n",
       "      <td>81.513672</td>\n",
       "      <td>3.940402</td>\n",
       "      <td>True</td>\n",
       "      <td>False</td>\n",
       "      <td>False</td>\n",
       "      <td>153</td>\n",
       "    </tr>\n",
       "    <tr>\n",
       "      <th>1</th>\n",
       "      <td>8.404293e+00</td>\n",
       "      <td>0</td>\n",
       "      <td>0</td>\n",
       "      <td>-996.0</td>\n",
       "      <td>220.149902</td>\n",
       "      <td>2.119814</td>\n",
       "      <td>1.570788</td>\n",
       "      <td>-999.000</td>\n",
       "      <td>-999.0</td>\n",
       "      <td>1.040532</td>\n",
       "      <td>...</td>\n",
       "      <td>-3.071213e-01</td>\n",
       "      <td>-999.000000</td>\n",
       "      <td>False</td>\n",
       "      <td>-996.000000</td>\n",
       "      <td>8.329590</td>\n",
       "      <td>-3.347090</td>\n",
       "      <td>False</td>\n",
       "      <td>True</td>\n",
       "      <td>False</td>\n",
       "      <td>23</td>\n",
       "    </tr>\n",
       "    <tr>\n",
       "      <th>2</th>\n",
       "      <td>6.130786e+00</td>\n",
       "      <td>0</td>\n",
       "      <td>0</td>\n",
       "      <td>-996.0</td>\n",
       "      <td>203.799805</td>\n",
       "      <td>1.648837</td>\n",
       "      <td>1.571130</td>\n",
       "      <td>-999.000</td>\n",
       "      <td>-999.0</td>\n",
       "      <td>1.000000</td>\n",
       "      <td>...</td>\n",
       "      <td>-7.536774e-01</td>\n",
       "      <td>-999.000000</td>\n",
       "      <td>False</td>\n",
       "      <td>-996.000000</td>\n",
       "      <td>5.200928</td>\n",
       "      <td>-3.683199</td>\n",
       "      <td>False</td>\n",
       "      <td>False</td>\n",
       "      <td>False</td>\n",
       "      <td>33</td>\n",
       "    </tr>\n",
       "    <tr>\n",
       "      <th>3</th>\n",
       "      <td>7.149486e+00</td>\n",
       "      <td>0</td>\n",
       "      <td>0</td>\n",
       "      <td>-996.0</td>\n",
       "      <td>218.649902</td>\n",
       "      <td>1.964466</td>\n",
       "      <td>1.570799</td>\n",
       "      <td>-999.000</td>\n",
       "      <td>-999.0</td>\n",
       "      <td>1.000000</td>\n",
       "      <td>...</td>\n",
       "      <td>-1.993599e-01</td>\n",
       "      <td>-999.000000</td>\n",
       "      <td>False</td>\n",
       "      <td>-996.000000</td>\n",
       "      <td>7.131104</td>\n",
       "      <td>-3.521177</td>\n",
       "      <td>False</td>\n",
       "      <td>False</td>\n",
       "      <td>False</td>\n",
       "      <td>23</td>\n",
       "    </tr>\n",
       "    <tr>\n",
       "      <th>4</th>\n",
       "      <td>1.184776e+01</td>\n",
       "      <td>0</td>\n",
       "      <td>0</td>\n",
       "      <td>-996.0</td>\n",
       "      <td>0.000000</td>\n",
       "      <td>5.921306</td>\n",
       "      <td>1.448729</td>\n",
       "      <td>-999.000</td>\n",
       "      <td>-999.0</td>\n",
       "      <td>145.106712</td>\n",
       "      <td>...</td>\n",
       "      <td>7.450581e-09</td>\n",
       "      <td>-999.000000</td>\n",
       "      <td>False</td>\n",
       "      <td>-996.000000</td>\n",
       "      <td>372.898438</td>\n",
       "      <td>-1.042451</td>\n",
       "      <td>True</td>\n",
       "      <td>True</td>\n",
       "      <td>False</td>\n",
       "      <td>80</td>\n",
       "    </tr>\n",
       "  </tbody>\n",
       "</table>\n",
       "<p>5 rows × 49 columns</p>\n",
       "</div>"
      ],
      "text/plain": [
       "         weight  itsClusterMap  tpcNClsFindableMinusFound  trdChi2  \\\n",
       "0  3.385787e-09              0                          0   -996.0   \n",
       "1  8.404293e+00              0                          0   -996.0   \n",
       "2  6.130786e+00              0                          0   -996.0   \n",
       "3  7.149486e+00              0                          0   -996.0   \n",
       "4  1.184776e+01              0                          0   -996.0   \n",
       "\n",
       "         rMin  logtpcSignal     theta   length  trackEtaEmcal  weight_full  \\\n",
       "0    0.000000      4.400771  1.945668  147.625         -999.0     2.000000   \n",
       "1  220.149902      2.119814  1.570788 -999.000         -999.0     1.040532   \n",
       "2  203.799805      1.648837  1.571130 -999.000         -999.0     1.000000   \n",
       "3  218.649902      1.964466  1.570799 -999.000         -999.0     1.000000   \n",
       "4    0.000000      5.921306  1.448729 -999.000         -999.0   145.106712   \n",
       "\n",
       "   ...           snp   tofExpMom  hasCollision     tofChi2   tpcSignal  \\\n",
       "0  ... -1.449371e-08   37.210938         False    2.234375   81.513672   \n",
       "1  ... -3.071213e-01 -999.000000         False -996.000000    8.329590   \n",
       "2  ... -7.536774e-01 -999.000000         False -996.000000    5.200928   \n",
       "3  ... -1.993599e-01 -999.000000         False -996.000000    7.131104   \n",
       "4  ...  7.450581e-09 -999.000000         False -996.000000  372.898438   \n",
       "\n",
       "       logp  dcaDefined   side  isPrim5  tpcNCR  \n",
       "0  3.940402        True  False    False     153  \n",
       "1 -3.347090       False   True    False      23  \n",
       "2 -3.683199       False  False    False      33  \n",
       "3 -3.521177       False  False    False      23  \n",
       "4 -1.042451        True   True    False      80  \n",
       "\n",
       "[5 rows x 49 columns]"
      ]
     },
     "execution_count": 6,
     "metadata": {},
     "output_type": "execute_result"
    }
   ],
   "source": [
    "df=tree2Panda(tracks, [\".*\"], \"\", exclude=[\"trackPar\"])   \n",
    "df[\"dcaDefined\"]=df.eval(\"dcaXY!=0\")\n",
    "df[\"side\"]=df.eval(\"pzPt>0\") ##  (A/C/CrossAC/CrossCA side)\n",
    "df[\"isPrim5\"]=df.eval(\"abs(dcaXY)<5 &  abs(dcaZ)<5 & rMin<5\")\n",
    "df[\"tpcNCR\"]=df[\"tpcNClsFindable\"]-df[\"tpcNClsFindableMinusCrossedRows\"]\n",
    "df.head()"
   ]
  },
  {
   "cell_type": "markdown",
   "id": "25da660b",
   "metadata": {
    "slideshow": {
     "slide_type": "slide"
    }
   },
   "source": [
    "## Defining the dashboard\n",
    "To have a custom dashboard for visualizing the skimmed tracks data we need to first configure some things"
   ]
  },
  {
   "cell_type": "code",
   "execution_count": 7,
   "id": "5479adb6",
   "metadata": {
    "slideshow": {
     "slide_type": "-"
    }
   },
   "outputs": [],
   "source": [
    "parameterArray = [\n",
    "    # scatter\n",
    "    {\"name\": \"size\", \"value\":5, \"range\":[0, 20]},\n",
    "    # legend\n",
    "    {\"name\": \"legendFontSize\", \"value\":\"13px\", \"options\":[\"9px\", \"11px\", \"13px\", \"15px\"]},\n",
    "    {\"name\": \"legendVisible\", \"value\":True},\n",
    "    {\"name\": \"legendLocation\", \"value\":\"top_right\", \"options\":[\"top_right\",\"top_left\", \"bottom_right\",\"bottom_left\"]},\n",
    "    # axis transform\n",
    "    {\"name\": \"zAxisTrans\", \"value\":\"lin_z\", \"options\":[\"lin_z\", \"log_z\",\"sqrt_z\"]},\n",
    "    # skimming\n",
    "    {\"name\": \"weighting\", \"value\":\"weight_full\", \"options\":[\"weight_full\",\"weight1\", \"weight2\",\"weight3\"]},\n",
    "]"
   ]
  },
  {
   "cell_type": "code",
   "execution_count": 8,
   "id": "d0b71ce8",
   "metadata": {
    "slideshow": {
     "slide_type": "subslide"
    }
   },
   "outputs": [],
   "source": [
    "widgetParams=[\n",
    "      # Geometry\n",
    "      ['range', ['phi']],\n",
    "      ['range', ['eta']],\n",
    "      ['range', ['theta']],\n",
    "      ['range', ['tgl']],\n",
    "      ['multiSelect',[\"side\"]],\n",
    "      # Momenta\n",
    "      ['range', ['pt']],\n",
    "      ['range', ['qPt']],\n",
    "      ['range', ['pzPt']],\n",
    "      ['range', ['p']],\n",
    "      # vertex\n",
    "      ['range', ['dcaXY']],\n",
    "      ['range', ['dcaZ']],\n",
    "      ['range', ['rMin']],\n",
    "      ['multiSelect',[\"dcaDefined\"]],\n",
    "      ['multiSelect',[\"isPrim5\"]],\n",
    "      ['multiSelect',[\"hasCollision\"]],\n",
    "      # detectors\n",
    "      ['range', ['tpcNClsFindable']],\n",
    "      ['range', ['tpcSignal']],\n",
    "      ['multiSelect',[\"itsOn\"]],\n",
    "      ['multiSelect',[\"tofOn\"]],\n",
    "      # other\n",
    "      ['textQuery', {\"title\": \"user select\"}],\n",
    "      # skimming\n",
    "      ['multiSelect',[\"triggerMask\"]],\n",
    "      ['select',[\"weighting\"]],\n",
    "      # Graphics\n",
    "      ['select',[\"zAxisTrans\"], {\"callback\": \"parameter\", \"default\": 0, \"title\":\"z-Axis transformation\"}],\n",
    "      ['slider',[\"size\"], {\"callback\": \"parameter\", \"title\":\"Marker size\"}],\n",
    "      ['toggle',['legendVisible']],  \n",
    "      ['select',[\"legendFontSize\"], {\"callback\": \"parameter\", \"default\": 2, \"title\":\"Legend font size\"}],\n",
    "      ['select',[\"legendLocation\"], {\"callback\": \"parameter\", \"default\": 0}],\n",
    "]\n",
    "widgetLayoutDesc={\n",
    "    \"Geometry\": [[0,1,2,3],[4], {'sizing_mode': 'scale_width'}],\n",
    "    \"Momentum\": [[5,6],[7,8], {'sizing_mode': 'scale_width'}],\n",
    "    \"Vertex\": [[9,10,11],[12,13,14], {'sizing_mode': 'scale_width'}],\n",
    "    \"Detectors\": [[15,16],[17,18], {'sizing_mode': 'scale_width'}],\n",
    "    \"UserSelect\": [[19], {'sizing_mode': 'scale_width'}],\n",
    "    \"Skimming\": [[20,21], {'sizing_mode': 'scale_width'}],\n",
    "    \"Graphics\": [[22,23],[24,25,26], {'sizing_mode': 'scale_width'}],\n",
    "}"
   ]
  },
  {
   "cell_type": "markdown",
   "id": "198e88c6",
   "metadata": {
    "slideshow": {
     "slide_type": "subslide"
    }
   },
   "source": [
    "## Histogramming\n",
    "We can choose the histograms we want to be able to create figures with\n",
    "\n",
    "When cuts, selections, etc. are applied to the data these projections will be updated"
   ]
  },
  {
   "cell_type": "code",
   "execution_count": 9,
   "id": "8efd74ef",
   "metadata": {
    "slideshow": {
     "slide_type": "-"
    }
   },
   "outputs": [],
   "source": [
    "histoArray = []\n",
    "histoArrayTPCsignal=[\n",
    "    {\"name\": \"tpcSignalVslogp\", \"variables\": [\"logp\",\"tpcSignal\"], \"nbins\":[100,100], \"range\": [[math.log(0.05),math.log(20)],[0, 500]],\"weights\":\"weighting\"},\n",
    "    {\"name\": \"tpcSignalVsqPt\", \"variables\": [\"qPt\",\"tpcSignal\"], \"nbins\":[100,100], \"range\": [[-20,20],[0, 500]],\"weights\":\"weighting\"},\n",
    "    {\"name\": \"tpcSignalVsphi\", \"variables\": [\"phi\",\"tpcSignal\"], \"nbins\":[90,100], \"range\": [[0, 6.28],[0, 500]],\"weights\":\"weighting\"},\n",
    "    {\"name\": \"tpcSignalVstpcNClsFindable\", \"variables\": [\"tpcNClsFindable\",\"tpcSignal\"], \"nbins\":[85,100], \"range\": [[0, 170],[0, 500]],\"weights\":\"weighting\"},\n",
    "    {\"name\": \"tpcSignalVseta\", \"variables\": [\"eta\",\"tpcSignal\"], \"nbins\":[40,100], \"range\": [[-2, 2],[0, 500]],\"weights\":\"weighting\"},\n",
    "    {\"name\": \"tpcSignalVstgl\", \"variables\": [\"tgl\",\"tpcSignal\"], \"nbins\":[40,100], \"range\": [[-2, 2],[0, 500]],\"weights\":\"weighting\"}\n",
    "]\n",
    "histoArray.extend(histoArrayTPCsignal)\n",
    "\n",
    "histoArrayPt=[\n",
    "    {\"name\": \"ptVsphi\", \"variables\": [\"phi\",\"pt\"], \"nbins\":[90,100], \"range\": [[0, 6.28],[0,20]],\"weights\":\"weighting\"},\n",
    "    {\"name\": \"ptVstpcNClsFindable\", \"variables\": [\"tpcNClsFindable\",\"pt\"], \"nbins\":[80,100], \"range\": [[0,160],[0,20]],\"weights\":\"weighting\"},\n",
    "    {\"name\": \"ptVseta\", \"variables\": [\"eta\",\"pt\"], \"nbins\":[40,100], \"range\": [[-2, 2],[0, 20]],\"weights\":\"weighting\"},\n",
    "    {\"name\": \"ptVstgl\", \"variables\": [\"tgl\",\"pt\"], \"nbins\":[40,100], \"range\": [[-2, 2],[0, 20]],\"weights\":\"weighting\"}\n",
    "]\n",
    "histoArray.extend(histoArrayPt)\n",
    "\n",
    "histoArrayNCluster=[\n",
    "    {\"name\": \"tpcNClsFindable_Hist\", \"variables\": [\"tpcNClsFindable\"], \"nbins\":32, \"range\": [0,160],\"weights\":\"weighting\"},\n",
    "    {\"name\": \"tpcNClsFindableVsphi\", \"variables\": [\"phi\",\"tpcNClsFindable\"], \"nbins\":[90,100], \"range\": [[0, 6.28],[0,160]],\"weights\":\"weighting\"},\n",
    "    {\"name\": \"tpcNClsFindableVseta\", \"variables\": [\"eta\",\"tpcNClsFindable\"], \"nbins\":[40,100], \"range\": [[-2, 2],[0,160]],\"weights\":\"weighting\"},\n",
    "    {\"name\": \"tpcNClsFindableVstgl\", \"variables\": [\"tgl\",\"tpcNClsFindable\"], \"nbins\":[40,100], \"range\": [[-2, 2],[0,160]],\"weights\":\"weighting\"}\n",
    "]\n",
    "histoArray.extend(histoArrayNCluster)\n"
   ]
  },
  {
   "cell_type": "code",
   "execution_count": 10,
   "id": "11c26588",
   "metadata": {},
   "outputs": [],
   "source": [
    "aliasArray = []\n",
    "histoArrayLog=[]\n",
    "for his in histoArray:\n",
    "    histoName=his[\"name\"]\n",
    "    # z (color)\n",
    "    histoArrayLog.append({ \"name\": f\"lin_x\",\"variables\": [\"bin_center_0\"],\"func\": \"return Math.max(bin_center_0,0)\",\"context\": f\"{histoName}\"})\n",
    "    histoArrayLog.append({ \"name\": f\"log_x\",\"variables\": [\"bin_center_0\"],\"func\": \"return Math.log(Math.max(bin_center_0,1))\",\"context\": f\"{histoName}\"})\n",
    "    histoArrayLog.append({ \"name\": f\"sqrt_x\",\"variables\": [\"bin_center_0\"],\"func\": \"return Math.sqrt(Math.max(bin_center_0,0))\",\"context\": f\"{histoName}\"})\n",
    "    histoArrayLog.append({ \"name\": f\"lin_z\",\"variables\": [\"bin_count\"],\"func\": \"return Math.max(bin_count,0)\",\"context\": f\"{histoName}\"})\n",
    "    histoArrayLog.append({ \"name\": f\"log_z\",\"variables\": [\"bin_count\"],\"func\": \"return Math.log(Math.max(bin_count,1))\",\"context\": f\"{histoName}\"})\n",
    "    histoArrayLog.append({ \"name\": f\"sqrt_z\",\"variables\": [\"bin_count\"],\"func\": \"return Math.sqrt(Math.max(bin_count,0))\",\"context\": f\"{histoName}\"})\n",
    "aliasArray.extend(histoArrayLog)"
   ]
  },
  {
   "cell_type": "markdown",
   "id": "f96adf63",
   "metadata": {
    "slideshow": {
     "slide_type": "slide"
    }
   },
   "source": [
    "## Figures\n",
    "We define the figures and the layout in which they will be shown on the dashboard"
   ]
  },
  {
   "cell_type": "code",
   "execution_count": 11,
   "id": "388d329b",
   "metadata": {
    "slideshow": {
     "slide_type": "-"
    }
   },
   "outputs": [],
   "source": [
    "figureArray = [\n",
    "    # tpcSignal\n",
    "    [['bin_center_0'],['bin_center_1'],{\"source\":\"tpcSignalVslogp\",\"colorZvar\":\"zAxisTrans\",\"xAxisTitle\":\"log(p)\", \"yAxisTitle\":\"tpcSignal\"}],\n",
    "    [['bin_center_0'],['bin_center_1'],{\"source\":\"tpcSignalVsqPt\",\"colorZvar\":\"zAxisTrans\", \"xAxisTitle\":\"q/pT\", \"yAxisTitle\":\"tpcSignal\"}],\n",
    "    [['bin_center_0'],['bin_center_1'],{\"source\":\"tpcSignalVsphi\",\"colorZvar\":\"zAxisTrans\", \"xAxisTitle\":\"phi\", \"yAxisTitle\":\"tpcSignal\"}],\n",
    "    [['bin_center_0'],['bin_center_1'],{\"source\":\"tpcSignalVstpcNClsFindable\",\"colorZvar\":\"zAxisTrans\", \"xAxisTitle\":\"tpcNClsFindable\", \"yAxisTitle\":\"tpcSignal\"}],\n",
    "    [['bin_center_0'],['bin_center_1'],{\"source\":\"tpcSignalVseta\",\"colorZvar\":\"zAxisTrans\", \"xAxisTitle\":\"eta\", \"yAxisTitle\":\"tpcSignal\"}],\n",
    "    [['bin_center_0'],['bin_center_1'],{\"source\":\"tpcSignalVstgl\",\"colorZvar\":\"zAxisTrans\", \"xAxisTitle\":\"tan(lambda)\", \"yAxisTitle\":\"tpcSignal\"}],\n",
    "    # pT\n",
    "    [['bin_center_0'],['bin_center_1'],{\"source\":\"ptVsphi\",\"colorZvar\":\"zAxisTrans\", \"xAxisTitle\":\"phi\", \"yAxisTitle\":\"pt\"}],\n",
    "    [['bin_center_0'],['bin_center_1'],{\"source\":\"ptVstpcNClsFindable\",\"colorZvar\":\"zAxisTrans\", \"xAxisTitle\":\"tpcNClsFindable\", \"yAxisTitle\":\"pt\"}],\n",
    "    [['bin_center_0'],['bin_center_1'],{\"source\":\"ptVseta\",\"colorZvar\":\"zAxisTrans\", \"xAxisTitle\":\"eta\", \"yAxisTitle\":\"pt\"}],\n",
    "    [['bin_center_0'],['bin_center_1'],{\"source\":\"ptVstgl\",\"colorZvar\":\"zAxisTrans\", \"xAxisTitle\":\"tan(lambda)\", \"yAxisTitle\":\"pt\"}],\n",
    "    # nClustersFindable\n",
    "    [['tpcNClsFindable'],['tpcNClsFindable_Hist'],{\"xAxisTitle\":\"tpcNClsFindable\", \"yAxisTitle\":\"counts\",\"size\":\"size\",\"visualization_type\":\"bars\",\"color\":\"#AAAAAA\"}],\n",
    "    [['bin_center_0'],['bin_center_1'],{\"source\":\"tpcNClsFindableVsphi\",\"colorZvar\":\"zAxisTrans\", \"xAxisTitle\":\"phi\", \"yAxisTitle\":\"tpcNClsFindable\"}],\n",
    "    [['bin_center_0'],['bin_center_1'],{\"source\":\"tpcNClsFindableVseta\",\"colorZvar\":\"zAxisTrans\", \"xAxisTitle\":\"eta\", \"yAxisTitle\":\"tpcNClsFindable\"}],\n",
    "    [['bin_center_0'],['bin_center_1'],{\"source\":\"tpcNClsFindableVstgl\",\"colorZvar\":\"zAxisTrans\", \"xAxisTitle\":\"tan(lambda)\", \"yAxisTitle\":\"tpcNClsFindable\"}],\n",
    "    \n",
    "    {'plot_height':150, \"commonX\":0,\"palette\":kBird256,\"visualization_type\":\"heatmap\",\n",
    "     \"legend_options\": {\"label_text_font_size\": \"legendFontSize\", \"visible\": \"legendVisible\", \"location\":\"legendLocation\"}}\n",
    "]            "
   ]
  },
  {
   "cell_type": "code",
   "execution_count": 12,
   "id": "77507360",
   "metadata": {
    "slideshow": {
     "slide_type": "subslide"
    }
   },
   "outputs": [],
   "source": [
    "figureLayout = {\n",
    "    \"TPC Signal\": {\n",
    "        \"p & qPt\": [[0,1], {'plot_height':400,'sizing_mode':'scale_width',\"legend_visible\":True}],\n",
    "        \"phi & tpcNClsFindable\": [[2,3], {'plot_height':400,'sizing_mode':'scale_width',\"legend_visible\":True}],\n",
    "        \"eta & tan(lambda)\": [[4,5], {'plot_height':400,'sizing_mode':'scale_width',\"legend_visible\":True}]\n",
    "    },\n",
    "    \"pT\": {\n",
    "        \"phi & tpcNClsFindable\": [[6,7], {'plot_height':400,'sizing_mode':'scale_width',\"legend_visible\":True}],\n",
    "        \"eta & tan(lambda)\": [[8,9], {'plot_height':400,'sizing_mode':'scale_width',\"legend_visible\":True}]\n",
    "    },\n",
    "    \"nClustersFindable\": {\n",
    "        \"1D & phi\": [[10,11], {'plot_height':400,'sizing_mode':'scale_width',\"legend_visible\":True}],\n",
    "        \"eta & tan(lambda)\": [[12,13], {'plot_height':400,'sizing_mode':'scale_width',\"legend_visible\":True}]\n",
    "    }\n",
    "}"
   ]
  },
  {
   "cell_type": "code",
   "execution_count": 13,
   "id": "c4f29c6e",
   "metadata": {
    "scrolled": false,
    "slideshow": {
     "slide_type": "-"
    }
   },
   "outputs": [
    {
     "name": "stdout",
     "output_type": "stream",
     "text": [
      "compressCDSPipe\n",
      "Compress 1 logp .* [('relative', 8), ('code', 0), ('zip', 0), ('base64', 0)]\n",
      "Compress factor 287104 2697177 0.10644611013663545 1 logp\n",
      "Compress 2 weight2 .* [('relative', 8), ('code', 0), ('zip', 0), ('base64', 0)]\n",
      "Compress factor 213080 2697180 0.07900103070614493 2 weight2\n",
      "Compress 3 weight_full .* [('relative', 8), ('code', 0), ('zip', 0), ('base64', 0)]\n",
      "Compress factor 243800 2697184 0.09039057031333421 3 weight_full\n",
      "Compress 4 weight3 .* [('relative', 8), ('code', 0), ('zip', 0), ('base64', 0)]\n",
      "Compress factor 31980 2697180 0.011856828242831402 4 weight3\n",
      "Compress 5 weight1 .* [('relative', 8), ('code', 0), ('zip', 0), ('base64', 0)]\n",
      "Compress factor 81852 2697180 0.030347251573866037 5 weight1\n",
      "Compress 6 tpcSignal .* [('relative', 8), ('code', 0), ('zip', 0), ('base64', 0)]\n",
      "Compress factor 239108 2247766 0.10637584161340638 6 tpcSignal\n",
      "Compress 7 qPt .* [('relative', 8), ('code', 0), ('zip', 0), ('base64', 0)]\n",
      "Compress factor 310040 2697176 0.11494985866699095 7 qPt\n",
      "Compress 8 phi .* [('relative', 8), ('code', 0), ('zip', 0), ('base64', 0)]\n",
      "Compress factor 249276 2247760 0.11089974018578495 8 phi\n",
      "Compress 9 tpcNClsFindable .* [('relative', 8), ('code', 0), ('zip', 0), ('base64', 0)]\n",
      "Compress factor 162294 2023064 0.08022188126524915 9 tpcNClsFindable\n",
      "Compress 10 eta .* [('relative', 8), ('code', 0), ('zip', 0), ('base64', 0)]\n",
      "Compress factor 306896 2697176 0.11378419502472216 10 eta\n",
      "Compress 11 tgl .* [('relative', 8), ('code', 0), ('zip', 0), ('base64', 0)]\n",
      "Compress factor 312104 2697176 0.11571510350084681 11 tgl\n",
      "Compress 12 pt .* [('relative', 8), ('code', 0), ('zip', 0), ('base64', 0)]\n",
      "Compress factor 267364 2247759 0.11894691557235451 12 pt\n",
      "Compress 13 theta .* [('relative', 8), ('code', 0), ('zip', 0), ('base64', 0)]\n",
      "Compress factor 243428 2697178 0.09025284945969454 13 theta\n",
      "Compress 14 side.factor() .* [('relative', 8), ('code', 0), ('zip', 0), ('base64', 0)]\n",
      "Compress factor 33846 449578 0.0752839329326613 14 side.factor()\n",
      "Compress 15 pzPt .* [('relative', 8), ('code', 0), ('zip', 0), ('base64', 0)]\n",
      "Compress factor 312104 2697177 0.11571506059854433 15 pzPt\n",
      "Compress 16 p .* [('relative', 8), ('code', 0), ('zip', 0), ('base64', 0)]\n",
      "Compress factor 288440 2697174 0.1069415617976445 16 p\n",
      "Compress 17 dcaXY .* [('relative', 8), ('code', 0), ('zip', 0), ('base64', 0)]\n",
      "Compress factor 298824 2247762 0.1329429005384022 17 dcaXY\n",
      "Compress 18 dcaZ .* [('relative', 8), ('code', 0), ('zip', 0), ('base64', 0)]\n",
      "Compress factor 309064 2247761 0.1374986041665462 18 dcaZ\n",
      "Compress 19 rMin .* [('relative', 8), ('code', 0), ('zip', 0), ('base64', 0)]\n",
      "Compress factor 275148 2697177 0.10201332726773216 19 rMin\n",
      "Compress 20 dcaDefined.factor() .* [('relative', 8), ('code', 0), ('zip', 0), ('base64', 0)]\n",
      "Compress factor 16154 449578 0.035931473515163105 20 dcaDefined.factor()\n",
      "Compress 21 isPrim5.factor() .* [('relative', 8), ('code', 0), ('zip', 0), ('base64', 0)]\n",
      "Compress factor 32322 449578 0.07189408734413161 21 isPrim5.factor()\n",
      "Compress 22 hasCollision.factor() .* [('relative', 8), ('code', 0), ('zip', 0), ('base64', 0)]\n",
      "Compress factor 24722 449578 0.0549893455640623 22 hasCollision.factor()\n",
      "Compress 23 itsOn.factor() .* [('relative', 8), ('code', 0), ('zip', 0), ('base64', 0)]\n",
      "Compress factor 25250 449578 0.056163780256151326 23 itsOn.factor()\n",
      "Compress 24 tofOn.factor() .* [('relative', 8), ('code', 0), ('zip', 0), ('base64', 0)]\n",
      "Compress factor 20718 449578 0.04608321581572052 24 tofOn.factor()\n",
      "Compress 25 triggerMask.factor() .* [('relative', 8), ('code', 0), ('zip', 0), ('base64', 0)]\n",
      "Compress factor 60194 449578 0.13389000351440683 25 triggerMask.factor()\n",
      "Compress _all 4645112 48775053 0.09523540650996319 25\n"
     ]
    }
   ],
   "source": [
    "tooltips=[]\n",
    "output_file(\"qc_dashboard.html\")\n",
    "xxx = bokehDrawSA.fromArray(df, \"pt<20&abs(qPt)<20&abs(pzPt)<2\", figureArray, widgetParams, layout=figureLayout, tooltips=tooltips, widgetLayout=widgetLayoutDesc,\n",
    "                            parameterArray=parameterArray, histogramArray=histoArray,aliasArray=aliasArray,sizing_mode='scale_width',\n",
    "                            arrayCompression=arrayCompressionRelative8)"
   ]
  },
  {
   "cell_type": "code",
   "execution_count": null,
   "id": "e774cf35",
   "metadata": {},
   "outputs": [],
   "source": []
  },
  {
   "cell_type": "code",
   "execution_count": null,
   "id": "b353a556",
   "metadata": {},
   "outputs": [],
   "source": []
  },
  {
   "cell_type": "code",
   "execution_count": null,
   "id": "646dbdc1",
   "metadata": {},
   "outputs": [],
   "source": []
  }
 ],
 "metadata": {
  "kernelspec": {
   "display_name": "Python 3 (ipykernel)",
   "language": "python",
   "name": "python3"
  },
  "language_info": {
   "codemirror_mode": {
    "name": "ipython",
    "version": 3
   },
   "file_extension": ".py",
   "mimetype": "text/x-python",
   "name": "python",
   "nbconvert_exporter": "python",
   "pygments_lexer": "ipython3",
   "version": "3.9.12"
  },
  "rise": {
   "scroll": true
  }
 },
 "nbformat": 4,
 "nbformat_minor": 5
}
