{
 "cells": [
  {
   "cell_type": "code",
   "execution_count": null,
   "id": "feb71a3d",
   "metadata": {},
   "outputs": [],
   "source": [
    "from IPython.display import display, Markdown, HTML\n",
    "display(HTML(\"<style>.container { width:95% !important; }</style>\"))"
   ]
  },
  {
   "cell_type": "code",
   "execution_count": null,
   "id": "193bdd2f",
   "metadata": {},
   "outputs": [],
   "source": [
    "import math\n",
    "import ROOT\n",
    "import numpy as np, pandas as pd\n",
    "import yaml\n",
    "import base64\n",
    "import ctypes\n",
    "import logging\n",
    "import bokeh\n",
    "import sys\n",
    "from bokeh.io import output_notebook, show\n",
    "from bokeh.plotting import output_file\n",
    "from RootInteractive.InteractiveDrawing.bokeh.bokehDrawSA import *\n",
    "from RootInteractive.InteractiveDrawing.bokeh.bokehTools import bokehDrawArray\n",
    "from RootInteractive.Tools.pandaTools import initMetadata\n",
    "from RootInteractive.Tools.aliTreePlayer import *\n",
    "from RootInteractive.Tools.compressArray import arrayCompressionRelative8\n",
    "\n",
    "output_notebook()"
   ]
  },
  {
   "cell_type": "code",
   "execution_count": null,
   "id": "7a291c5f",
   "metadata": {},
   "outputs": [],
   "source": [
    "inputFile=\"/home/berki/Software/TPCQCVis/AO2D_Downsample.root\""
   ]
  },
  {
   "cell_type": "code",
   "execution_count": null,
   "id": "224f6b28",
   "metadata": {},
   "outputs": [],
   "source": [
    "f=ROOT.TFile.Open(inputFile)\n",
    "sampled = f.Get(\"sampled;1\")\n",
    "sampled.GetListOfBranches().ls()"
   ]
  },
  {
   "cell_type": "code",
   "execution_count": null,
   "id": "421df4e5",
   "metadata": {},
   "outputs": [],
   "source": [
    "sampled.SetAlias(\"qPt\",\"tracks.getQ2Pt()\")\n",
    "sampled.SetAlias(\"phi\",\"tracks.getPhi()\")\n",
    "sampled.SetAlias(\"eta\",\"tracks.getEta()\")\n",
    "sampled.SetAlias(\"tgl\",\"tracks.getTgl()\")\n",
    "sampled.SetAlias(\"charge\",\"tracks.getCharge()\")\n",
    "sampled.SetAlias(\"pzPt\",\"tracks.mP[3]\")"
   ]
  },
  {
   "cell_type": "code",
   "execution_count": null,
   "id": "6fbd45a9",
   "metadata": {},
   "outputs": [],
   "source": [
    "df=tree2Panda(sampled, [\".*\"], \"\", exclude=[\"mC[15]\"])"
   ]
  },
  {
   "cell_type": "code",
   "execution_count": null,
   "id": "68f54172",
   "metadata": {},
   "outputs": [],
   "source": [
    "df = df.rename(columns={column : column.replace(\"tracksExtra_tracksExtra_\",\"\").replace(\"collisions_collisions_\",\"\").replace(\"tracks_tracks_\",\"\") for column in df.columns})"
   ]
  },
  {
   "cell_type": "code",
   "execution_count": null,
   "id": "8b5c608c",
   "metadata": {},
   "outputs": [],
   "source": [
    "list(df.mX)"
   ]
  },
  {
   "cell_type": "code",
   "execution_count": null,
   "id": "d445a05d",
   "metadata": {},
   "outputs": [],
   "source": [
    "variables = list(df.columns)\n",
    "[variables.remove(var) for var in variables if \"[\" in var]\n",
    "\n",
    "'''\n",
    "for var in variables:\n",
    "    print(var)\n",
    "    if \"[\" in var:\n",
    "        variables.remove(var)\n",
    "'''     \n",
    "\n",
    "#variables.remove(\"mC[15]\")        \n",
    "variables.remove(\"fTOFExpMom\") # inf in the list\n",
    "variables.sort()\n",
    "print(variables)"
   ]
  },
  {
   "cell_type": "code",
   "execution_count": null,
   "id": "763c5718",
   "metadata": {},
   "outputs": [],
   "source": [
    "parameterArray = [\n",
    "    {\"name\": \"size\", \"value\":7, \"range\":[0, 30]},\n",
    "    {\"name\": \"legendFontSize\", \"value\":\"13px\", \"options\":[\"9px\", \"11px\", \"13px\", \"15px\"]},\n",
    "    {\"name\": \"legendVisible\", \"value\":False},\n",
    "    {\"name\": \"nPointRender\", \"range\":[0, 5000], \"value\": 1000},\n",
    "    {\"name\": \"transformZ\", \"value\": \"bin_count\", \"options\": [\"bin_count\",\"log_bin_count\"]},\n",
    "    {\"name\": \"varX\", \"value\": variables[0], \"options\": variables},\n",
    "    {\"name\": \"varY\", \"value\": variables[0], \"options\": variables},\n",
    "    {\"name\": \"varZ\", \"value\": variables[0], \"options\": variables},\n",
    "    {\"name\": \"nBinsX\", \"range\":[0, 200], \"value\": 50},\n",
    "    {\"name\": \"nBinsY\", \"range\":[0, 200], \"value\": 50},\n",
    "    {\"name\": \"nBinsZ\", \"range\":[0, 200], \"value\": 50},\n",
    "    #TO DO:{\"name\": \"rangeX\", \"value\": [min(list(df.\"varX\")), max(list(df.\"varX\"))], \"range\": [min(list(df.\"varX\")), max(list(df.\"varX\"))]},\n",
    "    {\"name\": \"rangeX\", \"value\": [0, 1], \"range\": [0, 1]},\n",
    "    {\"name\": \"rangeY\", \"value\": [0, 1], \"range\": [0, 1]},\n",
    "    {\"name\": \"rangeZ\", \"value\": [0, 1], \"range\": [0, 1]}\n",
    "]\n",
    "widgetParams=[\n",
    "      ['select', ['varX'], {\"name\":\"varX\"}],\n",
    "      ['select', ['varY'], {\"name\":\"varY\"}],\n",
    "      ['select', ['varZ'], {\"name\":\"varZ\"}],\n",
    "      ['select', ['transformZ'], {\"name\":\"transformZ\"}],\n",
    "      ['spinner',['nBinsX'], {\"name\":\"nBinsX\"}],\n",
    "      ['spinner',['nBinsY'], {\"name\":\"nBinsY\"}],\n",
    "      ['spinner',['nBinsZ'], {\"name\":\"nBinsZ\"}],\n",
    "      ['range',['rangeX'], {\"name\":\"rangeX\"}],\n",
    "      ['range',['rangeY'], {\"name\":\"rangeY\"}],\n",
    "      ['range',['rangeZ'], {\"name\":\"rangeZ\"}],\n",
    "      ['toggle',['legendVisible'], {\"name\":\"legendVisible\"}],\n",
    "      ['slider',['size'], {\"name\":\"size\"}],\n",
    "      ['textQuery', {\"title\": \"Selection\", \"name\":\"selectionText\"}], \n",
    "]\n",
    "\n",
    "#widgetParamsSelect = [[\"range\",[var], {\"name\":var}] for var in variables]\n",
    "#widgetParams.extend(widgetParamsSelect)\n",
    "\n",
    "widgetLayoutDesc={\n",
    "    \"Histogram:\": [[\"varX\",\"varY\",\"varZ\",\"transformZ\"],[\"nBinsX\",\"nBinsY\",\"nBinsZ\"],['rangeX','rangeY','rangeZ']],\n",
    "    \"Visual:\": [[\"legendVisible\",\"size\"]],\n",
    "    \"Selection:\":[[\"selectionText\"]]\n",
    "    #\"Selection:\": [variables[x:x+5] for x in range(0, len(variables), 5)],\n",
    "}\n",
    "\n"
   ]
  },
  {
   "cell_type": "code",
   "execution_count": null,
   "id": "0dfec43a",
   "metadata": {},
   "outputs": [],
   "source": [
    "histoArray = [\n",
    "    {\"name\": \"Hist1D\", \"variables\": [\"varX\"],\"nbins\":\"nBinsX\"},\n",
    "    {\"name\": \"Hist2D\", \"variables\": [\"varX\",\"varY\"], \"nbins\":[\"nBinsX\",\"nBinsY\"]},\n",
    "    {\"name\": \"Hist3D\", \"variables\": [\"varX\",\"varY\",\"varZ\"], \"nbins\":[\"nBinsX\",\"nBinsY\",\"nBinsZ\"], \"axis\":[2]\n",
    "     #\"quantiles\": [.1, .5, .9], \"sum_range\": [[.25, .75]]\n",
    "    }\n",
    "]\n",
    "\n",
    "tooltips = []\n",
    "aliasArray= [\n",
    "    { \"name\": \"log_bin_count\",\"variables\": [\"bin_count\"],\"func\": \"return Math.log(Math.max(1,bin_count))\",\"context\": \"Hist2D\"},\n",
    "    { \"name\": \"log_bin_count\",\"variables\": [\"bin_count\"],\"func\": \"return Math.log(Math.max(1,bin_count))\",\"context\": \"Hist3D\"}\n",
    "   #{ \"name\": \"log_bin_count\",\"variables\": [\"bin_count\"],\"func\": \"return Math.log(bin_count)\",\"context\": \"Hist2D\"}\n",
    "]\n",
    "\n",
    "figureArray = [\n",
    "    [['bin_center'], ['bin_count'], {\"source\":\"Hist1D\"}],\n",
    "    [[('bin_bottom_0','bin_top_0')], [('bin_bottom_1','bin_top_1')], {\"source\":\"Hist2D\", \"colorZvar\":\"transformZ\"}],\n",
    "    [[('bin_bottom_0','bin_top_0')], [('bin_bottom_1','bin_top_1')], {\"source\":\"Hist3D_2\", \"colorZvar\":\"mean\"}],\n",
    "    #[['bin_center_1'], ['mean'], {\"source\": \"Hist3D_0\", \"colorZvar\": \"bin_center_2\", \"size\": 7}],\n",
    "    #{\"name\": \"projection3D\", \"axis_idx\":2, \"source\": \"histo3D\", \"unbinned\":True, \"type\":\"projection\", \"quantiles\": [.05, .5, .95]},\n",
    "    #[[['bin_center_1'], ['mean']], [['bin_center_1'], ['sum_0']], [['bin_center_1'], ['std']], {\"source\":\"Hist3D\", \"colorZvar\":\"bin_center_2\"}],\n",
    "    {\"legend_options\": {\"visible\":\"legendVisible\"}}\n",
    "]\n",
    "\n",
    "''' 3DHisto from docs:\n",
    "figureArray = [\n",
    "        [['bin_center_1'], ['mean']],\n",
    "        [['bin_center_1'], ['sum_0']],\n",
    "        [['bin_center_1'], ['std']],\n",
    "        {\"source\": \"histoABC_0\", \"colorZvar\": \"bin_center_2\", \"size\": 7}\n",
    "    ]\n",
    "'''\n",
    "\n",
    "figureLayout = {\n",
    "    \"Histograms\": [[0,1,2], {'plot_height':400,'sizing_mode':'scale_width'}],\n",
    "}\n",
    "\n",
    "output_file(\"testDashboard.html\")\n",
    "xxx = bokehDrawSA.fromArray(df, \"indices>0\", figureArray, widgetParams, layout=figureLayout, widgetLayout=widgetLayoutDesc,\n",
    "                            histogramArray=histoArray,sizing_mode='scale_width',parameterArray=parameterArray,aliasArray=aliasArray,\n",
    "                            arrayCompression=arrayCompressionRelative8)"
   ]
  },
  {
   "cell_type": "code",
   "execution_count": null,
   "id": "7110ca53",
   "metadata": {},
   "outputs": [],
   "source": []
  },
  {
   "cell_type": "code",
   "execution_count": null,
   "id": "59c8fab5",
   "metadata": {},
   "outputs": [],
   "source": []
  }
 ],
 "metadata": {
  "kernelspec": {
   "display_name": "Python 3 (ipykernel)",
   "language": "python",
   "name": "python3"
  },
  "language_info": {
   "codemirror_mode": {
    "name": "ipython",
    "version": 3
   },
   "file_extension": ".py",
   "mimetype": "text/x-python",
   "name": "python",
   "nbconvert_exporter": "python",
   "pygments_lexer": "ipython3",
   "version": "3.9.16"
  },
  "toc": {
   "base_numbering": 1,
   "nav_menu": {},
   "number_sections": false,
   "sideBar": true,
   "skip_h1_title": true,
   "title_cell": "Table of Contents",
   "title_sidebar": "Contents",
   "toc_cell": false,
   "toc_position": {
    "height": "calc(100% - 180px)",
    "left": "10px",
    "top": "150px",
    "width": "165px"
   },
   "toc_section_display": true,
   "toc_window_display": true
  }
 },
 "nbformat": 4,
 "nbformat_minor": 5
}
