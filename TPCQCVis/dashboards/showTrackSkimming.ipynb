{
 "cells": [
  {
   "cell_type": "code",
   "execution_count": null,
   "id": "a043bd09",
   "metadata": {
    "slideshow": {
     "slide_type": "notes"
    }
   },
   "outputs": [],
   "source": [
    "from IPython.display import display, Markdown, HTML\n",
    "display(HTML(\"<style>.container { width:95% !important; }</style>\"))"
   ]
  },
  {
   "cell_type": "code",
   "execution_count": null,
   "id": "97a3378b",
   "metadata": {
    "slideshow": {
     "slide_type": "notes"
    }
   },
   "outputs": [],
   "source": [
    "import math\n",
    "import ROOT\n",
    "import numpy as np, pandas as pd\n",
    "import yaml\n",
    "import base64\n",
    "import ctypes\n",
    "import logging\n",
    "import bokeh\n",
    "from bokeh.io import output_notebook, show\n",
    "from bokeh.plotting import output_file\n",
    "from RootInteractive.InteractiveDrawing.bokeh.bokehDrawSA import *\n",
    "from RootInteractive.InteractiveDrawing.bokeh.bokehTools import bokehDrawArray\n",
    "from RootInteractive.Tools.pandaTools import initMetadata\n",
    "from RootInteractive.Tools.aliTreePlayer import *\n",
    "from RootInteractive.Tools.compressArray import arrayCompressionRelative8\n",
    "\n",
    "output_notebook()"
   ]
  },
  {
   "cell_type": "code",
   "execution_count": null,
   "id": "d1bdcb35",
   "metadata": {
    "slideshow": {
     "slide_type": "-"
    }
   },
   "outputs": [],
   "source": [
    "#inputFile=\"/lustre/alice/users/miranov/NOTESData/alice-tpc-notes/JIRA/ATO-592/tpcqcskimmingTracks.root\"\n",
    "inputFile=\"~/Software/TPCQCVis/data/tpcqcskimmingTracks.root\""
   ]
  },
  {
   "cell_type": "code",
   "execution_count": null,
   "id": "66aa0d8a",
   "metadata": {
    "slideshow": {
     "slide_type": "-"
    }
   },
   "outputs": [],
   "source": [
    "f=ROOT.TFile.Open(inputFile)\n",
    "tracks = f.Get(\"tracks;2\")  \n",
    "tracks.SetAlias(\"weight1\",\"((triggerMask&0x1)>0)*max(weight,0.01)\")\n",
    "tracks.SetAlias(\"weight2\",\"((triggerMask&0x2)>0)*max(weight*pt*pt,0.01)\")\n",
    "tracks.SetAlias(\"rMin\",\"trackPar.mX\")\n",
    "tracks.SetAlias(\"qPt\",\"trackPar.mP[4]\")\n",
    "tracks.SetAlias(\"pzPt\",\"trackPar.mP[3]\")\n",
    "tracks.SetAlias(\"itsOn\",\"itsClusterMap>0\")\n",
    "tracks.SetAlias(\"tofOn\",\"abs(tofChi2)<100\")\n",
    "tracks.SetAlias(\"p\",\"pt*sqrt(1+trackPar.mP[3])\")\n",
    "tracks.SetAlias(\"logp\",\"log(p)\")\n",
    "tracks.SetAlias(\"logtpcSignal\",\"log(tpcSignal)\")"
   ]
  },
  {
   "cell_type": "code",
   "execution_count": null,
   "id": "5260a5c3",
   "metadata": {
    "slideshow": {
     "slide_type": "-"
    }
   },
   "outputs": [],
   "source": [
    "df=tree2Panda(tracks, [\".*\"], \"\", exclude=[\"trackPar\"])   \n",
    "df[\"dcaDefined\"]=df.eval(\"dcaXY!=0\")\n",
    "df[\"side\"]=df.eval(\"pzPt>0\") ##  (A/C/CrossAC/CrossCA side)\n",
    "df[\"isPrim5\"]=df.eval(\"abs(dcaXY)<5 &  abs(dcaZ)<5 & rMin<5\")\n",
    "df[\"tpcNCR\"]=df[\"tpcNClsFindable\"]-df[\"tpcNClsFindableMinusCrossedRows\"]"
   ]
  },
  {
   "cell_type": "code",
   "execution_count": null,
   "id": "228ebef7",
   "metadata": {},
   "outputs": [],
   "source": [
    "print(df.columns)"
   ]
  },
  {
   "cell_type": "code",
   "execution_count": null,
   "id": "e00fae0a",
   "metadata": {
    "slideshow": {
     "slide_type": "-"
    }
   },
   "outputs": [],
   "source": [
    "aliasArray = []"
   ]
  },
  {
   "cell_type": "code",
   "execution_count": null,
   "id": "5479adb6",
   "metadata": {
    "slideshow": {
     "slide_type": "-"
    }
   },
   "outputs": [],
   "source": [
    "parameterArray = [\n",
    "    {\"name\": \"size\", \"value\":5, \"range\":[0, 20]},\n",
    "    {\"name\": \"legendFontSize\", \"value\":\"13px\", \"options\":[\"9px\", \"11px\", \"13px\", \"15px\"]},\n",
    "    {\"name\": \"binCountTrans\", \"value\":\"bin_count\", \"options\":[\"bin_count\", \"logbin_count\",\"sqrtbin_count\"]},\n",
    "    {\"name\": \"legendVisible\", \"value\":True},\n",
    "    {\"name\": \"legendLocation\", \"value\":\"top_right\", \"options\":[\"top_right\",\"top_left\", \"bottom_right\",\"bottom_left\"]},\n",
    "]"
   ]
  },
  {
   "cell_type": "code",
   "execution_count": null,
   "id": "d0b71ce8",
   "metadata": {
    "slideshow": {
     "slide_type": "subslide"
    }
   },
   "outputs": [],
   "source": [
    "widgetParams=[\n",
    "      ['range', ['pt']],\n",
    "      ['range', ['qPt']],\n",
    "      ['range', ['weight']],\n",
    "      ['range', ['weight1']],\n",
    "      ['range', ['weight2']],\n",
    "      ['multiSelect',[\"triggerMask\"]],\n",
    "      ['textQuery', {\"title\": \"user select\"}],\n",
    "      # Graphics\n",
    "      ['slider',[\"size\"], {\"callback\": \"parameter\", \"title\":\"Marker size\"}],\n",
    "      ['select',[\"binCountTrans\"], {\"callback\": \"parameter\", \"default\": 0, \"title\":\"Bin count transformation\"}],\n",
    "      ['toggle',['legendVisible']],  \n",
    "      ['select',[\"legendFontSize\"], {\"callback\": \"parameter\", \"default\": 2, \"title\":\"Legend font size\"}],\n",
    "      ['select',[\"legendLocation\"], {\"callback\": \"parameter\", \"default\": 0}]\n",
    "]\n",
    "widgetLayoutDesc={\n",
    "    \"Selection:\": [[0,1],[2,3,4],[5,6], {'sizing_mode': 'scale_width'}],\n",
    "    \"Graphics\": [[7,8,9,10], {'sizing_mode': 'scale_width'}]\n",
    "}"
   ]
  },
  {
   "cell_type": "code",
   "execution_count": null,
   "id": "8efd74ef",
   "metadata": {
    "slideshow": {
     "slide_type": "-"
    }
   },
   "outputs": [],
   "source": [
    "histoArray = [\n",
    "    {\"name\": \"pthist\", \"variables\": [\"pt\"], \"nbins\":100},\n",
    "    {\"name\": \"qPthist\", \"variables\": [\"qPt\"], \"nbins\":100},\n",
    "    {\"name\": \"weighthist\", \"variables\": [\"weight\"], \"nbins\":500},\n",
    "    {\"name\": \"weight1hist\", \"variables\": [\"weight1\"], \"nbins\":500},\n",
    "    {\"name\": \"weight2hist\", \"variables\": [\"weight2\"], \"nbins\":500},\n",
    "    {\"name\": \"weightVsPt\", \"variables\": [\"pt\",\"weight\"], \"nbins\":[100,100]},\n",
    "    {\"name\": \"weight1VsPt\", \"variables\": [\"pt\",\"weight1\"], \"nbins\":[100,100]},\n",
    "    {\"name\": \"weight2VsPt\", \"variables\": [\"pt\",\"weight2\"], \"nbins\":[100,100]},\n",
    "    {\"name\": \"weight2VsqPt\", \"variables\": [\"qPt\",\"weight2\"], \"nbins\":[100,100]}\n",
    "]"
   ]
  },
  {
   "cell_type": "code",
   "execution_count": null,
   "id": "62c76b9a",
   "metadata": {
    "slideshow": {
     "slide_type": "-"
    }
   },
   "outputs": [],
   "source": [
    "histoArrayLog=[]\n",
    "for his in histoArray:\n",
    "    histoName=his[\"name\"]    \n",
    "    histoArrayLog.append({ \"name\": f\"log{histoName}\",\"variables\": [\"bin_count\"],\"func\": \"return Math.log(bin_count+0.2)\",\"context\": f\"{histoName}\"})\n",
    "    histoArrayLog.append({ \"name\": f\"log{histoName}Err\",\"variables\": [\"bin_count\"],\"func\": \"return 1/Math.sqrt(bin_count+0.2)\",\"context\": f\"{histoName}\"})               \n",
    "    histoArrayLog.append({ \"name\": f\"{histoName}Err\",\"variables\": [\"entries\",\"std\"],\"func\": \"return std/Math.sqrt(entries+0.1)\",\"context\": f\"{histoName}_1\"})\n",
    "    #\n",
    "    histoArrayLog.append({ \"name\": f\"logbin_count\",\"variables\": [\"bin_count\"],\"func\": \"return Math.log(bin_count+0.2)\",\"context\": f\"{histoName}\"})\n",
    "    histoArrayLog.append({ \"name\": f\"sqrtbin_count\",\"variables\": [\"bin_count\"],\"func\": \"return Math.sqrt(bin_count+0.2)\",\"context\": f\"{histoName}\"})\n",
    "aliasArray.extend(histoArrayLog)"
   ]
  },
  {
   "cell_type": "code",
   "execution_count": null,
   "id": "187083bc",
   "metadata": {
    "slideshow": {
     "slide_type": "-"
    }
   },
   "outputs": [],
   "source": [
    "tooltips = []"
   ]
  },
  {
   "cell_type": "code",
   "execution_count": null,
   "id": "388d329b",
   "metadata": {
    "slideshow": {
     "slide_type": "-"
    }
   },
   "outputs": [],
   "source": [
    "figureArray = [\n",
    "    [['bin_center'],['binCountTrans'],{'source':\"pthist\",'size': 5,\"xAxisTitle\":\"pT\",\"yAxisTitle\":\"counts\"}],\n",
    "    [['bin_center'],['binCountTrans'],{'source':\"qPthist\",'size': 5,\"xAxisTitle\":\"qPt\",\"yAxisTitle\":\"counts\"}],\n",
    "    [['bin_center'],['binCountTrans'],{'source':\"weighthist\",'size': 5,\"xAxisTitle\":\"weight\",\"yAxisTitle\":\"counts\"}],\n",
    "    [['bin_center'],['binCountTrans'],{'source':\"weight1hist\",'size': 5,\"xAxisTitle\":\"weight1\",\"yAxisTitle\":\"counts\"}],\n",
    "    [['bin_center'],['binCountTrans'],{'source':\"weight2hist\",'size': 5,\"xAxisTitle\":\"weight2\",\"yAxisTitle\":\"counts\"}],\n",
    "    [['pt'],['weightVsPt'],{\"xAxisTitle\":\"pT\",\"yAxisTitle\":\"weight\"}],\n",
    "    [['pt'],['weight2VsPt'],{\"xAxisTitle\":\"pT\",\"yAxisTitle\":\"weight2\"}],\n",
    "    [['qPt'],['weight2VsqPt'],{\"xAxisTitle\":\"pT\",\"yAxisTitle\":\"weight2\"}],\n",
    "    {'plot_height':200, \"commonX\":0, \"size\":\"size\",\n",
    "     \"legend_options\": {\"label_text_font_size\": \"legendFontSize\", \"visible\": \"legendVisible\", \"location\":\"legendLocation\"}}\n",
    "]            "
   ]
  },
  {
   "cell_type": "code",
   "execution_count": null,
   "id": "77507360",
   "metadata": {
    "slideshow": {
     "slide_type": "subslide"
    }
   },
   "outputs": [],
   "source": [
    "figureLayout = [\n",
    "    [[0,1],[2,3,4],[5,6,7], {'plot_height':300,'sizing_mode':'scale_width',\"legend_visible\":True}]\n",
    "]"
   ]
  },
  {
   "cell_type": "code",
   "execution_count": null,
   "id": "c4f29c6e",
   "metadata": {
    "slideshow": {
     "slide_type": "-"
    }
   },
   "outputs": [],
   "source": [
    "output_file(\"track_skimming.html\")\n",
    "xxx = bokehDrawSA.fromArray(df, \"pt<20&abs(qPt)<20&abs(pzPt)<2\", figureArray, widgetParams, layout=figureLayout, tooltips=tooltips, widgetLayout=widgetLayoutDesc,\n",
    "                            parameterArray=parameterArray, histogramArray=histoArray,aliasArray=aliasArray,sizing_mode='scale_width',\n",
    "                            arrayCompression=arrayCompressionRelative8)"
   ]
  }
 ],
 "metadata": {
  "celltoolbar": "Slideshow",
  "kernelspec": {
   "display_name": "Python 3 (ipykernel)",
   "language": "python",
   "name": "python3"
  },
  "language_info": {
   "codemirror_mode": {
    "name": "ipython",
    "version": 3
   },
   "file_extension": ".py",
   "mimetype": "text/x-python",
   "name": "python",
   "nbconvert_exporter": "python",
   "pygments_lexer": "ipython3",
   "version": "3.9.16"
  },
  "rise": {
   "scroll": true
  }
 },
 "nbformat": 4,
 "nbformat_minor": 5
}
