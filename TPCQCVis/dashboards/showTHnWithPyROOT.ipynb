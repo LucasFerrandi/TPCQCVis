{
 "cells": [
  {
   "cell_type": "markdown",
   "id": "29c7469e",
   "metadata": {},
   "source": [
    "# Visualization with PyROOT\n",
    "* can do projections to 1D & 2D histograms\n",
    "* similar interaction with normal TBrowser, but a bit easier to use"
   ]
  },
  {
   "cell_type": "code",
   "execution_count": null,
   "id": "f7d15ec9",
   "metadata": {},
   "outputs": [],
   "source": [
    "from datetime import date, datetime\n",
    "import math\n",
    "import ROOT\n",
    "import bokeh\n",
    "from bokeh.io import output_notebook\n",
    "from bokeh.plotting import output_file\n",
    "import TPCQCVis.tools.drawTHn as drawTHn\n",
    "output_notebook()"
   ]
  },
  {
   "cell_type": "markdown",
   "id": "e6adb688",
   "metadata": {},
   "source": [
    "### Load the THnSparse file"
   ]
  },
  {
   "cell_type": "code",
   "execution_count": null,
   "id": "3b8e4338",
   "metadata": {},
   "outputs": [],
   "source": [
    "myFile = ROOT.TFile.Open(\"~/Software/TPCQCVis/data/examples/THn/hNdPID.root\")\n",
    "hist = myFile.ExpertVis\n",
    "thn = hist.Get(\"ExpertVis;1\")"
   ]
  },
  {
   "cell_type": "markdown",
   "id": "66119a59",
   "metadata": {},
   "source": [
    "### Make projections"
   ]
  },
  {
   "cell_type": "code",
   "execution_count": null,
   "id": "47ee4e26",
   "metadata": {},
   "outputs": [],
   "source": [
    "# list the dimensions of the THn\n",
    "drawTHn.listTHnOptions(thn)"
   ]
  },
  {
   "cell_type": "code",
   "execution_count": null,
   "id": "663cdbfb",
   "metadata": {
    "scrolled": false
   },
   "outputs": [],
   "source": [
    "#Example of 1D projection\n",
    "%jsroot on\n",
    "c = ROOT.TCanvas(\"myTHnProjection\",\"The Canvas Title\",800,600)\n",
    "drawTHn.drawTHnProjection(thn,['dEdxMax'])\n",
    "c.Draw()"
   ]
  },
  {
   "cell_type": "code",
   "execution_count": null,
   "id": "7d5e0cb0",
   "metadata": {},
   "outputs": [],
   "source": [
    "#Example of 2D projection\n",
    "%jsroot on\n",
    "c = ROOT.TCanvas(\"myTHnProjection\",\"The Canvas Title\",800,600)\n",
    "drawTHn.drawTHnProjection(thn,['P','dEdxTot'])\n",
    "c.Draw()"
   ]
  },
  {
   "cell_type": "code",
   "execution_count": null,
   "id": "17eef8f4",
   "metadata": {},
   "outputs": [],
   "source": [
    "#Example of 3D projection\n",
    "%jsroot on\n",
    "c = ROOT.TCanvas(\"myTHnProjection\",\"The Canvas Title\",800,600)\n",
    "drawTHn.drawTHnProjection(thn,['P','dEdxTot','NClusters'])\n",
    "c.Draw()"
   ]
  },
  {
   "cell_type": "code",
   "execution_count": null,
   "id": "95273938",
   "metadata": {},
   "outputs": [],
   "source": []
  }
 ],
 "metadata": {
  "kernelspec": {
   "display_name": "Python 3 (ipykernel)",
   "language": "python",
   "name": "python3"
  },
  "language_info": {
   "codemirror_mode": {
    "name": "ipython",
    "version": 3
   },
   "file_extension": ".py",
   "mimetype": "text/x-python",
   "name": "python",
   "nbconvert_exporter": "python",
   "pygments_lexer": "ipython3",
   "version": "3.6.10"
  }
 },
 "nbformat": 4,
 "nbformat_minor": 5
}
