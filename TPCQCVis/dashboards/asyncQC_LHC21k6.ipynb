{
 "cells": [
  {
   "cell_type": "code",
   "execution_count": null,
   "id": "261650c1",
   "metadata": {
    "slideshow": {
     "slide_type": "skip"
    }
   },
   "outputs": [],
   "source": [
    "import ROOT;\n",
    "import glob\n",
    "import math\n",
    "from IPython.display import display, Markdown\n",
    "from IPython.display import display, HTML\n",
    "display(HTML(\"<style>.container { width:100% !important; }</style>\"))"
   ]
  },
  {
   "cell_type": "code",
   "execution_count": null,
   "id": "bf7d1e4e",
   "metadata": {
    "slideshow": {
     "slide_type": "skip"
    }
   },
   "outputs": [],
   "source": [
    "# Read the Root Files from LHC21k6\n",
    "path = \"/Users/berki/Software/TPCQCVis/data/userFiles/asyncQC/\"\n",
    "fileList = glob.glob(path+\"LHC21k6_*.root\")\n",
    "rootDataFile=[]\n",
    "for file in fileList:\n",
    "    rootDataFile.append(ROOT.TFile.Open(file,\"READ\"))\n",
    "#rootDataFile[0].ls()    \n",
    "#rootDataFile[0].Tracks.ls()\n",
    "#rootDataFile[0].Tracks.ls()"
   ]
  },
  {
   "cell_type": "markdown",
   "id": "53ce7354",
   "metadata": {
    "slideshow": {
     "slide_type": "slide"
    }
   },
   "source": [
    "# Reporting on TPC QC status\n",
    "Berkin Ulukutlu\n",
    "\n",
    "## Looking at LHC21k6\n",
    "> GP MinBias for pp@13.5 TeV Run 3 MC\n",
    "\n",
    "**Using:**\n",
    "+ `302014`: 1650724482261 - 23 Apr 2022 14:34 UTC - 23 Apr 2022 16:34 CEST\n",
    "+ `302015`: 1650846753594 - 25 Apr 2022 00:32 UTC - 25 Apr 2022 02:32 CEST\n",
    "+ `302016`: 1650972646904 - 26 Apr 2022 11:30 UTC - 26 Apr 2022 13:30 CEST\n",
    "+ `302018`: 1651125415191 - 28 Apr 2022 05:56 UTC - 28 Apr 2022 07:56 CEST\n",
    "+ `302019`: 1651186529687 - 28 Apr 2022 22:55 UTC - 29 Apr 2022 00:55 CEST\n",
    "+ `302020`: 1651090363058 - 27 Apr 2022 20:12 UTC - 27 Apr 2022 22:12 CEST\n",
    "+ `302022`: 1651212784251 - 29 Apr 2022 06:13 UTC - 29 Apr 2022 08:13 CEST\n",
    "+ `302023`: 1651354042488 - 30 Apr 2022 21:27 UTC - 30 Apr 2022 23:27 CEST\n",
    "\n",
    "**Couldn't find TPC QC files:**\n",
    "+ `302017`: 1651003948812 - 26 Apr 2022 20:12 UTC - 26 Apr 2022 22:12 CEST\n",
    "+ `302021`: 1651188394033 - 28 Apr 2022 23:26 UTC - 29 Apr 2022 01:26 CEST"
   ]
  },
  {
   "cell_type": "markdown",
   "id": "d90d631d",
   "metadata": {
    "slideshow": {
     "slide_type": "slide"
    }
   },
   "source": [
    "---\n",
    "## General performance observed on different runs"
   ]
  },
  {
   "cell_type": "code",
   "execution_count": null,
   "id": "90a60f4b",
   "metadata": {
    "slideshow": {
     "slide_type": "skip"
    }
   },
   "outputs": [],
   "source": [
    "#Visual settings\n",
    "ROOT.gStyle.SetPalette(55)\n",
    "ROOT.gStyle.SetOptStat(0)"
   ]
  },
  {
   "cell_type": "code",
   "execution_count": null,
   "id": "ea4b849f",
   "metadata": {
    "slideshow": {
     "slide_type": "subslide"
    }
   },
   "outputs": [],
   "source": [
    "%jsroot on\n",
    "c = ROOT.TCanvas(\"dEdxTot\",\"dEdxTot\",800,600)\n",
    "legend = ROOT.TLegend()\n",
    "legend.SetHeader(\"Normalized to integral\")\n",
    "for i in range(len(rootDataFile)):\n",
    "    hist = rootDataFile[i].PID.Get(\"hdEdxTot;1\")\n",
    "    legend.AddEntry(hist, fileList[i][len(path):-5], \"l\")\n",
    "    hist.Scale(1/hist.Integral())\n",
    "    hist.SetLineWidth(3)\n",
    "    hist.SetTitle(\"dEdxTot\")\n",
    "    hist.SetLineColor(i+1)\n",
    "    hist.Draw(\"SAME L\")\n",
    "\n",
    "legend.Draw()\n",
    "c.Draw() \n",
    "\n",
    "display(Markdown('### 1D energy loss distribution:'))\n",
    "display(Markdown('- No differences between LHC21k6 runs, shape as expected.\\n'))"
   ]
  },
  {
   "cell_type": "code",
   "execution_count": null,
   "id": "8b59dcaa",
   "metadata": {
    "slideshow": {
     "slide_type": "subslide"
    }
   },
   "outputs": [],
   "source": [
    "%jsroot on\n",
    "c = ROOT.TCanvas(\"Pt\",\"Pt\",1200,600)\n",
    "c.Divide(2,1)\n",
    "legend = ROOT.TLegend()\n",
    "legend.SetHeader(\"Normalized to integral\")\n",
    "c.cd(1)\n",
    "for i in range(len(rootDataFile)):\n",
    "    hist = rootDataFile[i].PID.Get(\"hdEdxMips;1\")\n",
    "    legend.AddEntry(hist, fileList[i][len(path):-5], \"l\")\n",
    "    hist.Scale(1/hist.Integral())\n",
    "    hist.SetLineWidth(3)\n",
    "    hist.SetLineColor(i+1)\n",
    "    hist.Draw(\"SAME L\")\n",
    "legend.Draw()\n",
    "c.cd(2)\n",
    "for i in range(len(rootDataFile)):\n",
    "    hist = rootDataFile[i].PID.Get(\"hdEdxEles;1\")\n",
    "    hist.Scale(1/hist.Integral())\n",
    "    hist.SetLineWidth(3)\n",
    "    hist.SetLineColor(i+1)\n",
    "    hist.Draw(\"SAME L\")    \n",
    "legend.Draw()\n",
    "c.Draw()\n",
    "\n",
    "display(Markdown('---\\n'+'### 1D energy loss distribution of MIPs and electrons:'))\n",
    "display(Markdown('**MIPS**:\\n'+\n",
    "                 '- No differences between LHC21k6 runs, shape as expected.\\n'+\n",
    "                 '- Mean lies at the expected 50, all OK.'))\n",
    "display(Markdown('**Electrons**:\\n'+\n",
    "                 '- Shape as expected, all OK.'))"
   ]
  },
  {
   "cell_type": "code",
   "execution_count": null,
   "id": "107b84bd",
   "metadata": {
    "slideshow": {
     "slide_type": "subslide"
    }
   },
   "outputs": [],
   "source": [
    "%jsroot on\n",
    "c = ROOT.TCanvas(\"clusters\",\"Normalized clusters\",800,600)\n",
    "legend = ROOT.TLegend()\n",
    "legend.SetHeader(\"Normalized to integral\")\n",
    "for i in range(len(rootDataFile)):\n",
    "    hist = rootDataFile[i].PID.Get(\"hNClusters;1\")\n",
    "    legend.AddEntry(hist, fileList[i][len(path):-5], \"l\")\n",
    "    hist.Scale(1/hist.Integral())\n",
    "    hist.SetLineWidth(3)\n",
    "    hist.SetLineColor(i+1)\n",
    "    hist.Draw(\"SAME L\")\n",
    "legend.Draw()\n",
    "c.Draw()\n",
    "\n",
    "display(Markdown('---\\n'+'### nClusters per track:'))\n",
    "display(Markdown('- No differences between LHC21k6 runs, shape as expected.\\n'+\n",
    "                 '- Bump at 90 clusters, coincides with bump in NClusters vs eta plot below in low eta region.\\n'+\n",
    "                 'Likely due to tracks going through the central electrode, needs to be investigated.'))"
   ]
  },
  {
   "cell_type": "code",
   "execution_count": null,
   "id": "b516f804",
   "metadata": {
    "scrolled": false,
    "slideshow": {
     "slide_type": "slide"
    }
   },
   "outputs": [],
   "source": [
    "%jsroot on\n",
    "c = ROOT.TCanvas(\"Sign\",\"Normalized sign\",800,600)\n",
    "legend = ROOT.TLegend()\n",
    "for i in range(len(rootDataFile)):\n",
    "    hist = rootDataFile[i].Tracks.Get(\"hSign;1\")\n",
    "    legend.AddEntry(hist, fileList[i][len(path):-5], \"l\")\n",
    "    hist.Scale(1/hist.Integral())\n",
    "    hist.SetMaximum(1)\n",
    "    hist.SetMinimum(0)\n",
    "    hist.SetLineWidth(3)\n",
    "    hist.SetLineColor(i+1)\n",
    "    hist.Draw(\"SAME\")\n",
    "legend.Draw()\n",
    "c.Draw()\n",
    "display(Markdown('---\\n'+'### Electric charge sign:'))\n",
    "display(Markdown('- No differences between LHC21k6 runs, positive tracks more abundant as expected.\\n'+\n",
    "                 '- Ratio leaning towards positive, expected to be from material knockout and perhaps space charge, needs to be further investigated.'))"
   ]
  },
  {
   "cell_type": "code",
   "execution_count": null,
   "id": "8831cb23",
   "metadata": {
    "scrolled": false,
    "slideshow": {
     "slide_type": "subslide"
    }
   },
   "outputs": [],
   "source": [
    "%jsroot on\n",
    "c = ROOT.TCanvas(\"Pt\",\"Pt\",1200,600)\n",
    "c.Divide(2,1)\n",
    "legend = ROOT.TLegend()\n",
    "legend.SetHeader(\"Normalized to integral\")\n",
    "c.cd(1)\n",
    "for i in range(len(rootDataFile)):\n",
    "    hist = rootDataFile[i].Tracks.Get(\"hPtNeg;1\")\n",
    "    legend.AddEntry(hist, fileList[i][len(path):-5], \"l\")\n",
    "    hist.Scale(1/hist.Integral())\n",
    "    hist.SetLineWidth(3)\n",
    "    hist.SetLineColor(i+1)\n",
    "    hist.Draw(\"SAME L\")\n",
    "legend.Draw()\n",
    "c.cd(2)\n",
    "for i in range(len(rootDataFile)):\n",
    "    hist = rootDataFile[i].Tracks.Get(\"hPtPos;1\")\n",
    "    hist.Scale(1/hist.Integral())\n",
    "    hist.SetLineWidth(3)\n",
    "    hist.SetLineColor(i+1)\n",
    "    hist.Draw(\"SAME L\")    \n",
    "legend.Draw()\n",
    "\n",
    "c.Draw()\n",
    "\n",
    "display(Markdown('---\\n'+'### p<sub>T</sub> distribution of negative vs positive tracks:'))\n",
    "display(Markdown('- No differences between LHC21k6 runs, shape as observed before.\\n'+\n",
    "                 '- Still not clear why the second peak is this prominent, thought to be due to loopers.'))"
   ]
  },
  {
   "cell_type": "markdown",
   "id": "0400b12a",
   "metadata": {
    "slideshow": {
     "slide_type": "slide"
    }
   },
   "source": [
    "## Geometrical parameters"
   ]
  },
  {
   "cell_type": "code",
   "execution_count": null,
   "id": "cf5b0118",
   "metadata": {
    "scrolled": false,
    "slideshow": {
     "slide_type": "slide"
    }
   },
   "outputs": [],
   "source": [
    "%jsroot on\n",
    "c = ROOT.TCanvas(\"phi\",\"Normalized phi\",1200,600)\n",
    "legend = ROOT.TLegend()\n",
    "legend.SetHeader(\"Normalized to integral\")\n",
    "for i in range(len(rootDataFile)):\n",
    "    hist = rootDataFile[i].PID.Get(\"hPhi;1\")\n",
    "    legend.AddEntry(hist, fileList[i][len(path):-5], \"l\")\n",
    "    hist.Scale(1/hist.Integral())\n",
    "    hist.SetTitle(\"Phi\")\n",
    "    hist.SetLineColor(i+1)\n",
    "    hist.Draw(\"SAME L\")\n",
    "    hist.SetMaximum(0.006)\n",
    "    hist.SetMinimum(0.0051)\n",
    "    hist.SetLineWidth(2)   \n",
    "#Sector boundatries\n",
    "sectorBoundary = ROOT.TLine(0,hist.GetMinimum(),0,hist.GetMaximum())\n",
    "sectorBoundary.SetLineStyle(2)\n",
    "for j in range(19):\n",
    "    sectorBoundary.DrawLine((j*2*math.pi)/18,hist.GetMinimum(),(j*2*math.pi)/18,hist.GetMaximum())\n",
    "legend.AddEntry(sectorBoundary, \"Sector Boundaries\", \"l\")\n",
    "legend.Draw()    \n",
    "c.Draw()\n",
    "\n",
    "display(Markdown('---\\n'+'### Azimuthal angle distribution of tracks:'))\n",
    "display(Markdown('- Overlapping distributions for LHC21k6 runs, no large variances in acceptance, OK.\\n'+\n",
    "                 '- No clear dip in efficiency at sector boundaries, probably due to strong magnetic field (0.5T).'))"
   ]
  },
  {
   "cell_type": "code",
   "execution_count": null,
   "id": "f47dbebc",
   "metadata": {
    "slideshow": {
     "slide_type": "subslide"
    }
   },
   "outputs": [],
   "source": [
    "%jsroot on\n",
    "c = ROOT.TCanvas(\"tgl\",\"Normalized tgl\",800,600)\n",
    "legend = ROOT.TLegend()\n",
    "legend.SetHeader(\"Normalized to integral\")\n",
    "for i in range(len(rootDataFile)):\n",
    "    hist = rootDataFile[i].PID.Get(\"hTgl;1\")\n",
    "    legend.AddEntry(hist, fileList[i][len(path):-5], \"l\")\n",
    "    hist.Scale(1/hist.Integral())\n",
    "    hist.SetMaximum(0.05)\n",
    "    hist.SetTitle(\"Tgl\")\n",
    "    hist.SetLineWidth(3)\n",
    "    hist.SetLineColor(i+1)\n",
    "    hist.Draw(\"SAME L\")\n",
    "legend.Draw()\n",
    "c.Draw()\n",
    "\n",
    "display(Markdown('---\\n'+'### tan(lambda) distribution:'))\n",
    "display(Markdown('- No differences between LHC22c5 runs, shape as expected.\\n'+\n",
    "                 '- Asymmetry observed with pilot beam data (apass3 - 505669) is not there.'))"
   ]
  },
  {
   "cell_type": "code",
   "execution_count": null,
   "id": "03a8a89c",
   "metadata": {
    "slideshow": {
     "slide_type": "subslide"
    }
   },
   "outputs": [],
   "source": [
    "%jsroot on\n",
    "c = ROOT.TCanvas(\"Eta\",\"Normalized eta\",800,600)\n",
    "legend = ROOT.TLegend()\n",
    "legend.SetHeader(\"Normalized to integral\")\n",
    "for i in range(len(rootDataFile)):\n",
    "    hist = rootDataFile[i].Tracks.Get(\"hEta;1\")\n",
    "    legend.AddEntry(hist, fileList[i][len(path):-5], \"l\")\n",
    "    hist.Scale(1/hist.Integral())\n",
    "    hist.SetLineWidth(3)\n",
    "    hist.SetLineColor(i+1)\n",
    "    hist.Draw(\"SAME L\")\n",
    "legend.Draw()\n",
    "c.Draw()\n",
    "\n",
    "display(Markdown('---\\n'+'### Pseudorapidity (eta) distribution:'))\n",
    "display(Markdown('- No differences between LHC22c5 runs, shape as expected.\\n'+\n",
    "                 '- Asymmetry observed with pilot beam data (apass3 - 505669) is not there.'))"
   ]
  },
  {
   "cell_type": "markdown",
   "id": "be302bdd",
   "metadata": {
    "slideshow": {
     "slide_type": "slide"
    }
   },
   "source": [
    "---\n",
    "## Looking at TH2s"
   ]
  },
  {
   "cell_type": "code",
   "execution_count": null,
   "id": "bf5b464e",
   "metadata": {
    "slideshow": {
     "slide_type": "skip"
    }
   },
   "outputs": [],
   "source": [
    "#Visual settings\n",
    "ROOT.gStyle.SetPalette(57)\n",
    "#ROOT.gStyle.SetOptStat(\"1111111\")"
   ]
  },
  {
   "cell_type": "code",
   "execution_count": null,
   "id": "c1803637",
   "metadata": {
    "scrolled": false,
    "slideshow": {
     "slide_type": "subslide"
    }
   },
   "outputs": [],
   "source": [
    "%jsroot on\n",
    "c = ROOT.TCanvas(\"dEdx_vs_p\",\"dEdx_vs_p\",800,600)\n",
    "legend = ROOT.TLegend()\n",
    "for i in range(len(rootDataFile)):\n",
    "    if i == 0:\n",
    "        hist = rootDataFile[i].PID.Get(\"hdEdxVsp;1\")\n",
    "    else:\n",
    "        hist.Add(rootDataFile[i].PID.Get(\"hdEdxVsp;1\"))\n",
    "hist.Draw(\"SAME COLZ\")\n",
    "legend.AddEntry(hist,\"All LHC22c5\", \"l\")\n",
    "legend.Draw()\n",
    "c.SetLogx();\n",
    "c.SetLogz();\n",
    "c.Draw()\n",
    "\n",
    "display(Markdown('### Energy loss vs momentum:'))\n",
    "display(Markdown('- Expected shape looks fine.\\n'+\n",
    "                 'The third band observed in earlier runs not there anymore.'))"
   ]
  },
  {
   "cell_type": "code",
   "execution_count": null,
   "id": "4b90cba8",
   "metadata": {
    "slideshow": {
     "slide_type": "subslide"
    }
   },
   "outputs": [],
   "source": [
    "%jsroot on\n",
    "c = ROOT.TCanvas(\"NClusters_vs_Eta\",\"NClusters_vs_Eta\",800,600)\n",
    "legend = ROOT.TLegend()\n",
    "for i in range(len(rootDataFile)):\n",
    "    if i == 0:\n",
    "        hist = rootDataFile[i].Tracks.Get(\"h2DNClustersEtaBeforeCuts;1\")\n",
    "    else:\n",
    "        hist.Add(rootDataFile[i].Tracks.Get(\"h2DNClustersEtaBeforeCuts;1\"))\n",
    "hist.Draw(\"SAME0 COLZ\")\n",
    "legend.AddEntry(hist,\"All LHC21k6\", \"l\")\n",
    "legend.Draw()\n",
    "c.Draw()\n",
    "\n",
    "display(Markdown('---\\n'+'### Number of cluster vs pseudorapidity:'))\n",
    "display(Markdown('- Looks overall fine but increased hits at eta ~0 NClusters ~90.\\n'+\n",
    "                 'Expected dip in cluster count with |eta| > ~0.9'))"
   ]
  },
  {
   "cell_type": "code",
   "execution_count": null,
   "id": "af819fcc",
   "metadata": {
    "scrolled": false,
    "slideshow": {
     "slide_type": "subslide"
    }
   },
   "outputs": [],
   "source": [
    "%jsroot on\n",
    "c = ROOT.TCanvas(\"Pt\",\"Pt\",1200,600)\n",
    "c.Divide(2,1)\n",
    "legend = ROOT.TLegend()\n",
    "c.cd(1)\n",
    "for i in range(len(rootDataFile)):\n",
    "    if i == 0:\n",
    "        hist = rootDataFile[i].Tracks.Get(\"h2DNClustersPhiAside;1\")\n",
    "    else:\n",
    "        hist.Add(rootDataFile[i].Tracks.Get(\"h2DNClustersPhiAside;1\"))\n",
    "hist.Draw(\"SAME0 COLZ\")\n",
    "legend.AddEntry(hist,\"All LHC21k6\", \"l\")\n",
    "legend.Draw()\n",
    "c.cd(2)\n",
    "for i in range(len(rootDataFile)):\n",
    "    if i == 0:\n",
    "        hist = rootDataFile[i].Tracks.Get(\"h2DNClustersPhiCside;1\")\n",
    "    else:\n",
    "        hist.Add(rootDataFile[i].Tracks.Get(\"h2DNClustersPhiCside;1\"))\n",
    "hist.Draw(\"SAME0 COLZ\")\n",
    "legend.Draw()\n",
    "c.Draw()\n",
    "\n",
    "display(Markdown('---\\n'+'### Energy loss vs momentum:'))\n",
    "display(Markdown('- Sector boundaries can be recognized. Shape as expected and looks fine.\\n'))"
   ]
  },
  {
   "cell_type": "markdown",
   "id": "38b2b759",
   "metadata": {
    "slideshow": {
     "slide_type": "slide"
    }
   },
   "source": [
    "---\n",
    "## Remaining to-do:\n",
    "1. Compare to previous runs LHC21k6 in detail\n",
    "1. Check output from clusters task"
   ]
  }
 ],
 "metadata": {
  "celltoolbar": "Slideshow",
  "kernelspec": {
   "display_name": "Python 3 (ipykernel)",
   "language": "python",
   "name": "python3"
  },
  "language_info": {
   "codemirror_mode": {
    "name": "ipython",
    "version": 3
   },
   "file_extension": ".py",
   "mimetype": "text/x-python",
   "name": "python",
   "nbconvert_exporter": "python",
   "pygments_lexer": "ipython3",
   "version": "3.6.10"
  }
 },
 "nbformat": 4,
 "nbformat_minor": 5
}
