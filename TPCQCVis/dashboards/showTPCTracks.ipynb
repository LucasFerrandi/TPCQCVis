{
 "cells": [
  {
   "cell_type": "code",
   "execution_count": null,
   "id": "81a67cb9",
   "metadata": {},
   "outputs": [],
   "source": [
    "from IPython.display import display, Markdown, HTML\n",
    "display(HTML(\"<style>.container { width:95% !important; }</style>\"))"
   ]
  },
  {
   "cell_type": "code",
   "execution_count": null,
   "id": "c17d22f8",
   "metadata": {},
   "outputs": [],
   "source": [
    "import math\n",
    "import ROOT\n",
    "import numpy as np, pandas as pd\n",
    "import yaml\n",
    "import base64\n",
    "import ctypes\n",
    "import logging\n",
    "import bokeh\n",
    "from bokeh.io import output_notebook, show\n",
    "from bokeh.plotting import output_file\n",
    "from RootInteractive.InteractiveDrawing.bokeh.bokehDrawSA import *\n",
    "from RootInteractive.InteractiveDrawing.bokeh.bokehTools import bokehDrawArray\n",
    "from RootInteractive.Tools.pandaTools import initMetadata\n",
    "from RootInteractive.Tools.aliTreePlayer import *\n",
    "from RootInteractive.Tools.compressArray import arrayCompressionRelative8\n",
    "\n",
    "output_notebook()"
   ]
  },
  {
   "cell_type": "code",
   "execution_count": null,
   "id": "e5126a9d",
   "metadata": {},
   "outputs": [],
   "source": [
    "inputFile=\"~/alice/data/sim/01/tpctracks.root\""
   ]
  },
  {
   "cell_type": "code",
   "execution_count": null,
   "id": "8aac08d2",
   "metadata": {},
   "outputs": [],
   "source": [
    "f=ROOT.TFile.Open(inputFile)\n",
    "tree=f.Get(\"tpcrec\")"
   ]
  },
  {
   "cell_type": "code",
   "execution_count": null,
   "id": "1c89a668",
   "metadata": {},
   "outputs": [],
   "source": [
    "event=tree.GetEntry(0)"
   ]
  },
  {
   "cell_type": "code",
   "execution_count": null,
   "id": "b80768fa",
   "metadata": {},
   "outputs": [],
   "source": []
  },
  {
   "cell_type": "code",
   "execution_count": null,
   "id": "e53f7f3e",
   "metadata": {},
   "outputs": [],
   "source": []
  }
 ],
 "metadata": {
  "kernelspec": {
   "display_name": "Python 3 (ipykernel)",
   "language": "python",
   "name": "python3"
  },
  "language_info": {
   "codemirror_mode": {
    "name": "ipython",
    "version": 3
   },
   "file_extension": ".py",
   "mimetype": "text/x-python",
   "name": "python",
   "nbconvert_exporter": "python",
   "pygments_lexer": "ipython3",
   "version": "3.6.10"
  }
 },
 "nbformat": 4,
 "nbformat_minor": 5
}
