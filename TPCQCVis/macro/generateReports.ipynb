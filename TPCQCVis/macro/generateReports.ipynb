{
 "cells": [
  {
   "cell_type": "code",
   "execution_count": null,
   "id": "fcda4143",
   "metadata": {},
   "outputs": [],
   "source": [
    "import re\n",
    "import subprocess\n",
    "import json\n",
    "import glob\n",
    "import argparse\n",
    "import tempfile\n",
    "import os"
   ]
  },
  {
   "cell_type": "code",
   "execution_count": null,
   "id": "28d9b39a",
   "metadata": {},
   "outputs": [],
   "source": [
    "def replace_in_ipynb(file_path, temp, patterns, replacements):\n",
    "    # Open the file\n",
    "    with open(file_path, \"r\") as file:\n",
    "        # Read the contents of the file and parse it as JSON\n",
    "        notebook = json.load(file)\n",
    "\n",
    "    # Replace the desired parts of the notebook\n",
    "    for i in range(len(patterns)):\n",
    "        pattern = patterns[i]\n",
    "        replacement = replacements[i]\n",
    "        for cell in notebook[\"cells\"]:\n",
    "            if \"source\" in cell:\n",
    "                cell[\"source\"] = [re.sub(pattern, replacement, line) for line in cell[\"source\"]]\n",
    "\n",
    "    # Write the modified notebook to the temporary file\n",
    "    with open(temp, \"w\") as file:\n",
    "        json.dump(notebook, file)"
   ]
  },
  {
   "cell_type": "code",
   "execution_count": null,
   "id": "3b17e896",
   "metadata": {},
   "outputs": [],
   "source": [
    "template_path = \"/home/berki/Software/TPCQCVis/TPCQCVis/reports/TPC_asyncQC_template.ipynb\"\n",
    "# Create a temporary file with a unique filename for the run report\n",
    "with tempfile.NamedTemporaryFile(prefix=\"TPCQC_\", suffix=\".ipynb\", delete=False) as temp_run:\n",
    "    temp_run_path = temp_run.name"
   ]
  },
  {
   "cell_type": "code",
   "execution_count": null,
   "id": "37b40bab",
   "metadata": {},
   "outputs": [],
   "source": [
    "path = \"/cave/alice-tpc-qc/data/2023/\"\n",
    "periods = [\"LHC23\"+name for name in [#\"h\",\"j\",\"k\",\"m\",\"p\",\"q\",\n",
    "    \"v\",\"y\",\"z\",\"zc\",\"zl\",\"zs\"]]\n",
    "apass = \"apass1\"\n",
    "runNumber = 132132\n",
    "\n",
    "for period in periods:\n",
    "    print(f\"Creating report for period {period}\")\n",
    "    replace_in_ipynb(template_path, temp_run_path,\n",
    "            [\"myPeriod\", \"myPass\", \"123456\", \"myPath\"],\n",
    "            [period, apass, str(runNumber), path]\n",
    "        )\n",
    "    \n",
    "    # The command and its arguments for the run report\n",
    "    run_report_command = [\n",
    "        \"jupyter\", \"nbconvert\", temp_run_path, \"--to\", \"html\", \"--template\", \"classic\", \"--no-input\", \"--execute\",\n",
    "        \"--output\", \"/cave/alice-tpc-qc/reports/2023/\" + period + \"/\"+ period+\"_apass1_comparison.html\"\n",
    "    ]\n",
    "    \n",
    "    # Run the command for the run report\n",
    "    output = subprocess.run(run_report_command, capture_output=True)"
   ]
  },
  {
   "cell_type": "code",
   "execution_count": null,
   "id": "029954f9",
   "metadata": {},
   "outputs": [],
   "source": []
  }
 ],
 "metadata": {
  "kernelspec": {
   "display_name": "Python 3 (ipykernel)",
   "language": "python",
   "name": "python3"
  },
  "language_info": {
   "codemirror_mode": {
    "name": "ipython",
    "version": 3
   },
   "file_extension": ".py",
   "mimetype": "text/x-python",
   "name": "python",
   "nbconvert_exporter": "python",
   "pygments_lexer": "ipython3",
   "version": "3.9.16"
  }
 },
 "nbformat": 4,
 "nbformat_minor": 5
}
