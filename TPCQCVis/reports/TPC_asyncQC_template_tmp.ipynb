{
 "cells": [
  {
   "cell_type": "code",
   "execution_count": null,
   "id": "d8545111",
   "metadata": {},
   "outputs": [],
   "source": [
    "%%capture\n",
    "import ROOT\n",
    "import glob\n",
    "import math\n",
    "import numpy as np\n",
    "from IPython.display import display, Markdown\n",
    "from IPython.display import display, HTML\n",
    "from TPCQCVis.src.drawHistograms import *\n",
    "from TPCQCVis.src.drawTrending import *\n",
    "from TPCQCVis.src.checkHistograms import *"
   ]
  },
  {
   "cell_type": "code",
   "execution_count": null,
   "id": "6d1411b6",
   "metadata": {},
   "outputs": [],
   "source": [
    "display(HTML(\"<style>.container { width:95% !important; }</style>\"))\n",
    "display(HTML(\"<style>table {float:left;}</style>\"))"
   ]
  },
  {
   "cell_type": "code",
   "execution_count": null,
   "id": "bb0c55ba",
   "metadata": {},
   "outputs": [],
   "source": [
    "# Notebook variables\n",
    "periodName = \"LHC22s\"\n",
    "\n",
    "passName = \"apass4\"\n",
    "\n",
    "runNumber = 529418\n",
    "\n",
    "path = \"/mnt/cave/alice/data/2022/\"\n",
    "\n",
    "# Read QC root file\n",
    "rootDataFile=[]\n",
    "rootDataFile.append(ROOT.TFile.Open(path+\"/\"+periodName+\"/\"+passName+\"/\"+str(runNumber)+\"_QC.root\",\"READ\"))"
   ]
  },
  {
   "cell_type": "markdown",
   "id": "d70f767c",
   "metadata": {
    "variables": {
     "passName": "apass1",
     "periodName": "LHC22m",
     "runNumber": "523677"
    }
   },
   "source": [
    "# TPC Async QC Report - \"LHC22s\" - \"apass4\" - Run 529418\n",
    "+ Run parameters: [Excel sheet](https://docs.google.com/spreadsheets/d/14vXFYVx3oVE8wgJKmIBhjvAt6NpGp7D6H4AmBM9E0Cw/edit#gid=0)"
   ]
  },
  {
   "cell_type": "markdown",
   "id": "b9faae5a",
   "metadata": {
    "toc": true
   },
   "source": [
    "<h1>Table of Contents<span class=\"tocSkip\"></span></h1>\n",
    "<div class=\"toc\"><ul class=\"toc-item\"><li><span><a href=\"#Per-Pad-(Clusters)\" data-toc-modified-id=\"Per-Pad-(Clusters)-1\">Per Pad (Clusters)</a></span><ul class=\"toc-item\"><li><ul class=\"toc-item\"><li><span><a href=\"#nClusters\" data-toc-modified-id=\"nClusters-1.0.1\">nClusters</a></span></li><li><span><a href=\"#Q_Max\" data-toc-modified-id=\"Q_Max-1.0.2\">Q_Max</a></span></li><li><span><a href=\"#Q_Tot\" data-toc-modified-id=\"Q_Tot-1.0.3\">Q_Tot</a></span></li><li><span><a href=\"#Time_Bin\" data-toc-modified-id=\"Time_Bin-1.0.4\">Time_Bin</a></span></li><li><span><a href=\"#Sigma_Pad\" data-toc-modified-id=\"Sigma_Pad-1.0.5\">Sigma_Pad</a></span></li><li><span><a href=\"#Sigma_Time\" data-toc-modified-id=\"Sigma_Time-1.0.6\">Sigma_Time</a></span></li></ul></li></ul></li><li><span><a href=\"#Tracks\" data-toc-modified-id=\"Tracks-2\">Tracks</a></span><ul class=\"toc-item\"><li><span><a href=\"#Geometrical-distributions\" data-toc-modified-id=\"Geometrical-distributions-2.1\">Geometrical distributions</a></span><ul class=\"toc-item\"><li><span><a href=\"#Phi\" data-toc-modified-id=\"Phi-2.1.1\">Phi</a></span></li><li><span><a href=\"#Eta\" data-toc-modified-id=\"Eta-2.1.2\">Eta</a></span></li><li><span><a href=\"#Eta-vs-phi\" data-toc-modified-id=\"Eta-vs-phi-2.1.3\">Eta vs phi</a></span></li></ul></li><li><span><a href=\"#Track-properties\" data-toc-modified-id=\"Track-properties-2.2\">Track properties</a></span><ul class=\"toc-item\"><li><span><a href=\"#nClusters\" data-toc-modified-id=\"nClusters-2.2.1\">nClusters</a></span></li><li><span><a href=\"#nClusters-vs-eta\" data-toc-modified-id=\"nClusters-vs-eta-2.2.2\">nClusters vs eta</a></span></li><li><span><a href=\"#nClusters-vs-pT\" data-toc-modified-id=\"nClusters-vs-pT-2.2.3\">nClusters vs pT</a></span></li><li><span><a href=\"#pT\" data-toc-modified-id=\"pT-2.2.4\">pT</a></span></li><li><span><a href=\"#Q/pT\" data-toc-modified-id=\"Q/pT-2.2.5\">Q/pT</a></span></li><li><span><a href=\"#Sign\" data-toc-modified-id=\"Sign-2.2.6\">Sign</a></span></li></ul></li><li><span><a href=\"#Energy-Loss\" data-toc-modified-id=\"Energy-Loss-2.3\">Energy Loss</a></span><ul class=\"toc-item\"><li><span><a href=\"#dEdxTot-for-MIPs\" data-toc-modified-id=\"dEdxTot-for-MIPs-2.3.1\">dEdxTot for MIPs</a></span></li><li><span><a href=\"#dEdxTot-vs-p\" data-toc-modified-id=\"dEdxTot-vs-p-2.3.2\">dEdxTot vs p</a></span></li><li><span><a href=\"#dEdxTotMip-vs-sector-(phi)\" data-toc-modified-id=\"dEdxTotMip-vs-sector-(phi)-2.3.3\">dEdxTotMip vs sector (phi)</a></span></li><li><span><a href=\"#dEdxTotMip-vs-nClusters\" data-toc-modified-id=\"dEdxTotMip-vs-nClusters-2.3.4\">dEdxTotMip vs nClusters</a></span></li><li><span><a href=\"#dEdxTotMip-vs-sin(phi)\" data-toc-modified-id=\"dEdxTotMip-vs-sin(phi)-2.3.5\">dEdxTotMip vs sin(phi)</a></span></li><li><span><a href=\"#dEdxTotMip-vs-tan(lambda)\" data-toc-modified-id=\"dEdxTotMip-vs-tan(lambda)-2.3.6\">dEdxTotMip vs tan(lambda)</a></span></li><li><span><a href=\"#dEdxMax-for-MIPs\" data-toc-modified-id=\"dEdxMax-for-MIPs-2.3.7\">dEdxMax for MIPs</a></span></li><li><span><a href=\"#dEdxMax-vs-p\" data-toc-modified-id=\"dEdxMax-vs-p-2.3.8\">dEdxMax vs p</a></span></li><li><span><a href=\"#dEdxMaxMip-vs-sector-(phi)\" data-toc-modified-id=\"dEdxMaxMip-vs-sector-(phi)-2.3.9\">dEdxMaxMip vs sector (phi)</a></span></li><li><span><a href=\"#dEdxMaxMip-vs-nClusters\" data-toc-modified-id=\"dEdxMaxMip-vs-nClusters-2.3.10\">dEdxMaxMip vs nClusters</a></span></li><li><span><a href=\"#dEdxMaxMip-vs-sin(phi)\" data-toc-modified-id=\"dEdxMaxMip-vs-sin(phi)-2.3.11\">dEdxMaxMip vs sin(phi)</a></span></li><li><span><a href=\"#dEdxMaxMip-vs-tan(lambda)\" data-toc-modified-id=\"dEdxMaxMip-vs-tan(lambda)-2.3.12\">dEdxMaxMip vs tan(lambda)</a></span></li></ul></li></ul></li></ul></div>"
   ]
  },
  {
   "cell_type": "markdown",
   "id": "fe39e71a",
   "metadata": {},
   "source": [
    "## Per Pad (Clusters)"
   ]
  },
  {
   "cell_type": "markdown",
   "id": "57571f13",
   "metadata": {},
   "source": [
    "#### nClusters"
   ]
  },
  {
   "cell_type": "code",
   "execution_count": null,
   "id": "11024082",
   "metadata": {},
   "outputs": [],
   "source": [
    "%jsroot on\n",
    "objectName = \"c_N_Clusters\"\n",
    "\n",
    "try:\n",
    "    c = rootDataFile[0].ClusterQC.Get(objectName)\n",
    "except:\n",
    "    print(\"No Cluster QC in this file!\")\n",
    "else: \n",
    "    c.Draw()"
   ]
  },
  {
   "cell_type": "markdown",
   "id": "0ecad280",
   "metadata": {},
   "source": [
    "#### Q_Max"
   ]
  },
  {
   "cell_type": "code",
   "execution_count": null,
   "id": "9432dcd2",
   "metadata": {},
   "outputs": [],
   "source": [
    "%jsroot on\n",
    "objectName = \"c_Q_Max\"\n",
    "\n",
    "try:\n",
    "    c = rootDataFile[0].ClusterQC.Get(objectName)\n",
    "except:\n",
    "    print(\"No Cluster QC in this file!\")\n",
    "else: \n",
    "    c.Draw()"
   ]
  },
  {
   "cell_type": "markdown",
   "id": "7d1504f0",
   "metadata": {},
   "source": [
    "#### Q_Tot"
   ]
  },
  {
   "cell_type": "code",
   "execution_count": null,
   "id": "1bbbd33b",
   "metadata": {},
   "outputs": [],
   "source": [
    "%jsroot on\n",
    "objectName = \"c_Q_Tot\"\n",
    "\n",
    "try:\n",
    "    c = rootDataFile[0].ClusterQC.Get(objectName)\n",
    "except:\n",
    "    print(\"No Cluster QC in this file!\")\n",
    "else: \n",
    "    c.Draw()"
   ]
  },
  {
   "cell_type": "markdown",
   "id": "fafcd3f7",
   "metadata": {},
   "source": [
    "#### Time_Bin"
   ]
  },
  {
   "cell_type": "code",
   "execution_count": null,
   "id": "fa2ed549",
   "metadata": {},
   "outputs": [],
   "source": [
    "%jsroot on\n",
    "objectName = \"c_Time_Bin\"\n",
    "\n",
    "try:\n",
    "    c = rootDataFile[0].ClusterQC.Get(objectName)\n",
    "except:\n",
    "    print(\"No Cluster QC in this file!\")\n",
    "else: \n",
    "    c.Draw()"
   ]
  },
  {
   "cell_type": "markdown",
   "id": "3c240aef",
   "metadata": {},
   "source": [
    "#### Sigma_Pad"
   ]
  },
  {
   "cell_type": "code",
   "execution_count": null,
   "id": "c737bb67",
   "metadata": {},
   "outputs": [],
   "source": [
    "%jsroot on\n",
    "objectName = \"c_Sigma_Pad\"\n",
    "\n",
    "try:\n",
    "    c = rootDataFile[0].ClusterQC.Get(objectName)\n",
    "except:\n",
    "    print(\"No Cluster QC in this file!\")\n",
    "else: \n",
    "    c.Draw()"
   ]
  },
  {
   "cell_type": "markdown",
   "id": "9f18a0a6",
   "metadata": {},
   "source": [
    "#### Sigma_Time"
   ]
  },
  {
   "cell_type": "code",
   "execution_count": null,
   "id": "5a170831",
   "metadata": {},
   "outputs": [],
   "source": [
    "%jsroot on\n",
    "objectName = \"c_Sigma_Time\"\n",
    "\n",
    "try:\n",
    "    c = rootDataFile[0].ClusterQC.Get(objectName)\n",
    "except:\n",
    "    print(\"No Cluster QC in this file!\")\n",
    "else: \n",
    "    c.Draw()"
   ]
  },
  {
   "cell_type": "markdown",
   "id": "f7475792",
   "metadata": {},
   "source": [
    "## Tracks"
   ]
  },
  {
   "cell_type": "markdown",
   "id": "339ce55d",
   "metadata": {},
   "source": [
    "### Geometrical distributions"
   ]
  },
  {
   "cell_type": "markdown",
   "id": "608cefbe",
   "metadata": {},
   "source": [
    "#### Phi"
   ]
  },
  {
   "cell_type": "code",
   "execution_count": null,
   "id": "f591b039",
   "metadata": {},
   "outputs": [],
   "source": [
    "%jsroot on\n",
    "objectName=\"hPhiAside;1\"\n",
    "[hist,legend,canvas,pad1] = drawHistograms(objectName,rootDataFile)\n",
    "\n",
    "#Sector boundatries\n",
    "pad1.cd()\n",
    "sectorBoundary = ROOT.TLine(0,hist.GetMinimum(),0,hist.GetMaximum())\n",
    "sectorBoundary.SetLineStyle(2)\n",
    "sectorNum = ROOT.TText(.5,.5,\"test\")\n",
    "sectorNum.SetTextAlign(22)\n",
    "sectorNum.SetTextColor(ROOT.kGray+1)\n",
    "sectorNum.SetTextFont(0)\n",
    "for j in range(19):\n",
    "    sectorBoundary.DrawLine((j*2*math.pi)/18,hist.GetMinimum(),(j*2*math.pi)/18,hist.GetMaximum())\n",
    "    if j < 18 : sectorNum.DrawText(((j+0.5)*2*math.pi)/18,hist.GetMaximum(),str(j))\n",
    "    \n",
    "canvas.Draw()"
   ]
  },
  {
   "cell_type": "code",
   "execution_count": null,
   "id": "d49f0e71",
   "metadata": {},
   "outputs": [],
   "source": [
    "%jsroot on\n",
    "objectName=\"hPhiCside;1\"\n",
    "[hist,legend,canvas,pad1] = drawHistograms(objectName,rootDataFile)\n",
    "\n",
    "#Sector boundatries\n",
    "pad1.cd()\n",
    "sectorBoundary = ROOT.TLine(0,hist.GetMinimum(),0,hist.GetMaximum())\n",
    "sectorBoundary.SetLineStyle(2)\n",
    "sectorNum = ROOT.TText(.5,.5,\"test\")\n",
    "sectorNum.SetTextAlign(22)\n",
    "sectorNum.SetTextColor(ROOT.kGray+1)\n",
    "sectorNum.SetTextFont(0)\n",
    "for j in range(19):\n",
    "    sectorBoundary.DrawLine((j*2*math.pi)/18,hist.GetMinimum(),(j*2*math.pi)/18,hist.GetMaximum())\n",
    "    if j < 18 : sectorNum.DrawText(((j+0.5)*2*math.pi)/18,hist.GetMaximum(),str(j))\n",
    "    \n",
    "canvas.Draw()"
   ]
  },
  {
   "cell_type": "markdown",
   "id": "d1343d5f",
   "metadata": {},
   "source": [
    "#### Eta"
   ]
  },
  {
   "cell_type": "code",
   "execution_count": null,
   "id": "7c2871ea",
   "metadata": {},
   "outputs": [],
   "source": [
    "%jsroot on\n",
    "objectName=\"hEta;1\"\n",
    "[hist,legend,canvas,pad1] = drawHistograms(objectName,rootDataFile)\n",
    "canvas.Draw()"
   ]
  },
  {
   "cell_type": "markdown",
   "id": "151f143b",
   "metadata": {},
   "source": [
    "#### Eta vs phi"
   ]
  },
  {
   "cell_type": "code",
   "execution_count": null,
   "id": "c46708d9",
   "metadata": {},
   "outputs": [],
   "source": [
    "%jsroot on\n",
    "objectName=\"h2DEtaPhi;1\"\n",
    "[hist,legend,canvas,pad1] = drawHistograms(objectName,rootDataFile,drawOption=\"COLZ\",yAxisRange = [-1.1,1.1])\n",
    "canvas.Draw()"
   ]
  },
  {
   "cell_type": "markdown",
   "id": "c2796075",
   "metadata": {},
   "source": [
    "### Track properties"
   ]
  },
  {
   "cell_type": "markdown",
   "id": "7f8e9079",
   "metadata": {},
   "source": [
    "#### nClusters"
   ]
  },
  {
   "cell_type": "code",
   "execution_count": null,
   "id": "86b0458a",
   "metadata": {},
   "outputs": [],
   "source": [
    "%jsroot on\n",
    "objectName=\"hNClustersAfterCuts;1\"\n",
    "[hist,legend,canvas,pad1] = drawHistograms(objectName,rootDataFile,xAxisRange = [50,160])\n",
    "canvas.Draw()"
   ]
  },
  {
   "cell_type": "markdown",
   "id": "4a038c6d",
   "metadata": {},
   "source": [
    "#### nClusters vs eta"
   ]
  },
  {
   "cell_type": "code",
   "execution_count": null,
   "id": "24fbd02f",
   "metadata": {},
   "outputs": [],
   "source": [
    "%jsroot on\n",
    "objectName=\"h2DNClustersEta;1\"\n",
    "[hist,legend,canvas,pad1] = drawHistograms(objectName,rootDataFile,drawOption=\"COLZ\",xAxisRange = [-1.1,1.1],yAxisRange = [50,180])\n",
    "canvas.Draw()"
   ]
  },
  {
   "cell_type": "markdown",
   "id": "aff501d2",
   "metadata": {},
   "source": [
    "#### nClusters vs pT"
   ]
  },
  {
   "cell_type": "code",
   "execution_count": null,
   "id": "3667e650",
   "metadata": {},
   "outputs": [],
   "source": [
    "%jsroot on\n",
    "objectName=\"h2DNClustersPt;1\"\n",
    "[hist,legend,canvas,pad1] = drawHistograms(objectName,rootDataFile,drawOption=\"COLZ\",log=\"logx\",yAxisRange = [50,180])\n",
    "canvas.Draw()"
   ]
  },
  {
   "cell_type": "markdown",
   "id": "af18a446",
   "metadata": {},
   "source": [
    "#### pT"
   ]
  },
  {
   "cell_type": "code",
   "execution_count": null,
   "id": "7200055a",
   "metadata": {},
   "outputs": [],
   "source": [
    "%jsroot on\n",
    "objectName=\"hPt;1\"\n",
    "[hist,legend,canvas,pad1] = drawHistograms(objectName,rootDataFile,log=\"logxy\")\n",
    "canvas.Draw()"
   ]
  },
  {
   "cell_type": "markdown",
   "id": "ea8494a7",
   "metadata": {},
   "source": [
    "#### Q/pT"
   ]
  },
  {
   "cell_type": "code",
   "execution_count": null,
   "id": "54be6298",
   "metadata": {},
   "outputs": [],
   "source": [
    "%jsroot on\n",
    "objectName=\"hQOverPt;1\"\n",
    "[hist,legend,canvas,pad1] = drawHistograms(objectName,rootDataFile)\n",
    "canvas.Draw()"
   ]
  },
  {
   "cell_type": "markdown",
   "id": "160ee70b",
   "metadata": {},
   "source": [
    "#### Sign"
   ]
  },
  {
   "cell_type": "code",
   "execution_count": null,
   "id": "f46a8d9c",
   "metadata": {},
   "outputs": [],
   "source": [
    "%jsroot on\n",
    "objectName=\"hSign;1\"\n",
    "[hist,legend,canvas,pad1] = drawHistograms(objectName,rootDataFile)\n",
    "canvas.Draw()"
   ]
  },
  {
   "cell_type": "markdown",
   "id": "b765236c",
   "metadata": {},
   "source": [
    "### Energy Loss"
   ]
  },
  {
   "cell_type": "markdown",
   "id": "58c470cf",
   "metadata": {},
   "source": [
    "#### dEdxTot for MIPs"
   ]
  },
  {
   "cell_type": "code",
   "execution_count": null,
   "id": "449c3300",
   "metadata": {},
   "outputs": [],
   "source": [
    "%jsroot on\n",
    "objectName=\"hdEdxTotMIP_TPC\"\n",
    "quality = checkHistograms(objectName,rootDataFile,check=\"(histogram.Fit(\\\"gaus\\\",\\\"Sq\\\",\\\"\\\",40,60)) and 48<histogram.GetFunction(\\\"gaus\\\").GetParameter(1)<52\",printQuality=True)\n",
    "[hist,legend,canvas,pad1] = drawHistograms(objectName,rootDataFile,check=quality)\n",
    "\n",
    "myFit = hist.GetFunction(\"gaus\");\n",
    "\n",
    "pad1.cd()\n",
    "#Draw target 50\n",
    "target = ROOT.TLine(50,hist.GetMinimum(),50,hist.GetMaximum())\n",
    "target.SetLineStyle(2)\n",
    "target.SetLineWidth(4)\n",
    "target.Draw()\n",
    "canvas.cd()\n",
    "# Draw fit stats\n",
    "fitMean = ROOT.TText(.55,.8,\"Fit mean = \"+f'{myFit.GetParameter(1):.3f}')\n",
    "fitMean.SetTextAlign(22)\n",
    "fitMean.SetTextFont(43)\n",
    "fitMean.Draw()\n",
    "canvas.Draw()"
   ]
  },
  {
   "cell_type": "markdown",
   "id": "bbbe675d",
   "metadata": {},
   "source": [
    "#### dEdxTot vs p"
   ]
  },
  {
   "cell_type": "code",
   "execution_count": null,
   "id": "3357d556",
   "metadata": {},
   "outputs": [],
   "source": [
    "%jsroot on\n",
    "objectName=\"hdEdxTotVsP_TPC;1\"\n",
    "[hist,legend,canvas,pad1] = drawHistograms(objectName,rootDataFile,drawOption=\"COLZ\",log=\"logxyz\")\n",
    "pad1.cd()\n",
    "canvas.Draw()"
   ]
  },
  {
   "cell_type": "markdown",
   "id": "42c58ba7",
   "metadata": {},
   "source": [
    "#### dEdxTotMip vs sector (phi)"
   ]
  },
  {
   "cell_type": "code",
   "execution_count": null,
   "id": "c10a076d",
   "metadata": {},
   "outputs": [],
   "source": [
    "%jsroot on\n",
    "objectName=\"hdEdxTotMIPVsSec_TPC;1\"\n",
    "[hist,legend,canvas,pad1] = drawHistograms(objectName,rootDataFile,drawOption=\"COLZ\")\n",
    "pad1.cd()\n",
    "target = ROOT.TLine(hist.GetXaxis().GetXmin(),50,hist.GetXaxis().GetXmax(),50)\n",
    "target.SetLineStyle(2)\n",
    "target.SetLineWidth(4)\n",
    "target.Draw()\n",
    "canvas.Draw()"
   ]
  },
  {
   "cell_type": "markdown",
   "id": "26b91a7a",
   "metadata": {},
   "source": [
    "#### dEdxTotMip vs nClusters"
   ]
  },
  {
   "cell_type": "code",
   "execution_count": null,
   "id": "9ac8ef7c",
   "metadata": {},
   "outputs": [],
   "source": [
    "%jsroot on\n",
    "objectName=\"hdEdxTotMIPVsNcl_TPC;1\"\n",
    "[hist,legend,canvas,pad1] = drawHistograms(objectName,rootDataFile,drawOption=\"COLZ\",xAxisRange = [55,180])\n",
    "pad1.cd()\n",
    "target = ROOT.TLine(55,50,153,50)\n",
    "target.SetLineStyle(2)\n",
    "target.SetLineWidth(4)\n",
    "target.Draw()\n",
    "canvas.Draw()#### dEdxTotMip vs sector (phi)"
   ]
  },
  {
   "cell_type": "markdown",
   "id": "b728a4a1",
   "metadata": {},
   "source": [
    "#### dEdxTotMip vs sin(phi)"
   ]
  },
  {
   "cell_type": "code",
   "execution_count": null,
   "id": "0e80ac66",
   "metadata": {},
   "outputs": [],
   "source": [
    "%jsroot on\n",
    "objectName=\"hdEdxTotMIPVsSnp_TPC;1\"\n",
    "[hist,legend,canvas,pad1] = drawHistograms(objectName,rootDataFile,drawOption=\"COLZ\",log=\"logz\")\n",
    "pad1.cd()\n",
    "target = ROOT.TLine(hist.GetXaxis().GetXmin(),50,hist.GetXaxis().GetXmax(),50)\n",
    "target.SetLineStyle(2)\n",
    "target.SetLineWidth(4)\n",
    "target.Draw()\n",
    "canvas.Draw()"
   ]
  },
  {
   "cell_type": "markdown",
   "id": "ebd96556",
   "metadata": {},
   "source": [
    "#### dEdxTotMip vs tan(lambda)"
   ]
  },
  {
   "cell_type": "code",
   "execution_count": null,
   "id": "24c4b4a2",
   "metadata": {},
   "outputs": [],
   "source": [
    "%jsroot on\n",
    "objectName=\"hdEdxTotMIPVsTgl_TPC;1\"\n",
    "[hist,legend,canvas,pad1] = drawHistograms(objectName,rootDataFile,drawOption=\"COLZ\",log=\"logz\")\n",
    "pad1.cd()\n",
    "target = ROOT.TLine(hist.GetXaxis().GetXmin(),50,hist.GetXaxis().GetXmax(),50)\n",
    "target.SetLineStyle(2)\n",
    "target.SetLineWidth(4)\n",
    "target.Draw()\n",
    "canvas.Draw()"
   ]
  },
  {
   "cell_type": "markdown",
   "id": "df7759ae",
   "metadata": {},
   "source": [
    "#### dEdxMax for MIPs"
   ]
  },
  {
   "cell_type": "code",
   "execution_count": null,
   "id": "cf9d1c4d",
   "metadata": {},
   "outputs": [],
   "source": [
    "%jsroot on\n",
    "objectName=\"hdEdxMaxMIP_TPC\"\n",
    "quality = checkHistograms(objectName,rootDataFile,check=\"(histogram.Fit(\\\"gaus\\\",\\\"Sq\\\",\\\"\\\",40,60)) and 48<histogram.GetFunction(\\\"gaus\\\").GetParameter(1)<52\",printQuality=True)\n",
    "[hist,legend,canvas,pad1] = drawHistograms(objectName,rootDataFile,check=quality)\n",
    "\n",
    "myFit = hist.GetFunction(\"gaus\");\n",
    "\n",
    "pad1.cd()\n",
    "#Draw target 50\n",
    "target = ROOT.TLine(50,hist.GetMinimum(),50,hist.GetMaximum())\n",
    "target.SetLineStyle(2)\n",
    "target.SetLineWidth(4)\n",
    "target.Draw()\n",
    "canvas.cd()\n",
    "# Draw fit stats\n",
    "fitMean = ROOT.TText(.55,.8,\"Fit mean = \"+f'{myFit.GetParameter(1):.3f}')\n",
    "fitMean.SetTextAlign(22)\n",
    "fitMean.SetTextFont(43)\n",
    "fitMean.Draw()\n",
    "canvas.Draw()"
   ]
  },
  {
   "cell_type": "markdown",
   "id": "0459bf9b",
   "metadata": {},
   "source": [
    "#### dEdxMax vs p"
   ]
  },
  {
   "cell_type": "code",
   "execution_count": null,
   "id": "e1671d4e",
   "metadata": {},
   "outputs": [],
   "source": [
    "%jsroot on\n",
    "objectName=\"hdEdxMaxVsP_TPC;1\"\n",
    "[hist,legend,canvas,pad1] = drawHistograms(objectName,rootDataFile,drawOption=\"COLZ\",log=\"logxyz\")\n",
    "pad1.cd()\n",
    "canvas.Draw()"
   ]
  },
  {
   "cell_type": "markdown",
   "id": "000103ce",
   "metadata": {},
   "source": [
    "#### dEdxMaxMip vs sector (phi)"
   ]
  },
  {
   "cell_type": "code",
   "execution_count": null,
   "id": "8d03f8dc",
   "metadata": {},
   "outputs": [],
   "source": [
    "%jsroot on\n",
    "objectName=\"hdEdxMaxMIPVsSec_TPC;1\"\n",
    "[hist,legend,canvas,pad1] = drawHistograms(objectName,rootDataFile,drawOption=\"COLZ\")\n",
    "pad1.cd()\n",
    "target = ROOT.TLine(hist.GetXaxis().GetXmin(),50,hist.GetXaxis().GetXmax(),50)\n",
    "target.SetLineStyle(2)\n",
    "target.SetLineWidth(4)\n",
    "target.Draw()\n",
    "canvas.Draw()"
   ]
  },
  {
   "cell_type": "markdown",
   "id": "4ba0e978",
   "metadata": {},
   "source": [
    "#### dEdxMaxMip vs nClusters"
   ]
  },
  {
   "cell_type": "code",
   "execution_count": null,
   "id": "821458b9",
   "metadata": {},
   "outputs": [],
   "source": [
    "%jsroot on\n",
    "objectName=\"hdEdxMaxMIPVsNcl_TPC;1\"\n",
    "[hist,legend,canvas,pad1] = drawHistograms(objectName,rootDataFile,drawOption=\"COLZ\",xAxisRange = [55,180])\n",
    "pad1.cd()\n",
    "target = ROOT.TLine(55,50,153,50)\n",
    "target.SetLineStyle(2)\n",
    "target.SetLineWidth(4)\n",
    "target.Draw()\n",
    "canvas.Draw()#### dEdxTotMip vs sector (phi)"
   ]
  },
  {
   "cell_type": "markdown",
   "id": "67ab5e87",
   "metadata": {},
   "source": [
    "#### dEdxMaxMip vs sin(phi)"
   ]
  },
  {
   "cell_type": "code",
   "execution_count": null,
   "id": "fe8d6fef",
   "metadata": {},
   "outputs": [],
   "source": [
    "%jsroot on\n",
    "objectName=\"hdEdxMaxMIPVsSnp_TPC;1\"\n",
    "[hist,legend,canvas,pad1] = drawHistograms(objectName,rootDataFile,drawOption=\"COLZ\",log=\"logz\")\n",
    "pad1.cd()\n",
    "target = ROOT.TLine(hist.GetXaxis().GetXmin(),50,hist.GetXaxis().GetXmax(),50)\n",
    "target.SetLineStyle(2)\n",
    "target.SetLineWidth(4)\n",
    "target.Draw()\n",
    "canvas.Draw()"
   ]
  },
  {
   "cell_type": "markdown",
   "id": "a4a0ffd1",
   "metadata": {},
   "source": [
    "#### dEdxMaxMip vs tan(lambda)"
   ]
  },
  {
   "cell_type": "code",
   "execution_count": null,
   "id": "a7ee4dfd",
   "metadata": {},
   "outputs": [],
   "source": [
    "%jsroot on\n",
    "objectName=\"hdEdxMaxMIPVsTgl_TPC;1\"\n",
    "[hist,legend,canvas,pad1] = drawHistograms(objectName,rootDataFile,drawOption=\"COLZ\",log=\"logz\")\n",
    "pad1.cd()\n",
    "target = ROOT.TLine(hist.GetXaxis().GetXmin(),50,hist.GetXaxis().GetXmax(),50)\n",
    "target.SetLineStyle(2)\n",
    "target.SetLineWidth(4)\n",
    "target.Draw()\n",
    "canvas.Draw()"
   ]
  }
 ],
 "metadata": {
  "kernelspec": {
   "display_name": "Python 3 (ipykernel)",
   "language": "python",
   "name": "python3"
  },
  "language_info": {
   "codemirror_mode": {
    "name": "ipython",
    "version": 3
   },
   "file_extension": ".py",
   "mimetype": "text/x-python",
   "name": "python",
   "nbconvert_exporter": "python",
   "pygments_lexer": "ipython3",
   "version": "3.9.12"
  },
  "toc": {
   "base_numbering": 1,
   "nav_menu": {},
   "number_sections": false,
   "sideBar": false,
   "skip_h1_title": true,
   "title_cell": "Table of Contents",
   "title_sidebar": "Contents",
   "toc_cell": true,
   "toc_position": {},
   "toc_section_display": true,
   "toc_window_display": false
  }
 },
 "nbformat": 4,
 "nbformat_minor": 5
}
