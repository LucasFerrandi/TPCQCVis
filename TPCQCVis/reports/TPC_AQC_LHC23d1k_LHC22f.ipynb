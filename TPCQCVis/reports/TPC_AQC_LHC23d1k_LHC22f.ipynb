{
 "cells": [
  {
   "cell_type": "markdown",
   "id": "b63ab277",
   "metadata": {
    "editable": true,
    "slideshow": {
     "slide_type": "slide"
    },
    "tags": []
   },
   "source": [
    "# Reporting on TPC QC for LHC23d1k vs LHC22f apass4"
   ]
  },
  {
   "cell_type": "markdown",
   "id": "3c6f9b25",
   "metadata": {
    "editable": true,
    "slideshow": {
     "slide_type": "slide"
    },
    "tags": [],
    "toc": true
   },
   "source": [
    "<h1>Table of Contents<span class=\"tocSkip\"></span></h1>\n",
    "<div class=\"toc\"><ul class=\"toc-item\"><li><span><a href=\"#Tracks\" data-toc-modified-id=\"Tracks-1\">Tracks</a></span><ul class=\"toc-item\"><li><span><a href=\"#Phi-Distributions\" data-toc-modified-id=\"Phi-Distributions-1.1\">Phi Distributions</a></span></li><li><span><a href=\"#Eta-distribution\" data-toc-modified-id=\"Eta-distribution-1.2\">Eta distribution</a></span></li><li><span><a href=\"#Transverse-Momentum-(pT)\" data-toc-modified-id=\"Transverse-Momentum-(pT)-1.3\">Transverse Momentum (pT)</a></span></li><li><span><a href=\"#Sign-of-tracks\" data-toc-modified-id=\"Sign-of-tracks-1.4\">Sign of tracks</a></span></li><li><span><a href=\"#Charge-over-transverse-momentum-(q/pT)\" data-toc-modified-id=\"Charge-over-transverse-momentum-(q/pT)-1.5\">Charge over transverse momentum (q/pT)</a></span></li><li><span><a href=\"#Number-of-clusters\" data-toc-modified-id=\"Number-of-clusters-1.6\">Number of clusters</a></span></li><li><span><a href=\"#Number-of-clusters-vs-phi\" data-toc-modified-id=\"Number-of-clusters-vs-phi-1.7\">Number of clusters vs phi</a></span></li><li><span><a href=\"#Number-of-clusters-vs-eta\" data-toc-modified-id=\"Number-of-clusters-vs-eta-1.8\">Number of clusters vs eta</a></span></li><li><span><a href=\"#Number-of-clusters-vs-pT\" data-toc-modified-id=\"Number-of-clusters-vs-pT-1.9\">Number of clusters vs pT</a></span></li></ul></li><li><span><a href=\"#PID\" data-toc-modified-id=\"PID-2\">PID</a></span><ul class=\"toc-item\"><li><span><a href=\"#dEdxTot-of-MIPs\" data-toc-modified-id=\"dEdxTot-of-MIPs-2.1\">dEdxTot of MIPs</a></span></li><li><span><a href=\"#Number-of-clusters-PID\" data-toc-modified-id=\"Number-of-clusters-PID-2.2\">Number of clusters PID</a></span></li><li><span><a href=\"#MIP-dEdxTot-vs-Sector-(vs-Phi-but-both-sides)\" data-toc-modified-id=\"MIP-dEdxTot-vs-Sector-(vs-Phi-but-both-sides)-2.3\">MIP dEdxTot vs Sector (vs Phi but both sides)</a></span></li><li><span><a href=\"#MIP-dEdxTot-vs-Number-of-Clusters\" data-toc-modified-id=\"MIP-dEdxTot-vs-Number-of-Clusters-2.4\">MIP dEdxTot vs Number of Clusters</a></span></li><li><span><a href=\"#MIP-dEdxTot-vs-sin(phi)\" data-toc-modified-id=\"MIP-dEdxTot-vs-sin(phi)-2.5\">MIP dEdxTot vs sin(phi)</a></span></li><li><span><a href=\"#MIP-dEdxTot-vs-tan(lambda)\" data-toc-modified-id=\"MIP-dEdxTot-vs-tan(lambda)-2.6\">MIP dEdxTot vs tan(lambda)</a></span></li><li><span><a href=\"#dEdx-Tot-vs-momentum-(p)\" data-toc-modified-id=\"dEdx-Tot-vs-momentum-(p)-2.7\">dEdx Tot vs momentum (p)</a></span></li></ul></li></ul></div>"
   ]
  },
  {
   "cell_type": "code",
   "execution_count": null,
   "id": "a36ac537",
   "metadata": {
    "editable": true,
    "slideshow": {
     "slide_type": "skip"
    },
    "tags": []
   },
   "outputs": [],
   "source": [
    "%%capture\n",
    "import ROOT\n",
    "import glob\n",
    "import math\n",
    "import numpy as np\n",
    "from IPython.display import display, Markdown, HTML\n",
    "import ipywidgets as widgets\n",
    "\n",
    "from TPCQCVis.src.drawHistograms import *\n",
    "from TPCQCVis.src.drawTrending import *\n",
    "from TPCQCVis.src.drawMultiTrending import *\n",
    "from TPCQCVis.src.checkHistograms import *\n",
    "from TPCQCVis.src.checkTrending import *\n",
    "from TPCQCVis.src.drawBetheBloch import *"
   ]
  },
  {
   "cell_type": "code",
   "execution_count": null,
   "id": "dd84398a",
   "metadata": {
    "editable": true,
    "slideshow": {
     "slide_type": "skip"
    },
    "tags": []
   },
   "outputs": [],
   "source": [
    "display(HTML(\"<style>.container { width:95% !important; }</style>\"))\n",
    "display(HTML(\"<style>table {float:left;}</style>\"))"
   ]
  },
  {
   "cell_type": "code",
   "execution_count": null,
   "id": "51580389",
   "metadata": {
    "editable": true,
    "slideshow": {
     "slide_type": "skip"
    },
    "tags": []
   },
   "outputs": [],
   "source": [
    "# Read the Root Files for MonteCarlo\n",
    "path_mc = \"/home/berki/cave/alice-tpc-qc/data/sim/2023/LHC23d1k/\"\n",
    "passName_mc = \"LHC23d1k\"\n",
    "fileList_mc = glob.glob(path_mc+\"*_QC.root\")\n",
    "fileList_mc.sort()\n",
    "runList_mc = [fileList_mc[i][-14:-8] for i in range(len(fileList_mc))]\n",
    "rootDataFile_mc = [ROOT.TFile.Open(file,\"READ\") for file in fileList_mc]\n",
    "# Back compatibility\n",
    "runList = runList_mc\n",
    "rootDataFile = rootDataFile_mc\n",
    "passName = passName_mc"
   ]
  },
  {
   "cell_type": "code",
   "execution_count": null,
   "id": "246abfb5-e217-4fdd-9c17-8e198a0c99ed",
   "metadata": {
    "editable": true,
    "slideshow": {
     "slide_type": "skip"
    },
    "tags": []
   },
   "outputs": [],
   "source": [
    "# Read the Root Files for data\n",
    "path_data = \"/home/berki/cave/alice-tpc-qc/data/2022/LHC22f/apass4/\"\n",
    "passName_data = \"LHC22f\"\n",
    "fileList_data = glob.glob(path_data+\"*_QC.root\")\n",
    "fileList_data.sort()\n",
    "runList_data = [fileList_data[i][-14:-8] for i in range(len(fileList_data))]\n",
    "rootDataFile_data = [ROOT.TFile.Open(file,\"READ\") for file in fileList_data]\n",
    "# Back compatibility\n",
    "runList_apass1 = runList_data\n",
    "rootDataFile_apass1 = rootDataFile_data\n",
    "pass1Name = passName_data"
   ]
  },
  {
   "cell_type": "markdown",
   "id": "14c7291b",
   "metadata": {
    "editable": true,
    "slideshow": {
     "slide_type": "slide"
    },
    "tags": []
   },
   "source": [
    "### Tracks"
   ]
  },
  {
   "cell_type": "markdown",
   "id": "bb0572d5-f11a-48f2-937a-17f065d97ec9",
   "metadata": {
    "editable": true,
    "slideshow": {
     "slide_type": "subslide"
    },
    "tags": []
   },
   "source": [
    "#### Phi Distribution - A Side"
   ]
  },
  {
   "cell_type": "code",
   "execution_count": null,
   "id": "4efdfbd7",
   "metadata": {
    "editable": true,
    "slideshow": {
     "slide_type": ""
    },
    "tags": []
   },
   "outputs": [],
   "source": [
    "%jsroot on\n",
    "objectName=\"hPhiAside\"\n",
    "[hist,legend,canvas,pad1,histComp] = drawHistograms(objectName,rootDataFile_mc,normalize=True,\n",
    "                                                              legend=False,yAxisRange=[2.0e-3,3.2e-3],legendNames=runList_mc,\n",
    "                                                              pads=True,compareTo=rootDataFile_data,drawOption=\"SAME L\",\n",
    "                                                              maxColumns=2,ratio=False,grid=False)\n",
    "leg = ROOT.TLegend()\n",
    "leg.AddEntry(hist[0], passName_mc, \"lep\")\n",
    "leg.AddEntry(histComp[0], passName_data, \"lep\")\n",
    "\n",
    "#Sector boundatries\n",
    "for i in range(len(rootDataFile_mc)):\n",
    "    padRun = pad1.cd(i+1)\n",
    "    for typeIndex,histogram in enumerate([hist]):\n",
    "        padRun.cd(typeIndex+1)\n",
    "        sectorBoundary = ROOT.TLine(0,histogram[i].GetMinimum(),0,histogram[i].GetMaximum())\n",
    "        sectorBoundary.SetLineStyle(2)\n",
    "        sectorNum = ROOT.TText(.5,.5,\"test\")\n",
    "        sectorNum.SetTextAlign(22)\n",
    "        sectorNum.SetTextColor(ROOT.kGray+1)\n",
    "        sectorNum.SetTextFont(0)\n",
    "        for j in range(19):\n",
    "            sectorBoundary.DrawLine((j*2*math.pi)/18,histogram[i].GetMinimum(),(j*2*math.pi)/18,histogram[i].GetMaximum())\n",
    "            if j < 18 : sectorNum.DrawText(((j+0.5)*2*math.pi)/18,histogram[i].GetMaximum(),str(j))\n",
    "        if typeIndex==0 :\n",
    "            leg.Draw()\n",
    "canvas.cd()\n",
    "canvas.Draw()"
   ]
  },
  {
   "cell_type": "markdown",
   "id": "4337f746-38ca-43d0-bef3-6826a540f63e",
   "metadata": {
    "editable": true,
    "slideshow": {
     "slide_type": "subslide"
    },
    "tags": []
   },
   "source": [
    "#### Phi Distribution - C Side"
   ]
  },
  {
   "cell_type": "code",
   "execution_count": null,
   "id": "b559bdc2",
   "metadata": {
    "editable": true,
    "slideshow": {
     "slide_type": ""
    },
    "tags": []
   },
   "outputs": [],
   "source": [
    "%jsroot on\n",
    "objectName=\"hPhiCside\"\n",
    "[hist,legend,canvas,pad1,histComp] = drawHistograms(objectName,rootDataFile_mc,normalize=True,\n",
    "                                                              legend=False,yAxisRange=[2.0e-3,3.2e-3],legendNames=runList_mc,\n",
    "                                                              pads=True,compareTo=rootDataFile_data,drawOption=\"SAME L\",\n",
    "                                                              maxColumns=2,ratio=False,grid=False)\n",
    "leg = ROOT.TLegend()\n",
    "leg.AddEntry(hist[0], passName_mc, \"lep\")\n",
    "leg.AddEntry(histComp[0], passName_data, \"lep\")\n",
    "\n",
    "#Sector boundatries\n",
    "for i in range(len(rootDataFile_mc)):\n",
    "    padRun = pad1.cd(i+1)\n",
    "    for typeIndex,histogram in enumerate([hist]):\n",
    "        padRun.cd(typeIndex+1)\n",
    "        sectorBoundary = ROOT.TLine(0,histogram[i].GetMinimum(),0,histogram[i].GetMaximum())\n",
    "        sectorBoundary.SetLineStyle(2)\n",
    "        sectorNum = ROOT.TText(.5,.5,\"test\")\n",
    "        sectorNum.SetTextAlign(22)\n",
    "        sectorNum.SetTextColor(ROOT.kGray+1)\n",
    "        sectorNum.SetTextFont(0)\n",
    "        for j in range(19):\n",
    "            sectorBoundary.DrawLine((j*2*math.pi)/18,histogram[i].GetMinimum(),(j*2*math.pi)/18,histogram[i].GetMaximum())\n",
    "            if j < 18 : sectorNum.DrawText(((j+0.5)*2*math.pi)/18,histogram[i].GetMaximum(),str(j))\n",
    "        if typeIndex==0 :\n",
    "            leg.Draw()\n",
    "canvas.cd()\n",
    "canvas.Draw()"
   ]
  },
  {
   "cell_type": "markdown",
   "id": "ad095272",
   "metadata": {
    "editable": true,
    "slideshow": {
     "slide_type": "slide"
    },
    "tags": []
   },
   "source": [
    "#### Eta distribution"
   ]
  },
  {
   "cell_type": "code",
   "execution_count": null,
   "id": "a02535dd",
   "metadata": {},
   "outputs": [],
   "source": [
    "%jsroot on\n",
    "objectName=\"hEta\"\n",
    "[hist,legend,canvas,pad1,histComp] = drawHistograms(objectName,rootDataFile_mc,normalize=True,\n",
    "                                                              legend=False,xAxisRange=[-1.1,1.1],yAxisRange=[2e-3,8e-3],legendNames=runList_mc,\n",
    "                                                              pads=True,compareTo=rootDataFile_data,drawOption=\"SAME L\",\n",
    "                                                              maxColumns=2, ratio=False)\n",
    "leg = ROOT.TLegend()\n",
    "leg.AddEntry(hist[0], passName_mc, \"lep\")\n",
    "leg.AddEntry(histComp[0], passName_data, \"lep\")\n",
    "\n",
    "#Sector boundatries\n",
    "for i in range(len(rootDataFile_mc)):\n",
    "    padRun = pad1.cd(i+1)\n",
    "    for typeIndex,histogram in enumerate([hist]):\n",
    "        padRun.cd(typeIndex+1)\n",
    "        if typeIndex==0 :\n",
    "            leg.Draw()\n",
    "canvas.cd()\n",
    "canvas.Draw()"
   ]
  },
  {
   "cell_type": "markdown",
   "id": "0051dbde",
   "metadata": {
    "editable": true,
    "slideshow": {
     "slide_type": "subslide"
    },
    "tags": []
   },
   "source": [
    "#### Transverse Momentum (pT)"
   ]
  },
  {
   "cell_type": "code",
   "execution_count": null,
   "id": "d90b5599",
   "metadata": {},
   "outputs": [],
   "source": [
    "%jsroot on\n",
    "objectName=\"hPt\"\n",
    "[hist,legend,canvas,pad1,histComp] = drawHistograms(objectName,rootDataFile_mc,normalize=True,\n",
    "                                                              legend=False,yAxisRange=[1e-5,1e-1],legendNames=runList_mc,\n",
    "                                                              pads=True,compareTo=rootDataFile_data,drawOption=\"SAME L\",\n",
    "                                                              log=\"logxy\",maxColumns=2,ratio=False)\n",
    "leg = ROOT.TLegend()\n",
    "leg.AddEntry(hist[0], passName_mc, \"lep\")\n",
    "leg.AddEntry(histComp[0], passName_data, \"lep\")\n",
    "\n",
    "#Sector boundatries\n",
    "for i in range(len(rootDataFile_mc)):\n",
    "    padRun = pad1.cd(i+1)\n",
    "    for typeIndex,histogram in enumerate([hist]):\n",
    "        padRun.cd(typeIndex+1)\n",
    "        if typeIndex==0 :\n",
    "            leg.Draw()\n",
    "canvas.cd()\n",
    "canvas.Draw()"
   ]
  },
  {
   "cell_type": "markdown",
   "id": "a6a70262",
   "metadata": {
    "editable": true,
    "slideshow": {
     "slide_type": "subslide"
    },
    "tags": []
   },
   "source": [
    "#### Sign of tracks"
   ]
  },
  {
   "cell_type": "code",
   "execution_count": null,
   "id": "d60cbff0",
   "metadata": {},
   "outputs": [],
   "source": [
    "%jsroot on\n",
    "objectName=\"hSign\"\n",
    "[hist,legend,canvas,pad1,histComp] = drawHistograms(objectName,rootDataFile,normalize=True,\n",
    "                                                              legend=False,legendNames=runList,\n",
    "                                                              pads=True,compareTo=rootDataFile_apass1,drawOption=\"SAME HIST\",\n",
    "                                                              maxColumns=2, ratio=False)\n",
    "leg = ROOT.TLegend()\n",
    "leg.AddEntry(hist[0], passName, \"lep\")\n",
    "leg.AddEntry(histComp[0], pass1Name, \"lep\")\n",
    "\n",
    "#Sector boundatries\n",
    "for i in range(len(rootDataFile)):\n",
    "    padRun = pad1.cd(i+1)\n",
    "    for typeIndex,histogram in enumerate([hist]):\n",
    "        padRun.cd(typeIndex+1)\n",
    "        if typeIndex==0 :\n",
    "            leg.Draw()\n",
    "canvas.cd()\n",
    "canvas.Draw()"
   ]
  },
  {
   "cell_type": "markdown",
   "id": "cf18ffbd",
   "metadata": {
    "editable": true,
    "slideshow": {
     "slide_type": "subslide"
    },
    "tags": []
   },
   "source": [
    "#### Charge over transverse momentum (q/pT)"
   ]
  },
  {
   "cell_type": "code",
   "execution_count": null,
   "id": "25525399",
   "metadata": {},
   "outputs": [],
   "source": [
    "%jsroot on\n",
    "objectName=\"hQOverPt\"\n",
    "[hist,legend,canvas,pad1,histComp] = drawHistograms(objectName,rootDataFile,normalize=True,\n",
    "                                                              legend=False,legendNames=runList,\n",
    "                                                              pads=True,compareTo=rootDataFile_apass1,drawOption=\"SAME HIST\",\n",
    "                                                              maxColumns=2, ratio=False)\n",
    "leg = ROOT.TLegend()\n",
    "leg.AddEntry(hist[0], passName, \"lep\")\n",
    "leg.AddEntry(histComp[0], pass1Name, \"lep\")\n",
    "\n",
    "#Sector boundatries\n",
    "for i in range(len(rootDataFile)):\n",
    "    padRun = pad1.cd(i+1)\n",
    "    for typeIndex,histogram in enumerate([hist]):\n",
    "        padRun.cd(typeIndex+1)\n",
    "        if typeIndex==0 :\n",
    "            leg.Draw()\n",
    "canvas.cd()\n",
    "canvas.Draw()"
   ]
  },
  {
   "cell_type": "markdown",
   "id": "81e68207",
   "metadata": {
    "editable": true,
    "slideshow": {
     "slide_type": "subslide"
    },
    "tags": []
   },
   "source": [
    "#### Number of clusters"
   ]
  },
  {
   "cell_type": "code",
   "execution_count": null,
   "id": "ff61010a",
   "metadata": {},
   "outputs": [],
   "source": [
    "%jsroot on\n",
    "objectName=\"hNClustersAfterCuts\"\n",
    "[hist,legend,canvas,pad1,histComp] = drawHistograms(objectName,rootDataFile,normalize=True,\n",
    "                                                              legend=False,legendNames=runList,\n",
    "                                                              xAxisRange=[50,160],yAxisRange=[0,42e-3],\n",
    "                                                              pads=True,compareTo=rootDataFile_apass1,drawOption=\"SAME HIST\",\n",
    "                                                              maxColumns=2, ratio=False)\n",
    "leg = ROOT.TLegend()\n",
    "leg.AddEntry(hist[0], passName, \"lep\")\n",
    "leg.AddEntry(histComp[0], pass1Name, \"lep\")\n",
    "\n",
    "#Sector boundatries\n",
    "for i in range(len(rootDataFile)):\n",
    "    padRun = pad1.cd(i+1)\n",
    "    for typeIndex,histogram in enumerate([hist]):\n",
    "        padRun.cd(typeIndex+1)\n",
    "        if typeIndex==0 :\n",
    "            leg.Draw()\n",
    "canvas.cd()\n",
    "canvas.Draw()"
   ]
  },
  {
   "cell_type": "markdown",
   "id": "5e9bc60e",
   "metadata": {
    "editable": true,
    "slideshow": {
     "slide_type": "subslide"
    },
    "tags": []
   },
   "source": [
    "#### Number of clusters vs phi"
   ]
  },
  {
   "cell_type": "code",
   "execution_count": null,
   "id": "d93ae84a",
   "metadata": {
    "editable": true,
    "slideshow": {
     "slide_type": ""
    },
    "tags": []
   },
   "outputs": [],
   "source": [
    "%jsroot on\n",
    "objectName=\"h2DNClustersPhiAside\"\n",
    "[hist,legend,canvas,pad1,histComp] = drawHistograms(objectName, rootDataFile, normalize=True, compareTo=rootDataFile_apass1,\n",
    "                                                              legend=False, yAxisRange = [50,170],legendNames=runList,\n",
    "                                                              pads=True, drawOption=\"COLZ\", maxColumns=2, ratio=False)\n",
    "leg1 = ROOT.TLegend()\n",
    "leg1.AddEntry(hist[0], passName, \"p\")\n",
    "leg2 = ROOT.TLegend()\n",
    "leg2.AddEntry(histComp[0], pass1Name, \"p\")\n",
    "\n",
    "for i in range(len(rootDataFile)):\n",
    "    padRun = pad1.cd(i+1)\n",
    "    for typeIndex,histogram in enumerate([hist,histComp]):\n",
    "        padRun.cd(typeIndex+1)\n",
    "        sectorBoundary = ROOT.TLine(0,50,0,170)\n",
    "        sectorBoundary.SetLineStyle(2)\n",
    "        sectorNum = ROOT.TText(.5,.5,\"test\")\n",
    "        sectorNum.SetTextAlign(22)\n",
    "        sectorNum.SetTextColor(ROOT.kGray+1)\n",
    "        sectorNum.SetTextFont(0)\n",
    "        for j in range(19):\n",
    "            sectorBoundary.DrawLine((j*2*math.pi)/18,50,(j*2*math.pi)/18,170)\n",
    "            if j < 18 : sectorNum.DrawText(((j+0.5)*2*math.pi)/18,55,str(j))\n",
    "        if typeIndex == 0 : leg1.Draw()\n",
    "        elif typeIndex == 1 : leg2.Draw()\n",
    "canvas.Draw()"
   ]
  },
  {
   "cell_type": "code",
   "execution_count": null,
   "id": "b5b26059",
   "metadata": {},
   "outputs": [],
   "source": [
    "%jsroot on\n",
    "objectName=\"h2DNClustersPhiCside\"\n",
    "[hist,legend,canvas,pad1,histComp] = drawHistograms(objectName, rootDataFile, normalize=True, compareTo=rootDataFile_apass1,\n",
    "                                                              legend=False, yAxisRange = [50,170],legendNames=runList,\n",
    "                                                              pads=True, drawOption=\"COLZ\", maxColumns=2, ratio=False)\n",
    "leg1 = ROOT.TLegend()\n",
    "leg1.AddEntry(hist[0], passName, \"p\")\n",
    "leg2 = ROOT.TLegend()\n",
    "leg2.AddEntry(histComp[0], pass1Name, \"p\")\n",
    "\n",
    "for i in range(len(rootDataFile)):\n",
    "    padRun = pad1.cd(i+1)\n",
    "    for typeIndex,histogram in enumerate([hist,histComp]):\n",
    "        padRun.cd(typeIndex+1)\n",
    "        sectorBoundary = ROOT.TLine(0,50,0,170)\n",
    "        sectorBoundary.SetLineStyle(2)\n",
    "        sectorNum = ROOT.TText(.5,.5,\"test\")\n",
    "        sectorNum.SetTextAlign(22)\n",
    "        sectorNum.SetTextColor(ROOT.kGray+1)\n",
    "        sectorNum.SetTextFont(0)\n",
    "        for j in range(19):\n",
    "            sectorBoundary.DrawLine((j*2*math.pi)/18,50,(j*2*math.pi)/18,170)\n",
    "            if j < 18 : sectorNum.DrawText(((j+0.5)*2*math.pi)/18,55,str(j))\n",
    "        if typeIndex == 0 : leg1.Draw()\n",
    "        elif typeIndex == 1 : leg2.Draw()\n",
    "canvas.Draw()"
   ]
  },
  {
   "cell_type": "markdown",
   "id": "58173929",
   "metadata": {},
   "source": [
    "#### Number of clusters vs eta"
   ]
  },
  {
   "cell_type": "code",
   "execution_count": null,
   "id": "21c09a4c",
   "metadata": {},
   "outputs": [],
   "source": [
    "%jsroot on\n",
    "objectName=\"h2DNClustersEta\"\n",
    "[hist,legend,canvas,pad1,histComp] = drawHistograms(objectName, rootDataFile, normalize=True, compareTo=rootDataFile_apass1,\n",
    "                                                              legend=False, xAxisRange = [-1.1,1.1], yAxisRange = [50,170],legendNames=runList,\n",
    "                                                              pads=True, drawOption=\"COLZ\", maxColumns=2, ratio=False)\n",
    "leg1 = ROOT.TLegend()\n",
    "leg1.AddEntry(hist[0], passName, \"p\")\n",
    "leg2 = ROOT.TLegend()\n",
    "leg2.AddEntry(histComp[0], pass1Name, \"p\")\n",
    "\n",
    "for i in range(len(rootDataFile)):\n",
    "    padRun = pad1.cd(i+1)\n",
    "    for typeIndex,histogram in enumerate([hist,histComp]):\n",
    "        padRun.cd(typeIndex+1)\n",
    "        if typeIndex == 0 : leg1.Draw()\n",
    "        elif typeIndex == 1 : leg2.Draw()\n",
    "canvas.Draw()"
   ]
  },
  {
   "cell_type": "markdown",
   "id": "1ed7a291",
   "metadata": {},
   "source": [
    "#### Number of clusters vs pT"
   ]
  },
  {
   "cell_type": "code",
   "execution_count": null,
   "id": "3eb41d4b",
   "metadata": {},
   "outputs": [],
   "source": [
    "%jsroot on\n",
    "objectName=\"h2DNClustersPt\"\n",
    "[hist,legend,canvas,pad1,histComp] = drawHistograms(objectName, rootDataFile, normalize=True, compareTo=rootDataFile_apass1,\n",
    "                                                              legend=False, yAxisRange = [50,170],legendNames=runList,\n",
    "                                                              log=\"logx\",pads=True, drawOption=\"COLZ\", maxColumns=2,ratio=False)\n",
    "leg1 = ROOT.TLegend()\n",
    "leg1.AddEntry(hist[0], passName, \"p\")\n",
    "leg2 = ROOT.TLegend()\n",
    "leg2.AddEntry(histComp[0], pass1Name, \"p\")\n",
    "\n",
    "for i in range(len(rootDataFile)):\n",
    "    padRun = pad1.cd(i+1)\n",
    "    for typeIndex,histogram in enumerate([hist,histComp]):\n",
    "        padRun.cd(typeIndex+1)\n",
    "        if typeIndex == 0 : leg1.Draw()\n",
    "        elif typeIndex == 1 : leg2.Draw()\n",
    "canvas.Draw()"
   ]
  },
  {
   "cell_type": "markdown",
   "id": "dd8bdb1b",
   "metadata": {},
   "source": [
    "### PID"
   ]
  },
  {
   "cell_type": "markdown",
   "id": "cbc78f68",
   "metadata": {},
   "source": [
    "#### dEdxTot of MIPs"
   ]
  },
  {
   "cell_type": "code",
   "execution_count": null,
   "id": "788ead7e",
   "metadata": {},
   "outputs": [],
   "source": [
    "%jsroot on\n",
    "objectName=\"hdEdxTotMIP_TPC\"\n",
    "[hist,legend,canvas,pad1,histComp] = drawHistograms(objectName,rootDataFile,normalize=True,\n",
    "                                                              legend=False,legendNames=runList,\n",
    "                                                              pads=True,compareTo=rootDataFile_apass1,drawOption=\"SAME HIST\",\n",
    "                                                              log=\"logx\",yAxisRange=[0,0.12],maxColumns=2,ratio=False)\n",
    "leg = ROOT.TLegend()\n",
    "leg.AddEntry(hist[0], passName, \"lep\")\n",
    "leg.AddEntry(histComp[0], pass1Name, \"lep\")\n",
    "\n",
    "#Sector boundatries\n",
    "for i in range(len(rootDataFile)):\n",
    "    padRun = pad1.cd(i+1)\n",
    "    for typeIndex,histogram in enumerate([hist]):\n",
    "        padRun.cd(typeIndex+1)\n",
    "        sectorBoundary = ROOT.TLine()\n",
    "        sectorBoundary.SetLineStyle(1)\n",
    "        sectorBoundary.SetLineColor(ROOT.kGray+2)\n",
    "        sectorBoundary.SetLineWidth(2)\n",
    "        sectorBoundary.DrawLine(50,0,50,0.12)\n",
    "        if typeIndex==0 :\n",
    "            leg.Draw()\n",
    "\n",
    "for i,histogram in enumerate(hist+histComp):\n",
    "    histogram.SetStats(1)\n",
    "    histogram.Fit(\"gaus\",\"Sq\",\"\",30,70)\n",
    "    myFit = histogram.GetFunction(\"gaus\")\n",
    "    print((runList+runList_apass1)[i],\": mean=\",myFit.GetParameter(1),\"sigma=\",myFit.GetParameter(2))\n",
    "    myFit.SetLineColor(histogram.GetLineColor())\n",
    "    \n",
    "canvas.cd()\n",
    "canvas.Draw()"
   ]
  },
  {
   "cell_type": "markdown",
   "id": "96d05f4c",
   "metadata": {},
   "source": [
    "#### Number of clusters PID"
   ]
  },
  {
   "cell_type": "code",
   "execution_count": null,
   "id": "7accdf2b",
   "metadata": {},
   "outputs": [],
   "source": [
    "%jsroot on\n",
    "objectName=\"hNClsPID\"\n",
    "[hist,legend,canvas,pad1,histComp] = drawHistograms(objectName,rootDataFile,normalize=True,\n",
    "                                                              legend=False,legendNames=runList,\n",
    "                                                              pads=True,compareTo=rootDataFile_apass1,drawOption=\"SAME HIST\",\n",
    "                                                              xAxisRange=[50,160],yAxisRange=[0,0.045],maxColumns=2,ratio=False)\n",
    "leg = ROOT.TLegend()\n",
    "leg.AddEntry(hist[0], passName, \"lep\")\n",
    "leg.AddEntry(histComp[0], pass1Name, \"lep\")\n",
    "\n",
    "#Sector boundatries\n",
    "for i in range(len(rootDataFile)):\n",
    "    padRun = pad1.cd(i+1)\n",
    "    for typeIndex,histogram in enumerate([hist]):\n",
    "        padRun.cd(typeIndex+1)\n",
    "        if typeIndex==0 :\n",
    "            leg.Draw()\n",
    "canvas.cd()\n",
    "canvas.Draw()"
   ]
  },
  {
   "cell_type": "markdown",
   "id": "5670aaab",
   "metadata": {},
   "source": [
    "#### MIP dEdxTot vs Sector (vs Phi but both sides)"
   ]
  },
  {
   "cell_type": "code",
   "execution_count": null,
   "id": "9bbc7285",
   "metadata": {},
   "outputs": [],
   "source": [
    "%jsroot on\n",
    "objectName=\"hdEdxTotMIPVsSec_TPC\"\n",
    "[hist,legend,canvas,pad1,histComp] = drawHistograms(objectName, rootDataFile, normalize=True, compareTo=rootDataFile_apass1,\n",
    "                                                              legend=False,log=\"logz\",legendNames=runList,\n",
    "                                                              pads=True, drawOption=\"COLZ\", maxColumns=2,ratio=False)\n",
    "leg1 = ROOT.TLegend()\n",
    "leg1.AddEntry(hist[0], passName, \"p\")\n",
    "leg2 = ROOT.TLegend()\n",
    "leg2.AddEntry(histComp[0], pass1Name, \"p\")\n",
    "\n",
    "for i in range(len(rootDataFile)):\n",
    "    padRun = pad1.cd(i+1)\n",
    "    for typeIndex,histogram in enumerate([hist,histComp]):\n",
    "        padRun.cd(typeIndex+1)\n",
    "        sectorBoundary = ROOT.TLine()\n",
    "        sectorBoundary.SetLineStyle(1)\n",
    "        sectorBoundary.SetLineColor(ROOT.kGray+2)\n",
    "        sectorBoundary.SetLineWidth(2)\n",
    "        sectorBoundary.DrawLine(0,50,36,50)\n",
    "        if typeIndex == 0 : leg1.Draw()\n",
    "        elif typeIndex == 1 : leg2.Draw()\n",
    "canvas.Draw()"
   ]
  },
  {
   "cell_type": "markdown",
   "id": "adc250f3",
   "metadata": {},
   "source": [
    "#### MIP dEdxTot vs Number of Clusters"
   ]
  },
  {
   "cell_type": "code",
   "execution_count": null,
   "id": "e0ac8a1a",
   "metadata": {},
   "outputs": [],
   "source": [
    "%jsroot on\n",
    "objectName=\"hdEdxTotMIPVsNcl_TPC\"\n",
    "[hist,legend,canvas,pad1,histComp] = drawHistograms(objectName, rootDataFile, normalize=True, compareTo=rootDataFile_apass1,\n",
    "                                                              legend=False, xAxisRange=[60,160],log=\"logz\",legendNames=runList,\n",
    "                                                              pads=True, drawOption=\"COLZ\", maxColumns=2, ratio=False)\n",
    "leg1 = ROOT.TLegend()\n",
    "leg1.AddEntry(hist[0], passName, \"p\")\n",
    "leg2 = ROOT.TLegend()\n",
    "leg2.AddEntry(histComp[0], pass1Name, \"p\")\n",
    "\n",
    "for i in range(len(rootDataFile)):\n",
    "    padRun = pad1.cd(i+1)\n",
    "    for typeIndex,histogram in enumerate([hist,histComp]):\n",
    "        padRun.cd(typeIndex+1)\n",
    "        sectorBoundary = ROOT.TLine()\n",
    "        sectorBoundary.SetLineStyle(1)\n",
    "        sectorBoundary.SetLineColor(ROOT.kGray+2)\n",
    "        sectorBoundary.SetLineWidth(2)\n",
    "        sectorBoundary.DrawLine(60,50,152,50)\n",
    "        if typeIndex == 0 : leg1.Draw()\n",
    "        elif typeIndex == 1 : leg2.Draw()\n",
    "canvas.Draw()"
   ]
  },
  {
   "cell_type": "markdown",
   "id": "7ef61d9d",
   "metadata": {},
   "source": [
    "#### MIP dEdxTot vs sin(phi)"
   ]
  },
  {
   "cell_type": "code",
   "execution_count": null,
   "id": "caf606e8",
   "metadata": {},
   "outputs": [],
   "source": [
    "%jsroot on\n",
    "objectName=\"hdEdxTotMIPVsSnp_TPC\"\n",
    "[hist,legend,canvas,pad1,histComp] = drawHistograms(objectName, rootDataFile, normalize=True, compareTo=rootDataFile_apass1,\n",
    "                                                              legend=False,log=\"logz\",legendNames=runList,\n",
    "                                                              pads=True, drawOption=\"COLZ\", maxColumns=2, ratio=False)\n",
    "leg1 = ROOT.TLegend()\n",
    "leg1.AddEntry(hist[0], passName, \"p\")\n",
    "leg2 = ROOT.TLegend()\n",
    "leg2.AddEntry(histComp[0], pass1Name, \"p\")\n",
    "\n",
    "for i in range(len(rootDataFile)):\n",
    "    padRun = pad1.cd(i+1)\n",
    "    for typeIndex,histogram in enumerate([hist,histComp]):\n",
    "        padRun.cd(typeIndex+1)\n",
    "        sectorBoundary = ROOT.TLine()\n",
    "        sectorBoundary.SetLineStyle(1)\n",
    "        sectorBoundary.SetLineColor(ROOT.kGray+2)\n",
    "        sectorBoundary.SetLineWidth(2)\n",
    "        sectorBoundary.DrawLine(-1,50,1,50)\n",
    "        if typeIndex == 0 : leg1.Draw()\n",
    "        elif typeIndex == 1 : leg2.Draw()\n",
    "canvas.Draw()"
   ]
  },
  {
   "cell_type": "markdown",
   "id": "99ba9b5a",
   "metadata": {},
   "source": [
    "#### MIP dEdxTot vs tan(lambda)"
   ]
  },
  {
   "cell_type": "code",
   "execution_count": null,
   "id": "cc474f31",
   "metadata": {},
   "outputs": [],
   "source": [
    "%jsroot on\n",
    "objectName=\"hdEdxTotMIPVsTgl_TPC\"\n",
    "[hist,legend,canvas,pad1,histComp] = drawHistograms(objectName, rootDataFile, normalize=True, compareTo=rootDataFile_apass1,\n",
    "                                                              legend=False,log=\"logz\",legendNames=runList,\n",
    "                                                              pads=True, drawOption=\"COLZ\", maxColumns=2 ,ratio=False)\n",
    "leg1 = ROOT.TLegend()\n",
    "leg1.AddEntry(hist[0], passName, \"p\")\n",
    "leg2 = ROOT.TLegend()\n",
    "leg2.AddEntry(histComp[0], pass1Name, \"p\")\n",
    "\n",
    "for i in range(len(rootDataFile)):\n",
    "    padRun = pad1.cd(i+1)\n",
    "    for typeIndex,histogram in enumerate([hist,histComp]):\n",
    "        padRun.cd(typeIndex+1)\n",
    "        sectorBoundary = ROOT.TLine()\n",
    "        sectorBoundary.SetLineStyle(1)\n",
    "        sectorBoundary.SetLineColor(ROOT.kGray+2)\n",
    "        sectorBoundary.SetLineWidth(2)\n",
    "        sectorBoundary.DrawLine(-2,50,2,50)\n",
    "        if typeIndex == 0 : leg1.Draw()\n",
    "        elif typeIndex == 1 : leg2.Draw()\n",
    "canvas.Draw()"
   ]
  },
  {
   "cell_type": "markdown",
   "id": "e83082c3",
   "metadata": {},
   "source": [
    "#### dEdx Tot vs momentum (p)"
   ]
  },
  {
   "cell_type": "code",
   "execution_count": null,
   "id": "b8a2d665",
   "metadata": {},
   "outputs": [],
   "source": [
    "%jsroot on\n",
    "objectName=\"hdEdxTotVsP_TPC\"\n",
    "[hist,legend,canvas,pad1,histComp,histRatio] = drawHistograms(objectName, rootDataFile, normalize=True, compareTo=rootDataFile_apass1,\n",
    "                                                              legend=False, legendNames=runList,log=\"logxyz\",\n",
    "                                                              pads=True, drawOption=\"COLZ\", maxColumns=1)\n",
    "leg1 = ROOT.TLegend()\n",
    "leg1.AddEntry(hist[0], passName, \"p\")\n",
    "leg2 = ROOT.TLegend()\n",
    "leg2.AddEntry(histComp[0], pass1Name, \"p\")\n",
    "betheBlochLines = [getBetheBloch([run]) for run in runList] \n",
    "\n",
    "for i in range(len(rootDataFile)):\n",
    "    padRun = pad1.cd(i+1)\n",
    "    for typeIndex,histogram in enumerate([hist,histComp,histRatio]):\n",
    "        myPad = padRun.cd(typeIndex+1)\n",
    "        myPad = drawBetheBloch(betheBlochLines[i],myPad)\n",
    "        sectorBoundary = ROOT.TLine()\n",
    "        sectorBoundary.SetLineStyle(1)\n",
    "        sectorBoundary.SetLineColor(ROOT.kGray+2)\n",
    "        sectorBoundary.SetLineWidth(2)\n",
    "        sectorBoundary.DrawLine(0,50,20,50)\n",
    "        if typeIndex == 0 : leg1.Draw()\n",
    "        elif typeIndex == 1 : leg2.Draw()\n",
    "canvas.Draw()"
   ]
  },
  {
   "cell_type": "code",
   "execution_count": null,
   "id": "2040e0c4-81f6-4f07-a8e1-420dcafc852d",
   "metadata": {},
   "outputs": [],
   "source": []
  },
  {
   "cell_type": "code",
   "execution_count": null,
   "id": "c0d5f8ed-bb66-4016-9fa7-65b13c112dc6",
   "metadata": {},
   "outputs": [],
   "source": []
  }
 ],
 "metadata": {
  "kernelspec": {
   "display_name": "Python 3 (ipykernel)",
   "language": "python",
   "name": "python3"
  },
  "language_info": {
   "codemirror_mode": {
    "name": "ipython",
    "version": 3
   },
   "file_extension": ".py",
   "mimetype": "text/x-python",
   "name": "python",
   "nbconvert_exporter": "python",
   "pygments_lexer": "ipython3",
   "version": "3.9.16"
  },
  "toc": {
   "base_numbering": 1,
   "nav_menu": {},
   "number_sections": false,
   "sideBar": false,
   "skip_h1_title": true,
   "title_cell": "Table of Contents",
   "title_sidebar": "Contents",
   "toc_cell": true,
   "toc_position": {},
   "toc_section_display": true,
   "toc_window_display": false
  }
 },
 "nbformat": 4,
 "nbformat_minor": 5
}
