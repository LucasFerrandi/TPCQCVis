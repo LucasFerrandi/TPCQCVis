{
 "cells": [
  {
   "cell_type": "code",
   "execution_count": null,
   "id": "b809e4fb",
   "metadata": {},
   "outputs": [],
   "source": [
    "import ROOT\n",
    "import glob\n",
    "import math\n",
    "import pandas as pd, numpy as np\n",
    "import matplotlib\n",
    "import matplotlib.pyplot as plt\n",
    "from IPython.display import display, Markdown, HTML\n",
    "display(HTML(\"<style>.container { width:90% !important; }</style>\"))"
   ]
  },
  {
   "cell_type": "code",
   "execution_count": null,
   "id": "8938dece",
   "metadata": {},
   "outputs": [],
   "source": [
    "path = \"/home/berki/Software/TPCQCVis/data/userFiles/\"\n",
    "f = ROOT.TFile.Open(path+\"clusterInvestigation.root\",\"READ\")\n",
    "clus = f.Get(\"Clusters;1\")"
   ]
  },
  {
   "cell_type": "code",
   "execution_count": null,
   "id": "553decc3",
   "metadata": {},
   "outputs": [],
   "source": []
  },
  {
   "cell_type": "code",
   "execution_count": null,
   "id": "21dcc0a7",
   "metadata": {},
   "outputs": [],
   "source": [
    "# Extract info from all the MOs\n",
    "df = pd.DataFrame()\n",
    "\n",
    "for name in [\"Q_Max\",\"Q_Tot\",\"Sigma_Time\",\"Sigma_Pad\",\"Time_Bin\",\"N_Clusters\"]:\n",
    "    means_a=[]\n",
    "    stdDevs_a=[]\n",
    "    means_c=[]\n",
    "    stdDevs_c=[]\n",
    "    entries=[]\n",
    "    for i in range(2018):\n",
    "        c = clus.Get(\"c_Sides_\"+name+\";\"+str(i+1))\n",
    "        hist_a = c.GetPrimitive(\"c_Sides_\"+name+\"_3\").GetPrimitive(\"h_Aside_1D_\"+name)\n",
    "        hist_a.GetXaxis().SetRange(2,hist_a.GetNbinsX())\n",
    "        entries.append(hist_a.GetEntries())\n",
    "        means_a.append(hist_a.GetMean())\n",
    "        stdDevs_a.append(hist_a.GetStdDev())\n",
    "        hist_c = c.GetPrimitive(\"c_Sides_\"+name+\"_4\").GetPrimitive(\"h_Cside_1D_\"+name)\n",
    "        hist_c.GetXaxis().SetRange(2,hist_c.GetNbinsX())\n",
    "        means_c.append(hist_c.GetMean())\n",
    "        stdDevs_c.append(hist_c.GetStdDev())\n",
    "    #print(means)\n",
    "    df[name+'_entries'] = entries\n",
    "    df[name+'_A'] = means_a\n",
    "    df[name+'_C'] = means_c\n",
    "    df[name] = (df[name+'_A']+df[name+'_C'])/2\n",
    "    df[name+'_A_stdDev'] = stdDevs_a\n",
    "    df[name+'_C_stdDev'] = stdDevs_c"
   ]
  },
  {
   "cell_type": "code",
   "execution_count": null,
   "id": "36f8a8ac",
   "metadata": {},
   "outputs": [],
   "source": [
    "# Add runNumber metaData to values\n",
    "df[\"runNumber\"] = list(selected_files[selected_files[\"Name\"]==\"c_Sides_Q_Max\"].RunNumber)"
   ]
  },
  {
   "cell_type": "code",
   "execution_count": null,
   "id": "6441170c",
   "metadata": {},
   "outputs": [],
   "source": [
    "# Aggregate the df to have one entry per runNumber\n",
    "#aggregation_functions = {'price': 'sum', 'amount': 'sum', 'name': 'first'}\n",
    "#df_new = df.groupby(df['id']).aggregate(aggregation_functions)\n",
    "df_new = df.groupby(df['runNumber']).last()\n",
    "df_new"
   ]
  },
  {
   "cell_type": "code",
   "execution_count": null,
   "id": "3b63aaf6",
   "metadata": {},
   "outputs": [],
   "source": [
    "plt.rcParams[\"figure.figsize\"] = (30,10)\n",
    "ax = plt.gca()\n",
    "df_new[df_new[\"Sigma_Time\"]>0].reset_index().plot(x='runNumber',y='Sigma_Time',kind='scatter',ax=ax)\n",
    "\n",
    "plt.show()"
   ]
  },
  {
   "cell_type": "code",
   "execution_count": null,
   "id": "75760f30",
   "metadata": {},
   "outputs": [],
   "source": [
    "selected_files"
   ]
  },
  {
   "cell_type": "code",
   "execution_count": null,
   "id": "33e9908c",
   "metadata": {},
   "outputs": [],
   "source": [
    "len(set(list(selected_files[selected_files[\"Name\"]==\"c_Sides_Q_Max\"].RunNumber)))"
   ]
  }
 ],
 "metadata": {
  "kernelspec": {
   "display_name": "Python 3 (ipykernel)",
   "language": "python",
   "name": "python3"
  },
  "language_info": {
   "codemirror_mode": {
    "name": "ipython",
    "version": 3
   },
   "file_extension": ".py",
   "mimetype": "text/x-python",
   "name": "python",
   "nbconvert_exporter": "python",
   "pygments_lexer": "ipython3",
   "version": "3.6.10"
  }
 },
 "nbformat": 4,
 "nbformat_minor": 5
}
