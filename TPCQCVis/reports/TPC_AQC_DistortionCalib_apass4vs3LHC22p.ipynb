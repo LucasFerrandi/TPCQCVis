{
 "cells": [
  {
   "cell_type": "markdown",
   "id": "14f89f30",
   "metadata": {},
   "source": [
    "# TPC Async QC - Distortion Calib v1 - LHC22p apass4 vs apass3\n",
    "## Overview\n",
    "**Links:**\n",
    "> Production JIRA: https://alice.its.cern.ch/jira/browse/O2-3701 <br />\n",
    "> Preliminary information on the runs: <br />\n",
    "> https://docs.google.com/spreadsheets/d/14vXFYVx3oVE8wgJKmIBhjvAt6NpGp7D6H4AmBM9E0Cw/edit#gid=29745819\n",
    "\n",
    "**Settings:**\n",
    "+ B = -0.5 T\n",
    "+ beam = pp\n",
    "+ energy (sqrt) = 13.6 TeV\n",
    "\n",
    "**General notes:**\n",
    "+ Scan runs\n",
    "  + No previous apass to compare to\n",
    "+ Long tracks in general (similar to what is seen in LHC22m apass4)\n",
    "  + New spike at nClusters = 152\n",
    "  + Almost looks like an overflow bin (altough there are tracks with nClusters>152)\n",
    "  + Localized to the middle of sectors\n",
    "  + Spike distinguised in pT distribution (pT ~500 MeV/c), but observed across full eta\n",
    "  + Effect not evident in dEdx plots\n",
    "+ Asymmetry between sides in run 528675\n",
    "  + Evident in eta plots\n",
    "\n",
    "**Runs:**\n",
    "| Period | Run number | FTV0X rate | Duration | TPC Quality | Comment |\n",
    "|:---:|:---:|:---:|:---:|:---:|:---:|\n",
    "| LHC22p |528675|2918|00:26:24|`GOOD`|  |\n",
    "| LHC22p |528699|2892|00:47:22|`GOOD`|  |"
   ]
  },
  {
   "cell_type": "markdown",
   "id": "09b16f6b",
   "metadata": {
    "toc": true
   },
   "source": [
    "<h1>Table of Contents<span class=\"tocSkip\"></span></h1>\n",
    "<div class=\"toc\"><ul class=\"toc-item\"><li><span><a href=\"#Overview\" data-toc-modified-id=\"Overview-1\">Overview</a></span><ul class=\"toc-item\"><li><span><a href=\"#Tracks\" data-toc-modified-id=\"Tracks-1.1\">Tracks</a></span><ul class=\"toc-item\"><li><span><a href=\"#Phi-Distributions\" data-toc-modified-id=\"Phi-Distributions-1.1.1\">Phi Distributions</a></span></li><li><span><a href=\"#Eta-distribution\" data-toc-modified-id=\"Eta-distribution-1.1.2\">Eta distribution</a></span></li><li><span><a href=\"#Transverse-Momentum-(pT)\" data-toc-modified-id=\"Transverse-Momentum-(pT)-1.1.3\">Transverse Momentum (pT)</a></span></li><li><span><a href=\"#Sign-of-tracks\" data-toc-modified-id=\"Sign-of-tracks-1.1.4\">Sign of tracks</a></span></li><li><span><a href=\"#Charge-over-transverse-momentum-(q/pT)\" data-toc-modified-id=\"Charge-over-transverse-momentum-(q/pT)-1.1.5\">Charge over transverse momentum (q/pT)</a></span></li><li><span><a href=\"#Number-of-clusters\" data-toc-modified-id=\"Number-of-clusters-1.1.6\">Number of clusters</a></span></li><li><span><a href=\"#Number-of-clusters-vs-phi\" data-toc-modified-id=\"Number-of-clusters-vs-phi-1.1.7\">Number of clusters vs phi</a></span></li><li><span><a href=\"#Number-of-clusters-vs-eta\" data-toc-modified-id=\"Number-of-clusters-vs-eta-1.1.8\">Number of clusters vs eta</a></span></li><li><span><a href=\"#Number-of-clusters-vs-pT\" data-toc-modified-id=\"Number-of-clusters-vs-pT-1.1.9\">Number of clusters vs pT</a></span></li></ul></li><li><span><a href=\"#PID\" data-toc-modified-id=\"PID-1.2\">PID</a></span><ul class=\"toc-item\"><li><span><a href=\"#dEdxTot-of-MIPs\" data-toc-modified-id=\"dEdxTot-of-MIPs-1.2.1\">dEdxTot of MIPs</a></span></li><li><span><a href=\"#Number-of-clusters-PID\" data-toc-modified-id=\"Number-of-clusters-PID-1.2.2\">Number of clusters PID</a></span></li><li><span><a href=\"#MIP-dEdxTot-vs-Sector-(vs-Phi-but-both-sides)\" data-toc-modified-id=\"MIP-dEdxTot-vs-Sector-(vs-Phi-but-both-sides)-1.2.3\">MIP dEdxTot vs Sector (vs Phi but both sides)</a></span></li><li><span><a href=\"#MIP-dEdxTot-vs-Number-of-Clusters\" data-toc-modified-id=\"MIP-dEdxTot-vs-Number-of-Clusters-1.2.4\">MIP dEdxTot vs Number of Clusters</a></span></li><li><span><a href=\"#MIP-dEdxTot-vs-sin(phi)\" data-toc-modified-id=\"MIP-dEdxTot-vs-sin(phi)-1.2.5\">MIP dEdxTot vs sin(phi)</a></span></li><li><span><a href=\"#MIP-dEdxTot-vs-tan(lambda)\" data-toc-modified-id=\"MIP-dEdxTot-vs-tan(lambda)-1.2.6\">MIP dEdxTot vs tan(lambda)</a></span></li><li><span><a href=\"#dEdx-Tot-vs-momentum-(p)\" data-toc-modified-id=\"dEdx-Tot-vs-momentum-(p)-1.2.7\">dEdx Tot vs momentum (p)</a></span></li></ul></li></ul></li></ul></div>"
   ]
  },
  {
   "cell_type": "code",
   "execution_count": null,
   "id": "20af1d76",
   "metadata": {},
   "outputs": [],
   "source": [
    "%%capture\n",
    "import ROOT\n",
    "import glob\n",
    "import math\n",
    "import numpy as np\n",
    "from IPython.display import display, Markdown, HTML\n",
    "import ipywidgets as widgets\n",
    "from TPCQCVis.src.drawHistograms import *\n",
    "from TPCQCVis.src.drawTrending import *\n",
    "from TPCQCVis.src.checkHistograms import *"
   ]
  },
  {
   "cell_type": "code",
   "execution_count": null,
   "id": "ba1a87d2",
   "metadata": {},
   "outputs": [],
   "source": [
    "display(HTML(\"<style>.container { width:95% !important; }</style>\"))\n",
    "display(HTML(\"<style>table {float:left;}</style>\"))"
   ]
  },
  {
   "cell_type": "code",
   "execution_count": null,
   "id": "f6df3a24",
   "metadata": {},
   "outputs": [],
   "source": [
    "# Read the Root Files\n",
    "path = \"/cave/alice/data/2022/tpc_distortion/apass4/\"\n",
    "passName = \"apass4\"\n",
    "fileList = glob.glob(path+\"*_QC.root\")\n",
    "fileList.sort()\n",
    "fileList = fileList[3:]\n",
    "runList = [fileList[i][-14:-8] for i in range(len(fileList))]\n",
    "rootDataFile=[]\n",
    "for file in fileList:\n",
    "    rootDataFile.append(ROOT.TFile.Open(file,\"READ\"))\n",
    "runList"
   ]
  },
  {
   "cell_type": "markdown",
   "id": "05bae659",
   "metadata": {},
   "source": [
    "### Tracks\n",
    "#### Phi Distributions"
   ]
  },
  {
   "cell_type": "code",
   "execution_count": null,
   "id": "c1687fab",
   "metadata": {},
   "outputs": [],
   "source": [
    "%jsroot on\n",
    "objectName=\"hPhiAside\"\n",
    "[hist,legend,canvas,pad1] = drawHistograms(objectName,rootDataFile,normalize=True,\n",
    "                                                              legend=False,legendNames=runList,\n",
    "                                                              pads=True,drawOption=\"SAME L\",\n",
    "                                                              maxColumns=1,grid=False)\n",
    "leg = ROOT.TLegend()\n",
    "leg.AddEntry(hist[0], passName, \"lep\")\n",
    "\n",
    "#Sector boundatries\n",
    "for i in range(len(rootDataFile)):\n",
    "    padRun = pad1.cd(i+1)\n",
    "    for typeIndex,histogram in enumerate([hist]):\n",
    "        padRun.cd(typeIndex+1)\n",
    "        sectorBoundary = ROOT.TLine(0,histogram[i].GetMinimum(),0,histogram[i].GetMaximum())\n",
    "        sectorBoundary.SetLineStyle(2)\n",
    "        sectorNum = ROOT.TText(.5,.5,\"test\")\n",
    "        sectorNum.SetTextAlign(22)\n",
    "        sectorNum.SetTextColor(ROOT.kGray+1)\n",
    "        sectorNum.SetTextFont(0)\n",
    "        for j in range(19):\n",
    "            sectorBoundary.DrawLine((j*2*math.pi)/18,histogram[i].GetMinimum(),(j*2*math.pi)/18,histogram[i].GetMaximum())\n",
    "            if j < 18 : sectorNum.DrawText(((j+0.5)*2*math.pi)/18,histogram[i].GetMaximum(),str(j))\n",
    "        if typeIndex==0 :\n",
    "            leg.Draw()\n",
    "canvas.cd()\n",
    "canvas.Draw()"
   ]
  },
  {
   "cell_type": "code",
   "execution_count": null,
   "id": "adf52122",
   "metadata": {},
   "outputs": [],
   "source": [
    "%jsroot on\n",
    "objectName=\"hPhiCside\"\n",
    "[hist,legend,canvas,pad1] = drawHistograms(objectName,rootDataFile,normalize=True,\n",
    "                                                              legend=False,legendNames=runList,\n",
    "                                                              pads=True,drawOption=\"SAME L\",\n",
    "                                                              maxColumns=1,grid=False)\n",
    "leg = ROOT.TLegend()\n",
    "leg.AddEntry(hist[0], passName, \"lep\")\n",
    "\n",
    "#Sector boundatries\n",
    "for i in range(len(rootDataFile)):\n",
    "    padRun = pad1.cd(i+1)\n",
    "    for typeIndex,histogram in enumerate([hist]):\n",
    "        padRun.cd(typeIndex+1)\n",
    "        sectorBoundary = ROOT.TLine(0,histogram[i].GetMinimum(),0,histogram[i].GetMaximum())\n",
    "        sectorBoundary.SetLineStyle(2)\n",
    "        sectorNum = ROOT.TText(.5,.5,\"test\")\n",
    "        sectorNum.SetTextAlign(22)\n",
    "        sectorNum.SetTextColor(ROOT.kGray+1)\n",
    "        sectorNum.SetTextFont(0)\n",
    "        for j in range(19):\n",
    "            sectorBoundary.DrawLine((j*2*math.pi)/18,histogram[i].GetMinimum(),(j*2*math.pi)/18,histogram[i].GetMaximum())\n",
    "            if j < 18 : sectorNum.DrawText(((j+0.5)*2*math.pi)/18,histogram[i].GetMaximum(),str(j))\n",
    "        if typeIndex==0 :\n",
    "            leg.Draw()\n",
    "canvas.cd()\n",
    "canvas.Draw()"
   ]
  },
  {
   "cell_type": "markdown",
   "id": "164ee2cf",
   "metadata": {},
   "source": [
    "#### Eta distribution"
   ]
  },
  {
   "cell_type": "code",
   "execution_count": null,
   "id": "5582bf66",
   "metadata": {},
   "outputs": [],
   "source": [
    "%jsroot on\n",
    "objectName=\"hEta\"\n",
    "[hist,legend,canvas,pad1] = drawHistograms(objectName,rootDataFile,normalize=True,\n",
    "                                                              legend=False,xAxisRange=[-1.1,1.1],legendNames=runList,\n",
    "                                                              pads=True,drawOption=\"SAME L\",\n",
    "                                                              maxColumns=2)\n",
    "leg = ROOT.TLegend()\n",
    "leg.AddEntry(hist[0], passName, \"lep\")\n",
    "\n",
    "#Sector boundatries\n",
    "for i in range(len(rootDataFile)):\n",
    "    padRun = pad1.cd(i+1)\n",
    "    for typeIndex,histogram in enumerate([hist]):\n",
    "        padRun.cd(typeIndex+1)\n",
    "        if typeIndex==0 :\n",
    "            leg.Draw()\n",
    "canvas.cd()\n",
    "canvas.Draw()"
   ]
  },
  {
   "cell_type": "markdown",
   "id": "8c34906e",
   "metadata": {},
   "source": [
    "#### Transverse Momentum (pT)"
   ]
  },
  {
   "cell_type": "code",
   "execution_count": null,
   "id": "9d097f70",
   "metadata": {},
   "outputs": [],
   "source": [
    "%jsroot on\n",
    "objectName=\"hPt\"\n",
    "[hist,legend,canvas,pad1] = drawHistograms(objectName,rootDataFile,normalize=True,\n",
    "                                                              legend=False,yAxisRange=[1e-5,40e-3],legendNames=runList,\n",
    "                                                              pads=True,drawOption=\"SAME L\",\n",
    "                                                              log=\"logxy\",maxColumns=2)\n",
    "leg = ROOT.TLegend()\n",
    "leg.AddEntry(hist[0], passName, \"lep\")\n",
    "\n",
    "#Sector boundatries\n",
    "for i in range(len(rootDataFile)):\n",
    "    padRun = pad1.cd(i+1)\n",
    "    for typeIndex,histogram in enumerate([hist]):\n",
    "        padRun.cd(typeIndex+1)\n",
    "        if typeIndex==0 :\n",
    "            leg.Draw()\n",
    "canvas.cd()\n",
    "canvas.Draw()"
   ]
  },
  {
   "cell_type": "markdown",
   "id": "93f4e9fe",
   "metadata": {},
   "source": [
    "#### Sign of tracks"
   ]
  },
  {
   "cell_type": "code",
   "execution_count": null,
   "id": "f245726d",
   "metadata": {},
   "outputs": [],
   "source": [
    "%jsroot on\n",
    "objectName=\"hSign\"\n",
    "[hist,legend,canvas,pad1] = drawHistograms(objectName,rootDataFile,normalize=True,\n",
    "                                                              legend=False,legendNames=runList,\n",
    "                                                              pads=True,drawOption=\"SAME HIST\",\n",
    "                                                              maxColumns=2)\n",
    "leg = ROOT.TLegend()\n",
    "leg.AddEntry(hist[0], passName, \"lep\")\n",
    "\n",
    "#Sector boundatries\n",
    "for i in range(len(rootDataFile)):\n",
    "    padRun = pad1.cd(i+1)\n",
    "    for typeIndex,histogram in enumerate([hist]):\n",
    "        padRun.cd(typeIndex+1)\n",
    "        if typeIndex==0 :\n",
    "            leg.Draw()\n",
    "canvas.cd()\n",
    "canvas.Draw()"
   ]
  },
  {
   "cell_type": "markdown",
   "id": "f10fedde",
   "metadata": {},
   "source": [
    "#### Charge over transverse momentum (q/pT)"
   ]
  },
  {
   "cell_type": "code",
   "execution_count": null,
   "id": "6206569c",
   "metadata": {},
   "outputs": [],
   "source": [
    "%jsroot on\n",
    "objectName=\"hQOverPt\"\n",
    "[hist,legend,canvas,pad1] = drawHistograms(objectName,rootDataFile,normalize=True,\n",
    "                                                              legend=False,legendNames=runList,\n",
    "                                                              pads=True,drawOption=\"SAME HIST\",\n",
    "                                                              maxColumns=2)\n",
    "leg = ROOT.TLegend()\n",
    "leg.AddEntry(hist[0], passName, \"lep\")\n",
    "\n",
    "#Sector boundatries\n",
    "for i in range(len(rootDataFile)):\n",
    "    padRun = pad1.cd(i+1)\n",
    "    for typeIndex,histogram in enumerate([hist]):\n",
    "        padRun.cd(typeIndex+1)\n",
    "        if typeIndex==0 :\n",
    "            leg.Draw()\n",
    "canvas.cd()\n",
    "canvas.Draw()"
   ]
  },
  {
   "cell_type": "markdown",
   "id": "3920c932",
   "metadata": {},
   "source": [
    "#### Number of clusters"
   ]
  },
  {
   "cell_type": "code",
   "execution_count": null,
   "id": "c81da33b",
   "metadata": {},
   "outputs": [],
   "source": [
    "%jsroot on\n",
    "objectName=\"hNClustersAfterCuts\"\n",
    "[hist,legend,canvas,pad1] = drawHistograms(objectName,rootDataFile,normalize=True,\n",
    "                                                              legend=False,xAxisRange=[50,160],yAxisRange=[0,55e-3],legendNames=runList,\n",
    "                                                              pads=True,drawOption=\"SAME L\",\n",
    "                                                              maxColumns=2)\n",
    "leg = ROOT.TLegend()\n",
    "leg.AddEntry(hist[0], passName, \"lep\")\n",
    "\n",
    "#Sector boundatries\n",
    "for i in range(len(rootDataFile)):\n",
    "    padRun = pad1.cd(i+1)\n",
    "    for typeIndex,histogram in enumerate([hist]):\n",
    "        padRun.cd(typeIndex+1)\n",
    "        if typeIndex==0 :\n",
    "            leg.Draw()\n",
    "canvas.cd()\n",
    "canvas.Draw()"
   ]
  },
  {
   "cell_type": "markdown",
   "id": "4ff5ef8c",
   "metadata": {},
   "source": [
    "#### Number of clusters vs phi"
   ]
  },
  {
   "cell_type": "code",
   "execution_count": null,
   "id": "2b9c68c4",
   "metadata": {},
   "outputs": [],
   "source": [
    "%jsroot on\n",
    "objectName=\"h2DNClustersPhiAside\"\n",
    "[hist,legend,canvas,pad1] = drawHistograms(objectName, rootDataFile, normalize=True,\n",
    "                                                              legend=False, legendNames=runList, yAxisRange = [50,170],\n",
    "                                                              pads=True, drawOption=\"COLZ\", maxColumns=1)\n",
    "leg1 = ROOT.TLegend()\n",
    "leg1.AddEntry(hist[0], passName, \"p\")\n",
    "\n",
    "for i in range(len(rootDataFile)):\n",
    "    padRun = pad1.cd(i+1)\n",
    "    for typeIndex,histogram in enumerate([hist]):\n",
    "        padRun.cd(typeIndex+1)\n",
    "        sectorBoundary = ROOT.TLine(0,50,0,170)\n",
    "        sectorBoundary.SetLineStyle(2)\n",
    "        sectorNum = ROOT.TText(.5,.5,\"test\")\n",
    "        sectorNum.SetTextAlign(22)\n",
    "        sectorNum.SetTextColor(ROOT.kGray+1)\n",
    "        sectorNum.SetTextFont(0)\n",
    "        for j in range(19):\n",
    "            sectorBoundary.DrawLine((j*2*math.pi)/18,50,(j*2*math.pi)/18,170)\n",
    "            if j < 18 : sectorNum.DrawText(((j+0.5)*2*math.pi)/18,55,str(j))\n",
    "        if typeIndex == 0 : leg1.Draw()\n",
    "        elif typeIndex == 1 : leg2.Draw()\n",
    "canvas.Draw()"
   ]
  },
  {
   "cell_type": "code",
   "execution_count": null,
   "id": "b8e9618f",
   "metadata": {},
   "outputs": [],
   "source": [
    "%jsroot on\n",
    "objectName=\"h2DNClustersPhiCside\"\n",
    "[hist,legend,canvas,pad1] = drawHistograms(objectName, rootDataFile, normalize=True,\n",
    "                                                              legend=False, legendNames=runList, yAxisRange = [50,170],\n",
    "                                                              pads=True, drawOption=\"COLZ\", maxColumns=1)\n",
    "leg1 = ROOT.TLegend()\n",
    "leg1.AddEntry(hist[0], passName, \"p\")\n",
    "\n",
    "for i in range(len(rootDataFile)):\n",
    "    padRun = pad1.cd(i+1)\n",
    "    for typeIndex,histogram in enumerate([hist]):\n",
    "        padRun.cd(typeIndex+1)\n",
    "        sectorBoundary = ROOT.TLine(0,50,0,170)\n",
    "        sectorBoundary.SetLineStyle(2)\n",
    "        sectorNum = ROOT.TText(.5,.5,\"test\")\n",
    "        sectorNum.SetTextAlign(22)\n",
    "        sectorNum.SetTextColor(ROOT.kGray+1)\n",
    "        sectorNum.SetTextFont(0)\n",
    "        for j in range(19):\n",
    "            sectorBoundary.DrawLine((j*2*math.pi)/18,50,(j*2*math.pi)/18,170)\n",
    "            if j < 18 : sectorNum.DrawText(((j+0.5)*2*math.pi)/18,55,str(j))\n",
    "        if typeIndex == 0 : leg1.Draw()\n",
    "        elif typeIndex == 1 : leg2.Draw()\n",
    "canvas.Draw()"
   ]
  },
  {
   "cell_type": "markdown",
   "id": "54cd3733",
   "metadata": {},
   "source": [
    "#### Number of clusters vs eta"
   ]
  },
  {
   "cell_type": "code",
   "execution_count": null,
   "id": "f330e8bf",
   "metadata": {},
   "outputs": [],
   "source": [
    "%jsroot on\n",
    "objectName=\"h2DNClustersEta\"\n",
    "[hist,legend,canvas,pad1] = drawHistograms(objectName, rootDataFile, normalize=True,\n",
    "                                                              legend=False, legendNames=runList, xAxisRange = [-1.1,1.1], yAxisRange = [50,170],\n",
    "                                                              pads=True, drawOption=\"COLZ\")\n",
    "leg1 = ROOT.TLegend()\n",
    "leg1.AddEntry(hist[0], passName, \"p\")\n",
    "\n",
    "\n",
    "for i in range(len(rootDataFile)):\n",
    "    padRun = pad1.cd(i+1)\n",
    "    for typeIndex,histogram in enumerate([hist]):\n",
    "        padRun.cd(typeIndex+1)\n",
    "        if typeIndex == 0 : leg1.Draw()\n",
    "        elif typeIndex == 1 : leg2.Draw()\n",
    "canvas.Draw()"
   ]
  },
  {
   "cell_type": "markdown",
   "id": "6a64f684",
   "metadata": {},
   "source": [
    "#### Number of clusters vs pT"
   ]
  },
  {
   "cell_type": "code",
   "execution_count": null,
   "id": "f9918491",
   "metadata": {},
   "outputs": [],
   "source": [
    "%jsroot on\n",
    "objectName=\"h2DNClustersPt\"\n",
    "[hist,legend,canvas,pad1] = drawHistograms(objectName, rootDataFile, normalize=True,\n",
    "                                                              legend=False, legendNames=runList, yAxisRange = [50,170],\n",
    "                                                              log=\"logx\",pads=True, drawOption=\"COLZ\")\n",
    "leg1 = ROOT.TLegend()\n",
    "leg1.AddEntry(hist[0], passName, \"p\")\n",
    "\n",
    "\n",
    "for i in range(len(rootDataFile)):\n",
    "    padRun = pad1.cd(i+1)\n",
    "    for typeIndex,histogram in enumerate([hist]):\n",
    "        padRun.cd(typeIndex+1)\n",
    "        if typeIndex == 0 : leg1.Draw()\n",
    "        elif typeIndex == 1 : leg2.Draw()\n",
    "canvas.Draw()"
   ]
  },
  {
   "cell_type": "markdown",
   "id": "8a8ea888",
   "metadata": {},
   "source": [
    "### PID"
   ]
  },
  {
   "cell_type": "markdown",
   "id": "2e5b329a",
   "metadata": {},
   "source": [
    "#### dEdxTot of MIPs"
   ]
  },
  {
   "cell_type": "code",
   "execution_count": null,
   "id": "f5a85a63",
   "metadata": {},
   "outputs": [],
   "source": [
    "%jsroot on\n",
    "objectName=\"hdEdxTotMIP_TPC\"\n",
    "[hist,legend,canvas,pad1] = drawHistograms(objectName,rootDataFile,normalize=True,\n",
    "                                                              legend=False,legendNames=runList,\n",
    "                                                              pads=True,drawOption=\"SAME HIST\",\n",
    "                                                              log=\"logx\",yAxisRange=[0,0.12],maxColumns=2)\n",
    "leg = ROOT.TLegend()\n",
    "leg.AddEntry(hist[0], passName, \"lep\")\n",
    "\n",
    "#Sector boundatries\n",
    "for i in range(len(rootDataFile)):\n",
    "    padRun = pad1.cd(i+1)\n",
    "    for typeIndex,histogram in enumerate([hist]):\n",
    "        padRun.cd(typeIndex+1)\n",
    "        sectorBoundary = ROOT.TLine()\n",
    "        sectorBoundary.SetLineStyle(1)\n",
    "        sectorBoundary.SetLineColor(ROOT.kGray+2)\n",
    "        sectorBoundary.SetLineWidth(2)\n",
    "        sectorBoundary.DrawLine(50,0,50,0.12)\n",
    "        if typeIndex==0 :\n",
    "            leg.Draw()\n",
    "canvas.cd()\n",
    "canvas.Draw()"
   ]
  },
  {
   "cell_type": "markdown",
   "id": "7b32253c",
   "metadata": {},
   "source": [
    "#### Number of clusters PID"
   ]
  },
  {
   "cell_type": "code",
   "execution_count": null,
   "id": "7c79e127",
   "metadata": {},
   "outputs": [],
   "source": [
    "%jsroot on\n",
    "objectName=\"hNClsPID\"\n",
    "[hist,legend,canvas,pad1] = drawHistograms(objectName,rootDataFile,normalize=True,\n",
    "                                                              legend=False,legendNames=runList,\n",
    "                                                              pads=True,drawOption=\"SAME HIST\",\n",
    "                                                              xAxisRange=[50,160],yAxisRange=[0,0.065])\n",
    "leg = ROOT.TLegend()\n",
    "leg.AddEntry(hist[0], passName, \"lep\")\n",
    "\n",
    "#Sector boundatries\n",
    "for i in range(len(rootDataFile)):\n",
    "    padRun = pad1.cd(i+1)\n",
    "    for typeIndex,histogram in enumerate([hist]):\n",
    "        padRun.cd(typeIndex+1)\n",
    "        if typeIndex==0 :\n",
    "            leg.Draw()\n",
    "canvas.cd()\n",
    "canvas.Draw()"
   ]
  },
  {
   "cell_type": "markdown",
   "id": "91e662d2",
   "metadata": {},
   "source": [
    "#### MIP dEdxTot vs Sector (vs Phi but both sides)"
   ]
  },
  {
   "cell_type": "code",
   "execution_count": null,
   "id": "1d0f6b9d",
   "metadata": {},
   "outputs": [],
   "source": [
    "%jsroot on\n",
    "objectName=\"hdEdxTotMIPVsSec_TPC\"\n",
    "[hist,legend,canvas,pad1] = drawHistograms(objectName, rootDataFile, normalize=True,\n",
    "                                                              legend=False, legendNames=runList,log=\"logz\",\n",
    "                                                              pads=True, drawOption=\"COLZ\")\n",
    "leg1 = ROOT.TLegend()\n",
    "leg1.AddEntry(hist[0], passName, \"p\")\n",
    "\n",
    "for i in range(len(rootDataFile)):\n",
    "    padRun = pad1.cd(i+1)\n",
    "    for typeIndex,histogram in enumerate([hist]):\n",
    "        padRun.cd(typeIndex+1)\n",
    "        if typeIndex == 0 : leg1.Draw()\n",
    "        elif typeIndex == 1 : leg2.Draw()\n",
    "canvas.Draw()"
   ]
  },
  {
   "cell_type": "markdown",
   "id": "9993cf50",
   "metadata": {},
   "source": [
    "#### MIP dEdxTot vs Number of Clusters"
   ]
  },
  {
   "cell_type": "code",
   "execution_count": null,
   "id": "86b46044",
   "metadata": {},
   "outputs": [],
   "source": [
    "%jsroot on\n",
    "objectName=\"hdEdxTotMIPVsNcl_TPC\"\n",
    "[hist,legend,canvas,pad1] = drawHistograms(objectName, rootDataFile, normalize=True,\n",
    "                                                              legend=False, legendNames=runList, xAxisRange=[60,160],log=\"logz\",\n",
    "                                                              pads=True, drawOption=\"COLZ\")\n",
    "leg1 = ROOT.TLegend()\n",
    "leg1.AddEntry(hist[0], passName, \"p\")\n",
    "\n",
    "for i in range(len(rootDataFile)):\n",
    "    padRun = pad1.cd(i+1)\n",
    "    for typeIndex,histogram in enumerate([hist]):\n",
    "        padRun.cd(typeIndex+1)\n",
    "        if typeIndex == 0 : leg1.Draw()\n",
    "        elif typeIndex == 1 : leg2.Draw()\n",
    "canvas.Draw()"
   ]
  },
  {
   "cell_type": "markdown",
   "id": "7b697adb",
   "metadata": {},
   "source": [
    "#### MIP dEdxTot vs sin(phi)"
   ]
  },
  {
   "cell_type": "code",
   "execution_count": null,
   "id": "8babfb5f",
   "metadata": {},
   "outputs": [],
   "source": [
    "%jsroot on\n",
    "objectName=\"hdEdxTotMIPVsSnp_TPC\"\n",
    "[hist,legend,canvas,pad1] = drawHistograms(objectName, rootDataFile, normalize=True,\n",
    "                                                              legend=False, legendNames=runList,log=\"logz\",\n",
    "                                                              pads=True, drawOption=\"COLZ\")\n",
    "leg1 = ROOT.TLegend()\n",
    "leg1.AddEntry(hist[0], passName, \"p\")\n",
    "\n",
    "for i in range(len(rootDataFile)):\n",
    "    padRun = pad1.cd(i+1)\n",
    "    for typeIndex,histogram in enumerate([hist]):\n",
    "        padRun.cd(typeIndex+1)\n",
    "        if typeIndex == 0 : leg1.Draw()\n",
    "        elif typeIndex == 1 : leg2.Draw()\n",
    "canvas.Draw()"
   ]
  },
  {
   "cell_type": "markdown",
   "id": "e96dbc38",
   "metadata": {},
   "source": [
    "#### MIP dEdxTot vs tan(lambda)"
   ]
  },
  {
   "cell_type": "code",
   "execution_count": null,
   "id": "40fc2d7c",
   "metadata": {},
   "outputs": [],
   "source": [
    "%jsroot on\n",
    "objectName=\"hdEdxTotMIPVsTgl_TPC\"\n",
    "[hist,legend,canvas,pad1] = drawHistograms(objectName, rootDataFile, normalize=True,\n",
    "                                                              legend=False, legendNames=runList,log=\"logz\",\n",
    "                                                              pads=True, drawOption=\"COLZ\")\n",
    "leg1 = ROOT.TLegend()\n",
    "leg1.AddEntry(hist[0], passName, \"p\")\n",
    "\n",
    "for i in range(len(rootDataFile)):\n",
    "    padRun = pad1.cd(i+1)\n",
    "    for typeIndex,histogram in enumerate([hist]):\n",
    "        padRun.cd(typeIndex+1)\n",
    "        if typeIndex == 0 : leg1.Draw()\n",
    "        elif typeIndex == 1 : leg2.Draw()\n",
    "canvas.Draw()"
   ]
  },
  {
   "cell_type": "markdown",
   "id": "a903ff68",
   "metadata": {},
   "source": [
    "#### dEdx Tot vs momentum (p)"
   ]
  },
  {
   "cell_type": "code",
   "execution_count": null,
   "id": "fa0fe4ab",
   "metadata": {},
   "outputs": [],
   "source": [
    "%jsroot on\n",
    "objectName=\"hdEdxTotVsP_TPC\"\n",
    "[hist,legend,canvas,pad1] = drawHistograms(objectName, rootDataFile, normalize=True,\n",
    "                                                              legend=False, legendNames=runList,log=\"logxyz\",\n",
    "                                                              pads=True, drawOption=\"COLZ\")\n",
    "leg1 = ROOT.TLegend()\n",
    "leg1.AddEntry(hist[0], passName, \"p\")\n",
    "\n",
    "for i in range(len(rootDataFile)):\n",
    "    padRun = pad1.cd(i+1)\n",
    "    for typeIndex,histogram in enumerate([hist]):\n",
    "        padRun.cd(typeIndex+1)\n",
    "        if typeIndex == 0 : leg1.Draw()\n",
    "        elif typeIndex == 1 : leg2.Draw()\n",
    "canvas.Draw()"
   ]
  }
 ],
 "metadata": {
  "kernelspec": {
   "display_name": "Python 3 (ipykernel)",
   "language": "python",
   "name": "python3"
  },
  "language_info": {
   "codemirror_mode": {
    "name": "ipython",
    "version": 3
   },
   "file_extension": ".py",
   "mimetype": "text/x-python",
   "name": "python",
   "nbconvert_exporter": "python",
   "pygments_lexer": "ipython3",
   "version": "3.9.12"
  },
  "toc": {
   "base_numbering": 1,
   "nav_menu": {},
   "number_sections": false,
   "sideBar": false,
   "skip_h1_title": true,
   "title_cell": "Table of Contents",
   "title_sidebar": "Contents",
   "toc_cell": true,
   "toc_position": {},
   "toc_section_display": true,
   "toc_window_display": false
  }
 },
 "nbformat": 4,
 "nbformat_minor": 5
}
