{
 "cells": [
  {
   "cell_type": "markdown",
   "id": "38300728",
   "metadata": {},
   "source": [
    "# Reporting on TPC QC for LHC22o apass2\n",
    "> Link to JIRA for apass2: https://alice.its.cern.ch/jira/browse/O2-3496 <br />\n",
    "> Link to JIRA for apass1: https://alice.its.cern.ch/jira/browse/O2-3438 <br />\n",
    "> B = 0.5 T <br />\n",
    "> beam = pp <br />\n",
    "> energy (sqrt) = 13.6 TeV <br />\n",
    "\n",
    "\n",
    "## General comments:\n",
    "+ Time gain calibration applied properly to all runs\n",
    "\n",
    "### Runs:\n",
    "| Run number |Global comment |FTV0X rate | N.events (INEL) | TPC Quality | TPC comment |\n",
    "|:---:|:---:|:---:|:---:|:---:|:---:|\n",
    "| 526463 |\t\t\t\t| 479719.0713\t\t| 701719509.3 | | | \n",
    "| 526465 |\t\t\t\t| 504111.6391\t\t| 920723628.7 | | | \n",
    "| 526466 |\t\t\t\t| 494375.1778\t\t| 277835106.8 | | | \n",
    "| 526467 |\t\t\t\t| 490019.2918\t\t| 1929245828 | | | \n",
    "| 526468 |\t\t\t\t| 476653.958\t\t| 193538463.2 | | | \n",
    "| 526486 |\t\t\t\t| 497164.0906\t\t| 16486388888 | | | \n",
    "| 526505 |\t\t\t\t| 495452.8414\t\t| 4744871541 | | | \n",
    "| 526508 |\t\t\t\t| 1018995.897\t\t| 2379424314 | | | \n",
    "| 526510 |\t\t\t\t| 995323.3302\t\t| 6607492041 | | | \n",
    "| 526512 |\t\tCTA\t\t| 503637.3477\t\t| 16257432875 | | | \n",
    "| 526525 |\t\t\t\t| 499305.692\t\t| 4397385192 | | | \n",
    "| 526526 |\t\t\t\t| 500523.6709\t\t| 2699732663 | | | \n",
    "| 526528 |\t\tCTA\t\t| 502196.6861\t\t| 13685283764 | | | \n",
    "| 526534 |\t\t\t\t| 991784.5586\t\t| 1753417925 | | | \n",
    "| 526559 |\t\tCTA\t\t| 492436.9697\t\t| 9224235530 | | | \n",
    "| 526596 |\t\tCTA\t\t| 494801.2569\t\t| 11311717129 | | | \n",
    "| 526606 |\t\t\t\t| 495440.4408\t\t| 1986587232 | | | \n",
    "| 526612 |\t\t\t\t| 498415.2734\t\t| 3780261112 | | | \n",
    "| 526638 |\t\t\t\t| 487305.1094\t\t| 331496142.5 | | | \n",
    "| 526639 |\t\tCTA\t\t| 496430.5029\t\t| 9597470229 | | | \n",
    "| 526641 |\t\tCTA\t\t| 498034.1353\t\t| 4513039404 | | | \n",
    "| 526643 |\t\t\t\t| 493538.1485\t\t| 3059939198 | | | \n",
    "| 526647 |\t\t\t\t| 500727.9524\t\t| 2975463857 | | | \n",
    "| 526649 |\t\t\t\t| 507486.1997\t\t| 881395534.3 | | | \n",
    "| 526689 |\t\t\t\t| 862.5234261\t\t| 3044582.336 | | | \n",
    "| 526712 |\t\t\t\t| 1127400.282\t\t| 751398140.9 | | | \n",
    "| 526713 |\t\t\t\t| 493847.9745\t\t| 8327262340 | | | \n",
    "| 526714 |\t\t\t\t| 488413.5243\t\t| 294235730.9 | | | \n",
    "| 526715 |\t\t\t\t| 498824.4935\t\t| 328148018.9 | | | \n",
    "| 526716 |\t\t\t\t| 509940.6382\t\t| 303325683 | | | \n",
    "| 526719 |\t\t\t\t| 493308.9438\t\t| 2546470437 | | | \n",
    "| 526720 |\t\t\t\t| 475344.4064\t\t| 220563411.4 | | | \n",
    "| 526776 |\t\tCTA\t\t| 497129.5233\t\t| 3506382393 | | | \n",
    "| 526860 |\t\t\t\t| 520926.8445\t\t| 945896437.6 | | | \n",
    "| 526865 |\t\tCTA\t\t| 508081.2083\t\t| 4028065714 | | | \n",
    "| 526886 |\t\tCTA\t\t| 507806.0934\t\t| 9977558377 | | | \n",
    "| 526926 |\t\t\t\t| 986781.4726\t\t| 394104834.7 | | | \n",
    "| 526927 |\t\t\t\t| 1023324.096\t\t| 252755055.8 | | | \n",
    "| 526928 |\t\t\t\t| 1021302.614\t\t| 7916301232 | | | \n",
    "| 526929 |\t\t\t\t| 1021074.365\t\t| 6202868000 | | | \n",
    "| 526934 |\t\t\t\t| 1051044.083\t\t| 5419488277 | | | \n",
    "| 526935 |\t\t\t\t| 1045845.15\t\t| 4553884459 | | | \n",
    "| 526937 |\t\t\t\t| 1035630.995\t\t| 10399444741 | | | \n",
    "| 526938 |\t\t\t\t| 510547.7025\t\t| 2477940993 | | | \n",
    "| 526963 |\t\t\t\t| 498628.052\t\t| 201692214.2 | | | \n",
    "| 526964 |\t\t\t\t| 505383.8833\t\t| 6254419944 | | | \n",
    "| 526966 |\t\t\t\t| 500108.6755\t\t| 410814603.1 | | | \n",
    "| 526967 |\t\t\t\t| 511947.8221\t\t| 13405709914 | | | \n",
    "| 526968 |\t\t\t\t| 511155.5127\t\t| 5158473280 | | | \n",
    "| 527015 |\t\t\t\t| 504823.4641\t\t| 591834789.3 | | | \n",
    "| 527016 |\t\t\t\t| 503965.782\t\t| 3963511153 | | | \n",
    "| 527028 |\t\t\t\t| 511757.9377\t\t| 2562436539 | | | \n",
    "| 527031 |\t\t\t\t| 499650.7329\t\t| 342545577.5 | | | \n",
    "| 527033 |\t\t\t\t| 514742.1456\t\t| 353015966.6 | | | \n",
    "| 527034 |\t\t\t\t| 504822.7973\t\t| 2529346033 | | | \n",
    "| 527038 |\t\t\t\t| 505458.2392\t\t| 2786121425 | | | \n",
    "| 527039 |\t\t\t\t| 508871.1356\t\t| 2436405378 | | | \n",
    "| 527041 |\t\t\t\t| 499509.7016\t\t| 11819749125 | | | \n",
    "| 527057 |\t\t\t\t| 510044.3388\t\t| 6446035743 | | | \n",
    "| 527076 |\t\t\t\t| 468184.6836\t\t| 1186176281 | | | \n",
    "| 527108 |\t\t\t\t| 497869.9504\t\t| 202829383.9 | | | \n",
    "| 527109 |\t\t\t\t| 490438.7257\t\t| 8198835013 | | | \n",
    "| 527228 |\t\t\t\t| 511077.73\t\t    | 18123347167 | | | \n",
    "| 527237 |\t\t\t\t| 510257.3693\t\t| 4905240289 | | | \n",
    "| 527240 |\t\t\t\t| 494105.0093\t\t| 5036758889 | | | \n",
    "| 527259 |\t\t\t\t| 521950.205\t\t| 104463721.6 | | | \n",
    "| 527260 |\t\t\t\t| 509411.4567\t\t| 1893822787 | | | \n",
    "| 527261 |\t\t\t\t| 504550.7491\t\t| 352601625.4 | | | \n",
    "| 527262 |\t\t\t\t| 483839.8542\t\t| 274914444.5 | | | \n",
    "| 527345 |\t\t\t\t| 505935.8319\t\t| 341166245.2 | | | \n",
    "| 527347 |\t\t\t\t| 497808.4334\t\t| 525773545.1 | | | \n",
    "| 527349 |\t\t\t\t| 0\t\t            | 0 | | | \n",
    "| 527446 |\t\t\t\t| 511437.6396\t\t| 22928901080 | | | \n",
    "| 527518 |\t\t\t\t| 502082.2862\t\t| 2895057331 | | | \n",
    "| 527522 |\t\tBAD\t\t| 508425.7221\t\t| 3494811258 | | | \n",
    "| 527523 |\t\t\t\t| 506867.6121\t\t| 20379508473 | | | \n",
    "| 527671 |\t22o_test\t| 91713.45443\t\t| 397858665.9 | | | \n",
    "| 527690 |\t22o_test\t| 510569.86\t\t    | 18729173777 | | | \n",
    "| 527694 |\t22o_test\t| 510480.8131\t\t| 5137748885 | | | \n",
    "| 527731 |\t22o_test\t| 503570.0276\t\t| 4020735027 | | | \n",
    "| 527734 |\t22o_test\t| 509059.5294\t\t| 8034328587 | | | \n",
    "| 527736 |\t22o_test\t| 479330.6254\t\t| 6147596771 | | | \n",
    "| 527777 |\t22o_test\t| 87810.04217\t\t| 78040493.65 | | | \n",
    "| 527799 |\t\t\t\t| 100428.5765\t\t| 1444627549 | | | \n",
    "| 527821 |\t\t\t\t| 507863.6804\t\t| 2410459590 | | | \n",
    "| 527825 |\t\t\t\t| 505340.9009\t\t| 6804018110 | | | \n",
    "| 527826 |\t\t\t\t| 510744.4944\t\t| 13834033963 | | | \n",
    "| 527828 |\t\t\t\t| 515529.1586\t\t| 3319929889 | | | \n",
    "| 527848 |\t\t\t\t| 502983.9205\t\t| 935417526.7 | | | \n",
    "| 527850 |\t\t\t\t| 504868.6495\t\t| 5540783203 | | | \n",
    "| 527852 |\t\t\t\t| 508685.764\t\t| 6803474051 | | | \n",
    "| 527863 |\t\t\t\t| 508147.393\t\t| 12184240978 | | | \n",
    "| 527864 |\t\t\t\t| 528800.5378\t\t| 695229515.9 | | | \n",
    "| 527865 |\t\t\t\t| 505342.5703\t\t| 1678256430 | | | \n",
    "| 527869 |\t\t\t\t| 513577.0825\t\t| 3121405378 | | | \n",
    "| 527871 |\t\t\t\t| 508016.5654\t\t| 7306410145 | | | \n",
    "| 527895 |\t\t\t\t| 504858.4575\t\t| 8769487235 | | | \n",
    "| 527898 |\t\t\t\t| 507774.7496\t\t| 2231145553 | | | \n",
    "| 527899 |\t\t\t\t| 508321.9972\t\t| 7513076191 | | | \n",
    "| 527902 |\t\t\t\t| 512101.1033\t\t| 4296299585 | | | \n",
    "| 527963 |\t\t\t\t| 0\t\t            | 0 | | | \n",
    "| 527976 |\t\t\t\t| 505947.9023\t\t| 16656996182 | | | \n",
    "| 527978 |\t\t\t\t| 504657.308\t\t| 1808596818 | | | \n",
    "| 527979 |\t\t\t\t| 507528.8864\t\t| 4329923450 | | | \n",
    "| 528021 |\t\t\t\t| 487846.5396\t\t| 1046623675 | | | \n",
    "| 528026 |\t\t\t\t| 502129.5663\t\t| 1514893399 | | | \n",
    "| 528036 |\t\t\t\t| 502419.6907\t\t| 12353739225 | | | \n",
    "| 528093 |\t\t\t\t| 503837.0548\t\t| 269541961.8 | | | \n",
    "| 528094 |\t\t\t\t| 510733.338\t\t| 609619193.8 | | | \n",
    "| 528097 |\t\t\t\t| 514617.2688\t\t| 165773359.6 | | | \n",
    "| 528105 |\t\t\t\t| 504638.3733\t\t| 1259025965 | | | \n",
    "| 528107 |\t\t\t\t| 511366.4023\t\t| 10858836101 | | | \n",
    "| 528109 |\t\t\t\t| 512804.4616\t\t| 1333082044 | | | \n",
    "| 528110 |\t\t\t\t| 504077.5189\t\t| 900871745.5 | | | \n",
    "| 528231 |\t\t\t\t| 505527.1601\t\t| 352143074 | | | \n",
    "| 528232 |\t\t\t\t| 509718.4071\t\t| 26028692162 | | | \n",
    "| 528233 |\t\t\t\t| 510414.6494\t\t| 4333036512 | | | \n",
    "| 528263 |\t\t\t\t| 499248.3015\t\t| 4497367574 | | | \n",
    "| 528266 |\t\t\t\t| 501176.5065\t\t| 2156860897 | | | \n",
    "| 528292 |\t\t\t\t| 508174.7486\t\t| 5454747322 | | | \n",
    "| 528294 |\t\t\t\t| 507066.7443\t\t| 2200826052 | | | \n",
    "| 528316 |\t\t\t\t| 506764.1822\t\t| 1789696153 | | | \n",
    "| 528319 |\t\t\t\t| 506446.7132\t\t| 4031893447 | | | \n",
    "| 528328 |\t\t\t\t| 511439.6083\t\t| 2794140834 | | | \n",
    "| 528329 |\t\t\t\t| 506038.6004\t\t| 1895825302 | | | \n",
    "| 528330 |\t\t\t\t| 496810.0917\t\t| 182827846.7 | | | \n",
    "| 528332 |\t\t\t\t| 508001.1922\t\t| 9469468333 | | | \n",
    "| 528336 |\t\t\t\t| 508835.0103\t\t| 1336881962 | | | \n",
    "| 528347 |\t\t\t\t| 500798.7384\t\t| 15732052538 | | | \n",
    "| 528359 |\t\t\t\t| 501365.1432\t\t| 3646484218 | | | \n",
    "| 528379 |\t\t\t\t| 509545.2557\t\t| 5304364285 | | | \n",
    "| 528381 |\t\t\t\t| 509111.486\t\t| 3453999865 | | | \n",
    "| 528386 |\t\t\t\t| 516285.4311\t\t| 2286763942 | | | \n",
    "| 528448 |\t\t\t\t| 509075.7866\t\t| 3776528265 | | | \n",
    "| 528451 |\t\t\t\t| 481118.3491\t\t| 953576847.6 | | | \n",
    "| 528461 |\t\t\t\t| 507394.2799\t\t| 5431530922 | | | \n",
    "| 528463 |\t\t\t\t| 404262.1936\t\t| 4027380458 | | | \n",
    "| 528529 |\t\t\t\t| 512758.5342\t\t| 155392972.2 | | | \n",
    "| 528530 |\t\t\t\t| 501703.0819\t\t| 614788051.7 | | | \n",
    "| 528531 |\t\t\t\t| 513429.2817\t\t| 5026595803 | | | \n",
    "| 528534 |\t\t\t\t| 508242.9214\t\t| 4750590844 | | | \n",
    "| 528537 |\t\t\t\t| 0\t\t            | 0 | | | \n",
    "| 528543 |\t\t\t\t| 0\t\t            | 0 |"
   ]
  },
  {
   "cell_type": "markdown",
   "id": "ba29f2bf",
   "metadata": {},
   "source": [
    "---"
   ]
  },
  {
   "cell_type": "markdown",
   "id": "897badfe",
   "metadata": {
    "toc": true
   },
   "source": [
    "<h1>Table of Contents<span class=\"tocSkip\"></span></h1>\n",
    "<div class=\"toc\"><ul class=\"toc-item\"><li><span><a href=\"#General-comments:\" data-toc-modified-id=\"General-comments:-1\">General comments:</a></span><ul class=\"toc-item\"><li><span><a href=\"#Runs:\" data-toc-modified-id=\"Runs:-1.1\">Runs:</a></span></li></ul></li><li><span><a href=\"#Comparing-apass1-to-apass2-with-trends\" data-toc-modified-id=\"Comparing-apass1-to-apass2-with-trends-2\">Comparing apass1 to apass2 with trends</a></span><ul class=\"toc-item\"><li><span><a href=\"#Time-gain-calibration\" data-toc-modified-id=\"Time-gain-calibration-2.1\">Time gain calibration</a></span></li></ul></li><li><span><a href=\"#Clusters-QC\" data-toc-modified-id=\"Clusters-QC-3\">Clusters QC</a></span></li><li><span><a href=\"#Tracks-QC\" data-toc-modified-id=\"Tracks-QC-4\">Tracks QC</a></span><ul class=\"toc-item\"><li><span><a href=\"#Geometrical-distributions-of-tracks\" data-toc-modified-id=\"Geometrical-distributions-of-tracks-4.1\">Geometrical distributions of tracks</a></span></li><li><span><a href=\"#Eta-distribution\" data-toc-modified-id=\"Eta-distribution-4.2\">Eta distribution</a></span></li><li><span><a href=\"#Track-properties\" data-toc-modified-id=\"Track-properties-4.3\">Track properties</a></span></li><li><span><a href=\"#Number-of-clusters-per-track\" data-toc-modified-id=\"Number-of-clusters-per-track-4.4\">Number of clusters per track</a></span></li><li><span><a href=\"#nClusters-vs-eta\" data-toc-modified-id=\"nClusters-vs-eta-4.5\">nClusters vs eta</a></span></li><li><span><a href=\"#nClusters-vs-phi-A-side\" data-toc-modified-id=\"nClusters-vs-phi-A-side-4.6\">nClusters vs phi A side</a></span></li><li><span><a href=\"#nClusters-vs-phi-C-side\" data-toc-modified-id=\"nClusters-vs-phi-C-side-4.7\">nClusters vs phi C side</a></span></li><li><span><a href=\"#nClusters-vs-transverse-momentum\" data-toc-modified-id=\"nClusters-vs-transverse-momentum-4.8\">nClusters vs transverse momentum</a></span></li><li><span><a href=\"#PID\" data-toc-modified-id=\"PID-4.9\">PID</a></span></li></ul></li><li><span><a href=\"#TPC-Gain-calibration\" data-toc-modified-id=\"TPC-Gain-calibration-5\">TPC Gain calibration</a></span><ul class=\"toc-item\"><li><span><a href=\"#dEdx-vs-p\" data-toc-modified-id=\"dEdx-vs-p-5.1\">dEdx vs p</a></span></li></ul></li></ul></div>"
   ]
  },
  {
   "cell_type": "code",
   "execution_count": null,
   "id": "6ba04481",
   "metadata": {},
   "outputs": [],
   "source": [
    "%%capture\n",
    "import ROOT\n",
    "import glob\n",
    "import math\n",
    "import numpy as np\n",
    "from IPython.display import display, Markdown, HTML\n",
    "import ipywidgets as widgets\n",
    "from TPCQCVis.src.drawHistograms import *\n",
    "from TPCQCVis.src.drawTrending import *\n",
    "from TPCQCVis.src.checkHistograms import *"
   ]
  },
  {
   "cell_type": "code",
   "execution_count": null,
   "id": "7afb8d37",
   "metadata": {},
   "outputs": [],
   "source": [
    "display(HTML(\"<style>.container { width:95% !important; }</style>\"))\n",
    "display(HTML(\"<style>table {float:left;}</style>\"))"
   ]
  },
  {
   "cell_type": "code",
   "execution_count": null,
   "id": "bc674b80",
   "metadata": {},
   "outputs": [],
   "source": [
    "# Read the Root Files\n",
    "path = \"/cave/alice/data/2022/LHC22o/apass2_full/\"\n",
    "fileList = glob.glob(path+\"*_QC.root\")\n",
    "#[fileList.remove(\"/cave/alice/data/2022/LHC22o/apass2_full/\"+run+\"_QC.root\") for run in diffre]\n",
    "fileList.sort()\n",
    "#fileList = fileList[13:]\n",
    "runList = [fileList[i][-14:-8] for i in range(len(fileList))]\n",
    "rootDataFile=[]\n",
    "for file in fileList:\n",
    "    rootDataFile.append(ROOT.TFile.Open(file,\"READ\"))\n",
    "len(runList)"
   ]
  },
  {
   "cell_type": "code",
   "execution_count": null,
   "id": "c0664349",
   "metadata": {},
   "outputs": [],
   "source": [
    "# Read the Root Files\n",
    "path_apass1 = \"/cave/alice/data/2022/LHC22o/apass1/\"\n",
    "fileList_apass1 = glob.glob(path_apass1+\"*_QC.root\")\n",
    "fileList_apass1.sort()\n",
    "#path = \"/cave/alice/data/2022/LHC22o/apass1/\"\n",
    "#fileList_apass1  = []\n",
    "#for x in fileList:\n",
    "#    line = list(x)\n",
    "#    line[-16] = \"1\"\n",
    "#    fileList_apass1.append(\"\".join(line))\n",
    "\n",
    "#fileList_apass1 = glob.glob(path+\"*_QC.root\")\n",
    "#fileList_apass1.sort()\n",
    "runList_apass1 = [fileList_apass1[i][36:-8] for i in range(len(fileList_apass1))]\n",
    "selectedFiles = []\n",
    "for index,run in enumerate(runList_apass1):\n",
    "    if run in runList: selectedFiles.append(fileList_apass1[index])\n",
    "        \n",
    "fileList_apass1 = selectedFiles\n",
    "runList_apass1 = [fileList_apass1[i][36:-8] for i in range(len(fileList_apass1))]\n",
    "rootDataFile_apass1=[]\n",
    "for file in fileList_apass1:\n",
    "    rootDataFile_apass1.append(ROOT.TFile.Open(file,\"READ\"))\n",
    "len(rootDataFile_apass1)"
   ]
  },
  {
   "cell_type": "code",
   "execution_count": null,
   "id": "7201cf3a",
   "metadata": {},
   "outputs": [],
   "source": [
    "def diff(list1, list2):\n",
    "    c = set(list1).union(set(list2))  # or c = set(list1) | set(list2)\n",
    "    d = set(list1).intersection(set(list2))  # or d = set(list1) & set(list2)\n",
    "    return list(c - d)\n",
    "\n",
    "diffre = diff(runList,runList_apass1)"
   ]
  },
  {
   "cell_type": "markdown",
   "id": "858f1236",
   "metadata": {},
   "source": [
    "---\n",
    "## Comparing apass1 to apass2 with trends"
   ]
  },
  {
   "cell_type": "code",
   "execution_count": null,
   "id": "8ced6503",
   "metadata": {},
   "outputs": [],
   "source": [
    "%jsroot on\n",
    "objectName=\"hPt;1\"\n",
    "trending = \"entries\"\n",
    "error = \"stdDev\"\n",
    "leg = ROOT.TLegend()\n",
    "[trend,canvas] = drawTrending(objectName,rootDataFile_apass1,names=runList,namesFromRunList=True,\n",
    "                               trend=trending,error=error)\n",
    "leg.AddEntry(trend, \"apass1\", \"lep\")\n",
    "[trend2,canvas] = drawTrending(objectName,rootDataFile,names=runList,namesFromRunList=True,canvas=canvas,\n",
    "                               trend=trending,error=error,histName=\"apass2\")\n",
    "leg.AddEntry(trend2, \"apass2\", \"lep\")\n",
    "leg.Draw()\n",
    "trend.SetTitle(\"Number of tracks Trending\")\n",
    "canvas.Draw()"
   ]
  },
  {
   "cell_type": "code",
   "execution_count": null,
   "id": "39ae9120",
   "metadata": {},
   "outputs": [],
   "source": [
    "%jsroot on\n",
    "objectName=\"hPhiAside;1\"\n",
    "trending = \"mean\"\n",
    "error = \"meanError\"\n",
    "leg = ROOT.TLegend()\n",
    "[trend,canvas] = drawTrending(objectName,rootDataFile_apass1,names=runList,namesFromRunList=True,\n",
    "                               trend=trending,error=error,\n",
    "                               log=\"none\")\n",
    "leg.AddEntry(trend, \"apass1\", \"lep\")\n",
    "[trend2,canvas] = drawTrending(objectName,rootDataFile,names=runList,namesFromRunList=True,canvas=canvas,\n",
    "                               trend=trending,error=error,\n",
    "                               log=\"none\",histName=\"apass2\")\n",
    "leg.AddEntry(trend2, \"apass2\", \"lep\")\n",
    "leg.Draw()\n",
    "#trend.SetTitle(\"Number of tracks - Trend\")\n",
    "canvas.Draw()"
   ]
  },
  {
   "cell_type": "code",
   "execution_count": null,
   "id": "58aa4526",
   "metadata": {},
   "outputs": [],
   "source": [
    "%jsroot on\n",
    "objectName=\"hPhiCside;1\"\n",
    "trending = \"mean\"\n",
    "error = \"meanError\"\n",
    "leg = ROOT.TLegend()\n",
    "[trend,canvas] = drawTrending(objectName,rootDataFile_apass1,names=runList,namesFromRunList=True,\n",
    "                               trend=trending,error=error,\n",
    "                               log=\"none\")\n",
    "leg.AddEntry(trend, \"apass1\", \"lep\")\n",
    "[trend2,canvas] = drawTrending(objectName,rootDataFile,names=runList,namesFromRunList=True,canvas=canvas,\n",
    "                               trend=trending,error=error,\n",
    "                               log=\"none\",histName=\"apass2\")\n",
    "leg.AddEntry(trend2, \"apass2\", \"lep\")\n",
    "leg.Draw()\n",
    "#trend.SetTitle(\"Number of tracks - Trend\")\n",
    "canvas.Draw()"
   ]
  },
  {
   "cell_type": "code",
   "execution_count": null,
   "id": "bffddf34",
   "metadata": {},
   "outputs": [],
   "source": [
    "%jsroot on\n",
    "objectName=\"hEta;1\"\n",
    "trending = \"mean\"\n",
    "error = \"meanError\"\n",
    "leg = ROOT.TLegend()\n",
    "[trend,canvas] = drawTrending(objectName,rootDataFile_apass1,names=runList,namesFromRunList=True,\n",
    "                               trend=trending,error=error,\n",
    "                               log=\"none\")\n",
    "leg.AddEntry(trend, \"apass1\", \"lep\")\n",
    "[trend2,canvas] = drawTrending(objectName,rootDataFile,names=runList,namesFromRunList=True,canvas=canvas,\n",
    "                               trend=trending,error=error,\n",
    "                               log=\"none\",histName=\"apass2\")\n",
    "leg.AddEntry(trend2, \"apass2\", \"lep\")\n",
    "leg.Draw()\n",
    "#trend.SetTitle(\"Number of tracks - Trend\")\n",
    "canvas.Draw()"
   ]
  },
  {
   "cell_type": "code",
   "execution_count": null,
   "id": "54e7c72e",
   "metadata": {},
   "outputs": [],
   "source": [
    "%jsroot on\n",
    "objectName=\"hPt;1\"\n",
    "trending = \"mean\"\n",
    "error = \"meanError\"\n",
    "leg = ROOT.TLegend()\n",
    "[trend,canvas] = drawTrending(objectName,rootDataFile_apass1,names=runList,namesFromRunList=True,\n",
    "                               trend=trending,error=error,yAxisRange=[0.42,0.5],\n",
    "                               log=\"none\")\n",
    "leg.AddEntry(trend, \"apass1\", \"lep\")\n",
    "[trend2,canvas] = drawTrending(objectName,rootDataFile,names=runList,namesFromRunList=True,canvas=canvas,\n",
    "                               trend=trending,error=error,yAxisRange=[0.42,0.5],\n",
    "                               log=\"none\",histName=\"apass2\")\n",
    "leg.AddEntry(trend2, \"apass2\", \"lep\")\n",
    "leg.Draw()\n",
    "#trend.SetTitle(\"Number of tracks - Trend\")\n",
    "canvas.Draw()"
   ]
  },
  {
   "cell_type": "code",
   "execution_count": null,
   "id": "610145ab",
   "metadata": {},
   "outputs": [],
   "source": [
    "%jsroot on\n",
    "objectName=\"hSign;1\"\n",
    "trending = \"mean\"\n",
    "error = \"meanError\"\n",
    "leg = ROOT.TLegend()\n",
    "[trend,canvas] = drawTrending(objectName,rootDataFile_apass1,names=runList,namesFromRunList=True,\n",
    "                               trend=trending,error=error,yAxisRange=[152E-3,170E-3],\n",
    "                               log=\"none\")\n",
    "leg.AddEntry(trend, \"apass1\", \"lep\")\n",
    "[trend2,canvas] = drawTrending(objectName,rootDataFile,names=runList,namesFromRunList=True,canvas=canvas,\n",
    "                               trend=trending,error=error,yAxisRange=[150E-3,166E-3],\n",
    "                               log=\"none\",histName=\"apass2\")\n",
    "leg.AddEntry(trend2, \"apass2\", \"lep\")\n",
    "leg.Draw()\n",
    "#trend.SetTitle(\"Number of tracks - Trend\")\n",
    "canvas.Draw()"
   ]
  },
  {
   "cell_type": "markdown",
   "id": "1a28e248",
   "metadata": {},
   "source": [
    "### Time gain calibration\n",
    "+ Much better dEdx uniformity in apass2"
   ]
  },
  {
   "cell_type": "code",
   "execution_count": null,
   "id": "4e3fbb51",
   "metadata": {},
   "outputs": [],
   "source": [
    "%jsroot on\n",
    "objectName=\"hdEdxTotMIP_TPC;1\"\n",
    "trending = \"mean\"\n",
    "error = \"meanError\"\n",
    "leg = ROOT.TLegend()\n",
    "[trend,canvas] = drawTrending(objectName,rootDataFile_apass1,names=runList,namesFromRunList=True,\n",
    "                               trend=trending,error=error,\n",
    "                               log=\"none\",yAxisRange=[51,57])\n",
    "leg.AddEntry(trend, \"apass1\", \"lep\")\n",
    "[trend2,canvas] = drawTrending(objectName,rootDataFile,names=runList,namesFromRunList=True,canvas=canvas,\n",
    "                               trend=trending,error=error,\n",
    "                               log=\"none\",histName=\"apass2\")\n",
    "leg.AddEntry(trend2, \"apass2\", \"lep\")\n",
    "leg.Draw()\n",
    "#trend.SetTitle(\"Number of tracks - Trend\")\n",
    "canvas.Draw()"
   ]
  },
  {
   "cell_type": "code",
   "execution_count": null,
   "id": "4d091e93",
   "metadata": {},
   "outputs": [],
   "source": [
    "%jsroot on\n",
    "objectName=\"hNClustersAfterCuts;1\"\n",
    "trending = \"mean\"\n",
    "error = \"meanError\"\n",
    "leg = ROOT.TLegend()\n",
    "[trend,canvas] = drawTrending(objectName,rootDataFile_apass1,names=runList,namesFromRunList=True,\n",
    "                               trend=trending,error=error,\n",
    "                               log=\"none\",yAxisRange=[90,118])\n",
    "leg.AddEntry(trend, \"apass1\", \"lep\")\n",
    "[trend2,canvas] = drawTrending(objectName,rootDataFile,names=runList,namesFromRunList=True,canvas=canvas,\n",
    "                               trend=trending,error=error,\n",
    "                               log=\"none\",histName=\"apass2\")\n",
    "leg.AddEntry(trend2, \"apass2\", \"lep\")\n",
    "leg.Draw()\n",
    "#trend.SetTitle(\"Number of tracks - Trend\")\n",
    "canvas.Draw()"
   ]
  },
  {
   "cell_type": "code",
   "execution_count": null,
   "id": "cbc0aa05",
   "metadata": {},
   "outputs": [],
   "source": []
  },
  {
   "cell_type": "code",
   "execution_count": null,
   "id": "69b438e9",
   "metadata": {},
   "outputs": [],
   "source": [
    "%jsroot on\n",
    "objectName=\"hdEdxVsTgl;1\"\n",
    "trending = \"mean\"\n",
    "error = \"meanError\"\n",
    "leg = ROOT.TLegend()\n",
    "[trend,canvas] = drawTrending(objectName,rootDataFile_apass1,names=runList,namesFromRunList=True,\n",
    "                               trend=trending,error=error,axis=1,\n",
    "                               log=\"none\")\n",
    "leg.AddEntry(trend, \"apass1\", \"lep\")\n",
    "[trend2,canvas] = drawTrending(objectName,rootDataFile,names=runList,namesFromRunList=True,canvas=canvas,\n",
    "                               trend=trending,error=error,axis=1,\n",
    "                               log=\"none\",histName=\"apass2\")\n",
    "leg.AddEntry(trend2, \"apass2\", \"lep\")\n",
    "leg.Draw()\n",
    "trend.SetTitle(\"Track tan(lambda) - Trend\")\n",
    "canvas.Draw()"
   ]
  },
  {
   "cell_type": "code",
   "execution_count": null,
   "id": "79868d4b",
   "metadata": {},
   "outputs": [],
   "source": [
    "%jsroot on\n",
    "objectName=\"hdEdxTotMIPVsSnp_TPC;1\"\n",
    "trending = \"mean\"\n",
    "error = \"meanError\"\n",
    "leg = ROOT.TLegend()\n",
    "[trend,canvas] = drawTrending(objectName,rootDataFile_apass1,names=runList,namesFromRunList=True,\n",
    "                               trend=trending,error=error,axis=1,\n",
    "                               log=\"none\",yAxisRange=[-20E-3,0])\n",
    "leg.AddEntry(trend, \"apass1\", \"lep\")\n",
    "[trend2,canvas] = drawTrending(objectName,rootDataFile,names=runList,namesFromRunList=True,canvas=canvas,\n",
    "                               trend=trending,error=error,axis=1,\n",
    "                               log=\"none\",histName=\"apass2\")\n",
    "leg.AddEntry(trend2, \"apass2\", \"lep\")\n",
    "leg.Draw()\n",
    "trend.SetTitle(\"Track sin(phi) - Trend\")\n",
    "canvas.Draw()"
   ]
  },
  {
   "cell_type": "markdown",
   "id": "2ca94113",
   "metadata": {},
   "source": [
    "---\n",
    "# Plots from apass2"
   ]
  },
  {
   "cell_type": "markdown",
   "id": "03eca5ad",
   "metadata": {},
   "source": [
    "## Clusters QC\n",
    "+ Cluster maps look OK\n",
    "+ Problematic example run `526512` shown"
   ]
  },
  {
   "cell_type": "code",
   "execution_count": null,
   "id": "7f71963e",
   "metadata": {},
   "outputs": [],
   "source": [
    "%jsroot on\n",
    "objectName = \"c_N_Clusters\"\n",
    "c = rootDataFile[0].ClusterQC.Get(objectName)\n",
    "c.Draw()"
   ]
  },
  {
   "cell_type": "code",
   "execution_count": null,
   "id": "93c3bb31",
   "metadata": {},
   "outputs": [],
   "source": [
    "%jsroot on\n",
    "objectName = \"c_Q_Tot\"\n",
    "c = rootDataFile[0].ClusterQC.Get(objectName)\n",
    "c.Draw()"
   ]
  },
  {
   "cell_type": "markdown",
   "id": "549deb42",
   "metadata": {},
   "source": [
    "---\n",
    "## Tracks QC\n",
    "### Geometrical distributions of tracks\n",
    "**Phi distribution A-side tracks:**\n",
    "+ Run `529310` problems with sector A4"
   ]
  },
  {
   "cell_type": "code",
   "execution_count": null,
   "id": "d4d46a67",
   "metadata": {},
   "outputs": [],
   "source": [
    "%jsroot on\n",
    "objectName=\"hPhiAside\"\n",
    "[hist,legend,canvas,pad1] = drawHistograms(objectName,rootDataFile,normalize=True,legend=True,legendNames=runList,pads=False,yAxisRange = [1E-3,3.5E-3], drawOption=\"SAME L\")\n",
    "\n",
    "#Sector boundatries\n",
    "pad1.cd()\n",
    "sectorBoundary = ROOT.TLine(0,hist.GetMinimum(),0,hist.GetMaximum())\n",
    "sectorBoundary.SetLineStyle(2)\n",
    "sectorNum = ROOT.TText(.5,.5,\"test\")\n",
    "sectorNum.SetTextAlign(22)\n",
    "sectorNum.SetTextColor(ROOT.kGray+1)\n",
    "sectorNum.SetTextFont(0)\n",
    "for j in range(19):\n",
    "    sectorBoundary.DrawLine((j*2*math.pi)/18,hist.GetMinimum(),(j*2*math.pi)/18,hist.GetMaximum())\n",
    "    if j < 18 : sectorNum.DrawText(((j+0.5)*2*math.pi)/18,hist.GetMaximum(),str(j))\n",
    "    \n",
    "canvas.Draw()"
   ]
  },
  {
   "cell_type": "markdown",
   "id": "6305738a",
   "metadata": {},
   "source": [
    "**Phi distribution C-side tracks:**\n",
    "+ Runs `526512` & `526528` & `526559` problem with sector C01"
   ]
  },
  {
   "cell_type": "code",
   "execution_count": null,
   "id": "347e4057",
   "metadata": {},
   "outputs": [],
   "source": [
    "%jsroot on\n",
    "objectName=\"hPhiCside\"\n",
    "[hist,legend,canvas,pad1] = drawHistograms(objectName,rootDataFile,normalize=True,legend=True,legendNames=runList,pads=False,yAxisRange = [1.5E-3,3.5E-3], drawOption=\"SAME L\")\n",
    "\n",
    "#Sector boundatries\n",
    "pad1.cd()\n",
    "sectorBoundary = ROOT.TLine(0,hist.GetMinimum(),0,hist.GetMaximum())\n",
    "sectorBoundary.SetLineStyle(2)\n",
    "sectorNum = ROOT.TText(.5,.5,\"test\")\n",
    "sectorNum.SetTextAlign(22)\n",
    "sectorNum.SetTextColor(ROOT.kGray+1)\n",
    "sectorNum.SetTextFont(0)\n",
    "for j in range(19):\n",
    "    sectorBoundary.DrawLine((j*2*math.pi)/18,hist.GetMinimum(),(j*2*math.pi)/18,hist.GetMaximum())\n",
    "    if j < 18 : sectorNum.DrawText(((j+0.5)*2*math.pi)/18,hist.GetMaximum(),str(j))\n",
    "    \n",
    "canvas.Draw()"
   ]
  },
  {
   "cell_type": "markdown",
   "id": "87f2c477",
   "metadata": {},
   "source": [
    "### Eta distribution\n",
    "+ Runs `526776` & `526865` & `526886` & `527349` peak at eta=0 "
   ]
  },
  {
   "cell_type": "code",
   "execution_count": null,
   "id": "e2d2dcfc",
   "metadata": {},
   "outputs": [],
   "source": [
    "objectName=\"hEta\"\n",
    "[hist,legend,canvas,pad1] = drawHistograms(objectName,rootDataFile,normalize=True,legend=True,xAxisRange=[-1.1,1.1],yAxisRange=[0,9E-3],legendNames=runList,pads=False)\n",
    "canvas.Draw()"
   ]
  },
  {
   "cell_type": "code",
   "execution_count": null,
   "id": "3d6a3d10",
   "metadata": {},
   "outputs": [],
   "source": [
    "%jsroot on\n",
    "objectName=\"h2DEtaPhi\"\n",
    "[hist,legend,canvas,pad1] = drawHistograms(objectName,rootDataFile,normalize=False,legend=False,yAxisRange = [-1.1,1.1],legendNames=runList,pads=True,drawOption=\"COLZ\")\n",
    "canvas.Draw()"
   ]
  },
  {
   "cell_type": "markdown",
   "id": "738f539d",
   "metadata": {},
   "source": [
    "### Track properties\n",
    "**Transverse momentum**\n",
    "+ Runs `526776` & `526865` & `526886` & `527349` enhanced pT tail "
   ]
  },
  {
   "cell_type": "code",
   "execution_count": null,
   "id": "fe939830",
   "metadata": {},
   "outputs": [],
   "source": [
    "objectName=\"hPt\"\n",
    "[hist,legend,canvas,pad1] = drawHistograms(objectName,rootDataFile,normalize=True,legend=True,log=\"logxy\",yAxisRange = [1E-6,1E-1],legendNames=runList,pads=False)\n",
    "canvas.Draw()"
   ]
  },
  {
   "cell_type": "markdown",
   "id": "5200e396",
   "metadata": {},
   "source": [
    "**Track sign**\n",
    "+ Ratio as expected"
   ]
  },
  {
   "cell_type": "code",
   "execution_count": null,
   "id": "e222519f",
   "metadata": {},
   "outputs": [],
   "source": [
    "objectName=\"hSign\"\n",
    "[hist,legend,canvas,pad1] = drawHistograms(objectName,rootDataFile,normalize=True,legend=True,legendNames=runList,pads=False)\n",
    "canvas.Draw()"
   ]
  },
  {
   "cell_type": "markdown",
   "id": "d58cf558",
   "metadata": {},
   "source": [
    "**Charge / transverse momentum**\n",
    "+ All runs OK"
   ]
  },
  {
   "cell_type": "code",
   "execution_count": null,
   "id": "edc50695",
   "metadata": {},
   "outputs": [],
   "source": [
    "objectName=\"hQOverPt\"\n",
    "[hist,legend,canvas,pad1] = drawHistograms(objectName,rootDataFile,normalize=True,legend=True,legendNames=runList,pads=False)\n",
    "canvas.Draw()"
   ]
  },
  {
   "cell_type": "markdown",
   "id": "cb886e2a",
   "metadata": {},
   "source": [
    "### Number of clusters per track\n",
    "+ Outlier Run `529066` & `529067` lower IR"
   ]
  },
  {
   "cell_type": "code",
   "execution_count": null,
   "id": "41be7213",
   "metadata": {},
   "outputs": [],
   "source": [
    "%jsroot on\n",
    "objectName=\"hNClustersAfterCuts\"\n",
    "[hist,legend,canvas,pad1] = drawHistograms(objectName,rootDataFile,normalize=True,legend=True,xAxisRange = [50,160],yAxisRange=[0,3E-2],legendNames=runList,pads=False)\n",
    "canvas.Draw()"
   ]
  },
  {
   "cell_type": "markdown",
   "id": "91903ed3",
   "metadata": {},
   "source": [
    "### nClusters vs eta\n",
    "+ Runs `526776` & `526865` & `526886` & `527349` peak at eta=0 "
   ]
  },
  {
   "cell_type": "code",
   "execution_count": null,
   "id": "65b42b04",
   "metadata": {},
   "outputs": [],
   "source": [
    "%jsroot on\n",
    "objectName=\"h2DNClustersEta\"\n",
    "[hist,legend,canvas,pad1] = drawHistograms(objectName,rootDataFile,normalize=False,legend=False,xAxisRange = [-1.1,1.1],yAxisRange = [50,170],legendNames=runList,pads=True,drawOption=\"COLZ\")\n",
    "canvas.Draw()"
   ]
  },
  {
   "cell_type": "markdown",
   "id": "e45c2782",
   "metadata": {},
   "source": [
    "### nClusters vs phi A side"
   ]
  },
  {
   "cell_type": "code",
   "execution_count": null,
   "id": "00bcc43d",
   "metadata": {},
   "outputs": [],
   "source": [
    "%jsroot on\n",
    "objectName=\"h2DNClustersPhiAside\"\n",
    "[hist,legend,canvas,pad1] = drawHistograms(objectName,rootDataFile,normalize=False,legend=False,yAxisRange = [50,170],legendNames=runList,pads=True,drawOption=\"COLZ\")\n",
    "canvas.Draw()"
   ]
  },
  {
   "cell_type": "markdown",
   "id": "375d3e1f",
   "metadata": {},
   "source": [
    "### nClusters vs phi C side"
   ]
  },
  {
   "cell_type": "code",
   "execution_count": null,
   "id": "bdf4a53f",
   "metadata": {},
   "outputs": [],
   "source": [
    "%jsroot on\n",
    "objectName=\"h2DNClustersPhiCside\"\n",
    "[hist,legend,canvas,pad1] = drawHistograms(objectName,rootDataFile,normalize=False,legend=False,yAxisRange = [50,170],legendNames=runList,pads=True,drawOption=\"COLZ\")\n",
    "canvas.Draw()"
   ]
  },
  {
   "cell_type": "markdown",
   "id": "9254b83e",
   "metadata": {},
   "source": [
    "### nClusters vs transverse momentum\n",
    "+ All runs OK"
   ]
  },
  {
   "cell_type": "code",
   "execution_count": null,
   "id": "880764e9",
   "metadata": {},
   "outputs": [],
   "source": [
    "%jsroot on\n",
    "objectName=\"h2DNClustersPt\"\n",
    "[hist,legend,canvas,pad1] = drawHistograms(objectName,rootDataFile,normalize=False,legend=False,log=\"logx\",yAxisRange = [50,170],legendNames=runList,pads=True,drawOption=\"COLZ\")\n",
    "canvas.Draw()"
   ]
  },
  {
   "cell_type": "markdown",
   "id": "8d8b92cf",
   "metadata": {},
   "source": [
    "### PID\n",
    "+ All runs OK"
   ]
  },
  {
   "cell_type": "code",
   "execution_count": null,
   "id": "38a1fd71",
   "metadata": {},
   "outputs": [],
   "source": [
    "%jsroot on\n",
    "objectName=\"hdEdxTotMIP_TPC\"\n",
    "#quality = checkHistograms(objectName,rootDataFile,check=\"(histogram.Fit(\\\"gaus\\\",\\\"Sq\\\",\\\"\\\",40,60)) and 49<histogram.GetFunction(\\\"gaus\\\").GetParameter(1)<51\")\n",
    "[hist,legend,canvas,pad1] = drawHistograms(objectName,rootDataFile,legendNames=runList,normalize=True,log=\"logx\",yAxisRange=[0,0.12],legend=True,pads=False)\n",
    "\n",
    "pad1.cd()\n",
    "sectorBoundary = ROOT.TLine(50,hist.GetMinimum(),50,hist.GetMaximum())\n",
    "sectorBoundary.SetLineStyle(2)\n",
    "sectorBoundary.SetLineWidth(4)\n",
    "sectorBoundary.Draw()\n",
    "    \n",
    "canvas.Draw()"
   ]
  },
  {
   "cell_type": "markdown",
   "id": "b9ed6bf3",
   "metadata": {},
   "source": [
    "## TPC Gain calibration\n",
    "**dEdx of MIP vs sector**\n",
    "+ All runs have uniform dEdx response in sector"
   ]
  },
  {
   "cell_type": "code",
   "execution_count": null,
   "id": "8b9d2bb7",
   "metadata": {},
   "outputs": [],
   "source": [
    "%jsroot on\n",
    "objectName=\"hdEdxTotMIPVsSec_TPC\"\n",
    "[hist,legend,canvas,pad1] = drawHistograms(objectName,rootDataFile,normalize=False,legend=False,log=\"logy\",legendNames=runList,pads=True,drawOption=\"COLZ\")\n",
    "canvas.Draw()"
   ]
  },
  {
   "cell_type": "markdown",
   "id": "dedc1882",
   "metadata": {},
   "source": [
    "**dEdx of Mip vs nClusters**\n",
    "* All runs OK"
   ]
  },
  {
   "cell_type": "code",
   "execution_count": null,
   "id": "09d8a306",
   "metadata": {},
   "outputs": [],
   "source": [
    "%jsroot on\n",
    "objectName=\"hdEdxTotMIPVsNcl_TPC\"\n",
    "[hist,legend,canvas,pad1] = drawHistograms(objectName,rootDataFile,normalize=False,legend=False,log=\"logz\",xAxisRange = [55,180],legendNames=runList,pads=True,drawOption=\"COLZ\")\n",
    "canvas.Draw()"
   ]
  },
  {
   "cell_type": "markdown",
   "id": "61714520",
   "metadata": {},
   "source": [
    "**dEdx of Mip vs sin(phi)**\n",
    "* All runs OK"
   ]
  },
  {
   "cell_type": "code",
   "execution_count": null,
   "id": "14ca62a2",
   "metadata": {},
   "outputs": [],
   "source": [
    "%jsroot on\n",
    "objectName=\"hdEdxTotMIPVsSnp_TPC\"\n",
    "[hist,legend,canvas,pad1] = drawHistograms(objectName,rootDataFile,normalize=False,legend=False,log=\"logz\",legendNames=runList,pads=True,drawOption=\"COLZ\")\n",
    "canvas.Draw()"
   ]
  },
  {
   "cell_type": "markdown",
   "id": "560a30ec",
   "metadata": {},
   "source": [
    "**dEdx of Mip vs tan(lambda)**\n",
    "* All runs OK"
   ]
  },
  {
   "cell_type": "code",
   "execution_count": null,
   "id": "0189d813",
   "metadata": {},
   "outputs": [],
   "source": [
    "%jsroot on\n",
    "objectName=\"hdEdxTotMIPVsTgl_TPC\"\n",
    "[hist,legend,canvas,pad1] = drawHistograms(objectName,rootDataFile,normalize=False,legend=False,log=\"logz\",legendNames=runList,pads=True,drawOption=\"COLZ\")\n",
    "canvas.Draw()"
   ]
  },
  {
   "cell_type": "markdown",
   "id": "4d5e6ec8",
   "metadata": {},
   "source": [
    "### dEdx vs p\n",
    "+ Runs `526776` & `526865` & `526886` & `527349` band at high dEdx (~1000) with high momentum"
   ]
  },
  {
   "cell_type": "code",
   "execution_count": null,
   "id": "a3f91098",
   "metadata": {},
   "outputs": [],
   "source": [
    "%jsroot on\n",
    "objectName=\"hdEdxTotVsP_TPC\"\n",
    "[hist,legend,canvas,pad1] = drawHistograms(objectName,rootDataFile,normalize=False,legend=False,log=\"logxyz\",legendNames=runList,pads=True,drawOption=\"COLZ\")\n",
    "canvas.Draw()"
   ]
  },
  {
   "cell_type": "code",
   "execution_count": null,
   "id": "b0dbd4cf",
   "metadata": {},
   "outputs": [],
   "source": []
  },
  {
   "cell_type": "code",
   "execution_count": null,
   "id": "71ea38f6",
   "metadata": {},
   "outputs": [],
   "source": []
  }
 ],
 "metadata": {
  "kernelspec": {
   "display_name": "Python 3 (ipykernel)",
   "language": "python",
   "name": "python3"
  },
  "language_info": {
   "codemirror_mode": {
    "name": "ipython",
    "version": 3
   },
   "file_extension": ".py",
   "mimetype": "text/x-python",
   "name": "python",
   "nbconvert_exporter": "python",
   "pygments_lexer": "ipython3",
   "version": "3.9.12"
  },
  "toc": {
   "base_numbering": 1,
   "nav_menu": {},
   "number_sections": false,
   "sideBar": false,
   "skip_h1_title": true,
   "title_cell": "Table of Contents",
   "title_sidebar": "Contents",
   "toc_cell": true,
   "toc_position": {},
   "toc_section_display": true,
   "toc_window_display": false
  },
  "widgets": {
   "application/vnd.jupyter.widget-state+json": {
    "state": {
     "0406058ce7b34920a5002f002b388a11": {
      "model_module": "@jupyter-widgets/output",
      "model_module_version": "1.0.0",
      "model_name": "OutputModel",
      "state": {
       "layout": "IPY_MODEL_e5c089c3d1f54e06aa7c69d6be7b7d7a"
      }
     },
     "04f7abbb945649049c088602c240cddf": {
      "model_module": "@jupyter-widgets/controls",
      "model_module_version": "1.4.0",
      "model_name": "ButtonModel",
      "state": {
       "_model_module_version": "1.4.0",
       "_view_module_version": "1.4.0",
       "description": "Save to Root",
       "layout": "IPY_MODEL_a3a8439080a4433c8cfc3592bcac145a",
       "style": "IPY_MODEL_ca9438839a46429aaa3f24354ee42db5"
      }
     },
     "0879c08a037c40b59978c9acbf2b6698": {
      "model_module": "@jupyter-widgets/controls",
      "model_module_version": "1.4.0",
      "model_name": "ButtonStyleModel",
      "state": {
       "_model_module_version": "1.4.0",
       "_view_module_version": "1.1.0"
      }
     },
     "0e66ecb30df5491980f781135fa73613": {
      "model_module": "@jupyter-widgets/controls",
      "model_module_version": "1.4.0",
      "model_name": "ButtonStyleModel",
      "state": {
       "_model_module_version": "1.4.0",
       "_view_module_version": "1.1.0"
      }
     },
     "0ee941a35f4e48c0ae62d26a3e4022b9": {
      "model_module": "@jupyter-widgets/controls",
      "model_module_version": "1.4.0",
      "model_name": "ButtonModel",
      "state": {
       "_model_module_version": "1.4.0",
       "_view_module_version": "1.4.0",
       "description": "Save to Root",
       "layout": "IPY_MODEL_4e0b4767d50c45d4a3059b25b084f5ae",
       "style": "IPY_MODEL_6f24f617f4e8405baa6588f13c520940"
      }
     },
     "1088528976754aab8271549957380321": {
      "model_module": "@jupyter-widgets/controls",
      "model_module_version": "1.4.0",
      "model_name": "ButtonModel",
      "state": {
       "_model_module_version": "1.4.0",
       "_view_module_version": "1.4.0",
       "description": "Save to PDF",
       "layout": "IPY_MODEL_56dbdc8b10b144ecab1eb0b2dd996fbe",
       "style": "IPY_MODEL_0879c08a037c40b59978c9acbf2b6698"
      }
     },
     "10ee510d3cee4e4fbc3f48e8b75680c2": {
      "model_module": "@jupyter-widgets/base",
      "model_module_version": "1.1.0",
      "model_name": "LayoutModel",
      "state": {
       "_model_module_version": "1.1.0",
       "_view_module_version": "1.1.0",
       "border": null,
       "overflow_x": null,
       "overflow_y": null
      }
     },
     "20e680f74b7d40f395649181965c1d39": {
      "model_module": "@jupyter-widgets/controls",
      "model_module_version": "1.4.0",
      "model_name": "ButtonStyleModel",
      "state": {
       "_model_module_version": "1.4.0",
       "_view_module_version": "1.1.0"
      }
     },
     "26fda7ba48bf41428588a380515d67c5": {
      "model_module": "@jupyter-widgets/base",
      "model_module_version": "1.1.0",
      "model_name": "LayoutModel",
      "state": {
       "_model_module_version": "1.1.0",
       "_view_module_version": "1.1.0",
       "border": null,
       "overflow_x": null,
       "overflow_y": null
      }
     },
     "2926bb68cdaa4f858a67ce97bd19c469": {
      "model_module": "@jupyter-widgets/output",
      "model_module_version": "1.0.0",
      "model_name": "OutputModel",
      "state": {
       "layout": "IPY_MODEL_9eb16856a0e443978661ce094f708029"
      }
     },
     "2ae503cdb98942fd9cfe9369ff0968de": {
      "model_module": "@jupyter-widgets/base",
      "model_module_version": "1.1.0",
      "model_name": "LayoutModel",
      "state": {
       "_model_module_version": "1.1.0",
       "_view_module_version": "1.1.0",
       "border": null,
       "overflow_x": null,
       "overflow_y": null
      }
     },
     "36c7b3e4573e44f19456b149ff230bc6": {
      "model_module": "@jupyter-widgets/base",
      "model_module_version": "1.1.0",
      "model_name": "LayoutModel",
      "state": {
       "_model_module_version": "1.1.0",
       "_view_module_version": "1.1.0",
       "border": null,
       "overflow_x": null,
       "overflow_y": null
      }
     },
     "384fad664c4549dbbfc6371a56598c46": {
      "model_module": "@jupyter-widgets/controls",
      "model_module_version": "1.4.0",
      "model_name": "ButtonStyleModel",
      "state": {
       "_model_module_version": "1.4.0",
       "_view_module_version": "1.1.0"
      }
     },
     "395a63505c3c454cac74c6db62abe6ec": {
      "model_module": "@jupyter-widgets/base",
      "model_module_version": "1.1.0",
      "model_name": "LayoutModel",
      "state": {
       "_model_module_version": "1.1.0",
       "_view_module_version": "1.1.0",
       "border": null,
       "overflow_x": null,
       "overflow_y": null
      }
     },
     "3af37c07964a4ae7b4c80a9e18031e8c": {
      "model_module": "@jupyter-widgets/base",
      "model_module_version": "1.1.0",
      "model_name": "LayoutModel",
      "state": {
       "_model_module_version": "1.1.0",
       "_view_module_version": "1.1.0",
       "border": null,
       "overflow_x": null,
       "overflow_y": null
      }
     },
     "3dcab56d27034a0a9cd076681a0c3af3": {
      "model_module": "@jupyter-widgets/controls",
      "model_module_version": "1.4.0",
      "model_name": "ButtonStyleModel",
      "state": {
       "_model_module_version": "1.4.0",
       "_view_module_version": "1.1.0"
      }
     },
     "4e0b4767d50c45d4a3059b25b084f5ae": {
      "model_module": "@jupyter-widgets/base",
      "model_module_version": "1.1.0",
      "model_name": "LayoutModel",
      "state": {
       "_model_module_version": "1.1.0",
       "_view_module_version": "1.1.0",
       "border": null,
       "overflow_x": null,
       "overflow_y": null
      }
     },
     "50ad71ba430a4e65af089a66a036d98f": {
      "model_module": "@jupyter-widgets/output",
      "model_module_version": "1.0.0",
      "model_name": "OutputModel",
      "state": {
       "layout": "IPY_MODEL_7afbf7a09ee940d988779e898d39f6b1",
       "outputs": [
        {
         "ename": "NameError",
         "evalue": "name 'TFile' is not defined",
         "output_type": "error",
         "traceback": [
          "\u001b[0;31m---------------------------------------------------------------------------\u001b[0m",
          "\u001b[0;31mNameError\u001b[0m                                 Traceback (most recent call last)",
          "\u001b[0;32m<ipython-input-43-4b1715ce1e25>\u001b[0m in \u001b[0;36msaveButtonRoot\u001b[0;34m(b)\u001b[0m\n\u001b[1;32m      5\u001b[0m \u001b[0;32mdef\u001b[0m \u001b[0msaveButtonRoot\u001b[0m\u001b[0;34m(\u001b[0m\u001b[0mb\u001b[0m\u001b[0;34m)\u001b[0m\u001b[0;34m:\u001b[0m\u001b[0;34m\u001b[0m\u001b[0;34m\u001b[0m\u001b[0m\n\u001b[1;32m      6\u001b[0m     \u001b[0;32mwith\u001b[0m \u001b[0moutput\u001b[0m\u001b[0;34m:\u001b[0m\u001b[0;34m\u001b[0m\u001b[0;34m\u001b[0m\u001b[0m\n\u001b[0;32m----> 7\u001b[0;31m         \u001b[0;32mwith\u001b[0m \u001b[0mTFile\u001b[0m\u001b[0;34m(\u001b[0m\u001b[0;34m\"file1.root\"\u001b[0m\u001b[0;34m,\u001b[0m \u001b[0;34m\"recreate\"\u001b[0m\u001b[0;34m)\u001b[0m \u001b[0;32mas\u001b[0m \u001b[0moutfile\u001b[0m\u001b[0;34m:\u001b[0m\u001b[0;34m\u001b[0m\u001b[0;34m\u001b[0m\u001b[0m\n\u001b[0m\u001b[1;32m      8\u001b[0m             \u001b[0moutfile\u001b[0m\u001b[0;34m.\u001b[0m\u001b[0mWriteObject\u001b[0m\u001b[0;34m(\u001b[0m\u001b[0mcanvas\u001b[0m\u001b[0;34m,\u001b[0m \u001b[0;34m\"myCanvas\"\u001b[0m\u001b[0;34m)\u001b[0m\u001b[0;34m\u001b[0m\u001b[0;34m\u001b[0m\u001b[0m\n",
          "\u001b[0;31mNameError\u001b[0m: name 'TFile' is not defined"
         ]
        }
       ]
      }
     },
     "56dbdc8b10b144ecab1eb0b2dd996fbe": {
      "model_module": "@jupyter-widgets/base",
      "model_module_version": "1.1.0",
      "model_name": "LayoutModel",
      "state": {
       "_model_module_version": "1.1.0",
       "_view_module_version": "1.1.0",
       "border": null,
       "overflow_x": null,
       "overflow_y": null
      }
     },
     "60e33b896df246778339f4dff4be8f25": {
      "model_module": "@jupyter-widgets/controls",
      "model_module_version": "1.4.0",
      "model_name": "ButtonModel",
      "state": {
       "_model_module_version": "1.4.0",
       "_view_module_version": "1.4.0",
       "description": "Save to PDF",
       "layout": "IPY_MODEL_395a63505c3c454cac74c6db62abe6ec",
       "style": "IPY_MODEL_818a6a2006cd45a685b9b1bbc4db9c76"
      }
     },
     "62f5350b3b1440088cb5206a67058fde": {
      "model_module": "@jupyter-widgets/base",
      "model_module_version": "1.1.0",
      "model_name": "LayoutModel",
      "state": {
       "_model_module_version": "1.1.0",
       "_view_module_version": "1.1.0",
       "border": null,
       "overflow_x": null,
       "overflow_y": null
      }
     },
     "695713c99706467f875821a5ef7f992e": {
      "model_module": "@jupyter-widgets/controls",
      "model_module_version": "1.4.0",
      "model_name": "ButtonStyleModel",
      "state": {
       "_model_module_version": "1.4.0",
       "_view_module_version": "1.1.0"
      }
     },
     "6a80bacd37dd4454a07080adc1395665": {
      "model_module": "@jupyter-widgets/base",
      "model_module_version": "1.1.0",
      "model_name": "LayoutModel",
      "state": {
       "_model_module_version": "1.1.0",
       "_view_module_version": "1.1.0",
       "border": null,
       "overflow_x": null,
       "overflow_y": null
      }
     },
     "6b44fe66f54148a9995780522c1665ad": {
      "model_module": "@jupyter-widgets/controls",
      "model_module_version": "1.4.0",
      "model_name": "ButtonModel",
      "state": {
       "_model_module_version": "1.4.0",
       "_view_module_version": "1.4.0",
       "description": "Save to Root",
       "layout": "IPY_MODEL_36c7b3e4573e44f19456b149ff230bc6",
       "style": "IPY_MODEL_72aeead3a6904e9ea2c2a224224a8c63"
      }
     },
     "6f24f617f4e8405baa6588f13c520940": {
      "model_module": "@jupyter-widgets/controls",
      "model_module_version": "1.4.0",
      "model_name": "ButtonStyleModel",
      "state": {
       "_model_module_version": "1.4.0",
       "_view_module_version": "1.1.0"
      }
     },
     "72aeead3a6904e9ea2c2a224224a8c63": {
      "model_module": "@jupyter-widgets/controls",
      "model_module_version": "1.4.0",
      "model_name": "ButtonStyleModel",
      "state": {
       "_model_module_version": "1.4.0",
       "_view_module_version": "1.1.0"
      }
     },
     "7afbf7a09ee940d988779e898d39f6b1": {
      "model_module": "@jupyter-widgets/base",
      "model_module_version": "1.1.0",
      "model_name": "LayoutModel",
      "state": {
       "_model_module_version": "1.1.0",
       "_view_module_version": "1.1.0",
       "border": null,
       "overflow_x": null,
       "overflow_y": null
      }
     },
     "818a6a2006cd45a685b9b1bbc4db9c76": {
      "model_module": "@jupyter-widgets/controls",
      "model_module_version": "1.4.0",
      "model_name": "ButtonStyleModel",
      "state": {
       "_model_module_version": "1.4.0",
       "_view_module_version": "1.1.0"
      }
     },
     "823ef688583b43b3b7dc29e5d3422aa8": {
      "model_module": "@jupyter-widgets/output",
      "model_module_version": "1.0.0",
      "model_name": "OutputModel",
      "state": {
       "layout": "IPY_MODEL_8aa1aa0ffe69479fba520c5f0e95576b"
      }
     },
     "831b63241ada4949ae7ddc9cf3f6f3ad": {
      "model_module": "@jupyter-widgets/base",
      "model_module_version": "1.1.0",
      "model_name": "LayoutModel",
      "state": {
       "_model_module_version": "1.1.0",
       "_view_module_version": "1.1.0",
       "border": null,
       "overflow_x": null,
       "overflow_y": null
      }
     },
     "8417421b463a46c9872d37497c3b663d": {
      "model_module": "@jupyter-widgets/controls",
      "model_module_version": "1.4.0",
      "model_name": "ButtonModel",
      "state": {
       "_model_module_version": "1.4.0",
       "_view_module_version": "1.4.0",
       "description": "Save to Root",
       "layout": "IPY_MODEL_9a4fe9d3c94d4621bf792f335bbd40fe",
       "style": "IPY_MODEL_f771512ee9df4ba5bee6a026a4e83de5"
      }
     },
     "8aa1aa0ffe69479fba520c5f0e95576b": {
      "model_module": "@jupyter-widgets/base",
      "model_module_version": "1.1.0",
      "model_name": "LayoutModel",
      "state": {
       "_model_module_version": "1.1.0",
       "_view_module_version": "1.1.0",
       "border": null,
       "overflow_x": null,
       "overflow_y": null
      }
     },
     "8d62ef6a181e417c949955ba277e179d": {
      "model_module": "@jupyter-widgets/output",
      "model_module_version": "1.0.0",
      "model_name": "OutputModel",
      "state": {
       "layout": "IPY_MODEL_b9925dbb44cf40f0a3e0fa6aaff4d77f",
       "outputs": [
        {
         "ename": "AttributeError",
         "evalue": "__enter__",
         "output_type": "error",
         "traceback": [
          "\u001b[0;31m---------------------------------------------------------------------------\u001b[0m",
          "\u001b[0;31mAttributeError\u001b[0m                            Traceback (most recent call last)",
          "\u001b[0;32m<ipython-input-46-87e37fcb9b6d>\u001b[0m in \u001b[0;36msaveButtonRoot\u001b[0;34m(b)\u001b[0m\n\u001b[1;32m      5\u001b[0m \u001b[0;32mdef\u001b[0m \u001b[0msaveButtonRoot\u001b[0m\u001b[0;34m(\u001b[0m\u001b[0mb\u001b[0m\u001b[0;34m)\u001b[0m\u001b[0;34m:\u001b[0m\u001b[0;34m\u001b[0m\u001b[0;34m\u001b[0m\u001b[0m\n\u001b[1;32m      6\u001b[0m     \u001b[0;32mwith\u001b[0m \u001b[0moutput\u001b[0m\u001b[0;34m:\u001b[0m\u001b[0;34m\u001b[0m\u001b[0;34m\u001b[0m\u001b[0m\n\u001b[0;32m----> 7\u001b[0;31m         \u001b[0;32mwith\u001b[0m \u001b[0mROOT\u001b[0m\u001b[0;34m.\u001b[0m\u001b[0mTFile\u001b[0m\u001b[0;34m(\u001b[0m\u001b[0;34m\"file1.root\"\u001b[0m\u001b[0;34m,\u001b[0m \u001b[0;34m\"recreate\"\u001b[0m\u001b[0;34m)\u001b[0m \u001b[0;32mas\u001b[0m \u001b[0moutfile\u001b[0m\u001b[0;34m:\u001b[0m\u001b[0;34m\u001b[0m\u001b[0;34m\u001b[0m\u001b[0m\n\u001b[0m\u001b[1;32m      8\u001b[0m             \u001b[0moutfile\u001b[0m\u001b[0;34m.\u001b[0m\u001b[0mWriteObject\u001b[0m\u001b[0;34m(\u001b[0m\u001b[0mcanvas\u001b[0m\u001b[0;34m,\u001b[0m \u001b[0;34m\"myCanvas\"\u001b[0m\u001b[0;34m)\u001b[0m\u001b[0;34m\u001b[0m\u001b[0;34m\u001b[0m\u001b[0m\n",
          "\u001b[0;31mAttributeError\u001b[0m: __enter__"
         ]
        },
        {
         "ename": "AttributeError",
         "evalue": "__enter__",
         "output_type": "error",
         "traceback": [
          "\u001b[0;31m---------------------------------------------------------------------------\u001b[0m",
          "\u001b[0;31mAttributeError\u001b[0m                            Traceback (most recent call last)",
          "\u001b[0;32m<ipython-input-46-87e37fcb9b6d>\u001b[0m in \u001b[0;36msaveButtonRoot\u001b[0;34m(b)\u001b[0m\n\u001b[1;32m      5\u001b[0m \u001b[0;32mdef\u001b[0m \u001b[0msaveButtonRoot\u001b[0m\u001b[0;34m(\u001b[0m\u001b[0mb\u001b[0m\u001b[0;34m)\u001b[0m\u001b[0;34m:\u001b[0m\u001b[0;34m\u001b[0m\u001b[0;34m\u001b[0m\u001b[0m\n\u001b[1;32m      6\u001b[0m     \u001b[0;32mwith\u001b[0m \u001b[0moutput\u001b[0m\u001b[0;34m:\u001b[0m\u001b[0;34m\u001b[0m\u001b[0;34m\u001b[0m\u001b[0m\n\u001b[0;32m----> 7\u001b[0;31m         \u001b[0;32mwith\u001b[0m \u001b[0mROOT\u001b[0m\u001b[0;34m.\u001b[0m\u001b[0mTFile\u001b[0m\u001b[0;34m(\u001b[0m\u001b[0;34m\"file1.root\"\u001b[0m\u001b[0;34m,\u001b[0m \u001b[0;34m\"recreate\"\u001b[0m\u001b[0;34m)\u001b[0m \u001b[0;32mas\u001b[0m \u001b[0moutfile\u001b[0m\u001b[0;34m:\u001b[0m\u001b[0;34m\u001b[0m\u001b[0;34m\u001b[0m\u001b[0m\n\u001b[0m\u001b[1;32m      8\u001b[0m             \u001b[0moutfile\u001b[0m\u001b[0;34m.\u001b[0m\u001b[0mWriteObject\u001b[0m\u001b[0;34m(\u001b[0m\u001b[0mcanvas\u001b[0m\u001b[0;34m,\u001b[0m \u001b[0;34m\"myCanvas\"\u001b[0m\u001b[0;34m)\u001b[0m\u001b[0;34m\u001b[0m\u001b[0;34m\u001b[0m\u001b[0m\n",
          "\u001b[0;31mAttributeError\u001b[0m: __enter__"
         ]
        }
       ]
      }
     },
     "9242204266e343ae8a441c776e80f4f0": {
      "model_module": "@jupyter-widgets/controls",
      "model_module_version": "1.4.0",
      "model_name": "ButtonStyleModel",
      "state": {
       "_model_module_version": "1.4.0",
       "_view_module_version": "1.1.0"
      }
     },
     "929e5779ad394a799083037ff870d526": {
      "model_module": "@jupyter-widgets/controls",
      "model_module_version": "1.4.0",
      "model_name": "ButtonStyleModel",
      "state": {
       "_model_module_version": "1.4.0",
       "_view_module_version": "1.1.0"
      }
     },
     "93749ab864be49de92dbce533bdae34f": {
      "model_module": "@jupyter-widgets/base",
      "model_module_version": "1.1.0",
      "model_name": "LayoutModel",
      "state": {
       "_model_module_version": "1.1.0",
       "_view_module_version": "1.1.0",
       "border": null,
       "overflow_x": null,
       "overflow_y": null
      }
     },
     "938ac682ac6545cfb80a6da1bc8c26c1": {
      "model_module": "@jupyter-widgets/output",
      "model_module_version": "1.0.0",
      "model_name": "OutputModel",
      "state": {
       "layout": "IPY_MODEL_ce589ac0e83d4bd38fd711550e349c6a"
      }
     },
     "9a4fe9d3c94d4621bf792f335bbd40fe": {
      "model_module": "@jupyter-widgets/base",
      "model_module_version": "1.1.0",
      "model_name": "LayoutModel",
      "state": {
       "_model_module_version": "1.1.0",
       "_view_module_version": "1.1.0",
       "border": null,
       "overflow_x": null,
       "overflow_y": null
      }
     },
     "9e2719717feb49c9938e46061e59b4a1": {
      "model_module": "@jupyter-widgets/output",
      "model_module_version": "1.0.0",
      "model_name": "OutputModel",
      "state": {
       "layout": "IPY_MODEL_10ee510d3cee4e4fbc3f48e8b75680c2"
      }
     },
     "9eb16856a0e443978661ce094f708029": {
      "model_module": "@jupyter-widgets/base",
      "model_module_version": "1.1.0",
      "model_name": "LayoutModel",
      "state": {
       "_model_module_version": "1.1.0",
       "_view_module_version": "1.1.0",
       "border": null,
       "overflow_x": null,
       "overflow_y": null
      }
     },
     "9fdc5097fef143f580581ed9f63baf19": {
      "model_module": "@jupyter-widgets/controls",
      "model_module_version": "1.4.0",
      "model_name": "ButtonModel",
      "state": {
       "_model_module_version": "1.4.0",
       "_view_module_version": "1.4.0",
       "description": "Save to PDF",
       "layout": "IPY_MODEL_6a80bacd37dd4454a07080adc1395665",
       "style": "IPY_MODEL_9242204266e343ae8a441c776e80f4f0"
      }
     },
     "a0caf4fc7e3e4a0daf064e63c0e3234a": {
      "model_module": "@jupyter-widgets/output",
      "model_module_version": "1.0.0",
      "model_name": "OutputModel",
      "state": {
       "layout": "IPY_MODEL_93749ab864be49de92dbce533bdae34f"
      }
     },
     "a2eef3a45bed4115932b9e88827850e1": {
      "model_module": "@jupyter-widgets/controls",
      "model_module_version": "1.4.0",
      "model_name": "ButtonModel",
      "state": {
       "_model_module_version": "1.4.0",
       "_view_module_version": "1.4.0",
       "description": "Save to PDF",
       "layout": "IPY_MODEL_831b63241ada4949ae7ddc9cf3f6f3ad",
       "style": "IPY_MODEL_20e680f74b7d40f395649181965c1d39"
      }
     },
     "a39b71b5f18a4a3089aae76958a3cc55": {
      "model_module": "@jupyter-widgets/base",
      "model_module_version": "1.1.0",
      "model_name": "LayoutModel",
      "state": {
       "_model_module_version": "1.1.0",
       "_view_module_version": "1.1.0",
       "border": null,
       "overflow_x": null,
       "overflow_y": null
      }
     },
     "a3a8439080a4433c8cfc3592bcac145a": {
      "model_module": "@jupyter-widgets/base",
      "model_module_version": "1.1.0",
      "model_name": "LayoutModel",
      "state": {
       "_model_module_version": "1.1.0",
       "_view_module_version": "1.1.0",
       "border": null,
       "overflow_x": null,
       "overflow_y": null
      }
     },
     "a8c867acf084415fba648604326f8c9d": {
      "model_module": "@jupyter-widgets/controls",
      "model_module_version": "1.4.0",
      "model_name": "ButtonStyleModel",
      "state": {
       "_model_module_version": "1.4.0",
       "_view_module_version": "1.1.0"
      }
     },
     "b635d6f1a72043699079245523aadc13": {
      "model_module": "@jupyter-widgets/base",
      "model_module_version": "1.1.0",
      "model_name": "LayoutModel",
      "state": {
       "_model_module_version": "1.1.0",
       "_view_module_version": "1.1.0",
       "border": null,
       "overflow_x": null,
       "overflow_y": null
      }
     },
     "b97779ed35cd4f1f8b3d360fd1d1cc0e": {
      "model_module": "@jupyter-widgets/controls",
      "model_module_version": "1.4.0",
      "model_name": "ButtonModel",
      "state": {
       "_model_module_version": "1.4.0",
       "_view_module_version": "1.4.0",
       "description": "Save to PDF",
       "layout": "IPY_MODEL_b635d6f1a72043699079245523aadc13",
       "style": "IPY_MODEL_0e66ecb30df5491980f781135fa73613"
      }
     },
     "b9925dbb44cf40f0a3e0fa6aaff4d77f": {
      "model_module": "@jupyter-widgets/base",
      "model_module_version": "1.1.0",
      "model_name": "LayoutModel",
      "state": {
       "_model_module_version": "1.1.0",
       "_view_module_version": "1.1.0",
       "border": null,
       "overflow_x": null,
       "overflow_y": null
      }
     },
     "c38d6de6905f44c4b32b9c73fb8276ba": {
      "model_module": "@jupyter-widgets/controls",
      "model_module_version": "1.4.0",
      "model_name": "ButtonModel",
      "state": {
       "_model_module_version": "1.4.0",
       "_view_module_version": "1.4.0",
       "description": "Save to PDF",
       "layout": "IPY_MODEL_fa9655bf72304c2bb97bf8c45500503b",
       "style": "IPY_MODEL_929e5779ad394a799083037ff870d526"
      }
     },
     "c52a903ddba4487e93fc08785f78bdbe": {
      "model_module": "@jupyter-widgets/controls",
      "model_module_version": "1.4.0",
      "model_name": "ButtonModel",
      "state": {
       "_model_module_version": "1.4.0",
       "_view_module_version": "1.4.0",
       "description": "Save to PDF",
       "layout": "IPY_MODEL_26fda7ba48bf41428588a380515d67c5",
       "style": "IPY_MODEL_695713c99706467f875821a5ef7f992e"
      }
     },
     "ca9438839a46429aaa3f24354ee42db5": {
      "model_module": "@jupyter-widgets/controls",
      "model_module_version": "1.4.0",
      "model_name": "ButtonStyleModel",
      "state": {
       "_model_module_version": "1.4.0",
       "_view_module_version": "1.1.0"
      }
     },
     "cce918eab1414c88ad12d08f31aaac47": {
      "model_module": "@jupyter-widgets/controls",
      "model_module_version": "1.4.0",
      "model_name": "ButtonModel",
      "state": {
       "_model_module_version": "1.4.0",
       "_view_module_version": "1.4.0",
       "description": "Save to PDF",
       "layout": "IPY_MODEL_f2a3cad8e9254cc9af9a6ed86874d83d",
       "style": "IPY_MODEL_a8c867acf084415fba648604326f8c9d"
      }
     },
     "ce589ac0e83d4bd38fd711550e349c6a": {
      "model_module": "@jupyter-widgets/base",
      "model_module_version": "1.1.0",
      "model_name": "LayoutModel",
      "state": {
       "_model_module_version": "1.1.0",
       "_view_module_version": "1.1.0",
       "border": null,
       "overflow_x": null,
       "overflow_y": null
      }
     },
     "d3e65f21f57643d188d5b1e4b7c7775c": {
      "model_module": "@jupyter-widgets/controls",
      "model_module_version": "1.4.0",
      "model_name": "ButtonModel",
      "state": {
       "_model_module_version": "1.4.0",
       "_view_module_version": "1.4.0",
       "description": "Save to PDF",
       "layout": "IPY_MODEL_a39b71b5f18a4a3089aae76958a3cc55",
       "style": "IPY_MODEL_384fad664c4549dbbfc6371a56598c46"
      }
     },
     "d4b09a17060d4dc19cad65f89af8b8b1": {
      "model_module": "@jupyter-widgets/controls",
      "model_module_version": "1.4.0",
      "model_name": "ButtonModel",
      "state": {
       "_model_module_version": "1.4.0",
       "_view_module_version": "1.4.0",
       "description": "Save to PDF",
       "layout": "IPY_MODEL_62f5350b3b1440088cb5206a67058fde",
       "style": "IPY_MODEL_3dcab56d27034a0a9cd076681a0c3af3"
      }
     },
     "e5c089c3d1f54e06aa7c69d6be7b7d7a": {
      "model_module": "@jupyter-widgets/base",
      "model_module_version": "1.1.0",
      "model_name": "LayoutModel",
      "state": {
       "_model_module_version": "1.1.0",
       "_view_module_version": "1.1.0",
       "border": null,
       "overflow_x": null,
       "overflow_y": null
      }
     },
     "e6380f2797b54ba8b9859882ee113294": {
      "model_module": "@jupyter-widgets/output",
      "model_module_version": "1.0.0",
      "model_name": "OutputModel",
      "state": {
       "layout": "IPY_MODEL_3af37c07964a4ae7b4c80a9e18031e8c"
      }
     },
     "f2a3cad8e9254cc9af9a6ed86874d83d": {
      "model_module": "@jupyter-widgets/base",
      "model_module_version": "1.1.0",
      "model_name": "LayoutModel",
      "state": {
       "_model_module_version": "1.1.0",
       "_view_module_version": "1.1.0",
       "border": null,
       "overflow_x": null,
       "overflow_y": null
      }
     },
     "f771512ee9df4ba5bee6a026a4e83de5": {
      "model_module": "@jupyter-widgets/controls",
      "model_module_version": "1.4.0",
      "model_name": "ButtonStyleModel",
      "state": {
       "_model_module_version": "1.4.0",
       "_view_module_version": "1.1.0"
      }
     },
     "f7b6aafe840345ad9c68def299dd0a29": {
      "model_module": "@jupyter-widgets/output",
      "model_module_version": "1.0.0",
      "model_name": "OutputModel",
      "state": {
       "layout": "IPY_MODEL_2ae503cdb98942fd9cfe9369ff0968de"
      }
     },
     "fa9655bf72304c2bb97bf8c45500503b": {
      "model_module": "@jupyter-widgets/base",
      "model_module_version": "1.1.0",
      "model_name": "LayoutModel",
      "state": {
       "_model_module_version": "1.1.0",
       "_view_module_version": "1.1.0",
       "border": null,
       "overflow_x": null,
       "overflow_y": null
      }
     }
    },
    "version_major": 2,
    "version_minor": 0
   }
  }
 },
 "nbformat": 4,
 "nbformat_minor": 5
}
