{
 "cells": [
  {
   "cell_type": "markdown",
   "id": "be164606",
   "metadata": {},
   "source": [
    "# Reporting on TPC QC for LHC22s [apass4]\n",
    "> Link to JIRA: https://alice.its.cern.ch/jira/browse/O2-3393 <br />\n",
    "> B = +0.5 T <br />\n",
    "> beam = Pb-Pb <br />\n",
    "> energy (sqrt) = 5.36 TeV <br />\n",
    "\n",
    "**Runs:**\n",
    "\n",
    "| Run Number | Duration | Filling scheme                        | TPC Quality | Comment |\n",
    "| ---------- | -------- | ------------------------------------- | ----------- | ------- |\n",
    "| 529397     | 00:13:58 | Multi_20b_7_16_7_3bpi_8inj_PbTest2022 |  `GOOD`           |         |\n",
    "| 529399     | 00:34:48 | Multi_20b_7_16_7_3bpi_8inj_PbTest2022 |       `GOOD`      |          |\n",
    "| 529403     | 00:53:57 | Multi_20b_7_16_7_3bpi_8inj_PbTest2022 |          `Bad`   |    Problems in sector C9     |\n",
    "| 529414     | 00:33:10 | Multi_20b_7_16_7_3bpi_8inj_PbTest2022 |            `GOOD` |            |\n",
    "| **529418**     | **08:30:22** | 50ns_24b_8_24_5_8bpi_10inj_PbPbtrains |        `GOOD`     |            |"
   ]
  },
  {
   "cell_type": "markdown",
   "id": "718d09f1",
   "metadata": {
    "toc": true
   },
   "source": [
    "<h1>Table of Contents<span class=\"tocSkip\"></span></h1>\n",
    "<div class=\"toc\"><ul class=\"toc-item\"><li><span><a href=\"#Trending-comparison-between-apass3-&amp;-apass4\" data-toc-modified-id=\"Trending-comparison-between-apass3-&amp;-apass4-1\">Trending comparison between apass3 &amp; apass4</a></span><ul class=\"toc-item\"><li><ul class=\"toc-item\"><li><span><a href=\"#Number-of-tracks\" data-toc-modified-id=\"Number-of-tracks-1.0.1\">Number of tracks</a></span></li><li><span><a href=\"#Phi-distribution\" data-toc-modified-id=\"Phi-distribution-1.0.2\">Phi distribution</a></span></li><li><span><a href=\"#Eta-distribution\" data-toc-modified-id=\"Eta-distribution-1.0.3\">Eta distribution</a></span></li><li><span><a href=\"#Transverse-momentum\" data-toc-modified-id=\"Transverse-momentum-1.0.4\">Transverse momentum</a></span></li><li><span><a href=\"#Sign-of-track\" data-toc-modified-id=\"Sign-of-track-1.0.5\">Sign of track</a></span></li><li><span><a href=\"#Mean-dEdxTot-for-MIPs-region\" data-toc-modified-id=\"Mean-dEdxTot-for-MIPs-region-1.0.6\">Mean dEdxTot for MIPs region</a></span></li><li><span><a href=\"#Number-of-clusters-per-track\" data-toc-modified-id=\"Number-of-clusters-per-track-1.0.7\">Number of clusters per track</a></span></li><li><span><a href=\"#tan(lambda)-distributions\" data-toc-modified-id=\"tan(lambda)-distributions-1.0.8\">tan(lambda) distributions</a></span></li><li><span><a href=\"#sin(phi)-distribution\" data-toc-modified-id=\"sin(phi)-distribution-1.0.9\">sin(phi) distribution</a></span></li></ul></li></ul></li><li><span><a href=\"#LHC22s-apass4-plots\" data-toc-modified-id=\"LHC22s-apass4-plots-2\">LHC22s apass4 plots</a></span><ul class=\"toc-item\"><li><span><a href=\"#Clusters-QC\" data-toc-modified-id=\"Clusters-QC-2.1\">Clusters QC</a></span><ul class=\"toc-item\"><li><span><a href=\"#Run-529403---Problem-on-Sector-C-9-OROCs\" data-toc-modified-id=\"Run-529403---Problem-on-Sector-C-9-OROCs-2.1.1\">Run 529403 - Problem on Sector-C 9 OROCs</a></span></li><li><span><a href=\"#Other-runs-look-OK,-no-problems-observed\" data-toc-modified-id=\"Other-runs-look-OK,-no-problems-observed-2.1.2\">Other runs look OK, no problems observed</a></span></li></ul></li></ul></li><li><span><a href=\"#Tracks-QC\" data-toc-modified-id=\"Tracks-QC-3\">Tracks QC</a></span><ul class=\"toc-item\"><li><span><a href=\"#Geometrical-distributions-of-tracks\" data-toc-modified-id=\"Geometrical-distributions-of-tracks-3.1\">Geometrical distributions of tracks</a></span><ul class=\"toc-item\"><li><span><a href=\"#Phi-distribution-A-side-tracks:\" data-toc-modified-id=\"Phi-distribution-A-side-tracks:-3.1.1\">Phi distribution A-side tracks:</a></span></li><li><span><a href=\"#Phi-distribution-C-side-tracks:\" data-toc-modified-id=\"Phi-distribution-C-side-tracks:-3.1.2\">Phi distribution C-side tracks:</a></span></li><li><span><a href=\"#Eta-distribution\" data-toc-modified-id=\"Eta-distribution-3.1.3\">Eta distribution</a></span></li></ul></li><li><span><a href=\"#Track-properties\" data-toc-modified-id=\"Track-properties-3.2\">Track properties</a></span><ul class=\"toc-item\"><li><span><a href=\"#Transverse-momentum\" data-toc-modified-id=\"Transverse-momentum-3.2.1\">Transverse momentum</a></span></li><li><span><a href=\"#Track-sign\" data-toc-modified-id=\"Track-sign-3.2.2\">Track sign</a></span></li><li><span><a href=\"#Charge-over-pT\" data-toc-modified-id=\"Charge-over-pT-3.2.3\">Charge over pT</a></span></li><li><span><a href=\"#Number-of-clusters-per-track\" data-toc-modified-id=\"Number-of-clusters-per-track-3.2.4\">Number of clusters per track</a></span></li></ul></li><li><span><a href=\"#PID\" data-toc-modified-id=\"PID-3.3\">PID</a></span><ul class=\"toc-item\"><li><span><a href=\"#dEdxTot-for-MIPs\" data-toc-modified-id=\"dEdxTot-for-MIPs-3.3.1\">dEdxTot for MIPs</a></span></li><li><span><a href=\"#dEdx-vs-p\" data-toc-modified-id=\"dEdx-vs-p-3.3.2\">dEdx vs p</a></span></li></ul></li></ul></li></ul></div>"
   ]
  },
  {
   "cell_type": "code",
   "execution_count": null,
   "id": "2d408987",
   "metadata": {},
   "outputs": [],
   "source": [
    "%%capture\n",
    "import ROOT\n",
    "import glob\n",
    "import math\n",
    "import numpy as np\n",
    "from IPython.display import display, Markdown\n",
    "from IPython.display import display, HTML\n",
    "from TPCQCVis.src.drawHistograms import *\n",
    "from TPCQCVis.src.drawTrending import *\n",
    "from TPCQCVis.src.checkHistograms import *"
   ]
  },
  {
   "cell_type": "code",
   "execution_count": null,
   "id": "0468929f",
   "metadata": {},
   "outputs": [],
   "source": [
    "display(HTML(\"<style>.container { width:90% !important; }</style>\"))\n",
    "display(HTML(\"<style>table {float:left;}</style>\"))"
   ]
  },
  {
   "cell_type": "code",
   "execution_count": null,
   "id": "339b1a11",
   "metadata": {},
   "outputs": [],
   "source": [
    "# Read the Root Files\n",
    "path = \"/cave/alice/data/2022/LHC22s/apass4/\"\n",
    "fileList = glob.glob(path+\"*_QC.root\")\n",
    "fileList.sort()\n",
    "#fileList = fileList[13:]\n",
    "runList = [fileList[i][-14:-8] for i in range(len(fileList))]\n",
    "rootDataFile=[]\n",
    "for file in fileList:\n",
    "    rootDataFile.append(ROOT.TFile.Open(file,\"READ\"))\n",
    "#rootDataFile[0].ls()\n",
    "#rootDataFile[0].ClusterQC.ls()\n",
    "#rootDataFile[0].PIDQC.ls()\n",
    "#rootDataFile[0].TracksQC.ls()\n",
    "#runList"
   ]
  },
  {
   "cell_type": "code",
   "execution_count": null,
   "id": "5fb58ef6",
   "metadata": {},
   "outputs": [],
   "source": [
    "# Read the Root Files\n",
    "path = \"/cave/alice/data/2022/LHC22s/apass3/\"\n",
    "fileList_apass1 = glob.glob(path+\"*_QC.root\")\n",
    "fileList_apass1.sort()\n",
    "runList_apass1 = [fileList[i][36:-8] for i in range(len(fileList))]\n",
    "rootDataFile_apass1=[]\n",
    "for file in fileList_apass1:\n",
    "    rootDataFile_apass1.append(ROOT.TFile.Open(file,\"READ\"))\n",
    "#len(runList_apass1)"
   ]
  },
  {
   "cell_type": "markdown",
   "id": "2e601429",
   "metadata": {},
   "source": [
    "---"
   ]
  },
  {
   "cell_type": "markdown",
   "id": "69812553",
   "metadata": {},
   "source": [
    "## Trending comparison between apass3 & apass4 "
   ]
  },
  {
   "cell_type": "markdown",
   "id": "3fa5dfe7",
   "metadata": {},
   "source": [
    "#### Number of tracks"
   ]
  },
  {
   "cell_type": "code",
   "execution_count": null,
   "id": "d7faa8d7",
   "metadata": {},
   "outputs": [],
   "source": [
    "%jsroot on\n",
    "objectName=\"hPt\"\n",
    "trending = \"entries\"\n",
    "error = \"stdDev\"\n",
    "leg = ROOT.TLegend()\n",
    "[trend,canvas] = drawTrending(objectName,rootDataFile_apass1,names=runList,namesFromRunList=True,\n",
    "                               trend=trending,error=error,\n",
    "                               log=\"logy\")\n",
    "leg.AddEntry(trend, \"apass3\", \"lep\")\n",
    "[trend2,canvas] = drawTrending(objectName,rootDataFile,names=runList,namesFromRunList=True,canvas=canvas,\n",
    "                               trend=trending,error=error,\n",
    "                               log=\"logy\",drawOption=\"SAME ZP PMC L\")\n",
    "leg.AddEntry(trend2, \"apass4\", \"lep\")\n",
    "leg.Draw()\n",
    "trend.SetTitle(\"Number of tracks Trending\")\n",
    "canvas.Draw()"
   ]
  },
  {
   "cell_type": "markdown",
   "id": "8e793172",
   "metadata": {},
   "source": [
    "#### Phi distribution"
   ]
  },
  {
   "cell_type": "code",
   "execution_count": null,
   "id": "b1caeefe",
   "metadata": {},
   "outputs": [],
   "source": [
    "%jsroot on\n",
    "objectName=\"hPhiAside;1\"\n",
    "trending = \"mean\"\n",
    "error = \"meanError\"\n",
    "leg = ROOT.TLegend()\n",
    "[trend,canvas] = drawTrending(objectName,rootDataFile_apass1,names=runList,namesFromRunList=True,\n",
    "                               trend=trending,error=error,\n",
    "                               log=\"none\",yAxisRange=[3145E-3,3148E-3])\n",
    "leg.AddEntry(trend, \"apass3\", \"lep\")\n",
    "[trend2,canvas] = drawTrending(objectName,rootDataFile,names=runList,namesFromRunList=True,canvas=canvas,\n",
    "                               trend=trending,error=error,\n",
    "                               log=\"none\",drawOption=\"SAME ZP PMC L\")\n",
    "leg.AddEntry(trend2, \"apass4\", \"lep\")\n",
    "leg.Draw()\n",
    "canvas.Draw()"
   ]
  },
  {
   "cell_type": "code",
   "execution_count": null,
   "id": "b818935b",
   "metadata": {},
   "outputs": [],
   "source": [
    "%jsroot on\n",
    "objectName=\"hPhiCside;1\"\n",
    "trending = \"mean\"\n",
    "error = \"meanError\"\n",
    "leg = ROOT.TLegend()\n",
    "[trend,canvas] = drawTrending(objectName,rootDataFile_apass1,names=runList,namesFromRunList=True,\n",
    "                               trend=trending,error=error,\n",
    "                               log=\"none\",yAxisRange=[3130E-3,3137E-3])\n",
    "leg.AddEntry(trend, \"apass3\", \"lep\")\n",
    "[trend2,canvas] = drawTrending(objectName,rootDataFile,names=runList,namesFromRunList=True,canvas=canvas,\n",
    "                               trend=trending,error=error,\n",
    "                               log=\"none\",drawOption=\"SAME ZP PMC L\")\n",
    "leg.AddEntry(trend2, \"apass4\", \"lep\")\n",
    "leg.Draw()\n",
    "trend.SetTitle(\"Number of tracks Trending\")\n",
    "canvas.Draw()"
   ]
  },
  {
   "cell_type": "markdown",
   "id": "8ced347a",
   "metadata": {},
   "source": [
    "#### Eta distribution"
   ]
  },
  {
   "cell_type": "code",
   "execution_count": null,
   "id": "78d2ccd0",
   "metadata": {},
   "outputs": [],
   "source": [
    "%jsroot on\n",
    "objectName=\"hEta;1\"\n",
    "trending = \"mean\"\n",
    "error = \"meanError\"\n",
    "leg = ROOT.TLegend()\n",
    "[trend,canvas] = drawTrending(objectName,rootDataFile_apass1,names=runList,namesFromRunList=True,\n",
    "                               trend=trending,error=error,\n",
    "                               log=\"none\")\n",
    "leg.AddEntry(trend, \"apass3\", \"lep\")\n",
    "[trend2,canvas] = drawTrending(objectName,rootDataFile,names=runList,namesFromRunList=True,canvas=canvas,\n",
    "                               trend=trending,error=error,\n",
    "                               log=\"none\",drawOption=\"SAME ZP PMC L\")\n",
    "leg.AddEntry(trend2, \"apass4\", \"lep\")\n",
    "leg.Draw()\n",
    "canvas.Draw()"
   ]
  },
  {
   "cell_type": "markdown",
   "id": "7654127b",
   "metadata": {},
   "source": [
    "#### Transverse momentum"
   ]
  },
  {
   "cell_type": "code",
   "execution_count": null,
   "id": "2404edd4",
   "metadata": {},
   "outputs": [],
   "source": [
    "%jsroot on\n",
    "objectName=\"hPt;1\"\n",
    "trending = \"mean\"\n",
    "error = \"meanError\"\n",
    "leg = ROOT.TLegend()\n",
    "[trend,canvas] = drawTrending(objectName,rootDataFile_apass1,names=runList,namesFromRunList=True,\n",
    "                               trend=trending,error=error)\n",
    "leg.AddEntry(trend, \"apass3\", \"lep\")\n",
    "[trend2,canvas] = drawTrending(objectName,rootDataFile,names=runList,namesFromRunList=True,canvas=canvas,\n",
    "                               trend=trending,error=error,drawOption=\"SAME ZP PMC L\")\n",
    "leg.AddEntry(trend2, \"apass4\", \"lep\")\n",
    "leg.Draw()\n",
    "canvas.Draw()"
   ]
  },
  {
   "cell_type": "markdown",
   "id": "47f261c1",
   "metadata": {},
   "source": [
    "#### Sign of track"
   ]
  },
  {
   "cell_type": "code",
   "execution_count": null,
   "id": "dfbadb58",
   "metadata": {},
   "outputs": [],
   "source": [
    "%jsroot on\n",
    "objectName=\"hSign;1\"\n",
    "trending = \"mean\"\n",
    "error = \"meanError\"\n",
    "leg = ROOT.TLegend()\n",
    "[trend,canvas] = drawTrending(objectName,rootDataFile_apass1,names=runList,namesFromRunList=True,\n",
    "                               trend=trending,error=error)\n",
    "leg.AddEntry(trend, \"apass3\", \"lep\")\n",
    "[trend2,canvas] = drawTrending(objectName,rootDataFile,names=runList,namesFromRunList=True,canvas=canvas,\n",
    "                               trend=trending,error=error,drawOption=\"SAME ZP PMC L\")\n",
    "leg.AddEntry(trend2, \"apass4\", \"lep\")\n",
    "leg.Draw()\n",
    "canvas.Draw()"
   ]
  },
  {
   "cell_type": "markdown",
   "id": "ec3e8c90",
   "metadata": {},
   "source": [
    "#### Mean dEdxTot for MIPs region\n",
    "**Contamination from electrons in selected region, not mean of fit to MIP peak. See PID plots below**"
   ]
  },
  {
   "cell_type": "code",
   "execution_count": null,
   "id": "4f9f20e0",
   "metadata": {},
   "outputs": [],
   "source": [
    "%jsroot on\n",
    "objectName=\"hdEdxTotMIP_TPC;1\"\n",
    "trending = \"mean\"\n",
    "error = \"meanError\"\n",
    "leg = ROOT.TLegend()\n",
    "[trend,canvas] = drawTrending(objectName,rootDataFile_apass1,names=runList,namesFromRunList=True,\n",
    "                               trend=trending,error=error)\n",
    "leg.AddEntry(trend, \"apass3\", \"lep\")\n",
    "[trend2,canvas] = drawTrending(objectName,rootDataFile,names=runList,namesFromRunList=True,canvas=canvas,\n",
    "                               trend=trending,error=error,drawOption=\"SAME ZP PMC L\")\n",
    "leg.AddEntry(trend2, \"apass4\", \"lep\")\n",
    "leg.Draw()\n",
    "canvas.Draw()"
   ]
  },
  {
   "cell_type": "markdown",
   "id": "c27c3a8f",
   "metadata": {},
   "source": [
    "#### Number of clusters per track"
   ]
  },
  {
   "cell_type": "code",
   "execution_count": null,
   "id": "e375d32c",
   "metadata": {},
   "outputs": [],
   "source": [
    "%jsroot on\n",
    "objectName=\"hNClustersAfterCuts;1\"\n",
    "trending = \"mean\"\n",
    "error = \"meanError\"\n",
    "leg = ROOT.TLegend()\n",
    "[trend,canvas] = drawTrending(objectName,rootDataFile_apass1,names=runList,namesFromRunList=True,\n",
    "                               trend=trending,error=error,yAxisRange=[104,114])\n",
    "leg.AddEntry(trend, \"apass3\", \"lep\")\n",
    "[trend2,canvas] = drawTrending(objectName,rootDataFile,names=runList,namesFromRunList=True,canvas=canvas,\n",
    "                               trend=trending,error=error,drawOption=\"SAME ZP PMC L\")\n",
    "leg.AddEntry(trend2, \"apass4\", \"lep\")\n",
    "leg.Draw()\n",
    "canvas.Draw()"
   ]
  },
  {
   "cell_type": "markdown",
   "id": "4c27ddb5",
   "metadata": {},
   "source": [
    "#### tan(lambda) distributions"
   ]
  },
  {
   "cell_type": "code",
   "execution_count": null,
   "id": "5feb94d2",
   "metadata": {},
   "outputs": [],
   "source": [
    "%jsroot on\n",
    "objectName=\"hdEdxVsTgl;1\"\n",
    "trending = \"mean\"\n",
    "error = \"meanError\"\n",
    "leg = ROOT.TLegend()\n",
    "[trend,canvas] = drawTrending(objectName,rootDataFile_apass1,names=runList,namesFromRunList=True,\n",
    "                               trend=trending,error=error)\n",
    "leg.AddEntry(trend, \"apass3\", \"lep\")\n",
    "[trend2,canvas] = drawTrending(objectName,rootDataFile,names=runList,namesFromRunList=True,canvas=canvas,\n",
    "                               trend=trending,error=error,drawOption=\"SAME ZP PMC L\")\n",
    "leg.AddEntry(trend2, \"apass4\", \"lep\")\n",
    "leg.Draw()\n",
    "canvas.Draw()"
   ]
  },
  {
   "cell_type": "markdown",
   "id": "6d55496c",
   "metadata": {},
   "source": [
    "#### sin(phi) distribution"
   ]
  },
  {
   "cell_type": "code",
   "execution_count": null,
   "id": "512c6ed2",
   "metadata": {},
   "outputs": [],
   "source": [
    "%jsroot on\n",
    "objectName=\"hdEdxTotMIPVsSnp_TPC;1\"\n",
    "trending = \"mean\"\n",
    "error = \"meanError\"\n",
    "leg = ROOT.TLegend()\n",
    "[trend,canvas] = drawTrending(objectName,rootDataFile_apass1,names=runList,namesFromRunList=True,\n",
    "                               trend=trending,error=error,axis=1,yAxisRange=[-600E-6,600E-6])\n",
    "leg.AddEntry(trend, \"apass3\", \"lep\")\n",
    "[trend2,canvas] = drawTrending(objectName,rootDataFile,names=runList,namesFromRunList=True,canvas=canvas,\n",
    "                               trend=trending,error=error,axis=1,drawOption=\"SAME ZP PMC L\")\n",
    "leg.AddEntry(trend2, \"apass4\", \"lep\")\n",
    "leg.Draw()\n",
    "canvas.Draw()"
   ]
  },
  {
   "cell_type": "markdown",
   "id": "d403eccc",
   "metadata": {},
   "source": [
    "---"
   ]
  },
  {
   "cell_type": "markdown",
   "id": "3a44d0d9",
   "metadata": {},
   "source": [
    "## LHC22s apass4 plots"
   ]
  },
  {
   "cell_type": "markdown",
   "id": "a5b19428",
   "metadata": {},
   "source": [
    "### Clusters QC\n",
    "#### Run 529403 - Problem on Sector-C 9 OROCs\n",
    "Loss of CRUs during run"
   ]
  },
  {
   "cell_type": "code",
   "execution_count": null,
   "id": "f9411784",
   "metadata": {},
   "outputs": [],
   "source": [
    "%jsroot on\n",
    "objectName = \"c_N_Clusters\"\n",
    "c = rootDataFile[2].ClusterQC.Get(objectName)\n",
    "c.Draw()"
   ]
  },
  {
   "cell_type": "markdown",
   "id": "5a3b93ee",
   "metadata": {},
   "source": [
    "#### Other runs look OK, no problems observed\n",
    "As an example, plots from the golden run 529418 (over 8.5 hours)\n",
    "\n",
    "**Further comments:**\n",
    "+ OROC3 in sectors A10 and C4 noisy"
   ]
  },
  {
   "cell_type": "code",
   "execution_count": null,
   "id": "7e368a48",
   "metadata": {},
   "outputs": [],
   "source": [
    "%jsroot on\n",
    "objectName = \"c_N_Clusters\"\n",
    "c = rootDataFile[4].ClusterQC.Get(objectName)\n",
    "c.Draw()"
   ]
  },
  {
   "cell_type": "code",
   "execution_count": null,
   "id": "836f767e",
   "metadata": {},
   "outputs": [],
   "source": [
    "%jsroot on\n",
    "objectName = \"c_Q_Tot\"\n",
    "c = rootDataFile[4].ClusterQC.Get(objectName)\n",
    "c.Draw()"
   ]
  },
  {
   "cell_type": "code",
   "execution_count": null,
   "id": "cbe9b37f",
   "metadata": {},
   "outputs": [],
   "source": [
    "%jsroot on\n",
    "objectName = \"c_Q_Max\"\n",
    "c = rootDataFile[4].ClusterQC.Get(objectName)\n",
    "c.Draw()"
   ]
  },
  {
   "cell_type": "code",
   "execution_count": null,
   "id": "e61f888e",
   "metadata": {},
   "outputs": [],
   "source": [
    "%jsroot on\n",
    "objectName = \"c_Sigma_Time\"\n",
    "c = rootDataFile[4].ClusterQC.Get(objectName)\n",
    "c.Draw()"
   ]
  },
  {
   "cell_type": "code",
   "execution_count": null,
   "id": "400f4fd7",
   "metadata": {},
   "outputs": [],
   "source": [
    "%jsroot on\n",
    "objectName = \"c_Sigma_Pad\"\n",
    "c = rootDataFile[4].ClusterQC.Get(objectName)\n",
    "c.Draw()"
   ]
  },
  {
   "cell_type": "code",
   "execution_count": null,
   "id": "1b3f83b5",
   "metadata": {},
   "outputs": [],
   "source": [
    "%jsroot on\n",
    "objectName = \"c_Time_Bin\"\n",
    "c = rootDataFile[4].ClusterQC.Get(objectName)\n",
    "c.Draw()"
   ]
  },
  {
   "cell_type": "markdown",
   "id": "65d4e0b8",
   "metadata": {},
   "source": [
    "---\n",
    "## Tracks QC\n",
    "### Geometrical distributions of tracks\n",
    "#### Phi distribution A-side tracks:\n",
    "+ Reduced tracking efficiency in sector A5 (was observed also before)\n",
    "  + Hard to spot in pad-wise cluster QC plots but it that appears one of the FEC on the OROC2 in this sector might have a problem "
   ]
  },
  {
   "cell_type": "code",
   "execution_count": null,
   "id": "7d16c878",
   "metadata": {},
   "outputs": [],
   "source": [
    "%jsroot on\n",
    "objectName=\"hPhiAside\"\n",
    "[hist,legend,canvas,pad1] = drawHistograms(objectName,rootDataFile,normalize=True,legend=True,legendNames=runList,pads=False,yAxisRange = [2E-3,3.5E-3], drawOption=\"SAME L\")\n",
    "\n",
    "#Sector boundatries\n",
    "pad1.cd()\n",
    "sectorBoundary = ROOT.TLine(0,hist.GetMinimum(),0,hist.GetMaximum())\n",
    "sectorBoundary.SetLineStyle(2)\n",
    "sectorNum = ROOT.TText(.5,.5,\"test\")\n",
    "sectorNum.SetTextAlign(22)\n",
    "sectorNum.SetTextColor(ROOT.kGray+1)\n",
    "sectorNum.SetTextFont(0)\n",
    "for j in range(19):\n",
    "    sectorBoundary.DrawLine((j*2*math.pi)/18,hist.GetMinimum(),(j*2*math.pi)/18,hist.GetMaximum())\n",
    "    if j < 18 : sectorNum.DrawText(((j+0.5)*2*math.pi)/18,hist.GetMaximum(),str(j))\n",
    "    \n",
    "canvas.Draw()"
   ]
  },
  {
   "cell_type": "markdown",
   "id": "e95096b3",
   "metadata": {},
   "source": [
    "#### Phi distribution C-side tracks:\n",
    "+ Run 529403 as expected has losses on sector C9\n",
    "+ Sector 12 also appears to have lower efficiency, **further investigation required**"
   ]
  },
  {
   "cell_type": "code",
   "execution_count": null,
   "id": "e4eea6ae",
   "metadata": {},
   "outputs": [],
   "source": [
    "%jsroot on\n",
    "objectName=\"hPhiCside\"\n",
    "[hist,legend,canvas,pad1] = drawHistograms(objectName,rootDataFile,normalize=True,legend=True,legendNames=runList,pads=False,yAxisRange = [2E-3,3.5E-3], drawOption=\"SAME L\")\n",
    "\n",
    "#Sector boundatries\n",
    "pad1.cd()\n",
    "sectorBoundary = ROOT.TLine(0,hist.GetMinimum(),0,hist.GetMaximum())\n",
    "sectorBoundary.SetLineStyle(2)\n",
    "sectorNum = ROOT.TText(.5,.5,\"test\")\n",
    "sectorNum.SetTextAlign(22)\n",
    "sectorNum.SetTextColor(ROOT.kGray+1)\n",
    "sectorNum.SetTextFont(0)\n",
    "for j in range(19):\n",
    "    sectorBoundary.DrawLine((j*2*math.pi)/18,hist.GetMinimum(),(j*2*math.pi)/18,hist.GetMaximum())\n",
    "    if j < 18 : sectorNum.DrawText(((j+0.5)*2*math.pi)/18,hist.GetMaximum(),str(j))\n",
    "    \n",
    "canvas.Draw()"
   ]
  },
  {
   "cell_type": "markdown",
   "id": "bb51540c",
   "metadata": {},
   "source": [
    "#### Eta distribution\n",
    "+ Enhanced bump at eta ~0.23 on A side (positive eta)\n",
    "+ Was observed also in pp\n",
    "+ Looking at eta vs phi no hotspots can be seen ==> general effect"
   ]
  },
  {
   "cell_type": "code",
   "execution_count": null,
   "id": "c0694dde",
   "metadata": {},
   "outputs": [],
   "source": [
    "objectName=\"hEta\"\n",
    "[hist,legend,canvas,pad1] = drawHistograms(objectName,rootDataFile,normalize=True,legend=True,xAxisRange=[-1.1,1.1],legendNames=runList,pads=False)\n",
    "canvas.Draw()"
   ]
  },
  {
   "cell_type": "code",
   "execution_count": null,
   "id": "45139271",
   "metadata": {},
   "outputs": [],
   "source": []
  },
  {
   "cell_type": "code",
   "execution_count": null,
   "id": "5c0b1436",
   "metadata": {},
   "outputs": [],
   "source": [
    "%jsroot on\n",
    "objectName=\"h2DEtaPhi\"\n",
    "[hist,legend,canvas,pad1] = drawHistograms(objectName,rootDataFile,normalize=False,legend=False,yAxisRange = [-1.1,1.1],legendNames=runList,pads=True,drawOption=\"COLZ\")\n",
    "canvas.Draw()"
   ]
  },
  {
   "cell_type": "markdown",
   "id": "97de51d0",
   "metadata": {},
   "source": [
    "### Track properties\n",
    "#### Transverse momentum\n",
    "+ High pT tail slightly reduced on run 529414\n",
    "+ Need to cross check"
   ]
  },
  {
   "cell_type": "code",
   "execution_count": null,
   "id": "eccc8df7",
   "metadata": {},
   "outputs": [],
   "source": [
    "objectName=\"hPt\"\n",
    "[hist,legend,canvas,pad1] = drawHistograms(objectName,rootDataFile,normalize=True,legend=True,log=\"logxy\",yAxisRange = [1E-5,1E-1],legendNames=runList,pads=False)\n",
    "canvas.Draw()"
   ]
  },
  {
   "cell_type": "markdown",
   "id": "4a499c7e",
   "metadata": {},
   "source": [
    "#### Track sign\n",
    "+ Ratio as expected"
   ]
  },
  {
   "cell_type": "code",
   "execution_count": null,
   "id": "927661f4",
   "metadata": {},
   "outputs": [],
   "source": [
    "objectName=\"hSign\"\n",
    "[hist,legend,canvas,pad1] = drawHistograms(objectName,rootDataFile,normalize=True,legend=True,legendNames=runList,pads=False)\n",
    "canvas.Draw()"
   ]
  },
  {
   "cell_type": "markdown",
   "id": "1329cf48",
   "metadata": {},
   "source": [
    "#### Charge over pT"
   ]
  },
  {
   "cell_type": "code",
   "execution_count": null,
   "id": "10c4368a",
   "metadata": {},
   "outputs": [],
   "source": [
    "objectName=\"hQOverPt\"\n",
    "[hist,legend,canvas,pad1] = drawHistograms(objectName,rootDataFile,normalize=True,legend=True,legendNames=runList,pads=False)\n",
    "canvas.Draw()"
   ]
  },
  {
   "cell_type": "markdown",
   "id": "6c51bee4",
   "metadata": {},
   "source": [
    "#### Number of clusters per track\n",
    "+ Main peak at 130 cls\n",
    "  + For pp this was observed in runs with IR>500kHz\n",
    "  + Could be related to space charge distortions\n",
    "+ Secondary peak enhanced for Run 529418\n",
    "  + Need to investigate\n",
    "  + Wasn't the case in apass1 or apass2, different reconstruction settings?"
   ]
  },
  {
   "cell_type": "code",
   "execution_count": null,
   "id": "1e6cb368",
   "metadata": {},
   "outputs": [],
   "source": [
    "%jsroot on\n",
    "objectName=\"hNClustersAfterCuts\"\n",
    "[hist,legend,canvas,pad1] = drawHistograms(objectName,rootDataFile[-5:],normalize=True,legend=True,xAxisRange = [50,160],legendNames=runList[-5:],pads=False)\n",
    "canvas.Draw()"
   ]
  },
  {
   "cell_type": "code",
   "execution_count": null,
   "id": "c3531c9c",
   "metadata": {},
   "outputs": [],
   "source": [
    "%jsroot on\n",
    "objectName=\"h2DNClustersEta\"\n",
    "[hist,legend,canvas,pad1] = drawHistograms(objectName,rootDataFile,normalize=False,legend=False,xAxisRange = [-1.1,1.1],yAxisRange = [50,170],legendNames=runList,pads=True,drawOption=\"COLZ\")\n",
    "canvas.Draw()"
   ]
  },
  {
   "cell_type": "code",
   "execution_count": null,
   "id": "3bd4761b",
   "metadata": {},
   "outputs": [],
   "source": [
    "%jsroot on\n",
    "objectName=\"h2DNClustersPt\"\n",
    "[hist,legend,canvas,pad1] = drawHistograms(objectName,rootDataFile,normalize=False,legend=False,log=\"logx\",yAxisRange = [50,170],legendNames=runList,pads=True,drawOption=\"COLZ\")\n",
    "canvas.Draw()"
   ]
  },
  {
   "cell_type": "markdown",
   "id": "5a5df8aa",
   "metadata": {},
   "source": [
    "### PID\n",
    "+ All `GOOD`"
   ]
  },
  {
   "cell_type": "markdown",
   "id": "96b7a3a7",
   "metadata": {},
   "source": [
    "#### dEdxTot for MIPs"
   ]
  },
  {
   "cell_type": "code",
   "execution_count": null,
   "id": "3f8daf2e",
   "metadata": {},
   "outputs": [],
   "source": [
    "%jsroot on\n",
    "objectName=\"hdEdxTotMIP_TPC\"\n",
    "#quality = checkHistograms(objectName,rootDataFile,check=\"(histogram.Fit(\\\"gaus\\\",\\\"Sq\\\",\\\"\\\",40,60)) and 49<histogram.GetFunction(\\\"gaus\\\").GetParameter(1)<51\")\n",
    "[hist,legend,canvas,pad1] = drawHistograms(objectName,rootDataFile,legendNames=runList,normalize=True,log=\"logx\",yAxisRange=[0,0.1],legend=True,pads=False)\n",
    "\n",
    "pad1.cd()\n",
    "sectorBoundary = ROOT.TLine(50,hist.GetMinimum(),50,hist.GetMaximum())\n",
    "sectorBoundary.SetLineStyle(2)\n",
    "sectorBoundary.SetLineWidth(4)\n",
    "sectorBoundary.Draw()\n",
    "    \n",
    "canvas.Draw()"
   ]
  },
  {
   "cell_type": "code",
   "execution_count": null,
   "id": "6afd9ec6",
   "metadata": {},
   "outputs": [],
   "source": [
    "%jsroot on\n",
    "objectName=\"hdEdxTotMIPVsSec_TPC\"\n",
    "[hist,legend,canvas,pad1] = drawHistograms(objectName,rootDataFile,normalize=False,legend=False,log=\"logy\",legendNames=runList,pads=True,drawOption=\"COLZ\")\n",
    "canvas.Draw()"
   ]
  },
  {
   "cell_type": "code",
   "execution_count": null,
   "id": "75821f23",
   "metadata": {},
   "outputs": [],
   "source": [
    "%jsroot on\n",
    "objectName=\"hdEdxTotMIPVsNcl_TPC\"\n",
    "[hist,legend,canvas,pad1] = drawHistograms(objectName,rootDataFile,normalize=False,legend=False,log=\"logz\",xAxisRange = [55,180],legendNames=runList,pads=True,drawOption=\"COLZ\")\n",
    "canvas.Draw()"
   ]
  },
  {
   "cell_type": "code",
   "execution_count": null,
   "id": "ea85fe2e",
   "metadata": {},
   "outputs": [],
   "source": [
    "%jsroot on\n",
    "objectName=\"hdEdxTotMIPVsSnp_TPC\"\n",
    "[hist,legend,canvas,pad1] = drawHistograms(objectName,rootDataFile,normalize=False,legend=False,log=\"logz\",legendNames=runList,pads=True,drawOption=\"COLZ\")\n",
    "canvas.Draw()"
   ]
  },
  {
   "cell_type": "code",
   "execution_count": null,
   "id": "3ed8e35f",
   "metadata": {},
   "outputs": [],
   "source": [
    "%jsroot on\n",
    "objectName=\"hdEdxTotMIPVsTgl_TPC\"\n",
    "[hist,legend,canvas,pad1] = drawHistograms(objectName,rootDataFile,normalize=False,legend=False,log=\"logz\",legendNames=runList,pads=True,drawOption=\"COLZ\")\n",
    "canvas.Draw()"
   ]
  },
  {
   "cell_type": "markdown",
   "id": "c816acdc",
   "metadata": {},
   "source": [
    "#### dEdx vs p\n",
    "Looks GOOD"
   ]
  },
  {
   "cell_type": "code",
   "execution_count": null,
   "id": "fc8654d6",
   "metadata": {},
   "outputs": [],
   "source": [
    "%jsroot on\n",
    "objectName=\"hdEdxTotVsP_TPC\"\n",
    "[hist,legend,canvas,pad1] = drawHistograms(objectName,rootDataFile,normalize=False,legend=False,log=\"logxyz\",legendNames=runList,pads=True,drawOption=\"COLZ\")\n",
    "canvas.Draw()"
   ]
  }
 ],
 "metadata": {
  "kernelspec": {
   "display_name": "Python 3 (ipykernel)",
   "language": "python",
   "name": "python3"
  },
  "language_info": {
   "codemirror_mode": {
    "name": "ipython",
    "version": 3
   },
   "file_extension": ".py",
   "mimetype": "text/x-python",
   "name": "python",
   "nbconvert_exporter": "python",
   "pygments_lexer": "ipython3",
   "version": "3.9.12"
  },
  "toc": {
   "base_numbering": 1,
   "nav_menu": {},
   "number_sections": false,
   "sideBar": false,
   "skip_h1_title": true,
   "title_cell": "Table of Contents",
   "title_sidebar": "Contents",
   "toc_cell": true,
   "toc_position": {
    "height": "769.333px",
    "left": "10px",
    "top": "150px",
    "width": "328.347px"
   },
   "toc_section_display": false,
   "toc_window_display": false
  }
 },
 "nbformat": 4,
 "nbformat_minor": 5
}
