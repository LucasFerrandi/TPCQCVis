{
 "cells": [
  {
   "cell_type": "code",
   "execution_count": null,
   "id": "2d408987",
   "metadata": {},
   "outputs": [],
   "source": [
    "import ROOT\n",
    "import glob\n",
    "import math\n",
    "import numpy as np\n",
    "from IPython.display import display, Markdown\n",
    "from IPython.display import display, HTML\n",
    "from TPCQCVis.src.drawHistograms import *\n",
    "from TPCQCVis.src.drawTrending import *\n",
    "from TPCQCVis.src.checkHistograms import *"
   ]
  },
  {
   "cell_type": "code",
   "execution_count": null,
   "id": "0468929f",
   "metadata": {},
   "outputs": [],
   "source": [
    "display(HTML(\"<style>.container { width:90% !important; }</style>\"))\n",
    "display(HTML(\"<style>table {float:left;}</style>\"))"
   ]
  },
  {
   "cell_type": "code",
   "execution_count": null,
   "id": "339b1a11",
   "metadata": {},
   "outputs": [],
   "source": [
    "# Read the Root Files\n",
    "path = \"/home/berki/alice/data/2022/LHC22r/\"\n",
    "fileList = glob.glob(path+\"*_QC.root\")\n",
    "fileList.sort()\n",
    "#fileList = fileList[13:]\n",
    "runList = [fileList[i][35:-8] for i in range(len(fileList))]\n",
    "rootDataFile=[]\n",
    "for file in fileList:\n",
    "    rootDataFile.append(ROOT.TFile.Open(file,\"READ\"))\n",
    "#rootDataFile[0].ls()\n",
    "#rootDataFile[0].ClusterQC.ls()\n",
    "#rootDataFile[0].PIDQC.ls()\n",
    "#rootDataFile[0].TracksQC.ls()\n",
    "#runList"
   ]
  },
  {
   "cell_type": "markdown",
   "id": "2e601429",
   "metadata": {},
   "source": [
    "# Reporting on TPC QC for LHC22r [apass1]\n",
    "> Link to JIRA: https://alice.its.cern.ch/jira/browse/O2-3438 <br />\n",
    "> B = +0.5 T <br />\n",
    "> beam = pp <br />\n",
    "> energy (sqrt) = 13.6 TeV <br />\n",
    "\n",
    "## Runs:\n",
    "\n",
    "\n",
    "| Run Number | Duration | Filling scheme                                 | Colliding BCs | TPC Quality | Comment |\n",
    "| ---------- | -------- | ---------------------------------------------- | ------------- | ----------- | ------- |\n",
    "| 529066     | 00:18:54 | 25ns_591b_578_510_540_72bpi_12inj_3INDIV       | 510           |  `Mixed`           |     timeGain calib missing    |\n",
    "| 529067     | 01:33:27 | 25ns_591b_578_510_540_72bpi_12inj_3INDIV       | 510           |  `Mixed`           |   timeGain calib missing       |\n",
    "| 529077     | 00:13:58 | 25ns_1815b_1802_1443_1542_180bpi_14inj_3INDIVs | 1443          |  `Mixed`           |     timeGain calib missing     |\n",
    "| 529078     | 05:04:19 | 25ns_1815b_1802_1443_1542_180bpi_14inj_3INDIVs | 1443          |  `Mixed`           |  reduced tacking efficiency in SectorA4       |\n",
    "| 529084     | 00:29:05 | 25ns_1815b_1802_1443_1542_180bpi_14inj_3INDIVs | 1443          |  `Mixed`           |    timeGain calib missing      |\n",
    "| 529088     | 00:58:39 | 25ns_1815b_1802_1443_1542_180bpi_14inj_3INDIVs | 1443          |  `Mixed`           |   reduced tacking efficiency in SectorA4       |\n",
    "| 529115     | 09:33:52 | 25ns_2462b_2450_1737_1735_180bpi_17inj_2INDIV  | 1737          |  `Mixed`           |    timeGain calib missing      |\n",
    "| 529116     | 00:48:29 | 25ns_2462b_2450_1737_1735_180bpi_17inj_2INDIV  | 1737          |  `Mixed`           |    timeGain calib missing      |\n",
    "| 529117     | 02:35:09 | 25ns_2462b_2450_1737_1735_180bpi_17inj_2INDIV  | 1737          |  `Mixed`           |   timeGain calib missing       |\n",
    "| 529128     | 00:08:59 | 25ns_2462b_2450_1737_1735_180bpi_17inj_2INDIV  | 1737          |  `Mixed`           |   timeGain calib missing       |\n",
    "| 529129     | 02:48:52 | 25ns_2462b_2450_1737_1735_180bpi_17inj_2INDIV  | 1737          |  `Mixed`           |    reduced tacking efficiency in SectorA4      |\n",
    "| 529201     | 00:08:51 | 25ns_2462b_2450_1737_1735_180bpi_17inj_2INDIV  | 1737          |  `Mixed`           |       timeGain calib missing   |\n",
    "| 529202     | 03:56:58 | 25ns_2462b_2450_1737_1735_180bpi_17inj_2INDIV  | 1737          |  `Mixed`           |     timeGain calib missing     |\n",
    "| 529207     | 00:23:28 | 25ns_2462b_2450_1737_1735_180bpi_17inj_2INDIV  | 1737          |  `Mixed`           |    timeGain calib missing      |\n",
    "| 529208     | 00:13:39 | 25ns_2462b_2450_1737_1735_180bpi_17inj_2INDIV  | 1737          |  `Mixed`           |   reduced tacking efficiency in SectorA4       |\n",
    "| 529209     | 03:39:55 | 25ns_2462b_2450_1737_1735_180bpi_17inj_2INDIV  | 1737          |  `GOOD`           |     OK    |\n",
    "| 529210     | 00:10:24 | 25ns_2462b_2450_1737_1735_180bpi_17inj_2INDIV  | 1737          |  `Mixed`           |  reduced tacking efficiency in SectorA4        |\n",
    "| 529211     | 03:15:36 | 25ns_2462b_2450_1737_1735_180bpi_17inj_2INDIV  | 1737          |  `Mixed`           |   reduced tacking efficiency in SectorA4       |\n",
    "| 529235     | 00:13:55 | 25ns_2462b_2450_1737_1735_180bpi_17inj_2INDIV  | 1737          |  `GOOD`           |    OK     |\n",
    "| 529237     | 01:20:41 | 25ns_2462b_2450_1737_1735_180bpi_17inj_2INDIV  | 1737          |  `Mixed`           |     timeGain calib missing     |\n",
    "| 529242     | 00:18:24 | 25ns_2462b_2450_1737_1735_180bpi_17inj_2INDIV  | 1737          |  `Mixed`           |     timeGain calib missing     |\n",
    "| 529248     | 02:43:51 | 25ns_2462b_2450_1737_1735_180bpi_17inj_2INDIV  | 1737          |  `Mixed`           | reduced tacking efficiency in SectorA4         |\n",
    "| 529252     | 01:34:27 | 25ns_2462b_2450_1737_1735_180bpi_17inj_2INDIV  | 1737          |  `GOOD`           |   OK      |\n",
    "| 529267     | 00:09:08 | 25ns_2462b_2450_1737_1735_180bpi_17inj_2INDIV  | 1737          |  `Mixed`           |    timeGain calib missing      |\n",
    "| 529268     | 00:23:11 | 25ns_2462b_2450_1737_1735_180bpi_17inj_2INDIV  | 1737          |  `Mixed`           |    timeGain calib missing      |\n",
    "| 529270     | 05:58:46 | 25ns_2462b_2450_1737_1735_180bpi_17inj_2INDIV  | 1737          |  `Mixed`           |reduced tacking efficiency in SectorA4          |\n",
    "| 529306     | 12:45:23 | 25ns_2462b_2450_1737_1735_180bpi_17inj_2INDIV  | 1737          |  `Mixed`           |       timeGain calib missing   |\n",
    "| 529310     | 14:45:49 | 25ns_2462b_2450_1737_1735_180bpi_17inj_2INDIV  | 1737          |  `Mixed`           | reduced tacking efficiency in SectorA4         |\n",
    "| 529317     | 17:02:51 | 25ns_2462b_2450_1737_1735_180bpi_17inj_2INDIV  | 1737          |  `GOOD`           |   OK      |\n",
    "| 529320     | 18:55:49 | 25ns_2462b_2450_1737_1735_180bpi_17inj_2INDIV  | 1737          |  `Mixed`           |  reduced tacking efficiency in SectorA4        |\n",
    "| 529324     | 22:31:49 | 25ns_2462b_2450_1737_1735_180bpi_17inj_2INDIV  | 1737          |  `Mixed`           |     timeGain calib missing     |\n",
    "| 529337     | 00:52:49 | 25ns_2462b_2450_1737_1735_180bpi_17inj_2INDIV  | 1737          |  `Mixed`           |     timeGain calib missing     |\n",
    "| 529338     | 06:47:09 | 25ns_2462b_2450_1737_1735_180bpi_17inj_2INDIV  | 1737          |  `GOOD`           |OK |\n",
    "| 529341     | 08:42:52 | 25ns_2462b_2450_1737_1735_180bpi_17inj_2INDIV  | 1737          |  `Mixed`           |     timeGain calib missing     |\n",
    "\n"
   ]
  },
  {
   "cell_type": "markdown",
   "id": "a5b19428",
   "metadata": {},
   "source": [
    "# Clusters QC - Problematic runs\n",
    "+ Cluster maps look OK\n",
    "+ Shown are runs where local drops in tracking efficiency are observed "
   ]
  },
  {
   "cell_type": "markdown",
   "id": "19496f02",
   "metadata": {},
   "source": [
    "## Run 528997\n",
    "+ Problem in Secotr A6 observed in tracks but not in clusters"
   ]
  },
  {
   "cell_type": "code",
   "execution_count": null,
   "id": "7e368a48",
   "metadata": {},
   "outputs": [],
   "source": [
    "%jsroot on\n",
    "objectName = \"c_N_Clusters\"\n",
    "c = rootDataFile[0].ClusterQC.Get(objectName)\n",
    "c.Draw()"
   ]
  },
  {
   "cell_type": "markdown",
   "id": "4795dfdc",
   "metadata": {},
   "source": [
    "## Run 529015\n",
    "+ Problem in Secotr A4 observed in tracks but not in clusters"
   ]
  },
  {
   "cell_type": "code",
   "execution_count": null,
   "id": "3bb4d60b",
   "metadata": {},
   "outputs": [],
   "source": [
    "%jsroot on\n",
    "objectName = \"c_N_Clusters\"\n",
    "c = rootDataFile[3].ClusterQC.Get(objectName)\n",
    "c.Draw()"
   ]
  },
  {
   "cell_type": "markdown",
   "id": "65d4e0b8",
   "metadata": {},
   "source": [
    "---\n",
    "## Tracks QC\n",
    "### Geometrical distributions of tracks\n",
    "**Phi distribution A-side tracks:**\n",
    "+ Problem in run 529310 Sector A4\n",
    "+ More general problem in sector A6, slight loss in number of tracks. Effected runs:\n",
    " + 529078\n",
    " + 529088\n",
    " + 529129\n",
    " + 529208\n",
    " + 529210\n",
    " + 529211\n",
    " + 529248\n",
    " + 529270\n",
    " + 529310\n",
    " + 529320"
   ]
  },
  {
   "cell_type": "code",
   "execution_count": null,
   "id": "7d16c878",
   "metadata": {},
   "outputs": [],
   "source": [
    "%jsroot on\n",
    "objectName=\"hPhiAside\"\n",
    "[hist,legend,canvas,pad1] = drawHistograms(objectName,rootDataFile,normalize=True,legend=True,legendNames=runList,pads=False,yAxisRange = [1E-3,3.5E-3], drawOption=\"SAME L\")\n",
    "\n",
    "#Sector boundatries\n",
    "pad1.cd()\n",
    "sectorBoundary = ROOT.TLine(0,hist.GetMinimum(),0,hist.GetMaximum())\n",
    "sectorBoundary.SetLineStyle(2)\n",
    "sectorNum = ROOT.TText(.5,.5,\"test\")\n",
    "sectorNum.SetTextAlign(22)\n",
    "sectorNum.SetTextColor(ROOT.kGray+1)\n",
    "sectorNum.SetTextFont(0)\n",
    "for j in range(19):\n",
    "    sectorBoundary.DrawLine((j*2*math.pi)/18,hist.GetMinimum(),(j*2*math.pi)/18,hist.GetMaximum())\n",
    "    if j < 18 : sectorNum.DrawText(((j+0.5)*2*math.pi)/18,hist.GetMaximum(),str(j))\n",
    "    \n",
    "canvas.Draw()"
   ]
  },
  {
   "cell_type": "markdown",
   "id": "e95096b3",
   "metadata": {},
   "source": [
    "**Phi distribution C-side tracks:**\n",
    "+ Problems in run 529338 Sector C12"
   ]
  },
  {
   "cell_type": "code",
   "execution_count": null,
   "id": "e4eea6ae",
   "metadata": {},
   "outputs": [],
   "source": [
    "%jsroot on\n",
    "objectName=\"hPhiCside\"\n",
    "[hist,legend,canvas,pad1] = drawHistograms(objectName,rootDataFile,normalize=True,legend=True,legendNames=runList,pads=False,yAxisRange = [1.5E-3,3.5E-3], drawOption=\"SAME L\")\n",
    "\n",
    "#Sector boundatries\n",
    "pad1.cd()\n",
    "sectorBoundary = ROOT.TLine(0,hist.GetMinimum(),0,hist.GetMaximum())\n",
    "sectorBoundary.SetLineStyle(2)\n",
    "sectorNum = ROOT.TText(.5,.5,\"test\")\n",
    "sectorNum.SetTextAlign(22)\n",
    "sectorNum.SetTextColor(ROOT.kGray+1)\n",
    "sectorNum.SetTextFont(0)\n",
    "for j in range(19):\n",
    "    sectorBoundary.DrawLine((j*2*math.pi)/18,hist.GetMinimum(),(j*2*math.pi)/18,hist.GetMaximum())\n",
    "    if j < 18 : sectorNum.DrawText(((j+0.5)*2*math.pi)/18,hist.GetMaximum(),str(j))\n",
    "    \n",
    "canvas.Draw()"
   ]
  },
  {
   "cell_type": "markdown",
   "id": "bb51540c",
   "metadata": {},
   "source": [
    "### Eta distribution\n",
    "+ Asymmetry between A and C sides\n",
    "+ First two runs #529066 and #529067 have different distribution"
   ]
  },
  {
   "cell_type": "code",
   "execution_count": null,
   "id": "c0694dde",
   "metadata": {},
   "outputs": [],
   "source": [
    "objectName=\"hEta\"\n",
    "[hist,legend,canvas,pad1] = drawHistograms(objectName,rootDataFile,normalize=True,legend=True,xAxisRange=[-1.1,1.1],yAxisRange=[0,9E-3],legendNames=runList,pads=False)\n",
    "canvas.Draw()"
   ]
  },
  {
   "cell_type": "code",
   "execution_count": null,
   "id": "5c0b1436",
   "metadata": {},
   "outputs": [],
   "source": [
    "%jsroot on\n",
    "objectName=\"h2DEtaPhi\"\n",
    "[hist,legend,canvas,pad1] = drawHistograms(objectName,rootDataFile,normalize=False,legend=False,yAxisRange = [-1.1,1.1],legendNames=runList,pads=True,drawOption=\"COLZ\")\n",
    "canvas.Draw()"
   ]
  },
  {
   "cell_type": "markdown",
   "id": "97de51d0",
   "metadata": {},
   "source": [
    "### Track properties\n",
    "**Transverse momentum**\n",
    "+ First two runs #529066 and #529067 have different distribution"
   ]
  },
  {
   "cell_type": "code",
   "execution_count": null,
   "id": "eccc8df7",
   "metadata": {},
   "outputs": [],
   "source": [
    "objectName=\"hPt\"\n",
    "[hist,legend,canvas,pad1] = drawHistograms(objectName,rootDataFile,normalize=True,legend=True,log=\"logxy\",yAxisRange = [1E-6,1E-1],legendNames=runList,pads=False)\n",
    "canvas.Draw()"
   ]
  },
  {
   "cell_type": "markdown",
   "id": "4a499c7e",
   "metadata": {},
   "source": [
    "**Track sign**\n",
    "+ Ratio as expected"
   ]
  },
  {
   "cell_type": "code",
   "execution_count": null,
   "id": "927661f4",
   "metadata": {},
   "outputs": [],
   "source": [
    "objectName=\"hSign\"\n",
    "[hist,legend,canvas,pad1] = drawHistograms(objectName,rootDataFile,normalize=True,legend=True,legendNames=runList,pads=False)\n",
    "canvas.Draw()"
   ]
  },
  {
   "cell_type": "code",
   "execution_count": null,
   "id": "10c4368a",
   "metadata": {},
   "outputs": [],
   "source": [
    "objectName=\"hQOverPt\"\n",
    "[hist,legend,canvas,pad1] = drawHistograms(objectName,rootDataFile,normalize=True,legend=True,legendNames=runList,pads=False)\n",
    "canvas.Draw()"
   ]
  },
  {
   "cell_type": "markdown",
   "id": "3f4344b4",
   "metadata": {},
   "source": [
    "### Number of clusters per track\n",
    "+ First two runs #529066 and #529067 have different distribution\n",
    "+ Enhanced secondary bump in Run 529115"
   ]
  },
  {
   "cell_type": "code",
   "execution_count": null,
   "id": "1e6cb368",
   "metadata": {},
   "outputs": [],
   "source": [
    "%jsroot on\n",
    "objectName=\"hNClustersAfterCuts\"\n",
    "[hist,legend,canvas,pad1] = drawHistograms(objectName,rootDataFile,normalize=True,legend=True,xAxisRange = [50,160],legendNames=runList,pads=False)\n",
    "canvas.Draw()"
   ]
  },
  {
   "cell_type": "markdown",
   "id": "21b9e7a4",
   "metadata": {},
   "source": [
    "### nClusters vs eta\n",
    "+ peak at eta=0, nClusters = 80 prevelant"
   ]
  },
  {
   "cell_type": "code",
   "execution_count": null,
   "id": "c3531c9c",
   "metadata": {},
   "outputs": [],
   "source": [
    "%jsroot on\n",
    "objectName=\"h2DNClustersEta\"\n",
    "[hist,legend,canvas,pad1] = drawHistograms(objectName,rootDataFile,normalize=False,legend=False,xAxisRange = [-1.1,1.1],yAxisRange = [50,170],legendNames=runList,pads=True,drawOption=\"COLZ\")\n",
    "canvas.Draw()"
   ]
  },
  {
   "cell_type": "code",
   "execution_count": null,
   "id": "3bd4761b",
   "metadata": {},
   "outputs": [],
   "source": [
    "%jsroot on\n",
    "objectName=\"h2DNClustersPt\"\n",
    "[hist,legend,canvas,pad1] = drawHistograms(objectName,rootDataFile,normalize=False,legend=False,log=\"logx\",yAxisRange = [50,170],legendNames=runList,pads=True,drawOption=\"COLZ\")\n",
    "canvas.Draw()"
   ]
  },
  {
   "cell_type": "markdown",
   "id": "5a5df8aa",
   "metadata": {},
   "source": [
    "### PID\n",
    "+ Problems in time gain calibration"
   ]
  },
  {
   "cell_type": "code",
   "execution_count": null,
   "id": "3f8daf2e",
   "metadata": {},
   "outputs": [],
   "source": [
    "%jsroot on\n",
    "objectName=\"hdEdxTotMIP_TPC\"\n",
    "#quality = checkHistograms(objectName,rootDataFile,check=\"(histogram.Fit(\\\"gaus\\\",\\\"Sq\\\",\\\"\\\",40,60)) and 49<histogram.GetFunction(\\\"gaus\\\").GetParameter(1)<51\")\n",
    "[hist,legend,canvas,pad1] = drawHistograms(objectName,rootDataFile,legendNames=runList,normalize=True,log=\"logx\",yAxisRange=[0,0.12],legend=True,pads=False)\n",
    "\n",
    "pad1.cd()\n",
    "sectorBoundary = ROOT.TLine(50,hist.GetMinimum(),50,hist.GetMaximum())\n",
    "sectorBoundary.SetLineStyle(2)\n",
    "sectorBoundary.SetLineWidth(4)\n",
    "sectorBoundary.Draw()\n",
    "    \n",
    "canvas.Draw()"
   ]
  },
  {
   "cell_type": "markdown",
   "id": "5f31c8fa",
   "metadata": {},
   "source": [
    "### TPC Gain calibration\n",
    "+ Good runs:\n",
    " + 529209\n",
    " + 529210\n",
    " + 529335\n",
    " + 529250\n",
    " + 529317\n",
    " + 529338"
   ]
  },
  {
   "cell_type": "code",
   "execution_count": null,
   "id": "6afd9ec6",
   "metadata": {},
   "outputs": [],
   "source": [
    "%jsroot on\n",
    "objectName=\"hdEdxTotMIPVsSec_TPC\"\n",
    "[hist,legend,canvas,pad1] = drawHistograms(objectName,rootDataFile,normalize=False,legend=False,log=\"logy\",legendNames=runList,pads=True,drawOption=\"COLZ\")\n",
    "canvas.Draw()"
   ]
  },
  {
   "cell_type": "code",
   "execution_count": null,
   "id": "75821f23",
   "metadata": {},
   "outputs": [],
   "source": [
    "%jsroot on\n",
    "objectName=\"hdEdxTotMIPVsNcl_TPC\"\n",
    "[hist,legend,canvas,pad1] = drawHistograms(objectName,rootDataFile,normalize=False,legend=False,log=\"logz\",xAxisRange = [55,180],legendNames=runList,pads=True,drawOption=\"COLZ\")\n",
    "canvas.Draw()"
   ]
  },
  {
   "cell_type": "code",
   "execution_count": null,
   "id": "ea85fe2e",
   "metadata": {},
   "outputs": [],
   "source": [
    "%jsroot on\n",
    "objectName=\"hdEdxTotMIPVsSnp_TPC\"\n",
    "[hist,legend,canvas,pad1] = drawHistograms(objectName,rootDataFile,normalize=False,legend=False,log=\"logz\",legendNames=runList,pads=True,drawOption=\"COLZ\")\n",
    "canvas.Draw()"
   ]
  },
  {
   "cell_type": "code",
   "execution_count": null,
   "id": "3ed8e35f",
   "metadata": {},
   "outputs": [],
   "source": [
    "%jsroot on\n",
    "objectName=\"hdEdxTotMIPVsTgl_TPC\"\n",
    "[hist,legend,canvas,pad1] = drawHistograms(objectName,rootDataFile,normalize=False,legend=False,log=\"logz\",legendNames=runList,pads=True,drawOption=\"COLZ\")\n",
    "canvas.Draw()"
   ]
  },
  {
   "cell_type": "markdown",
   "id": "c816acdc",
   "metadata": {},
   "source": [
    "### dEdx vs p\n",
    "Looks GOOD"
   ]
  },
  {
   "cell_type": "code",
   "execution_count": null,
   "id": "fc8654d6",
   "metadata": {},
   "outputs": [],
   "source": [
    "%jsroot on\n",
    "objectName=\"hdEdxTotVsP_TPC\"\n",
    "[hist,legend,canvas,pad1] = drawHistograms(objectName,rootDataFile,normalize=False,legend=False,log=\"logxyz\",legendNames=runList,pads=True,drawOption=\"COLZ\")\n",
    "canvas.Draw()"
   ]
  }
 ],
 "metadata": {
  "kernelspec": {
   "display_name": "Python 3 (ipykernel)",
   "language": "python",
   "name": "python3"
  },
  "language_info": {
   "codemirror_mode": {
    "name": "ipython",
    "version": 3
   },
   "file_extension": ".py",
   "mimetype": "text/x-python",
   "name": "python",
   "nbconvert_exporter": "python",
   "pygments_lexer": "ipython3",
   "version": "3.9.12"
  }
 },
 "nbformat": 4,
 "nbformat_minor": 5
}
