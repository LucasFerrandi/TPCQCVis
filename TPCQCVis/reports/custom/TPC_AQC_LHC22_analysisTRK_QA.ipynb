{
 "cells": [
  {
   "cell_type": "code",
   "execution_count": null,
   "id": "6ba04481",
   "metadata": {},
   "outputs": [],
   "source": [
    "%%capture\n",
    "import ROOT\n",
    "import glob\n",
    "import math\n",
    "import numpy as np\n",
    "import pandas as pd\n",
    "from IPython.display import display, Markdown, HTML\n",
    "import ipywidgets as widgets\n",
    "from TPCQCVis.src.drawHistograms import *\n",
    "from TPCQCVis.src.drawTrending import *\n",
    "from TPCQCVis.src.drawMultiTrending import *\n",
    "from TPCQCVis.src.checkHistograms import *\n",
    "from TPCQCVis.src.checkTrending import *"
   ]
  },
  {
   "cell_type": "code",
   "execution_count": null,
   "id": "7afb8d37",
   "metadata": {},
   "outputs": [],
   "source": [
    "%jsroot on\n",
    "display(HTML(\"<style>.container { width:95% !important; }</style>\"))\n",
    "display(HTML(\"<style>table {float:left;}</style>\"))\n",
    "#ROOT.gStyle.SetPalette(57)"
   ]
  },
  {
   "cell_type": "markdown",
   "id": "aa9e135e-92c7-40db-bec1-315abaf4dc69",
   "metadata": {},
   "source": [
    "## LHC22f"
   ]
  },
  {
   "cell_type": "code",
   "execution_count": null,
   "id": "bb0c55ba",
   "metadata": {},
   "outputs": [],
   "source": [
    "# Read the Root Files\n",
    "period = \"LHC22f\"\n",
    "path=\"/mnt/cave/alice/data/analysisQC/\"+period+\"/apass3/\"\n",
    "fileList = glob.glob(path+\"/*.root\")\n",
    "fileList.sort()\n",
    "#fileList = fileList[13:]\n",
    "runList = [fileList[i][-11:-5] for i in range(len(fileList))]\n",
    "rootDataFile=[]\n",
    "for file in fileList:\n",
    "    rootDataFile.append(ROOT.TFile.Open(file,\"READ\"))\n",
    "\n",
    "path_apass1=\"/mnt/cave/alice/data/analysisQC/LHC22f/apass4/\"\n",
    "fileList_apass1 = glob.glob(path_apass1+\"/*.root\")\n",
    "fileList_apass1.sort()\n",
    "#fileList = fileList[13:]\n",
    "runList_apass1 = [fileList_apass1[i][-11:-5] for i in range(len(fileList_apass1))]\n",
    "rootDataFile_apass1=[]\n",
    "for file in fileList_apass1:\n",
    "    rootDataFile_apass1.append(ROOT.TFile.Open(file,\"READ\"))"
   ]
  },
  {
   "cell_type": "code",
   "execution_count": null,
   "id": "d4f5572b-eb6b-429c-be71-e7c4b7de17c8",
   "metadata": {},
   "outputs": [],
   "source": [
    "canvas = ROOT.TCanvas(\"\",\"\",1050,500)\n",
    "hists = [file.Get(\"qa-event-track\").Get(\"Tracks\").Get(\"TPC\").Get(\"tpcNClsShared;1\") for file in rootDataFile]\n",
    "hists_apass1 = [file.Get(\"qa-event-track\").Get(\"Tracks\").Get(\"TPC\").Get(\"tpcNClsShared;1\") for file in rootDataFile_apass1]\n",
    "cols = ROOT.TColor.GetPalette()\n",
    "canvas.Divide(2)\n",
    "\n",
    "pad1 = canvas.cd(1)\n",
    "pad1.SetGrid()\n",
    "pad1.SetLogy()\n",
    "\n",
    "leg = ROOT.TLegend()\n",
    "leg.SetHeader(period+\" - apass3\")\n",
    "leg.SetNColumns(1)\n",
    "for i,hist in enumerate(hists):\n",
    "    hist.Scale(1/hist.Integral())\n",
    "    hist.Draw(\"HIST SAME\")\n",
    "    hist.SetLineWidth(2)\n",
    "    hist.SetName(runList[i])\n",
    "    hist.SetTitle(\"#Shared Clusters - \"+period+\" apass3\")\n",
    "    hist.SetLineColor(cols[round((i*len(cols))/len(hists))])\n",
    "    leg.AddEntry(hist,runList[i])\n",
    "leg.Draw()\n",
    "\n",
    "pad2 = canvas.cd(2)\n",
    "pad2.SetGrid()\n",
    "pad2.SetLogy()\n",
    "\n",
    "leg_apass1 = ROOT.TLegend()\n",
    "leg_apass1.SetHeader(period+\" - apass4\")\n",
    "leg_apass1.SetNColumns(1)\n",
    "for i,hist in enumerate(hists_apass1):\n",
    "    hist.Scale(1/hist.Integral())\n",
    "    hist.Draw(\"HIST SAME\")\n",
    "    hist.SetLineWidth(2)\n",
    "    hist.SetName(runList_apass1[i])\n",
    "    hist.SetTitle(\"#Shared Clusters - \"+period+\" apass4\")\n",
    "    hist.SetLineColor(cols[round((i*len(cols))/len(hists))])\n",
    "    leg_apass1.AddEntry(hist,runList[i])\n",
    "leg_apass1.Draw()\n",
    "\n",
    "canvas.Draw()\n"
   ]
  },
  {
   "cell_type": "markdown",
   "id": "207c0b55-a43d-4085-8725-dc959f97aef3",
   "metadata": {},
   "source": [
    "## LHC22m"
   ]
  },
  {
   "cell_type": "code",
   "execution_count": null,
   "id": "8b738106-2877-4a4c-b359-346832053124",
   "metadata": {},
   "outputs": [],
   "source": [
    "# Read the Root Files\n",
    "period = \"LHC22m\"\n",
    "path=\"/mnt/cave/alice/data/analysisQC/\"+period+\"/apass3/\"\n",
    "fileList = glob.glob(path+\"/*.root\")\n",
    "fileList.sort()\n",
    "#fileList = fileList[13:]\n",
    "runList = [fileList[i][-11:-5] for i in range(len(fileList))]\n",
    "rootDataFile=[]\n",
    "for file in fileList:\n",
    "    rootDataFile.append(ROOT.TFile.Open(file,\"READ\"))\n",
    "\n",
    "path_apass1=\"/mnt/cave/alice/data/analysisQC/\"+period+\"/apass4/\"\n",
    "fileList_apass1 = glob.glob(path_apass1+\"/*.root\")\n",
    "fileList_apass1.sort()\n",
    "#fileList = fileList[13:]\n",
    "runList_apass1 = [fileList_apass1[i][-11:-5] for i in range(len(fileList_apass1))]\n",
    "rootDataFile_apass1=[]\n",
    "for file in fileList_apass1:\n",
    "    rootDataFile_apass1.append(ROOT.TFile.Open(file,\"READ\"))"
   ]
  },
  {
   "cell_type": "code",
   "execution_count": null,
   "id": "1736adda-30e6-4d41-8429-2723108254c1",
   "metadata": {},
   "outputs": [],
   "source": [
    "canvas = ROOT.TCanvas(\"\",\"\",1050,500)\n",
    "hists = [file.Get(\"qa-event-track\").Get(\"Tracks\").Get(\"TPC\").Get(\"tpcNClsShared;1\") for file in rootDataFile]\n",
    "hists_apass1 = [file.Get(\"qa-event-track\").Get(\"Tracks\").Get(\"TPC\").Get(\"tpcNClsShared;1\") for file in rootDataFile_apass1]\n",
    "cols = ROOT.TColor.GetPalette()\n",
    "canvas.Divide(2)\n",
    "\n",
    "pad1 = canvas.cd(1)\n",
    "pad1.SetGrid()\n",
    "pad1.SetLogy()\n",
    "\n",
    "leg = ROOT.TLegend()\n",
    "leg.SetHeader(period+\" - apass3\")\n",
    "leg.SetNColumns(3)\n",
    "for i,hist in enumerate(hists):\n",
    "    hist.Scale(1/hist.Integral())\n",
    "    hist.Draw(\"HIST SAME\")\n",
    "    hist.SetLineWidth(2)\n",
    "    hist.SetName(runList[i])\n",
    "    hist.SetTitle(\"#Shared Clusters - \"+period+\" apass3\")\n",
    "    hist.SetLineColor(cols[round((i*len(cols))/len(hists))])\n",
    "    leg.AddEntry(hist,runList[i])\n",
    "leg.Draw()\n",
    "\n",
    "pad2 = canvas.cd(2)\n",
    "pad2.SetGrid()\n",
    "pad2.SetLogy()\n",
    "\n",
    "leg_apass1 = ROOT.TLegend()\n",
    "leg_apass1.SetHeader(period+\" - apass4\")\n",
    "leg_apass1.SetNColumns(3)\n",
    "for i,hist in enumerate(hists_apass1):\n",
    "    hist.Scale(1/hist.Integral())\n",
    "    hist.Draw(\"HIST SAME\")\n",
    "    hist.SetName(runList_apass1[i])\n",
    "    hist.SetLineWidth(2)\n",
    "    hist.SetTitle(\"#Shared Clusters - \"+period+\" apass4\")\n",
    "    hist.SetLineColor(cols[round((i*len(cols))/len(hists))])\n",
    "    leg_apass1.AddEntry(hist,runList[i])\n",
    "leg_apass1.Draw()\n",
    "\n",
    "canvas.Draw()\n"
   ]
  },
  {
   "cell_type": "markdown",
   "id": "0519fc0f-6ff0-4c0e-896a-86f21512d9ea",
   "metadata": {},
   "source": [
    "## LHC22o"
   ]
  },
  {
   "cell_type": "code",
   "execution_count": null,
   "id": "7b5c55b1-dc5a-4fa8-9472-5122abc15a9a",
   "metadata": {},
   "outputs": [],
   "source": [
    "# Read the Root Files\n",
    "period = \"LHC22o\"\n",
    "path=\"/mnt/cave/alice/data/analysisQC/\"+period+\"/apass3/\"\n",
    "fileList = glob.glob(path+\"/*.root\")\n",
    "fileList.sort()\n",
    "#fileList = fileList[13:]\n",
    "runList = [fileList[i][-11:-5] for i in range(len(fileList))]\n",
    "rootDataFile=[]\n",
    "for file in fileList:\n",
    "    rootDataFile.append(ROOT.TFile.Open(file,\"READ\"))\n",
    "    \n",
    "path_apass1=\"/mnt/cave/alice/data/analysisQC/\"+period+\"/apass4/\"\n",
    "fileList_apass1 = glob.glob(path_apass1+\"/*.root\")\n",
    "fileList_apass1.sort()\n",
    "#fileList = fileList[13:]\n",
    "runList_apass1 = [fileList_apass1[i][-11:-5] for i in range(len(fileList_apass1))]\n",
    "rootDataFile_apass1=[]\n",
    "for file in fileList_apass1:\n",
    "    rootDataFile_apass1.append(ROOT.TFile.Open(file,\"READ\"))\n"
   ]
  },
  {
   "cell_type": "code",
   "execution_count": null,
   "id": "37d25149-8338-44f8-8a57-279f8acfdd7f",
   "metadata": {},
   "outputs": [],
   "source": [
    "canvas = ROOT.TCanvas(\"\",\"\",1050,500)\n",
    "hists = [file.Get(\"qa-event-track\").Get(\"Tracks\").Get(\"TPC\").Get(\"tpcNClsShared;1\") for file in rootDataFile]\n",
    "hists_apass1 = [file.Get(\"qa-event-track\").Get(\"Tracks\").Get(\"TPC\").Get(\"tpcNClsShared;1\") for file in rootDataFile_apass1]\n",
    "cols = ROOT.TColor.GetPalette()\n",
    "canvas.Divide(2)\n",
    "\n",
    "pad1 = canvas.cd(1)\n",
    "pad1.SetGrid()\n",
    "pad1.SetLogy()\n",
    "\n",
    "leg = ROOT.TLegend()\n",
    "leg.SetHeader(period+\" - apass3\")\n",
    "leg.SetNColumns(3)\n",
    "for i,hist in enumerate(hists):\n",
    "    hist.Scale(1/hist.Integral())\n",
    "    hist.Draw(\"HIST SAME\")\n",
    "    hist.SetLineWidth(2)\n",
    "    hist.SetName(runList[i])\n",
    "    hist.SetTitle(\"#Shared Clusters - \"+period+\" apass3\")\n",
    "    hist.SetLineColor(cols[round((i*len(cols))/len(hists))])\n",
    "    leg.AddEntry(hist,runList[i])\n",
    "leg.Draw()\n",
    "\n",
    "pad2 = canvas.cd(2)\n",
    "pad2.SetGrid()\n",
    "pad2.SetLogy()\n",
    "\n",
    "leg_apass1 = ROOT.TLegend()\n",
    "leg_apass1.SetHeader(period+\" - apass4\")\n",
    "leg_apass1.SetNColumns(3)\n",
    "for i,hist in enumerate(hists_apass1):\n",
    "    hist.Scale(1/hist.Integral())\n",
    "    hist.Draw(\"HIST SAME\")\n",
    "    hist.SetName(runList_apass1[i])\n",
    "    hist.SetLineWidth(2)\n",
    "    hist.SetTitle(\"#Shared Clusters - \"+period+\" apass4\")\n",
    "    hist.SetLineColor(cols[round((i*len(cols))/len(hists))])\n",
    "    leg_apass1.AddEntry(hist,runList[i])\n",
    "leg_apass1.Draw()\n",
    "\n",
    "canvas.Draw()\n"
   ]
  },
  {
   "cell_type": "markdown",
   "id": "dfbcd614-ad48-4b02-9e54-f23a7705c982",
   "metadata": {},
   "source": [
    "## LHC22r"
   ]
  },
  {
   "cell_type": "code",
   "execution_count": null,
   "id": "47ef451e-b896-496e-823a-c29d69d430b6",
   "metadata": {},
   "outputs": [],
   "source": [
    "# Read the Root Files\n",
    "period = \"LHC22r\"\n",
    "path=\"/mnt/cave/alice/data/analysisQC/\"+period+\"/apass3/\"\n",
    "fileList = glob.glob(path+\"/*.root\")\n",
    "fileList.sort()\n",
    "#fileList = fileList[13:]\n",
    "runList = [fileList[i][-11:-5] for i in range(len(fileList))]\n",
    "rootDataFile=[]\n",
    "for file in fileList:\n",
    "    rootDataFile.append(ROOT.TFile.Open(file,\"READ\"))\n",
    "    \n",
    "path_apass1=\"/mnt/cave/alice/data/analysisQC/\"+period+\"/apass4/\"\n",
    "fileList_apass1 = glob.glob(path_apass1+\"/*.root\")\n",
    "fileList_apass1.sort()\n",
    "#fileList = fileList[13:]\n",
    "runList_apass1 = [fileList_apass1[i][-11:-5] for i in range(len(fileList_apass1))]\n",
    "rootDataFile_apass1=[]\n",
    "for file in fileList_apass1:\n",
    "    rootDataFile_apass1.append(ROOT.TFile.Open(file,\"READ\"))\n"
   ]
  },
  {
   "cell_type": "code",
   "execution_count": null,
   "id": "d8d0009b-ef24-4c9f-a544-3446f9f5c9fb",
   "metadata": {},
   "outputs": [],
   "source": [
    "canvas = ROOT.TCanvas(\"\",\"\",1050,500)\n",
    "hists = [file.Get(\"qa-event-track\").Get(\"Tracks\").Get(\"TPC\").Get(\"tpcNClsShared;1\") for file in rootDataFile]\n",
    "hists_apass1 = [file.Get(\"qa-event-track\").Get(\"Tracks\").Get(\"TPC\").Get(\"tpcNClsShared;1\") for file in rootDataFile_apass1]\n",
    "cols = ROOT.TColor.GetPalette()\n",
    "canvas.Divide(2)\n",
    "\n",
    "pad1 = canvas.cd(1)\n",
    "pad1.SetGrid()\n",
    "pad1.SetLogy()\n",
    "\n",
    "leg = ROOT.TLegend()\n",
    "leg.SetHeader(period+\" - apass3\")\n",
    "leg.SetNColumns(1)\n",
    "for i,hist in enumerate(hists):\n",
    "    hist.Scale(1/hist.Integral())\n",
    "    hist.Draw(\"HIST SAME\")\n",
    "    hist.SetLineWidth(2)\n",
    "    hist.SetName(runList[i])\n",
    "    hist.SetTitle(\"#Shared Clusters - \"+period+\" apass3\")\n",
    "    hist.SetLineColor(cols[round((i*len(cols))/len(hists))])\n",
    "    leg.AddEntry(hist,runList[i])\n",
    "leg.Draw()\n",
    "\n",
    "pad2 = canvas.cd(2)\n",
    "pad2.SetGrid()\n",
    "pad2.SetLogy()\n",
    "\n",
    "leg_apass1 = ROOT.TLegend()\n",
    "leg_apass1.SetHeader(period+\" - apass4\")\n",
    "leg_apass1.SetNColumns(1)\n",
    "for i,hist in enumerate(hists_apass1):\n",
    "    hist.Scale(1/hist.Integral())\n",
    "    hist.Draw(\"HIST SAME\")\n",
    "    hist.SetName(runList_apass1[i])\n",
    "    hist.SetLineWidth(2)\n",
    "    hist.SetTitle(\"#Shared Clusters - \"+period+\" apass4\")\n",
    "    hist.SetLineColor(cols[round((i*len(cols))/len(hists))])\n",
    "    leg_apass1.AddEntry(hist,runList[i])\n",
    "leg_apass1.Draw()\n",
    "\n",
    "canvas.Draw()\n"
   ]
  },
  {
   "cell_type": "markdown",
   "id": "808a3c03-6836-4234-9eec-664761327cb4",
   "metadata": {},
   "source": [
    "## LHC22t"
   ]
  },
  {
   "cell_type": "code",
   "execution_count": null,
   "id": "88bcc918-eae5-49fa-81c4-79eeed27ed17",
   "metadata": {},
   "outputs": [],
   "source": [
    "# Read the Root Files\n",
    "period = \"LHC22t\"\n",
    "path=\"/mnt/cave/alice/data/analysisQC/\"+period+\"/apass3/\"\n",
    "fileList = glob.glob(path+\"/*.root\")\n",
    "fileList.sort()\n",
    "#fileList = fileList[13:]\n",
    "runList = [fileList[i][-11:-5] for i in range(len(fileList))]\n",
    "rootDataFile=[]\n",
    "for file in fileList:\n",
    "    rootDataFile.append(ROOT.TFile.Open(file,\"READ\"))\n",
    "    \n",
    "path_apass1=\"/mnt/cave/alice/data/analysisQC/\"+period+\"/apass4/\"\n",
    "fileList_apass1 = glob.glob(path_apass1+\"/*.root\")\n",
    "fileList_apass1.sort()\n",
    "#fileList = fileList[13:]\n",
    "runList_apass1 = [fileList_apass1[i][-11:-5] for i in range(len(fileList_apass1))]\n",
    "rootDataFile_apass1=[]\n",
    "for file in fileList_apass1:\n",
    "    rootDataFile_apass1.append(ROOT.TFile.Open(file,\"READ\"))\n"
   ]
  },
  {
   "cell_type": "code",
   "execution_count": null,
   "id": "4bea4a8d-6bb9-45de-b3f4-0c97c08aec60",
   "metadata": {},
   "outputs": [],
   "source": [
    "canvas = ROOT.TCanvas(\"\",\"\",1050,500)\n",
    "hists = [file.Get(\"qa-event-track\").Get(\"Tracks\").Get(\"TPC\").Get(\"tpcNClsShared;1\") for file in rootDataFile]\n",
    "hists_apass1 = [file.Get(\"qa-event-track\").Get(\"Tracks\").Get(\"TPC\").Get(\"tpcNClsShared;1\") for file in rootDataFile_apass1]\n",
    "cols = ROOT.TColor.GetPalette()\n",
    "canvas.Divide(2)\n",
    "\n",
    "pad1 = canvas.cd(1)\n",
    "pad1.SetGrid()\n",
    "pad1.SetLogy()\n",
    "\n",
    "leg = ROOT.TLegend()\n",
    "leg.SetHeader(period+\" - apass3\")\n",
    "leg.SetNColumns(1)\n",
    "for i,hist in enumerate(hists):\n",
    "    hist.Scale(1/hist.Integral())\n",
    "    hist.Draw(\"HIST SAME\")\n",
    "    hist.SetLineWidth(2)\n",
    "    hist.SetName(runList[i])\n",
    "    hist.SetTitle(\"#Shared Clusters - \"+period+\" apass3\")\n",
    "    hist.SetLineColor(cols[round((i*len(cols))/len(hists))])\n",
    "    leg.AddEntry(hist,runList[i])\n",
    "leg.Draw()\n",
    "\n",
    "pad2 = canvas.cd(2)\n",
    "pad2.SetGrid()\n",
    "pad2.SetLogy()\n",
    "\n",
    "leg_apass1 = ROOT.TLegend()\n",
    "leg_apass1.SetHeader(period+\" - apass4\")\n",
    "leg_apass1.SetNColumns(1)\n",
    "for i,hist in enumerate(hists_apass1):\n",
    "    hist.Scale(1/hist.Integral())\n",
    "    hist.Draw(\"HIST SAME\")\n",
    "    hist.SetName(runList_apass1[i])\n",
    "    hist.SetLineWidth(2)\n",
    "    hist.SetTitle(\"#Shared Clusters - \"+period+\" apass4\")\n",
    "    hist.SetLineColor(cols[round((i*len(cols))/len(hists))])\n",
    "    leg_apass1.AddEntry(hist,runList[i])\n",
    "leg_apass1.Draw()\n",
    "\n",
    "canvas.Draw()\n"
   ]
  },
  {
   "cell_type": "markdown",
   "id": "240e70da-64b5-4bad-ac95-9d024c378e33",
   "metadata": {},
   "source": [
    "# Plot using AO2D files"
   ]
  },
  {
   "cell_type": "markdown",
   "id": "ff3cd0ca-7a72-455b-9d68-f5a9dbf6a693",
   "metadata": {},
   "source": [
    "## Apass3"
   ]
  },
  {
   "cell_type": "code",
   "execution_count": null,
   "id": "e00a9f61-0087-4f38-9504-24712228ebae",
   "metadata": {},
   "outputs": [],
   "source": [
    "AO2D_apass3 = ROOT.TFile.Open(\"/home/berki/cave/alice/data/analysisQC/528097_apass3.root\",\"READ\")"
   ]
  },
  {
   "cell_type": "code",
   "execution_count": null,
   "id": "7326d541-14ae-4b7e-b47d-1c7735ae670e",
   "metadata": {},
   "outputs": [],
   "source": [
    "nClsShared = [int.from_bytes(bytes(entry.fTPCNClsShared, 'utf-8'),\"big\") for entry in AO2D_apass3.Get(\"DF_2268159461875840;1\").Get(\"O2trackextra;1\")]"
   ]
  },
  {
   "cell_type": "code",
   "execution_count": null,
   "id": "77070c59-6e9d-4d20-8062-e92074f3ce8f",
   "metadata": {},
   "outputs": [],
   "source": [
    "%jsroot on\n",
    "canvas = ROOT.TCanvas(\"\",\"\",1050,1050)\n",
    "histNClsShared = ROOT.TH1F(\"nClsShared\",\"nClsShared\",152,0,152)\n",
    "histEta = ROOT.TH2F(\"nClsShared_vs_eta\",\"nClsShared_vs_eta\",200,-2,2,152,0,152)\n",
    "histPhi = ROOT.TH2F(\"nClsShared_vs_phi\",\"nClsShared_vs_phi\",180,0,2*math.pi,152,0,152)\n",
    "histQPt = ROOT.TH2F(\"nClsShared_vs_QOverPt\",\"nClsShared_vs_QOverPt\",200,-20,20,152,0,152)\n",
    "\n",
    "track_tree = AO2D_apass3.Get(\"DF_2268159461875840;1\").Get(\"O2track_iu;1\")\n",
    "nEntries = track_tree.GetEntries()\n",
    "for i in range(0,nEntries):\n",
    "    entry = track_tree.GetEntry(i)\n",
    "    # Define\n",
    "    nShared = nClsShared[i]\n",
    "    phi = math.asin(track_tree.fSnp)+track_tree.fAlpha\n",
    "    if phi < 0 : phi += math.pi*2\n",
    "    if phi > math.pi*2 : phi -= math.pi*2\n",
    "    theta = math.pi/2 - math.atan(track_tree.fTgl)\n",
    "    eta = -math.log(math.tan(0.5*theta))\n",
    "    # Fill\n",
    "    histNClsShared.Fill(nShared)\n",
    "    histEta.Fill(eta,nShared)\n",
    "    histPhi.Fill(phi,nShared)\n",
    "    histQPt.Fill(track_tree.fSigned1Pt,nShared)\n",
    "    \n",
    "canvas.Divide(2,2)\n",
    "canvas.cd(1)\n",
    "ROOT.gPad.SetLogy()\n",
    "ROOT.gPad.SetGrid()\n",
    "histNClsShared.Draw(\"HIST\")\n",
    "histNClsShared.SetXTitle(\"# shared TPC clusters\")\n",
    "histNClsShared.SetYTitle(\"Count\")\n",
    "canvas.cd(2)\n",
    "ROOT.gPad.SetLogy()\n",
    "histQPt.Draw(\"COLZ\")\n",
    "histQPt.SetXTitle(\"Q/Pt\")\n",
    "histQPt.SetYTitle(\"# shared TPC clusters\")\n",
    "canvas.Draw()\n",
    "canvas.cd(3)\n",
    "ROOT.gPad.SetLogy()\n",
    "histPhi.Draw(\"COLZ\")\n",
    "histPhi.SetXTitle(\"Phi\")\n",
    "histPhi.SetYTitle(\"# shared TPC clusters\")\n",
    "sectorBoundary = ROOT.TLine(0,0,0,152)\n",
    "sectorBoundary.SetLineStyle(2)\n",
    "sectorNum = ROOT.TText(.5,.5,\"test\")\n",
    "sectorNum.SetTextAlign(22)\n",
    "sectorNum.SetTextColor(ROOT.kGray+1)\n",
    "sectorNum.SetTextFont(0)\n",
    "for j in range(0,19):\n",
    "    sectorBoundary.DrawLine((j*2*math.pi)/18,0,(j*2*math.pi)/18,152)\n",
    "    if j < 18 : sectorNum.DrawText(((j+0.5)*2*math.pi)/18,140,str(j))\n",
    "canvas.cd(4)\n",
    "ROOT.gPad.SetLogy()\n",
    "histEta.Draw(\"COLZ\")\n",
    "histEta.SetXTitle(\"Eta\")\n",
    "histEta.SetYTitle(\"# shared TPC clusters\")"
   ]
  },
  {
   "cell_type": "code",
   "execution_count": null,
   "id": "495ae954-6aa1-4d69-b7fe-029fa40dfef3",
   "metadata": {},
   "outputs": [],
   "source": [
    "track_tree.GetListOfBranches().ls()"
   ]
  },
  {
   "cell_type": "markdown",
   "id": "aebbe14e-c927-4c64-9d46-cb98f3131403",
   "metadata": {},
   "source": [
    "## Apass4"
   ]
  },
  {
   "cell_type": "code",
   "execution_count": null,
   "id": "1ea56c71-74af-4f8c-8ef2-744ff8f72210",
   "metadata": {},
   "outputs": [],
   "source": [
    "AO2D_apass4 = ROOT.TFile.Open(\"/home/berki/cave/alice/data/analysisQC/528097_apass4.root\",\"READ\")"
   ]
  },
  {
   "cell_type": "code",
   "execution_count": null,
   "id": "86e3ddd9-5bf3-4146-beea-6c660fc8c8ed",
   "metadata": {},
   "outputs": [],
   "source": [
    "nClsShared = [int.from_bytes(bytes(entry.fTPCNClsShared, 'utf-8'),\"big\") for entry in AO2D_apass4.Get(\"DF_2268159461875840;1\").Get(\"O2trackextra;1\")]"
   ]
  },
  {
   "cell_type": "code",
   "execution_count": null,
   "id": "b8ad716b-d674-4d6f-8ff4-2413bf30f4d1",
   "metadata": {},
   "outputs": [],
   "source": [
    "%jsroot on\n",
    "canvas = ROOT.TCanvas(\"\",\"\",1050,1050)\n",
    "histNClsShared = ROOT.TH1F(\"nClsShared\",\"nClsShared\",152,0,152)\n",
    "histEta = ROOT.TH2F(\"nClsShared_vs_eta\",\"nClsShared_vs_eta\",200,-2,2,152,0,152)\n",
    "histPhi = ROOT.TH2F(\"nClsShared_vs_phi\",\"nClsShared_vs_phi\",180,0,2*math.pi,152,0,152)\n",
    "histQPt = ROOT.TH2F(\"nClsShared_vs_QOverPt\",\"nClsShared_vs_QOverPt\",200,-20,20,152,0,152)\n",
    "\n",
    "track_tree = AO2D_apass4.Get(\"DF_2268159461875840;1\").Get(\"O2track_iu;1\")\n",
    "nEntries = track_tree.GetEntries()\n",
    "for i in range(0,nEntries):\n",
    "    entry = track_tree.GetEntry(i)\n",
    "    # Define\n",
    "    nShared = nClsShared[i]\n",
    "    phi = math.asin(track_tree.fSnp)+track_tree.fAlpha\n",
    "    if phi < 0 : phi += math.pi*2\n",
    "    if phi > math.pi*2 : phi -= math.pi*2\n",
    "    theta = math.pi/2 - math.atan(track_tree.fTgl)\n",
    "    eta = -math.log(math.tan(0.5*theta))\n",
    "    # Fill\n",
    "    histNClsShared.Fill(nShared)\n",
    "    histEta.Fill(eta,nShared)\n",
    "    histPhi.Fill(phi,nShared)\n",
    "    histQPt.Fill(track_tree.fSigned1Pt,nShared)\n",
    "    \n",
    "canvas.Divide(2,2)\n",
    "canvas.cd(1)\n",
    "ROOT.gPad.SetLogy()\n",
    "ROOT.gPad.SetGrid()\n",
    "histNClsShared.Draw(\"HIST\")\n",
    "histNClsShared.SetXTitle(\"# shared TPC clusters\")\n",
    "histNClsShared.SetYTitle(\"Count\")\n",
    "canvas.cd(2)\n",
    "ROOT.gPad.SetLogy()\n",
    "histQPt.Draw(\"COLZ\")\n",
    "histQPt.SetXTitle(\"Q/Pt\")\n",
    "histQPt.SetYTitle(\"# shared TPC clusters\")\n",
    "canvas.Draw()\n",
    "canvas.cd(3)\n",
    "ROOT.gPad.SetLogy()\n",
    "histPhi.Draw(\"COLZ\")\n",
    "histPhi.SetXTitle(\"Phi\")\n",
    "histPhi.SetYTitle(\"# shared TPC clusters\")\n",
    "sectorBoundary = ROOT.TLine(0,0,0,152)\n",
    "sectorBoundary.SetLineStyle(2)\n",
    "sectorNum = ROOT.TText(.5,.5,\"test\")\n",
    "sectorNum.SetTextAlign(22)\n",
    "sectorNum.SetTextColor(ROOT.kGray+1)\n",
    "sectorNum.SetTextFont(0)\n",
    "for j in range(0,19):\n",
    "    sectorBoundary.DrawLine((j*2*math.pi)/18,0,(j*2*math.pi)/18,152)\n",
    "    if j < 18 : sectorNum.DrawText(((j+0.5)*2*math.pi)/18,140,str(j))\n",
    "canvas.cd(4)\n",
    "ROOT.gPad.SetLogy()\n",
    "histEta.Draw(\"COLZ\")\n",
    "histEta.SetXTitle(\"Eta\")\n",
    "histEta.SetYTitle(\"# shared TPC clusters\")\n"
   ]
  },
  {
   "cell_type": "code",
   "execution_count": null,
   "id": "17afc56a-c937-44d6-8ca5-70a18c9a2e74",
   "metadata": {},
   "outputs": [],
   "source": [
    "%jsroot on\n",
    "import array\n",
    "import numpy\n",
    "canvas = ROOT.TCanvas(\"\",\"\",700,500)\n",
    "bins = array.array('d',numpy.logspace(math.log(0.1), math.log(20), num=50))\n",
    "histPt = [ROOT.TH1F(\"pT_nClsShared_in_\"+shared,\"pT_nClsShared_in_\"+shared,len(bins)-1,bins) for shared in [f\"[0,{i+10}]\" for i in range(0,60,10)]]\n",
    "#histPt = [ROOT.TH1F(\"pT_nClsShared_in_\"+shared,\"pT_nClsShared_in_\"+shared,100,0,100) for shared in [f\"[{i},{i+10}]\" for i in range(0,60,10)]]\n",
    "\n",
    "track_tree = AO2D_apass4.Get(\"DF_2268159461875840;1\").Get(\"O2track_iu;1\")\n",
    "nEntries = track_tree.GetEntries()\n",
    "for i in range(0,nEntries):\n",
    "    entry = track_tree.GetEntry(i)\n",
    "    # Define\n",
    "    nShared = nClsShared[i]\n",
    "    index = math.floor(nShared/10)\n",
    "    pT = 1/abs(track_tree.fSigned1Pt)\n",
    "    # Fill\n",
    "    for i in range(index,len(histPt)):\n",
    "        histPt[i].Fill(pT)\n",
    "\n",
    "# Drawing\n",
    "ROOT.gStyle.SetPalette(57)\n",
    "cols = ROOT.TColor.GetPalette()\n",
    "ROOT.gPad.SetLogy()\n",
    "canvas.SetGrayscale(False)\n",
    "ROOT.gPad.SetLogx()\n",
    "#ROOT.gPad.SetGrid()\n",
    "leg = ROOT.TLegend()\n",
    "leg.SetHeader(\"# Shared Clusters\")\n",
    "regions = [f\"[0,{i+10}]\" for i in range(0,60,10)]\n",
    "for i,hist in enumerate(histPt):\n",
    "    hist.SetXTitle(\"Pt [GeV]\")\n",
    "    hist.SetYTitle(\"Count (norm. by integral)\")\n",
    "    hist.Draw(\"SAME L E\")\n",
    "    hist.Scale(1/hist.Integral())\n",
    "    hist.SetLineWidth(2)\n",
    "    hist.SetTitle(\"pT with different shared cluster cuts\")\n",
    "    hist.SetLineColor(cols[round((i*len(cols))/len(histPt))])\n",
    "    hist.SetMarkerColor(cols[round((i*len(cols))/len(histPt))])\n",
    "    leg.AddEntry(hist,regions[i])\n",
    "leg.Draw()\n",
    "canvas.Draw()\n"
   ]
  },
  {
   "cell_type": "code",
   "execution_count": null,
   "id": "c4962c04-bb19-4168-ba3f-fa99a9b10229",
   "metadata": {},
   "outputs": [],
   "source": [
    "len(histPt)"
   ]
  }
 ],
 "metadata": {
  "kernelspec": {
   "display_name": "Python 3 (ipykernel)",
   "language": "python",
   "name": "python3"
  },
  "language_info": {
   "codemirror_mode": {
    "name": "ipython",
    "version": 3
   },
   "file_extension": ".py",
   "mimetype": "text/x-python",
   "name": "python",
   "nbconvert_exporter": "python",
   "pygments_lexer": "ipython3",
   "version": "3.9.16"
  },
  "toc": {
   "base_numbering": 1,
   "nav_menu": {},
   "number_sections": false,
   "sideBar": false,
   "skip_h1_title": true,
   "title_cell": "Table of Contents",
   "title_sidebar": "Contents",
   "toc_cell": true,
   "toc_position": {},
   "toc_section_display": true,
   "toc_window_display": false
  },
  "widgets": {
   "application/vnd.jupyter.widget-state+json": {
    "state": {
     "0406058ce7b34920a5002f002b388a11": {
      "model_module": "@jupyter-widgets/output",
      "model_module_version": "1.0.0",
      "model_name": "OutputModel",
      "state": {
       "layout": "IPY_MODEL_e5c089c3d1f54e06aa7c69d6be7b7d7a"
      }
     },
     "04f7abbb945649049c088602c240cddf": {
      "model_module": "@jupyter-widgets/controls",
      "model_module_version": "1.4.0",
      "model_name": "ButtonModel",
      "state": {
       "_model_module_version": "1.4.0",
       "_view_module_version": "1.4.0",
       "description": "Save to Root",
       "layout": "IPY_MODEL_a3a8439080a4433c8cfc3592bcac145a",
       "style": "IPY_MODEL_ca9438839a46429aaa3f24354ee42db5"
      }
     },
     "0879c08a037c40b59978c9acbf2b6698": {
      "model_module": "@jupyter-widgets/controls",
      "model_module_version": "1.4.0",
      "model_name": "ButtonStyleModel",
      "state": {
       "_model_module_version": "1.4.0",
       "_view_module_version": "1.1.0"
      }
     },
     "0e66ecb30df5491980f781135fa73613": {
      "model_module": "@jupyter-widgets/controls",
      "model_module_version": "1.4.0",
      "model_name": "ButtonStyleModel",
      "state": {
       "_model_module_version": "1.4.0",
       "_view_module_version": "1.1.0"
      }
     },
     "0ee941a35f4e48c0ae62d26a3e4022b9": {
      "model_module": "@jupyter-widgets/controls",
      "model_module_version": "1.4.0",
      "model_name": "ButtonModel",
      "state": {
       "_model_module_version": "1.4.0",
       "_view_module_version": "1.4.0",
       "description": "Save to Root",
       "layout": "IPY_MODEL_4e0b4767d50c45d4a3059b25b084f5ae",
       "style": "IPY_MODEL_6f24f617f4e8405baa6588f13c520940"
      }
     },
     "1088528976754aab8271549957380321": {
      "model_module": "@jupyter-widgets/controls",
      "model_module_version": "1.4.0",
      "model_name": "ButtonModel",
      "state": {
       "_model_module_version": "1.4.0",
       "_view_module_version": "1.4.0",
       "description": "Save to PDF",
       "layout": "IPY_MODEL_56dbdc8b10b144ecab1eb0b2dd996fbe",
       "style": "IPY_MODEL_0879c08a037c40b59978c9acbf2b6698"
      }
     },
     "10ee510d3cee4e4fbc3f48e8b75680c2": {
      "model_module": "@jupyter-widgets/base",
      "model_module_version": "1.1.0",
      "model_name": "LayoutModel",
      "state": {
       "_model_module_version": "1.1.0",
       "_view_module_version": "1.1.0",
       "border": null,
       "overflow_x": null,
       "overflow_y": null
      }
     },
     "20e680f74b7d40f395649181965c1d39": {
      "model_module": "@jupyter-widgets/controls",
      "model_module_version": "1.4.0",
      "model_name": "ButtonStyleModel",
      "state": {
       "_model_module_version": "1.4.0",
       "_view_module_version": "1.1.0"
      }
     },
     "26fda7ba48bf41428588a380515d67c5": {
      "model_module": "@jupyter-widgets/base",
      "model_module_version": "1.1.0",
      "model_name": "LayoutModel",
      "state": {
       "_model_module_version": "1.1.0",
       "_view_module_version": "1.1.0",
       "border": null,
       "overflow_x": null,
       "overflow_y": null
      }
     },
     "2926bb68cdaa4f858a67ce97bd19c469": {
      "model_module": "@jupyter-widgets/output",
      "model_module_version": "1.0.0",
      "model_name": "OutputModel",
      "state": {
       "layout": "IPY_MODEL_9eb16856a0e443978661ce094f708029"
      }
     },
     "2ae503cdb98942fd9cfe9369ff0968de": {
      "model_module": "@jupyter-widgets/base",
      "model_module_version": "1.1.0",
      "model_name": "LayoutModel",
      "state": {
       "_model_module_version": "1.1.0",
       "_view_module_version": "1.1.0",
       "border": null,
       "overflow_x": null,
       "overflow_y": null
      }
     },
     "36c7b3e4573e44f19456b149ff230bc6": {
      "model_module": "@jupyter-widgets/base",
      "model_module_version": "1.1.0",
      "model_name": "LayoutModel",
      "state": {
       "_model_module_version": "1.1.0",
       "_view_module_version": "1.1.0",
       "border": null,
       "overflow_x": null,
       "overflow_y": null
      }
     },
     "384fad664c4549dbbfc6371a56598c46": {
      "model_module": "@jupyter-widgets/controls",
      "model_module_version": "1.4.0",
      "model_name": "ButtonStyleModel",
      "state": {
       "_model_module_version": "1.4.0",
       "_view_module_version": "1.1.0"
      }
     },
     "395a63505c3c454cac74c6db62abe6ec": {
      "model_module": "@jupyter-widgets/base",
      "model_module_version": "1.1.0",
      "model_name": "LayoutModel",
      "state": {
       "_model_module_version": "1.1.0",
       "_view_module_version": "1.1.0",
       "border": null,
       "overflow_x": null,
       "overflow_y": null
      }
     },
     "3af37c07964a4ae7b4c80a9e18031e8c": {
      "model_module": "@jupyter-widgets/base",
      "model_module_version": "1.1.0",
      "model_name": "LayoutModel",
      "state": {
       "_model_module_version": "1.1.0",
       "_view_module_version": "1.1.0",
       "border": null,
       "overflow_x": null,
       "overflow_y": null
      }
     },
     "3dcab56d27034a0a9cd076681a0c3af3": {
      "model_module": "@jupyter-widgets/controls",
      "model_module_version": "1.4.0",
      "model_name": "ButtonStyleModel",
      "state": {
       "_model_module_version": "1.4.0",
       "_view_module_version": "1.1.0"
      }
     },
     "4e0b4767d50c45d4a3059b25b084f5ae": {
      "model_module": "@jupyter-widgets/base",
      "model_module_version": "1.1.0",
      "model_name": "LayoutModel",
      "state": {
       "_model_module_version": "1.1.0",
       "_view_module_version": "1.1.0",
       "border": null,
       "overflow_x": null,
       "overflow_y": null
      }
     },
     "50ad71ba430a4e65af089a66a036d98f": {
      "model_module": "@jupyter-widgets/output",
      "model_module_version": "1.0.0",
      "model_name": "OutputModel",
      "state": {
       "layout": "IPY_MODEL_7afbf7a09ee940d988779e898d39f6b1",
       "outputs": [
        {
         "ename": "NameError",
         "evalue": "name 'TFile' is not defined",
         "output_type": "error",
         "traceback": [
          "\u001b[0;31m---------------------------------------------------------------------------\u001b[0m",
          "\u001b[0;31mNameError\u001b[0m                                 Traceback (most recent call last)",
          "\u001b[0;32m<ipython-input-43-4b1715ce1e25>\u001b[0m in \u001b[0;36msaveButtonRoot\u001b[0;34m(b)\u001b[0m\n\u001b[1;32m      5\u001b[0m \u001b[0;32mdef\u001b[0m \u001b[0msaveButtonRoot\u001b[0m\u001b[0;34m(\u001b[0m\u001b[0mb\u001b[0m\u001b[0;34m)\u001b[0m\u001b[0;34m:\u001b[0m\u001b[0;34m\u001b[0m\u001b[0;34m\u001b[0m\u001b[0m\n\u001b[1;32m      6\u001b[0m     \u001b[0;32mwith\u001b[0m \u001b[0moutput\u001b[0m\u001b[0;34m:\u001b[0m\u001b[0;34m\u001b[0m\u001b[0;34m\u001b[0m\u001b[0m\n\u001b[0;32m----> 7\u001b[0;31m         \u001b[0;32mwith\u001b[0m \u001b[0mTFile\u001b[0m\u001b[0;34m(\u001b[0m\u001b[0;34m\"file1.root\"\u001b[0m\u001b[0;34m,\u001b[0m \u001b[0;34m\"recreate\"\u001b[0m\u001b[0;34m)\u001b[0m \u001b[0;32mas\u001b[0m \u001b[0moutfile\u001b[0m\u001b[0;34m:\u001b[0m\u001b[0;34m\u001b[0m\u001b[0;34m\u001b[0m\u001b[0m\n\u001b[0m\u001b[1;32m      8\u001b[0m             \u001b[0moutfile\u001b[0m\u001b[0;34m.\u001b[0m\u001b[0mWriteObject\u001b[0m\u001b[0;34m(\u001b[0m\u001b[0mcanvas\u001b[0m\u001b[0;34m,\u001b[0m \u001b[0;34m\"myCanvas\"\u001b[0m\u001b[0;34m)\u001b[0m\u001b[0;34m\u001b[0m\u001b[0;34m\u001b[0m\u001b[0m\n",
          "\u001b[0;31mNameError\u001b[0m: name 'TFile' is not defined"
         ]
        }
       ]
      }
     },
     "56dbdc8b10b144ecab1eb0b2dd996fbe": {
      "model_module": "@jupyter-widgets/base",
      "model_module_version": "1.1.0",
      "model_name": "LayoutModel",
      "state": {
       "_model_module_version": "1.1.0",
       "_view_module_version": "1.1.0",
       "border": null,
       "overflow_x": null,
       "overflow_y": null
      }
     },
     "60e33b896df246778339f4dff4be8f25": {
      "model_module": "@jupyter-widgets/controls",
      "model_module_version": "1.4.0",
      "model_name": "ButtonModel",
      "state": {
       "_model_module_version": "1.4.0",
       "_view_module_version": "1.4.0",
       "description": "Save to PDF",
       "layout": "IPY_MODEL_395a63505c3c454cac74c6db62abe6ec",
       "style": "IPY_MODEL_818a6a2006cd45a685b9b1bbc4db9c76"
      }
     },
     "62f5350b3b1440088cb5206a67058fde": {
      "model_module": "@jupyter-widgets/base",
      "model_module_version": "1.1.0",
      "model_name": "LayoutModel",
      "state": {
       "_model_module_version": "1.1.0",
       "_view_module_version": "1.1.0",
       "border": null,
       "overflow_x": null,
       "overflow_y": null
      }
     },
     "695713c99706467f875821a5ef7f992e": {
      "model_module": "@jupyter-widgets/controls",
      "model_module_version": "1.4.0",
      "model_name": "ButtonStyleModel",
      "state": {
       "_model_module_version": "1.4.0",
       "_view_module_version": "1.1.0"
      }
     },
     "6a80bacd37dd4454a07080adc1395665": {
      "model_module": "@jupyter-widgets/base",
      "model_module_version": "1.1.0",
      "model_name": "LayoutModel",
      "state": {
       "_model_module_version": "1.1.0",
       "_view_module_version": "1.1.0",
       "border": null,
       "overflow_x": null,
       "overflow_y": null
      }
     },
     "6b44fe66f54148a9995780522c1665ad": {
      "model_module": "@jupyter-widgets/controls",
      "model_module_version": "1.4.0",
      "model_name": "ButtonModel",
      "state": {
       "_model_module_version": "1.4.0",
       "_view_module_version": "1.4.0",
       "description": "Save to Root",
       "layout": "IPY_MODEL_36c7b3e4573e44f19456b149ff230bc6",
       "style": "IPY_MODEL_72aeead3a6904e9ea2c2a224224a8c63"
      }
     },
     "6f24f617f4e8405baa6588f13c520940": {
      "model_module": "@jupyter-widgets/controls",
      "model_module_version": "1.4.0",
      "model_name": "ButtonStyleModel",
      "state": {
       "_model_module_version": "1.4.0",
       "_view_module_version": "1.1.0"
      }
     },
     "72aeead3a6904e9ea2c2a224224a8c63": {
      "model_module": "@jupyter-widgets/controls",
      "model_module_version": "1.4.0",
      "model_name": "ButtonStyleModel",
      "state": {
       "_model_module_version": "1.4.0",
       "_view_module_version": "1.1.0"
      }
     },
     "7afbf7a09ee940d988779e898d39f6b1": {
      "model_module": "@jupyter-widgets/base",
      "model_module_version": "1.1.0",
      "model_name": "LayoutModel",
      "state": {
       "_model_module_version": "1.1.0",
       "_view_module_version": "1.1.0",
       "border": null,
       "overflow_x": null,
       "overflow_y": null
      }
     },
     "818a6a2006cd45a685b9b1bbc4db9c76": {
      "model_module": "@jupyter-widgets/controls",
      "model_module_version": "1.4.0",
      "model_name": "ButtonStyleModel",
      "state": {
       "_model_module_version": "1.4.0",
       "_view_module_version": "1.1.0"
      }
     },
     "823ef688583b43b3b7dc29e5d3422aa8": {
      "model_module": "@jupyter-widgets/output",
      "model_module_version": "1.0.0",
      "model_name": "OutputModel",
      "state": {
       "layout": "IPY_MODEL_8aa1aa0ffe69479fba520c5f0e95576b"
      }
     },
     "831b63241ada4949ae7ddc9cf3f6f3ad": {
      "model_module": "@jupyter-widgets/base",
      "model_module_version": "1.1.0",
      "model_name": "LayoutModel",
      "state": {
       "_model_module_version": "1.1.0",
       "_view_module_version": "1.1.0",
       "border": null,
       "overflow_x": null,
       "overflow_y": null
      }
     },
     "8417421b463a46c9872d37497c3b663d": {
      "model_module": "@jupyter-widgets/controls",
      "model_module_version": "1.4.0",
      "model_name": "ButtonModel",
      "state": {
       "_model_module_version": "1.4.0",
       "_view_module_version": "1.4.0",
       "description": "Save to Root",
       "layout": "IPY_MODEL_9a4fe9d3c94d4621bf792f335bbd40fe",
       "style": "IPY_MODEL_f771512ee9df4ba5bee6a026a4e83de5"
      }
     },
     "8aa1aa0ffe69479fba520c5f0e95576b": {
      "model_module": "@jupyter-widgets/base",
      "model_module_version": "1.1.0",
      "model_name": "LayoutModel",
      "state": {
       "_model_module_version": "1.1.0",
       "_view_module_version": "1.1.0",
       "border": null,
       "overflow_x": null,
       "overflow_y": null
      }
     },
     "8d62ef6a181e417c949955ba277e179d": {
      "model_module": "@jupyter-widgets/output",
      "model_module_version": "1.0.0",
      "model_name": "OutputModel",
      "state": {
       "layout": "IPY_MODEL_b9925dbb44cf40f0a3e0fa6aaff4d77f",
       "outputs": [
        {
         "ename": "AttributeError",
         "evalue": "__enter__",
         "output_type": "error",
         "traceback": [
          "\u001b[0;31m---------------------------------------------------------------------------\u001b[0m",
          "\u001b[0;31mAttributeError\u001b[0m                            Traceback (most recent call last)",
          "\u001b[0;32m<ipython-input-46-87e37fcb9b6d>\u001b[0m in \u001b[0;36msaveButtonRoot\u001b[0;34m(b)\u001b[0m\n\u001b[1;32m      5\u001b[0m \u001b[0;32mdef\u001b[0m \u001b[0msaveButtonRoot\u001b[0m\u001b[0;34m(\u001b[0m\u001b[0mb\u001b[0m\u001b[0;34m)\u001b[0m\u001b[0;34m:\u001b[0m\u001b[0;34m\u001b[0m\u001b[0;34m\u001b[0m\u001b[0m\n\u001b[1;32m      6\u001b[0m     \u001b[0;32mwith\u001b[0m \u001b[0moutput\u001b[0m\u001b[0;34m:\u001b[0m\u001b[0;34m\u001b[0m\u001b[0;34m\u001b[0m\u001b[0m\n\u001b[0;32m----> 7\u001b[0;31m         \u001b[0;32mwith\u001b[0m \u001b[0mROOT\u001b[0m\u001b[0;34m.\u001b[0m\u001b[0mTFile\u001b[0m\u001b[0;34m(\u001b[0m\u001b[0;34m\"file1.root\"\u001b[0m\u001b[0;34m,\u001b[0m \u001b[0;34m\"recreate\"\u001b[0m\u001b[0;34m)\u001b[0m \u001b[0;32mas\u001b[0m \u001b[0moutfile\u001b[0m\u001b[0;34m:\u001b[0m\u001b[0;34m\u001b[0m\u001b[0;34m\u001b[0m\u001b[0m\n\u001b[0m\u001b[1;32m      8\u001b[0m             \u001b[0moutfile\u001b[0m\u001b[0;34m.\u001b[0m\u001b[0mWriteObject\u001b[0m\u001b[0;34m(\u001b[0m\u001b[0mcanvas\u001b[0m\u001b[0;34m,\u001b[0m \u001b[0;34m\"myCanvas\"\u001b[0m\u001b[0;34m)\u001b[0m\u001b[0;34m\u001b[0m\u001b[0;34m\u001b[0m\u001b[0m\n",
          "\u001b[0;31mAttributeError\u001b[0m: __enter__"
         ]
        },
        {
         "ename": "AttributeError",
         "evalue": "__enter__",
         "output_type": "error",
         "traceback": [
          "\u001b[0;31m---------------------------------------------------------------------------\u001b[0m",
          "\u001b[0;31mAttributeError\u001b[0m                            Traceback (most recent call last)",
          "\u001b[0;32m<ipython-input-46-87e37fcb9b6d>\u001b[0m in \u001b[0;36msaveButtonRoot\u001b[0;34m(b)\u001b[0m\n\u001b[1;32m      5\u001b[0m \u001b[0;32mdef\u001b[0m \u001b[0msaveButtonRoot\u001b[0m\u001b[0;34m(\u001b[0m\u001b[0mb\u001b[0m\u001b[0;34m)\u001b[0m\u001b[0;34m:\u001b[0m\u001b[0;34m\u001b[0m\u001b[0;34m\u001b[0m\u001b[0m\n\u001b[1;32m      6\u001b[0m     \u001b[0;32mwith\u001b[0m \u001b[0moutput\u001b[0m\u001b[0;34m:\u001b[0m\u001b[0;34m\u001b[0m\u001b[0;34m\u001b[0m\u001b[0m\n\u001b[0;32m----> 7\u001b[0;31m         \u001b[0;32mwith\u001b[0m \u001b[0mROOT\u001b[0m\u001b[0;34m.\u001b[0m\u001b[0mTFile\u001b[0m\u001b[0;34m(\u001b[0m\u001b[0;34m\"file1.root\"\u001b[0m\u001b[0;34m,\u001b[0m \u001b[0;34m\"recreate\"\u001b[0m\u001b[0;34m)\u001b[0m \u001b[0;32mas\u001b[0m \u001b[0moutfile\u001b[0m\u001b[0;34m:\u001b[0m\u001b[0;34m\u001b[0m\u001b[0;34m\u001b[0m\u001b[0m\n\u001b[0m\u001b[1;32m      8\u001b[0m             \u001b[0moutfile\u001b[0m\u001b[0;34m.\u001b[0m\u001b[0mWriteObject\u001b[0m\u001b[0;34m(\u001b[0m\u001b[0mcanvas\u001b[0m\u001b[0;34m,\u001b[0m \u001b[0;34m\"myCanvas\"\u001b[0m\u001b[0;34m)\u001b[0m\u001b[0;34m\u001b[0m\u001b[0;34m\u001b[0m\u001b[0m\n",
          "\u001b[0;31mAttributeError\u001b[0m: __enter__"
         ]
        }
       ]
      }
     },
     "9242204266e343ae8a441c776e80f4f0": {
      "model_module": "@jupyter-widgets/controls",
      "model_module_version": "1.4.0",
      "model_name": "ButtonStyleModel",
      "state": {
       "_model_module_version": "1.4.0",
       "_view_module_version": "1.1.0"
      }
     },
     "929e5779ad394a799083037ff870d526": {
      "model_module": "@jupyter-widgets/controls",
      "model_module_version": "1.4.0",
      "model_name": "ButtonStyleModel",
      "state": {
       "_model_module_version": "1.4.0",
       "_view_module_version": "1.1.0"
      }
     },
     "93749ab864be49de92dbce533bdae34f": {
      "model_module": "@jupyter-widgets/base",
      "model_module_version": "1.1.0",
      "model_name": "LayoutModel",
      "state": {
       "_model_module_version": "1.1.0",
       "_view_module_version": "1.1.0",
       "border": null,
       "overflow_x": null,
       "overflow_y": null
      }
     },
     "938ac682ac6545cfb80a6da1bc8c26c1": {
      "model_module": "@jupyter-widgets/output",
      "model_module_version": "1.0.0",
      "model_name": "OutputModel",
      "state": {
       "layout": "IPY_MODEL_ce589ac0e83d4bd38fd711550e349c6a"
      }
     },
     "9a4fe9d3c94d4621bf792f335bbd40fe": {
      "model_module": "@jupyter-widgets/base",
      "model_module_version": "1.1.0",
      "model_name": "LayoutModel",
      "state": {
       "_model_module_version": "1.1.0",
       "_view_module_version": "1.1.0",
       "border": null,
       "overflow_x": null,
       "overflow_y": null
      }
     },
     "9e2719717feb49c9938e46061e59b4a1": {
      "model_module": "@jupyter-widgets/output",
      "model_module_version": "1.0.0",
      "model_name": "OutputModel",
      "state": {
       "layout": "IPY_MODEL_10ee510d3cee4e4fbc3f48e8b75680c2"
      }
     },
     "9eb16856a0e443978661ce094f708029": {
      "model_module": "@jupyter-widgets/base",
      "model_module_version": "1.1.0",
      "model_name": "LayoutModel",
      "state": {
       "_model_module_version": "1.1.0",
       "_view_module_version": "1.1.0",
       "border": null,
       "overflow_x": null,
       "overflow_y": null
      }
     },
     "9fdc5097fef143f580581ed9f63baf19": {
      "model_module": "@jupyter-widgets/controls",
      "model_module_version": "1.4.0",
      "model_name": "ButtonModel",
      "state": {
       "_model_module_version": "1.4.0",
       "_view_module_version": "1.4.0",
       "description": "Save to PDF",
       "layout": "IPY_MODEL_6a80bacd37dd4454a07080adc1395665",
       "style": "IPY_MODEL_9242204266e343ae8a441c776e80f4f0"
      }
     },
     "a0caf4fc7e3e4a0daf064e63c0e3234a": {
      "model_module": "@jupyter-widgets/output",
      "model_module_version": "1.0.0",
      "model_name": "OutputModel",
      "state": {
       "layout": "IPY_MODEL_93749ab864be49de92dbce533bdae34f"
      }
     },
     "a2eef3a45bed4115932b9e88827850e1": {
      "model_module": "@jupyter-widgets/controls",
      "model_module_version": "1.4.0",
      "model_name": "ButtonModel",
      "state": {
       "_model_module_version": "1.4.0",
       "_view_module_version": "1.4.0",
       "description": "Save to PDF",
       "layout": "IPY_MODEL_831b63241ada4949ae7ddc9cf3f6f3ad",
       "style": "IPY_MODEL_20e680f74b7d40f395649181965c1d39"
      }
     },
     "a39b71b5f18a4a3089aae76958a3cc55": {
      "model_module": "@jupyter-widgets/base",
      "model_module_version": "1.1.0",
      "model_name": "LayoutModel",
      "state": {
       "_model_module_version": "1.1.0",
       "_view_module_version": "1.1.0",
       "border": null,
       "overflow_x": null,
       "overflow_y": null
      }
     },
     "a3a8439080a4433c8cfc3592bcac145a": {
      "model_module": "@jupyter-widgets/base",
      "model_module_version": "1.1.0",
      "model_name": "LayoutModel",
      "state": {
       "_model_module_version": "1.1.0",
       "_view_module_version": "1.1.0",
       "border": null,
       "overflow_x": null,
       "overflow_y": null
      }
     },
     "a8c867acf084415fba648604326f8c9d": {
      "model_module": "@jupyter-widgets/controls",
      "model_module_version": "1.4.0",
      "model_name": "ButtonStyleModel",
      "state": {
       "_model_module_version": "1.4.0",
       "_view_module_version": "1.1.0"
      }
     },
     "b635d6f1a72043699079245523aadc13": {
      "model_module": "@jupyter-widgets/base",
      "model_module_version": "1.1.0",
      "model_name": "LayoutModel",
      "state": {
       "_model_module_version": "1.1.0",
       "_view_module_version": "1.1.0",
       "border": null,
       "overflow_x": null,
       "overflow_y": null
      }
     },
     "b97779ed35cd4f1f8b3d360fd1d1cc0e": {
      "model_module": "@jupyter-widgets/controls",
      "model_module_version": "1.4.0",
      "model_name": "ButtonModel",
      "state": {
       "_model_module_version": "1.4.0",
       "_view_module_version": "1.4.0",
       "description": "Save to PDF",
       "layout": "IPY_MODEL_b635d6f1a72043699079245523aadc13",
       "style": "IPY_MODEL_0e66ecb30df5491980f781135fa73613"
      }
     },
     "b9925dbb44cf40f0a3e0fa6aaff4d77f": {
      "model_module": "@jupyter-widgets/base",
      "model_module_version": "1.1.0",
      "model_name": "LayoutModel",
      "state": {
       "_model_module_version": "1.1.0",
       "_view_module_version": "1.1.0",
       "border": null,
       "overflow_x": null,
       "overflow_y": null
      }
     },
     "c38d6de6905f44c4b32b9c73fb8276ba": {
      "model_module": "@jupyter-widgets/controls",
      "model_module_version": "1.4.0",
      "model_name": "ButtonModel",
      "state": {
       "_model_module_version": "1.4.0",
       "_view_module_version": "1.4.0",
       "description": "Save to PDF",
       "layout": "IPY_MODEL_fa9655bf72304c2bb97bf8c45500503b",
       "style": "IPY_MODEL_929e5779ad394a799083037ff870d526"
      }
     },
     "c52a903ddba4487e93fc08785f78bdbe": {
      "model_module": "@jupyter-widgets/controls",
      "model_module_version": "1.4.0",
      "model_name": "ButtonModel",
      "state": {
       "_model_module_version": "1.4.0",
       "_view_module_version": "1.4.0",
       "description": "Save to PDF",
       "layout": "IPY_MODEL_26fda7ba48bf41428588a380515d67c5",
       "style": "IPY_MODEL_695713c99706467f875821a5ef7f992e"
      }
     },
     "ca9438839a46429aaa3f24354ee42db5": {
      "model_module": "@jupyter-widgets/controls",
      "model_module_version": "1.4.0",
      "model_name": "ButtonStyleModel",
      "state": {
       "_model_module_version": "1.4.0",
       "_view_module_version": "1.1.0"
      }
     },
     "cce918eab1414c88ad12d08f31aaac47": {
      "model_module": "@jupyter-widgets/controls",
      "model_module_version": "1.4.0",
      "model_name": "ButtonModel",
      "state": {
       "_model_module_version": "1.4.0",
       "_view_module_version": "1.4.0",
       "description": "Save to PDF",
       "layout": "IPY_MODEL_f2a3cad8e9254cc9af9a6ed86874d83d",
       "style": "IPY_MODEL_a8c867acf084415fba648604326f8c9d"
      }
     },
     "ce589ac0e83d4bd38fd711550e349c6a": {
      "model_module": "@jupyter-widgets/base",
      "model_module_version": "1.1.0",
      "model_name": "LayoutModel",
      "state": {
       "_model_module_version": "1.1.0",
       "_view_module_version": "1.1.0",
       "border": null,
       "overflow_x": null,
       "overflow_y": null
      }
     },
     "d3e65f21f57643d188d5b1e4b7c7775c": {
      "model_module": "@jupyter-widgets/controls",
      "model_module_version": "1.4.0",
      "model_name": "ButtonModel",
      "state": {
       "_model_module_version": "1.4.0",
       "_view_module_version": "1.4.0",
       "description": "Save to PDF",
       "layout": "IPY_MODEL_a39b71b5f18a4a3089aae76958a3cc55",
       "style": "IPY_MODEL_384fad664c4549dbbfc6371a56598c46"
      }
     },
     "d4b09a17060d4dc19cad65f89af8b8b1": {
      "model_module": "@jupyter-widgets/controls",
      "model_module_version": "1.4.0",
      "model_name": "ButtonModel",
      "state": {
       "_model_module_version": "1.4.0",
       "_view_module_version": "1.4.0",
       "description": "Save to PDF",
       "layout": "IPY_MODEL_62f5350b3b1440088cb5206a67058fde",
       "style": "IPY_MODEL_3dcab56d27034a0a9cd076681a0c3af3"
      }
     },
     "e5c089c3d1f54e06aa7c69d6be7b7d7a": {
      "model_module": "@jupyter-widgets/base",
      "model_module_version": "1.1.0",
      "model_name": "LayoutModel",
      "state": {
       "_model_module_version": "1.1.0",
       "_view_module_version": "1.1.0",
       "border": null,
       "overflow_x": null,
       "overflow_y": null
      }
     },
     "e6380f2797b54ba8b9859882ee113294": {
      "model_module": "@jupyter-widgets/output",
      "model_module_version": "1.0.0",
      "model_name": "OutputModel",
      "state": {
       "layout": "IPY_MODEL_3af37c07964a4ae7b4c80a9e18031e8c"
      }
     },
     "f2a3cad8e9254cc9af9a6ed86874d83d": {
      "model_module": "@jupyter-widgets/base",
      "model_module_version": "1.1.0",
      "model_name": "LayoutModel",
      "state": {
       "_model_module_version": "1.1.0",
       "_view_module_version": "1.1.0",
       "border": null,
       "overflow_x": null,
       "overflow_y": null
      }
     },
     "f771512ee9df4ba5bee6a026a4e83de5": {
      "model_module": "@jupyter-widgets/controls",
      "model_module_version": "1.4.0",
      "model_name": "ButtonStyleModel",
      "state": {
       "_model_module_version": "1.4.0",
       "_view_module_version": "1.1.0"
      }
     },
     "f7b6aafe840345ad9c68def299dd0a29": {
      "model_module": "@jupyter-widgets/output",
      "model_module_version": "1.0.0",
      "model_name": "OutputModel",
      "state": {
       "layout": "IPY_MODEL_2ae503cdb98942fd9cfe9369ff0968de"
      }
     },
     "fa9655bf72304c2bb97bf8c45500503b": {
      "model_module": "@jupyter-widgets/base",
      "model_module_version": "1.1.0",
      "model_name": "LayoutModel",
      "state": {
       "_model_module_version": "1.1.0",
       "_view_module_version": "1.1.0",
       "border": null,
       "overflow_x": null,
       "overflow_y": null
      }
     }
    },
    "version_major": 2,
    "version_minor": 0
   }
  }
 },
 "nbformat": 4,
 "nbformat_minor": 5
}
