{
 "cells": [
  {
   "cell_type": "code",
   "execution_count": null,
   "id": "c882f5ea",
   "metadata": {
    "slideshow": {
     "slide_type": "skip"
    }
   },
   "outputs": [],
   "source": [
    "import ROOT\n",
    "import glob\n",
    "import math\n",
    "import numpy as np\n",
    "from IPython.display import display, Markdown\n",
    "from IPython.display import display, HTML\n",
    "from TPCQCVis.src.drawHistograms import *\n",
    "from TPCQCVis.src.drawTrending import *\n",
    "from TPCQCVis.src.checkHistograms import *"
   ]
  },
  {
   "cell_type": "code",
   "execution_count": null,
   "id": "c3c71331",
   "metadata": {},
   "outputs": [],
   "source": [
    "display(HTML(\"<style>.container { width:90% !important; }</style>\"))\n",
    "display(HTML(\"<style>table {float:left;}</style>\"))"
   ]
  },
  {
   "cell_type": "code",
   "execution_count": null,
   "id": "c700100d",
   "metadata": {
    "slideshow": {
     "slide_type": "skip"
    }
   },
   "outputs": [],
   "source": [
    "# Read the Root Files\n",
    "path = \"/home/berki/alice/data/2022/LHC22o/\"\n",
    "fileList = glob.glob(path+\"*_QC.root\")\n",
    "fileList.sort()\n",
    "#fileList = fileList[13:]\n",
    "runList = [fileList[i][35:-8] for i in range(len(fileList))]\n",
    "rootDataFile=[]\n",
    "for file in fileList:\n",
    "    rootDataFile.append(ROOT.TFile.Open(file,\"READ\"))\n",
    "#rootDataFile[0].ls()\n",
    "#rootDataFile[0].ClusterQC.ls()\n",
    "#rootDataFile[0].PIDQC.ls()\n",
    "#rootDataFile[0].TracksQC.ls()"
   ]
  },
  {
   "cell_type": "markdown",
   "id": "150def86",
   "metadata": {
    "slideshow": {
     "slide_type": "slide"
    }
   },
   "source": [
    "# Reporting on TPC QC for LHC22o\n",
    "> Link to JIRA: https://alice.its.cern.ch/jira/browse/O2-3251 <br />\n",
    "> B = +0.5 T <br />\n",
    "> beam = pp <br />\n",
    "> energy (sqrt) = 13.6 <br />"
   ]
  },
  {
   "cell_type": "markdown",
   "id": "1600deb9",
   "metadata": {},
   "source": [
    "---\n",
    "### Number of tracks per run"
   ]
  },
  {
   "cell_type": "code",
   "execution_count": null,
   "id": "58c37c31",
   "metadata": {},
   "outputs": [],
   "source": [
    "%jsroot on\n",
    "objectName=\"hPt;1\"\n",
    "[trend,canvas] = drawTrending(objectName,rootDataFile,names=runList,trend=\"entries\",error=\"\",log=\"logy\",namesFromRunList=True)\n",
    "canvas.Draw()"
   ]
  },
  {
   "cell_type": "markdown",
   "id": "4f3a7274",
   "metadata": {},
   "source": [
    "---\n",
    "### pT distribution"
   ]
  },
  {
   "cell_type": "code",
   "execution_count": null,
   "id": "d5a9ba80",
   "metadata": {},
   "outputs": [],
   "source": [
    "%jsroot on\n",
    "objectName=\"hPt;1\"\n",
    "[trend,canvas] = drawTrending(objectName,rootDataFile,names=runList,trend=\"mean\",error=\"\",log=\"logy\",namesFromRunList=True)\n",
    "canvas.Draw()"
   ]
  },
  {
   "cell_type": "code",
   "execution_count": null,
   "id": "b608a32f",
   "metadata": {},
   "outputs": [],
   "source": [
    "objectName=\"hPt\"\n",
    "[hist,legend,canvas,pad1] = drawHistograms(objectName,rootDataFile,normalize=True,legend=True,log=\"logy\",legendNames=runList,pads=False)\n",
    "canvas.Draw()"
   ]
  },
  {
   "cell_type": "markdown",
   "id": "d67d892d",
   "metadata": {},
   "source": [
    "---\n",
    "### Phi distribution"
   ]
  },
  {
   "cell_type": "code",
   "execution_count": null,
   "id": "9b1f6dbe",
   "metadata": {},
   "outputs": [],
   "source": [
    "%jsroot on\n",
    "objectName=\"hPhiAside;1\"\n",
    "[trend,canvas] = drawTrending(objectName,rootDataFile,names=runList,trend=\"mean\",error=\"meanError\",log=\"logy\",namesFromRunList=True)\n",
    "canvas.Draw()"
   ]
  },
  {
   "cell_type": "code",
   "execution_count": null,
   "id": "55238d0f",
   "metadata": {},
   "outputs": [],
   "source": [
    "objectName=\"hPhiAside\"\n",
    "[hist,legend,canvas,pad1] = drawHistograms(objectName,rootDataFile,normalize=True,legend=True,legendNames=runList,pads=False,yAxisRange = [0E-3,4E-3], drawOption=\"SAME L\")\n",
    "#Sector boundatries\n",
    "pad1.cd()\n",
    "sectorBoundary = ROOT.TLine(0,hist.GetMinimum(),0,hist.GetMaximum())\n",
    "sectorBoundary.SetLineStyle(2)\n",
    "sectorNum = ROOT.TText(.5,.5,\"test\")\n",
    "sectorNum.SetTextAlign(22)\n",
    "sectorNum.SetTextColor(ROOT.kGray+1)\n",
    "sectorNum.SetTextFont(0)\n",
    "for j in range(19):\n",
    "    sectorBoundary.DrawLine((j*2*math.pi)/18,hist.GetMinimum(),(j*2*math.pi)/18,hist.GetMaximum())\n",
    "    if j < 18 : sectorNum.DrawText(((j+0.5)*2*math.pi)/18,hist.GetMaximum(),str(j))\n",
    "        \n",
    "canvas.Draw()"
   ]
  },
  {
   "cell_type": "code",
   "execution_count": null,
   "id": "393f8ed8",
   "metadata": {},
   "outputs": [],
   "source": [
    "%jsroot on\n",
    "objectName=\"hPhiCside;1\"\n",
    "[trend,canvas] = drawTrending(objectName,rootDataFile,names=runList,trend=\"mean\",error=\"meanError\",log=\"logy\",namesFromRunList=True)\n",
    "canvas.Draw()"
   ]
  },
  {
   "cell_type": "code",
   "execution_count": null,
   "id": "2151fa8a",
   "metadata": {},
   "outputs": [],
   "source": [
    "objectName=\"hPhiCside\"\n",
    "[hist,legend,canvas,pad1] = drawHistograms(objectName,rootDataFile,normalize=True,legend=True,legendNames=runList,pads=False,yAxisRange = [0E-3,4E-3], drawOption=\"SAME L\")\n",
    "#Sector boundatries\n",
    "pad1.cd()\n",
    "sectorBoundary = ROOT.TLine(0,hist.GetMinimum(),0,hist.GetMaximum())\n",
    "sectorBoundary.SetLineStyle(2)\n",
    "sectorNum = ROOT.TText(.5,.5,\"test\")\n",
    "sectorNum.SetTextAlign(22)\n",
    "sectorNum.SetTextColor(ROOT.kGray+1)\n",
    "sectorNum.SetTextFont(0)\n",
    "for j in range(19):\n",
    "    sectorBoundary.DrawLine((j*2*math.pi)/18,hist.GetMinimum(),(j*2*math.pi)/18,hist.GetMaximum())\n",
    "    if j < 18 : sectorNum.DrawText(((j+0.5)*2*math.pi)/18,hist.GetMaximum(),str(j))\n",
    "        \n",
    "canvas.Draw()"
   ]
  },
  {
   "cell_type": "markdown",
   "id": "8f1dfa37",
   "metadata": {},
   "source": [
    "---\n",
    "### Eta distributions"
   ]
  },
  {
   "cell_type": "code",
   "execution_count": null,
   "id": "b8dd6f8a",
   "metadata": {},
   "outputs": [],
   "source": [
    "%jsroot on\n",
    "objectName=\"hEta;1\"\n",
    "[trend,canvas] = drawTrending(objectName,rootDataFile,names=runList,trend=\"mean\",error=\"\",log=\"logy\",namesFromRunList=True)\n",
    "canvas.Draw()"
   ]
  },
  {
   "cell_type": "code",
   "execution_count": null,
   "id": "4ef66b19",
   "metadata": {},
   "outputs": [],
   "source": [
    "objectName=\"hEta\"\n",
    "[hist,legend,canvas,pad1] = drawHistograms(objectName,rootDataFile,normalize=True,legend=True,legendNames=runList,xAxisRange= [-1.1,1.1],yAxisRange = [0,9E-3],pads=False)\n",
    "canvas.Draw()"
   ]
  },
  {
   "cell_type": "markdown",
   "id": "f655b83b",
   "metadata": {},
   "source": [
    "---\n",
    "### Number of cluster per track"
   ]
  },
  {
   "cell_type": "code",
   "execution_count": null,
   "id": "0c2dc434",
   "metadata": {},
   "outputs": [],
   "source": [
    "%jsroot on\n",
    "objectName=\"hNClustersAfterCuts;1\"\n",
    "[trend,canvas] = drawTrending(objectName,rootDataFile,names=runList,trend=\"mean\",error=\"\",log=\"logy\",namesFromRunList=True)\n",
    "canvas.Draw()"
   ]
  },
  {
   "cell_type": "code",
   "execution_count": null,
   "id": "f5248d15",
   "metadata": {},
   "outputs": [],
   "source": [
    "objectName=\"hNClustersAfterCuts\"\n",
    "[hist,legend,canvas,pad1] = drawHistograms(objectName,rootDataFile,normalize=True,legend=True,legendNames=runList,xAxisRange= [50,170],yAxisRange = [0,26E-3],pads=False)\n",
    "canvas.Draw()"
   ]
  },
  {
   "cell_type": "markdown",
   "id": "203ed6cb",
   "metadata": {},
   "source": [
    "---\n",
    "### Sign of tracks"
   ]
  },
  {
   "cell_type": "code",
   "execution_count": null,
   "id": "11b19fee",
   "metadata": {},
   "outputs": [],
   "source": [
    "%jsroot on\n",
    "objectName=\"hSign;1\"\n",
    "[trend,canvas] = drawTrending(objectName,rootDataFile,names=runList,trend=\"mean\",error=\"\",log=\"logy\",namesFromRunList=True)\n",
    "canvas.Draw()"
   ]
  },
  {
   "cell_type": "code",
   "execution_count": null,
   "id": "c9a9f925",
   "metadata": {},
   "outputs": [],
   "source": [
    "objectName=\"hSign\"\n",
    "[hist,legend,canvas,pad1] = drawHistograms(objectName,rootDataFile,normalize=True,legend=True,legendNames=runList,pads=False)\n",
    "canvas.Draw()"
   ]
  },
  {
   "cell_type": "markdown",
   "id": "f3e10df8",
   "metadata": {},
   "source": [
    "---\n",
    "### MIP dEdx position"
   ]
  },
  {
   "cell_type": "code",
   "execution_count": null,
   "id": "c1cb932f",
   "metadata": {},
   "outputs": [],
   "source": [
    "%jsroot on\n",
    "objectName=\"hdEdxTotMIP_TPC;1\"\n",
    "[trend,canvas] = drawTrending(objectName,rootDataFile,names=runList,trend=\"fit(gaus,Sq,,40,60)\",error=\"\",log=\"logy\",namesFromRunList=True)\n",
    "canvas.Draw()"
   ]
  },
  {
   "cell_type": "code",
   "execution_count": null,
   "id": "71c0dcee",
   "metadata": {},
   "outputs": [],
   "source": [
    "objectName=\"hdEdxTotMIP_TPC\"\n",
    "quality = checkHistograms(objectName,rootDataFile,check=\"(histogram.Fit(\\\"gaus\\\",\\\"Sq\\\",\\\"\\\",40,60)) and 48<histogram.GetFunction(\\\"gaus\\\").GetParameter(1)<52\",printQuality=True)\n",
    "[hist,legend,canvas,pad1] = drawHistograms(objectName,rootDataFile,legendNames=runList,check=quality,normalize=False,log=\"logx\",legend=False,pads=True)\n",
    "canvas.Draw()"
   ]
  },
  {
   "cell_type": "code",
   "execution_count": null,
   "id": "a74245c5",
   "metadata": {},
   "outputs": [],
   "source": []
  }
 ],
 "metadata": {
  "celltoolbar": "Slideshow",
  "kernelspec": {
   "display_name": "Python 3 (ipykernel)",
   "language": "python",
   "name": "python3"
  },
  "language_info": {
   "codemirror_mode": {
    "name": "ipython",
    "version": 3
   },
   "file_extension": ".py",
   "mimetype": "text/x-python",
   "name": "python",
   "nbconvert_exporter": "python",
   "pygments_lexer": "ipython3",
   "version": "3.9.12"
  },
  "rise": {
   "scroll": true
  }
 },
 "nbformat": 4,
 "nbformat_minor": 5
}
