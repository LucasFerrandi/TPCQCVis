{
 "cells": [
  {
   "cell_type": "code",
   "execution_count": null,
   "id": "524d7a5b",
   "metadata": {},
   "outputs": [],
   "source": [
    "%%capture\n",
    "import ROOT\n",
    "import glob\n",
    "import math\n",
    "import sys\n",
    "import numpy as np\n",
    "import pandas as pd\n",
    "from IPython.display import display, Markdown, HTML\n",
    "import ipywidgets as widgets\n",
    "from TPCQCVis.src.drawHistograms import *\n",
    "from TPCQCVis.src.drawTrending import *\n",
    "from TPCQCVis.src.drawMultiTrending import *\n",
    "from TPCQCVis.src.checkHistograms import *\n",
    "from TPCQCVis.src.checkTrending import *\n",
    "from TPCQCVis.src.utility import *\n",
    "from TPCQCVis.src.drawBetheBloch import * \n",
    "import warnings\n",
    "from copy import copy\n",
    "warnings.filterwarnings('ignore')"
   ]
  },
  {
   "cell_type": "code",
   "execution_count": null,
   "id": "0a2f52d5",
   "metadata": {},
   "outputs": [],
   "source": [
    "%jsroot on\n",
    "display(HTML(\"<style>.container { width:95% !important; align-items: center;}</style>\"))\n",
    "display(HTML(\"<style>table {float:left;}</style>\"))\n",
    "ROOT.gErrorIgnoreLevel = ROOT.kFatal\n",
    "#display(HTML('<style>{}</style>'.format(CSS)))\n",
    "#ROOT.gStyle.SetPalette(57)"
   ]
  },
  {
   "cell_type": "code",
   "execution_count": null,
   "id": "1157cece",
   "metadata": {},
   "outputs": [],
   "source": [
    "periodName = \"LHC23zzh\"\n",
    "passName = \"apass3\"\n",
    "runNumber = \"544116\"\n",
    "path = \"/cave/alice-tpc-qc/data/2023/\"\n",
    "\n",
    "# Read QC root file\n",
    "rootDataFile=[]\n",
    "rootDataFile.append(ROOT.TFile.Open(path+\"/\"+periodName+\"/\"+passName+\"/\"+str(runNumber)+\"_QC.root\",\"READ\"))"
   ]
  },
  {
   "cell_type": "markdown",
   "id": "7baa84b8",
   "metadata": {},
   "source": [
    "# dEdx vs p"
   ]
  },
  {
   "cell_type": "code",
   "execution_count": null,
   "id": "293f5253",
   "metadata": {},
   "outputs": [],
   "source": [
    "betheBlochParams = [0.21226799488067627,4.191800117492676,0.010126300156116486,2.278209924697876,0.9807400107383728]\n",
    "bBLines = getBetheBlochLines(betheBlochParams)\n",
    "objects = [\"hdEdxTotVsP_TPC\"]\n",
    "\n",
    "hists = []\n",
    "for i,objectName in enumerate(objects):\n",
    "    [hist,legend,canvas,pad1] = drawHistograms(objectName,rootDataFile,drawOption=\"COLZ\",log=\"logxyz\",yAxisRange=[10,6000])\n",
    "    hists.append(copy(hist[0]))\n",
    "c = ROOT.TCanvas(\"TPC_dEdx_vs_p\",\"TPC_dEdx_vs_p\",800,700)\n",
    "#c.Divide(2)\n",
    "# TPC\n",
    "c.cd()\n",
    "hists[0].Rebin(1)\n",
    "hists[0].Draw(\"COLZ\")\n",
    "hists[0].SetStats(0)\n",
    "drawBetheBloch([bBLines],c)\n",
    "legend = ROOT.TLegend(0.55,0.65,0.87,0.85)\n",
    "legend.AddEntry(bBLines[0],\"ALEPH Bethe-Bloch fit\")\n",
    "legend.SetHeader(\"#splitline{#bf{LHC23zzh apass3 544116}}{nClusters > 60, |tan(#lambda)| < 1}\",\"C\")\n",
    "legend.Draw()\n",
    "\n",
    "ROOT.gPad.SetLogx(1)\n",
    "ROOT.gPad.SetLogy(1)\n",
    "ROOT.gPad.SetLogz(1)\n",
    "\n",
    "c.Draw()"
   ]
  },
  {
   "cell_type": "code",
   "execution_count": null,
   "id": "accb0a41",
   "metadata": {},
   "outputs": [],
   "source": [
    "c.Draw()"
   ]
  },
  {
   "cell_type": "code",
   "execution_count": null,
   "id": "742cb64d",
   "metadata": {},
   "outputs": [],
   "source": [
    "c.SaveAs(\"TPC_dEdx_vs_p.pdf\");"
   ]
  },
  {
   "cell_type": "markdown",
   "id": "772dcf76",
   "metadata": {},
   "source": [
    "# DCAR Phi"
   ]
  },
  {
   "cell_type": "code",
   "execution_count": null,
   "id": "aa57f664",
   "metadata": {},
   "outputs": [],
   "source": [
    "%jsroot on\n",
    "myFitMeans = []\n",
    "myFitRMSs = []\n",
    "myPads = []\n",
    "myHists = []\n",
    "for objectName in [\"hDCAr_A_Pos_pTmin\",\"hDCAr_C_Pos_pTmin\",\"hDCAr_A_Neg_pTmin\",\"hDCAr_C_Neg_pTmin\"]:\n",
    "    if checkIfExists(rootDataFile,objectName):\n",
    "        [hist,legend,canvas,pad1] = drawHistograms(objectName,rootDataFile,drawOption=\"COLZ\",yAxisRange = [-5,5],size=[1200,400])\n",
    "        #[fits,legend2,canvas2] = sliceAndFit(objectName,rootDataFile)\n",
    "        pad1.cd()\n",
    "        canvas.SetCanvasSize(1000,400)\n",
    "        leg = ROOT.TLegend()\n",
    "        hist[0].FitSlicesY()\n",
    "        fitMean = copy(ROOT.gDirectory.Get(hist[0].GetName()+\"_1\"))\n",
    "        fitRMS = copy(ROOT.gDirectory.Get(hist[0].GetName()+\"_2\"))\n",
    "        fitMean.SetMarkerStyle(21)\n",
    "        fitMean.SetMarkerSize(0.4)\n",
    "        fitMean.SetMarkerColor(1)\n",
    "        fitMean.Draw(\"SAME\")\n",
    "        fitRMS.SetMarkerStyle(25)\n",
    "        fitRMS.SetMarkerSize(0.4)\n",
    "        fitRMS.SetMarkerColor(2)\n",
    "        fitRMS.Draw(\"SAME\")\n",
    "        leg.AddEntry(fitMean,\"Mean\")\n",
    "        leg.AddEntry(fitRMS,\"RMS\")\n",
    "        leg.Draw()\n",
    "        myHists.append(copy(hist[0]))\n",
    "        myFitMeans.append(copy(fitMean))\n",
    "        myFitRMSs.append(copy(fitRMS))\n",
    "        myPads.append(copy(pad1))"
   ]
  },
  {
   "cell_type": "code",
   "execution_count": null,
   "id": "f0fe6253",
   "metadata": {},
   "outputs": [],
   "source": [
    "bigC = ROOT.TCanvas(\"TPC_DCAR_vs_phi\",\"TPC_DCAR_vs_phi\",1200,600)\n",
    "bigC.Divide(2,2,0.01,0.02)\n",
    "legends = []\n",
    "titles = [\"#bf{A-Side Positive Tracks}\",\n",
    "          \"#bf{C-Side Positive Tracks}\",\n",
    "          \"#bf{A-Side Negative Tracks}\",\n",
    "          \"#bf{C-Side Negative Tracks}\",]\n",
    "for i in range(len(myHists)): \n",
    "    pad = bigC.cd(i+1)\n",
    "    if i == 0 :   pad.SetMargin(0.15, 0.0, 0.0, 0.15)\n",
    "    elif i == 1 : pad.SetMargin(0.0, 0.15, 0.0, 0.15)\n",
    "    elif i == 2 : pad.SetMargin(0.15, 0.0, 0.15, 0.0)\n",
    "    elif i == 3 : pad.SetMargin(0.0, 0.15, 0.15, 0.0)\n",
    "    \n",
    "    myHists[i].Draw(\"COL\")\n",
    "    myFitMeans[i].Draw(\"SAME\")\n",
    "    myFitRMSs[i].Draw(\"SAME\")\n",
    "    \n",
    "    legend = ROOT.TLegend(0.7-pad.GetRightMargin(),0.70-pad.GetTopMargin(),0.97-pad.GetRightMargin(),0.95-pad.GetTopMargin())\n",
    "    legend.SetHeader(titles[i],\"C\")\n",
    "    legend.AddEntry(myFitMeans[i],\"Mean\")\n",
    "    legend.AddEntry(myFitRMSs[i],\"RMS\")\n",
    "    legends.append(copy(legend))\n",
    "    \n",
    "    sectorBoundary = ROOT.TLine(0,hist[0].GetMinimum(),0,hist[0].GetMaximum())\n",
    "    sectorBoundary.SetLineStyle(2)\n",
    "    sectorBoundary.SetLineColor(ROOT.kWhite)\n",
    "    sectorNum = ROOT.TText(.5,.5,\"test\")\n",
    "    sectorNum.SetTextAlign(22)\n",
    "    sectorNum.SetTextColor(ROOT.kWhite)\n",
    "    sectorNum.SetTextFont(0)\n",
    "    for j in range(19):\n",
    "        sectorBoundary.DrawLine((j*2*math.pi)/18,-5,(j*2*math.pi)/18,5)\n",
    "        if j < 18 : sectorNum.DrawText(((j+0.5)*2*math.pi)/18,-2.5,str(j))\n",
    "    \n",
    "    targets = [ROOT.TLine(hist[0].GetXaxis().GetXmin(),val,hist[0].GetXaxis().GetXmax(),val) for val in [-0.2,0,0.2]]\n",
    "    for l,target in enumerate(targets):\n",
    "        target.SetLineStyle(1)\n",
    "        target.SetLineWidth(1)\n",
    "        if l == 1:\n",
    "            target.SetLineColor(1)\n",
    "        else: \n",
    "            target.SetLineColor(2)\n",
    "        target.Draw()\n",
    "\n",
    "    myHists[i].SetTitle(\"\")\n",
    "    legends[i].Draw()\n",
    "\n",
    "bigC.cd()\n",
    "latex = ROOT.TLatex(0.38,0.95,\"#splitline{LHC23zzh apass3 544116}{#bf{nClusters > 60, |tan(#lambda)| < 1, pT > 1 GeV}}\")\n",
    "latex.SetTextSize(0.03)\n",
    "latex.SetTextAlign(12)\n",
    "latex.Draw()\n",
    "bigC.Draw()"
   ]
  },
  {
   "cell_type": "code",
   "execution_count": null,
   "id": "f76b8db9",
   "metadata": {},
   "outputs": [],
   "source": [
    "bigC.SaveAs(\"TPC_DCAR.pdf\");"
   ]
  },
  {
   "cell_type": "code",
   "execution_count": null,
   "id": "51a019be",
   "metadata": {},
   "outputs": [],
   "source": [
    "with ROOT.TFile(\"TPC_QC_plots.root\",\"RECREATE\") as myFile:\n",
    "    myFile.cd()\n",
    "    c.Write()\n",
    "    bigC.Write()\n",
    "    myFile.Write()"
   ]
  }
 ],
 "metadata": {
  "kernelspec": {
   "display_name": "Python 3 (ipykernel)",
   "language": "python",
   "name": "python3"
  },
  "language_info": {
   "codemirror_mode": {
    "name": "ipython",
    "version": 3
   },
   "file_extension": ".py",
   "mimetype": "text/x-python",
   "name": "python",
   "nbconvert_exporter": "python",
   "pygments_lexer": "ipython3",
   "version": "3.9.16"
  }
 },
 "nbformat": 4,
 "nbformat_minor": 5
}
