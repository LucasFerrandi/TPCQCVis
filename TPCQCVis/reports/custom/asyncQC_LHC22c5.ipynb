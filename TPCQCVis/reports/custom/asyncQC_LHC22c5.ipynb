{
 "cells": [
  {
   "cell_type": "markdown",
   "id": "73900f0c",
   "metadata": {
    "toc": true
   },
   "source": [
    "<h1>Table of Contents<span class=\"tocSkip\"></span></h1>\n",
    "<div class=\"toc\"><ul class=\"toc-item\"><li><span><a href=\"#Looking-at-LHC22c5\" data-toc-modified-id=\"Looking-at-LHC22c5-1\">Looking at LHC22c5</a></span></li><li><span><a href=\"#Comparing-to-async-pass3-of-PilotBeam-2021-data\" data-toc-modified-id=\"Comparing-to-async-pass3-of-PilotBeam-2021-data-2\">Comparing to async pass3 of PilotBeam 2021 data</a></span></li><li><span><a href=\"#General-performance-observed-on-different-runs\" data-toc-modified-id=\"General-performance-observed-on-different-runs-3\">General performance observed on different runs</a></span></li><li><span><a href=\"#Geometrical-parameters\" data-toc-modified-id=\"Geometrical-parameters-4\">Geometrical parameters</a></span></li><li><span><a href=\"#Looking-at-TH2s\" data-toc-modified-id=\"Looking-at-TH2s-5\">Looking at TH2s</a></span></li><li><span><a href=\"#Remaining-to-do:\" data-toc-modified-id=\"Remaining-to-do:-6\">Remaining to-do:</a></span></li></ul></div>"
   ]
  },
  {
   "cell_type": "code",
   "execution_count": null,
   "id": "261650c1",
   "metadata": {
    "slideshow": {
     "slide_type": "skip"
    }
   },
   "outputs": [],
   "source": [
    "%%capture\n",
    "import ROOT\n",
    "import glob\n",
    "import math\n",
    "import numpy as np\n",
    "from IPython.display import display, Markdown, HTML\n",
    "import ipywidgets as widgets\n",
    "from TPCQCVis.src.drawHistograms import *\n",
    "from TPCQCVis.src.drawTrending import *\n",
    "from TPCQCVis.src.checkHistograms import *"
   ]
  },
  {
   "cell_type": "code",
   "execution_count": null,
   "id": "bf7d1e4e",
   "metadata": {
    "slideshow": {
     "slide_type": "skip"
    }
   },
   "outputs": [],
   "source": [
    "# Read the Root Files\n",
    "path = \"/cave/alice/data/2022/LHC22c5/\"\n",
    "fileList = glob.glob(path+\"*_QC.root\")\n",
    "fileList.sort()\n",
    "#fileList = fileList[13:]\n",
    "runList = [fileList[i][36:-8] for i in range(len(fileList))]\n",
    "rootDataFile=[]\n",
    "for file in fileList:\n",
    "    rootDataFile.append(ROOT.TFile.Open(file,\"READ\"))\n",
    "#len(rootDataFile)"
   ]
  },
  {
   "cell_type": "markdown",
   "id": "53ce7354",
   "metadata": {
    "slideshow": {
     "slide_type": "slide"
    }
   },
   "source": [
    "# Reporting on TPC QC status\n",
    "Berkin Ulukutlu\n",
    "\n",
    "## Looking at LHC22c5\n",
    "> GP MinBias for pp@900 GeV Pilot Beam Oct. 2021, full anchoring\n",
    "\n",
    "**Using:**\n",
    "+ `505582`: 1650013690219 15 Apr 2022 11:08\n",
    "+ `505600`: 1650013902228 15 Apr 2022 11:11\n",
    "+ `505637`: 1650014322658 15 Apr 2022 11:18\n",
    "+ `505645`: 1650014533506 15 Apr 2022 11:22\n",
    "+ `505658`: 1650014749274 15 Apr 2022 11:25\n",
    "+ `505669`: 1650014984613 15 Apr 2022 11:29\n",
    "+ `505673`: 1650015198465 15 Apr 2022 11:33\n",
    "+ `505548`: 1650860908366 - 25 Apr 2022 04:28 UTC - 25 Apr 2022 06:28 CEST w/ITS disabled staves map info\n",
    "+ `505629`: 1650833184275 - 24 Apr 2022 20:46 UTC - 24 Apr 2022 22:46 CEST w/ITS disabled staves map info\n",
    "\n",
    "## Comparing to async pass3 of PilotBeam 2021 data\n",
    "**Using:**\n",
    "+ `505669`: 1644415511143 09 Feb 2022 15:05\n"
   ]
  },
  {
   "cell_type": "markdown",
   "id": "d90d631d",
   "metadata": {
    "slideshow": {
     "slide_type": "slide"
    }
   },
   "source": [
    "---\n",
    "## General performance observed on different runs"
   ]
  },
  {
   "cell_type": "code",
   "execution_count": null,
   "id": "90a60f4b",
   "metadata": {
    "slideshow": {
     "slide_type": "skip"
    }
   },
   "outputs": [],
   "source": [
    "#Visual settings\n",
    "ROOT.gStyle.SetOptStat(0)"
   ]
  },
  {
   "cell_type": "code",
   "execution_count": null,
   "id": "ea4b849f",
   "metadata": {
    "slideshow": {
     "slide_type": "subslide"
    }
   },
   "outputs": [],
   "source": [
    "%jsroot on\n",
    "c = ROOT.TCanvas(\"dEdxTot\",\"dEdxTot\",800,600)\n",
    "legend = ROOT.TLegend()\n",
    "legend.SetHeader(\"Normalized to integral\")\n",
    "for i in range(len(rootDataFile)):\n",
    "    print(i)\n",
    "    hist = rootDataFile[i].PIDQC.Get(\"hdEdxTot;1\")\n",
    "    legend.AddEntry(hist, fileList[i][len(path):-5], \"l\")\n",
    "    hist.Scale(1/hist.Integral())\n",
    "    hist.SetLineWidth(3)\n",
    "    hist.SetLineColor(i+1)\n",
    "    hist.SetTitle(\"dEdxTot\")\n",
    "    hist.Draw(\"SAME L\")\n",
    "\n",
    "legend.Draw()\n",
    "c.Draw() \n",
    "\n",
    "display(Markdown('### 1D energy loss distribution:'))\n",
    "display(Markdown('- No differences between LHC22c5 runs, shape as expected.\\n'+\n",
    "                 '- Different mean from pilot beam data (apass3 - 505669).'))"
   ]
  },
  {
   "cell_type": "code",
   "execution_count": null,
   "id": "8b59dcaa",
   "metadata": {
    "slideshow": {
     "slide_type": "subslide"
    }
   },
   "outputs": [],
   "source": [
    "%jsroot on\n",
    "c = ROOT.TCanvas(\"Pt\",\"Pt\",1200,600)\n",
    "c.Divide(2,1)\n",
    "legend = ROOT.TLegend()\n",
    "legend.SetHeader(\"Normalized to integral\")\n",
    "c.cd(1)\n",
    "for i in range(len(rootDataFile)):\n",
    "    hist = rootDataFile[i].PID.Get(\"hdEdxMips;1\")\n",
    "    legend.AddEntry(hist, fileList[i][len(path):-5], \"l\")\n",
    "    hist.Scale(1/hist.Integral())\n",
    "    hist.SetLineColor(i+1)\n",
    "    hist.SetLineWidth(3)\n",
    "    hist.Draw(\"SAME L\")\n",
    "#pilot\n",
    "hist = pilotPID.Get(\"hdEdxMips;1\")\n",
    "legend.AddEntry(hist, \"apass3\", \"l\")\n",
    "hist.Scale(1/hist.Integral()) \n",
    "hist.SetLineWidth(3)\n",
    "hist.SetLineColor(1)\n",
    "hist.SetLineStyle(2)\n",
    "hist.Draw(\"SAME L\")\n",
    "legend.Draw()\n",
    "c.cd(2)\n",
    "for i in range(len(rootDataFile)):\n",
    "    hist = rootDataFile[i].PID.Get(\"hdEdxEles;1\")\n",
    "    hist.Scale(1/hist.Integral())\n",
    "    hist.SetLineWidth(3)\n",
    "    hist.SetLineColor(i+1)\n",
    "    hist.Draw(\"SAME L\")    \n",
    "#pilot\n",
    "hist = pilotPID.Get(\"hdEdxEles;1\")\n",
    "hist.Scale(1/hist.Integral())\n",
    "hist.SetLineWidth(3)\n",
    "hist.SetLineColor(1)\n",
    "hist.SetLineStyle(2)\n",
    "hist.Draw(\"SAME L\")\n",
    "legend.Draw()\n",
    "c.Draw()\n",
    "\n",
    "display(Markdown('---\\n'+'### 1D energy loss distribution of MIPs and electrons:'))\n",
    "display(Markdown('**MIPS**:\\n'+\n",
    "                 '- No differences between LHC22c5 runs, shape as expected.\\n'+\n",
    "                 '- Mean not at the expected 50 (as can be seen in the pilot beam data (apass3 - 505669)).'))\n",
    "display(Markdown('- More fluctuation between LHC22c5 runs due to lower statictics of electrons, shape as expected.\\n'+\n",
    "                 '- Different mean from pilot beam data (apass3 - 505669).'))"
   ]
  },
  {
   "cell_type": "code",
   "execution_count": null,
   "id": "107b84bd",
   "metadata": {
    "slideshow": {
     "slide_type": "subslide"
    }
   },
   "outputs": [],
   "source": [
    "%jsroot on\n",
    "c = ROOT.TCanvas(\"clusters\",\"Normalized clusters\",800,600)\n",
    "legend = ROOT.TLegend()\n",
    "legend.SetHeader(\"Normalized to integral\")\n",
    "for i in range(len(rootDataFile)):\n",
    "    hist = rootDataFile[i].PID.Get(\"hNClusters;1\")\n",
    "    legend.AddEntry(hist, fileList[i][len(path):-5], \"l\")\n",
    "    hist.Scale(1/hist.Integral())\n",
    "    hist.SetLineWidth(3)\n",
    "    hist.SetLineColor(i+1)\n",
    "    hist.Draw(\"SAME L\")\n",
    "    \n",
    "#pilot\n",
    "hist = pilotPID.Get(\"hNClusters;1\")\n",
    "legend.AddEntry(hist, \"apass3\", \"l\")\n",
    "hist.Scale(1/hist.Integral())\n",
    "hist.SetLineWidth(3)\n",
    "hist.SetLineColor(1)\n",
    "hist.SetLineStyle(2)\n",
    "hist.Draw(\"SAME L\")\n",
    "\n",
    "legend.Draw()\n",
    "c.Draw()\n",
    "\n",
    "display(Markdown('---\\n'+'### nClusters per track:'))\n",
    "display(Markdown('- No differences between LHC22c5 runs, shape as expected.\\n'+\n",
    "                 '- Longer tracks more abundant compared to pilot beam data (apass3 - 505669).'))"
   ]
  },
  {
   "cell_type": "code",
   "execution_count": null,
   "id": "b516f804",
   "metadata": {
    "slideshow": {
     "slide_type": "slide"
    }
   },
   "outputs": [],
   "source": [
    "%jsroot on\n",
    "c = ROOT.TCanvas(\"Sign\",\"Normalized sign\",800,600)\n",
    "legend = ROOT.TLegend()\n",
    "for i in range(len(rootDataFile)):\n",
    "    hist = rootDataFile[i].Tracks.Get(\"hSign;1\")\n",
    "    legend.AddEntry(hist, fileList[i][len(path):-5], \"l\")\n",
    "    hist.Scale(1/hist.Integral())\n",
    "    hist.SetMaximum(1)\n",
    "    hist.SetMinimum(0)\n",
    "    hist.SetLineColor(i+1)\n",
    "    hist.SetLineWidth(3)\n",
    "    hist.Draw(\"SAME\")\n",
    "    \n",
    "#pilot\n",
    "hist = pilotTracks.Get(\"hSign;1\")\n",
    "legend.AddEntry(hist, \"apass3\", \"l\")\n",
    "hist.Scale(1/hist.Integral())\n",
    "hist.SetLineWidth(3)\n",
    "hist.SetLineColor(1)\n",
    "hist.SetLineStyle(2)\n",
    "hist.Draw(\"SAME\")\n",
    "\n",
    "legend.Draw()\n",
    "c.Draw()\n",
    "display(Markdown('---\\n'+'### Electric charge sign:'))\n",
    "display(Markdown('- No differences between LHC22c5 runs, positive tracks more abundant as expected.\\n'+\n",
    "                 '- Different ratio compared to pilot beam data (apass3 - 505669).'))"
   ]
  },
  {
   "cell_type": "code",
   "execution_count": null,
   "id": "8831cb23",
   "metadata": {
    "slideshow": {
     "slide_type": "subslide"
    }
   },
   "outputs": [],
   "source": [
    "%jsroot on\n",
    "c = ROOT.TCanvas(\"Pt\",\"Pt\",1200,600)\n",
    "c.Divide(2,1)\n",
    "legend = ROOT.TLegend()\n",
    "legend.SetHeader(\"Normalized to integral\")\n",
    "c.cd(1)\n",
    "for i in range(len(rootDataFile)):\n",
    "    hist = rootDataFile[i].Tracks.Get(\"hPtNeg;1\")\n",
    "    legend.AddEntry(hist, fileList[i][len(path):-5], \"l\")\n",
    "    hist.Scale(1/hist.Integral())\n",
    "    hist.SetLineWidth(3)\n",
    "    hist.SetLineColor(i+1)\n",
    "    hist.Draw(\"SAME L\")\n",
    "    \n",
    "#pilot\n",
    "hist = pilotTracks.Get(\"hPtNeg;1\")\n",
    "legend.AddEntry(hist, \"apass3\", \"l\")\n",
    "hist.Scale(1/hist.Integral())\n",
    "hist.SetLineWidth(3)\n",
    "hist.SetLineColor(1)\n",
    "hist.SetLineStyle(2)\n",
    "hist.Draw(\"SAME L\")\n",
    "legend.Draw()\n",
    "c.cd(2)\n",
    "for i in range(len(rootDataFile)):\n",
    "    hist = rootDataFile[i].Tracks.Get(\"hPtPos;1\")\n",
    "    hist.Scale(1/hist.Integral())\n",
    "    hist.SetLineWidth(3)\n",
    "    hist.SetLineColor(i+1)\n",
    "    hist.Draw(\"SAME L\")    \n",
    "#pilot\n",
    "hist = pilotTracks.Get(\"hPtPos;1\")\n",
    "hist.Scale(1/hist.Integral())\n",
    "hist.SetLineWidth(3)\n",
    "hist.SetLineColor(1)\n",
    "hist.SetLineStyle(2)\n",
    "hist.Draw(\"SAME L\")\n",
    "legend.Draw()\n",
    "c.Draw()\n",
    "\n",
    "display(Markdown('---\\n'+'### p<sub>T</sub> distribution of negative vs positive tracks:'))\n",
    "display(Markdown('- No differences between LHC22c5 runs, shape as expected.\\n'+\n",
    "                 '- Mean for negative trakcs different compared to pilot beam data (apass3 - 505669).'))"
   ]
  },
  {
   "cell_type": "markdown",
   "id": "0400b12a",
   "metadata": {
    "slideshow": {
     "slide_type": "slide"
    }
   },
   "source": [
    "## Geometrical parameters"
   ]
  },
  {
   "cell_type": "code",
   "execution_count": null,
   "id": "cf5b0118",
   "metadata": {
    "slideshow": {
     "slide_type": "slide"
    }
   },
   "outputs": [],
   "source": [
    "%jsroot on\n",
    "c = ROOT.TCanvas(\"phi\",\"Normalized phi\",1200,600)\n",
    "legend = ROOT.TLegend()\n",
    "legend.SetHeader(\"Normalized to integral\")\n",
    "for i in range(len(rootDataFile)):\n",
    "    hist = rootDataFile[i].PID.Get(\"hPhi;1\")\n",
    "    legend.AddEntry(hist, fileList[i][len(path):-5], \"l\")\n",
    "    #hist.Rebin(10)\n",
    "    hist.Scale(1/hist.Integral())\n",
    "    hist.SetTitle(\"Phi\")\n",
    "    hist.Draw(\"SAME L\")\n",
    "    hist.SetMaximum(0.0065)\n",
    "    hist.SetMinimum(0.0045)\n",
    "    hist.SetLineWidth(2)\n",
    "    hist.SetLineColor(i+1)\n",
    "#pilot\n",
    "hist = pilotPID.Get(\"hPhi;1\")\n",
    "legend.AddEntry(hist, \"apass3\", \"l\")\n",
    "hist.Scale(1/hist.Integral())\n",
    "hist.SetLineWidth(2)\n",
    "hist.SetLineColor(1)\n",
    "hist.SetLineStyle(2)\n",
    "hist.Draw(\"SAME L\")\n",
    "\n",
    "#Sector boundatries\n",
    "sectorBoundary = ROOT.TLine(0,0.0045,0,0.0065)\n",
    "sectorBoundary.SetLineStyle(2)\n",
    "for j in range(19):\n",
    "    sectorBoundary.DrawLine((j*2*math.pi)/18,0.0045,(j*2*math.pi)/18,0.0065)\n",
    "\n",
    "legend.Draw()\n",
    "c.Draw()\n",
    "\n",
    "display(Markdown('---\\n'+'### Azimuthal angle distribution of tracks:'))\n",
    "display(Markdown('- Slightly different fluctuations between LHC22c5 runs, esp. 505673 seems to be fluctuating more strongly.\\n'+\n",
    "                 '- Efficiency dips at sector boundaries not as evident as with pilot beam data (apass3 - 505669).'))"
   ]
  },
  {
   "cell_type": "code",
   "execution_count": null,
   "id": "f47dbebc",
   "metadata": {
    "slideshow": {
     "slide_type": "subslide"
    }
   },
   "outputs": [],
   "source": [
    "%jsroot on\n",
    "c = ROOT.TCanvas(\"tgl\",\"Normalized tgl\",800,600)\n",
    "legend = ROOT.TLegend()\n",
    "legend.SetHeader(\"Normalized to integral\")\n",
    "for i in range(len(rootDataFile)):\n",
    "    hist = rootDataFile[i].PID.Get(\"hTgl;1\")\n",
    "    legend.AddEntry(hist, fileList[i][len(path):-5], \"l\")\n",
    "    hist.Scale(1/hist.Integral())\n",
    "    hist.SetMaximum(0.05)\n",
    "    hist.SetTitle(\"Tgl\")\n",
    "    hist.SetLineWidth(3)\n",
    "    hist.SetLineColor(i+1)\n",
    "    hist.Draw(\"SAME L\")\n",
    "    \n",
    "#pilot\n",
    "hist = pilotPID.Get(\"hTgl;1\")\n",
    "legend.AddEntry(hist, \"apass3\", \"l\")\n",
    "hist.Scale(1/hist.Integral())\n",
    "hist.SetLineWidth(3)\n",
    "hist.SetLineColor(1)\n",
    "hist.SetLineStyle(2)\n",
    "hist.Draw(\"SAME L\")\n",
    "\n",
    "legend.Draw()\n",
    "c.Draw()\n",
    "\n",
    "display(Markdown('---\\n'+'### tan(lambda) distribution:'))\n",
    "display(Markdown('- No differences between LHC22c5 runs, shape as expected.\\n'+\n",
    "                 '- Asymmetry observed with pilot beam data (apass3 - 505669) is not there.'))"
   ]
  },
  {
   "cell_type": "code",
   "execution_count": null,
   "id": "03a8a89c",
   "metadata": {
    "slideshow": {
     "slide_type": "subslide"
    }
   },
   "outputs": [],
   "source": [
    "%jsroot on\n",
    "c = ROOT.TCanvas(\"Eta\",\"Normalized eta\",800,600)\n",
    "legend = ROOT.TLegend()\n",
    "legend.SetHeader(\"Normalized to integral\")\n",
    "for i in range(len(rootDataFile)):\n",
    "    hist = rootDataFile[i].Tracks.Get(\"hEta;1\")\n",
    "    legend.AddEntry(hist, fileList[i][len(path):-5], \"l\")\n",
    "    hist.Scale(1/hist.Integral())\n",
    "    hist.SetLineColor(i+1)\n",
    "    hist.Draw(\"SAME\")\n",
    "\n",
    "#pilot\n",
    "hist = pilotTracks.Get(\"hEta;1\")\n",
    "legend.AddEntry(hist, \"apass3\", \"l\")\n",
    "hist.Scale(1/hist.Integral())\n",
    "hist.SetLineWidth(2)\n",
    "hist.SetLineColor(1)\n",
    "hist.SetLineStyle(2)\n",
    "hist.Draw(\"SAME L\")\n",
    "\n",
    "legend.Draw()\n",
    "c.Draw()\n",
    "\n",
    "display(Markdown('---\\n'+'### Pseudorapidity (eta) distribution:'))\n",
    "display(Markdown('- No differences between LHC22c5 runs, shape as expected.\\n'+\n",
    "                 '- Asymmetry observed with pilot beam data (apass3 - 505669) is not there.'))"
   ]
  },
  {
   "cell_type": "markdown",
   "id": "be302bdd",
   "metadata": {
    "slideshow": {
     "slide_type": "slide"
    }
   },
   "source": [
    "---\n",
    "## Looking at TH2s"
   ]
  },
  {
   "cell_type": "code",
   "execution_count": null,
   "id": "bf5b464e",
   "metadata": {
    "slideshow": {
     "slide_type": "skip"
    }
   },
   "outputs": [],
   "source": [
    "#Visual settings\n",
    "ROOT.gStyle.SetPalette(57)\n",
    "#ROOT.gStyle.SetOptStat(\"1111111\")"
   ]
  },
  {
   "cell_type": "code",
   "execution_count": null,
   "id": "c1803637",
   "metadata": {
    "slideshow": {
     "slide_type": "subslide"
    }
   },
   "outputs": [],
   "source": [
    "%jsroot on\n",
    "c = ROOT.TCanvas(\"dEdx_vs_p\",\"dEdx_vs_p\",800,600)\n",
    "legend = ROOT.TLegend()\n",
    "for i in range(len(rootDataFile)):\n",
    "    if i == 0:\n",
    "        hist = rootDataFile[i].PID.Get(\"hdEdxVsp;1\")\n",
    "    else:\n",
    "        hist.Add(rootDataFile[i].PID.Get(\"hdEdxVsp;1\"))\n",
    "hist.Draw(\"SAME COLZ\")\n",
    "legend.AddEntry(hist,\"All LHC22c5\", \"l\")\n",
    "legend.Draw()\n",
    "c.SetLogx()\n",
    "c.SetLogz()\n",
    "c.Draw()\n",
    "\n",
    "display(Markdown('### Energy loss vs momentum:'))\n",
    "display(Markdown('- Expected shape looks fine.\\n'))"
   ]
  },
  {
   "cell_type": "code",
   "execution_count": null,
   "id": "4b90cba8",
   "metadata": {
    "slideshow": {
     "slide_type": "subslide"
    }
   },
   "outputs": [],
   "source": [
    "%jsroot on\n",
    "c = ROOT.TCanvas(\"NClusters_vs_Eta\",\"NClusters_vs_Eta\",800,600)\n",
    "legend = ROOT.TLegend()\n",
    "for i in range(len(rootDataFile)):\n",
    "    if i == 0:\n",
    "        hist = rootDataFile[i].Tracks.Get(\"h2DNClustersEtaBeforeCuts;1\")\n",
    "    else:\n",
    "        hist.Add(rootDataFile[i].Tracks.Get(\"h2DNClustersEtaBeforeCuts;1\"))\n",
    "hist.Draw(\"SAME0 COLZ\")\n",
    "legend.AddEntry(hist,\"All LHC22c5\", \"l\")\n",
    "legend.Draw()\n",
    "c.Draw()\n",
    "\n",
    "display(Markdown('---\\n'+'### Number of cluster vs pseudorapidity:'))\n",
    "display(Markdown('- Looks fine.\\n'+\n",
    "                 'Expected dip in cluster count with |eta| > ~0.9'))"
   ]
  },
  {
   "cell_type": "code",
   "execution_count": null,
   "id": "af819fcc",
   "metadata": {
    "slideshow": {
     "slide_type": "subslide"
    }
   },
   "outputs": [],
   "source": [
    "%jsroot on\n",
    "c = ROOT.TCanvas(\"Pt\",\"Pt\",1200,600)\n",
    "c.Divide(2,1)\n",
    "legend = ROOT.TLegend()\n",
    "c.cd(1)\n",
    "for i in range(len(rootDataFile)):\n",
    "    if i == 0:\n",
    "        hist = rootDataFile[i].Tracks.Get(\"h2DNClustersPhiAside;1\")\n",
    "    else:\n",
    "        hist.Add(rootDataFile[i].Tracks.Get(\"h2DNClustersPhiAside;1\"))\n",
    "hist.Draw(\"SAME0 COLZ\")\n",
    "legend.AddEntry(hist,\"All LHC22c5\", \"l\")\n",
    "legend.Draw()\n",
    "c.cd(2)\n",
    "for i in range(len(rootDataFile)):\n",
    "    if i == 0:\n",
    "        hist = rootDataFile[i].Tracks.Get(\"h2DNClustersPhiCside;1\")\n",
    "    else:\n",
    "        hist.Add(rootDataFile[i].Tracks.Get(\"h2DNClustersPhiCside;1\"))\n",
    "hist.Draw(\"SAME0 COLZ\")\n",
    "legend.Draw()\n",
    "c.Draw()\n",
    "\n",
    "display(Markdown('---\\n'+'### Energy loss vs momentum:'))\n",
    "display(Markdown('- Expected shape looks fine.\\n'))"
   ]
  },
  {
   "cell_type": "markdown",
   "id": "38b2b759",
   "metadata": {
    "slideshow": {
     "slide_type": "slide"
    }
   },
   "source": [
    "---\n",
    "## Remaining to-do:\n",
    "1. Check Cluster QC output in detail"
   ]
  }
 ],
 "metadata": {
  "celltoolbar": "Slideshow",
  "kernelspec": {
   "display_name": "Python 3 (ipykernel)",
   "language": "python",
   "name": "python3"
  },
  "language_info": {
   "codemirror_mode": {
    "name": "ipython",
    "version": 3
   },
   "file_extension": ".py",
   "mimetype": "text/x-python",
   "name": "python",
   "nbconvert_exporter": "python",
   "pygments_lexer": "ipython3",
   "version": "3.9.12"
  },
  "toc": {
   "base_numbering": 1,
   "nav_menu": {},
   "number_sections": false,
   "sideBar": false,
   "skip_h1_title": true,
   "title_cell": "Table of Contents",
   "title_sidebar": "Contents",
   "toc_cell": true,
   "toc_position": {},
   "toc_section_display": true,
   "toc_window_display": false
  }
 },
 "nbformat": 4,
 "nbformat_minor": 5
}
