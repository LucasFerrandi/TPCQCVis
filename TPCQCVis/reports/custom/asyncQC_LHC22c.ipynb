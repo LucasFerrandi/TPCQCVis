{
 "cells": [
  {
   "cell_type": "code",
   "execution_count": null,
   "id": "85f8f066",
   "metadata": {
    "slideshow": {
     "slide_type": "skip"
    }
   },
   "outputs": [],
   "source": [
    "import ROOT\n",
    "import glob\n",
    "import math\n",
    "import numpy as np\n",
    "from IPython.display import display, Markdown\n",
    "from IPython.display import display, HTML\n",
    "from TPCQCVis.src.drawHistograms import *\n",
    "from TPCQCVis.src.drawTrending import *\n",
    "from TPCQCVis.src.checkHistograms import *\n",
    "\n",
    "display(HTML(\"<style>.container { width:100% !important; }</style>\"))\n",
    "jsroot = True"
   ]
  },
  {
   "cell_type": "code",
   "execution_count": null,
   "id": "b6ace2b1",
   "metadata": {
    "slideshow": {
     "slide_type": "skip"
    }
   },
   "outputs": [],
   "source": [
    "# Read the Root Files\n",
    "path = \"/home/berki/alice/data/asyncQC/LHC22c/apass1/\"\n",
    "fileList = glob.glob(path+\"*_QC.root\")\n",
    "fileList.sort()\n",
    "runList = [fileList[i][55:-8] for i in range(len(fileList))]\n",
    "rootDataFile=[]\n",
    "for file in fileList:\n",
    "    rootDataFile.append(ROOT.TFile.Open(file,\"READ\"))\n",
    "#rootDataFile[0].ls()\n",
    "#rootDataFile[0].ClusterQC.ls()\n",
    "#rootDataFile[0].PIDQC.ls()\n",
    "#rootDataFile[0].TracksQC.ls()\n",
    "#runList"
   ]
  },
  {
   "cell_type": "markdown",
   "id": "084c79a4",
   "metadata": {
    "slideshow": {
     "slide_type": "slide"
    }
   },
   "source": [
    "# Reporting on TPC QC for LHC22c\n",
    "> PilotBeam data from May 2022 <br />\n",
    "> Link to JIRA: https://alice.its.cern.ch/jira/browse/O2-3035 <br />\n",
    "> B = 0.5 T <br />\n",
    "> beam = pp <br />\n",
    "> energy (sqrt) = 900 GeV <br />\n",
    "> Software version: O2PDPSuite::nightly-20220622-1, jq::v1.6-3 <br />\n",
    "> Issues in FT0"
   ]
  },
  {
   "cell_type": "markdown",
   "id": "404979d8",
   "metadata": {
    "slideshow": {
     "slide_type": "subslide"
    }
   },
   "source": [
    "### Run lists\n",
    "+ 517616: 1656724288512 - 02 Jul 2022 01:11 UTC - 02 Jul 2022 03:11 CEST\n",
    "+ 517618: 1656711195961 - 01 Jul 2022 21:33 UTC - 01 Jul 2022 23:33 CEST\n",
    "+ 517619: 1656870807108 - 03 Jul 2022 17:53 UTC - 03 Jul 2022 19:53 CEST\n",
    "+ 517620: 1656695731655 - 01 Jul 2022 17:15 UTC - 01 Jul 2022 19:15 CEST\n",
    "+ 517623: 1656695733057 - 01 Jul 2022 17:15 UTC - 01 Jul 2022 19:15 CEST\n",
    "+ 517677: 1656699832878 - 01 Jul 2022 18:23 UTC - 01 Jul 2022 20:23 CEST\n",
    "+ 517678: 1656695746319 - 01 Jul 2022 17:15 UTC - 01 Jul 2022 19:15 CEST\n",
    "+ 517679: 1656870042271 - 03 Jul 2022 17:40 UTC - 03 Jul 2022 19:40 CEST\n",
    "+ 517684: 1656695744523 - 01 Jul 2022 17:15 UTC - 01 Jul 2022 19:15 CEST\n",
    "+ 571685: 1656695748869 - 01 Jul 2022 17:15 UTC - 01 Jul 2022 19:15 CEST\n",
    "+ 517689: 1656870074165 - 03 Jul 2022 17:41 UTC - 03 Jul 2022 19:41 CEST\n",
    "+ 517690: 1656695737619 - 01 Jul 2022 17:15 UTC - 01 Jul 2022 19:15 CEST\n",
    "+ 517692: 1656695752300 - 01 Jul 2022 17:15 UTC - 01 Jul 2022 19:15 CEST\n",
    "+ 517693: 1656695752367 - 01 Jul 2022 17:15 UTC - 01 Jul 2022 19:15 CEST\n",
    "+ 517737: 1656695742026 - 01 Jul 2022 17:15 UTC - 01 Jul 2022 19:15 CEST\n",
    "+ 517748: 1656695735131 - 01 Jul 2022 17:15 UTC - 01 Jul 2022 19:15 CEST\n",
    "+ 517750: 1656695758958 - 01 Jul 2022 17:15 UTC - 01 Jul 2022 19:15 CEST\n",
    "+ 517751: 1656695740371 - 01 Jul 2022 17:15 UTC - 01 Jul 2022 19:15 CEST\n",
    "+ 517753: 1656694219142 - 01 Jul 2022 16:50 UTC - 01 Jul 2022 18:50 CEST\n",
    "+ 517758: 1656869840772 - 03 Jul 2022 17:37 UTC - 03 Jul 2022 19:37 CEST\n",
    "+ 517767: 1656700155260 - 01 Jul 2022 18:29 UTC - 01 Jul 2022 20:29 CEST\n",
    "\n",
    "## General comments\n",
    "+ **Potential problems observed in runs `517753` & `517758`**\n",
    " + Higher average momentum => Enhanced high momentum tail in pt distribution\n",
    " + Lower number of clusters per track => Looking at the NclustersBeforeCuts it can be seen that tracks with NClusters<60 are much more common\n",
    " + Ratio of positive/negative tracks is also different from norm in run `517758`"
   ]
  },
  {
   "cell_type": "markdown",
   "id": "cb6382a0",
   "metadata": {
    "slideshow": {
     "slide_type": "slide"
    }
   },
   "source": [
    "## Clusters\n",
    "Variables:\n",
    "+ N Clusters: c_N_Clusters;1\t\n",
    "+ Q Max: c_Q_Max;1\n",
    "+ Q Tot: c_Q_Tot;1\n",
    "+ Sigma Time c_Sigma_Time;1\t\n",
    "+ Sigma Pad c_Sigma_Pad;1\t\n",
    "+ Time Bin c_Time_Bin;1\t"
   ]
  },
  {
   "cell_type": "markdown",
   "id": "eb44a720",
   "metadata": {
    "slideshow": {
     "slide_type": "slide"
    }
   },
   "source": [
    "---\n",
    "### NClusters (shown is Run 517616)\n",
    "\n",
    "- Increased noise on OROC3 of C4 and A10.\n",
    "- Expected to be related to the powering of the field cage."
   ]
  },
  {
   "cell_type": "code",
   "execution_count": null,
   "id": "4f682812",
   "metadata": {
    "slideshow": {
     "slide_type": "subslide"
    }
   },
   "outputs": [],
   "source": [
    "%jsroot on\n",
    "objectName = \"c_N_Clusters\"\n",
    "c = rootDataFile[19].ClusterQC.Get(objectName)\n",
    "c.Draw()"
   ]
  },
  {
   "cell_type": "markdown",
   "id": "2b2b5823",
   "metadata": {
    "slideshow": {
     "slide_type": "slide"
    }
   },
   "source": [
    "---\n",
    "### QTot (shown is Run 517616)\n",
    "\n",
    "- Reduced signal on OROC3 of C4 and A10.\n",
    "- Expected to be related to the powering of the field cage."
   ]
  },
  {
   "cell_type": "code",
   "execution_count": null,
   "id": "1a223868",
   "metadata": {
    "slideshow": {
     "slide_type": "subslide"
    }
   },
   "outputs": [],
   "source": [
    "%jsroot on\n",
    "objectName = \"c_Q_Tot\"\n",
    "c = rootDataFile[0].ClusterQC.Get(objectName)\n",
    "c.Draw()"
   ]
  },
  {
   "cell_type": "markdown",
   "id": "6c3d41a9",
   "metadata": {
    "slideshow": {
     "slide_type": "slide"
    }
   },
   "source": [
    "---\n",
    "### Sigma Time (shown is Run 517616)\n",
    "\n",
    "- Increased noise on OROC3 of C4 and A10.\n",
    "- Expected to be related to the powering of the field cage."
   ]
  },
  {
   "cell_type": "code",
   "execution_count": null,
   "id": "33e4824c",
   "metadata": {
    "slideshow": {
     "slide_type": "subslide"
    }
   },
   "outputs": [],
   "source": [
    "%jsroot on\n",
    "objectName = \"c_Sigma_Time\"\n",
    "c = rootDataFile[0].ClusterQC.Get(objectName)\n",
    "c.Draw()"
   ]
  },
  {
   "cell_type": "markdown",
   "id": "b82a2929",
   "metadata": {
    "slideshow": {
     "slide_type": "slide"
    }
   },
   "source": [
    "---\n",
    "## Tracks\n",
    "Observables:\n",
    "+ h2DQOverPtPhiCside;1\tCharger over p_T vs. phi, C side\n",
    "+ hPhiAsideNeg;1\tAzimuthal angle, A side, neg. tracks\n",
    "+ hPhiCsidePos;1\tAzimuthal angle, C side, pos. tracks\n",
    "+ hPhiCsideNeg;1\tAzimuthal angle, C side, neg. tracks\n",
    "+ h2DNClustersEta;1\tNumber of clusters vs. eta\n",
    "+ hEtaRatio;1\tPseudorapidity, ratio neg./pos. \n",
    "+ hPhiBothSides;1\tAzimuthal angle, both sides clusters\n",
    "+ hPhiAside;1\tAzimuthal angle, A side\n",
    "+ hPhiAsideRatio;1\tAzimuthal angle, A side, ratio neg./pos. \n",
    "+ hPhiCside;1\tAzimuthal angle, C side\n",
    "+ h2DEtaPhi;1\tTracks in eta vs. phi\n",
    "+ hEtaNeg;1\tPseudorapidity, neg. tracks\n",
    "+ hNClustersAfterCuts;1\tNumber of clusters\n",
    "+ hNClustersBeforeCuts;1\tNumber of clusters (before cuts)\n",
    "+ hPhiCsideRatio;1\tAzimuthal angle, C side, ratio neg./pos. \n",
    "+ hEtaPos;1\tPseudorapidity, pos. tracks\n",
    "+ hPtNeg;1\tTransverse momentum, neg. tracks\n",
    "+ hPtPos;1\tTransverse momentum, pos. tracks\n",
    "+ hEtaBeforeCuts;1\tPseudorapidity (before cuts)\n",
    "+ hPtBeforeCuts;1\tTransverse momentum (before cuts)\n",
    "+ hPtRatio;1\tTransverse momentum, ratio neg./pos. \n",
    "+ hPt;1\tTransverse momentum\n",
    "+ hQOverPt;1\tCharge over transverse momentum\n",
    "+ h2DQOverPtPhiAside;1\tCharger over p_T vs. phi, A side\n",
    "+ h2DNClustersPhiAside;1\tNumber of clusters vs. phi, A side \n",
    "+ hPhiAsidePos;1\tAzimuthal angle, A side, pos. tracks\n",
    "+ h2DEtaPhiBeforeCuts;1\tTracks in eta vs. phi (before cuts)\n",
    "+ hEta;1\tPseudorapidity\n",
    "+ h2DNClustersPhiCside;1\tNumber of clusters vs. phi, C side \n",
    "+ h2DNClustersPt;1\tNumber of clusters vs. p_T\n",
    "+ h2DEtaPhiNeg;1\tNegative tracks in eta vs. phi\n",
    "+ h2DEtaPhiPos;1\tPositive tracks in eta vs. phi\n",
    "+ h2DNClustersEtaBeforeCuts;1\tNClusters vs. eta (before cuts)\n",
    "+ hSign;1\tSign of electric charge\n",
    "+ h2DNClustersPtBeforeCuts;1\tNClusters vs. p_T (before cuts)"
   ]
  },
  {
   "cell_type": "markdown",
   "id": "a40e7c37",
   "metadata": {
    "slideshow": {
     "slide_type": "slide"
    }
   },
   "source": [
    "---\n",
    "### Pt distribution\n",
    "\n",
    "+ **Potential problems observed in runs `517753` & `517758`**\n",
    " + Higher average momentum"
   ]
  },
  {
   "cell_type": "code",
   "execution_count": null,
   "id": "9cf959f5",
   "metadata": {
    "slideshow": {
     "slide_type": "subslide"
    }
   },
   "outputs": [],
   "source": [
    "%jsroot on\n",
    "objectName=\"hPt;1\"\n",
    "[trend,canvas] = drawTrending(objectName,rootDataFile,names=runList,trend=\"mean\",error=\"meanError\",namesFromRunList=False)\n",
    "canvas.Draw()"
   ]
  },
  {
   "cell_type": "markdown",
   "id": "2e0c4b2b",
   "metadata": {
    "slideshow": {
     "slide_type": "slide"
    }
   },
   "source": [
    "Enhanced high momentum tail in pt distribution for the two problematic runs"
   ]
  },
  {
   "cell_type": "code",
   "execution_count": null,
   "id": "dda89bf0",
   "metadata": {
    "slideshow": {
     "slide_type": "subslide"
    }
   },
   "outputs": [],
   "source": [
    "%jsroot on\n",
    "objectName=\"hPt\"\n",
    "quality = checkHistograms(objectName,rootDataFile,axis=1,check=\"0<math.sqrt(mean)<1\")\n",
    "[hist,legend,canvas,pad1] = drawHistograms(objectName,rootDataFile[-6:],check=quality[-6:],normalize=False,legend=True,log=\"logxy\",legendNames=runList[-6:],pads=True)\n",
    "canvas.Draw()"
   ]
  },
  {
   "cell_type": "code",
   "execution_count": null,
   "id": "e03dfbbe",
   "metadata": {
    "slideshow": {
     "slide_type": "skip"
    }
   },
   "outputs": [],
   "source": [
    "runList[-6:]"
   ]
  },
  {
   "cell_type": "markdown",
   "id": "a5d5f559",
   "metadata": {
    "slideshow": {
     "slide_type": "slide"
    }
   },
   "source": [
    "---\n",
    "### Clusters per track\n",
    "\n",
    "+ **Potential problems observed in runs `517753` & `517758`**\n",
    " + Lower average count of clusters per track"
   ]
  },
  {
   "cell_type": "code",
   "execution_count": null,
   "id": "d8a9e18d",
   "metadata": {
    "slideshow": {
     "slide_type": "subslide"
    }
   },
   "outputs": [],
   "source": [
    "%jsroot on\n",
    "objectName=\"hNClustersAfterCuts;1\"\n",
    "[trend,canvas] = drawTrending(objectName,rootDataFile,names=runList,error=\"meanError\",namesFromRunList=False)\n",
    "canvas.Draw()"
   ]
  },
  {
   "cell_type": "markdown",
   "id": "777a5502",
   "metadata": {},
   "source": [
    "Shorter tracks more prevelant"
   ]
  },
  {
   "cell_type": "code",
   "execution_count": null,
   "id": "86ffa27c",
   "metadata": {},
   "outputs": [],
   "source": [
    "%jsroot on\n",
    "objectName=\"hNClustersAfterCuts;1\"\n",
    "[hist,legend,canvas,pad1] = drawHistograms(objectName,rootDataFile[15:],normalize=True,legend=True,legendNames=runList[15:],pads=False)\n",
    "canvas.Draw()"
   ]
  },
  {
   "cell_type": "markdown",
   "id": "eca687a6",
   "metadata": {},
   "source": [
    "---\n",
    "### Sign\n",
    "\n",
    "+ Slight devation in mean track sign observed in runs `517684` & `517689` & `517758`"
   ]
  },
  {
   "cell_type": "code",
   "execution_count": null,
   "id": "99ca9876",
   "metadata": {},
   "outputs": [],
   "source": [
    "%jsroot on\n",
    "objectName=\"hSign;1\"\n",
    "[trend,canvas] = drawTrending(objectName,rootDataFile,names=runList,error=\"meanError\",namesFromRunList=False,axis=1)\n",
    "canvas.Draw()"
   ]
  },
  {
   "cell_type": "code",
   "execution_count": null,
   "id": "41a41137",
   "metadata": {},
   "outputs": [],
   "source": [
    "%jsroot on\n",
    "objectName=\"hSign\"\n",
    "[hist,legend,canvas,pad1] = drawHistograms(objectName,rootDataFile,normalize=True,legend=True,legendNames=runList,pads=False)\n",
    "canvas.Draw()"
   ]
  },
  {
   "cell_type": "markdown",
   "id": "a44bb9a8",
   "metadata": {},
   "source": [
    "---\n",
    "## PID\n",
    "Observables:\n",
    "+ hdEdxMaxMIPVsSec_TPC;1\tMIP Q_{Max} TPC\n",
    "+ hdEdxTotMIPVsSec_TPC;1\tMIP Q_{Tot} TPC\n",
    "+ hdEdxTotMIPVsNcl_TPC;1\tMIP Q_{Tot} TPC\n",
    "+ hdEdxTotMIPVsSnp_TPC;1\tMIP Q_{Tot} TPC\n",
    "+ hdEdxMaxMIPVsTgl_TPC;1\tMIP Q_{Max} TPC\n",
    "+ hdEdxTotMIPVsTgl_TPC;1\tMIP Q_{Tot} TPC\n",
    "+ hdEdxMaxMIP_TPC;1\tMIP Q_{Max} TPC\n",
    "+ hdEdxTotMIP_TPC;1\tMIP Q_{Tot} TPC\n",
    "+ hNClsPID;1\tNumber of clusters (after cuts)\n",
    "+ hdEdxTotVsP_Neg_TPC;1\tQ_{Tot} negative particles TPC\n",
    "+ hdEdxMaxMIPVsNcl_TPC;1\tMIP Q_{Max} TPC\n",
    "+ hdEdxMaxMIPVsSnp_TPC;1\tMIP Q_{Max} TPC\n",
    "+ hNClsSubPID;1\tNumber of clusters (after cuts)\n",
    "+ hdEdxVsPhiMipsAside;1\tdEdx (a.u.) vs #phi (rad) of MIPs (A side)\n",
    "+ hdEdxVsTgl;1\tdEdx (a.u.) vs tan#lambda\n",
    "+ hdEdxVsncls;1\tdEdx (a.u.) vs ncls\n",
    "+ hdEdxVsPhi;1\tdEdx (a.u.) vs #phi (rad)\n",
    "+ hdEdxMaxVsP_TPC;1\tQ_{Max} TPC\n",
    "+ hdEdxTotVspBeforeCuts;1\tdEdx (a.u.) vs p (GeV/#it{c}) (before cuts)\n",
    "+ hdEdxVsPhiMipsCside;1\tdEdx (a.u.) vs #phi (rad) of MIPs (C side)\n",
    "+ hMIPNclVsTglSub_TPC;1\trec. + sub-thrs. clusters TPC\n",
    "+ hMIPNclVsTgl_TPC;1\trec. clusters TPC\n",
    "+ hdEdxTotVsP_Pos_TPC;1\tQ_{Tot} positive particles TPC\n",
    "+ hdEdxMaxVspBeforeCuts;1\tdEdx_Max (a.u.) vs p (GeV/#it{c}) (before cuts)\n",
    "+ hdEdxTotVsP_TPC;1\tQ_{Tot} TPC"
   ]
  },
  {
   "cell_type": "markdown",
   "id": "eb8960fd",
   "metadata": {},
   "source": [
    "---\n",
    "### MIP signal\n",
    "+ No major outliers observed\n",
    " + All **GOOD**"
   ]
  },
  {
   "cell_type": "code",
   "execution_count": null,
   "id": "9758ec66",
   "metadata": {},
   "outputs": [],
   "source": [
    "%jsroot on\n",
    "objectName=\"hdEdxTotMIP_TPC;1\"\n",
    "[trend,canvas] = drawTrending(objectName,rootDataFile,names=runList,trend=\"fit(pol1,Sq,,35,70)\",error=\"\",namesFromRunList=False,axis=1)\n",
    "canvas.Draw()"
   ]
  },
  {
   "cell_type": "code",
   "execution_count": null,
   "id": "ba5526a7",
   "metadata": {},
   "outputs": [],
   "source": [
    "%jsroot on\n",
    "objectName=\"hdEdxTotMIP_TPC;1\"\n",
    "result = checkHistograms(objectName,rootDataFile,check=\"(mean-stdDev)<80<(mean+stdDev)\")\n",
    "[hist,legend,canvas,pad1] = drawHistograms(objectName,rootDataFile,normalize=True,legend=True,check=result,legendNames=runList,pads=False)\n",
    "canvas.Draw()"
   ]
  },
  {
   "cell_type": "markdown",
   "id": "7b0ecaf7",
   "metadata": {},
   "source": [
    "---\n",
    "### dEdx vs P\n",
    "+ No unexpected shapes observed\n",
    "+ All **GOOD**"
   ]
  },
  {
   "cell_type": "code",
   "execution_count": null,
   "id": "6988636a",
   "metadata": {},
   "outputs": [],
   "source": [
    "%jsroot on\n",
    "objectName=\"hdEdxTotVspBeforeCuts;1\"\n",
    "[hist,legend,canvas,pad1] = drawHistograms(objectName,rootDataFile[0:1],pads=True,drawOption=\"COLZ\")\n",
    "canvas.Draw()"
   ]
  },
  {
   "cell_type": "code",
   "execution_count": null,
   "id": "6e7c34a8",
   "metadata": {},
   "outputs": [],
   "source": []
  },
  {
   "cell_type": "code",
   "execution_count": null,
   "id": "59a0f4a0",
   "metadata": {},
   "outputs": [],
   "source": [
    "objectName=\"hdEdxTotMIP_TPC;1\"\n",
    "result = checkHistograms(objectName,rootDataFile,check=\"(mean-stdDev)<50<(mean+stdDev)\")\n",
    "print(result)"
   ]
  },
  {
   "cell_type": "code",
   "execution_count": null,
   "id": "5a02e540",
   "metadata": {},
   "outputs": [],
   "source": []
  }
 ],
 "metadata": {
  "celltoolbar": "Slideshow",
  "kernelspec": {
   "display_name": "Python 3 (ipykernel)",
   "language": "python",
   "name": "python3"
  },
  "language_info": {
   "codemirror_mode": {
    "name": "ipython",
    "version": 3
   },
   "file_extension": ".py",
   "mimetype": "text/x-python",
   "name": "python",
   "nbconvert_exporter": "python",
   "pygments_lexer": "ipython3",
   "version": "3.9.12"
  },
  "rise": {
   "scroll": true
  }
 },
 "nbformat": 4,
 "nbformat_minor": 5
}
