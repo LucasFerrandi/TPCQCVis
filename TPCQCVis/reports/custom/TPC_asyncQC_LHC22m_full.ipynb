{
 "cells": [
  {
   "cell_type": "markdown",
   "id": "4098fc6f",
   "metadata": {
    "toc": true
   },
   "source": [
    "<h1>Table of Contents<span class=\"tocSkip\"></span></h1>\n",
    "<div class=\"toc\"><ul class=\"toc-item\"><li><span><a href=\"#Run-list\" data-toc-modified-id=\"Run-list-1\">Run list</a></span></li><li><span><a href=\"#General-comments\" data-toc-modified-id=\"General-comments-2\">General comments</a></span></li><li><span><a href=\"#Number-of-recorded-tracks-per-run\" data-toc-modified-id=\"Number-of-recorded-tracks-per-run-3\">Number of recorded tracks per run</a></span></li><li><span><a href=\"#Tracks-QC\" data-toc-modified-id=\"Tracks-QC-4\">Tracks QC</a></span></li><li><span><a href=\"#Phi-distribution-of-tracks:\" data-toc-modified-id=\"Phi-distribution-of-tracks:-5\">Phi distribution of tracks:</a></span><ul class=\"toc-item\"><li><span><a href=\"#C-side\" data-toc-modified-id=\"C-side-5.1\">C-side</a></span></li><li><span><a href=\"#Number-of-clusters-vs-phi\" data-toc-modified-id=\"Number-of-clusters-vs-phi-5.2\">Number of clusters vs phi</a></span></li><li><span><a href=\"#Pt-distribution\" data-toc-modified-id=\"Pt-distribution-5.3\">Pt distribution</a></span></li><li><span><a href=\"#Clusters-per-track\" data-toc-modified-id=\"Clusters-per-track-5.4\">Clusters per track</a></span></li><li><span><a href=\"#Number-of-clusters-vs-eta\" data-toc-modified-id=\"Number-of-clusters-vs-eta-5.5\">Number of clusters vs eta</a></span></li><li><span><a href=\"#Sign-of-tracks\" data-toc-modified-id=\"Sign-of-tracks-5.6\">Sign of tracks</a></span></li></ul></li><li><span><a href=\"#PID-QC\" data-toc-modified-id=\"PID-QC-6\">PID QC</a></span><ul class=\"toc-item\"><li><span><a href=\"#MIP-signal\" data-toc-modified-id=\"MIP-signal-6.1\">MIP signal</a></span></li><li><span><a href=\"#dEdx-vs-P\" data-toc-modified-id=\"dEdx-vs-P-6.2\">dEdx vs P</a></span></li></ul></li></ul></div>"
   ]
  },
  {
   "cell_type": "code",
   "execution_count": null,
   "id": "c882f5ea",
   "metadata": {
    "slideshow": {
     "slide_type": "skip"
    }
   },
   "outputs": [],
   "source": [
    "import ROOT\n",
    "import glob\n",
    "import math\n",
    "import numpy as np\n",
    "from IPython.display import display, Markdown\n",
    "from IPython.display import display, HTML\n",
    "from TPCQCVis.src.drawHistograms import *\n",
    "from TPCQCVis.src.drawTrending import *\n",
    "from TPCQCVis.src.checkHistograms import *"
   ]
  },
  {
   "cell_type": "code",
   "execution_count": null,
   "id": "c3c71331",
   "metadata": {},
   "outputs": [],
   "source": [
    "display(HTML(\"<style>.container { width:90% !important; }</style>\"))\n",
    "display(HTML(\"<style>table {float:left;}</style>\"))"
   ]
  },
  {
   "cell_type": "code",
   "execution_count": null,
   "id": "c700100d",
   "metadata": {
    "slideshow": {
     "slide_type": "skip"
    }
   },
   "outputs": [],
   "source": [
    "# Read the Root Files\n",
    "path = \"/home/berki/alice/data/2022/LHC22m/\"\n",
    "fileList = glob.glob(path+\"*_QC.root\")\n",
    "fileList.sort()\n",
    "#fileList = fileList[13:]\n",
    "runList = [fileList[i][35:-8] for i in range(len(fileList))]\n",
    "rootDataFile = []\n",
    "for file in fileList:\n",
    "    rootDataFile.append(ROOT.TFile.Open(file,\"READ\"))\n",
    "#rootDataFile[0].ls()\n",
    "#rootDataFile[0].ClusterQC.ls()\n",
    "#rootDataFile[0].PIDQC.ls()\n",
    "#rootDataFile[0].TracksQC.ls()\n",
    "#runList"
   ]
  },
  {
   "cell_type": "code",
   "execution_count": null,
   "id": "8cd17dda",
   "metadata": {
    "slideshow": {
     "slide_type": "skip"
    }
   },
   "outputs": [],
   "source": [
    "%jsroot on"
   ]
  },
  {
   "cell_type": "markdown",
   "id": "150def86",
   "metadata": {
    "slideshow": {
     "slide_type": "slide"
    }
   },
   "source": [
    "# Reporting on TPC QC for LHC22m\n",
    "New processing with tags dating from 2022/08/30\n",
    "> 13.6 TeV pp <br />\n",
    "> Link to JIRA: https://alice.its.cern.ch/jira/browse/O2-3135 <br />\n",
    "> B = +0.5 T <br />\n",
    "> beam = pp <br />\n",
    "> energy (sqrt) = 13.6 TeV <br />\n",
    "> Runs after the TPC firmware upgrade on Aug. 10th\n",
    "\n",
    "## Run list\n",
    "\n",
    "+ `523141`\n",
    "+ `523142`\n",
    "+ `523144`\n",
    "+ `523148`\n",
    "+ `523182`\n",
    "+ `523252`\n",
    "+ `523257`\n",
    "+ `523269`\n",
    "+ `523298`\n",
    "+ `523303`\n",
    "+ `523306`\n",
    "+ `523308`\n",
    "+ `523309`\n",
    "+ `523393`\n",
    "+ `523397`\n",
    "+ `523399`\n",
    "+ `523441`\n",
    "+ `523665`\n",
    "+ `523669`\n",
    "+ `523671`\n",
    "+ `523677`\n",
    "+ `523720`\n",
    "+ `523721`\n",
    "+ `523728`\n",
    "+ `523731`\n",
    "+ `523773`\n",
    "+ `523779`\n",
    "+ `523783`\n",
    "+ `523786`\n",
    "+ `523788`\n",
    "+ `523789`\n",
    "+ `523792`\n",
    "+ `523797`\n",
    "+ `523819`\n",
    "+ `523821`\n",
    "+ `523827`\n",
    "+ `523828`\n",
    "+ `523897`\n",
    "+ `523898`"
   ]
  },
  {
   "cell_type": "markdown",
   "id": "c4ec9a0f",
   "metadata": {},
   "source": [
    "## General comments\n",
    "+ Number of clusters vs eta distribution is not symmetrical\n",
    " + Weird shape on C side for low eta\n",
    "+ Time gain calibration not applied on any of the runs except for `523141`, `523142`, `523148`.\n",
    " + Quality for all others can currently be taken as: `BAD`\n",
    "+ Run `523144` has problems\n",
    "+ Run `523897` is outlier in observables, but can be explained with lower IR\n",
    "\n"
   ]
  },
  {
   "cell_type": "markdown",
   "id": "cf409722",
   "metadata": {
    "slideshow": {
     "slide_type": "slide"
    }
   },
   "source": [
    "---\n",
    "## Number of recorded tracks per run\n",
    "+ Looking at entries in hPt histogram from tracks task\n",
    "+ With cuts (nClusters > 60, |eta| < 1, dEdxTot > 20)"
   ]
  },
  {
   "cell_type": "code",
   "execution_count": null,
   "id": "88da8cbf",
   "metadata": {
    "slideshow": {
     "slide_type": "-"
    }
   },
   "outputs": [],
   "source": [
    "objectName=\"hPt;1\"\n",
    "[trend,canvas] = drawTrending(objectName,rootDataFile,names=runList,trend=\"entries\",error=\"\",log=\"logy\",namesFromRunList=True)\n",
    "canvas.Draw()"
   ]
  },
  {
   "cell_type": "markdown",
   "id": "1ab4e010",
   "metadata": {},
   "source": [
    "---\n",
    "## Tracks QC"
   ]
  },
  {
   "cell_type": "markdown",
   "id": "651d6310",
   "metadata": {},
   "source": [
    "## Phi distribution of tracks:\n",
    "\n",
    "+ General:\n",
    " + Sector boundaries more prominent compared to earlier periods.\n",
    " + Almost all runs suffer from regions of reduced efficiency due to out-of-sync FECs\n",
    " + Run `523144` has major problems, Quality of this run can be declared `BAD`"
   ]
  },
  {
   "cell_type": "code",
   "execution_count": null,
   "id": "f86ce34c",
   "metadata": {},
   "outputs": [],
   "source": [
    "objectName=\"hPhiAside\"\n",
    "[hist,legend,canvas,pad1] = drawHistograms(objectName,rootDataFile,normalize=True,legend=True,legendNames=runList,pads=False, yAxisRange = [2E-3,3.4E-3],drawOption=\"SAME L\")\n",
    "\n",
    "#Sector boundatries\n",
    "pad1.cd()\n",
    "sectorBoundary = ROOT.TLine(0,hist.GetMinimum(),0,hist.GetMaximum())\n",
    "sectorBoundary.SetLineStyle(2)\n",
    "sectorNum = ROOT.TText(.5,.5,\"test\")\n",
    "sectorNum.SetTextAlign(22)\n",
    "sectorNum.SetTextColor(ROOT.kGray+1)\n",
    "sectorNum.SetTextFont(0)\n",
    "for j in range(19):\n",
    "    sectorBoundary.DrawLine((j*2*math.pi)/18,hist.GetMinimum(),(j*2*math.pi)/18,hist.GetMaximum())\n",
    "    if j < 18 : sectorNum.DrawText(((j+0.5)*2*math.pi)/18,hist.GetMaximum(),str(j))\n",
    "    \n",
    "canvas.Draw()"
   ]
  },
  {
   "cell_type": "markdown",
   "id": "b84d24a1",
   "metadata": {},
   "source": [
    "### C-side "
   ]
  },
  {
   "cell_type": "code",
   "execution_count": null,
   "id": "017f8ed0",
   "metadata": {},
   "outputs": [],
   "source": [
    "objectName=\"hPhiCside\"\n",
    "[hist,legend,canvas,pad1] = drawHistograms(objectName,rootDataFile,normalize=True,legend=True,legendNames=runList,pads=False,yAxisRange = [2E-3,3.4E-3], drawOption=\"SAME L\")\n",
    "#Sector boundatries\n",
    "pad1.cd()\n",
    "sectorBoundary = ROOT.TLine(0,hist.GetMinimum(),0,hist.GetMaximum())\n",
    "sectorBoundary.SetLineStyle(2)\n",
    "sectorNum = ROOT.TText(.5,.5,\"test\")\n",
    "sectorNum.SetTextAlign(22)\n",
    "sectorNum.SetTextColor(ROOT.kGray+1)\n",
    "sectorNum.SetTextFont(0)\n",
    "for j in range(19):\n",
    "    sectorBoundary.DrawLine((j*2*math.pi)/18,hist.GetMinimum(),(j*2*math.pi)/18,hist.GetMaximum())\n",
    "    if j < 18 : sectorNum.DrawText(((j+0.5)*2*math.pi)/18,hist.GetMaximum(),str(j))\n",
    "        \n",
    "canvas.Draw()"
   ]
  },
  {
   "cell_type": "markdown",
   "id": "392cd49b",
   "metadata": {},
   "source": [
    "### Number of clusters vs phi\n",
    "\n",
    "+ Unexpected high number number of cluster tracks in Runs `523144`,`523182`,`523303`\n",
    "  + Especially prominent on A side at phi ~3.8 (Boundary between sectors 10 & 11)\n",
    "  + `Further investigation needed`\n",
    "  + Also string loss in tracking efficiency for this run between C-side sector boundary between 8 & 9 \n",
    "  \n",
    "+ Tracks shorter in sectors A7, C1, C2 & C12\n",
    "  + Due to dead segments\n",
    " "
   ]
  },
  {
   "cell_type": "code",
   "execution_count": null,
   "id": "38642988",
   "metadata": {},
   "outputs": [],
   "source": [
    "objectName=\"h2DNClustersPhiAside\"\n",
    "[hist,legend,canvas,pad1] = drawHistograms(objectName,rootDataFile,normalize=False,legend=False,legendNames=runList,pads=True,yAxisRange=[50,190],drawOption=\"COLZ\")\n",
    "canvas.Draw()"
   ]
  },
  {
   "cell_type": "code",
   "execution_count": null,
   "id": "cf4bcbc8",
   "metadata": {},
   "outputs": [],
   "source": [
    "objectName=\"h2DNClustersPhiCside\"\n",
    "[hist,legend,canvas,pad1] = drawHistograms(objectName,rootDataFile,normalize=False,legend=False,legendNames=runList,yAxisRange=[50,190],pads=True,drawOption=\"COLZ\")\n",
    "canvas.Draw()"
   ]
  },
  {
   "cell_type": "markdown",
   "id": "1b3fb5b0",
   "metadata": {
    "slideshow": {
     "slide_type": "subslide"
    }
   },
   "source": [
    "---\n",
    "### Pt distribution\n",
    "\n",
    "+ Most runs have similar shape\n",
    "    + All OK\n",
    "+ `523897` has less prominent high pt tail\n",
    "    + This run had lower IR"
   ]
  },
  {
   "cell_type": "code",
   "execution_count": null,
   "id": "5c7d69bc",
   "metadata": {
    "slideshow": {
     "slide_type": "-"
    }
   },
   "outputs": [],
   "source": [
    "objectName=\"hPt\"\n",
    "[hist,legend,canvas,pad1] = drawHistograms(objectName,rootDataFile,normalize=True,legend=True,log=\"logxy\",legendNames=runList,pads=False)\n",
    "canvas.Draw()"
   ]
  },
  {
   "cell_type": "markdown",
   "id": "e31dd145",
   "metadata": {
    "slideshow": {
     "slide_type": "slide"
    }
   },
   "source": [
    "---\n",
    "### Clusters per track\n",
    "\n",
    "+ Main peak shape is broader\n",
    "+ Secondary peak also more prominent\n",
    "+ Run `523897` better than the rest in terms of main peak position, longer tracks\n",
    "    + This run had lower IR\n",
    "+ Run `523144` problematic again"
   ]
  },
  {
   "cell_type": "code",
   "execution_count": null,
   "id": "a36ab3cb",
   "metadata": {},
   "outputs": [],
   "source": [
    "objectName=\"hNClustersAfterCuts\"\n",
    "[hist,legend,canvas,pad1] = drawHistograms(objectName,rootDataFile,normalize=True,legend=True,legendNames=runList,xAxisRange= [50,170],yAxisRange = [0,22E-3],pads=False)\n",
    "canvas.Draw()"
   ]
  },
  {
   "cell_type": "markdown",
   "id": "b47e7f3c",
   "metadata": {},
   "source": [
    "### Number of clusters vs eta\n",
    "+ cluster distrubution not flat over eta especially for negative eta (C-side)\n",
    "+ Still not understood"
   ]
  },
  {
   "cell_type": "code",
   "execution_count": null,
   "id": "28971e12",
   "metadata": {},
   "outputs": [],
   "source": [
    "objectName=\"h2DNClustersEta\"\n",
    "[hist,legend,canvas,pad1] = drawHistograms(objectName,rootDataFile,normalize=False,legend=False,legendNames=runList,pads=True,yAxisRange=[50,190],xAxisRange=[-1.2,1.2],drawOption=\"COLZ\")\n",
    "canvas.Draw()"
   ]
  },
  {
   "cell_type": "markdown",
   "id": "216eaca6",
   "metadata": {},
   "source": [
    "---\n",
    "### Sign of tracks\n",
    "\n",
    "+ Ratio of pos/neg tracks consistent in all runs\n",
    "  + Result: `GOOD`"
   ]
  },
  {
   "cell_type": "code",
   "execution_count": null,
   "id": "9c65b0de",
   "metadata": {},
   "outputs": [],
   "source": [
    "objectName=\"hSign\"\n",
    "[hist,legend,canvas,pad1] = drawHistograms(objectName,rootDataFile,normalize=True,legend=True,legendNames=runList,pads=False)\n",
    "canvas.Draw()"
   ]
  },
  {
   "cell_type": "markdown",
   "id": "a067a387",
   "metadata": {},
   "source": [
    "---\n",
    "## PID QC"
   ]
  },
  {
   "cell_type": "markdown",
   "id": "a29a9050",
   "metadata": {},
   "source": [
    "### MIP signal\n",
    "+ Time gain calibration not applied on any of the runs except for `523141`, `523142`, `523148`.\n",
    " + Quality for all others: `BAD`\n"
   ]
  },
  {
   "cell_type": "code",
   "execution_count": null,
   "id": "518ec8b6",
   "metadata": {},
   "outputs": [],
   "source": [
    "objectName=\"hdEdxTotMIP_TPC\"\n",
    "quality = checkHistograms(objectName,rootDataFile,check=\"(histogram.Fit(\\\"gaus\\\",\\\"Sq\\\",\\\"\\\",40,60)) and 48<histogram.GetFunction(\\\"gaus\\\").GetParameter(1)<52\",printQuality=True)\n",
    "[hist,legend,canvas,pad1] = drawHistograms(objectName,rootDataFile,legendNames=runList,check=quality,normalize=False,log=\"logx\",legend=False,pads=True)\n",
    "canvas.Draw()"
   ]
  },
  {
   "cell_type": "markdown",
   "id": "087ec882",
   "metadata": {},
   "source": [
    "---\n",
    "### dEdx vs P\n",
    "+ Unexpected bands observed in Run `523182` & `523269` & `523298`\n",
    "+ Quality: **BAD**"
   ]
  },
  {
   "cell_type": "code",
   "execution_count": null,
   "id": "87a3db40",
   "metadata": {},
   "outputs": [],
   "source": [
    "objectName=\"hdEdxTotVsP_TPC\"\n",
    "[hist,legend,canvas,pad1] = drawHistograms(objectName,rootDataFile,legendNames=runList,log=\"logxyz\",pads=True,drawOption=\"COLZ\")\n",
    "canvas.Draw()"
   ]
  },
  {
   "cell_type": "code",
   "execution_count": null,
   "id": "ebe643d9",
   "metadata": {},
   "outputs": [],
   "source": []
  }
 ],
 "metadata": {
  "celltoolbar": "Slideshow",
  "kernelspec": {
   "display_name": "Python 3 (ipykernel)",
   "language": "python",
   "name": "python3"
  },
  "language_info": {
   "codemirror_mode": {
    "name": "ipython",
    "version": 3
   },
   "file_extension": ".py",
   "mimetype": "text/x-python",
   "name": "python",
   "nbconvert_exporter": "python",
   "pygments_lexer": "ipython3",
   "version": "3.9.12"
  },
  "rise": {
   "scroll": true
  },
  "toc": {
   "base_numbering": 1,
   "nav_menu": {},
   "number_sections": false,
   "sideBar": false,
   "skip_h1_title": true,
   "title_cell": "Table of Contents",
   "title_sidebar": "Contents",
   "toc_cell": true,
   "toc_position": {},
   "toc_section_display": true,
   "toc_window_display": false
  }
 },
 "nbformat": 4,
 "nbformat_minor": 5
}
