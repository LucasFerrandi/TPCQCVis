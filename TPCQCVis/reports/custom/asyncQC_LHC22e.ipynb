{
 "cells": [
  {
   "cell_type": "code",
   "execution_count": null,
   "id": "c882f5ea",
   "metadata": {
    "slideshow": {
     "slide_type": "skip"
    }
   },
   "outputs": [],
   "source": [
    "import ROOT\n",
    "import glob\n",
    "import math\n",
    "import numpy as np\n",
    "from IPython.display import display, Markdown\n",
    "from IPython.display import display, HTML\n",
    "from TPCQCVis.src.drawHistograms import *\n",
    "from TPCQCVis.src.drawTrending import *\n",
    "from TPCQCVis.src.checkHistograms import *"
   ]
  },
  {
   "cell_type": "code",
   "execution_count": null,
   "id": "c3c71331",
   "metadata": {},
   "outputs": [],
   "source": [
    "display(HTML(\"<style>.container { width:90% !important; }</style>\"))\n",
    "display(HTML(\"<style>table {float:left;}</style>\"))"
   ]
  },
  {
   "cell_type": "code",
   "execution_count": null,
   "id": "c700100d",
   "metadata": {
    "slideshow": {
     "slide_type": "skip"
    }
   },
   "outputs": [],
   "source": [
    "# Read the Root Files\n",
    "path = \"/home/berki/alice/data/asyncQC/LHC22e/apass1/\"\n",
    "fileList = glob.glob(path+\"*_QC.root\")\n",
    "fileList.sort()\n",
    "runList = [fileList[i][55:-8] for i in range(len(fileList))]\n",
    "rootDataFile=[]\n",
    "for file in fileList:\n",
    "    rootDataFile.append(ROOT.TFile.Open(file,\"READ\"))\n",
    "#rootDataFile[0].ls()\n",
    "#rootDataFile[0].ClusterQC.ls()\n",
    "#rootDataFile[0].PIDQC.ls()\n",
    "#rootDataFile[0].TracksQC.ls()\n",
    "#runList"
   ]
  },
  {
   "cell_type": "markdown",
   "id": "150def86",
   "metadata": {
    "slideshow": {
     "slide_type": "slide"
    }
   },
   "source": [
    "# Reporting on TPC QC for LHC22e\n",
    "> PilotBeam data from June 2022 <br />\n",
    "> Link to JIRA: https://alice.its.cern.ch/jira/browse/O2-3035 <br />\n",
    "> B = +0.5 T <br />\n",
    "> beam = pp <br />\n",
    "> energy (sqrt) = 900 GeV <br />\n",
    "> Software version: O2PDPSuite::nightly-20220622-1, jq::v1.6-3 <br />\n",
    "> Issues in FT0"
   ]
  },
  {
   "cell_type": "markdown",
   "id": "c4ec9a0f",
   "metadata": {},
   "source": [
    "## General comments\n",
    "+ pT tail run dependance, appears to be correlated with filling scheme. To be investigated. Marking runs GOOD matched tracks don't seem to be affected.\n",
    "+ More significant secondary bump for nCluster per track distribution compared to LHC22c"
   ]
  },
  {
   "cell_type": "markdown",
   "id": "089ec0a8",
   "metadata": {
    "slideshow": {
     "slide_type": "subslide"
    }
   },
   "source": [
    "## Runs:\n",
    "| Run number | Quality | Comment | \n",
    "| ---- | ---- | --- |\n",
    "| **519041** | `GOOD` | |\n",
    "| **519043** | `GOOD` | |\n",
    "| **519045** | `GOOD` |  (Problem with one FEC on C-Side OROC1 (phi ~2.9)) |\n",
    "| **519497** | `GOOD` | |\n",
    "| **519498** | `GOOD` | |\n",
    "| **519499** | `GOOD` | |\n",
    "| **519502** | `GOOD` | |\n",
    "| **519503** | `GOOD` | |\n",
    "| **519504** | `GOOD` | |\n",
    "| **519506** | `GOOD` | |\n",
    "| **519507** | `GOOD` | |\n",
    "| **519903** | `GOOD` | (Larger high-pT tail) |\n",
    "| **519904** | `GOOD` | (Larger high-pT tail) |\n",
    "| **519905** | `GOOD` | (Larger high-pT tail) |\n",
    "| **519906** | `GOOD` | (Larger high-pT tail) |\n",
    "| **519908** | `GOOD` | (Larger high-pT tail) |"
   ]
  },
  {
   "cell_type": "markdown",
   "id": "cf409722",
   "metadata": {
    "slideshow": {
     "slide_type": "slide"
    }
   },
   "source": [
    "---\n",
    "## Number of track per run\n",
    "+ Looking at hPt histogram from tracks task"
   ]
  },
  {
   "cell_type": "code",
   "execution_count": null,
   "id": "88da8cbf",
   "metadata": {
    "slideshow": {
     "slide_type": "-"
    }
   },
   "outputs": [],
   "source": [
    "%jsroot on\n",
    "objectName=\"hPt;1\"\n",
    "[trend,canvas] = drawTrending(objectName,rootDataFile,names=runList,trend=\"entries\",error=\"\",log=\"logy\",namesFromRunList=True)\n",
    "canvas.Draw()"
   ]
  },
  {
   "cell_type": "markdown",
   "id": "f704bd48",
   "metadata": {
    "slideshow": {
     "slide_type": "slide"
    }
   },
   "source": [
    "---\n",
    "## Cluster QC"
   ]
  },
  {
   "cell_type": "markdown",
   "id": "b788c4c7",
   "metadata": {
    "slideshow": {
     "slide_type": "subslide"
    }
   },
   "source": [
    "\n",
    "### NClusters\n",
    "\n",
    "+ Increased noise on OROC3 of C4 and A10.\n",
    " + ==> Expected to be related to the powering of the field cage."
   ]
  },
  {
   "cell_type": "code",
   "execution_count": null,
   "id": "ab8aec29",
   "metadata": {
    "slideshow": {
     "slide_type": "-"
    }
   },
   "outputs": [],
   "source": [
    "%jsroot on\n",
    "objectName = \"c_N_Clusters\"\n",
    "c = rootDataFile[2].ClusterQC.Get(objectName)\n",
    "c.Draw()"
   ]
  },
  {
   "cell_type": "markdown",
   "id": "90297523",
   "metadata": {
    "slideshow": {
     "slide_type": "subslide"
    }
   },
   "source": [
    "---\n",
    "### QTot\n",
    "\n",
    "+ One FEC on C-Side OROC1 had an issue during RUN 519045\n",
    " + Can e oserved in shown RUN QTot 519045 "
   ]
  },
  {
   "cell_type": "code",
   "execution_count": null,
   "id": "b14d1753",
   "metadata": {
    "slideshow": {
     "slide_type": "-"
    }
   },
   "outputs": [],
   "source": [
    "%jsroot on\n",
    "objectName = \"c_Q_Tot\"\n",
    "c = rootDataFile[2].ClusterQC.Get(objectName)\n",
    "c.Draw()"
   ]
  },
  {
   "cell_type": "markdown",
   "id": "0d780175",
   "metadata": {
    "slideshow": {
     "slide_type": "subslide"
    }
   },
   "source": [
    "---\n",
    "### Sigma Time\n",
    "\n",
    "- Increased noise on OROC3 of C4 and A10.\n",
    "- Expected to be related to the powering of the field cage."
   ]
  },
  {
   "cell_type": "code",
   "execution_count": null,
   "id": "ae7430e5",
   "metadata": {
    "slideshow": {
     "slide_type": "-"
    }
   },
   "outputs": [],
   "source": [
    "%jsroot on\n",
    "objectName = \"c_Sigma_Time\"\n",
    "c = rootDataFile[2].ClusterQC.Get(objectName)\n",
    "c.Draw()"
   ]
  },
  {
   "cell_type": "markdown",
   "id": "1ab4e010",
   "metadata": {},
   "source": [
    "---\n",
    "## Tracks QC\n",
    "**Notes:** Runs `OK`"
   ]
  },
  {
   "cell_type": "markdown",
   "id": "651d6310",
   "metadata": {},
   "source": [
    "## Phi distribution of tracks:\n",
    "\n",
    "+ A-Side sector 5 and the A-side sector boundary between sectors 6-7 have significantly reduced tracks.\n",
    " + Couldn't correlate with observations from Cluster QC (bad FECs etc.)\n",
    " + Under investigation"
   ]
  },
  {
   "cell_type": "code",
   "execution_count": null,
   "id": "f86ce34c",
   "metadata": {},
   "outputs": [],
   "source": [
    "%jsroot on\n",
    "objectName=\"hPhiAside\"\n",
    "[hist,legend,canvas,pad1] = drawHistograms(objectName,rootDataFile,normalize=True,legend=True,legendNames=runList,pads=False, drawOption=\"SAME\")\n",
    "\n",
    "#Sector boundatries\n",
    "pad1.cd()\n",
    "sectorBoundary = ROOT.TLine(0,hist.GetMinimum(),0,hist.GetMaximum())\n",
    "sectorBoundary.SetLineStyle(2)\n",
    "for j in range(19):\n",
    "    sectorBoundary.DrawLine((j*2*math.pi)/18,hist.GetMinimum(),(j*2*math.pi)/18,hist.GetMaximum())\n",
    "    \n",
    "canvas.Draw()"
   ]
  },
  {
   "cell_type": "markdown",
   "id": "b84d24a1",
   "metadata": {},
   "source": [
    "+ C-side no major issues observed"
   ]
  },
  {
   "cell_type": "code",
   "execution_count": null,
   "id": "017f8ed0",
   "metadata": {},
   "outputs": [],
   "source": [
    "%jsroot on\n",
    "objectName=\"hPhiCside\"\n",
    "[hist,legend,canvas,pad1] = drawHistograms(objectName,rootDataFile,normalize=True,legend=True,legendNames=runList,pads=False, drawOption=\"SAME L\")\n",
    "#Sector boundatries\n",
    "pad1.cd()\n",
    "sectorBoundary = ROOT.TLine(0,hist.GetMinimum(),0,hist.GetMaximum())\n",
    "sectorBoundary.SetLineStyle(2)\n",
    "for j in range(19):\n",
    "    sectorBoundary.DrawLine((j*2*math.pi)/18,hist.GetMinimum(),(j*2*math.pi)/18,hist.GetMaximum())\n",
    "canvas.Draw()"
   ]
  },
  {
   "cell_type": "markdown",
   "id": "1b3fb5b0",
   "metadata": {
    "slideshow": {
     "slide_type": "subslide"
    }
   },
   "source": [
    "---\n",
    "### Pt distribution\n",
    "\n",
    "+ **Last 5 runs (`519903`,`519904`,`519905`,`519906`,`519908`,) have the increased high pT tail**\n",
    " + Was observed in runs `517753` & `517758` in LHC22c\n"
   ]
  },
  {
   "cell_type": "code",
   "execution_count": null,
   "id": "e91d1a7e",
   "metadata": {
    "slideshow": {
     "slide_type": "-"
    }
   },
   "outputs": [],
   "source": [
    "%jsroot on\n",
    "objectName=\"hPt;1\"\n",
    "[trend,canvas] = drawTrending(objectName,rootDataFile,names=runList,trend=\"mean\",error=\"meanError\",namesFromRunList=True)\n",
    "canvas.Draw()"
   ]
  },
  {
   "cell_type": "code",
   "execution_count": null,
   "id": "5c7d69bc",
   "metadata": {
    "slideshow": {
     "slide_type": "-"
    }
   },
   "outputs": [],
   "source": [
    "%jsroot on\n",
    "objectName=\"hPt\"\n",
    "[hist,legend,canvas,pad1] = drawHistograms(objectName,rootDataFile,normalize=True,legend=True,log=\"logxy\",legendNames=runList,pads=False)\n",
    "canvas.Draw()"
   ]
  },
  {
   "cell_type": "markdown",
   "id": "e31dd145",
   "metadata": {
    "slideshow": {
     "slide_type": "slide"
    }
   },
   "source": [
    "---\n",
    "### Clusters per track\n",
    "\n",
    "+ **Secondary peak at nClusters ~80 very significant**\n",
    " + Seen in all runs, no outliers\n",
    " + Similar peak was observed in MC (see report on LHC22c5) but not so prominent\n",
    " + Orignates mainly from A-side sector 7 and C-side sectors 2 & 12\n",
    " + In nClusters vs Eta peak is observed to be centered at eta=0 "
   ]
  },
  {
   "cell_type": "code",
   "execution_count": null,
   "id": "a36ab3cb",
   "metadata": {},
   "outputs": [],
   "source": [
    "%jsroot on\n",
    "objectName=\"hNClustersAfterCuts\"\n",
    "[hist,legend,canvas,pad1] = drawHistograms(objectName,rootDataFile,normalize=True,legend=False,legendNames=runList,pads=False)\n",
    "canvas.Draw()"
   ]
  },
  {
   "cell_type": "code",
   "execution_count": null,
   "id": "dd478e68",
   "metadata": {},
   "outputs": [],
   "source": [
    "%jsroot on\n",
    "objectName=\"h2DNClustersPhiAside\"\n",
    "[hist,legend,canvas,pad1] = drawHistograms(objectName,rootDataFile[0:1],normalize=False,legend=False,legendNames=runList[0:1],pads=True,drawOption=\"COLZ\")\n",
    "canvas.Draw()"
   ]
  },
  {
   "cell_type": "code",
   "execution_count": null,
   "id": "cfd22282",
   "metadata": {},
   "outputs": [],
   "source": [
    "%jsroot on\n",
    "objectName=\"h2DNClustersPhiCside\"\n",
    "[hist,legend,canvas,pad1] = drawHistograms(objectName,rootDataFile[0:1],normalize=False,legend=False,legendNames=runList[0:1],pads=True,drawOption=\"COLZ\")\n",
    "canvas.Draw()"
   ]
  },
  {
   "cell_type": "code",
   "execution_count": null,
   "id": "28971e12",
   "metadata": {},
   "outputs": [],
   "source": [
    "%jsroot on\n",
    "objectName=\"h2DNClustersEta\"\n",
    "[hist,legend,canvas,pad1] = drawHistograms(objectName,rootDataFile[-4:],normalize=False,legend=False,legendNames=runList[-4:],pads=True,drawOption=\"COLZ\")\n",
    "canvas.Draw()"
   ]
  },
  {
   "cell_type": "markdown",
   "id": "216eaca6",
   "metadata": {},
   "source": [
    "---\n",
    "### Sign of tracks\n",
    "\n",
    "+ Ratio of pos/neg tracks consistent in all runs"
   ]
  },
  {
   "cell_type": "code",
   "execution_count": null,
   "id": "9c65b0de",
   "metadata": {},
   "outputs": [],
   "source": [
    "%jsroot on\n",
    "objectName=\"hSign\"\n",
    "[hist,legend,canvas,pad1] = drawHistograms(objectName,rootDataFile,normalize=True,legend=True,legendNames=runList,pads=False)\n",
    "canvas.Draw()"
   ]
  },
  {
   "cell_type": "markdown",
   "id": "a067a387",
   "metadata": {},
   "source": [
    "---\n",
    "## PID QC"
   ]
  },
  {
   "cell_type": "markdown",
   "id": "a29a9050",
   "metadata": {},
   "source": [
    "### MIP signal\n",
    "+ No major outliers observed, all MIP peaks at ~50\n",
    " + All **GOOD**"
   ]
  },
  {
   "cell_type": "code",
   "execution_count": null,
   "id": "518ec8b6",
   "metadata": {},
   "outputs": [],
   "source": [
    "%jsroot on\n",
    "objectName=\"hdEdxTotMIP_TPC\"\n",
    "quality = checkHistograms(objectName,rootDataFile,check=\"(histogram.Fit(\\\"gaus\\\",\\\"Sq\\\",\\\"\\\",40,60)) and 45<histogram.GetFunction(\\\"gaus\\\").GetParameter(1)<55\")\n",
    "[hist,legend,canvas,pad1] = drawHistograms(objectName,rootDataFile,legendNames=runList,check=quality,normalize=False,log=\"logx\",legend=False,pads=True)\n",
    "canvas.Draw()"
   ]
  },
  {
   "cell_type": "code",
   "execution_count": null,
   "id": "f9aa4939",
   "metadata": {},
   "outputs": [],
   "source": [
    "%jsroot on\n",
    "objectName=\"hdEdxTotMIP_TPC;1\"\n",
    "[trend,canvas] = drawTrending(objectName,rootDataFile,names=runList,trend=\"fit(gaus,Sq,,40,60)\",error=\"\",namesFromRunList=True,axis=1)\n",
    "canvas.Draw()"
   ]
  },
  {
   "cell_type": "markdown",
   "id": "087ec882",
   "metadata": {},
   "source": [
    "---\n",
    "### dEdx vs P\n",
    "+ No unexpected shapes observed\n",
    "+ All **GOOD**"
   ]
  },
  {
   "cell_type": "code",
   "execution_count": null,
   "id": "87a3db40",
   "metadata": {},
   "outputs": [],
   "source": [
    "%jsroot on\n",
    "objectName=\"hdEdxTotVsP_TPC\"\n",
    "[hist,legend,canvas,pad1] = drawHistograms(objectName,rootDataFile[0:1],log=\"logxz\",pads=True,drawOption=\"COLZ\")\n",
    "canvas.Draw()"
   ]
  }
 ],
 "metadata": {
  "celltoolbar": "Slideshow",
  "kernelspec": {
   "display_name": "Python 3 (ipykernel)",
   "language": "python",
   "name": "python3"
  },
  "language_info": {
   "codemirror_mode": {
    "name": "ipython",
    "version": 3
   },
   "file_extension": ".py",
   "mimetype": "text/x-python",
   "name": "python",
   "nbconvert_exporter": "python",
   "pygments_lexer": "ipython3",
   "version": "3.9.12"
  },
  "rise": {
   "scroll": true
  }
 },
 "nbformat": 4,
 "nbformat_minor": 5
}
