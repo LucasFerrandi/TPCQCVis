{
 "cells": [
  {
   "cell_type": "code",
   "execution_count": null,
   "id": "6ba04481",
   "metadata": {},
   "outputs": [],
   "source": [
    "%%capture\n",
    "import ROOT\n",
    "import glob\n",
    "import math\n",
    "import sys\n",
    "import numpy as np\n",
    "import pandas as pd\n",
    "from IPython.display import display, Markdown, HTML\n",
    "import ipywidgets as widgets\n",
    "from TPCQCVis.src.drawHistograms import *\n",
    "from TPCQCVis.src.drawTrending import *\n",
    "from TPCQCVis.src.drawMultiTrending import *\n",
    "from TPCQCVis.src.checkHistograms import *\n",
    "from TPCQCVis.src.checkTrending import *\n",
    "import warnings\n",
    "from copy import copy\n",
    "warnings.filterwarnings('ignore')"
   ]
  },
  {
   "cell_type": "code",
   "execution_count": null,
   "id": "0f0e02f1",
   "metadata": {},
   "outputs": [],
   "source": [
    "%jsroot on\n",
    "display(HTML(\"<style>.container { width:95% !important; align-items: center;}</style>\"))\n",
    "display(HTML(\"<style>table {float:left;}</style>\"))\n",
    "ROOT.gErrorIgnoreLevel = ROOT.kError\n",
    "#display(HTML('<style>{}</style>'.format(CSS)))\n",
    "#ROOT.gStyle.SetPalette(57)"
   ]
  },
  {
   "cell_type": "code",
   "execution_count": null,
   "id": "1e556f7f-d199-4a14-bb9f-0515fb139009",
   "metadata": {},
   "outputs": [],
   "source": [
    "def drawQuantileProjection(objectName,rootDataFile,quantileOrder=0.5, axis=\"x\"):\n",
    "    from copy import copy\n",
    "    canvas = ROOT.TCanvas()\n",
    "    legend = ROOT.TLegend()\n",
    "    [hist,leg,canvo,pad1] = drawHistograms(objectName,rootDataFile,normalize=False,legend=False,\n",
    "                                               legendNames=runList,pads=True,drawOption=\"COLZ\",maxColumns=3)\n",
    "    quants = []\n",
    "    canvas.cd()\n",
    "    ROOT.gPad.SetGridy(1)\n",
    "    for i,histo in enumerate(hist):\n",
    "        if axis == \"y\":\n",
    "            quant = copy(histo.QuantilesY(quantileOrder))\n",
    "        else:\n",
    "            quant = copy(histo.QuantilesX(quantileOrder))\n",
    "        quant.SetYTitle(\"Median \"+ histo.GetYaxis().GetTitle())\n",
    "        quant.SetXTitle(histo.GetXaxis().GetTitle())\n",
    "        quant.SetTitle(quant.GetYaxis().GetTitle()+\" vs. \"+quant.GetXaxis().GetTitle())\n",
    "        quant.SetLineWidth(2)\n",
    "        quants.append(quant)\n",
    "        quants[i].SetStats(0)\n",
    "        quants[i].Draw(\"SAME L\")\n",
    "        legend.AddEntry(quant,runList[i])\n",
    "    return quants,legend,canvas\n",
    "    \n",
    "def sliceAndFit(objectName,rootDataFile,fitFunc=\"gaus\",fitRange=[40,60]):\n",
    "    from copy import copy\n",
    "    canvas = ROOT.TCanvas()\n",
    "    legend = ROOT.TLegend()\n",
    "    [hist,leg,canvo,pad1] = drawHistograms(objectName,rootDataFile,normalize=False,legend=False,\n",
    "                                               legendNames=runList,pads=True,drawOption=\"COLZ\",maxColumns=3)\n",
    "    fits = []\n",
    "    myFunc = ROOT.TF1(\"myFunc\",\"gaus\",40,60)\n",
    "    canvas.cd()\n",
    "    for i,histo in enumerate(hist):\n",
    "        try:\n",
    "            histo.FitSlicesY(myFunc, 0, -1, 0, \"QNR\")\n",
    "            fit = copy(ROOT.gDirectory.Get(histo.GetName()+\"_1\"))\n",
    "        except:\n",
    "            print(\"Could not perform fit.\")\n",
    "            return [],legend,canvas\n",
    "        fit.SetYTitle(\"Gaus Fit Mean \"+ histo.GetYaxis().GetTitle())\n",
    "        fit.SetXTitle(histo.GetXaxis().GetTitle())\n",
    "        fit.SetTitle(quant.GetYaxis().GetTitle()+\" vs. \"+quant.GetXaxis().GetTitle())\n",
    "        fit.SetLineWidth(2)\n",
    "        fits.append(fit)\n",
    "        legend.AddEntry(fit,runList[i])\n",
    "        fit.Draw(\"SAME L\")\n",
    "    legend.Draw()\n",
    "    return fits, legend, canvas"
   ]
  },
  {
   "cell_type": "code",
   "execution_count": null,
   "id": "0b4c56f8-1009-40aa-8a1f-12c5bd2e1ffb",
   "metadata": {},
   "outputs": [],
   "source": [
    "ROOT.gStyle.SetPalette(57)\n",
    "ROOT.gStyle.SetPalette(55)\n",
    "ROOT.gStyle.SetGridStyle(3)\n",
    "ROOT.gStyle.SetGridWidth(1)\n",
    "ROOT.gStyle.SetOptStat(0)\n",
    "cols = list(ROOT.TColor.GetPalette())\n",
    "def updateColors(histograms,palette):\n",
    "    colors = []\n",
    "    for i,hist in enumerate(histograms):\n",
    "        if len(histograms)>1:\n",
    "            color = palette[math.floor((i/(len(histograms)-1))*(len(palette)-1))]\n",
    "        else:\n",
    "            color = palette[0]\n",
    "        #color = i\n",
    "        colors.append(color)\n",
    "        hist.SetLineColor(color)\n",
    "        hist.SetMarkerColor(color)\n",
    "    return colors\n",
    "\n",
    "def updateRanges(histograms):\n",
    "    maxRange = max([hist.GetMaximum() for hist in histograms])\n",
    "    minRange = min([hist.GetMinimum() for hist in histograms])\n",
    "    for i,hist in enumerate(histograms):\n",
    "        if len(histograms)>1:\n",
    "            hist.SetMaximum(maxRange)\n",
    "            hist.SetMinimum(maxRange)\n",
    "\n",
    "\n",
    "def getMedianHistogram(hists):\n",
    "    from statistics import median\n",
    "\n",
    "    if len(hists) == 0:\n",
    "        raise ValueError(\"Histogram list is empty\")\n",
    "\n",
    "    # Determine if histograms are 1D or 2D\n",
    "    is2D = isinstance(hists[0], ROOT.TH2)\n",
    "\n",
    "    if len(hists) == 1:\n",
    "        return hists[0]\n",
    "\n",
    "    if is2D:\n",
    "        # 2D histogram case\n",
    "        nBinsX = hists[0].GetNbinsX()\n",
    "        nBinsY = hists[0].GetNbinsY()\n",
    "        xMin = hists[0].GetXaxis().GetXmin()\n",
    "        xMax = hists[0].GetXaxis().GetXmax()\n",
    "        yMin = hists[0].GetYaxis().GetXmin()\n",
    "        yMax = hists[0].GetYaxis().GetXmax()\n",
    "        medianHist = ROOT.TH2F(\"median_\" + hists[0].GetName(), \"Median \" + hists[0].GetTitle(), nBinsX, xMin, xMax, nBinsY, yMin, yMax)\n",
    "        for xBin in range(1, nBinsX + 1):\n",
    "            for yBin in range(1, nBinsY + 1):\n",
    "                vals = [h.GetBinContent(xBin, yBin) for h in hists]\n",
    "                medianHist.SetBinContent(xBin, yBin, median(vals))\n",
    "    else:\n",
    "        # 1D histogram case\n",
    "        nBins = hists[0].GetNbinsX()\n",
    "        xMin = hists[0].GetXaxis().GetXmin()\n",
    "        xMax = hists[0].GetXaxis().GetXmax()\n",
    "        medianHist = ROOT.TH1F(\"median_\" + hists[0].GetName(), \"Median \" + hists[0].GetTitle(), nBins, xMin, xMax)\n",
    "        for xBin in range(1, nBins + 1):\n",
    "            vals = [h.GetBinContent(xBin) for h in hists]\n",
    "            medianHist.SetBinContent(xBin, median(vals))\n",
    "\n",
    "    return medianHist"
   ]
  },
  {
   "cell_type": "code",
   "execution_count": null,
   "id": "6395b0ce-7b23-4754-b330-4eb3d7211c48",
   "metadata": {},
   "outputs": [],
   "source": [
    "def normalize_histogram(hist):\n",
    "    if isinstance(hist[0], list):  # Check if the histogram is 2D\n",
    "        # Convert 2D histogram bin contents to a probability distribution\n",
    "        total = sum(sum(row) for row in hist)  # Sum all elements in the 2D histogram\n",
    "        return [[h / total for h in row] for row in hist]\n",
    "    else:\n",
    "        # Convert 1D histogram bin contents to a probability distribution\n",
    "        total = sum(hist)  # Sum all elements in the 1D histogram\n",
    "        return [h / total for h in hist]\n",
    "\n",
    "\n",
    "\n",
    "def calculate_kl_divergence(P, Q):\n",
    "    # Flatten 2D histograms if necessary\n",
    "    if isinstance(P[0], list):\n",
    "        P = [item for sublist in P for item in sublist]\n",
    "    if isinstance(Q[0], list):\n",
    "        Q = [item for sublist in Q for item in sublist]\n",
    "\n",
    "    # Calculate KL Divergence between two probability distributions P and Q\n",
    "    return sum(p * math.log(p / q) for p, q in zip(P, Q) if p != 0 and q != 0)\n",
    "\n",
    "def assign_quality(hists, medianHist):\n",
    "    # Normalize the median histogram\n",
    "    Q = normalize_histogram(medianHist)\n",
    "    \n",
    "    quality_scores = []\n",
    "    for hist in hists:\n",
    "        # Normalize the current histogram\n",
    "        P = normalize_histogram(hist)\n",
    "        \n",
    "        # Calculate KL Divergence\n",
    "        kl_div = calculate_kl_divergence(P, Q)\n",
    "        quality_scores.append(kl_div)\n",
    "        \n",
    "    # Calculate the mean of the quality scores\n",
    "    mean_score = sum(quality_scores) / len(quality_scores)\n",
    "\n",
    "    # Calculate the variance of the quality scores\n",
    "    variance = sum((score - mean_score) ** 2 for score in quality_scores) / len(quality_scores)\n",
    "\n",
    "    # Calculate the standard deviation (sigma) of the quality scores\n",
    "    sigma = math.sqrt(variance)\n",
    "\n",
    "    quality = []\n",
    "    for hist in hists:\n",
    "        Q = normalize_histogram(hist)\n",
    "        kl_div1 = calculate_kl_divergence(P, Q)\n",
    "    \n",
    "        # Assign quality based on KL divergence thresholds\n",
    "        if abs(kl_div1) < sigma:\n",
    "            quality.append(\"good\")\n",
    "        elif abs(kl_div1) < 2*sigma:\n",
    "            quality.append(\"medium\")\n",
    "        else:\n",
    "            quality.append(\"bad\")\n",
    "    \n",
    "    return quality\n",
    "\n",
    "def print_quality_scores(hists, medianHist, percent_diff=.20):\n",
    "    # Normalize the median histogram\n",
    "    Q = normalize_histogram(medianHist)\n",
    "    kl_divergences = []\n",
    "\n",
    "    # First pass: calculate KL divergences to determine the mean\n",
    "    for hist in hists:\n",
    "        P = normalize_histogram(hist)\n",
    "        kl_div = calculate_kl_divergence(P, Q)\n",
    "        kl_divergences.append(kl_div)\n",
    "\n",
    "    # Calculate the mean of KL divergences\n",
    "    mean_kl_div = sum(kl_divergences) / len(kl_divergences)\n",
    "\n",
    "    # Calculate the variance of the quality scores\n",
    "    variance = sum((score - mean_kl_div) ** 2 for score in kl_divergences) / len(kl_divergences)\n",
    "\n",
    "    # Calculate the standard deviation (sigma) of the quality scores\n",
    "    sigma = math.sqrt(variance)\n",
    "\n",
    "    \n",
    "\n",
    "    # Define thresholds based on mean and percentage difference\n",
    "    threshold_good = mean_kl_div * (1 - percent_diff)\n",
    "    threshold_bad = mean_kl_div * (1 + percent_diff)\n",
    "\n",
    "    # Second pass: categorize histograms based on calculated thresholds\n",
    "    for i, (hist, kl_div) in enumerate(zip(hists, kl_divergences)):\n",
    "        if kl_div <= sigma:\n",
    "            quality = \"good\"\n",
    "        elif kl_div <= 2*sigma:\n",
    "            quality = \"medium\"\n",
    "        else:\n",
    "            quality = \"bad\"\n",
    "        \n",
    "        print(f\"Histogram {i+1}: Quality is {quality} (KL Divergence: {kl_div})\")\n"
   ]
  },
  {
   "cell_type": "code",
   "execution_count": null,
   "id": "bb0c55ba",
   "metadata": {},
   "outputs": [],
   "source": [
    "# Notebook variables\n",
    "periodName = \"LHC23o\"\n",
    "passName = \"apass4\"\n",
    "runNumber = 123456\n",
    "path = \"/cave/alice-tpc-qc/data/2023/\"\n",
    "\n",
    "# Read the Root Files\n",
    "fileList = glob.glob(path+\"/\"+periodName+\"/\"+passName+\"/\"+\"*_QC.root\")\n",
    "fileList = [file for file in fileList if file[-13] != \"_\"]\n",
    "fileList.sort()\n",
    "#fileList = fileList[13:]\n",
    "runList = [fileList[i][-14:-8] for i in range(len(fileList))]\n",
    "rootDataFile=[]\n",
    "for file in fileList:\n",
    "    rootDataFile.append(ROOT.TFile.Open(file,\"READ\"))\n",
    "\n",
    "print(runList)"
   ]
  },
  {
   "cell_type": "markdown",
   "id": "38300728",
   "metadata": {},
   "source": [
    "# TPC Async QC Report - myPeriod - myPass\n",
    "### RCT Tables:\n",
    "+ [2022](https://docs.google.com/spreadsheets/d/14vXFYVx3oVE8wgJKmIBhjvAt6NpGp7D6H4AmBM9E0Cw/edit#gid=0), [2023](https://docs.google.com/spreadsheets/d/1YBQLXWwwc3aC3B_PYVpFkTgEP0n6u1ovtYfiCOMWnTc/edit?pli=1#gid=0), [2023_PbPb](https://docs.google.com/spreadsheets/d/1vsl-pkLdUoNXZm6muPyMENWdDSKM7UDtQLcXc2B9QhE/edit#gid=492527515)"
   ]
  },
  {
   "cell_type": "markdown",
   "id": "897badfe",
   "metadata": {
    "toc": true
   },
   "source": [
    "<h1>Table of Contents<span class=\"tocSkip\"></span></h1>\n",
    "<div class=\"toc\"><ul class=\"toc-item\"><li><span><a href=\"#TPC-asyncQC\" data-toc-modified-id=\"TPC-asyncQC\">TPC asyncQC</a></span><ul class=\"toc-item\"><li><span><a href=\"#General-notes\" data-toc-modified-id=\"General-notes-1.1\">General notes</a></span></li><li><span><a href=\"#Run-Table\" data-toc-modified-id=\"Run-Table-1.2\">Run Table</a></span></li></ul></li><li><span><a href=\"#Quality-Observer\" data-toc-modified-id=\"Quality-Observer-2\">Quality Observer</a></span><ul class=\"toc-item\"><li><span><a href=\"#Clusters\" data-toc-modified-id=\"Clusters-2.1\">Clusters</a></span></li><li><span><a href=\"#Tracks\" data-toc-modified-id=\"Tracks-2.2\">Tracks</a></span></li></ul></li><li><span><a href=\"#Trendings\" data-toc-modified-id=\"Trendings-3\">Trendings</a></span></li><li><span><a href=\"#Plots\" data-toc-modified-id=\"Plots-4\">Plots</a></span><ul class=\"toc-item\"><li><span><a href=\"#Clusters\" data-toc-modified-id=\"Clusters-4.1\">Clusters</a></span></li><li><span><a href=\"#Tracks\" data-toc-modified-id=\"Tracks-4.2\">Tracks</a></span><ul class=\"toc-item\"><li><span><a href=\"#Geometrical-distributions-of-tracks\" data-toc-modified-id=\"Geometrical-distributions-of-tracks-4.2.1\">Geometrical distributions of tracks</a></span></li><li><span><a href=\"#Track-properties\" data-toc-modified-id=\"Track-properties-4.2.2\">Track properties</a></span></li></ul></li><li><span><a href=\"#PID\" data-toc-modified-id=\"PID-4.3\">PID</a></span><ul class=\"toc-item\"><li><span><a href=\"#TPC-Gain-calibration\" data-toc-modified-id=\"TPC-Gain-calibration-4.3.1\">TPC Gain calibration</a></span></li><li><span><a href=\"#dEdx-vs-p\" data-toc-modified-id=\"dEdx-vs-p-4.3.2\">dEdx vs p</a></span></li></ul></li></ul></li></ul></div>"
   ]
  },
  {
   "cell_type": "markdown",
   "id": "a4b8dc0f",
   "metadata": {},
   "source": [
    "---\n",
    "## Quality Observer"
   ]
  },
  {
   "cell_type": "markdown",
   "id": "b1074ba1",
   "metadata": {},
   "source": [
    "### Clusters"
   ]
  },
  {
   "cell_type": "code",
   "execution_count": null,
   "id": "f4118973-2466-4689-9276-6edb0ec2abe4",
   "metadata": {},
   "outputs": [],
   "source": [
    "# Use string formatting to dynamically set the output file name\n",
    "outputFileName = f\"{path}/{periodName}/{passName}/{periodName}_{passName}_QC.root\"  # This will create 'LHC22e_QC.root'\n",
    "# Create the output file with the dynamically set name\n",
    "outputfile = ROOT.TFile(outputFileName, \"RECREATE\")\n",
    "\n",
    "# Create the required directories and immediately write them\n",
    "medianHists = outputfile.mkdir(\"medianHists\")\n",
    "medianHists.Write()  # Write the directory to ensure it's created\n",
    "\n",
    "medianHistsTracksQC = medianHists.mkdir(\"TracksQC\")\n",
    "medianHistsTracksQC.Write()  # Write the subdirectory\n",
    "\n",
    "trendings = outputfile.mkdir(\"trendings\")\n",
    "trendings.Write()  # Write the directory\n",
    "trendingsTracksQC = trendings.mkdir(\"TracksQC\")\n",
    "trendingsTracksQC.Write()  # Write the subdirectory\n",
    "\n",
    "kl_div = outputfile.mkdir(\"kl_div_trendings\")\n",
    "kl_div.Write()  # Write the directory\n",
    "kl_divTracksQC = kl_div.mkdir(\"kl_divTracksQC\")\n",
    "kl_divTracksQC.Write()  # Write the subdirectory\n",
    "\n",
    "# Ensure that the output file knows the current directory structure\n",
    "outputfile.SaveSelf(True)"
   ]
  },
  {
   "cell_type": "code",
   "execution_count": null,
   "id": "629d430d-fb60-4fdb-bc48-bc43b7fc7c0c",
   "metadata": {},
   "outputs": [],
   "source": [
    "qualityDF = pd.DataFrame({'runNumber': runList})\n",
    "#these are not working right now \"h2DRPhinClustersAside\",\"h2DNClustersPhiAside\",\"h2DRPhiqTotAside\"\n",
    "objects = [\"hPhiAside\",\"hPhiCside\",\"hEta\",\"h2DEtaPhi\",\"hPt\",\"hSign\",\"hQOverPt\",\"hNClustersAfterCuts\",\"h2DNClustersPhiCside\",\"h2DNClustersEta\",\"h2DNClustersPt\",\"hdEdxTotMIP_TPC\",\"hdEdxTotMIP_IROC\",\"hdEdxTotMIP_OROC1\",\"hdEdxTotMIP_OROC2\",\"hdEdxTotMIP_OROC3\",\"hdEdxTotMIPVsSec_TPC\",\"hdEdxTotMIPVsNcl_TPC\",\"hdEdxTotMIPVsTgl_TPC\",\"hdEdxTotMIPVsSnp_TPC\",\"hdEdxTotVsP_TPC\"]\n",
    "trending = \"mean\"\n",
    "error = \"meanError\"\n",
    "\n",
    "for objectName in objects:\n",
    "    if objectName == \"hdEdxTotMIP_TPC;1\":\n",
    "        trending = \"fit(gaus,Sq,N,40,60)\"\n",
    "    else:\n",
    "        trending = \"mean\"\n",
    "\n",
    "    # Draw trending\n",
    "    [trend, canvas] = drawTrending(objectName, rootDataFile, names=runList, namesFromRunList=True, trend=trending, error=error, log=\"none\", axis=1)\n",
    "\n",
    "    # Check trending and quality, which returns the desired objects\n",
    "    [qualities, canvas] = checkTrending(trend, canvas=canvas, thresholds={\"GOOD\": 1.5, \"MEDIUM\": 3, \"BAD\": 6})\n",
    "    qualityDF[objectName] = qualities\n",
    "\n",
    "    # Navigate to the desired directory\n",
    "    outputfile.cd(trendingsTracksQC.GetPath())\n",
    "    canvas.Write()"
   ]
  },
  {
   "cell_type": "code",
   "execution_count": null,
   "id": "8ec89e87-d700-4512-a67a-4112e62da80b",
   "metadata": {},
   "outputs": [],
   "source": [
    "#objects_for_median = [\"hPhiAside\",\"hPhiCside\",\"hEta\",\"h2DEtaPhi\",\"hPt\",\"hSign\",\"hQOverPt\",\"hNClustersAfterCuts\",\"h2DNClustersPhiAside\",\"h2DNClustersPhiCside\",\"h2DNClustersEta\",\"h2DNClustersPt\",\"hdEdxTotMIP_TPC\",\"hdEdxTotMIP_IROC\",\"hdEdxTotMIP_OROC1\",\"hdEdxTotMIP_OROC2\",\"hdEdxTotMIP_OROC3\",\"hdEdxTotMIPVsSec_TPC\",\"hdEdxTotMIPVsNcl_TPC\",\"hdEdxTotMIPVsTgl_TPC\",\"hdEdxTotMIPVsSnp_TPC\",\"h2DRPhinClustersAside\",\"h2DRPhiqTotAside\",\"hdEdxTotVsP_TPC\"]\n",
    "#these are not working right now \"h2DRPhinClustersAside\",\"h2DNClustersPhiAside\",\"h2DRPhiqTotAside\"\n",
    "objects_for_median = [\"hPhiAside\",\"hPhiCside\",\"hEta\",\"h2DEtaPhi\",\"hPt\",\"hSign\",\"hQOverPt\",\"hNClustersAfterCuts\",\"h2DNClustersPhiCside\",\"h2DNClustersEta\",\"h2DNClustersPt\",\"hdEdxTotMIP_TPC\",\"hdEdxTotMIP_IROC\",\"hdEdxTotMIP_OROC1\",\"hdEdxTotMIP_OROC2\",\"hdEdxTotMIP_OROC3\",\"hdEdxTotMIPVsSec_TPC\",\"hdEdxTotMIPVsNcl_TPC\",\"hdEdxTotMIPVsTgl_TPC\",\"hdEdxTotMIPVsSnp_TPC\",\"hdEdxTotVsP_TPC\"]\n",
    "\n",
    "for objects_for_median_name in objects_for_median:\n",
    "    [hist, legend, canvas, pad1] = drawHistograms(objects_for_median_name, rootDataFile, normalize=True, legend=True, legendNames=runList, pads=False, drawOption=\"SAME L\", xAxisRange=[-1.1, 1.1], grid=True)\n",
    "\n",
    "    medianHist = getMedianHistogram(hist)\n",
    "\n",
    "    if medianHist is None:\n",
    "        continue  # Skip to the next iteration of the loop\n",
    "        \n",
    "\n",
    "    # Create a new canvas\n",
    "    c = ROOT.TCanvas(objects_for_median_name, \"Canvas for Histogram\", 800, 600)\n",
    "    \n",
    "    # Draw the histogram on the new canvas\n",
    "    medianHist.Draw()\n",
    "    \n",
    "    c.Update()\n",
    "\n",
    "    # Navigate to the desired directory\n",
    "    outputfile.cd(medianHistsTracksQC.GetPath())\n",
    "    medianHist.Write()\n",
    "\n",
    "    # Draw trending\n",
    "    [trend, canvas] = drawTrending(objects_for_median_name, rootDataFile, names=runList, namesFromRunList=True, trend=\"kl_divergence\", error=error, log=\"none\", axis=1,meanHistogram=medianHist)\n",
    "\n",
    "    # Check trending and quality, which returns the desired objects\n",
    "    [qualities, canvas] = checkTrending(trend, canvas=canvas, thresholds={\"GOOD\": 1.5, \"MEDIUM\": 3, \"BAD\": 6})\n",
    "    qualityDF[objects_for_median_name] = qualities\n",
    "    \n",
    "    # Navigate to the desired directory\n",
    "    outputfile.cd(kl_divTracksQC.GetPath())\n",
    "    canvas.Write()"
   ]
  },
  {
   "cell_type": "code",
   "execution_count": null,
   "id": "72a2977b-96b2-4ee8-bebd-baddfaef3ecc",
   "metadata": {},
   "outputs": [],
   "source": [
    "# Don't forget to close the ROOT file to save all changes\n",
    "outputfile.Close()"
   ]
  },
  {
   "cell_type": "code",
   "execution_count": null,
   "id": "b4098cf3",
   "metadata": {},
   "outputs": [],
   "source": []
  }
 ],
 "metadata": {
  "kernelspec": {
   "display_name": "Python 3 (ipykernel)",
   "language": "python",
   "name": "python3"
  },
  "language_info": {
   "codemirror_mode": {
    "name": "ipython",
    "version": 3
   },
   "file_extension": ".py",
   "mimetype": "text/x-python",
   "name": "python",
   "nbconvert_exporter": "python",
   "pygments_lexer": "ipython3",
   "version": "3.9.16"
  },
  "toc": {
   "base_numbering": 1,
   "nav_menu": {},
   "number_sections": false,
   "sideBar": false,
   "skip_h1_title": true,
   "title_cell": "Table of Contents",
   "title_sidebar": "Contents",
   "toc_cell": true,
   "toc_position": {},
   "toc_section_display": true,
   "toc_window_display": false
  },
  "widgets": {
   "application/vnd.jupyter.widget-state+json": {
    "state": {
     "0406058ce7b34920a5002f002b388a11": {
      "model_module": "@jupyter-widgets/output",
      "model_module_version": "1.0.0",
      "model_name": "OutputModel",
      "state": {
       "layout": "IPY_MODEL_e5c089c3d1f54e06aa7c69d6be7b7d7a"
      }
     },
     "04f7abbb945649049c088602c240cddf": {
      "model_module": "@jupyter-widgets/controls",
      "model_module_version": "1.4.0",
      "model_name": "ButtonModel",
      "state": {
       "_model_module_version": "1.4.0",
       "_view_module_version": "1.4.0",
       "description": "Save to Root",
       "layout": "IPY_MODEL_a3a8439080a4433c8cfc3592bcac145a",
       "style": "IPY_MODEL_ca9438839a46429aaa3f24354ee42db5"
      }
     },
     "0879c08a037c40b59978c9acbf2b6698": {
      "model_module": "@jupyter-widgets/controls",
      "model_module_version": "1.4.0",
      "model_name": "ButtonStyleModel",
      "state": {
       "_model_module_version": "1.4.0",
       "_view_module_version": "1.1.0"
      }
     },
     "0e66ecb30df5491980f781135fa73613": {
      "model_module": "@jupyter-widgets/controls",
      "model_module_version": "1.4.0",
      "model_name": "ButtonStyleModel",
      "state": {
       "_model_module_version": "1.4.0",
       "_view_module_version": "1.1.0"
      }
     },
     "0ee941a35f4e48c0ae62d26a3e4022b9": {
      "model_module": "@jupyter-widgets/controls",
      "model_module_version": "1.4.0",
      "model_name": "ButtonModel",
      "state": {
       "_model_module_version": "1.4.0",
       "_view_module_version": "1.4.0",
       "description": "Save to Root",
       "layout": "IPY_MODEL_4e0b4767d50c45d4a3059b25b084f5ae",
       "style": "IPY_MODEL_6f24f617f4e8405baa6588f13c520940"
      }
     },
     "1088528976754aab8271549957380321": {
      "model_module": "@jupyter-widgets/controls",
      "model_module_version": "1.4.0",
      "model_name": "ButtonModel",
      "state": {
       "_model_module_version": "1.4.0",
       "_view_module_version": "1.4.0",
       "description": "Save to PDF",
       "layout": "IPY_MODEL_56dbdc8b10b144ecab1eb0b2dd996fbe",
       "style": "IPY_MODEL_0879c08a037c40b59978c9acbf2b6698"
      }
     },
     "10ee510d3cee4e4fbc3f48e8b75680c2": {
      "model_module": "@jupyter-widgets/base",
      "model_module_version": "1.1.0",
      "model_name": "LayoutModel",
      "state": {
       "_model_module_version": "1.1.0",
       "_view_module_version": "1.1.0",
       "border": null,
       "overflow_x": null,
       "overflow_y": null
      }
     },
     "20e680f74b7d40f395649181965c1d39": {
      "model_module": "@jupyter-widgets/controls",
      "model_module_version": "1.4.0",
      "model_name": "ButtonStyleModel",
      "state": {
       "_model_module_version": "1.4.0",
       "_view_module_version": "1.1.0"
      }
     },
     "26fda7ba48bf41428588a380515d67c5": {
      "model_module": "@jupyter-widgets/base",
      "model_module_version": "1.1.0",
      "model_name": "LayoutModel",
      "state": {
       "_model_module_version": "1.1.0",
       "_view_module_version": "1.1.0",
       "border": null,
       "overflow_x": null,
       "overflow_y": null
      }
     },
     "2926bb68cdaa4f858a67ce97bd19c469": {
      "model_module": "@jupyter-widgets/output",
      "model_module_version": "1.0.0",
      "model_name": "OutputModel",
      "state": {
       "layout": "IPY_MODEL_9eb16856a0e443978661ce094f708029"
      }
     },
     "2ae503cdb98942fd9cfe9369ff0968de": {
      "model_module": "@jupyter-widgets/base",
      "model_module_version": "1.1.0",
      "model_name": "LayoutModel",
      "state": {
       "_model_module_version": "1.1.0",
       "_view_module_version": "1.1.0",
       "border": null,
       "overflow_x": null,
       "overflow_y": null
      }
     },
     "36c7b3e4573e44f19456b149ff230bc6": {
      "model_module": "@jupyter-widgets/base",
      "model_module_version": "1.1.0",
      "model_name": "LayoutModel",
      "state": {
       "_model_module_version": "1.1.0",
       "_view_module_version": "1.1.0",
       "border": null,
       "overflow_x": null,
       "overflow_y": null
      }
     },
     "384fad664c4549dbbfc6371a56598c46": {
      "model_module": "@jupyter-widgets/controls",
      "model_module_version": "1.4.0",
      "model_name": "ButtonStyleModel",
      "state": {
       "_model_module_version": "1.4.0",
       "_view_module_version": "1.1.0"
      }
     },
     "395a63505c3c454cac74c6db62abe6ec": {
      "model_module": "@jupyter-widgets/base",
      "model_module_version": "1.1.0",
      "model_name": "LayoutModel",
      "state": {
       "_model_module_version": "1.1.0",
       "_view_module_version": "1.1.0",
       "border": null,
       "overflow_x": null,
       "overflow_y": null
      }
     },
     "3af37c07964a4ae7b4c80a9e18031e8c": {
      "model_module": "@jupyter-widgets/base",
      "model_module_version": "1.1.0",
      "model_name": "LayoutModel",
      "state": {
       "_model_module_version": "1.1.0",
       "_view_module_version": "1.1.0",
       "border": null,
       "overflow_x": null,
       "overflow_y": null
      }
     },
     "3dcab56d27034a0a9cd076681a0c3af3": {
      "model_module": "@jupyter-widgets/controls",
      "model_module_version": "1.4.0",
      "model_name": "ButtonStyleModel",
      "state": {
       "_model_module_version": "1.4.0",
       "_view_module_version": "1.1.0"
      }
     },
     "4e0b4767d50c45d4a3059b25b084f5ae": {
      "model_module": "@jupyter-widgets/base",
      "model_module_version": "1.1.0",
      "model_name": "LayoutModel",
      "state": {
       "_model_module_version": "1.1.0",
       "_view_module_version": "1.1.0",
       "border": null,
       "overflow_x": null,
       "overflow_y": null
      }
     },
     "50ad71ba430a4e65af089a66a036d98f": {
      "model_module": "@jupyter-widgets/output",
      "model_module_version": "1.0.0",
      "model_name": "OutputModel",
      "state": {
       "layout": "IPY_MODEL_7afbf7a09ee940d988779e898d39f6b1",
       "outputs": [
        {
         "ename": "NameError",
         "evalue": "name 'TFile' is not defined",
         "output_type": "error",
         "traceback": [
          "\u001b[0;31m---------------------------------------------------------------------------\u001b[0m",
          "\u001b[0;31mNameError\u001b[0m                                 Traceback (most recent call last)",
          "\u001b[0;32m<ipython-input-43-4b1715ce1e25>\u001b[0m in \u001b[0;36msaveButtonRoot\u001b[0;34m(b)\u001b[0m\n\u001b[1;32m      5\u001b[0m \u001b[0;32mdef\u001b[0m \u001b[0msaveButtonRoot\u001b[0m\u001b[0;34m(\u001b[0m\u001b[0mb\u001b[0m\u001b[0;34m)\u001b[0m\u001b[0;34m:\u001b[0m\u001b[0;34m\u001b[0m\u001b[0;34m\u001b[0m\u001b[0m\n\u001b[1;32m      6\u001b[0m     \u001b[0;32mwith\u001b[0m \u001b[0moutput\u001b[0m\u001b[0;34m:\u001b[0m\u001b[0;34m\u001b[0m\u001b[0;34m\u001b[0m\u001b[0m\n\u001b[0;32m----> 7\u001b[0;31m         \u001b[0;32mwith\u001b[0m \u001b[0mTFile\u001b[0m\u001b[0;34m(\u001b[0m\u001b[0;34m\"file1.root\"\u001b[0m\u001b[0;34m,\u001b[0m \u001b[0;34m\"recreate\"\u001b[0m\u001b[0;34m)\u001b[0m \u001b[0;32mas\u001b[0m \u001b[0moutfile\u001b[0m\u001b[0;34m:\u001b[0m\u001b[0;34m\u001b[0m\u001b[0;34m\u001b[0m\u001b[0m\n\u001b[0m\u001b[1;32m      8\u001b[0m             \u001b[0moutfile\u001b[0m\u001b[0;34m.\u001b[0m\u001b[0mWriteObject\u001b[0m\u001b[0;34m(\u001b[0m\u001b[0mcanvas\u001b[0m\u001b[0;34m,\u001b[0m \u001b[0;34m\"myCanvas\"\u001b[0m\u001b[0;34m)\u001b[0m\u001b[0;34m\u001b[0m\u001b[0;34m\u001b[0m\u001b[0m\n",
          "\u001b[0;31mNameError\u001b[0m: name 'TFile' is not defined"
         ]
        }
       ]
      }
     },
     "56dbdc8b10b144ecab1eb0b2dd996fbe": {
      "model_module": "@jupyter-widgets/base",
      "model_module_version": "1.1.0",
      "model_name": "LayoutModel",
      "state": {
       "_model_module_version": "1.1.0",
       "_view_module_version": "1.1.0",
       "border": null,
       "overflow_x": null,
       "overflow_y": null
      }
     },
     "60e33b896df246778339f4dff4be8f25": {
      "model_module": "@jupyter-widgets/controls",
      "model_module_version": "1.4.0",
      "model_name": "ButtonModel",
      "state": {
       "_model_module_version": "1.4.0",
       "_view_module_version": "1.4.0",
       "description": "Save to PDF",
       "layout": "IPY_MODEL_395a63505c3c454cac74c6db62abe6ec",
       "style": "IPY_MODEL_818a6a2006cd45a685b9b1bbc4db9c76"
      }
     },
     "62f5350b3b1440088cb5206a67058fde": {
      "model_module": "@jupyter-widgets/base",
      "model_module_version": "1.1.0",
      "model_name": "LayoutModel",
      "state": {
       "_model_module_version": "1.1.0",
       "_view_module_version": "1.1.0",
       "border": null,
       "overflow_x": null,
       "overflow_y": null
      }
     },
     "695713c99706467f875821a5ef7f992e": {
      "model_module": "@jupyter-widgets/controls",
      "model_module_version": "1.4.0",
      "model_name": "ButtonStyleModel",
      "state": {
       "_model_module_version": "1.4.0",
       "_view_module_version": "1.1.0"
      }
     },
     "6a80bacd37dd4454a07080adc1395665": {
      "model_module": "@jupyter-widgets/base",
      "model_module_version": "1.1.0",
      "model_name": "LayoutModel",
      "state": {
       "_model_module_version": "1.1.0",
       "_view_module_version": "1.1.0",
       "border": null,
       "overflow_x": null,
       "overflow_y": null
      }
     },
     "6b44fe66f54148a9995780522c1665ad": {
      "model_module": "@jupyter-widgets/controls",
      "model_module_version": "1.4.0",
      "model_name": "ButtonModel",
      "state": {
       "_model_module_version": "1.4.0",
       "_view_module_version": "1.4.0",
       "description": "Save to Root",
       "layout": "IPY_MODEL_36c7b3e4573e44f19456b149ff230bc6",
       "style": "IPY_MODEL_72aeead3a6904e9ea2c2a224224a8c63"
      }
     },
     "6f24f617f4e8405baa6588f13c520940": {
      "model_module": "@jupyter-widgets/controls",
      "model_module_version": "1.4.0",
      "model_name": "ButtonStyleModel",
      "state": {
       "_model_module_version": "1.4.0",
       "_view_module_version": "1.1.0"
      }
     },
     "72aeead3a6904e9ea2c2a224224a8c63": {
      "model_module": "@jupyter-widgets/controls",
      "model_module_version": "1.4.0",
      "model_name": "ButtonStyleModel",
      "state": {
       "_model_module_version": "1.4.0",
       "_view_module_version": "1.1.0"
      }
     },
     "7afbf7a09ee940d988779e898d39f6b1": {
      "model_module": "@jupyter-widgets/base",
      "model_module_version": "1.1.0",
      "model_name": "LayoutModel",
      "state": {
       "_model_module_version": "1.1.0",
       "_view_module_version": "1.1.0",
       "border": null,
       "overflow_x": null,
       "overflow_y": null
      }
     },
     "818a6a2006cd45a685b9b1bbc4db9c76": {
      "model_module": "@jupyter-widgets/controls",
      "model_module_version": "1.4.0",
      "model_name": "ButtonStyleModel",
      "state": {
       "_model_module_version": "1.4.0",
       "_view_module_version": "1.1.0"
      }
     },
     "823ef688583b43b3b7dc29e5d3422aa8": {
      "model_module": "@jupyter-widgets/output",
      "model_module_version": "1.0.0",
      "model_name": "OutputModel",
      "state": {
       "layout": "IPY_MODEL_8aa1aa0ffe69479fba520c5f0e95576b"
      }
     },
     "831b63241ada4949ae7ddc9cf3f6f3ad": {
      "model_module": "@jupyter-widgets/base",
      "model_module_version": "1.1.0",
      "model_name": "LayoutModel",
      "state": {
       "_model_module_version": "1.1.0",
       "_view_module_version": "1.1.0",
       "border": null,
       "overflow_x": null,
       "overflow_y": null
      }
     },
     "8417421b463a46c9872d37497c3b663d": {
      "model_module": "@jupyter-widgets/controls",
      "model_module_version": "1.4.0",
      "model_name": "ButtonModel",
      "state": {
       "_model_module_version": "1.4.0",
       "_view_module_version": "1.4.0",
       "description": "Save to Root",
       "layout": "IPY_MODEL_9a4fe9d3c94d4621bf792f335bbd40fe",
       "style": "IPY_MODEL_f771512ee9df4ba5bee6a026a4e83de5"
      }
     },
     "8aa1aa0ffe69479fba520c5f0e95576b": {
      "model_module": "@jupyter-widgets/base",
      "model_module_version": "1.1.0",
      "model_name": "LayoutModel",
      "state": {
       "_model_module_version": "1.1.0",
       "_view_module_version": "1.1.0",
       "border": null,
       "overflow_x": null,
       "overflow_y": null
      }
     },
     "8d62ef6a181e417c949955ba277e179d": {
      "model_module": "@jupyter-widgets/output",
      "model_module_version": "1.0.0",
      "model_name": "OutputModel",
      "state": {
       "layout": "IPY_MODEL_b9925dbb44cf40f0a3e0fa6aaff4d77f",
       "outputs": [
        {
         "ename": "AttributeError",
         "evalue": "__enter__",
         "output_type": "error",
         "traceback": [
          "\u001b[0;31m---------------------------------------------------------------------------\u001b[0m",
          "\u001b[0;31mAttributeError\u001b[0m                            Traceback (most recent call last)",
          "\u001b[0;32m<ipython-input-46-87e37fcb9b6d>\u001b[0m in \u001b[0;36msaveButtonRoot\u001b[0;34m(b)\u001b[0m\n\u001b[1;32m      5\u001b[0m \u001b[0;32mdef\u001b[0m \u001b[0msaveButtonRoot\u001b[0m\u001b[0;34m(\u001b[0m\u001b[0mb\u001b[0m\u001b[0;34m)\u001b[0m\u001b[0;34m:\u001b[0m\u001b[0;34m\u001b[0m\u001b[0;34m\u001b[0m\u001b[0m\n\u001b[1;32m      6\u001b[0m     \u001b[0;32mwith\u001b[0m \u001b[0moutput\u001b[0m\u001b[0;34m:\u001b[0m\u001b[0;34m\u001b[0m\u001b[0;34m\u001b[0m\u001b[0m\n\u001b[0;32m----> 7\u001b[0;31m         \u001b[0;32mwith\u001b[0m \u001b[0mROOT\u001b[0m\u001b[0;34m.\u001b[0m\u001b[0mTFile\u001b[0m\u001b[0;34m(\u001b[0m\u001b[0;34m\"file1.root\"\u001b[0m\u001b[0;34m,\u001b[0m \u001b[0;34m\"recreate\"\u001b[0m\u001b[0;34m)\u001b[0m \u001b[0;32mas\u001b[0m \u001b[0moutfile\u001b[0m\u001b[0;34m:\u001b[0m\u001b[0;34m\u001b[0m\u001b[0;34m\u001b[0m\u001b[0m\n\u001b[0m\u001b[1;32m      8\u001b[0m             \u001b[0moutfile\u001b[0m\u001b[0;34m.\u001b[0m\u001b[0mWriteObject\u001b[0m\u001b[0;34m(\u001b[0m\u001b[0mcanvas\u001b[0m\u001b[0;34m,\u001b[0m \u001b[0;34m\"myCanvas\"\u001b[0m\u001b[0;34m)\u001b[0m\u001b[0;34m\u001b[0m\u001b[0;34m\u001b[0m\u001b[0m\n",
          "\u001b[0;31mAttributeError\u001b[0m: __enter__"
         ]
        },
        {
         "ename": "AttributeError",
         "evalue": "__enter__",
         "output_type": "error",
         "traceback": [
          "\u001b[0;31m---------------------------------------------------------------------------\u001b[0m",
          "\u001b[0;31mAttributeError\u001b[0m                            Traceback (most recent call last)",
          "\u001b[0;32m<ipython-input-46-87e37fcb9b6d>\u001b[0m in \u001b[0;36msaveButtonRoot\u001b[0;34m(b)\u001b[0m\n\u001b[1;32m      5\u001b[0m \u001b[0;32mdef\u001b[0m \u001b[0msaveButtonRoot\u001b[0m\u001b[0;34m(\u001b[0m\u001b[0mb\u001b[0m\u001b[0;34m)\u001b[0m\u001b[0;34m:\u001b[0m\u001b[0;34m\u001b[0m\u001b[0;34m\u001b[0m\u001b[0m\n\u001b[1;32m      6\u001b[0m     \u001b[0;32mwith\u001b[0m \u001b[0moutput\u001b[0m\u001b[0;34m:\u001b[0m\u001b[0;34m\u001b[0m\u001b[0;34m\u001b[0m\u001b[0m\n\u001b[0;32m----> 7\u001b[0;31m         \u001b[0;32mwith\u001b[0m \u001b[0mROOT\u001b[0m\u001b[0;34m.\u001b[0m\u001b[0mTFile\u001b[0m\u001b[0;34m(\u001b[0m\u001b[0;34m\"file1.root\"\u001b[0m\u001b[0;34m,\u001b[0m \u001b[0;34m\"recreate\"\u001b[0m\u001b[0;34m)\u001b[0m \u001b[0;32mas\u001b[0m \u001b[0moutfile\u001b[0m\u001b[0;34m:\u001b[0m\u001b[0;34m\u001b[0m\u001b[0;34m\u001b[0m\u001b[0m\n\u001b[0m\u001b[1;32m      8\u001b[0m             \u001b[0moutfile\u001b[0m\u001b[0;34m.\u001b[0m\u001b[0mWriteObject\u001b[0m\u001b[0;34m(\u001b[0m\u001b[0mcanvas\u001b[0m\u001b[0;34m,\u001b[0m \u001b[0;34m\"myCanvas\"\u001b[0m\u001b[0;34m)\u001b[0m\u001b[0;34m\u001b[0m\u001b[0;34m\u001b[0m\u001b[0m\n",
          "\u001b[0;31mAttributeError\u001b[0m: __enter__"
         ]
        }
       ]
      }
     },
     "9242204266e343ae8a441c776e80f4f0": {
      "model_module": "@jupyter-widgets/controls",
      "model_module_version": "1.4.0",
      "model_name": "ButtonStyleModel",
      "state": {
       "_model_module_version": "1.4.0",
       "_view_module_version": "1.1.0"
      }
     },
     "929e5779ad394a799083037ff870d526": {
      "model_module": "@jupyter-widgets/controls",
      "model_module_version": "1.4.0",
      "model_name": "ButtonStyleModel",
      "state": {
       "_model_module_version": "1.4.0",
       "_view_module_version": "1.1.0"
      }
     },
     "93749ab864be49de92dbce533bdae34f": {
      "model_module": "@jupyter-widgets/base",
      "model_module_version": "1.1.0",
      "model_name": "LayoutModel",
      "state": {
       "_model_module_version": "1.1.0",
       "_view_module_version": "1.1.0",
       "border": null,
       "overflow_x": null,
       "overflow_y": null
      }
     },
     "938ac682ac6545cfb80a6da1bc8c26c1": {
      "model_module": "@jupyter-widgets/output",
      "model_module_version": "1.0.0",
      "model_name": "OutputModel",
      "state": {
       "layout": "IPY_MODEL_ce589ac0e83d4bd38fd711550e349c6a"
      }
     },
     "9a4fe9d3c94d4621bf792f335bbd40fe": {
      "model_module": "@jupyter-widgets/base",
      "model_module_version": "1.1.0",
      "model_name": "LayoutModel",
      "state": {
       "_model_module_version": "1.1.0",
       "_view_module_version": "1.1.0",
       "border": null,
       "overflow_x": null,
       "overflow_y": null
      }
     },
     "9e2719717feb49c9938e46061e59b4a1": {
      "model_module": "@jupyter-widgets/output",
      "model_module_version": "1.0.0",
      "model_name": "OutputModel",
      "state": {
       "layout": "IPY_MODEL_10ee510d3cee4e4fbc3f48e8b75680c2"
      }
     },
     "9eb16856a0e443978661ce094f708029": {
      "model_module": "@jupyter-widgets/base",
      "model_module_version": "1.1.0",
      "model_name": "LayoutModel",
      "state": {
       "_model_module_version": "1.1.0",
       "_view_module_version": "1.1.0",
       "border": null,
       "overflow_x": null,
       "overflow_y": null
      }
     },
     "9fdc5097fef143f580581ed9f63baf19": {
      "model_module": "@jupyter-widgets/controls",
      "model_module_version": "1.4.0",
      "model_name": "ButtonModel",
      "state": {
       "_model_module_version": "1.4.0",
       "_view_module_version": "1.4.0",
       "description": "Save to PDF",
       "layout": "IPY_MODEL_6a80bacd37dd4454a07080adc1395665",
       "style": "IPY_MODEL_9242204266e343ae8a441c776e80f4f0"
      }
     },
     "a0caf4fc7e3e4a0daf064e63c0e3234a": {
      "model_module": "@jupyter-widgets/output",
      "model_module_version": "1.0.0",
      "model_name": "OutputModel",
      "state": {
       "layout": "IPY_MODEL_93749ab864be49de92dbce533bdae34f"
      }
     },
     "a2eef3a45bed4115932b9e88827850e1": {
      "model_module": "@jupyter-widgets/controls",
      "model_module_version": "1.4.0",
      "model_name": "ButtonModel",
      "state": {
       "_model_module_version": "1.4.0",
       "_view_module_version": "1.4.0",
       "description": "Save to PDF",
       "layout": "IPY_MODEL_831b63241ada4949ae7ddc9cf3f6f3ad",
       "style": "IPY_MODEL_20e680f74b7d40f395649181965c1d39"
      }
     },
     "a39b71b5f18a4a3089aae76958a3cc55": {
      "model_module": "@jupyter-widgets/base",
      "model_module_version": "1.1.0",
      "model_name": "LayoutModel",
      "state": {
       "_model_module_version": "1.1.0",
       "_view_module_version": "1.1.0",
       "border": null,
       "overflow_x": null,
       "overflow_y": null
      }
     },
     "a3a8439080a4433c8cfc3592bcac145a": {
      "model_module": "@jupyter-widgets/base",
      "model_module_version": "1.1.0",
      "model_name": "LayoutModel",
      "state": {
       "_model_module_version": "1.1.0",
       "_view_module_version": "1.1.0",
       "border": null,
       "overflow_x": null,
       "overflow_y": null
      }
     },
     "a8c867acf084415fba648604326f8c9d": {
      "model_module": "@jupyter-widgets/controls",
      "model_module_version": "1.4.0",
      "model_name": "ButtonStyleModel",
      "state": {
       "_model_module_version": "1.4.0",
       "_view_module_version": "1.1.0"
      }
     },
     "b635d6f1a72043699079245523aadc13": {
      "model_module": "@jupyter-widgets/base",
      "model_module_version": "1.1.0",
      "model_name": "LayoutModel",
      "state": {
       "_model_module_version": "1.1.0",
       "_view_module_version": "1.1.0",
       "border": null,
       "overflow_x": null,
       "overflow_y": null
      }
     },
     "b97779ed35cd4f1f8b3d360fd1d1cc0e": {
      "model_module": "@jupyter-widgets/controls",
      "model_module_version": "1.4.0",
      "model_name": "ButtonModel",
      "state": {
       "_model_module_version": "1.4.0",
       "_view_module_version": "1.4.0",
       "description": "Save to PDF",
       "layout": "IPY_MODEL_b635d6f1a72043699079245523aadc13",
       "style": "IPY_MODEL_0e66ecb30df5491980f781135fa73613"
      }
     },
     "b9925dbb44cf40f0a3e0fa6aaff4d77f": {
      "model_module": "@jupyter-widgets/base",
      "model_module_version": "1.1.0",
      "model_name": "LayoutModel",
      "state": {
       "_model_module_version": "1.1.0",
       "_view_module_version": "1.1.0",
       "border": null,
       "overflow_x": null,
       "overflow_y": null
      }
     },
     "c38d6de6905f44c4b32b9c73fb8276ba": {
      "model_module": "@jupyter-widgets/controls",
      "model_module_version": "1.4.0",
      "model_name": "ButtonModel",
      "state": {
       "_model_module_version": "1.4.0",
       "_view_module_version": "1.4.0",
       "description": "Save to PDF",
       "layout": "IPY_MODEL_fa9655bf72304c2bb97bf8c45500503b",
       "style": "IPY_MODEL_929e5779ad394a799083037ff870d526"
      }
     },
     "c52a903ddba4487e93fc08785f78bdbe": {
      "model_module": "@jupyter-widgets/controls",
      "model_module_version": "1.4.0",
      "model_name": "ButtonModel",
      "state": {
       "_model_module_version": "1.4.0",
       "_view_module_version": "1.4.0",
       "description": "Save to PDF",
       "layout": "IPY_MODEL_26fda7ba48bf41428588a380515d67c5",
       "style": "IPY_MODEL_695713c99706467f875821a5ef7f992e"
      }
     },
     "ca9438839a46429aaa3f24354ee42db5": {
      "model_module": "@jupyter-widgets/controls",
      "model_module_version": "1.4.0",
      "model_name": "ButtonStyleModel",
      "state": {
       "_model_module_version": "1.4.0",
       "_view_module_version": "1.1.0"
      }
     },
     "cce918eab1414c88ad12d08f31aaac47": {
      "model_module": "@jupyter-widgets/controls",
      "model_module_version": "1.4.0",
      "model_name": "ButtonModel",
      "state": {
       "_model_module_version": "1.4.0",
       "_view_module_version": "1.4.0",
       "description": "Save to PDF",
       "layout": "IPY_MODEL_f2a3cad8e9254cc9af9a6ed86874d83d",
       "style": "IPY_MODEL_a8c867acf084415fba648604326f8c9d"
      }
     },
     "ce589ac0e83d4bd38fd711550e349c6a": {
      "model_module": "@jupyter-widgets/base",
      "model_module_version": "1.1.0",
      "model_name": "LayoutModel",
      "state": {
       "_model_module_version": "1.1.0",
       "_view_module_version": "1.1.0",
       "border": null,
       "overflow_x": null,
       "overflow_y": null
      }
     },
     "d3e65f21f57643d188d5b1e4b7c7775c": {
      "model_module": "@jupyter-widgets/controls",
      "model_module_version": "1.4.0",
      "model_name": "ButtonModel",
      "state": {
       "_model_module_version": "1.4.0",
       "_view_module_version": "1.4.0",
       "description": "Save to PDF",
       "layout": "IPY_MODEL_a39b71b5f18a4a3089aae76958a3cc55",
       "style": "IPY_MODEL_384fad664c4549dbbfc6371a56598c46"
      }
     },
     "d4b09a17060d4dc19cad65f89af8b8b1": {
      "model_module": "@jupyter-widgets/controls",
      "model_module_version": "1.4.0",
      "model_name": "ButtonModel",
      "state": {
       "_model_module_version": "1.4.0",
       "_view_module_version": "1.4.0",
       "description": "Save to PDF",
       "layout": "IPY_MODEL_62f5350b3b1440088cb5206a67058fde",
       "style": "IPY_MODEL_3dcab56d27034a0a9cd076681a0c3af3"
      }
     },
     "e5c089c3d1f54e06aa7c69d6be7b7d7a": {
      "model_module": "@jupyter-widgets/base",
      "model_module_version": "1.1.0",
      "model_name": "LayoutModel",
      "state": {
       "_model_module_version": "1.1.0",
       "_view_module_version": "1.1.0",
       "border": null,
       "overflow_x": null,
       "overflow_y": null
      }
     },
     "e6380f2797b54ba8b9859882ee113294": {
      "model_module": "@jupyter-widgets/output",
      "model_module_version": "1.0.0",
      "model_name": "OutputModel",
      "state": {
       "layout": "IPY_MODEL_3af37c07964a4ae7b4c80a9e18031e8c"
      }
     },
     "f2a3cad8e9254cc9af9a6ed86874d83d": {
      "model_module": "@jupyter-widgets/base",
      "model_module_version": "1.1.0",
      "model_name": "LayoutModel",
      "state": {
       "_model_module_version": "1.1.0",
       "_view_module_version": "1.1.0",
       "border": null,
       "overflow_x": null,
       "overflow_y": null
      }
     },
     "f771512ee9df4ba5bee6a026a4e83de5": {
      "model_module": "@jupyter-widgets/controls",
      "model_module_version": "1.4.0",
      "model_name": "ButtonStyleModel",
      "state": {
       "_model_module_version": "1.4.0",
       "_view_module_version": "1.1.0"
      }
     },
     "f7b6aafe840345ad9c68def299dd0a29": {
      "model_module": "@jupyter-widgets/output",
      "model_module_version": "1.0.0",
      "model_name": "OutputModel",
      "state": {
       "layout": "IPY_MODEL_2ae503cdb98942fd9cfe9369ff0968de"
      }
     },
     "fa9655bf72304c2bb97bf8c45500503b": {
      "model_module": "@jupyter-widgets/base",
      "model_module_version": "1.1.0",
      "model_name": "LayoutModel",
      "state": {
       "_model_module_version": "1.1.0",
       "_view_module_version": "1.1.0",
       "border": null,
       "overflow_x": null,
       "overflow_y": null
      }
     }
    },
    "version_major": 2,
    "version_minor": 0
   }
  }
 },
 "nbformat": 4,
 "nbformat_minor": 5
}
