{
 "cells": [
  {
   "cell_type": "code",
   "execution_count": null,
   "id": "9987d362",
   "metadata": {
    "slideshow": {
     "slide_type": "skip"
    }
   },
   "outputs": [],
   "source": [
    "import ROOT\n",
    "import glob\n",
    "import math\n",
    "from IPython.display import display, Markdown, HTML\n",
    "display(HTML(\"<style>.container { width:90% !important; }</style>\"))"
   ]
  },
  {
   "cell_type": "code",
   "execution_count": null,
   "id": "9607f398",
   "metadata": {
    "slideshow": {
     "slide_type": "skip"
    }
   },
   "outputs": [],
   "source": [
    "# Read the Root Files\n",
    "path = \"/home/berki/Software/TPCQCVis/data/userFiles/\"\n",
    "fileList = glob.glob(path+\"apass4_*.root\")\n",
    "fileList.sort()\n",
    "rootDataFile=[]\n",
    "for file in fileList:\n",
    "    rootDataFile.append(ROOT.TFile.Open(file,\"READ\"))"
   ]
  },
  {
   "cell_type": "code",
   "execution_count": null,
   "id": "00abea28",
   "metadata": {
    "slideshow": {
     "slide_type": "skip"
    }
   },
   "outputs": [],
   "source": [
    "#Visual settings\n",
    "#ROOT.gStyle.SetOptStat(0)"
   ]
  },
  {
   "cell_type": "markdown",
   "id": "ad31f554",
   "metadata": {},
   "source": [
    "# TPC: Report on async QC\n",
    "### Looking at async pass4 of the 21' pilot beam\n",
    "\n",
    "**Relevant links:**\n",
    "+ apass4: https://alice.its.cern.ch/jira/browse/O2-2980\n",
    "+ apass3: https://alice.its.cern.ch/jira/browse/O2-2798\n",
    "+ Report on apass3 TPC QC by Stean H.: https://alice.its.cern.ch/jira/secure/attachment/57432/TPC-QC_20220408_SH_apass3.pdf\n",
    "\n",
    "**General comments:**\n",
    "+ Small issues spotted in apass3 remain, otherwise `OK`\n",
    " + pT spectra: strange splitting up at high pT, two sets of runs (not according to B field)\n",
    " + eta vs. phi: visible depletion in run 505673 on C side around phi = 4.5"
   ]
  },
  {
   "cell_type": "code",
   "execution_count": null,
   "id": "6104cfe2",
   "metadata": {
    "slideshow": {
     "slide_type": "slide"
    }
   },
   "outputs": [],
   "source": [
    "%jsroot on\n",
    "c = ROOT.TCanvas(\"dEdxTot\",\"dEdxTot\",800,600)\n",
    "legend = ROOT.TLegend()\n",
    "legend.SetHeader(\"Normalized to integral\")\n",
    "for i in range(len(rootDataFile)):\n",
    "    hist = rootDataFile[i].PID.Get(\"hdEdxTot;1\")\n",
    "    legend.AddEntry(hist, fileList[i][len(path):-5], \"l\")\n",
    "    hist.Scale(1/hist.Integral())\n",
    "    hist.SetLineWidth(3)\n",
    "    hist.SetLineColor(i+1)\n",
    "    hist.SetTitle(\"dEdxTot\")\n",
    "    hist.Draw(\"HIST SAME\")\n",
    "\n",
    "legend.Draw()\n",
    "c.Draw() \n",
    "\n",
    "display(Markdown('### 1D energy loss distribution:'))\n",
    "display(Markdown('Shape as expected on all runs: **OK**'))"
   ]
  },
  {
   "cell_type": "code",
   "execution_count": null,
   "id": "eb3b6f78",
   "metadata": {
    "slideshow": {
     "slide_type": "slide"
    }
   },
   "outputs": [],
   "source": [
    "%jsroot on\n",
    "c = ROOT.TCanvas(\"Pt\",\"Pt\",1200,600)\n",
    "c.Divide(2,1)\n",
    "legend = ROOT.TLegend()\n",
    "legend.SetHeader(\"Normalized to integral\")\n",
    "c.cd(1)\n",
    "for i in range(len(rootDataFile)):\n",
    "    hist = rootDataFile[i].PID.Get(\"hdEdxMips;1\")\n",
    "    legend.AddEntry(hist, fileList[i][len(path):-5], \"l\")\n",
    "    hist.Scale(1/hist.Integral())\n",
    "    hist.SetLineColor(i+1)\n",
    "    hist.SetLineWidth(3)\n",
    "    hist.Draw(\"SAME HIST\")\n",
    "legend.Draw()\n",
    "c.cd(2)\n",
    "for i in range(len(rootDataFile)):\n",
    "    hist = rootDataFile[i].PID.Get(\"hdEdxEles;1\")\n",
    "    hist.Scale(1/hist.Integral())\n",
    "    hist.SetLineWidth(3)\n",
    "    hist.SetLineColor(i+1)\n",
    "    hist.Draw(\"SAME HIST\")    \n",
    "legend.Draw()\n",
    "c.Draw()\n",
    "\n",
    "display(Markdown('---\\n'+'### 1D energy loss distribution of MIPs and electrons:'))\n",
    "display(Markdown('**MIPS**:\\n'+\n",
    "                 'Shape as expected and centered at 50 on all runs: **OK**'))\n",
    "display(Markdown('**Electrons**:\\n'+\n",
    "                 'Shape as expected on all runs: **OK**'))"
   ]
  },
  {
   "cell_type": "code",
   "execution_count": null,
   "id": "b006ef02",
   "metadata": {
    "slideshow": {
     "slide_type": "slide"
    }
   },
   "outputs": [],
   "source": [
    "%jsroot on\n",
    "c = ROOT.TCanvas(\"clusters\",\"Normalized clusters\",800,600)\n",
    "legend = ROOT.TLegend()\n",
    "legend.SetHeader(\"Normalized to integral\")\n",
    "for i in range(len(rootDataFile)):\n",
    "    hist = rootDataFile[i].PID.Get(\"hNClusters;1\")\n",
    "    legend.AddEntry(hist, fileList[i][len(path):-5], \"l\")\n",
    "    hist.Scale(1/hist.Integral())\n",
    "    hist.SetLineWidth(3)\n",
    "    hist.SetLineColor(i+1)\n",
    "    hist.SetMaximum(30e-3)\n",
    "    hist.Draw(\"SAME HIST\")\n",
    "\n",
    "legend.Draw()\n",
    "c.Draw()\n",
    "\n",
    "display(Markdown('---\\n'+'### nClusters per track:'))\n",
    "display(Markdown('Shape as expected on all runs: **OK** <br> The peak at 85 can still be observed, investigation ongoing.'))"
   ]
  },
  {
   "cell_type": "code",
   "execution_count": null,
   "id": "2a9f1616",
   "metadata": {
    "slideshow": {
     "slide_type": "slide"
    }
   },
   "outputs": [],
   "source": [
    "%jsroot on\n",
    "c = ROOT.TCanvas(\"Sign\",\"Normalized sign\",800,600)\n",
    "\n",
    "legend = ROOT.TLegend()\n",
    "for i in range(len(rootDataFile)):\n",
    "    hist = rootDataFile[i].Tracks.Get(\"hSign;1\")\n",
    "    legend.AddEntry(hist, fileList[i][len(path):-5], \"l\")\n",
    "    hist.Scale(1/hist.Integral())\n",
    "    hist.SetMaximum(1)\n",
    "    hist.SetMinimum(0)\n",
    "    hist.SetLineColor(i+1)\n",
    "    hist.SetLineWidth(3)\n",
    "    hist.Draw(\"SAME HIST\")\n",
    "\n",
    "legend.Draw()\n",
    "c.Draw()\n",
    "display(Markdown('---\\n'+'### Electric charge sign:'))\n",
    "display(Markdown('Rate as expected: **OK**'))"
   ]
  },
  {
   "cell_type": "code",
   "execution_count": null,
   "id": "66fdddcc",
   "metadata": {
    "slideshow": {
     "slide_type": "slide"
    }
   },
   "outputs": [],
   "source": [
    "%jsroot on\n",
    "c = ROOT.TCanvas(\"Pt\",\"Pt\",1200,600)\n",
    "c.Divide(2,1)\n",
    "legend = ROOT.TLegend()\n",
    "legend.SetHeader(\"Normalized to integral\")\n",
    "c.cd(1)\n",
    "for i in range(len(rootDataFile)):\n",
    "    hist = rootDataFile[i].Tracks.Get(\"hPtNeg;1\")\n",
    "    legend.AddEntry(hist, fileList[i][len(path):-5], \"l\")\n",
    "    hist.Scale(1/hist.Integral())\n",
    "    hist.SetLineWidth(3) \n",
    "    hist.SetLineColor(i+1)\n",
    "    hist.Draw(\"SAME HIST\")\n",
    "legend.Draw()\n",
    "ROOT.gPad.SetLogx()\n",
    "c.cd(2)\n",
    "for i in range(len(rootDataFile)):\n",
    "    hist = rootDataFile[i].Tracks.Get(\"hPtPos;1\")\n",
    "    hist.Scale(1/hist.Integral())\n",
    "    hist.SetLineWidth(3)\n",
    "    hist.SetLineColor(i+1)\n",
    "    hist.Draw(\"SAME HIST\")    \n",
    "legend.Draw()\n",
    "ROOT.gPad.SetLogx()\n",
    "c.Draw()\n",
    "\n",
    "display(Markdown('---\\n'+'### p<sub>T</sub> distribution of negative vs positive tracks:'))\n",
    "display(Markdown('Distributions as expected: **OK**'))"
   ]
  },
  {
   "cell_type": "code",
   "execution_count": null,
   "id": "17a2abf2",
   "metadata": {
    "slideshow": {
     "slide_type": "slide"
    }
   },
   "outputs": [],
   "source": [
    "%jsroot on\n",
    "c = ROOT.TCanvas(\"phi\",\"Normalized phi\",1200,600)\n",
    "legend = ROOT.TLegend()\n",
    "legend.SetHeader(\"Normalized to integral\")\n",
    "for i in range(len(rootDataFile)):\n",
    "    hist = rootDataFile[i].PID.Get(\"hPhi;1\")\n",
    "    legend.AddEntry(hist, fileList[i][len(path):-5], \"l\")\n",
    "    #hist.Rebin(10)\n",
    "    hist.Scale(1/hist.Integral())\n",
    "    hist.SetTitle(\"Phi\")\n",
    "    hist.Draw(\"SAME HIST\")\n",
    "    hist.SetMaximum(0.0065)\n",
    "    hist.SetMinimum(0.0045)\n",
    "    hist.SetLineWidth(2)\n",
    "    hist.SetLineColor(i+1)\n",
    "\n",
    "#Sector boundatries\n",
    "sectorBoundary = ROOT.TLine(0,0.0045,0,0.0065)\n",
    "sectorBoundary.SetLineStyle(2)\n",
    "for j in range(19):\n",
    "    sectorBoundary.DrawLine((j*2*math.pi)/18,0.0045,(j*2*math.pi)/18,0.0065)\n",
    "\n",
    "legend.Draw()\n",
    "c.Draw()\n",
    "\n",
    "display(Markdown('---\\n'+'### Azimuthal angle distribution of tracks:'))\n",
    "display(Markdown('Efficiency drop at sector boundaries, was observed before (e.g. apass3). Explained to be due to lower magnetic field: **OK**'))"
   ]
  },
  {
   "cell_type": "code",
   "execution_count": null,
   "id": "a18bc92f",
   "metadata": {
    "slideshow": {
     "slide_type": "slide"
    }
   },
   "outputs": [],
   "source": [
    "%jsroot on\n",
    "c = ROOT.TCanvas(\"tgl\",\"Normalized tgl\",800,600)\n",
    "legend = ROOT.TLegend()\n",
    "legend.SetHeader(\"Normalized to integral\")\n",
    "for i in range(len(rootDataFile)):\n",
    "    hist = rootDataFile[i].PID.Get(\"hTgl;1\")\n",
    "    legend.AddEntry(hist, fileList[i][len(path):-5], \"l\")\n",
    "    hist.Scale(1/hist.Integral())\n",
    "    hist.SetMaximum(0.05)\n",
    "    hist.SetTitle(\"Tgl\")\n",
    "    hist.SetLineWidth(3)\n",
    "    hist.SetLineColor(i+1)\n",
    "    hist.Draw(\"SAME HIST\")\n",
    "\n",
    "legend.Draw()\n",
    "c.Draw()\n",
    "\n",
    "display(Markdown('---\\n'+'### tan(lambda) distribution:'))\n",
    "display(Markdown('Asymmteric distribution, was previously observed: **OK**'))"
   ]
  },
  {
   "cell_type": "code",
   "execution_count": null,
   "id": "b01b97e8",
   "metadata": {
    "slideshow": {
     "slide_type": "slide"
    }
   },
   "outputs": [],
   "source": [
    "%jsroot on\n",
    "c = ROOT.TCanvas(\"Eta\",\"Normalized eta\",800,600)\n",
    "legend = ROOT.TLegend()\n",
    "legend.SetHeader(\"Normalized to integral\")\n",
    "for i in range(len(rootDataFile)):\n",
    "    hist = rootDataFile[i].Tracks.Get(\"hEta;1\")\n",
    "    legend.AddEntry(hist, fileList[i][len(path):-5], \"l\")\n",
    "    hist.Scale(1/hist.Integral())\n",
    "    hist.SetLineColor(i+1)\n",
    "    hist.Draw(\"SAME HIST\")\n",
    "legend.Draw()\n",
    "c.Draw()\n",
    "\n",
    "display(Markdown('---\\n'+'### Pseudorapidity (eta) distribution:'))\n",
    "display(Markdown('Asymmteric distribution, was previously observed: **OK**'))"
   ]
  },
  {
   "cell_type": "code",
   "execution_count": null,
   "id": "65e3a2a9",
   "metadata": {
    "slideshow": {
     "slide_type": "skip"
    }
   },
   "outputs": [],
   "source": [
    "#Visual settings\n",
    "ROOT.gStyle.SetPalette(57)"
   ]
  },
  {
   "cell_type": "code",
   "execution_count": null,
   "id": "b01ee0b2",
   "metadata": {
    "slideshow": {
     "slide_type": "slide"
    }
   },
   "outputs": [],
   "source": [
    "%jsroot on\n",
    "c = ROOT.TCanvas(\"dEdx_vs_p\",\"dEdx_vs_p\",800,600)\n",
    "legend = ROOT.TLegend()\n",
    "for i in range(len(rootDataFile)):\n",
    "    if i == 0:\n",
    "        hist = rootDataFile[i].PID.Get(\"hdEdxVsp;1\")\n",
    "    else:\n",
    "        hist.Add(rootDataFile[i].PID.Get(\"hdEdxVsp;1\"))\n",
    "hist.Draw(\"SAME COLZ\")\n",
    "legend.AddEntry(hist,\"All runs\", \"l\")\n",
    "legend.Draw()\n",
    "c.SetLogx()\n",
    "c.SetLogz()\n",
    "c.Draw()\n",
    "\n",
    "display(Markdown('### Energy loss vs momentum:'))\n",
    "display(Markdown('- Expected distribution, looks fine: **OK**'))"
   ]
  },
  {
   "cell_type": "code",
   "execution_count": null,
   "id": "0c323180",
   "metadata": {
    "slideshow": {
     "slide_type": "subslide"
    }
   },
   "outputs": [],
   "source": [
    "%jsroot on\n",
    "c = ROOT.TCanvas(\"full_dEdx\",\"full_dEdx\",1000,600)\n",
    "c.Divide(3,3)\n",
    "for i in range(len(rootDataFile)):\n",
    "    c.cd(i+1)\n",
    "    hist = rootDataFile[i].PID.Get(\"hdEdxVsp;1\")\n",
    "    hist.Draw(\"COLZ\")\n",
    "    hist.SetTitle(fileList[i][-18:-5])\n",
    "    ROOT.gPad.SetLogx()\n",
    "    ROOT.gPad.SetLogz()\n",
    "c.Draw()\n",
    "display(Markdown('### Energy loss vs momentum (individual runs):'))\n",
    "display(Markdown('- No differences spoted: **OK**'))"
   ]
  },
  {
   "cell_type": "code",
   "execution_count": null,
   "id": "5d70d119",
   "metadata": {
    "slideshow": {
     "slide_type": "slide"
    }
   },
   "outputs": [],
   "source": [
    "%jsroot on\n",
    "c = ROOT.TCanvas(\"NClusters_vs_Eta\",\"NClusters_vs_Eta\",800,600)\n",
    "legend = ROOT.TLegend()\n",
    "for i in range(len(rootDataFile)):\n",
    "    if i == 0:\n",
    "        hist = rootDataFile[i].Tracks.Get(\"h2DNClustersEtaBeforeCuts;1\")\n",
    "    else:\n",
    "        hist.Add(rootDataFile[i].Tracks.Get(\"h2DNClustersEtaBeforeCuts;1\"))\n",
    "hist.Draw(\"SAME0 COLZ\")\n",
    "legend.AddEntry(hist,\"All runs\", \"l\")\n",
    "legend.Draw()\n",
    "c.Draw()\n",
    "\n",
    "display(Markdown('---\\n'+'### Number of cluster vs pseudorapidity:'))\n",
    "display(Markdown('- Large low cluster peak at eta ~0 \\n- Outside of the cut region (NClusters>60): OK'+'\\n'+\n",
    "                 '- Small peak at nClusters ~85 is observed to be predominantly on the eta>0 side (zoom in color to see)'))"
   ]
  },
  {
   "cell_type": "code",
   "execution_count": null,
   "id": "a4a4105c",
   "metadata": {
    "slideshow": {
     "slide_type": "subslide"
    }
   },
   "outputs": [],
   "source": [
    "%jsroot on\n",
    "c = ROOT.TCanvas(\"full_dEdx\",\"full_dEdx\",1000,800)\n",
    "titlepad = ROOT.TPad(\"titlepad\",\"The pad with the canvas title\", 0,0.9,1,1)\n",
    "titlepad.cd()\n",
    "title = ROOT.TPaveText(0.05,0.2,0.95,0.8)\n",
    "title.AddText(\"Number of clusters vs. eta\")\n",
    "title.Draw()\n",
    "c.cd()\n",
    "pad = ROOT.TPad(\"pad\",\"The pad with the content\", 0,0,1,0.9)\n",
    "pad.Divide(3,3)\n",
    "for i in range(len(rootDataFile)):\n",
    "    pad.cd(i+1)\n",
    "    hist = rootDataFile[i].Tracks.Get(\"h2DNClustersEtaBeforeCuts;1\")\n",
    "    hist.Draw(\"COLZ\")\n",
    "    hist.SetTitle(fileList[i][-18:-5])\n",
    "c.cd()\n",
    "titlepad.Draw()\n",
    "pad.Draw()\n",
    "c.Draw()\n",
    "\n",
    "display(Markdown('---\\n'+'### Individual runs:'))\n",
    "display(Markdown('- Same peak observed on all runs: OK'))"
   ]
  },
  {
   "cell_type": "code",
   "execution_count": null,
   "id": "790a4673",
   "metadata": {
    "slideshow": {
     "slide_type": "slide"
    }
   },
   "outputs": [],
   "source": [
    "%jsroot on\n",
    "c = ROOT.TCanvas(\"Pt\",\"Pt\",1200,600)\n",
    "legend = ROOT.TLegend()\n",
    "pad1 = ROOT.TPad(\"pad1\",\"The pad with the function\", 0.01,0.01,0.49,0.99)\n",
    "pad1.cd()\n",
    "for i in range(len(rootDataFile)):\n",
    "    if i == 0:\n",
    "        hist = rootDataFile[i].Tracks.Get(\"h2DNClustersPhiAside;1\")\n",
    "    else:\n",
    "        hist.Add(rootDataFile[i].Tracks.Get(\"h2DNClustersPhiAside;1\"))\n",
    "hist.Draw(\"SAME0 COLZ\")\n",
    "legend.AddEntry(hist,\"All runs\", \"l\")\n",
    "legend.Draw()\n",
    "pad2 = ROOT.TPad(\"pad2\",\"The pad with the function\", 0.51,0.01,0.99,0.99)\n",
    "pad2.cd()\n",
    "for i in range(len(rootDataFile)):\n",
    "    if i == 0:\n",
    "        hist = rootDataFile[i].Tracks.Get(\"h2DNClustersPhiCside;1\")\n",
    "    else:\n",
    "        hist.Add(rootDataFile[i].Tracks.Get(\"h2DNClustersPhiCside;1\"))\n",
    "hist.Draw(\"SAME0 COLZ\")\n",
    "legend.Draw()\n",
    "c.cd()\n",
    "pad1.Draw()\n",
    "pad2.Draw()\n",
    "c.Draw()\n",
    "display(Markdown('---\\n'+'### Clusters vs phi:'))\n",
    "display(Markdown('- Efficiency drop on Sectors A-8, C-2, C-3 & C-13.\\n- Was observed already in apass3: **OK**'))"
   ]
  },
  {
   "cell_type": "code",
   "execution_count": null,
   "id": "8739b826",
   "metadata": {
    "slideshow": {
     "slide_type": "subslide"
    }
   },
   "outputs": [],
   "source": [
    "%jsroot on\n",
    "c = ROOT.TCanvas(\"NClusters_vs_Eta\",\"NClusters_vs_Eta\",1200,800)\n",
    "titlepad = ROOT.TPad(\"titlepad\",\"The pad with the canvas title\", 0,0.9,1,1)\n",
    "titlepad.cd()\n",
    "title1 = ROOT.TPaveText(0.05,0.2,0.45,0.8)\n",
    "title1.AddText(\"Number of clusters vs. phi, A side\")\n",
    "title1.Draw()\n",
    "title2 = ROOT.TPaveText(0.55,0.2,0.95,0.8)\n",
    "title2.AddText(\"Number of clusters vs. phi, C side\")\n",
    "title2.Draw()\n",
    "c.cd()\n",
    "titlepad.Draw()\n",
    "#pad for all runs together\n",
    "pad1 = ROOT.TPad(\"pad1\",\"The pad with the function\", 0.01,0.01,0.49,0.9)\n",
    "pad1.cd()\n",
    "pad1.Divide(3,3)\n",
    "for i in range(len(rootDataFile)):\n",
    "    pad1.cd(i+1)\n",
    "    hist = rootDataFile[i].Tracks.Get(\"h2DNClustersPhiAside;1\")\n",
    "    hist.Draw(\"COLZ\")\n",
    "    hist.SetTitle(fileList[i][-18:-5])\n",
    "c.Draw()\n",
    "c.cd()\n",
    "pad1.Draw()\n",
    "#pad for all runs individual\n",
    "pad2 = ROOT.TPad(\"pad2\",\"The pad with the function\", 0.51,0.01,0.99,0.9)\n",
    "pad2.Divide(3,3)\n",
    "for i in range(len(rootDataFile)):\n",
    "    pad2.cd(i+1)\n",
    "    hist = rootDataFile[i].Tracks.Get(\"h2DNClustersPhiCside;1\")\n",
    "    hist.Draw(\"COLZ\")\n",
    "    hist.SetTitle(fileList[i][-18:-5])\n",
    "c.cd()\n",
    "pad2.Draw()\n",
    "c.Draw()\n",
    "\n",
    "display(Markdown('---\\n'+'### Individual runs:'))\n",
    "display(Markdown('- Same dips observed on all runs: **OK**'))"
   ]
  }
 ],
 "metadata": {
  "celltoolbar": "Slideshow",
  "kernelspec": {
   "display_name": "Python 3 (ipykernel)",
   "language": "python",
   "name": "python3"
  },
  "language_info": {
   "codemirror_mode": {
    "name": "ipython",
    "version": 3
   },
   "file_extension": ".py",
   "mimetype": "text/x-python",
   "name": "python",
   "nbconvert_exporter": "python",
   "pygments_lexer": "ipython3",
   "version": "3.6.10"
  }
 },
 "nbformat": 4,
 "nbformat_minor": 5
}
