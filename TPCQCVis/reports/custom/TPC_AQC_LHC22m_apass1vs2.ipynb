{
 "cells": [
  {
   "cell_type": "markdown",
   "id": "897badfe",
   "metadata": {
    "toc": true
   },
   "source": [
    "<h1>Table of Contents<span class=\"tocSkip\"></span></h1>\n",
    "<div class=\"toc\"><ul class=\"toc-item\"><li><span><a href=\"#Runs:\" data-toc-modified-id=\"Runs:-1\">Runs:</a></span></li><li><span><a href=\"#Comparing-apass1-to-apass2-with-trends\" data-toc-modified-id=\"Comparing-apass1-to-apass2-with-trends-2\">Comparing apass1 to apass2 with trends</a></span><ul class=\"toc-item\"><li><span><a href=\"#Time-gain-calibration\" data-toc-modified-id=\"Time-gain-calibration-2.1\">Time gain calibration</a></span></li></ul></li><li><span><a href=\"#Clusters-QC\" data-toc-modified-id=\"Clusters-QC-3\">Clusters QC</a></span></li><li><span><a href=\"#Run-529663\" data-toc-modified-id=\"Run-529663-4\">Run 529663</a></span></li><li><span><a href=\"#Tracks-QC\" data-toc-modified-id=\"Tracks-QC-5\">Tracks QC</a></span><ul class=\"toc-item\"><li><span><a href=\"#Geometrical-distributions-of-tracks\" data-toc-modified-id=\"Geometrical-distributions-of-tracks-5.1\">Geometrical distributions of tracks</a></span></li><li><span><a href=\"#Eta-distribution\" data-toc-modified-id=\"Eta-distribution-5.2\">Eta distribution</a></span></li><li><span><a href=\"#Track-properties\" data-toc-modified-id=\"Track-properties-5.3\">Track properties</a></span></li><li><span><a href=\"#Number-of-clusters-per-track\" data-toc-modified-id=\"Number-of-clusters-per-track-5.4\">Number of clusters per track</a></span></li><li><span><a href=\"#nClusters-vs-eta\" data-toc-modified-id=\"nClusters-vs-eta-5.5\">nClusters vs eta</a></span></li><li><span><a href=\"#nClusters-vs-transverse-momentum\" data-toc-modified-id=\"nClusters-vs-transverse-momentum-5.6\">nClusters vs transverse momentum</a></span></li><li><span><a href=\"#PID\" data-toc-modified-id=\"PID-5.7\">PID</a></span></li></ul></li><li><span><a href=\"#TPC-Gain-calibration\" data-toc-modified-id=\"TPC-Gain-calibration-6\">TPC Gain calibration</a></span><ul class=\"toc-item\"><li><span><a href=\"#dEdx-vs-p\" data-toc-modified-id=\"dEdx-vs-p-6.1\">dEdx vs p</a></span></li></ul></li></ul></div>"
   ]
  },
  {
   "cell_type": "code",
   "execution_count": null,
   "id": "6ba04481",
   "metadata": {},
   "outputs": [],
   "source": [
    "import ROOT\n",
    "import glob\n",
    "import math\n",
    "import numpy as np\n",
    "from IPython.display import display, Markdown\n",
    "from IPython.display import display, HTML\n",
    "from TPCQCVis.src.drawHistograms import *\n",
    "from TPCQCVis.src.drawTrending import *\n",
    "from TPCQCVis.src.checkHistograms import *"
   ]
  },
  {
   "cell_type": "code",
   "execution_count": null,
   "id": "7afb8d37",
   "metadata": {},
   "outputs": [],
   "source": [
    "display(HTML(\"<style>.container { width:95% !important; }</style>\"))\n",
    "display(HTML(\"<style>table {float:left;}</style>\"))"
   ]
  },
  {
   "cell_type": "code",
   "execution_count": null,
   "id": "bc674b80",
   "metadata": {},
   "outputs": [],
   "source": [
    "# Read the Root Files\n",
    "path = \"/cave/alice/data/2022/LHC22m/apass2/\"\n",
    "fileList = glob.glob(path+\"*_QC.root\")\n",
    "fileList.sort()\n",
    "#fileList = fileList[13:]\n",
    "runList = [fileList[i][36:-8] for i in range(len(fileList))]\n",
    "rootDataFile=[]\n",
    "for file in fileList:\n",
    "    rootDataFile.append(ROOT.TFile.Open(file,\"READ\"))\n",
    "#len(runList)"
   ]
  },
  {
   "cell_type": "code",
   "execution_count": null,
   "id": "c0664349",
   "metadata": {},
   "outputs": [],
   "source": [
    "# Read the Root Files\n",
    "path = \"/cave/alice/data/2022/LHC22m/apass1/\"\n",
    "fileList_apass1 = glob.glob(path+\"*_QC.root\")\n",
    "fileList_apass1.sort()\n",
    "runList_apass1 = [fileList[i][36:-8] for i in range(len(fileList))]\n",
    "rootDataFile_apass1=[]\n",
    "for file in fileList_apass1:\n",
    "    rootDataFile_apass1.append(ROOT.TFile.Open(file,\"READ\"))\n",
    "#len(runList_apass1)"
   ]
  },
  {
   "cell_type": "markdown",
   "id": "de44ec6e",
   "metadata": {},
   "source": [
    "# Reporting on TPC QC for LHC22m apass2 (and comparison to apass1)\n",
    "> Link to JIRA for apass2: https://alice.its.cern.ch/jira/browse/O2-3485 <br />\n",
    "> Link to JIRA for apass1: https://alice.its.cern.ch/jira/browse/O2-3135 <br />\n",
    "> B = 0.5 T <br />\n",
    "> beam = pp <br />\n",
    "> energy (sqrt) = 13.6 TeV <br />\n",
    "\n",
    "\n",
    "## Runs:\n",
    "| RunNumber | GlobalComment                             | Duration | IR(Hz)[TRGSOR/EOR] | Comment                                                      | TPCQuality |     |\n",
    "| --------- | ----------------------------------------- | -------- | ------------------ | ------------------------------------------------------------ | ---------- | --- |\n",
    "| 523141    | noTOFcalibinapass1                        | 00:10:23 | 482745.2688        |                                                              | `GOOD`     |     |\n",
    "| 523142    | noTOFcalibinapass1                        | 00:42:09 | 490711.7683        |                                                              | `GOOD`     |     |\n",
    "| 523148    | noTOFcalibinapass1                        | 00:20:21 | 501286.6106        |                                                              | `GOOD`     |     |\n",
    "| 523182    | \"BadforITS(acceptance)noTOFcalibinapass1\" | 00:46:19 | 492632.2267        |                                                              | `GOOD`     |     |\n",
    "| 523186    |                                           | 02:05:59 | 495142.0514        |                                                              | `GOOD`     |     |\n",
    "| 523298    |                                           | 00:15:22 | 496398.0322        |                                                              | `GOOD`     |     |\n",
    "| 523306    |                                           | 00:15:19 | 493636.7638        |                                                              | `GOOD`     |     |\n",
    "| 523308    |                                           | 01:06:26 | 487445.1482        |                                                              | `GOOD`     |     |\n",
    "| 523309    |                                           | 04:07:05 | 500240.6185        |                                                              | `GOOD`     |     |\n",
    "| 523397    |                                           | 00:40:02 | 501810.8141        |                                                              | `GOOD`     |     |\n",
    "| 523399    |                                           | 02:01:19 | 493225.6191        |                                                              | `GOOD`     |     |\n",
    "| 523401    | CorrectnumberofFT0VTXcountsis2407570623   | 01:26:40 | 467398.6843        |                                                              | `GOOD`     |     |\n",
    "| 523441    |                                           | 02:10:31  | 487657.973        |                                                              | `GOOD`     |     |\n",
    "| 523541    |                                           | 01:48:04 | 489565.4806        |                                                              | `GOOD`     |     |\n",
    "| 523559    | FT0VTXcopiedfromtestCCDB                  | 02:58:12  | 494509.763        |                                                              | `GOOD`     |     |\n",
    "| 523671    |                                           | 00:38:19 | 507703.4433        |                                                              | `GOOD`     |     |\n",
    "| 523677    |                                           | 04:59:57 | 502148.2478        |                                                              | `GOOD`     |     |\n",
    "| 523728    |                                           | 00:22:16 | 506161.4402        |                                                              | `GOOD`     |     |\n",
    "| 523731    |                                           | 03:58:19 | 498240.2973        |                                                              | `GOOD`     |     |\n",
    "| 523779    |                                           | 00:11:07 | 494105.6748        |                                                              | `GOOD`     |     |\n",
    "| 523783    |                                           | 00:41:06 | 499508.0209        |                                                              | `GOOD`     |     |\n",
    "| 523786    |                                           | 00:45:22 | 489100.5748        |                                                              | `GOOD`     |     |\n",
    "| 523788    |                                           | 00:21:23 | 492864.2973        |                                                              | `GOOD`     |     |\n",
    "| 523789    |                                           | 00:22:08 | 490557.6382        |                                                              | `GOOD`     |     |\n",
    "| 523792    |                                           | 00:39:00 | 503413.2246        |                                                              | `GOOD`     |     |\n",
    "| 523797    |                                           | 00:26:57 | 425309.046        |                                                              | `GOOD`     |     |\n",
    "| 523821    |                                           | 00:16:34 | 498678.6076        |                                                              | `GOOD`     |     |\n",
    "| 523897    |                                           | 01:30:49 | 252143.9707        | Outlier run in terms of track properties (#Clusters,pT,snp)) | `GOOD`     |     |"
   ]
  },
  {
   "cell_type": "markdown",
   "id": "858f1236",
   "metadata": {},
   "source": [
    "---\n",
    "## Comparing apass1 to apass2 with trends"
   ]
  },
  {
   "cell_type": "code",
   "execution_count": null,
   "id": "8ced6503",
   "metadata": {},
   "outputs": [],
   "source": [
    "%jsroot on\n",
    "objectName=\"hPt\"\n",
    "trending = \"entries\"\n",
    "error = \"stdDev\"\n",
    "leg = ROOT.TLegend()\n",
    "[trend,canvas] = drawTrending(objectName,rootDataFile_apass1,names=runList,namesFromRunList=True,\n",
    "                               trend=trending,error=error,axis=2,\n",
    "                               log=\"logy\",yAxisRange=[1E9,1E12])\n",
    "leg.AddEntry(trend, \"apass1\", \"lep\")\n",
    "[trend2,canvas] = drawTrending(objectName,rootDataFile,names=runList,namesFromRunList=True,canvas=canvas,\n",
    "                               trend=trending,error=error,\n",
    "                               log=\"logy\",yAxisRange=[1E9,1E12],drawOption=\"SAME ZP PMC L\")\n",
    "leg.AddEntry(trend2, \"apass2\", \"lep\")\n",
    "leg.Draw()\n",
    "trend.SetTitle(\"Number of tracks Trending\")\n",
    "canvas.Draw()"
   ]
  },
  {
   "cell_type": "code",
   "execution_count": null,
   "id": "39ae9120",
   "metadata": {},
   "outputs": [],
   "source": [
    "%jsroot on\n",
    "objectName=\"hPhiAside;1\"\n",
    "trending = \"mean\"\n",
    "error = \"meanError\"\n",
    "leg = ROOT.TLegend()\n",
    "[trend,canvas] = drawTrending(objectName,rootDataFile_apass1,names=runList,namesFromRunList=True,\n",
    "                               trend=trending,error=error,\n",
    "                               log=\"none\")\n",
    "leg.AddEntry(trend, \"apass1\", \"lep\")\n",
    "[trend2,canvas] = drawTrending(objectName,rootDataFile,names=runList,namesFromRunList=True,canvas=canvas,\n",
    "                               trend=trending,error=error,\n",
    "                               log=\"none\",drawOption=\"SAME ZP PMC L\")\n",
    "leg.AddEntry(trend2, \"apass2\", \"lep\")\n",
    "leg.Draw()\n",
    "#trend.SetTitle(\"Number of tracks - Trend\")\n",
    "canvas.Draw()"
   ]
  },
  {
   "cell_type": "code",
   "execution_count": null,
   "id": "58aa4526",
   "metadata": {},
   "outputs": [],
   "source": [
    "%jsroot on\n",
    "objectName=\"hPhiCside;1\"\n",
    "trending = \"mean\"\n",
    "error = \"meanError\"\n",
    "leg = ROOT.TLegend()\n",
    "[trend,canvas] = drawTrending(objectName,rootDataFile_apass1,names=runList,namesFromRunList=True,\n",
    "                               trend=trending,error=error,\n",
    "                               log=\"none\")\n",
    "leg.AddEntry(trend, \"apass1\", \"lep\")\n",
    "[trend2,canvas] = drawTrending(objectName,rootDataFile,names=runList,namesFromRunList=True,canvas=canvas,\n",
    "                               trend=trending,error=error,\n",
    "                               log=\"none\",drawOption=\"SAME ZP PMC L\")\n",
    "leg.AddEntry(trend2, \"apass2\", \"lep\")\n",
    "leg.Draw()\n",
    "#trend.SetTitle(\"Number of tracks - Trend\")\n",
    "canvas.Draw()"
   ]
  },
  {
   "cell_type": "code",
   "execution_count": null,
   "id": "bffddf34",
   "metadata": {},
   "outputs": [],
   "source": [
    "%jsroot on\n",
    "objectName=\"hEta;1\"\n",
    "trending = \"mean\"\n",
    "error = \"meanError\"\n",
    "leg = ROOT.TLegend()\n",
    "[trend,canvas] = drawTrending(objectName,rootDataFile_apass1,names=runList,namesFromRunList=True,\n",
    "                               trend=trending,error=error,\n",
    "                               log=\"none\")\n",
    "leg.AddEntry(trend, \"apass1\", \"lep\")\n",
    "[trend2,canvas] = drawTrending(objectName,rootDataFile,names=runList,namesFromRunList=True,canvas=canvas,\n",
    "                               trend=trending,error=error,\n",
    "                               log=\"none\",drawOption=\"SAME ZP PMC L\")\n",
    "leg.AddEntry(trend2, \"apass2\", \"lep\")\n",
    "leg.Draw()\n",
    "#trend.SetTitle(\"Number of tracks - Trend\")\n",
    "canvas.Draw()"
   ]
  },
  {
   "cell_type": "code",
   "execution_count": null,
   "id": "54e7c72e",
   "metadata": {},
   "outputs": [],
   "source": [
    "%jsroot on\n",
    "objectName=\"hPt;1\"\n",
    "trending = \"mean\"\n",
    "error = \"meanError\"\n",
    "leg = ROOT.TLegend()\n",
    "[trend,canvas] = drawTrending(objectName,rootDataFile_apass1,names=runList,namesFromRunList=True,\n",
    "                               trend=trending,error=error,yAxisRange=[0.44,0.465],\n",
    "                               log=\"none\")\n",
    "leg.AddEntry(trend, \"apass1\", \"lep\")\n",
    "[trend2,canvas] = drawTrending(objectName,rootDataFile,names=runList,namesFromRunList=True,canvas=canvas,\n",
    "                               trend=trending,error=error,yAxisRange=[0.44,0.465],\n",
    "                               log=\"none\",drawOption=\"SAME ZP PMC L\")\n",
    "leg.AddEntry(trend2, \"apass2\", \"lep\")\n",
    "leg.Draw()\n",
    "#trend.SetTitle(\"Number of tracks - Trend\")\n",
    "canvas.Draw()"
   ]
  },
  {
   "cell_type": "code",
   "execution_count": null,
   "id": "610145ab",
   "metadata": {},
   "outputs": [],
   "source": [
    "%jsroot on\n",
    "objectName=\"hSign;1\"\n",
    "trending = \"mean\"\n",
    "error = \"meanError\"\n",
    "leg = ROOT.TLegend()\n",
    "[trend,canvas] = drawTrending(objectName,rootDataFile_apass1,names=runList,namesFromRunList=True,\n",
    "                               trend=trending,error=error,\n",
    "                               log=\"none\")\n",
    "leg.AddEntry(trend, \"apass1\", \"lep\")\n",
    "[trend2,canvas] = drawTrending(objectName,rootDataFile,names=runList,namesFromRunList=True,canvas=canvas,\n",
    "                               trend=trending,error=error,\n",
    "                               log=\"none\",drawOption=\"SAME ZP PMC L\")\n",
    "leg.AddEntry(trend2, \"apass2\", \"lep\")\n",
    "leg.Draw()\n",
    "#trend.SetTitle(\"Number of tracks - Trend\")\n",
    "canvas.Draw()"
   ]
  },
  {
   "cell_type": "markdown",
   "id": "1a28e248",
   "metadata": {},
   "source": [
    "### Time gain calibration\n",
    "+ Much better dEdx uniformity in apass2\n",
    "+ Still, there seems to be two distinct species of runs with slightly different mean dEdx"
   ]
  },
  {
   "cell_type": "code",
   "execution_count": null,
   "id": "4e3fbb51",
   "metadata": {},
   "outputs": [],
   "source": [
    "%jsroot on\n",
    "objectName=\"hdEdxTotMIP_TPC;1\"\n",
    "trending = \"mean\"\n",
    "error = \"meanError\"\n",
    "leg = ROOT.TLegend()\n",
    "[trend,canvas] = drawTrending(objectName,rootDataFile_apass1,names=runList,namesFromRunList=True,\n",
    "                               trend=trending,error=error,\n",
    "                               log=\"none\")\n",
    "leg.AddEntry(trend, \"apass1\", \"lep\")\n",
    "[trend2,canvas] = drawTrending(objectName,rootDataFile,names=runList,namesFromRunList=True,canvas=canvas,\n",
    "                               trend=trending,error=error,\n",
    "                               log=\"none\",drawOption=\"SAME ZP PMC L\")\n",
    "leg.AddEntry(trend2, \"apass2\", \"lep\")\n",
    "leg.Draw()\n",
    "#trend.SetTitle(\"Number of tracks - Trend\")\n",
    "canvas.Draw()"
   ]
  },
  {
   "cell_type": "code",
   "execution_count": null,
   "id": "4d091e93",
   "metadata": {},
   "outputs": [],
   "source": [
    "%jsroot on\n",
    "objectName=\"hNClustersAfterCuts;1\"\n",
    "trending = \"mean\"\n",
    "error = \"meanError\"\n",
    "leg = ROOT.TLegend()\n",
    "[trend,canvas] = drawTrending(objectName,rootDataFile_apass1,names=runList,namesFromRunList=True,\n",
    "                               trend=trending,error=error,\n",
    "                               log=\"none\",yAxisRange=[100,115])\n",
    "leg.AddEntry(trend, \"apass1\", \"lep\")\n",
    "[trend2,canvas] = drawTrending(objectName,rootDataFile,names=runList,namesFromRunList=True,canvas=canvas,\n",
    "                               trend=trending,error=error,\n",
    "                               log=\"none\",drawOption=\"SAME ZP PMC L\")\n",
    "leg.AddEntry(trend2, \"apass2\", \"lep\")\n",
    "leg.Draw()\n",
    "#trend.SetTitle(\"Number of tracks - Trend\")\n",
    "canvas.Draw()"
   ]
  },
  {
   "cell_type": "code",
   "execution_count": null,
   "id": "69b438e9",
   "metadata": {},
   "outputs": [],
   "source": [
    "%jsroot on\n",
    "objectName=\"hdEdxVsTgl;1\"\n",
    "trending = \"mean\"\n",
    "error = \"meanError\"\n",
    "leg = ROOT.TLegend()\n",
    "[trend,canvas] = drawTrending(objectName,rootDataFile_apass1,names=runList,namesFromRunList=True,\n",
    "                               trend=trending,error=error,axis=1,\n",
    "                               log=\"none\")\n",
    "leg.AddEntry(trend, \"apass1\", \"lep\")\n",
    "[trend2,canvas] = drawTrending(objectName,rootDataFile,names=runList,namesFromRunList=True,canvas=canvas,\n",
    "                               trend=trending,error=error,axis=1,\n",
    "                               log=\"none\",drawOption=\"SAME ZP PMC L\")\n",
    "leg.AddEntry(trend2, \"apass2\", \"lep\")\n",
    "leg.Draw()\n",
    "trend.SetTitle(\"Track tan(lambda) - Trend\")\n",
    "canvas.Draw()"
   ]
  },
  {
   "cell_type": "code",
   "execution_count": null,
   "id": "79868d4b",
   "metadata": {},
   "outputs": [],
   "source": [
    "%jsroot on\n",
    "objectName=\"hdEdxTotMIPVsSnp_TPC;1\"\n",
    "trending = \"mean\"\n",
    "error = \"meanError\"\n",
    "leg = ROOT.TLegend()\n",
    "[trend,canvas] = drawTrending(objectName,rootDataFile_apass1,names=runList,namesFromRunList=True,\n",
    "                               trend=trending,error=error,axis=1,\n",
    "                               log=\"none\")\n",
    "leg.AddEntry(trend, \"apass1\", \"lep\")\n",
    "[trend2,canvas] = drawTrending(objectName,rootDataFile,names=runList,namesFromRunList=True,canvas=canvas,\n",
    "                               trend=trending,error=error,axis=1,\n",
    "                               log=\"none\",drawOption=\"SAME ZP PMC L\")\n",
    "leg.AddEntry(trend2, \"apass2\", \"lep\")\n",
    "leg.Draw()\n",
    "trend.SetTitle(\"Track sin(phi) - Trend\")\n",
    "canvas.Draw()"
   ]
  },
  {
   "cell_type": "markdown",
   "id": "2ca94113",
   "metadata": {},
   "source": [
    "---\n",
    "# Plots from apass2"
   ]
  },
  {
   "cell_type": "markdown",
   "id": "03eca5ad",
   "metadata": {},
   "source": [
    "## Clusters QC\n",
    "+ Cluster maps look OK\n",
    "+ Shown plots are for run 523309 (longest duration >4hrs) "
   ]
  },
  {
   "cell_type": "code",
   "execution_count": null,
   "id": "7f71963e",
   "metadata": {},
   "outputs": [],
   "source": [
    "%jsroot on\n",
    "objectName = \"c_N_Clusters\"\n",
    "c = rootDataFile[8].ClusterQC.Get(objectName)\n",
    "c.Draw()"
   ]
  },
  {
   "cell_type": "markdown",
   "id": "f0902a23",
   "metadata": {},
   "source": [
    "## Run 529663\n",
    "+ Problems on C-side"
   ]
  },
  {
   "cell_type": "code",
   "execution_count": null,
   "id": "93c3bb31",
   "metadata": {},
   "outputs": [],
   "source": [
    "%jsroot on\n",
    "objectName = \"c_Q_Tot\"\n",
    "c = rootDataFile[8].ClusterQC.Get(objectName)\n",
    "c.Draw()"
   ]
  },
  {
   "cell_type": "markdown",
   "id": "549deb42",
   "metadata": {},
   "source": [
    "---\n",
    "## Tracks QC\n",
    "### Geometrical distributions of tracks\n",
    "**Phi distribution A-side tracks:**\n",
    "+ All runs OK"
   ]
  },
  {
   "cell_type": "code",
   "execution_count": null,
   "id": "d4d46a67",
   "metadata": {},
   "outputs": [],
   "source": [
    "%jsroot on\n",
    "objectName=\"hPhiAside\"\n",
    "[hist,legend,canvas,pad1] = drawHistograms(objectName,rootDataFile,normalize=True,legend=True,legendNames=runList,pads=False,yAxisRange = [1E-3,3.5E-3], drawOption=\"SAME L\")\n",
    "\n",
    "#Sector boundatries\n",
    "pad1.cd()\n",
    "sectorBoundary = ROOT.TLine(0,hist.GetMinimum(),0,hist.GetMaximum())\n",
    "sectorBoundary.SetLineStyle(2)\n",
    "sectorNum = ROOT.TText(.5,.5,\"test\")\n",
    "sectorNum.SetTextAlign(22)\n",
    "sectorNum.SetTextColor(ROOT.kGray+1)\n",
    "sectorNum.SetTextFont(0)\n",
    "for j in range(19):\n",
    "    sectorBoundary.DrawLine((j*2*math.pi)/18,hist.GetMinimum(),(j*2*math.pi)/18,hist.GetMaximum())\n",
    "    if j < 18 : sectorNum.DrawText(((j+0.5)*2*math.pi)/18,hist.GetMaximum(),str(j))\n",
    "    \n",
    "canvas.Draw()"
   ]
  },
  {
   "cell_type": "markdown",
   "id": "6305738a",
   "metadata": {},
   "source": [
    "**Phi distribution C-side tracks:**\n",
    "+ All runs OK"
   ]
  },
  {
   "cell_type": "code",
   "execution_count": null,
   "id": "347e4057",
   "metadata": {},
   "outputs": [],
   "source": [
    "%jsroot on\n",
    "objectName=\"hPhiCside\"\n",
    "[hist,legend,canvas,pad1] = drawHistograms(objectName,rootDataFile,normalize=True,legend=True,legendNames=runList,pads=False,yAxisRange = [1.5E-3,3.5E-3], drawOption=\"SAME L\")\n",
    "\n",
    "#Sector boundatries\n",
    "pad1.cd()\n",
    "sectorBoundary = ROOT.TLine(0,hist.GetMinimum(),0,hist.GetMaximum())\n",
    "sectorBoundary.SetLineStyle(2)\n",
    "sectorNum = ROOT.TText(.5,.5,\"test\")\n",
    "sectorNum.SetTextAlign(22)\n",
    "sectorNum.SetTextColor(ROOT.kGray+1)\n",
    "sectorNum.SetTextFont(0)\n",
    "for j in range(19):\n",
    "    sectorBoundary.DrawLine((j*2*math.pi)/18,hist.GetMinimum(),(j*2*math.pi)/18,hist.GetMaximum())\n",
    "    if j < 18 : sectorNum.DrawText(((j+0.5)*2*math.pi)/18,hist.GetMaximum(),str(j))\n",
    "    \n",
    "canvas.Draw()"
   ]
  },
  {
   "cell_type": "markdown",
   "id": "87f2c477",
   "metadata": {},
   "source": [
    "### Eta distribution\n",
    "+ All runs OK"
   ]
  },
  {
   "cell_type": "code",
   "execution_count": null,
   "id": "e2d2dcfc",
   "metadata": {},
   "outputs": [],
   "source": [
    "objectName=\"hEta\"\n",
    "[hist,legend,canvas,pad1] = drawHistograms(objectName,rootDataFile,normalize=True,legend=True,xAxisRange=[-1.1,1.1],yAxisRange=[0,9E-3],legendNames=runList,pads=False)\n",
    "canvas.Draw()"
   ]
  },
  {
   "cell_type": "code",
   "execution_count": null,
   "id": "3d6a3d10",
   "metadata": {},
   "outputs": [],
   "source": [
    "%jsroot on\n",
    "objectName=\"h2DEtaPhi\"\n",
    "[hist,legend,canvas,pad1] = drawHistograms(objectName,rootDataFile,normalize=False,legend=False,yAxisRange = [-1.1,1.1],legendNames=runList,pads=True,drawOption=\"COLZ\")\n",
    "canvas.Draw()"
   ]
  },
  {
   "cell_type": "markdown",
   "id": "738f539d",
   "metadata": {},
   "source": [
    "### Track properties\n",
    "**Transverse momentum**\n",
    "+ Outlier run 523897"
   ]
  },
  {
   "cell_type": "code",
   "execution_count": null,
   "id": "c656fa13",
   "metadata": {},
   "outputs": [],
   "source": [
    "objectName=\"hPt\"\n",
    "[hist,legend,canvas,pad1] = drawHistograms(objectName,rootDataFile,normalize=True,legend=True,log=\"logxy\",yAxisRange = [1E-6,1E-1],legendNames=runList,pads=False)\n",
    "canvas.Draw()"
   ]
  },
  {
   "cell_type": "markdown",
   "id": "5200e396",
   "metadata": {},
   "source": [
    "**Track sign**\n",
    "+ Ratio as expected"
   ]
  },
  {
   "cell_type": "code",
   "execution_count": null,
   "id": "e222519f",
   "metadata": {},
   "outputs": [],
   "source": [
    "objectName=\"hSign\"\n",
    "[hist,legend,canvas,pad1] = drawHistograms(objectName,rootDataFile,normalize=True,legend=True,legendNames=runList,pads=False)\n",
    "canvas.Draw()"
   ]
  },
  {
   "cell_type": "markdown",
   "id": "d58cf558",
   "metadata": {},
   "source": [
    "**Charge / transverse momentum**\n",
    "+ All runs OK"
   ]
  },
  {
   "cell_type": "code",
   "execution_count": null,
   "id": "edc50695",
   "metadata": {},
   "outputs": [],
   "source": [
    "objectName=\"hQOverPt\"\n",
    "[hist,legend,canvas,pad1] = drawHistograms(objectName,rootDataFile,normalize=True,legend=True,legendNames=runList,pads=False)\n",
    "canvas.Draw()"
   ]
  },
  {
   "cell_type": "markdown",
   "id": "cb886e2a",
   "metadata": {},
   "source": [
    "### Number of clusters per track\n",
    "+ Outlier Run 523897"
   ]
  },
  {
   "cell_type": "code",
   "execution_count": null,
   "id": "41be7213",
   "metadata": {},
   "outputs": [],
   "source": [
    "%jsroot on\n",
    "objectName=\"hNClustersAfterCuts\"\n",
    "[hist,legend,canvas,pad1] = drawHistograms(objectName,rootDataFile,normalize=True,legend=True,xAxisRange = [50,160],yAxisRange=[0,2.5E-2],legendNames=runList,pads=False)\n",
    "canvas.Draw()"
   ]
  },
  {
   "cell_type": "markdown",
   "id": "91903ed3",
   "metadata": {},
   "source": [
    "### nClusters vs eta\n",
    "+ All runs OK"
   ]
  },
  {
   "cell_type": "code",
   "execution_count": null,
   "id": "65b42b04",
   "metadata": {},
   "outputs": [],
   "source": [
    "%jsroot on\n",
    "objectName=\"h2DNClustersEta\"\n",
    "[hist,legend,canvas,pad1] = drawHistograms(objectName,rootDataFile,normalize=False,legend=False,xAxisRange = [-1.1,1.1],yAxisRange = [50,170],legendNames=runList,pads=True,drawOption=\"COLZ\")\n",
    "canvas.Draw()"
   ]
  },
  {
   "cell_type": "markdown",
   "id": "9254b83e",
   "metadata": {},
   "source": [
    "### nClusters vs transverse momentum\n",
    "+ All runs OK"
   ]
  },
  {
   "cell_type": "code",
   "execution_count": null,
   "id": "880764e9",
   "metadata": {},
   "outputs": [],
   "source": [
    "%jsroot on\n",
    "objectName=\"h2DNClustersPt\"\n",
    "[hist,legend,canvas,pad1] = drawHistograms(objectName,rootDataFile,normalize=False,legend=False,log=\"logx\",yAxisRange = [50,170],legendNames=runList,pads=True,drawOption=\"COLZ\")\n",
    "canvas.Draw()"
   ]
  },
  {
   "cell_type": "markdown",
   "id": "8d8b92cf",
   "metadata": {},
   "source": [
    "### PID\n",
    "+ All runs OK"
   ]
  },
  {
   "cell_type": "code",
   "execution_count": null,
   "id": "38a1fd71",
   "metadata": {},
   "outputs": [],
   "source": [
    "%jsroot on\n",
    "objectName=\"hdEdxTotMIP_TPC\"\n",
    "#quality = checkHistograms(objectName,rootDataFile,check=\"(histogram.Fit(\\\"gaus\\\",\\\"Sq\\\",\\\"\\\",40,60)) and 49<histogram.GetFunction(\\\"gaus\\\").GetParameter(1)<51\")\n",
    "[hist,legend,canvas,pad1] = drawHistograms(objectName,rootDataFile,legendNames=runList,normalize=True,log=\"logx\",yAxisRange=[0,0.12],legend=True,pads=False)\n",
    "\n",
    "pad1.cd()\n",
    "sectorBoundary = ROOT.TLine(50,hist.GetMinimum(),50,hist.GetMaximum())\n",
    "sectorBoundary.SetLineStyle(2)\n",
    "sectorBoundary.SetLineWidth(4)\n",
    "sectorBoundary.Draw()\n",
    "    \n",
    "canvas.Draw()"
   ]
  },
  {
   "cell_type": "markdown",
   "id": "b9ed6bf3",
   "metadata": {},
   "source": [
    "## TPC Gain calibration\n",
    "**dEdx of MIP vs sector**\n",
    "+ All runs have uniform dEdx response in sector"
   ]
  },
  {
   "cell_type": "code",
   "execution_count": null,
   "id": "8b9d2bb7",
   "metadata": {},
   "outputs": [],
   "source": [
    "%jsroot on\n",
    "objectName=\"hdEdxTotMIPVsSec_TPC\"\n",
    "[hist,legend,canvas,pad1] = drawHistograms(objectName,rootDataFile,normalize=False,legend=False,log=\"logy\",legendNames=runList,pads=True,drawOption=\"COLZ\")\n",
    "canvas.Draw()"
   ]
  },
  {
   "cell_type": "markdown",
   "id": "dedc1882",
   "metadata": {},
   "source": [
    "**dEdx of Mip vs nClusters**\n",
    "* All runs OK"
   ]
  },
  {
   "cell_type": "code",
   "execution_count": null,
   "id": "09d8a306",
   "metadata": {},
   "outputs": [],
   "source": [
    "%jsroot on\n",
    "objectName=\"hdEdxTotMIPVsNcl_TPC\"\n",
    "[hist,legend,canvas,pad1] = drawHistograms(objectName,rootDataFile,normalize=False,legend=False,log=\"logz\",xAxisRange = [55,180],legendNames=runList,pads=True,drawOption=\"COLZ\")\n",
    "canvas.Draw()"
   ]
  },
  {
   "cell_type": "markdown",
   "id": "61714520",
   "metadata": {},
   "source": [
    "**dEdx of Mip vs sin(phi)**\n",
    "* All runs OK"
   ]
  },
  {
   "cell_type": "code",
   "execution_count": null,
   "id": "14ca62a2",
   "metadata": {},
   "outputs": [],
   "source": [
    "%jsroot on\n",
    "objectName=\"hdEdxTotMIPVsSnp_TPC\"\n",
    "[hist,legend,canvas,pad1] = drawHistograms(objectName,rootDataFile,normalize=False,legend=False,log=\"logz\",legendNames=runList,pads=True,drawOption=\"COLZ\")\n",
    "canvas.Draw()"
   ]
  },
  {
   "cell_type": "markdown",
   "id": "560a30ec",
   "metadata": {},
   "source": [
    "**dEdx of Mip vs tan(lambda)**\n",
    "* Some runs have a drop in energy loss for large abs(tgl)"
   ]
  },
  {
   "cell_type": "code",
   "execution_count": null,
   "id": "0189d813",
   "metadata": {},
   "outputs": [],
   "source": [
    "%jsroot on\n",
    "objectName=\"hdEdxTotMIPVsTgl_TPC\"\n",
    "[hist,legend,canvas,pad1] = drawHistograms(objectName,rootDataFile,normalize=False,legend=False,log=\"logz\",legendNames=runList,pads=True,drawOption=\"COLZ\")\n",
    "canvas.Draw()"
   ]
  },
  {
   "cell_type": "markdown",
   "id": "4d5e6ec8",
   "metadata": {},
   "source": [
    "### dEdx vs p\n",
    "+ All runs OK"
   ]
  },
  {
   "cell_type": "code",
   "execution_count": null,
   "id": "a3f91098",
   "metadata": {},
   "outputs": [],
   "source": [
    "%jsroot on\n",
    "objectName=\"hdEdxTotVsP_TPC\"\n",
    "[hist,legend,canvas,pad1] = drawHistograms(objectName,rootDataFile,normalize=False,legend=False,log=\"logxyz\",legendNames=runList,pads=True,drawOption=\"COLZ\")\n",
    "canvas.Draw()"
   ]
  },
  {
   "cell_type": "code",
   "execution_count": null,
   "id": "b0dbd4cf",
   "metadata": {},
   "outputs": [],
   "source": []
  }
 ],
 "metadata": {
  "kernelspec": {
   "display_name": "Python 3 (ipykernel)",
   "language": "python",
   "name": "python3"
  },
  "language_info": {
   "codemirror_mode": {
    "name": "ipython",
    "version": 3
   },
   "file_extension": ".py",
   "mimetype": "text/x-python",
   "name": "python",
   "nbconvert_exporter": "python",
   "pygments_lexer": "ipython3",
   "version": "3.9.12"
  },
  "toc": {
   "base_numbering": 1,
   "nav_menu": {},
   "number_sections": false,
   "sideBar": false,
   "skip_h1_title": true,
   "title_cell": "Table of Contents",
   "title_sidebar": "Contents",
   "toc_cell": true,
   "toc_position": {},
   "toc_section_display": true,
   "toc_window_display": false
  }
 },
 "nbformat": 4,
 "nbformat_minor": 5
}
