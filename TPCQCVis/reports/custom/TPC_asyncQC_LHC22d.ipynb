{
 "cells": [
  {
   "cell_type": "code",
   "execution_count": null,
   "id": "c882f5ea",
   "metadata": {
    "slideshow": {
     "slide_type": "skip"
    }
   },
   "outputs": [],
   "source": [
    "import ROOT\n",
    "import glob\n",
    "import math\n",
    "import numpy as np\n",
    "from IPython.display import display, Markdown\n",
    "from IPython.display import display, HTML\n",
    "from TPCQCVis.src.drawHistograms import *\n",
    "from TPCQCVis.src.drawTrending import *\n",
    "from TPCQCVis.src.checkHistograms import *"
   ]
  },
  {
   "cell_type": "code",
   "execution_count": null,
   "id": "c3c71331",
   "metadata": {},
   "outputs": [],
   "source": [
    "display(HTML(\"<style>.container { width:90% !important; }</style>\"))\n",
    "display(HTML(\"<style>table {float:left;}</style>\"))"
   ]
  },
  {
   "cell_type": "code",
   "execution_count": null,
   "id": "c700100d",
   "metadata": {
    "slideshow": {
     "slide_type": "skip"
    }
   },
   "outputs": [],
   "source": [
    "# Read the Root Files\n",
    "path = \"/home/berki/alice/data/asyncQC/LHC22d/apass1/\"\n",
    "fileList = glob.glob(path+\"*_QC.root\")\n",
    "fileList.sort()\n",
    "runList = [fileList[i][55:-8] for i in range(len(fileList))]\n",
    "rootDataFile=[]\n",
    "for file in fileList:\n",
    "    rootDataFile.append(ROOT.TFile.Open(file,\"READ\"))\n",
    "#rootDataFile[0].ls()\n",
    "#rootDataFile[0].ClusterQC.ls()\n",
    "#rootDataFile[0].PIDQC.ls()\n",
    "#rootDataFile[0].TracksQC.ls()\n",
    "#runList"
   ]
  },
  {
   "cell_type": "markdown",
   "id": "150def86",
   "metadata": {
    "slideshow": {
     "slide_type": "slide"
    }
   },
   "source": [
    "# Reporting on TPC QC for LHC22d\n",
    "\n",
    "| period | run number | Beam | Energy  | B field    | comment | reco   | Day (Start) | Start (CEST) | Day (End)  | End (CEST) | Duration | Filling scheme       | Colliding bcs | TPC Quality | TPC Comment | TPC gain calib ready |\n",
    "|--------|------------|------|---------|------------|---------|--------|-------------|--------------|------------|------------|----------|----------------------|---------------|-------------|-------------|----------------------|\n",
    "| LHC22d | 518541     | pp   | 900 GeV | -30kA/-6kA |         | apass1 | 13.06.2022  | 12:11:12     | 13.06.2022 | 12:32:44   | 00:21:32 | Single_4b_2_2_2_noLR | 2             |             |             | yes                  |\n",
    "| LHC22d | 518542     | pp   | 900 GeV | -30kA/-6kA |         | apass1 | 13.06.2022  | 12:39:50     | 13.06.2022 | 12:44:52   | 00:05:02 | Single_4b_2_2_2_noLR | 2             |             |             | yes                  |\n",
    "| LHC22d | 518543     | pp   | 900 GeV | -30kA/-6kA |         | apass1 | 13.06.2022  | 12:51:24     | 13.06.2022 | 13:10:54   | 00:19:30 | Single_4b_2_2_2_noLR | 2             |             |             | yes                  |\n",
    "| LHC22d | 518546     | pp   | 900 GeV | -30kA/-6kA |         | apass1 | 13.06.2022  | 13:26:51     | 13.06.2022 | 14:09:24   | 00:42:33 | Single_4b_2_2_2_noLR | 2             |             |             | yes                  |\n",
    "| LHC22d | 518547     | pp   | 900 GeV | -30kA/-6kA |         | apass1 | 13.06.2022  | 14:16:25     | 13.06.2022 | 14:37:43   | 00:21:18 | Single_4b_2_2_2_noLR | 2             |             |             | yes                  |\n"
   ]
  },
  {
   "cell_type": "markdown",
   "id": "63521eaa",
   "metadata": {},
   "source": [
    "---\n",
    "## General comments:\n",
    "+ All runs `OK`"
   ]
  },
  {
   "cell_type": "markdown",
   "id": "6f8b8bfe",
   "metadata": {},
   "source": [
    "---\n",
    "# Observations:\n",
    "\n",
    "## Number of tracks per run\n",
    "+ All `OK`"
   ]
  },
  {
   "cell_type": "code",
   "execution_count": null,
   "id": "88da8cbf",
   "metadata": {
    "slideshow": {
     "slide_type": "-"
    }
   },
   "outputs": [],
   "source": [
    "%jsroot on\n",
    "objectName=\"hPt;1\"\n",
    "[trend,canvas] = drawTrending(objectName,rootDataFile,names=runList,trend=\"entries\",error=\"\",log=\"logy\",namesFromRunList=True)\n",
    "canvas.Draw()"
   ]
  },
  {
   "cell_type": "markdown",
   "id": "ca8c4823",
   "metadata": {},
   "source": [
    "---\n",
    "## Cluster QC\n",
    "\n",
    "+ No faulty regions or hotspots detected\n",
    "+ All `ÒK`"
   ]
  },
  {
   "cell_type": "code",
   "execution_count": null,
   "id": "bde00238",
   "metadata": {},
   "outputs": [],
   "source": [
    "%jsroot on\n",
    "objectName = \"c_N_Clusters\"\n",
    "c = rootDataFile[0].ClusterQC.Get(objectName)\n",
    "c.Draw()"
   ]
  },
  {
   "cell_type": "code",
   "execution_count": null,
   "id": "5ea4ad40",
   "metadata": {},
   "outputs": [],
   "source": [
    "%jsroot on\n",
    "objectName = \"c_Q_Tot\"\n",
    "c = rootDataFile[0].ClusterQC.Get(objectName)\n",
    "c.Draw()"
   ]
  },
  {
   "cell_type": "code",
   "execution_count": null,
   "id": "dde22d6a",
   "metadata": {},
   "outputs": [],
   "source": [
    "%jsroot on\n",
    "objectName = \"c_Sigma_Time\"\n",
    "c = rootDataFile[0].ClusterQC.Get(objectName)\n",
    "c.Draw()"
   ]
  },
  {
   "cell_type": "markdown",
   "id": "1ab4e010",
   "metadata": {},
   "source": [
    "---\n",
    "## Tracks QC\n",
    "**Notes:** Runs `OK`"
   ]
  },
  {
   "cell_type": "markdown",
   "id": "651d6310",
   "metadata": {},
   "source": [
    "## Phi distribution of tracks:\n",
    "\n",
    "+ All runs in agreement\n",
    "+ All `OK`"
   ]
  },
  {
   "cell_type": "code",
   "execution_count": null,
   "id": "f86ce34c",
   "metadata": {},
   "outputs": [],
   "source": [
    "%jsroot on\n",
    "objectName=\"hPhiAside\"\n",
    "[hist,legend,canvas,pad1] = drawHistograms(objectName,rootDataFile,normalize=True,legend=True,legendNames=runList,pads=False, drawOption=\"SAME L\")\n",
    "\n",
    "#Sector boundatries\n",
    "pad1.cd()\n",
    "sectorBoundary = ROOT.TLine(0,hist.GetMinimum(),0,hist.GetMaximum())\n",
    "sectorBoundary.SetLineStyle(2)\n",
    "sectorNum = ROOT.TText(.5,.5,\"test\")\n",
    "sectorNum.SetTextAlign(22)\n",
    "sectorNum.SetTextColor(ROOT.kGray+1)\n",
    "sectorNum.SetTextFont(0)\n",
    "for j in range(19):\n",
    "    sectorBoundary.DrawLine((j*2*math.pi)/18,hist.GetMinimum(),(j*2*math.pi)/18,hist.GetMaximum())\n",
    "    if j < 18 : sectorNum.DrawText(((j+0.5)*2*math.pi)/18,hist.GetMaximum(),str(j))\n",
    "    \n",
    "canvas.Draw()"
   ]
  },
  {
   "cell_type": "markdown",
   "id": "b84d24a1",
   "metadata": {},
   "source": [
    "+ C-side no major issues observed"
   ]
  },
  {
   "cell_type": "code",
   "execution_count": null,
   "id": "017f8ed0",
   "metadata": {},
   "outputs": [],
   "source": [
    "%jsroot on\n",
    "objectName=\"hPhiCside\"\n",
    "[hist,legend,canvas,pad1] = drawHistograms(objectName,rootDataFile,normalize=True,legend=True,legendNames=runList,pads=False, drawOption=\"SAME L\")\n",
    "#Sector boundatries\n",
    "pad1.cd()\n",
    "sectorBoundary = ROOT.TLine(0,hist.GetMinimum(),0,hist.GetMaximum())\n",
    "sectorBoundary.SetLineStyle(2)\n",
    "sectorNum = ROOT.TText(.5,.5,\"test\")\n",
    "sectorNum.SetTextAlign(22)\n",
    "sectorNum.SetTextColor(ROOT.kGray+1)\n",
    "sectorNum.SetTextFont(0)\n",
    "for j in range(19):\n",
    "    sectorBoundary.DrawLine((j*2*math.pi)/18,hist.GetMinimum(),(j*2*math.pi)/18,hist.GetMaximum())\n",
    "    if j < 18 : sectorNum.DrawText(((j+0.5)*2*math.pi)/18,hist.GetMaximum(),str(j))\n",
    "        \n",
    "canvas.Draw()"
   ]
  },
  {
   "cell_type": "markdown",
   "id": "392cd49b",
   "metadata": {},
   "source": [
    "### Number of clusters vs phi\n",
    "+ No problems observed\n",
    "+ All `OK`"
   ]
  },
  {
   "cell_type": "code",
   "execution_count": null,
   "id": "38642988",
   "metadata": {},
   "outputs": [],
   "source": [
    "%jsroot on\n",
    "objectName=\"h2DNClustersPhiAside\"\n",
    "[hist,legend,canvas,pad1] = drawHistograms(objectName,rootDataFile,normalize=False,legend=False,legendNames=runList,pads=True,drawOption=\"COLZ\")\n",
    "canvas.Draw()"
   ]
  },
  {
   "cell_type": "code",
   "execution_count": null,
   "id": "cf4bcbc8",
   "metadata": {},
   "outputs": [],
   "source": [
    "%jsroot on\n",
    "objectName=\"h2DNClustersPhiCside\"\n",
    "[hist,legend,canvas,pad1] = drawHistograms(objectName,rootDataFile,normalize=False,legend=False,legendNames=runList,pads=True,drawOption=\"COLZ\")\n",
    "canvas.Draw()"
   ]
  },
  {
   "cell_type": "markdown",
   "id": "1b3fb5b0",
   "metadata": {
    "slideshow": {
     "slide_type": "subslide"
    }
   },
   "source": [
    "---\n",
    "### Pt distribution\n",
    "+ All `OK`"
   ]
  },
  {
   "cell_type": "code",
   "execution_count": null,
   "id": "5c7d69bc",
   "metadata": {
    "slideshow": {
     "slide_type": "-"
    }
   },
   "outputs": [],
   "source": [
    "%jsroot on\n",
    "objectName=\"hPt\"\n",
    "[hist,legend,canvas,pad1] = drawHistograms(objectName,rootDataFile,normalize=True,legend=True,log=\"logxy\",legendNames=runList,pads=False)\n",
    "canvas.Draw()"
   ]
  },
  {
   "cell_type": "markdown",
   "id": "e31dd145",
   "metadata": {
    "slideshow": {
     "slide_type": "slide"
    }
   },
   "source": [
    "---\n",
    "### Clusters per track\n",
    "\n",
    "+ All `OK`"
   ]
  },
  {
   "cell_type": "code",
   "execution_count": null,
   "id": "a36ab3cb",
   "metadata": {},
   "outputs": [],
   "source": [
    "%jsroot on\n",
    "objectName=\"hNClustersAfterCuts\"\n",
    "[hist,legend,canvas,pad1] = drawHistograms(objectName,rootDataFile[-5:],normalize=True,legend=True,legendNames=runList[-5:],pads=False)\n",
    "canvas.Draw()"
   ]
  },
  {
   "cell_type": "markdown",
   "id": "b47e7f3c",
   "metadata": {},
   "source": [
    "### Eta\n",
    "+ All `OK`"
   ]
  },
  {
   "cell_type": "code",
   "execution_count": null,
   "id": "39aceb92",
   "metadata": {},
   "outputs": [],
   "source": [
    "%jsroot on\n",
    "objectName=\"hEta\"\n",
    "[hist,legend,canvas,pad1] = drawHistograms(objectName,rootDataFile,normalize=True,legend=False,legendNames=runList,pads=False)\n",
    "canvas.Draw()"
   ]
  },
  {
   "cell_type": "code",
   "execution_count": null,
   "id": "28971e12",
   "metadata": {},
   "outputs": [],
   "source": [
    "%jsroot on\n",
    "objectName=\"h2DNClustersEta\"\n",
    "[hist,legend,canvas,pad1] = drawHistograms(objectName,rootDataFile,normalize=False,legend=False,legendNames=runList,pads=True,drawOption=\"COLZ\")\n",
    "canvas.Draw()"
   ]
  },
  {
   "cell_type": "markdown",
   "id": "216eaca6",
   "metadata": {},
   "source": [
    "---\n",
    "### Sign of tracks\n",
    "\n",
    "+ All `OK`"
   ]
  },
  {
   "cell_type": "code",
   "execution_count": null,
   "id": "9c65b0de",
   "metadata": {},
   "outputs": [],
   "source": [
    "%jsroot on\n",
    "objectName=\"hSign\"\n",
    "[hist,legend,canvas,pad1] = drawHistograms(objectName,rootDataFile[-8:],normalize=True,legend=True,legendNames=runList[-8:],pads=False)\n",
    "canvas.Draw()"
   ]
  },
  {
   "cell_type": "markdown",
   "id": "a067a387",
   "metadata": {},
   "source": [
    "---\n",
    "## PID QC"
   ]
  },
  {
   "cell_type": "markdown",
   "id": "a29a9050",
   "metadata": {},
   "source": [
    "### MIP signal\n",
    "+ All `OK`"
   ]
  },
  {
   "cell_type": "code",
   "execution_count": null,
   "id": "518ec8b6",
   "metadata": {},
   "outputs": [],
   "source": [
    "%jsroot on\n",
    "objectName=\"hdEdxTotMIP_TPC\"\n",
    "quality = checkHistograms(objectName,rootDataFile,check=\"(histogram.Fit(\\\"gaus\\\",\\\"Sq\\\",\\\"\\\",40,60)) and 45<histogram.GetFunction(\\\"gaus\\\").GetParameter(1)<55\")\n",
    "[hist,legend,canvas,pad1] = drawHistograms(objectName,rootDataFile,legendNames=runList,check=quality,normalize=False,log=\"logx\",legend=False,pads=True)\n",
    "canvas.Draw()"
   ]
  },
  {
   "cell_type": "markdown",
   "id": "087ec882",
   "metadata": {},
   "source": [
    "---\n",
    "### dEdx vs P\n",
    "+ All `OK`"
   ]
  },
  {
   "cell_type": "code",
   "execution_count": null,
   "id": "87a3db40",
   "metadata": {},
   "outputs": [],
   "source": [
    "%jsroot on\n",
    "objectName=\"hdEdxTotVsP_TPC\"\n",
    "[hist,legend,canvas,pad1] = drawHistograms(objectName,rootDataFile,legendNames=runList,log=\"logxyz\",pads=True,drawOption=\"COLZ\")\n",
    "canvas.Draw()"
   ]
  },
  {
   "cell_type": "code",
   "execution_count": null,
   "id": "ebe643d9",
   "metadata": {},
   "outputs": [],
   "source": []
  }
 ],
 "metadata": {
  "celltoolbar": "Slideshow",
  "kernelspec": {
   "display_name": "Python 3 (ipykernel)",
   "language": "python",
   "name": "python3"
  },
  "language_info": {
   "codemirror_mode": {
    "name": "ipython",
    "version": 3
   },
   "file_extension": ".py",
   "mimetype": "text/x-python",
   "name": "python",
   "nbconvert_exporter": "python",
   "pygments_lexer": "ipython3",
   "version": "3.9.12"
  },
  "rise": {
   "scroll": true
  }
 },
 "nbformat": 4,
 "nbformat_minor": 5
}
