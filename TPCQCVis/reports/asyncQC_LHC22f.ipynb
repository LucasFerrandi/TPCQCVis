{
 "cells": [
  {
   "cell_type": "markdown",
   "id": "9f803fee",
   "metadata": {
    "toc": true
   },
   "source": [
    "<h1>Table of Contents<span class=\"tocSkip\"></span></h1>\n",
    "<div class=\"toc\"><ul class=\"toc-item\"><li><span><a href=\"#General-comments\" data-toc-modified-id=\"General-comments-1\">General comments</a></span></li><li><span><a href=\"#Tracks-QC\" data-toc-modified-id=\"Tracks-QC-2\">Tracks QC</a></span></li><li><span><a href=\"#Phi-distribution-of-tracks:\" data-toc-modified-id=\"Phi-distribution-of-tracks:-3\">Phi distribution of tracks:</a></span><ul class=\"toc-item\"><li><span><a href=\"#Pt-distribution\" data-toc-modified-id=\"Pt-distribution-3.1\">Pt distribution</a></span></li><li><span><a href=\"#Clusters-per-track\" data-toc-modified-id=\"Clusters-per-track-3.2\">Clusters per track</a></span></li><li><span><a href=\"#Number-of-clusters-vs-eta\" data-toc-modified-id=\"Number-of-clusters-vs-eta-3.3\">Number of clusters vs eta</a></span></li><li><span><a href=\"#Sign-of-tracks\" data-toc-modified-id=\"Sign-of-tracks-3.4\">Sign of tracks</a></span></li></ul></li><li><span><a href=\"#PID-QC\" data-toc-modified-id=\"PID-QC-4\">PID QC</a></span><ul class=\"toc-item\"><li><span><a href=\"#MIP-signal\" data-toc-modified-id=\"MIP-signal-4.1\">MIP signal</a></span></li></ul></li></ul></div>"
   ]
  },
  {
   "cell_type": "code",
   "execution_count": null,
   "id": "c882f5ea",
   "metadata": {
    "slideshow": {
     "slide_type": "skip"
    }
   },
   "outputs": [],
   "source": [
    "import ROOT\n",
    "import glob\n",
    "import math\n",
    "import numpy as np\n",
    "from IPython.display import display, Markdown\n",
    "from IPython.display import display, HTML\n",
    "from TPCQCVis.src.drawHistograms import *\n",
    "from TPCQCVis.src.drawTrending import *\n",
    "from TPCQCVis.src.checkHistograms import *"
   ]
  },
  {
   "cell_type": "code",
   "execution_count": null,
   "id": "c3c71331",
   "metadata": {},
   "outputs": [],
   "source": [
    "display(HTML(\"<style>.container { width:90% !important; }</style>\"))\n",
    "display(HTML(\"<style>table {float:left;}</style>\"))"
   ]
  },
  {
   "cell_type": "code",
   "execution_count": null,
   "id": "c700100d",
   "metadata": {
    "slideshow": {
     "slide_type": "skip"
    }
   },
   "outputs": [],
   "source": [
    "# Read the Root Files\n",
    "path = \"/home/berki/alice/data/asyncQC/LHC22f/apass1/\"\n",
    "fileList = glob.glob(path+\"*_QC.root\")\n",
    "fileList.sort()\n",
    "runList = [fileList[i][52:-8] for i in range(len(fileList))]\n",
    "rootDataFile=[]\n",
    "for file in fileList:\n",
    "    rootDataFile.append(ROOT.TFile.Open(file,\"READ\"))\n",
    "#rootDataFile[0].ls()\n",
    "#rootDataFile[0].ClusterQC.ls()\n",
    "#rootDataFile[0].PIDQC.ls()\n",
    "#rootDataFile[0].TracksQC.ls()\n",
    "#runList"
   ]
  },
  {
   "cell_type": "markdown",
   "id": "150def86",
   "metadata": {
    "slideshow": {
     "slide_type": "slide"
    }
   },
   "source": [
    "# Reporting on TPC QC for LHC22f - Run 520259\n",
    "\n",
    "> Link to JIRA: https://alice.its.cern.ch/jira/browse/O2-3127 <br />\n",
    "> B = +0.5 T <br />\n",
    "> beam = pp <br />\n",
    "> energy (sqrt) = 13.6 TeV <br />\n",
    "> Filling scheme: Single_12b_8_8_8_2018 <br />\n",
    "> `CPV Physics Async missing`"
   ]
  },
  {
   "cell_type": "markdown",
   "id": "c4ec9a0f",
   "metadata": {},
   "source": [
    "## General comments\n",
    "+ pT tail run dependance, appears to be correlated with filling scheme. To be investigated. Marking runs GOOD matched tracks don't seem to be affected.\n",
    "+ More significant secondary bump for nCluster per track distribution compared to LHC22c"
   ]
  },
  {
   "cell_type": "markdown",
   "id": "1ab4e010",
   "metadata": {},
   "source": [
    "---\n",
    "## Tracks QC\n",
    "**Notes:** Runs `OK`"
   ]
  },
  {
   "cell_type": "markdown",
   "id": "651d6310",
   "metadata": {},
   "source": [
    "## Phi distribution of tracks:\n",
    "\n",
    "+ Low efficiency on sectors A5, A7, C1, C12\n",
    "+ Result: `MIXED`"
   ]
  },
  {
   "cell_type": "code",
   "execution_count": null,
   "id": "f86ce34c",
   "metadata": {},
   "outputs": [],
   "source": [
    "%jsroot on\n",
    "objectName=\"hPhiAside\"\n",
    "[hist,legend,canvas,pad1] = drawHistograms(objectName,rootDataFile,normalize=False,legend=True,legendNames=runList,pads=False, drawOption=\"SAME L\")\n",
    "\n",
    "#Sector boundatries\n",
    "pad1.cd()\n",
    "sectorBoundary = ROOT.TLine(0,hist.GetMinimum(),0,hist.GetMaximum())\n",
    "sectorBoundary.SetLineStyle(2)\n",
    "sectorNum = ROOT.TText(.5,.5,\"test\")\n",
    "sectorNum.SetTextAlign(22)\n",
    "sectorNum.SetTextColor(ROOT.kGray+1)\n",
    "sectorNum.SetTextFont(0)\n",
    "for j in range(19):\n",
    "    sectorBoundary.DrawLine((j*2*math.pi)/18,hist.GetMinimum(),(j*2*math.pi)/18,hist.GetMaximum())\n",
    "    if j < 18 : sectorNum.DrawText(((j+0.5)*2*math.pi)/18,hist.GetMaximum(),str(j))\n",
    "    \n",
    "canvas.Draw()"
   ]
  },
  {
   "cell_type": "markdown",
   "id": "b84d24a1",
   "metadata": {},
   "source": [
    "+ C-side no major issues observed"
   ]
  },
  {
   "cell_type": "code",
   "execution_count": null,
   "id": "017f8ed0",
   "metadata": {},
   "outputs": [],
   "source": [
    "%jsroot on\n",
    "objectName=\"hPhiCside\"\n",
    "[hist,legend,canvas,pad1] = drawHistograms(objectName,rootDataFile,normalize=False,legend=True,legendNames=runList,pads=False, drawOption=\"SAME L\")\n",
    "#Sector boundatries\n",
    "pad1.cd()\n",
    "sectorBoundary = ROOT.TLine(0,hist.GetMinimum(),0,hist.GetMaximum())\n",
    "sectorBoundary.SetLineStyle(2)\n",
    "sectorNum = ROOT.TText(.5,.5,\"test\")\n",
    "sectorNum.SetTextAlign(22)\n",
    "sectorNum.SetTextColor(ROOT.kGray+1)\n",
    "sectorNum.SetTextFont(0)\n",
    "for j in range(19):\n",
    "    sectorBoundary.DrawLine((j*2*math.pi)/18,hist.GetMinimum(),(j*2*math.pi)/18,hist.GetMaximum())\n",
    "    if j < 18 : sectorNum.DrawText(((j+0.5)*2*math.pi)/18,hist.GetMaximum(),str(j))\n",
    "canvas.Draw()"
   ]
  },
  {
   "cell_type": "code",
   "execution_count": null,
   "id": "6227c08f",
   "metadata": {},
   "outputs": [],
   "source": [
    "%jsroot on\n",
    "objectName=\"h2DNClustersPhiAside\"\n",
    "[hist,legend,canvas,pad1] = drawHistograms(objectName,rootDataFile[0:1],normalize=False,legend=False,legendNames=runList[0:1],pads=True,drawOption=\"COLZ\")\n",
    "\n",
    "canvas.Draw()"
   ]
  },
  {
   "cell_type": "code",
   "execution_count": null,
   "id": "5223e3df",
   "metadata": {},
   "outputs": [],
   "source": [
    "%jsroot on\n",
    "objectName=\"h2DNClustersPhiCside\"\n",
    "[hist,legend,canvas,pad1] = drawHistograms(objectName,rootDataFile[0:1],normalize=False,legend=False,legendNames=runList[0:1],pads=True,drawOption=\"COLZ\")\n",
    "canvas.Draw()"
   ]
  },
  {
   "cell_type": "markdown",
   "id": "1b3fb5b0",
   "metadata": {
    "slideshow": {
     "slide_type": "subslide"
    }
   },
   "source": [
    "---\n",
    "### Pt distribution\n",
    "\n",
    "+ No issues\n",
    "+ Result: `OK`"
   ]
  },
  {
   "cell_type": "code",
   "execution_count": null,
   "id": "5c7d69bc",
   "metadata": {
    "slideshow": {
     "slide_type": "-"
    }
   },
   "outputs": [],
   "source": [
    "%jsroot on\n",
    "objectName=\"hPt\"\n",
    "[hist,legend,canvas,pad1] = drawHistograms(objectName,rootDataFile,normalize=True,legend=True,log=\"logxy\",legendNames=runList,pads=False)\n",
    "canvas.Draw()"
   ]
  },
  {
   "cell_type": "markdown",
   "id": "e31dd145",
   "metadata": {
    "slideshow": {
     "slide_type": "slide"
    }
   },
   "source": [
    "---\n",
    "### Clusters per track\n",
    "\n",
    "+ Secondary peak at nClusters not very significant\n",
    "+ Result: `OK`"
   ]
  },
  {
   "cell_type": "code",
   "execution_count": null,
   "id": "a36ab3cb",
   "metadata": {},
   "outputs": [],
   "source": [
    "%jsroot on\n",
    "objectName=\"hNClustersAfterCuts\"\n",
    "[hist,legend,canvas,pad1] = drawHistograms(objectName,rootDataFile,normalize=True,legend=False,legendNames=runList,pads=False)\n",
    "canvas.Draw()"
   ]
  },
  {
   "cell_type": "markdown",
   "id": "00f68e43",
   "metadata": {},
   "source": [
    "### Number of clusters vs eta\n",
    "+ Asymmetry of track lengths on two sides for low eta\n",
    "+ Result: `MIXED`"
   ]
  },
  {
   "cell_type": "code",
   "execution_count": null,
   "id": "28971e12",
   "metadata": {},
   "outputs": [],
   "source": [
    "%jsroot on\n",
    "objectName=\"h2DNClustersEta\"\n",
    "[hist,legend,canvas,pad1] = drawHistograms(objectName,rootDataFile[-4:],normalize=False,legend=False,legendNames=runList[-4:],pads=True,drawOption=\"COLZ\")\n",
    "canvas.Draw()"
   ]
  },
  {
   "cell_type": "markdown",
   "id": "216eaca6",
   "metadata": {},
   "source": [
    "---\n",
    "### Sign of tracks\n",
    "\n",
    "+ Ratio of pos/neg tracks consistent\n",
    "+ Result: `OK`"
   ]
  },
  {
   "cell_type": "code",
   "execution_count": null,
   "id": "9c65b0de",
   "metadata": {},
   "outputs": [],
   "source": [
    "%jsroot on\n",
    "objectName=\"hSign\"\n",
    "[hist,legend,canvas,pad1] = drawHistograms(objectName,rootDataFile,normalize=True,legend=True,legendNames=runList,pads=False)\n",
    "canvas.Draw()"
   ]
  },
  {
   "cell_type": "markdown",
   "id": "a067a387",
   "metadata": {},
   "source": [
    "---\n",
    "## PID QC"
   ]
  },
  {
   "cell_type": "markdown",
   "id": "a29a9050",
   "metadata": {},
   "source": [
    "### MIP signal\n",
    "+ No major outliers observed, all MIP peaks at ~50\n",
    " + All **GOOD**"
   ]
  },
  {
   "cell_type": "code",
   "execution_count": null,
   "id": "518ec8b6",
   "metadata": {},
   "outputs": [],
   "source": [
    "%jsroot on\n",
    "objectName=\"hdEdxTotMIP_TPC\"\n",
    "quality = checkHistograms(objectName,rootDataFile,check=\"(histogram.Fit(\\\"gaus\\\",\\\"Sq\\\",\\\"\\\",42,58)) and 45<histogram.GetFunction(\\\"gaus\\\").GetParameter(1)<55\")\n",
    "[hist,legend,canvas,pad1] = drawHistograms(objectName,rootDataFile,legendNames=runList,check=quality,normalize=False,log=\"logx\",legend=False,pads=True)\n",
    "canvas.Draw()"
   ]
  },
  {
   "cell_type": "code",
   "execution_count": null,
   "id": "87a3db40",
   "metadata": {},
   "outputs": [],
   "source": [
    "%jsroot on\n",
    "objectName=\"hdEdxTotVsP_TPC\"\n",
    "[hist,legend,canvas,pad1] = drawHistograms(objectName,rootDataFile[0:1],log=\"logxz\",pads=True,drawOption=\"COLZ\")\n",
    "canvas.Draw()"
   ]
  },
  {
   "cell_type": "code",
   "execution_count": null,
   "id": "956e5eb5",
   "metadata": {},
   "outputs": [],
   "source": []
  }
 ],
 "metadata": {
  "celltoolbar": "Slideshow",
  "kernelspec": {
   "display_name": "Python 3 (ipykernel)",
   "language": "python",
   "name": "python3"
  },
  "language_info": {
   "codemirror_mode": {
    "name": "ipython",
    "version": 3
   },
   "file_extension": ".py",
   "mimetype": "text/x-python",
   "name": "python",
   "nbconvert_exporter": "python",
   "pygments_lexer": "ipython3",
   "version": "3.9.12"
  },
  "rise": {
   "scroll": true
  },
  "toc": {
   "base_numbering": 1,
   "nav_menu": {},
   "number_sections": false,
   "sideBar": false,
   "skip_h1_title": true,
   "title_cell": "Table of Contents",
   "title_sidebar": "Contents",
   "toc_cell": true,
   "toc_position": {},
   "toc_section_display": true,
   "toc_window_display": false
  }
 },
 "nbformat": 4,
 "nbformat_minor": 5
}
