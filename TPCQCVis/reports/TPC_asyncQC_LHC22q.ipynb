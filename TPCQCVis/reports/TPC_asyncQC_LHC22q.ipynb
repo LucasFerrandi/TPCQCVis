{
 "cells": [
  {
   "cell_type": "code",
   "execution_count": null,
   "id": "2d408987",
   "metadata": {},
   "outputs": [],
   "source": [
    "import ROOT\n",
    "import glob\n",
    "import math\n",
    "import numpy as np\n",
    "from IPython.display import display, Markdown\n",
    "from IPython.display import display, HTML\n",
    "from TPCQCVis.src.drawHistograms import *\n",
    "from TPCQCVis.src.drawTrending import *\n",
    "from TPCQCVis.src.checkHistograms import *"
   ]
  },
  {
   "cell_type": "code",
   "execution_count": null,
   "id": "0468929f",
   "metadata": {},
   "outputs": [],
   "source": [
    "display(HTML(\"<style>.container { width:90% !important; }</style>\"))\n",
    "display(HTML(\"<style>table {float:left;}</style>\"))"
   ]
  },
  {
   "cell_type": "code",
   "execution_count": null,
   "id": "339b1a11",
   "metadata": {},
   "outputs": [],
   "source": [
    "# Read the Root Files\n",
    "path = \"/home/berki/alice/data/2022/LHC22q/\"\n",
    "fileList = glob.glob(path+\"*_QC.root\")\n",
    "fileList.sort()\n",
    "#fileList = fileList[13:]\n",
    "runList = [fileList[i][35:-8] for i in range(len(fileList))]\n",
    "rootDataFile=[]\n",
    "for file in fileList:\n",
    "    rootDataFile.append(ROOT.TFile.Open(file,\"READ\"))\n",
    "#rootDataFile[0].ls()\n",
    "#rootDataFile[0].ClusterQC.ls()\n",
    "#rootDataFile[0].PIDQC.ls()\n",
    "#rootDataFile[0].TracksQC.ls()\n",
    "#runList"
   ]
  },
  {
   "cell_type": "markdown",
   "id": "2e601429",
   "metadata": {},
   "source": [
    "# Reporting on TPC QC for LHC22q [apass1]\n",
    "> Link to JIRA: https://alice.its.cern.ch/jira/browse/O2-3437 <br />\n",
    "> B = +0.5 T <br />\n",
    "> beam = pp <br />\n",
    "> energy (sqrt) = 13.6 TeV <br />\n",
    "\n",
    "## Runs:\n",
    "| Run Number | Duration | Filling scheme                            | Colliding BCs | TPC Quality | Comment |\n",
    "| ---------- | -------- | ----------------------------------------- | ------------- | ----------- | ------- |\n",
    "| 528991     | 01:11:48 | Multi_70b_58_20_22_4bpi_19inj             | 20            |       `GOOD`      |         |\n",
    "| 528997     | 01:04:51 | Multi_70b_58_20_22_4bpi_19inj             | 20            |     `Mixed`         |  Problem in Secotr A6 observed in tracks but not in clusters       |\n",
    "| 529003     | 00:41:05 | Multi_70b_58_20_22_4bpi_19inj             | 20            |     `GOOD`         |         |\n",
    "| 529005     | 02:38:32 | Multi_70b_58_20_22_4bpi_19inj             | 20            |     `GOOD`         |         |\n",
    "| 529006     | 02:11:22 | Multi_70b_58_20_22_4bpi_19inj             | 20            |     `GOOD`         |Enhanced high pT tail compared to other runs|\n",
    "| 529008     | 00:23:35 | Multi_70b_58_20_22_4bpi_19inj             | 20            |     `GOOD`         |         |\n",
    "| 529009     | 01:08:08 | Multi_70b_58_20_22_4bpi_19inj             | 20            |     `GOOD`         |         |\n",
    "| 529015     | 01:00:58 | Multi_70b_58_20_22_4bpi_19inj             | 20            |     `Mixed`         |   Problem in Secotr A4 observed in tracks but not in clusters      |\n",
    "| 529035     | 00:10:13 | 525ns_146b_144_35_22_8bpi_20inj_nocloseLR | 35            |     `GOOD`         |         |\n",
    "| 529038     | 06:10:34 | 525ns_146b_144_35_22_8bpi_20inj_nocloseLR | 35            |     `GOOD`         |         |\n",
    "| 529039     | 10:11:23 | 525ns_146b_144_35_22_8bpi_20inj_nocloseLR | 35            |     `GOOD`         |         |\n",
    "| 529043     | 03:24:34 | 525ns_146b_144_35_22_8bpi_20inj_nocloseLR | 35            |     `GOOD`         |         |\n"
   ]
  },
  {
   "cell_type": "markdown",
   "id": "a5b19428",
   "metadata": {},
   "source": [
    "# Clusters QC - Problematic runs\n",
    "+ Cluster maps look OK\n",
    "+ Shown are runs where local drops in tracking efficiency are observed "
   ]
  },
  {
   "cell_type": "markdown",
   "id": "19496f02",
   "metadata": {},
   "source": [
    "## Run 528997\n",
    "+ Problem in Secotr A6 observed in tracks but not in clusters"
   ]
  },
  {
   "cell_type": "code",
   "execution_count": null,
   "id": "7e368a48",
   "metadata": {},
   "outputs": [],
   "source": [
    "%jsroot on\n",
    "objectName = \"c_N_Clusters\"\n",
    "c = rootDataFile[0].ClusterQC.Get(objectName)\n",
    "c.Draw()"
   ]
  },
  {
   "cell_type": "markdown",
   "id": "4795dfdc",
   "metadata": {},
   "source": [
    "## Run 529015\n",
    "+ Problem in Secotr A4 observed in tracks but not in clusters"
   ]
  },
  {
   "cell_type": "code",
   "execution_count": null,
   "id": "3bb4d60b",
   "metadata": {},
   "outputs": [],
   "source": [
    "%jsroot on\n",
    "objectName = \"c_N_Clusters\"\n",
    "c = rootDataFile[3].ClusterQC.Get(objectName)\n",
    "c.Draw()"
   ]
  },
  {
   "cell_type": "markdown",
   "id": "65d4e0b8",
   "metadata": {},
   "source": [
    "---\n",
    "## Tracks QC\n",
    "### Geometrical distributions of tracks\n",
    "**Phi distribution A-side tracks:**\n",
    "+ Problems in runs 528997 and 529015 "
   ]
  },
  {
   "cell_type": "code",
   "execution_count": null,
   "id": "7d16c878",
   "metadata": {},
   "outputs": [],
   "source": [
    "%jsroot on\n",
    "objectName=\"hPhiAside\"\n",
    "[hist,legend,canvas,pad1] = drawHistograms(objectName,rootDataFile,normalize=True,legend=True,legendNames=runList,pads=False,yAxisRange = [2E-3,3.5E-3], drawOption=\"SAME L\")\n",
    "\n",
    "#Sector boundatries\n",
    "pad1.cd()\n",
    "sectorBoundary = ROOT.TLine(0,hist.GetMinimum(),0,hist.GetMaximum())\n",
    "sectorBoundary.SetLineStyle(2)\n",
    "sectorNum = ROOT.TText(.5,.5,\"test\")\n",
    "sectorNum.SetTextAlign(22)\n",
    "sectorNum.SetTextColor(ROOT.kGray+1)\n",
    "sectorNum.SetTextFont(0)\n",
    "for j in range(19):\n",
    "    sectorBoundary.DrawLine((j*2*math.pi)/18,hist.GetMinimum(),(j*2*math.pi)/18,hist.GetMaximum())\n",
    "    if j < 18 : sectorNum.DrawText(((j+0.5)*2*math.pi)/18,hist.GetMaximum(),str(j))\n",
    "    \n",
    "canvas.Draw()"
   ]
  },
  {
   "cell_type": "markdown",
   "id": "e95096b3",
   "metadata": {},
   "source": [
    "**Phi distribution C-side tracks:**"
   ]
  },
  {
   "cell_type": "code",
   "execution_count": null,
   "id": "e4eea6ae",
   "metadata": {},
   "outputs": [],
   "source": [
    "%jsroot on\n",
    "objectName=\"hPhiCside\"\n",
    "[hist,legend,canvas,pad1] = drawHistograms(objectName,rootDataFile,normalize=True,legend=True,legendNames=runList,pads=False,yAxisRange = [1.5E-3,4.5E-3], drawOption=\"SAME L\")\n",
    "\n",
    "#Sector boundatries\n",
    "pad1.cd()\n",
    "sectorBoundary = ROOT.TLine(0,hist.GetMinimum(),0,hist.GetMaximum())\n",
    "sectorBoundary.SetLineStyle(2)\n",
    "sectorNum = ROOT.TText(.5,.5,\"test\")\n",
    "sectorNum.SetTextAlign(22)\n",
    "sectorNum.SetTextColor(ROOT.kGray+1)\n",
    "sectorNum.SetTextFont(0)\n",
    "for j in range(19):\n",
    "    sectorBoundary.DrawLine((j*2*math.pi)/18,hist.GetMinimum(),(j*2*math.pi)/18,hist.GetMaximum())\n",
    "    if j < 18 : sectorNum.DrawText(((j+0.5)*2*math.pi)/18,hist.GetMaximum(),str(j))\n",
    "    \n",
    "canvas.Draw()"
   ]
  },
  {
   "cell_type": "markdown",
   "id": "bb51540c",
   "metadata": {},
   "source": [
    "### Eta distribution\n",
    "+ Asymmetry between A and C sides\n",
    "+ Run 528597 has as expected huge difference between sides"
   ]
  },
  {
   "cell_type": "code",
   "execution_count": null,
   "id": "c0694dde",
   "metadata": {},
   "outputs": [],
   "source": [
    "objectName=\"hEta\"\n",
    "[hist,legend,canvas,pad1] = drawHistograms(objectName,rootDataFile,normalize=True,legend=True,xAxisRange=[-1.1,1.1],yAxisRange=[0,9E-3],legendNames=runList,pads=False)\n",
    "canvas.Draw()"
   ]
  },
  {
   "cell_type": "code",
   "execution_count": null,
   "id": "5c0b1436",
   "metadata": {},
   "outputs": [],
   "source": [
    "%jsroot on\n",
    "objectName=\"h2DEtaPhi\"\n",
    "[hist,legend,canvas,pad1] = drawHistograms(objectName,rootDataFile,normalize=False,legend=False,yAxisRange = [-1.1,1.1],legendNames=runList,pads=True,drawOption=\"COLZ\")\n",
    "canvas.Draw()"
   ]
  },
  {
   "cell_type": "markdown",
   "id": "97de51d0",
   "metadata": {},
   "source": [
    "### Track properties\n",
    "**Transverse momentum**\n",
    "+ High pT tail differs from run to run, main peak OK"
   ]
  },
  {
   "cell_type": "code",
   "execution_count": null,
   "id": "eccc8df7",
   "metadata": {},
   "outputs": [],
   "source": [
    "objectName=\"hPt\"\n",
    "[hist,legend,canvas,pad1] = drawHistograms(objectName,rootDataFile,normalize=True,legend=True,log=\"logxy\",yAxisRange = [1E-5,1E-1],legendNames=runList,pads=False)\n",
    "canvas.Draw()"
   ]
  },
  {
   "cell_type": "markdown",
   "id": "4a499c7e",
   "metadata": {},
   "source": [
    "**Track sign**\n",
    "+ Ratio as expected"
   ]
  },
  {
   "cell_type": "code",
   "execution_count": null,
   "id": "927661f4",
   "metadata": {},
   "outputs": [],
   "source": [
    "objectName=\"hSign\"\n",
    "[hist,legend,canvas,pad1] = drawHistograms(objectName,rootDataFile,normalize=True,legend=True,legendNames=runList,pads=False)\n",
    "canvas.Draw()"
   ]
  },
  {
   "cell_type": "markdown",
   "id": "441e5545",
   "metadata": {},
   "source": [
    " + Extra abundance of high pT tracks in 529006 (see pT distribution) can be observed as small in the center\n",
    " + Looks symmetric in charge"
   ]
  },
  {
   "cell_type": "code",
   "execution_count": null,
   "id": "10c4368a",
   "metadata": {},
   "outputs": [],
   "source": [
    "objectName=\"hQOverPt\"\n",
    "[hist,legend,canvas,pad1] = drawHistograms(objectName,rootDataFile,normalize=True,legend=True,legendNames=runList,pads=False)\n",
    "canvas.Draw()"
   ]
  },
  {
   "cell_type": "markdown",
   "id": "3f4344b4",
   "metadata": {},
   "source": [
    "### Number of clusters per track\n",
    "+ Run 529015 weird enhancement of the secondary peak"
   ]
  },
  {
   "cell_type": "code",
   "execution_count": null,
   "id": "1e6cb368",
   "metadata": {},
   "outputs": [],
   "source": [
    "%jsroot on\n",
    "objectName=\"hNClustersAfterCuts\"\n",
    "[hist,legend,canvas,pad1] = drawHistograms(objectName,rootDataFile,normalize=True,legend=True,xAxisRange = [50,160],legendNames=runList,pads=False)\n",
    "canvas.Draw()"
   ]
  },
  {
   "cell_type": "markdown",
   "id": "21b9e7a4",
   "metadata": {},
   "source": [
    "### nClusters vs eta\n",
    "+ peak at eta=0, nClusters = 80 prevelant"
   ]
  },
  {
   "cell_type": "code",
   "execution_count": null,
   "id": "c3531c9c",
   "metadata": {},
   "outputs": [],
   "source": [
    "%jsroot on\n",
    "objectName=\"h2DNClustersEta\"\n",
    "[hist,legend,canvas,pad1] = drawHistograms(objectName,rootDataFile,normalize=False,legend=False,xAxisRange = [-1.1,1.1],yAxisRange = [50,170],legendNames=runList,pads=True,drawOption=\"COLZ\")\n",
    "canvas.Draw()"
   ]
  },
  {
   "cell_type": "code",
   "execution_count": null,
   "id": "3bd4761b",
   "metadata": {},
   "outputs": [],
   "source": [
    "%jsroot on\n",
    "objectName=\"h2DNClustersPt\"\n",
    "[hist,legend,canvas,pad1] = drawHistograms(objectName,rootDataFile,normalize=False,legend=False,log=\"logx\",yAxisRange = [50,170],legendNames=runList,pads=True,drawOption=\"COLZ\")\n",
    "canvas.Draw()"
   ]
  },
  {
   "cell_type": "markdown",
   "id": "5a5df8aa",
   "metadata": {},
   "source": [
    "### PID"
   ]
  },
  {
   "cell_type": "code",
   "execution_count": null,
   "id": "3f8daf2e",
   "metadata": {},
   "outputs": [],
   "source": [
    "%jsroot on\n",
    "objectName=\"hdEdxTotMIP_TPC\"\n",
    "#quality = checkHistograms(objectName,rootDataFile,check=\"(histogram.Fit(\\\"gaus\\\",\\\"Sq\\\",\\\"\\\",40,60)) and 49<histogram.GetFunction(\\\"gaus\\\").GetParameter(1)<51\")\n",
    "[hist,legend,canvas,pad1] = drawHistograms(objectName,rootDataFile,legendNames=runList,normalize=True,log=\"logx\",yAxisRange=[0,0.12],legend=True,pads=False)\n",
    "\n",
    "pad1.cd()\n",
    "sectorBoundary = ROOT.TLine(50,hist.GetMinimum(),50,hist.GetMaximum())\n",
    "sectorBoundary.SetLineStyle(2)\n",
    "sectorBoundary.SetLineWidth(4)\n",
    "sectorBoundary.Draw()\n",
    "    \n",
    "canvas.Draw()"
   ]
  },
  {
   "cell_type": "markdown",
   "id": "5f31c8fa",
   "metadata": {},
   "source": [
    "### TPC Gain calibration\n",
    "+ All OK"
   ]
  },
  {
   "cell_type": "code",
   "execution_count": null,
   "id": "6afd9ec6",
   "metadata": {},
   "outputs": [],
   "source": [
    "%jsroot on\n",
    "objectName=\"hdEdxTotMIPVsSec_TPC\"\n",
    "[hist,legend,canvas,pad1] = drawHistograms(objectName,rootDataFile,normalize=False,legend=False,log=\"logy\",legendNames=runList,pads=True,drawOption=\"COLZ\")\n",
    "canvas.Draw()"
   ]
  },
  {
   "cell_type": "code",
   "execution_count": null,
   "id": "75821f23",
   "metadata": {},
   "outputs": [],
   "source": [
    "%jsroot on\n",
    "objectName=\"hdEdxTotMIPVsNcl_TPC\"\n",
    "[hist,legend,canvas,pad1] = drawHistograms(objectName,rootDataFile,normalize=False,legend=False,log=\"logz\",xAxisRange = [55,180],legendNames=runList,pads=True,drawOption=\"COLZ\")\n",
    "canvas.Draw()"
   ]
  },
  {
   "cell_type": "code",
   "execution_count": null,
   "id": "ea85fe2e",
   "metadata": {},
   "outputs": [],
   "source": [
    "%jsroot on\n",
    "objectName=\"hdEdxTotMIPVsSnp_TPC\"\n",
    "[hist,legend,canvas,pad1] = drawHistograms(objectName,rootDataFile,normalize=False,legend=False,log=\"logz\",legendNames=runList,pads=True,drawOption=\"COLZ\")\n",
    "canvas.Draw()"
   ]
  },
  {
   "cell_type": "code",
   "execution_count": null,
   "id": "3ed8e35f",
   "metadata": {},
   "outputs": [],
   "source": [
    "%jsroot on\n",
    "objectName=\"hdEdxTotMIPVsTgl_TPC\"\n",
    "[hist,legend,canvas,pad1] = drawHistograms(objectName,rootDataFile,normalize=False,legend=False,log=\"logz\",legendNames=runList,pads=True,drawOption=\"COLZ\")\n",
    "canvas.Draw()"
   ]
  },
  {
   "cell_type": "markdown",
   "id": "c816acdc",
   "metadata": {},
   "source": [
    "### dEdx vs p\n",
    "Looks GOOD"
   ]
  },
  {
   "cell_type": "code",
   "execution_count": null,
   "id": "fc8654d6",
   "metadata": {},
   "outputs": [],
   "source": [
    "%jsroot on\n",
    "objectName=\"hdEdxTotVsP_TPC\"\n",
    "[hist,legend,canvas,pad1] = drawHistograms(objectName,rootDataFile,normalize=False,legend=False,log=\"logxyz\",legendNames=runList,pads=True,drawOption=\"COLZ\")\n",
    "canvas.Draw()"
   ]
  }
 ],
 "metadata": {
  "kernelspec": {
   "display_name": "Python 3 (ipykernel)",
   "language": "python",
   "name": "python3"
  },
  "language_info": {
   "codemirror_mode": {
    "name": "ipython",
    "version": 3
   },
   "file_extension": ".py",
   "mimetype": "text/x-python",
   "name": "python",
   "nbconvert_exporter": "python",
   "pygments_lexer": "ipython3",
   "version": "3.9.12"
  }
 },
 "nbformat": 4,
 "nbformat_minor": 5
}
