{
 "cells": [
  {
   "cell_type": "markdown",
   "id": "b63ab277",
   "metadata": {},
   "source": [
    "# Reporting on TPC QC for LHC23f4a vs LHC23f4b vs LHC22f"
   ]
  },
  {
   "cell_type": "markdown",
   "id": "3c6f9b25",
   "metadata": {
    "toc": true
   },
   "source": [
    "<h1>Table of Contents<span class=\"tocSkip\"></span></h1>\n",
    "<div class=\"toc\"><ul class=\"toc-item\"><li><span><a href=\"#Tracks\" data-toc-modified-id=\"Tracks-1\">Tracks</a></span><ul class=\"toc-item\"><li><span><a href=\"#Phi-Distributions\" data-toc-modified-id=\"Phi-Distributions-1.1\">Phi Distributions</a></span></li><li><span><a href=\"#Eta-distribution\" data-toc-modified-id=\"Eta-distribution-1.2\">Eta distribution</a></span></li><li><span><a href=\"#Transverse-Momentum-(pT)\" data-toc-modified-id=\"Transverse-Momentum-(pT)-1.3\">Transverse Momentum (pT)</a></span></li><li><span><a href=\"#Sign-of-tracks\" data-toc-modified-id=\"Sign-of-tracks-1.4\">Sign of tracks</a></span></li><li><span><a href=\"#Charge-over-transverse-momentum-(q/pT)\" data-toc-modified-id=\"Charge-over-transverse-momentum-(q/pT)-1.5\">Charge over transverse momentum (q/pT)</a></span></li><li><span><a href=\"#Number-of-clusters\" data-toc-modified-id=\"Number-of-clusters-1.6\">Number of clusters</a></span></li><li><span><a href=\"#Number-of-clusters-vs-phi\" data-toc-modified-id=\"Number-of-clusters-vs-phi-1.7\">Number of clusters vs phi</a></span></li><li><span><a href=\"#Number-of-clusters-vs-eta\" data-toc-modified-id=\"Number-of-clusters-vs-eta-1.8\">Number of clusters vs eta</a></span></li><li><span><a href=\"#Number-of-clusters-vs-pT\" data-toc-modified-id=\"Number-of-clusters-vs-pT-1.9\">Number of clusters vs pT</a></span></li></ul></li><li><span><a href=\"#PID\" data-toc-modified-id=\"PID-2\">PID</a></span><ul class=\"toc-item\"><li><span><a href=\"#dEdxTot-of-MIPs\" data-toc-modified-id=\"dEdxTot-of-MIPs-2.1\">dEdxTot of MIPs</a></span></li><li><span><a href=\"#Number-of-clusters-PID\" data-toc-modified-id=\"Number-of-clusters-PID-2.2\">Number of clusters PID</a></span></li><li><span><a href=\"#MIP-dEdxTot-vs-Sector-(vs-Phi-but-both-sides)\" data-toc-modified-id=\"MIP-dEdxTot-vs-Sector-(vs-Phi-but-both-sides)-2.3\">MIP dEdxTot vs Sector (vs Phi but both sides)</a></span></li><li><span><a href=\"#MIP-dEdxTot-vs-Number-of-Clusters\" data-toc-modified-id=\"MIP-dEdxTot-vs-Number-of-Clusters-2.4\">MIP dEdxTot vs Number of Clusters</a></span></li><li><span><a href=\"#MIP-dEdxTot-vs-sin(phi)\" data-toc-modified-id=\"MIP-dEdxTot-vs-sin(phi)-2.5\">MIP dEdxTot vs sin(phi)</a></span></li><li><span><a href=\"#MIP-dEdxTot-vs-tan(lambda)\" data-toc-modified-id=\"MIP-dEdxTot-vs-tan(lambda)-2.6\">MIP dEdxTot vs tan(lambda)</a></span></li><li><span><a href=\"#dEdx-Tot-vs-momentum-(p)\" data-toc-modified-id=\"dEdx-Tot-vs-momentum-(p)-2.7\">dEdx Tot vs momentum (p)</a></span></li></ul></li></ul></div>"
   ]
  },
  {
   "cell_type": "code",
   "execution_count": null,
   "id": "a36ac537",
   "metadata": {},
   "outputs": [],
   "source": [
    "%%capture\n",
    "import ROOT\n",
    "import glob\n",
    "import math\n",
    "import numpy as np\n",
    "from IPython.display import display, Markdown, HTML\n",
    "import ipywidgets as widgets\n",
    "\n",
    "from TPCQCVis.src.drawHistograms import *\n",
    "from TPCQCVis.src.drawTrending import *\n",
    "from TPCQCVis.src.drawMultiTrending import *\n",
    "from TPCQCVis.src.checkHistograms import *\n",
    "from TPCQCVis.src.checkTrending import *\n",
    "from TPCQCVis.src.drawBetheBloch import *"
   ]
  },
  {
   "cell_type": "code",
   "execution_count": null,
   "id": "dd84398a",
   "metadata": {},
   "outputs": [],
   "source": [
    "display(HTML(\"<style>.container { width:95% !important; }</style>\"))\n",
    "display(HTML(\"<style>table {float:left;}</style>\"))"
   ]
  },
  {
   "cell_type": "code",
   "execution_count": null,
   "id": "51580389",
   "metadata": {},
   "outputs": [],
   "source": [
    "# Read the Root Files\n",
    "path = \"/home/berki/cave/alice-tpc-qc/data/2022/LHC22r/apass4/\"\n",
    "passName = \"\"\n",
    "fileList_r = glob.glob(path+\"*_QC.root\")\n",
    "fileList_r.sort()\n",
    "runList_r = [fileList_r[i][-14:-8] for i in range(len(fileList_r))]\n",
    "\n",
    "fileList = [\"/home/berki/cave/alice-tpc-qc/data/sim/2023/LHC23f4a_QC.root\",\"/home/berki/cave/alice-tpc-qc/data/sim/2023/LHC23f4b_QC.root\"]+fileList_r\n",
    "runList = [\"LHC23f4a\",\"LHC23f4b\"]+runList_r\n",
    "rootDataFile=[]\n",
    "for file in fileList:\n",
    "    rootDataFile.append(ROOT.TFile.Open(file,\"READ\"))\n",
    "runList"
   ]
  },
  {
   "cell_type": "code",
   "execution_count": null,
   "id": "cab63185-095e-4334-83fb-e162e90131fe",
   "metadata": {},
   "outputs": [],
   "source": [
    "%jsroot on\n",
    "objectName=\"hNClustersAfterCuts\"\n",
    "[hist,legend,canvas,pad1] = drawHistograms(objectName,rootDataFile[0:2],normalize=True,\n",
    "                                                              legend=False,xAxisRange=[50,160],yAxisRange=[0,42e-3],legendNames=runList[0:2],\n",
    "                                                              pads=False,drawOption=\"SAME L\",\n",
    "                                                              maxColumns=2)\n",
    "\n",
    "[hist2,legend2,canvas2,pad2] = drawHistograms(objectName,rootDataFile[2:],normalize=True,\n",
    "                                                              legend=False,xAxisRange=[50,160],yAxisRange=[0,42e-3],legendNames=runList[2:],\n",
    "                                                              pads=False,drawOption=\"SAME L\",\n",
    "                                                              maxColumns=2)\n",
    "\n",
    "#canvas.cd()\n",
    "canvas.Draw()"
   ]
  },
  {
   "cell_type": "code",
   "execution_count": null,
   "id": "8edc01b0-ef90-46b3-9e6b-474f9a9b3cfb",
   "metadata": {},
   "outputs": [],
   "source": []
  },
  {
   "cell_type": "code",
   "execution_count": null,
   "id": "db364768",
   "metadata": {},
   "outputs": [],
   "source": [
    "# Read the Root Files\n",
    "#path = \"/cave/alice/data/2022/LHC22o/apass3/\"\n",
    "pass1Name = \"LHC23f4b\"\n",
    "#fileList_apass1  = []\n",
    "#fileList_apass1 = glob.glob(path+\"*_QC.root\")\n",
    "#fileList_apass1.sort()\n",
    "#fileList_apass1 = [file.replace('apass4', 'apass3') for file in fileList]\n",
    "#tmpList=[]\n",
    "#runList_apass1 = [fileList_apass1[i][-14:-8] for i in range(len(fileList_apass1))]\n",
    "fileList_apass1 = [\"/home/berki/cave/alice-tpc-qc/data/2022/LHC22r/apass4/529209_QC.root\"]\n",
    "runList_apass1 = [\"LHC23r_529209\"]\n",
    "rootDataFile_apass1=[]\n",
    "for file in fileList_apass1:\n",
    "    rootDataFile_apass1.append(ROOT.TFile.Open(file,\"READ\"))\n",
    "runList_apass1"
   ]
  },
  {
   "cell_type": "code",
   "execution_count": null,
   "id": "a2545f5e-80a8-4d77-9956-1257bedf1102",
   "metadata": {},
   "outputs": [],
   "source": [
    "runList[0][3:5]"
   ]
  },
  {
   "cell_type": "markdown",
   "id": "14c7291b",
   "metadata": {},
   "source": [
    "### Tracks\n",
    "#### Phi Distributions"
   ]
  },
  {
   "cell_type": "code",
   "execution_count": null,
   "id": "4efdfbd7",
   "metadata": {},
   "outputs": [],
   "source": [
    "%jsroot on\n",
    "objectName=\"hPhiAside\"\n",
    "[hist,legend,canvas,pad1] = drawHistograms(objectName,rootDataFile,normalize=True,\n",
    "                                                              legend=True,yAxisRange=[2.2e-3,3.2e-3],legendNames=runList,\n",
    "                                                              pads=False,drawOption=\"SAME L\",\n",
    "                                                              maxColumns=2,ratio=False,grid=False)\n",
    "leg = ROOT.TLegend()\n",
    "leg.AddEntry(hist[0], passName, \"lep\")\n",
    "\n",
    "#Sector boundatries\n",
    "for i in range(len(rootDataFile)):\n",
    "    padRun = pad1.cd(i+1)\n",
    "    for typeIndex,histogram in enumerate([hist]):\n",
    "        #padRun.cd(typeIndex+1)\n",
    "        sectorBoundary = ROOT.TLine(0,histogram[i].GetMinimum(),0,histogram[i].GetMaximum())\n",
    "        sectorBoundary.SetLineStyle(2)\n",
    "        sectorNum = ROOT.TText(.5,.5,\"test\")\n",
    "        sectorNum.SetTextAlign(22)\n",
    "        sectorNum.SetTextColor(ROOT.kGray+1)\n",
    "        sectorNum.SetTextFont(0)\n",
    "        for j in range(19):\n",
    "            sectorBoundary.DrawLine((j*2*math.pi)/18,histogram[i].GetMinimum(),(j*2*math.pi)/18,histogram[i].GetMaximum())\n",
    "            if j < 18 : sectorNum.DrawText(((j+0.5)*2*math.pi)/18,histogram[i].GetMaximum(),str(j))\n",
    "        if typeIndex==0 :\n",
    "            leg.Draw()\n",
    "canvas.cd()\n",
    "canvas.Draw()"
   ]
  },
  {
   "cell_type": "code",
   "execution_count": null,
   "id": "b559bdc2",
   "metadata": {},
   "outputs": [],
   "source": [
    "%jsroot on\n",
    "objectName=\"hPhiCside\"\n",
    "[hist,legend,canvas,pad1,histComp] = drawHistograms(objectName,rootDataFile,normalize=True,\n",
    "                                                              legend=False,yAxisRange=[2.0e-3,3.2e-3],legendNames=runList,\n",
    "                                                              pads=True,compareTo=rootDataFile_apass1,drawOption=\"SAME L\",\n",
    "                                                              maxColumns=2,ratio=False,grid=False)\n",
    "leg = ROOT.TLegend()\n",
    "leg.AddEntry(hist[0], passName, \"lep\")\n",
    "leg.AddEntry(histComp[0], pass1Name, \"lep\")\n",
    "\n",
    "#Sector boundatries\n",
    "for i in range(len(rootDataFile)):\n",
    "    padRun = pad1.cd(i+1)\n",
    "    for typeIndex,histogram in enumerate([hist]):\n",
    "        padRun.cd(typeIndex+1)\n",
    "        sectorBoundary = ROOT.TLine(0,histogram[i].GetMinimum(),0,histogram[i].GetMaximum())\n",
    "        sectorBoundary.SetLineStyle(2)\n",
    "        sectorNum = ROOT.TText(.5,.5,\"test\")\n",
    "        sectorNum.SetTextAlign(22)\n",
    "        sectorNum.SetTextColor(ROOT.kGray+1)\n",
    "        sectorNum.SetTextFont(0)\n",
    "        for j in range(19):\n",
    "            sectorBoundary.DrawLine((j*2*math.pi)/18,histogram[i].GetMinimum(),(j*2*math.pi)/18,histogram[i].GetMaximum())\n",
    "            if j < 18 : sectorNum.DrawText(((j+0.5)*2*math.pi)/18,histogram[i].GetMaximum(),str(j))\n",
    "        if typeIndex==0 :\n",
    "            leg.Draw()\n",
    "canvas.cd()\n",
    "canvas.Draw()"
   ]
  },
  {
   "cell_type": "markdown",
   "id": "ad095272",
   "metadata": {},
   "source": [
    "#### Eta distribution"
   ]
  },
  {
   "cell_type": "code",
   "execution_count": null,
   "id": "a02535dd",
   "metadata": {},
   "outputs": [],
   "source": [
    "%jsroot on\n",
    "objectName=\"hEta\"\n",
    "[hist,legend,canvas,pad1,histComp,histRatio] = drawHistograms(objectName,rootDataFile,normalize=True,\n",
    "                                                              legend=False,xAxisRange=[-1.1,1.1],yAxisRange=[2e-3,8e-3],legendNames=runList,\n",
    "                                                              pads=True,compareTo=rootDataFile_apass1,drawOption=\"SAME L\",\n",
    "                                                              maxColumns=2)\n",
    "leg = ROOT.TLegend()\n",
    "leg.AddEntry(hist[0], passName, \"lep\")\n",
    "leg.AddEntry(histComp[0], pass1Name, \"lep\")\n",
    "\n",
    "#Sector boundatries\n",
    "for i in range(len(rootDataFile)):\n",
    "    padRun = pad1.cd(i+1)\n",
    "    for typeIndex,histogram in enumerate([hist,histRatio]):\n",
    "        padRun.cd(typeIndex+1)\n",
    "        if typeIndex==0 :\n",
    "            leg.Draw()\n",
    "canvas.cd()\n",
    "canvas.Draw()"
   ]
  },
  {
   "cell_type": "markdown",
   "id": "0051dbde",
   "metadata": {},
   "source": [
    "#### Transverse Momentum (pT)"
   ]
  },
  {
   "cell_type": "code",
   "execution_count": null,
   "id": "d90b5599",
   "metadata": {},
   "outputs": [],
   "source": [
    "%jsroot on\n",
    "objectName=\"hPt\"\n",
    "[hist,legend,canvas,pad1,histComp,histRatio] = drawHistograms(objectName,rootDataFile,normalize=True,\n",
    "                                                              legend=False,yAxisRange=[1e-5,1e-1],legendNames=runList,\n",
    "                                                              pads=True,compareTo=rootDataFile_apass1,drawOption=\"SAME L\",\n",
    "                                                              log=\"logxy\",maxColumns=2)\n",
    "leg = ROOT.TLegend()\n",
    "leg.AddEntry(hist[0], passName, \"lep\")\n",
    "leg.AddEntry(histComp[0], pass1Name, \"lep\")\n",
    "\n",
    "#Sector boundatries\n",
    "for i in range(len(rootDataFile)):\n",
    "    padRun = pad1.cd(i+1)\n",
    "    for typeIndex,histogram in enumerate([hist,histRatio]):\n",
    "        padRun.cd(typeIndex+1)\n",
    "        if typeIndex==0 :\n",
    "            leg.Draw()\n",
    "canvas.cd()\n",
    "canvas.Draw()"
   ]
  },
  {
   "cell_type": "markdown",
   "id": "a6a70262",
   "metadata": {},
   "source": [
    "#### Sign of tracks"
   ]
  },
  {
   "cell_type": "code",
   "execution_count": null,
   "id": "d60cbff0",
   "metadata": {},
   "outputs": [],
   "source": [
    "%jsroot on\n",
    "objectName=\"hSign\"\n",
    "[hist,legend,canvas,pad1,histComp,histRatio] = drawHistograms(objectName,rootDataFile,normalize=True,\n",
    "                                                              legend=False,legendNames=runList,\n",
    "                                                              pads=True,compareTo=rootDataFile_apass1,drawOption=\"SAME HIST\",\n",
    "                                                              maxColumns=2)\n",
    "leg = ROOT.TLegend()\n",
    "leg.AddEntry(hist[0], passName, \"lep\")\n",
    "leg.AddEntry(histComp[0], pass1Name, \"lep\")\n",
    "\n",
    "#Sector boundatries\n",
    "for i in range(len(rootDataFile)):\n",
    "    padRun = pad1.cd(i+1)\n",
    "    for typeIndex,histogram in enumerate([hist,histRatio]):\n",
    "        padRun.cd(typeIndex+1)\n",
    "        if typeIndex==0 :\n",
    "            leg.Draw()\n",
    "canvas.cd()\n",
    "canvas.Draw()"
   ]
  },
  {
   "cell_type": "markdown",
   "id": "cf18ffbd",
   "metadata": {},
   "source": [
    "#### Charge over transverse momentum (q/pT)"
   ]
  },
  {
   "cell_type": "code",
   "execution_count": null,
   "id": "25525399",
   "metadata": {},
   "outputs": [],
   "source": [
    "%jsroot on\n",
    "objectName=\"hQOverPt\"\n",
    "[hist,legend,canvas,pad1,histComp,histRatio] = drawHistograms(objectName,rootDataFile,normalize=True,\n",
    "                                                              legend=False,legendNames=runList,\n",
    "                                                              pads=True,compareTo=rootDataFile_apass1,drawOption=\"SAME HIST\",\n",
    "                                                              maxColumns=2)\n",
    "leg = ROOT.TLegend()\n",
    "leg.AddEntry(hist[0], passName, \"lep\")\n",
    "leg.AddEntry(histComp[0], pass1Name, \"lep\")\n",
    "\n",
    "#Sector boundatries\n",
    "for i in range(len(rootDataFile)):\n",
    "    padRun = pad1.cd(i+1)\n",
    "    for typeIndex,histogram in enumerate([hist,histRatio]):\n",
    "        padRun.cd(typeIndex+1)\n",
    "        if typeIndex==0 :\n",
    "            leg.Draw()\n",
    "canvas.cd()\n",
    "canvas.Draw()"
   ]
  },
  {
   "cell_type": "markdown",
   "id": "81e68207",
   "metadata": {},
   "source": [
    "#### Number of clusters"
   ]
  },
  {
   "cell_type": "code",
   "execution_count": null,
   "id": "ff61010a",
   "metadata": {},
   "outputs": [],
   "source": [
    "%jsroot on\n",
    "objectName=\"hNClustersAfterCuts\"\n",
    "[hist,legend,canvas,pad1] = drawHistograms(objectName,rootDataFile,normalize=True,\n",
    "                                                              legend=True,xAxisRange=[50,160],yAxisRange=[0,42e-3],legendNames=runList,\n",
    "                                                              pads=False,drawOption=\"SAME L\",\n",
    "                                                              maxColumns=2)\n",
    "\n",
    "canvas.cd()\n",
    "canvas.Draw()"
   ]
  },
  {
   "cell_type": "markdown",
   "id": "5e9bc60e",
   "metadata": {},
   "source": [
    "#### Number of clusters vs phi"
   ]
  },
  {
   "cell_type": "code",
   "execution_count": null,
   "id": "d93ae84a",
   "metadata": {},
   "outputs": [],
   "source": [
    "%jsroot on\n",
    "objectName=\"h2DNClustersPhiAside\"\n",
    "[hist,legend,canvas,pad1,histComp,histRatio] = drawHistograms(objectName, rootDataFile, normalize=True, compareTo=rootDataFile_apass1,\n",
    "                                                              legend=False, yAxisRange = [50,170],\n",
    "                                                              pads=True, drawOption=\"COLZ\", maxColumns=1)\n",
    "leg1 = ROOT.TLegend()\n",
    "leg1.AddEntry(hist[0], passName, \"p\")\n",
    "leg2 = ROOT.TLegend()\n",
    "leg2.AddEntry(histComp[0], pass1Name, \"p\")\n",
    "\n",
    "for i in range(len(rootDataFile)):\n",
    "    padRun = pad1.cd(i+1)\n",
    "    for typeIndex,histogram in enumerate([hist,histComp,histRatio]):\n",
    "        padRun.cd(typeIndex+1)\n",
    "        sectorBoundary = ROOT.TLine(0,50,0,170)\n",
    "        sectorBoundary.SetLineStyle(2)\n",
    "        sectorNum = ROOT.TText(.5,.5,\"test\")\n",
    "        sectorNum.SetTextAlign(22)\n",
    "        sectorNum.SetTextColor(ROOT.kGray+1)\n",
    "        sectorNum.SetTextFont(0)\n",
    "        for j in range(19):\n",
    "            sectorBoundary.DrawLine((j*2*math.pi)/18,50,(j*2*math.pi)/18,170)\n",
    "            if j < 18 : sectorNum.DrawText(((j+0.5)*2*math.pi)/18,55,str(j))\n",
    "        if typeIndex == 0 : leg1.Draw()\n",
    "        elif typeIndex == 1 : leg2.Draw()\n",
    "canvas.Draw()"
   ]
  },
  {
   "cell_type": "code",
   "execution_count": null,
   "id": "b5b26059",
   "metadata": {},
   "outputs": [],
   "source": [
    "%jsroot on\n",
    "objectName=\"h2DNClustersPhiCside\"\n",
    "[hist,legend,canvas,pad1,histComp,histRatio] = drawHistograms(objectName, rootDataFile, normalize=True, compareTo=rootDataFile_apass1,\n",
    "                                                              legend=False, yAxisRange = [50,170],\n",
    "                                                              pads=True, drawOption=\"COLZ\", maxColumns=1)\n",
    "leg1 = ROOT.TLegend()\n",
    "leg1.AddEntry(hist[0], passName, \"p\")\n",
    "leg2 = ROOT.TLegend()\n",
    "leg2.AddEntry(histComp[0], pass1Name, \"p\")\n",
    "\n",
    "for i in range(len(rootDataFile)):\n",
    "    padRun = pad1.cd(i+1)\n",
    "    for typeIndex,histogram in enumerate([hist,histComp,histRatio]):\n",
    "        padRun.cd(typeIndex+1)\n",
    "        sectorBoundary = ROOT.TLine(0,50,0,170)\n",
    "        sectorBoundary.SetLineStyle(2)\n",
    "        sectorNum = ROOT.TText(.5,.5,\"test\")\n",
    "        sectorNum.SetTextAlign(22)\n",
    "        sectorNum.SetTextColor(ROOT.kGray+1)\n",
    "        sectorNum.SetTextFont(0)\n",
    "        for j in range(19):\n",
    "            sectorBoundary.DrawLine((j*2*math.pi)/18,50,(j*2*math.pi)/18,170)\n",
    "            if j < 18 : sectorNum.DrawText(((j+0.5)*2*math.pi)/18,55,str(j))\n",
    "        if typeIndex == 0 : leg1.Draw()\n",
    "        elif typeIndex == 1 : leg2.Draw()\n",
    "canvas.Draw()"
   ]
  },
  {
   "cell_type": "markdown",
   "id": "58173929",
   "metadata": {},
   "source": [
    "#### Number of clusters vs eta"
   ]
  },
  {
   "cell_type": "code",
   "execution_count": null,
   "id": "21c09a4c",
   "metadata": {},
   "outputs": [],
   "source": [
    "%jsroot on\n",
    "objectName=\"h2DNClustersEta\"\n",
    "[hist,legend,canvas,pad1,histComp,histRatio] = drawHistograms(objectName, rootDataFile, normalize=True, compareTo=rootDataFile_apass1,\n",
    "                                                              legend=False, xAxisRange = [-1.1,1.1], yAxisRange = [50,170],\n",
    "                                                              pads=True, drawOption=\"COLZ\", maxColumns=1)\n",
    "leg1 = ROOT.TLegend()\n",
    "leg1.AddEntry(hist[0], passName, \"p\")\n",
    "leg2 = ROOT.TLegend()\n",
    "leg2.AddEntry(histComp[0], pass1Name, \"p\")\n",
    "\n",
    "for i in range(len(rootDataFile)):\n",
    "    padRun = pad1.cd(i+1)\n",
    "    for typeIndex,histogram in enumerate([hist,histComp,histRatio]):\n",
    "        padRun.cd(typeIndex+1)\n",
    "        if typeIndex == 0 : leg1.Draw()\n",
    "        elif typeIndex == 1 : leg2.Draw()\n",
    "canvas.Draw()"
   ]
  },
  {
   "cell_type": "markdown",
   "id": "1ed7a291",
   "metadata": {},
   "source": [
    "#### Number of clusters vs pT"
   ]
  },
  {
   "cell_type": "code",
   "execution_count": null,
   "id": "3eb41d4b",
   "metadata": {},
   "outputs": [],
   "source": [
    "%jsroot on\n",
    "objectName=\"h2DNClustersPt\"\n",
    "[hist,legend,canvas,pad1,histComp,histRatio] = drawHistograms(objectName, rootDataFile, normalize=True, compareTo=rootDataFile_apass1,\n",
    "                                                              legend=False, yAxisRange = [50,170],\n",
    "                                                              log=\"logx\",pads=True, drawOption=\"COLZ\", maxColumns=1)\n",
    "leg1 = ROOT.TLegend()\n",
    "leg1.AddEntry(hist[0], passName, \"p\")\n",
    "leg2 = ROOT.TLegend()\n",
    "leg2.AddEntry(histComp[0], pass1Name, \"p\")\n",
    "\n",
    "for i in range(len(rootDataFile)):\n",
    "    padRun = pad1.cd(i+1)\n",
    "    for typeIndex,histogram in enumerate([hist,histComp,histRatio]):\n",
    "        padRun.cd(typeIndex+1)\n",
    "        if typeIndex == 0 : leg1.Draw()\n",
    "        elif typeIndex == 1 : leg2.Draw()\n",
    "canvas.Draw()"
   ]
  },
  {
   "cell_type": "markdown",
   "id": "dd8bdb1b",
   "metadata": {},
   "source": [
    "### PID"
   ]
  },
  {
   "cell_type": "markdown",
   "id": "cbc78f68",
   "metadata": {},
   "source": [
    "#### dEdxTot of MIPs"
   ]
  },
  {
   "cell_type": "code",
   "execution_count": null,
   "id": "788ead7e",
   "metadata": {},
   "outputs": [],
   "source": [
    "%jsroot on\n",
    "objectName=\"hdEdxTotMIP_TPC\"\n",
    "[hist,legend,canvas,pad1,histComp] = drawHistograms(objectName,rootDataFile,normalize=True,\n",
    "                                                              legend=False,legendNames=runList,\n",
    "                                                              pads=True,compareTo=rootDataFile_apass1,drawOption=\"SAME HIST\",\n",
    "                                                              log=\"logx\",yAxisRange=[0,0.12],maxColumns=2,ratio=False)\n",
    "leg = ROOT.TLegend()\n",
    "leg.AddEntry(hist[0], passName, \"lep\")\n",
    "leg.AddEntry(histComp[0], pass1Name, \"lep\")\n",
    "\n",
    "#Sector boundatries\n",
    "for i in range(len(rootDataFile)):\n",
    "    padRun = pad1.cd(i+1)\n",
    "    for typeIndex,histogram in enumerate([hist]):\n",
    "        padRun.cd(typeIndex+1)\n",
    "        sectorBoundary = ROOT.TLine()\n",
    "        sectorBoundary.SetLineStyle(1)\n",
    "        sectorBoundary.SetLineColor(ROOT.kGray+2)\n",
    "        sectorBoundary.SetLineWidth(2)\n",
    "        sectorBoundary.DrawLine(50,0,50,0.12)\n",
    "        if typeIndex==0 :\n",
    "            leg.Draw()\n",
    "\n",
    "for i,histogram in enumerate(hist+histComp):\n",
    "    histogram.SetStats(1)\n",
    "    histogram.Fit(\"gaus\",\"Sq\",\"\",30,70)\n",
    "    myFit = histogram.GetFunction(\"gaus\")\n",
    "    print((runList+runList_apass1)[i],\": mean=\",myFit.GetParameter(1),\"sigma=\",myFit.GetParameter(2))\n",
    "    myFit.SetLineColor(histogram.GetLineColor())\n",
    "    \n",
    "canvas.cd()\n",
    "canvas.Draw()"
   ]
  },
  {
   "cell_type": "markdown",
   "id": "96d05f4c",
   "metadata": {},
   "source": [
    "#### Number of clusters PID"
   ]
  },
  {
   "cell_type": "code",
   "execution_count": null,
   "id": "7accdf2b",
   "metadata": {},
   "outputs": [],
   "source": [
    "%jsroot on\n",
    "objectName=\"hNClsPID\"\n",
    "[hist,legend,canvas,pad1,histComp,histRatio] = drawHistograms(objectName,rootDataFile,normalize=True,\n",
    "                                                              legend=False,legendNames=runList,\n",
    "                                                              pads=True,compareTo=rootDataFile_apass1,drawOption=\"SAME HIST\",\n",
    "                                                              xAxisRange=[50,160],yAxisRange=[0,0.045],maxColumns=2)\n",
    "leg = ROOT.TLegend()\n",
    "leg.AddEntry(hist[0], passName, \"lep\")\n",
    "leg.AddEntry(histComp[0], pass1Name, \"lep\")\n",
    "\n",
    "#Sector boundatries\n",
    "for i in range(len(rootDataFile)):\n",
    "    padRun = pad1.cd(i+1)\n",
    "    for typeIndex,histogram in enumerate([hist,histRatio]):\n",
    "        padRun.cd(typeIndex+1)\n",
    "        if typeIndex==0 :\n",
    "            leg.Draw()\n",
    "canvas.cd()\n",
    "canvas.Draw()"
   ]
  },
  {
   "cell_type": "markdown",
   "id": "5670aaab",
   "metadata": {},
   "source": [
    "#### MIP dEdxTot vs Sector (vs Phi but both sides)"
   ]
  },
  {
   "cell_type": "code",
   "execution_count": null,
   "id": "9bbc7285",
   "metadata": {},
   "outputs": [],
   "source": [
    "%jsroot on\n",
    "objectName=\"hdEdxTotMIPVsSec_TPC\"\n",
    "[hist,legend,canvas,pad1,histComp,histRatio] = drawHistograms(objectName, rootDataFile, normalize=True, compareTo=rootDataFile_apass1,\n",
    "                                                              legend=False,log=\"logz\",\n",
    "                                                              pads=True, drawOption=\"COLZ\", maxColumns=1)\n",
    "leg1 = ROOT.TLegend()\n",
    "leg1.AddEntry(hist[0], passName, \"p\")\n",
    "leg2 = ROOT.TLegend()\n",
    "leg2.AddEntry(histComp[0], pass1Name, \"p\")\n",
    "\n",
    "for i in range(len(rootDataFile)):\n",
    "    padRun = pad1.cd(i+1)\n",
    "    for typeIndex,histogram in enumerate([hist,histComp,histRatio]):\n",
    "        padRun.cd(typeIndex+1)\n",
    "        sectorBoundary = ROOT.TLine()\n",
    "        sectorBoundary.SetLineStyle(1)\n",
    "        sectorBoundary.SetLineColor(ROOT.kGray+2)\n",
    "        sectorBoundary.SetLineWidth(2)\n",
    "        sectorBoundary.DrawLine(0,50,36,50)\n",
    "        if typeIndex == 0 : leg1.Draw()\n",
    "        elif typeIndex == 1 : leg2.Draw()\n",
    "canvas.Draw()"
   ]
  },
  {
   "cell_type": "markdown",
   "id": "adc250f3",
   "metadata": {},
   "source": [
    "#### MIP dEdxTot vs Number of Clusters"
   ]
  },
  {
   "cell_type": "code",
   "execution_count": null,
   "id": "e0ac8a1a",
   "metadata": {},
   "outputs": [],
   "source": [
    "%jsroot on\n",
    "objectName=\"hdEdxTotMIPVsNcl_TPC\"\n",
    "[hist,legend,canvas,pad1,histComp,histRatio] = drawHistograms(objectName, rootDataFile, normalize=True, compareTo=rootDataFile_apass1,\n",
    "                                                              legend=False, xAxisRange=[60,160],log=\"logz\",\n",
    "                                                              pads=True, drawOption=\"COLZ\", maxColumns=1)\n",
    "leg1 = ROOT.TLegend()\n",
    "leg1.AddEntry(hist[0], passName, \"p\")\n",
    "leg2 = ROOT.TLegend()\n",
    "leg2.AddEntry(histComp[0], pass1Name, \"p\")\n",
    "\n",
    "for i in range(len(rootDataFile)):\n",
    "    padRun = pad1.cd(i+1)\n",
    "    for typeIndex,histogram in enumerate([hist,histComp,histRatio]):\n",
    "        padRun.cd(typeIndex+1)\n",
    "        sectorBoundary = ROOT.TLine()\n",
    "        sectorBoundary.SetLineStyle(1)\n",
    "        sectorBoundary.SetLineColor(ROOT.kGray+2)\n",
    "        sectorBoundary.SetLineWidth(2)\n",
    "        sectorBoundary.DrawLine(60,50,152,50)\n",
    "        if typeIndex == 0 : leg1.Draw()\n",
    "        elif typeIndex == 1 : leg2.Draw()\n",
    "canvas.Draw()"
   ]
  },
  {
   "cell_type": "markdown",
   "id": "7ef61d9d",
   "metadata": {},
   "source": [
    "#### MIP dEdxTot vs sin(phi)"
   ]
  },
  {
   "cell_type": "code",
   "execution_count": null,
   "id": "caf606e8",
   "metadata": {},
   "outputs": [],
   "source": [
    "%jsroot on\n",
    "objectName=\"hdEdxTotMIPVsSnp_TPC\"\n",
    "[hist,legend,canvas,pad1,histComp,histRatio] = drawHistograms(objectName, rootDataFile, normalize=True, compareTo=rootDataFile_apass1,\n",
    "                                                              legend=False,log=\"logz\",\n",
    "                                                              pads=True, drawOption=\"COLZ\", maxColumns=1)\n",
    "leg1 = ROOT.TLegend()\n",
    "leg1.AddEntry(hist[0], passName, \"p\")\n",
    "leg2 = ROOT.TLegend()\n",
    "leg2.AddEntry(histComp[0], pass1Name, \"p\")\n",
    "\n",
    "for i in range(len(rootDataFile)):\n",
    "    padRun = pad1.cd(i+1)\n",
    "    for typeIndex,histogram in enumerate([hist,histComp,histRatio]):\n",
    "        padRun.cd(typeIndex+1)\n",
    "        sectorBoundary = ROOT.TLine()\n",
    "        sectorBoundary.SetLineStyle(1)\n",
    "        sectorBoundary.SetLineColor(ROOT.kGray+2)\n",
    "        sectorBoundary.SetLineWidth(2)\n",
    "        sectorBoundary.DrawLine(-1,50,1,50)\n",
    "        if typeIndex == 0 : leg1.Draw()\n",
    "        elif typeIndex == 1 : leg2.Draw()\n",
    "canvas.Draw()"
   ]
  },
  {
   "cell_type": "markdown",
   "id": "99ba9b5a",
   "metadata": {},
   "source": [
    "#### MIP dEdxTot vs tan(lambda)"
   ]
  },
  {
   "cell_type": "code",
   "execution_count": null,
   "id": "cc474f31",
   "metadata": {},
   "outputs": [],
   "source": [
    "%jsroot on\n",
    "objectName=\"hdEdxTotMIPVsTgl_TPC\"\n",
    "[hist,legend,canvas,pad1,histComp,histRatio] = drawHistograms(objectName, rootDataFile, normalize=True, compareTo=rootDataFile_apass1,\n",
    "                                                              legend=False,log=\"logz\",\n",
    "                                                              pads=True, drawOption=\"COLZ\", maxColumns=1)\n",
    "leg1 = ROOT.TLegend()\n",
    "leg1.AddEntry(hist[0], passName, \"p\")\n",
    "leg2 = ROOT.TLegend()\n",
    "leg2.AddEntry(histComp[0], pass1Name, \"p\")\n",
    "\n",
    "for i in range(len(rootDataFile)):\n",
    "    padRun = pad1.cd(i+1)\n",
    "    for typeIndex,histogram in enumerate([hist,histComp,histRatio]):\n",
    "        padRun.cd(typeIndex+1)\n",
    "        sectorBoundary = ROOT.TLine()\n",
    "        sectorBoundary.SetLineStyle(1)\n",
    "        sectorBoundary.SetLineColor(ROOT.kGray+2)\n",
    "        sectorBoundary.SetLineWidth(2)\n",
    "        sectorBoundary.DrawLine(-2,50,2,50)\n",
    "        if typeIndex == 0 : leg1.Draw()\n",
    "        elif typeIndex == 1 : leg2.Draw()\n",
    "canvas.Draw()"
   ]
  },
  {
   "cell_type": "markdown",
   "id": "e83082c3",
   "metadata": {},
   "source": [
    "#### dEdx Tot vs momentum (p)"
   ]
  },
  {
   "cell_type": "code",
   "execution_count": null,
   "id": "b8a2d665",
   "metadata": {},
   "outputs": [],
   "source": [
    "%jsroot on\n",
    "objectName=\"hdEdxTotVsP_TPC\"\n",
    "[hist,legend,canvas,pad1,histComp,histRatio] = drawHistograms(objectName, rootDataFile, normalize=True, compareTo=rootDataFile_apass1,\n",
    "                                                              legend=False, legendNames=runList,log=\"logxyz\",\n",
    "                                                              pads=True, drawOption=\"COLZ\", maxColumns=1)\n",
    "leg1 = ROOT.TLegend()\n",
    "leg1.AddEntry(hist[0], passName, \"p\")\n",
    "leg2 = ROOT.TLegend()\n",
    "leg2.AddEntry(histComp[0], pass1Name, \"p\")\n",
    "betheBlochLines = getBetheBloch([\"523308\"])\n",
    "\n",
    "for i in range(len(rootDataFile)):\n",
    "    padRun = pad1.cd(i+1)\n",
    "    for typeIndex,histogram in enumerate([hist,histComp,histRatio]):\n",
    "        myPad = padRun.cd(typeIndex+1)\n",
    "        myPad = drawBetheBloch(betheBlochLines,myPad)\n",
    "        sectorBoundary = ROOT.TLine()\n",
    "        sectorBoundary.SetLineStyle(1)\n",
    "        sectorBoundary.SetLineColor(ROOT.kGray+2)\n",
    "        sectorBoundary.SetLineWidth(2)\n",
    "        sectorBoundary.DrawLine(0,50,20,50)\n",
    "        if typeIndex == 0 : leg1.Draw()\n",
    "        elif typeIndex == 1 : leg2.Draw()\n",
    "canvas.Draw()"
   ]
  }
 ],
 "metadata": {
  "kernelspec": {
   "display_name": "Python 3 (ipykernel)",
   "language": "python",
   "name": "python3"
  },
  "language_info": {
   "codemirror_mode": {
    "name": "ipython",
    "version": 3
   },
   "file_extension": ".py",
   "mimetype": "text/x-python",
   "name": "python",
   "nbconvert_exporter": "python",
   "pygments_lexer": "ipython3",
   "version": "3.9.16"
  },
  "toc": {
   "base_numbering": 1,
   "nav_menu": {},
   "number_sections": false,
   "sideBar": false,
   "skip_h1_title": true,
   "title_cell": "Table of Contents",
   "title_sidebar": "Contents",
   "toc_cell": true,
   "toc_position": {},
   "toc_section_display": true,
   "toc_window_display": false
  }
 },
 "nbformat": 4,
 "nbformat_minor": 5
}
