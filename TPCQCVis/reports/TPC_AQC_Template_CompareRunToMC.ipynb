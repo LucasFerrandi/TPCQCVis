{
 "cells": [
  {
   "cell_type": "code",
   "execution_count": null,
   "id": "6ba04481",
   "metadata": {},
   "outputs": [],
   "source": [
    "%%capture\n",
    "import ROOT\n",
    "import glob\n",
    "import math\n",
    "import sys, os\n",
    "import numpy as np\n",
    "import pandas as pd\n",
    "from IPython.display import display, Markdown, HTML\n",
    "import ipywidgets as widgets\n",
    "from TPCQCVis.src.drawHistograms import *\n",
    "from TPCQCVis.src.drawTrending import *\n",
    "from TPCQCVis.src.drawMultiTrending import *\n",
    "from TPCQCVis.src.checkHistograms import *\n",
    "from TPCQCVis.src.checkTrending import *\n",
    "from TPCQCVis.src.utility import *\n",
    "import warnings\n",
    "from copy import copy\n",
    "warnings.filterwarnings('ignore')"
   ]
  },
  {
   "cell_type": "code",
   "execution_count": null,
   "id": "7afb8d37",
   "metadata": {},
   "outputs": [],
   "source": [
    "%jsroot on\n",
    "display(HTML(\"<style>.container { width:95% !important; align-items: center;}</style>\"))\n",
    "display(HTML(\"<style>table {float:left;}</style>\"))\n",
    "ROOT.gErrorIgnoreLevel = ROOT.kError\n",
    "\n",
    "CODEDIR = os.environ['TPCQCVIS_DIR']\n",
    "DATADIR = os.environ['TPCQCVIS_DATA']\n",
    "REPORTDIR = os.environ['TPCQCVIS_REPORT']\n",
    "#display(HTML('<style>{}</style>'.format(CSS)))\n",
    "#ROOT.gStyle.SetPalette(57)"
   ]
  },
  {
   "cell_type": "code",
   "execution_count": null,
   "id": "1e556f7f-d199-4a14-bb9f-0515fb139009",
   "metadata": {},
   "outputs": [],
   "source": [
    "def drawQuantileProjection(objectName,rootDataFile,quantileOrder=0.5, axis=\"x\"):\n",
    "    from copy import copy\n",
    "    canvas = ROOT.TCanvas()\n",
    "    legend = ROOT.TLegend()\n",
    "    [hist,leg,canvo,pad1] = drawHistograms(objectName,rootDataFile,normalize=False,legend=False,\n",
    "                                               legendNames=runList,pads=True,drawOption=\"COLZ\",maxColumns=3)\n",
    "    quants = []\n",
    "    canvas.cd()\n",
    "    ROOT.gPad.SetGridy(1)\n",
    "    for i,histo in enumerate(hist):\n",
    "        if axis == \"y\":\n",
    "            quant = copy(histo.QuantilesY(quantileOrder))\n",
    "        else:\n",
    "            quant = copy(histo.QuantilesX(quantileOrder))\n",
    "        quant.SetYTitle(\"Median \"+ histo.GetYaxis().GetTitle())\n",
    "        quant.SetXTitle(histo.GetXaxis().GetTitle())\n",
    "        quant.SetTitle(quant.GetYaxis().GetTitle()+\" vs. \"+quant.GetXaxis().GetTitle())\n",
    "        quant.SetLineWidth(2)\n",
    "        quants.append(quant)\n",
    "        quants[i].SetStats(0)\n",
    "        quants[i].Draw(\"SAME L\")\n",
    "        legend.AddEntry(quant,runList[i])\n",
    "    return quants,legend,canvas\n",
    "    \n",
    "def sliceAndFit(objectName,rootDataFile,fitFunc=\"gaus\",fitRange=[40,60]):\n",
    "    from copy import copy\n",
    "    canvas = ROOT.TCanvas()\n",
    "    legend = ROOT.TLegend()\n",
    "    [hist,leg,canvo,pad1] = drawHistograms(objectName,rootDataFile,normalize=False,legend=False,\n",
    "                                               legendNames=runList,pads=True,drawOption=\"COLZ\",maxColumns=3)\n",
    "    fits = []\n",
    "    myFunc = ROOT.TF1(\"myFunc\",\"gaus\",40,60)\n",
    "    canvas.cd()\n",
    "    for i,histo in enumerate(hist):\n",
    "        try:\n",
    "            histo.FitSlicesY(myFunc, 0, -1, 0, \"QNR\")\n",
    "            fit = copy(ROOT.gDirectory.Get(histo.GetName()+\"_1\"))\n",
    "        except:\n",
    "            print(\"Could not perform fit.\")\n",
    "            return [],legend,canvas\n",
    "        fit.SetYTitle(\"Gaus Fit Mean \"+ histo.GetYaxis().GetTitle())\n",
    "        fit.SetXTitle(histo.GetXaxis().GetTitle())\n",
    "        fit.SetTitle(quant.GetYaxis().GetTitle()+\" vs. \"+quant.GetXaxis().GetTitle())\n",
    "        fit.SetLineWidth(2)\n",
    "        fits.append(fit)\n",
    "        legend.AddEntry(fit,runList[i])\n",
    "        fit.Draw(\"SAME L\")\n",
    "    legend.Draw()\n",
    "    return fits, legend, canvas"
   ]
  },
  {
   "cell_type": "code",
   "execution_count": null,
   "id": "0b4c56f8-1009-40aa-8a1f-12c5bd2e1ffb",
   "metadata": {},
   "outputs": [],
   "source": [
    "ROOT.gStyle.SetPalette(57)\n",
    "ROOT.gStyle.SetPalette(55)\n",
    "ROOT.gStyle.SetGridStyle(3)\n",
    "ROOT.gStyle.SetGridWidth(1)\n",
    "ROOT.gStyle.SetOptStat(0)\n",
    "cols = list(ROOT.TColor.GetPalette())\n",
    "def updateColors(histograms,palette):\n",
    "    global runList_first, runList_comparison\n",
    "    nFirst = len(runList_first)\n",
    "    nComparison = len(runList_comparison)\n",
    "    colors = []\n",
    "    for i, hist in enumerate(histograms):\n",
    "        if i < nFirst:\n",
    "            color = ROOT.kBlue + i -round(nFirst/2)\n",
    "        else:\n",
    "            color = ROOT.kRed+i-nFirst-round(nComparison/2)\n",
    "            hist.SetLineStyle(2)\n",
    "        colors.append(color)\n",
    "        hist.SetLineColor(color)\n",
    "        hist.SetMarkerColor(color)\n",
    "    return colors\n",
    "\n",
    "def setHistRangesNormalized(trends):\n",
    "    if type(trends[0]) in (ROOT.TH1D, ROOT.TH1F, ROOT.TH1C):\n",
    "        # Initialize variables to track the min and max range based on entries\n",
    "        maxRange = -float('inf')\n",
    "        minRange = float('inf')\n",
    "        \n",
    "        # Iterate over each histogram\n",
    "        for trend in trends:\n",
    "            # Get the total number of bins\n",
    "            nBins = trend.GetNbinsX()\n",
    "            \n",
    "            # Iterate over each bin to get the number of entries\n",
    "            for i in range(1, nBins + 1):\n",
    "                binEntries = trend.GetBinContent(i)\n",
    "                if binEntries != 0:\n",
    "                    maxRange = max(maxRange, binEntries)\n",
    "                    minRange = min(minRange, binEntries)\n",
    "        \n",
    "        diff = maxRange - minRange\n",
    "        \n",
    "        # Set the range for each histogram\n",
    "        for trend in trends:\n",
    "            if len(trends) > 1:\n",
    "                trend.SetMaximum(maxRange + diff * 0.3)\n",
    "                trend.SetMinimum(minRange - diff * 0.3)\n",
    "    else:\n",
    "        raise Exception(\"Expected TH1s\")\n"
   ]
  },
  {
   "cell_type": "code",
   "execution_count": null,
   "id": "aa9e68d7",
   "metadata": {},
   "outputs": [],
   "source": [
    "# NOTEBOOK VARIABLES -- CHANGE THESE TO RUN FOR DIFFERENT PERIODS\n",
    "debug = False\n",
    "\n",
    "# First production in comparison\n",
    "path = \"myPath\"\n",
    "periodName_first = \"myPeriod\"\n",
    "passName_first = \"myPassName\" # keep empty (\"\") if MC\n",
    "    \n",
    "# Second production in comparison\n",
    "path_comparison = \"myComparisonPath\"\n",
    "periodName_comparison = \"myComparisonPeriod\"\n",
    "passName_comparison = \"myComparisonPassName\" # keep empty (\"\") if MC\n",
    "\n",
    "if debug:\n",
    "    print(path+\"/\"+periodName_first+\"/\"+passName_first+\"/\")\n",
    "    print(path_comparison+\"/\"+periodName_comparison+\"/\"+passName_comparison+\"/\")"
   ]
  },
  {
   "cell_type": "code",
   "execution_count": null,
   "id": "6e4dbd91-272c-4850-ae41-9e2d9fb3a392",
   "metadata": {},
   "outputs": [],
   "source": [
    "if False:\n",
    "    # First production in comparison\n",
    "    path = \"/cave/alice-tpc-qc/data/2022/\"\n",
    "    periodName_first = \"LHC22o\"\n",
    "    passName_first = \"apass7_skimmed\" # keep empty (\"\") if MC\n",
    "        \n",
    "    # Second production in comparison\n",
    "    path_comparison = \"/cave/alice-tpc-qc/data/2023/\"\n",
    "    periodName_comparison = \"LHC23y\"\n",
    "    passName_comparison = \"apass4_skimmed\" # keep empty (\"\") if MC\n",
    "    \n",
    "    if debug:\n",
    "        print(path+\"/\"+periodName_first+\"/\"+passName_first+\"/\")\n",
    "        print(path_comparison+\"/\"+periodName_comparison+\"/\"+passName_comparison+\"/\")"
   ]
  },
  {
   "cell_type": "code",
   "execution_count": null,
   "id": "81fb14df",
   "metadata": {},
   "outputs": [],
   "source": [
    "passName = periodName_first+\" vs \"+periodName_comparison\n",
    "# Find runs\n",
    "fileList_first = glob.glob(path+\"/\"+periodName_first+\"/\"+passName_first+\"/\"+\"*_QC.root\")\n",
    "fileList_first = [file for file in fileList_first if file[-13] != \"_\"]\n",
    "fileList_first.sort()\n",
    "runList_first = [fileList_first[i][-14:-8] for i in range(len(fileList_first))]\n",
    "myRuns = [\"526713\",\"526714\",\"526715\",\"526716\",\"526719\",\"526720\",\"526776\",\"526860\",\"526865\",\"526886\",\"526963\",\"526964\",\"526966\",\"526967\",\"526968\",\"527015\",\"527016\",\"527028\",\"527031\",\"527033\",\"527034\",\"527038\",\"527039\",\"527041\",\"527057\",\"527076\",\"527108\",\"527109\"]\n",
    "runList_first = [run for run in runList_first]# if run in myRuns]\n",
    "\n",
    "\n",
    "if debug : print(periodName_first, passName_first, \"Files: \",fileList_first,\"\\n\")\n",
    "if debug : print(periodName_first, passName_first, \"Runs: \", runList_first,\"\\n\")\n",
    "    \n",
    "# Find runs in period to be compared\n",
    "fileList_comparison = glob.glob(path_comparison+\"/\"+periodName_comparison+\"/\"+passName_comparison+\"/\"+\"*_QC.root\")\n",
    "fileList_comparison = [file for file in fileList_comparison if file[-13] != \"_\"]\n",
    "fileList_comparison.sort()\n",
    "fileList_comparison = [file for file in fileList_comparison]\n",
    "runList_comparison = [fileList_comparison[i][-14:-8] for i in range(len(fileList_comparison))]\n",
    "\n",
    "if debug : print(periodName_comparison, passName_comparison, \"Runs: \", fileList_comparison,\"\\n\")\n",
    "if debug : print(periodName_comparison, passName_comparison, \"Runs: \", runList_comparison,\"\\n\")\n",
    "    \n",
    "# Make sure only the same runs are there\n",
    "runList_temp = [run for run in runList_first if run in runList_comparison]\n",
    "if debug : print(periodName_comparison, passName_comparison, \"Runs temp: \", runList_temp,\"\\n\")\n",
    "runList_first = runList_temp\n",
    "fileList_first = [file for file in fileList_first if file[-14:-8] in runList_first]\n",
    "fileList_comparison = [fileList_comparison[i] for i in range(len(fileList_comparison)) if runList_comparison[i] in runList_first]\n",
    "runList_comparison = runList_first\n",
    "\n",
    "# Read the Root Files\n",
    "rootDataFile_first = [ROOT.TFile.Open(file,\"READ\") for file in fileList_first]   \n",
    "rootDataFile_comparison = [ROOT.TFile.Open(file,\"READ\") for file in fileList_comparison]\n",
    "\n",
    "# Combine files\n",
    "rootDataFile = rootDataFile_first + rootDataFile_comparison\n",
    "runList = [periodName_first +\"_\"+ run for run in runList_first] + [periodName_comparison +\"_\"+ run for run in runList_comparison]"
   ]
  },
  {
   "cell_type": "code",
   "execution_count": null,
   "id": "bb0f06b7",
   "metadata": {},
   "outputs": [],
   "source": [
    "display(Markdown(f\"# TPC Async QC Report - {periodName_first} {passName_first} vs Anchored MC {periodName_comparison}\"))"
   ]
  },
  {
   "cell_type": "markdown",
   "id": "38300728",
   "metadata": {},
   "source": [
    "**RCT Tables:**\n",
    "+ [Bookkeeping RCT Table](https://ali-bookkeeping.cern.ch/?page=lhc-period-overview)\n",
    "+ [2022](https://docs.google.com/spreadsheets/d/14vXFYVx3oVE8wgJKmIBhjvAt6NpGp7D6H4AmBM9E0Cw/edit#gid=0), [2023](https://docs.google.com/spreadsheets/d/1YBQLXWwwc3aC3B_PYVpFkTgEP0n6u1ovtYfiCOMWnTc/edit?pli=1#gid=0), [2023_PbPb](https://docs.google.com/spreadsheets/d/1vsl-pkLdUoNXZm6muPyMENWdDSKM7UDtQLcXc2B9QhE/edit#gid=492527515)"
   ]
  },
  {
   "cell_type": "code",
   "execution_count": null,
   "id": "5f717680",
   "metadata": {},
   "outputs": [],
   "source": [
    "#print(\"Period: \"+periodName +\" - Runs:\")\n",
    "print(periodName_first+\":\\t\",runList_first)\n",
    "print(periodName_comparison+\":\\t\",runList_comparison)"
   ]
  },
  {
   "cell_type": "code",
   "execution_count": null,
   "id": "0668b0c3",
   "metadata": {},
   "outputs": [],
   "source": [
    "import datetime\n",
    "now = datetime.datetime.now()\n",
    "display(Markdown(\"+ Report automatically created on \"+now.strftime(\"%d.%m.%Y at %H:%M:%S\")))"
   ]
  },
  {
   "cell_type": "markdown",
   "id": "897badfe",
   "metadata": {
    "toc": true
   },
   "source": [
    "<h1>Table of Contents<span class=\"tocSkip\"></span></h1>\n",
    "<div class=\"toc\"><ul class=\"toc-item\"><li><span><a href=\"#Plots\" data-toc-modified-id=\"Plots-1\">Plots</a></span><ul class=\"toc-item\"><li><span><a href=\"#Tracks\" data-toc-modified-id=\"Tracks-1.1\">Tracks</a></span><ul class=\"toc-item\"><li><span><a href=\"#Geometrical-distributions-of-tracks\" data-toc-modified-id=\"Geometrical-distributions-of-tracks-1.1.1\">Geometrical distributions of tracks</a></span></li><li><span><a href=\"#Track-properties\" data-toc-modified-id=\"Track-properties-1.1.2\">Track properties</a></span></li></ul></li><li><span><a href=\"#DCAr\" data-toc-modified-id=\"DCAr-1.2\">DCAr</a></span></li><li><span><a href=\"#PID\" data-toc-modified-id=\"PID-1.3\">PID</a></span><ul class=\"toc-item\"><li><span><a href=\"#dEdxTot-of-MIP\" data-toc-modified-id=\"dEdxTot-of-MIP-1.3.1\">dEdxTot of MIP</a></span></li><li><span><a href=\"#TPC-Gain-calibration\" data-toc-modified-id=\"TPC-Gain-calibration-1.3.2\">TPC Gain calibration</a></span></li></ul></li></ul></li></ul></div>"
   ]
  },
  {
   "cell_type": "markdown",
   "id": "2ca94113",
   "metadata": {},
   "source": [
    "---\n",
    "## Plots"
   ]
  },
  {
   "cell_type": "code",
   "execution_count": null,
   "id": "94dac685",
   "metadata": {},
   "outputs": [],
   "source": [
    "ROOT.gStyle.SetPalette(57)\n",
    "ROOT.gStyle.SetGridStyle(3)\n",
    "ROOT.gStyle.SetGridWidth(1)\n",
    "ROOT.gStyle.SetPalette(57)"
   ]
  },
  {
   "cell_type": "markdown",
   "id": "549deb42",
   "metadata": {},
   "source": [
    "---\n",
    "### Tracks\n",
    "#### Geometrical distributions of tracks\n",
    "**Phi distribution A-side tracks:**"
   ]
  },
  {
   "cell_type": "code",
   "execution_count": null,
   "id": "d4d46a67",
   "metadata": {},
   "outputs": [],
   "source": [
    "%jsroot on\n",
    "objectName=\"hPhiAside\"\n",
    "if checkIfExists(rootDataFile,objectName):\n",
    "    [hist,legend,canvas,pad1] = drawHistograms(objectName,rootDataFile,\n",
    "                                               normalize=True,legend=True,legendNames=runList,pads=False,\n",
    "                                               maxColumns=2,drawOption=\"SAME L\",yAxisRange=[2.2e-3,3.2e-3],\n",
    "                                               grid=True)\n",
    "    setHistRangesNormalized(hist)\n",
    "    #Sector boundatries\n",
    "    pad1.cd()\n",
    "    sectorBoundary = ROOT.TLine(0,hist[0].GetMinimum(),0,hist[0].GetMaximum())\n",
    "    sectorBoundary.SetLineStyle(2)\n",
    "    sectorNum = ROOT.TText(.5,.5,\"test\")\n",
    "    sectorNum.SetTextAlign(22)\n",
    "    sectorNum.SetTextColor(ROOT.kGray+1)\n",
    "    sectorNum.SetTextFont(0)\n",
    "    for j in range(19):\n",
    "        sectorBoundary.DrawLine((j*2*math.pi)/18,hist[0].GetMinimum(),(j*2*math.pi)/18,hist[0].GetMaximum())\n",
    "        if j < 18 : sectorNum.DrawText(((j+0.5)*2*math.pi)/18,hist[0].GetMaximum()*0.95+hist[0].GetMinimum()*0.05,str(j))\n",
    "    pad1.SetGridy(1)\n",
    "    canvas.SetCanvasSize(1200,400)\n",
    "    updateColors(hist,0)\n",
    "    canvas.Draw()"
   ]
  },
  {
   "cell_type": "markdown",
   "id": "6305738a",
   "metadata": {},
   "source": [
    "**Phi distribution C-side tracks:**"
   ]
  },
  {
   "cell_type": "code",
   "execution_count": null,
   "id": "347e4057",
   "metadata": {},
   "outputs": [],
   "source": [
    "%jsroot on\n",
    "objectName=\"hPhiCside\"\n",
    "if checkIfExists(rootDataFile,objectName):\n",
    "    [hist,legend,canvas,pad1] = drawHistograms(objectName,rootDataFile,\n",
    "                                               normalize=True,legend=True,legendNames=runList,pads=False,\n",
    "                                               maxColumns=2,drawOption=\"SAME L\",yAxisRange=[2.2e-3,3.2e-3],\n",
    "                                               grid=True)\n",
    "    setHistRangesNormalized(hist)\n",
    "    #Sector boundatries\n",
    "    pad1.cd()\n",
    "    sectorBoundary = ROOT.TLine(0,hist[0].GetMinimum(),0,hist[0].GetMaximum())\n",
    "    sectorBoundary.SetLineStyle(2)\n",
    "    sectorNum = ROOT.TText(.5,.5,\"test\")\n",
    "    sectorNum.SetTextAlign(22)\n",
    "    sectorNum.SetTextColor(ROOT.kGray+1)\n",
    "    sectorNum.SetTextFont(0)\n",
    "    for j in range(19):\n",
    "        sectorBoundary.DrawLine((j*2*math.pi)/18,hist[0].GetMinimum(),(j*2*math.pi)/18,hist[0].GetMaximum())\n",
    "        if j < 18 : sectorNum.DrawText(((j+0.5)*2*math.pi)/18,hist[0].GetMaximum()*0.95+hist[0].GetMinimum()*0.05,str(j))\n",
    "    pad1.SetGridy(1)\n",
    "    canvas.SetCanvasSize(1200,400)\n",
    "    updateColors(hist,0)\n",
    "    canvas.Draw()"
   ]
  },
  {
   "cell_type": "markdown",
   "id": "87f2c477",
   "metadata": {},
   "source": [
    "**Eta distribution:**"
   ]
  },
  {
   "cell_type": "code",
   "execution_count": null,
   "id": "e2d2dcfc",
   "metadata": {},
   "outputs": [],
   "source": [
    "%jsroot on\n",
    "objectName=\"hEta\"\n",
    "xRange = [-1.1,1.1]\n",
    "yRange = [2e-3,13e-3]\n",
    "log  = \"none\"\n",
    "if checkIfExists(rootDataFile,objectName):\n",
    "    [hist,legend,canvas,pad1] = drawHistograms(objectName,rootDataFile,\n",
    "                                               normalize=True,legend=True,legendNames=runList,pads=False,\n",
    "                                               maxColumns=2,drawOption=\"SAME L\",xAxisRange=xRange,yAxisRange=yRange,log=log,\n",
    "                                               grid=True)\n",
    "    setHistRangesNormalized(hist)\n",
    "    pad1.SetGrid(1)\n",
    "    canvas.SetCanvasSize(800,500)\n",
    "    updateColors(hist,0)\n",
    "    canvas.Draw()"
   ]
  },
  {
   "cell_type": "code",
   "execution_count": null,
   "id": "99e1195a-bfe1-450e-a934-f1d591424808",
   "metadata": {},
   "outputs": [],
   "source": [
    "%jsroot on\n",
    "objectName=\"h2DEtaPhi\"\n",
    "if checkIfExists(rootDataFile,objectName):\n",
    "    c = ROOT.TCanvas(\"\",\"\",1200,500)\n",
    "    [quants,legend,canvas] = drawQuantileProjection(objectName,rootDataFile)\n",
    "    updateColors(quants,cols)\n",
    "    canvas = c.cd()\n",
    "    canvas.SetGridy(1)\n",
    "    setHistRangesNormalized(quants)\n",
    "    for quant in quants:\n",
    "        quant.Draw(\"L SAME\")\n",
    "        #quant.GetYaxis().SetRangeUser(-.1,.1)\n",
    "        quant.SetTitle(passName+\" - Median eta vs phi\")\n",
    "    sectorBoundary = ROOT.TLine(0,quant.GetMinimum(),0,quant.GetMaximum())\n",
    "    sectorBoundary.SetLineStyle(2)\n",
    "    sectorNum = ROOT.TText(.5,.5,\"test\")\n",
    "    sectorNum.SetTextAlign(22)\n",
    "    sectorNum.SetTextColor(ROOT.kGray+1)\n",
    "    sectorNum.SetTextFont(0)\n",
    "    for j in range(19):\n",
    "        sectorBoundary.DrawLine((j*2*math.pi)/18,quant.GetMinimum(),(j*2*math.pi)/18,quant.GetMaximum())\n",
    "        if j < 18 : sectorNum.DrawText(((j+0.5)*2*math.pi)/18,quant.GetMaximum()*0.95+quant.GetMinimum()*0.05,str(j))\n",
    "    legend.Draw()\n",
    "    c.Draw()\n"
   ]
  },
  {
   "cell_type": "markdown",
   "id": "738f539d",
   "metadata": {},
   "source": [
    "#### Track properties\n",
    "**Transverse momentum**"
   ]
  },
  {
   "cell_type": "code",
   "execution_count": null,
   "id": "fe939830",
   "metadata": {},
   "outputs": [],
   "source": [
    "%jsroot on\n",
    "objectName=\"hPt\"\n",
    "xRange = [0,0]\n",
    "yRange = [0,0]\n",
    "log  = \"logxy\"\n",
    "if checkIfExists(rootDataFile,objectName):\n",
    "    [hist,legend,canvas,pad1] = drawHistograms(objectName,rootDataFile,\n",
    "                                               normalize=True,legend=True,legendNames=runList,pads=False,\n",
    "                                               maxColumns=2,drawOption=\"SAME L\",xAxisRange=xRange,yAxisRange=yRange,log=log,\n",
    "                                               grid=True)\n",
    "    setHistRangesNormalized(hist)\n",
    "    pad1.SetGrid(1)\n",
    "    canvas.SetCanvasSize(800,500)\n",
    "    updateColors(hist,0)\n",
    "    canvas.Draw()"
   ]
  },
  {
   "cell_type": "markdown",
   "id": "5200e396",
   "metadata": {},
   "source": [
    "**Track sign**"
   ]
  },
  {
   "cell_type": "code",
   "execution_count": null,
   "id": "e222519f",
   "metadata": {},
   "outputs": [],
   "source": [
    "%jsroot on\n",
    "objectName=\"hSign\"\n",
    "xRange = [0,0]\n",
    "yRange = [0,0]\n",
    "log  = \"none\"\n",
    "if checkIfExists(rootDataFile,objectName):\n",
    "    [hist,legend,canvas,pad1] = drawHistograms(objectName,rootDataFile,\n",
    "                                               normalize=True,legend=True,legendNames=runList,pads=False,\n",
    "                                               maxColumns=2,drawOption=\"SAME HIST\",xAxisRange=xRange,yAxisRange=yRange,log=log,\n",
    "                                               grid=True)\n",
    "    setHistRangesNormalized(hist)\n",
    "    pad1.SetGrid(1)\n",
    "    canvas.SetCanvasSize(800,400)\n",
    "    updateColors(hist,0)\n",
    "    canvas.Draw()"
   ]
  },
  {
   "cell_type": "markdown",
   "id": "d58cf558",
   "metadata": {},
   "source": [
    "**Charge / transverse momentum**"
   ]
  },
  {
   "cell_type": "code",
   "execution_count": null,
   "id": "edc50695",
   "metadata": {},
   "outputs": [],
   "source": [
    "%jsroot on\n",
    "objectName=\"hQOverPt\"\n",
    "xRange = [0,0]\n",
    "yRange = [0,0]\n",
    "log  = \"none\"\n",
    "if checkIfExists(rootDataFile,objectName):\n",
    "    [hist,legend,canvas,pad1] = drawHistograms(objectName,rootDataFile,\n",
    "                                               normalize=True,legend=True,legendNames=runList,pads=False,\n",
    "                                               maxColumns=2,drawOption=\"SAME L\",xAxisRange=xRange,yAxisRange=yRange,log=log,\n",
    "                                               grid=True)\n",
    "    setHistRangesNormalized(hist)\n",
    "    pad1.SetGrid(1)\n",
    "    canvas.SetCanvasSize(800,400)\n",
    "    updateColors(hist,0)\n",
    "    canvas.Draw()"
   ]
  },
  {
   "cell_type": "markdown",
   "id": "cb886e2a",
   "metadata": {},
   "source": [
    "**Number of clusters per track**"
   ]
  },
  {
   "cell_type": "code",
   "execution_count": null,
   "id": "ad5067a9",
   "metadata": {},
   "outputs": [],
   "source": [
    "%jsroot on\n",
    "objectName=\"hNClustersAfterCuts\"\n",
    "xRange = [50,160]\n",
    "yRange = [0,40e-3]\n",
    "log  = \"none\"\n",
    "if checkIfExists(rootDataFile,objectName):\n",
    "    [hist,legend,canvas,pad1] = drawHistograms(objectName,rootDataFile,\n",
    "                                               normalize=True,legend=True,legendNames=runList,pads=False,\n",
    "                                               maxColumns=2,drawOption=\"SAME L\",xAxisRange=xRange,yAxisRange=yRange,log=log,\n",
    "                                               grid=True)\n",
    "    setHistRangesNormalized(hist)\n",
    "    pad1.SetGrid(1)\n",
    "    canvas.SetCanvasSize(800,400)\n",
    "    updateColors(hist,0)\n",
    "    canvas.Draw()"
   ]
  },
  {
   "cell_type": "markdown",
   "id": "f2925ae9",
   "metadata": {},
   "source": [
    "**nClusters vs phi**"
   ]
  },
  {
   "cell_type": "code",
   "execution_count": null,
   "id": "f4295051-b300-4f80-a42b-1f00d9fc10aa",
   "metadata": {},
   "outputs": [],
   "source": [
    "%jsroot on\n",
    "objectName=\"h2DNClustersPhiAside\"\n",
    "if checkIfExists(rootDataFile,objectName):\n",
    "    c = ROOT.TCanvas(\"\",\"\",1200,500)\n",
    "    [quants,legend,canvas] = drawQuantileProjection(objectName,rootDataFile)\n",
    "    updateColors(quants,cols)\n",
    "    canvas = c.cd()\n",
    "    canvas.SetGridy(1)\n",
    "    setHistRangesNormalized(quants)\n",
    "    for quant in quants:\n",
    "        quant.Draw(\"L SAME\")\n",
    "        #quant.GetYaxis().SetRangeUser(60,160)\n",
    "        quant.SetTitle(passName+\"- A-Side - nClusters per track vs phi\")\n",
    "    sectorBoundary = ROOT.TLine(0,quant.GetMinimum(),0,quant.GetMaximum())\n",
    "    sectorBoundary.SetLineStyle(2)\n",
    "    sectorNum = ROOT.TText(.5,.5,\"test\")\n",
    "    sectorNum.SetTextAlign(22)\n",
    "    sectorNum.SetTextColor(ROOT.kGray+1)\n",
    "    sectorNum.SetTextFont(0)\n",
    "    for j in range(19):\n",
    "        sectorBoundary.DrawLine((j*2*math.pi)/18,quant.GetMinimum(),(j*2*math.pi)/18,quant.GetMaximum())\n",
    "        if j < 18 : sectorNum.DrawText(((j+0.5)*2*math.pi)/18,quant.GetMaximum()*0.95+quant.GetMinimum()*0.05,str(j))\n",
    "    legend.Draw()\n",
    "    c.Draw()\n"
   ]
  },
  {
   "cell_type": "code",
   "execution_count": null,
   "id": "a8a24637-f8e4-49c8-9b0f-7dc8cdceebd4",
   "metadata": {},
   "outputs": [],
   "source": [
    "%jsroot on\n",
    "objectName=\"h2DNClustersPhiCside\"\n",
    "if checkIfExists(rootDataFile,objectName):\n",
    "    c = ROOT.TCanvas(\"\",\"\",1200,500)\n",
    "    [quants,legend,canvas] = drawQuantileProjection(objectName,rootDataFile)\n",
    "    updateColors(quants,cols)\n",
    "    canvas = c.cd()\n",
    "    canvas.SetGridy(1)\n",
    "    setHistRangesNormalized(quants)\n",
    "    for quant in quants:\n",
    "        quant.Draw(\"L SAME\")\n",
    "        #quant.GetYaxis().SetRangeUser(60,160)\n",
    "        quant.SetTitle(passName+\"- C-Side - nClusters per track vs phi\")\n",
    "    sectorBoundary = ROOT.TLine(0,quant.GetMinimum(),0,quant.GetMaximum())\n",
    "    sectorBoundary.SetLineStyle(2)\n",
    "    sectorNum = ROOT.TText(.5,.5,\"test\")\n",
    "    sectorNum.SetTextAlign(22)\n",
    "    sectorNum.SetTextColor(ROOT.kGray+1)\n",
    "    sectorNum.SetTextFont(0)\n",
    "    for j in range(19):\n",
    "        sectorBoundary.DrawLine((j*2*math.pi)/18,quant.GetMinimum(),(j*2*math.pi)/18,quant.GetMaximum())\n",
    "        if j < 18 : sectorNum.DrawText(((j+0.5)*2*math.pi)/18,quant.GetMaximum()*0.95+quant.GetMinimum()*0.05,str(j))\n",
    "    legend.Draw()\n",
    "    c.Draw()\n"
   ]
  },
  {
   "cell_type": "markdown",
   "id": "91903ed3",
   "metadata": {},
   "source": [
    "**nClusters vs eta**"
   ]
  },
  {
   "cell_type": "code",
   "execution_count": null,
   "id": "9fe0d2ad-6969-4d87-9ac2-ade8f2ab95e7",
   "metadata": {},
   "outputs": [],
   "source": [
    "%jsroot on\n",
    "objectName=\"h2DNClustersEta\"\n",
    "if checkIfExists(rootDataFile,objectName):\n",
    "    c = ROOT.TCanvas(\"\",\"\",1200,500)\n",
    "    [quants,legend,canvas] = drawQuantileProjection(objectName,rootDataFile)\n",
    "    updateColors(quants,cols)\n",
    "    canvas = c.cd()\n",
    "    canvas.SetGrid(1)\n",
    "    setHistRangesNormalized(quants)\n",
    "    for quant in quants:\n",
    "        quant.Draw(\"L SAME\")\n",
    "        quant.GetXaxis().SetRangeUser(-1.1,1.1)\n",
    "        #quant.GetYaxis().SetRangeUser(60,160)\n",
    "        quant.SetTitle(passName+\"- nClusters per track vs eta\")\n",
    "    legend.Draw()\n",
    "    c.Draw()\n"
   ]
  },
  {
   "cell_type": "markdown",
   "id": "9254b83e",
   "metadata": {},
   "source": [
    "**nClusters vs transverse momentum**"
   ]
  },
  {
   "cell_type": "code",
   "execution_count": null,
   "id": "60716034-b41d-4983-a5a3-4dad574c907a",
   "metadata": {},
   "outputs": [],
   "source": [
    "%jsroot on\n",
    "objectName=\"h2DNClustersPt\"\n",
    "if checkIfExists(rootDataFile,objectName):\n",
    "    c = ROOT.TCanvas(\"\",\"\",1200,500)\n",
    "    [quants,legend,canvas] = drawQuantileProjection(objectName,rootDataFile)\n",
    "    updateColors(quants,cols)\n",
    "    canvas = c.cd()\n",
    "    canvas.SetGrid(1)\n",
    "    canvas.SetLogx()\n",
    "    setHistRangesNormalized(quants)\n",
    "    for quant in quants:\n",
    "        quant.Draw(\"L SAME\")\n",
    "        #quant.GetYaxis().SetRangeUser(60,160)\n",
    "        quant.SetTitle(passName+\"- nClusters per track vs pT\")\n",
    "    legend.Draw()\n",
    "    c.Draw()"
   ]
  },
  {
   "cell_type": "markdown",
   "id": "dda7f5c0-a25a-40b0-b573-1b0e28ca0253",
   "metadata": {},
   "source": [
    "### DCAr"
   ]
  },
  {
   "cell_type": "code",
   "execution_count": null,
   "id": "e439180b-5d8d-4c34-a993-64e1f7018737",
   "metadata": {},
   "outputs": [],
   "source": [
    "%jsroot on\n",
    "objectName=\"hDCAr_A_Pos\"\n",
    "title = \" - DCAr A-Side - Positive\"\n",
    "if checkIfExists(rootDataFile,objectName):\n",
    "    c = ROOT.TCanvas(\"\",\"\",1200,500)\n",
    "    [quants,legend,canvas] = drawQuantileProjection(objectName,rootDataFile)\n",
    "    updateColors(quants,cols)\n",
    "    canvas = c.cd()\n",
    "    canvas.SetGridy(1)\n",
    "    setHistRangesNormalized(quants)\n",
    "    for quant in quants:\n",
    "        quant.Draw(\"L SAME\")\n",
    "        #quant.GetYaxis().SetRangeUser(-3,3)\n",
    "        quant.SetTitle(passName+title)\n",
    "    sectorBoundary = ROOT.TLine(0,quant.GetMinimum(),0,quant.GetMaximum())\n",
    "    sectorBoundary.SetLineStyle(2)\n",
    "    sectorNum = ROOT.TText(.5,.5,\"test\")\n",
    "    sectorNum.SetTextAlign(22)\n",
    "    sectorNum.SetTextColor(ROOT.kGray+1)\n",
    "    sectorNum.SetTextFont(0)\n",
    "    for j in range(19):\n",
    "        sectorBoundary.DrawLine((j*2*math.pi)/18,quant.GetMinimum(),(j*2*math.pi)/18,quant.GetMaximum())\n",
    "        if j < 18 : sectorNum.DrawText(((j+0.5)*2*math.pi)/18,quant.GetMaximum()*0.95+quant.GetMinimum()*0.05,str(j))\n",
    "    legend.Draw()\n",
    "    c.Draw()"
   ]
  },
  {
   "cell_type": "code",
   "execution_count": null,
   "id": "b0eb056b-e630-4812-ac76-d98f9f62bfbf",
   "metadata": {},
   "outputs": [],
   "source": [
    "%jsroot on\n",
    "objectName=\"hDCAr_A_Neg\"\n",
    "title = \" - DCAr A-Side - Negative\"\n",
    "if checkIfExists(rootDataFile,objectName):\n",
    "    c = ROOT.TCanvas(\"\",\"\",1200,500)\n",
    "    [quants,legend,canvas] = drawQuantileProjection(objectName,rootDataFile)\n",
    "    updateColors(quants,cols)\n",
    "    canvas = c.cd()\n",
    "    canvas.SetGridy(1)\n",
    "    setHistRangesNormalized(quants)\n",
    "    for quant in quants:\n",
    "        quant.Draw(\"L SAME\")\n",
    "        #quant.GetYaxis().SetRangeUser(-3,3)\n",
    "        quant.SetTitle(passName+title)\n",
    "    sectorBoundary = ROOT.TLine(0,quant.GetMinimum(),0,quant.GetMaximum())\n",
    "    sectorBoundary.SetLineStyle(2)\n",
    "    sectorNum = ROOT.TText(.5,.5,\"test\")\n",
    "    sectorNum.SetTextAlign(22)\n",
    "    sectorNum.SetTextColor(ROOT.kGray+1)\n",
    "    sectorNum.SetTextFont(0)\n",
    "    for j in range(19):\n",
    "        sectorBoundary.DrawLine((j*2*math.pi)/18,quant.GetMinimum(),(j*2*math.pi)/18,quant.GetMaximum())\n",
    "        if j < 18 : sectorNum.DrawText(((j+0.5)*2*math.pi)/18,quant.GetMaximum()*0.95+quant.GetMinimum()*0.05,str(j))\n",
    "    legend.Draw()\n",
    "    c.Draw()"
   ]
  },
  {
   "cell_type": "code",
   "execution_count": null,
   "id": "6f4125b9-2961-4315-9014-73ca4486a001",
   "metadata": {},
   "outputs": [],
   "source": [
    "%jsroot on\n",
    "objectName=\"hDCAr_C_Pos\"\n",
    "title = \" - DCAr C-Side - Positive\"\n",
    "if checkIfExists(rootDataFile,objectName):\n",
    "    c = ROOT.TCanvas(\"\",\"\",1200,500)\n",
    "    [quants,legend,canvas] = drawQuantileProjection(objectName,rootDataFile)\n",
    "    updateColors(quants,cols)\n",
    "    canvas = c.cd()\n",
    "    canvas.SetGridy(1)\n",
    "    setHistRangesNormalized(quants)\n",
    "    for quant in quants:\n",
    "        quant.Draw(\"L SAME\")\n",
    "        #quant.GetYaxis().SetRangeUser(-3,3)\n",
    "        quant.SetTitle(passName+title)\n",
    "    sectorBoundary = ROOT.TLine(0,quant.GetMinimum(),0,quant.GetMaximum())\n",
    "    sectorBoundary.SetLineStyle(2)\n",
    "    sectorNum = ROOT.TText(.5,.5,\"test\")\n",
    "    sectorNum.SetTextAlign(22)\n",
    "    sectorNum.SetTextColor(ROOT.kGray+1)\n",
    "    sectorNum.SetTextFont(0)\n",
    "    for j in range(19):\n",
    "        sectorBoundary.DrawLine((j*2*math.pi)/18,quant.GetMinimum(),(j*2*math.pi)/18,quant.GetMaximum())\n",
    "        if j < 18 : sectorNum.DrawText(((j+0.5)*2*math.pi)/18,quant.GetMaximum()*0.95+quant.GetMinimum()*0.05,str(j))\n",
    "    legend.Draw()\n",
    "    c.Draw()"
   ]
  },
  {
   "cell_type": "code",
   "execution_count": null,
   "id": "c8c8ae14-8f11-45e5-8edf-927a208859c2",
   "metadata": {},
   "outputs": [],
   "source": [
    "%jsroot on\n",
    "objectName=\"hDCAr_C_Neg\"\n",
    "title = \" - DCAr C-Side - Negative\"\n",
    "if checkIfExists(rootDataFile,objectName):\n",
    "    c = ROOT.TCanvas(\"\",\"\",1200,500)\n",
    "    [quants,legend,canvas] = drawQuantileProjection(objectName,rootDataFile)\n",
    "    updateColors(quants,cols)\n",
    "    canvas = c.cd()\n",
    "    canvas.SetGridy(1)\n",
    "    setHistRangesNormalized(quants)\n",
    "    for quant in quants:\n",
    "        quant.Draw(\"L SAME\")\n",
    "        #quant.GetYaxis().SetRangeUser(-3,3)\n",
    "        quant.SetTitle(passName+title)\n",
    "    sectorBoundary = ROOT.TLine(0,quant.GetMinimum(),0,quant.GetMaximum())\n",
    "    sectorBoundary.SetLineStyle(2)\n",
    "    sectorNum = ROOT.TText(.5,.5,\"test\")\n",
    "    sectorNum.SetTextAlign(22)\n",
    "    sectorNum.SetTextColor(ROOT.kGray+1)\n",
    "    sectorNum.SetTextFont(0)\n",
    "    for j in range(19):\n",
    "        sectorBoundary.DrawLine((j*2*math.pi)/18,quant.GetMinimum(),(j*2*math.pi)/18,quant.GetMaximum())\n",
    "        if j < 18 : sectorNum.DrawText(((j+0.5)*2*math.pi)/18,quant.GetMaximum()*0.95+quant.GetMinimum()*0.05,str(j))\n",
    "    legend.Draw()\n",
    "    c.Draw()"
   ]
  },
  {
   "cell_type": "markdown",
   "id": "8d8b92cf",
   "metadata": {},
   "source": [
    "### PID\n",
    "#### dEdxTot of MIP"
   ]
  },
  {
   "cell_type": "code",
   "execution_count": null,
   "id": "e1995b55-5a5f-4cd2-8615-25288a28c662",
   "metadata": {},
   "outputs": [],
   "source": [
    "%jsroot on\n",
    "yRange = [0,0.09]\n",
    "objects = [\"hdEdxTotMIP_\" + region for region in [\"TPC\",\"IROC\",\"OROC1\",\"OROC2\",\"OROC3\"]]\n",
    "if all([checkIfExists(rootDataFile,objectName) for objectName in objects]):\n",
    "    hists = []\n",
    "    for objectName in objects:\n",
    "        [hist,legend,canvas,pad1] = drawHistograms(objectName,rootDataFile,normalize=True,legend=True,legendNames=runList,pads=False,\n",
    "                                               drawOption=\"SAME L\",yAxisRange=yRange,log=\"logx\")\n",
    "        updateColors(hist,cols)\n",
    "        hists.append(copy(hist))\n",
    "    c = ROOT.TCanvas(\"MIP\",\"MIP\",1100,600)\n",
    "    c.Divide(2)\n",
    "    leftPad = c.cd(1)\n",
    "    leftPad.SetGrid(1)\n",
    "    for hist_list in hists:\n",
    "        setHistRangesNormalized(hist_list)\n",
    "    for hist in hists[0]:\n",
    "        hist.SetTitle(passName+\" - \"+hist.GetTitle())\n",
    "        hist.Draw(\"SAME L\")\n",
    "        hist.SetStats(0)\n",
    "    #Draw target 50\n",
    "    targets = [ROOT.TLine(50,yRange[0],50,yRange[1]) for hist in hists]\n",
    "    for i in range(len(objects)):\n",
    "        targets[i].SetLineStyle(2)\n",
    "        targets[i].SetLineColor(3)\n",
    "        targets[i].SetLineWidth(3)\n",
    "    targets[0].Draw()\n",
    "    legend.Draw()\n",
    "    rightPad = c.cd(2)\n",
    "    rightPad.Divide(2,2)\n",
    "    for i in range(1,5):\n",
    "        rightPad.cd(i)\n",
    "        ROOT.gPad.SetGrid(1)\n",
    "        for hist in hists[i]:\n",
    "            hist.SetTitle(passName+\" - \"+hist.GetTitle())\n",
    "            hist.Draw(\"SAME L\")\n",
    "            hist.SetStats(0)\n",
    "        targets[i].Draw()\n",
    "    c.Draw()"
   ]
  },
  {
   "cell_type": "markdown",
   "id": "b9ed6bf3",
   "metadata": {},
   "source": [
    "#### TPC Gain calibration\n",
    "**dEdx of MIP vs sector**"
   ]
  },
  {
   "cell_type": "code",
   "execution_count": null,
   "id": "b3d4f947-e97e-4c8d-9e0d-c22eef7d2913",
   "metadata": {},
   "outputs": [],
   "source": [
    "%jsroot on\n",
    "objectName=\"hdEdxTotMIPVsSec_TPC\"\n",
    "title = \"TPC Mean MIP Q_{Tot} vs Sector\"\n",
    "if checkIfExists(rootDataFile,objectName):\n",
    "    c = ROOT.TCanvas(\"\",\"\",1200,500)\n",
    "    [quants,legend,canvas] = sliceAndFit(objectName,rootDataFile)\n",
    "    updateColors(quants,cols)\n",
    "    canvas = c.cd()\n",
    "    canvas.SetGridy(1)\n",
    "    setHistRangesNormalized(quants)\n",
    "    for quant in quants:\n",
    "        quant.Draw(\"L SAME\")\n",
    "        #quant.GetYaxis().SetRangeUser(45,55)\n",
    "        quant.SetTitle(passName+\" - \"+title)\n",
    "    legend.Draw()    \n",
    "    c.Draw()"
   ]
  },
  {
   "cell_type": "markdown",
   "id": "dedc1882",
   "metadata": {},
   "source": [
    "**dEdx of Mip vs nClusters**"
   ]
  },
  {
   "cell_type": "code",
   "execution_count": null,
   "id": "91d4c491-8c38-4a13-8221-6e164424c2af",
   "metadata": {},
   "outputs": [],
   "source": [
    "%jsroot on\n",
    "objectName=\"hdEdxTotMIPVsNcl_TPC\"\n",
    "title = \"TPC Mean MIP Q_{Tot} vs nClusters\"\n",
    "if checkIfExists(rootDataFile,objectName):\n",
    "    c = ROOT.TCanvas(\"\",\"\",1200,500)\n",
    "    [quants,legend,canvas] = sliceAndFit(objectName,rootDataFile)\n",
    "    updateColors(quants,cols)\n",
    "    canvas = c.cd()\n",
    "    canvas.SetGridy(1)\n",
    "    setHistRangesNormalized(quants)\n",
    "    for quant in quants:\n",
    "        quant.Draw(\"L SAME\")\n",
    "        #quant.GetYaxis().SetRangeUser(45,55)\n",
    "        quant.GetXaxis().SetRangeUser(60,155)\n",
    "        quant.SetTitle(passName+\" - \"+title)\n",
    "    legend.Draw()\n",
    "    c.Draw()"
   ]
  },
  {
   "cell_type": "markdown",
   "id": "560a30ec",
   "metadata": {},
   "source": [
    "**dEdx of Mip vs tan(lambda)**"
   ]
  },
  {
   "cell_type": "code",
   "execution_count": null,
   "id": "ea06236c-f411-42e6-a8f6-6cb0c3b96a4b",
   "metadata": {},
   "outputs": [],
   "source": [
    "%jsroot on\n",
    "objectName=\"hdEdxTotMIPVsTgl_TPC\"\n",
    "title = \"TPC Mean MIP Q_{Tot} vs tan(lambda)\"\n",
    "if checkIfExists(rootDataFile,objectName):\n",
    "    c = ROOT.TCanvas(\"\",\"\",1200,500)\n",
    "    [quants,legend,canvas] = sliceAndFit(objectName,rootDataFile)\n",
    "    updateColors(quants,cols)\n",
    "    canvas = c.cd()\n",
    "    canvas.SetGridy(1)\n",
    "    setHistRangesNormalized(quants)\n",
    "    for quant in quants:\n",
    "        quant.Draw(\"L SAME\")\n",
    "        #quant.GetYaxis().SetRangeUser(45,55)\n",
    "        quant.GetXaxis().SetRangeUser(-2,2)\n",
    "        quant.SetTitle(passName+\" - \"+title)\n",
    "    legend.Draw()\n",
    "    c.Draw()"
   ]
  },
  {
   "cell_type": "markdown",
   "id": "61714520",
   "metadata": {},
   "source": [
    "**dEdx of Mip vs sin(phi)**"
   ]
  },
  {
   "cell_type": "code",
   "execution_count": null,
   "id": "c5e9bdae-e112-472e-be5a-82277ad7ea37",
   "metadata": {},
   "outputs": [],
   "source": [
    "%jsroot on\n",
    "objectName=\"hdEdxTotMIPVsSnp_TPC\"\n",
    "title = \"TPC Mean MIP Q_{Tot} vs sin(phi)\"\n",
    "if checkIfExists(rootDataFile,objectName):\n",
    "    c = ROOT.TCanvas(\"\",\"\",1200,500)\n",
    "    [quants,legend,canvas] = sliceAndFit(objectName,rootDataFile)\n",
    "    updateColors(quants,cols)\n",
    "    canvas = c.cd()\n",
    "    canvas.SetGridy(1)\n",
    "    setHistRangesNormalized(quants)\n",
    "    for quant in quants:\n",
    "        quant.Draw(\"L SAME\")\n",
    "        #quant.GetYaxis().SetRangeUser(45,55)\n",
    "        quant.GetXaxis().SetRangeUser(-1,1)\n",
    "        quant.SetTitle(passName+\" - \"+title)\n",
    "    legend.Draw()\n",
    "    c.Draw()"
   ]
  }
 ],
 "metadata": {
  "kernelspec": {
   "display_name": "Python 3 (ipykernel)",
   "language": "python",
   "name": "python3"
  },
  "language_info": {
   "codemirror_mode": {
    "name": "ipython",
    "version": 3
   },
   "file_extension": ".py",
   "mimetype": "text/x-python",
   "name": "python",
   "nbconvert_exporter": "python",
   "pygments_lexer": "ipython3",
   "version": "3.9.16"
  },
  "toc": {
   "base_numbering": 1,
   "nav_menu": {},
   "number_sections": false,
   "sideBar": false,
   "skip_h1_title": true,
   "title_cell": "Table of Contents",
   "title_sidebar": "Contents",
   "toc_cell": true,
   "toc_position": {},
   "toc_section_display": true,
   "toc_window_display": false
  },
  "widgets": {
   "application/vnd.jupyter.widget-state+json": {
    "state": {
     "0406058ce7b34920a5002f002b388a11": {
      "model_module": "@jupyter-widgets/output",
      "model_module_version": "1.0.0",
      "model_name": "OutputModel",
      "state": {
       "layout": "IPY_MODEL_e5c089c3d1f54e06aa7c69d6be7b7d7a"
      }
     },
     "04f7abbb945649049c088602c240cddf": {
      "model_module": "@jupyter-widgets/controls",
      "model_module_version": "1.4.0",
      "model_name": "ButtonModel",
      "state": {
       "_model_module_version": "1.4.0",
       "_view_module_version": "1.4.0",
       "description": "Save to Root",
       "layout": "IPY_MODEL_a3a8439080a4433c8cfc3592bcac145a",
       "style": "IPY_MODEL_ca9438839a46429aaa3f24354ee42db5"
      }
     },
     "0879c08a037c40b59978c9acbf2b6698": {
      "model_module": "@jupyter-widgets/controls",
      "model_module_version": "1.4.0",
      "model_name": "ButtonStyleModel",
      "state": {
       "_model_module_version": "1.4.0",
       "_view_module_version": "1.1.0"
      }
     },
     "0e66ecb30df5491980f781135fa73613": {
      "model_module": "@jupyter-widgets/controls",
      "model_module_version": "1.4.0",
      "model_name": "ButtonStyleModel",
      "state": {
       "_model_module_version": "1.4.0",
       "_view_module_version": "1.1.0"
      }
     },
     "0ee941a35f4e48c0ae62d26a3e4022b9": {
      "model_module": "@jupyter-widgets/controls",
      "model_module_version": "1.4.0",
      "model_name": "ButtonModel",
      "state": {
       "_model_module_version": "1.4.0",
       "_view_module_version": "1.4.0",
       "description": "Save to Root",
       "layout": "IPY_MODEL_4e0b4767d50c45d4a3059b25b084f5ae",
       "style": "IPY_MODEL_6f24f617f4e8405baa6588f13c520940"
      }
     },
     "1088528976754aab8271549957380321": {
      "model_module": "@jupyter-widgets/controls",
      "model_module_version": "1.4.0",
      "model_name": "ButtonModel",
      "state": {
       "_model_module_version": "1.4.0",
       "_view_module_version": "1.4.0",
       "description": "Save to PDF",
       "layout": "IPY_MODEL_56dbdc8b10b144ecab1eb0b2dd996fbe",
       "style": "IPY_MODEL_0879c08a037c40b59978c9acbf2b6698"
      }
     },
     "10ee510d3cee4e4fbc3f48e8b75680c2": {
      "model_module": "@jupyter-widgets/base",
      "model_module_version": "1.1.0",
      "model_name": "LayoutModel",
      "state": {
       "_model_module_version": "1.1.0",
       "_view_module_version": "1.1.0",
       "border": null,
       "overflow_x": null,
       "overflow_y": null
      }
     },
     "20e680f74b7d40f395649181965c1d39": {
      "model_module": "@jupyter-widgets/controls",
      "model_module_version": "1.4.0",
      "model_name": "ButtonStyleModel",
      "state": {
       "_model_module_version": "1.4.0",
       "_view_module_version": "1.1.0"
      }
     },
     "26fda7ba48bf41428588a380515d67c5": {
      "model_module": "@jupyter-widgets/base",
      "model_module_version": "1.1.0",
      "model_name": "LayoutModel",
      "state": {
       "_model_module_version": "1.1.0",
       "_view_module_version": "1.1.0",
       "border": null,
       "overflow_x": null,
       "overflow_y": null
      }
     },
     "2926bb68cdaa4f858a67ce97bd19c469": {
      "model_module": "@jupyter-widgets/output",
      "model_module_version": "1.0.0",
      "model_name": "OutputModel",
      "state": {
       "layout": "IPY_MODEL_9eb16856a0e443978661ce094f708029"
      }
     },
     "2ae503cdb98942fd9cfe9369ff0968de": {
      "model_module": "@jupyter-widgets/base",
      "model_module_version": "1.1.0",
      "model_name": "LayoutModel",
      "state": {
       "_model_module_version": "1.1.0",
       "_view_module_version": "1.1.0",
       "border": null,
       "overflow_x": null,
       "overflow_y": null
      }
     },
     "36c7b3e4573e44f19456b149ff230bc6": {
      "model_module": "@jupyter-widgets/base",
      "model_module_version": "1.1.0",
      "model_name": "LayoutModel",
      "state": {
       "_model_module_version": "1.1.0",
       "_view_module_version": "1.1.0",
       "border": null,
       "overflow_x": null,
       "overflow_y": null
      }
     },
     "384fad664c4549dbbfc6371a56598c46": {
      "model_module": "@jupyter-widgets/controls",
      "model_module_version": "1.4.0",
      "model_name": "ButtonStyleModel",
      "state": {
       "_model_module_version": "1.4.0",
       "_view_module_version": "1.1.0"
      }
     },
     "395a63505c3c454cac74c6db62abe6ec": {
      "model_module": "@jupyter-widgets/base",
      "model_module_version": "1.1.0",
      "model_name": "LayoutModel",
      "state": {
       "_model_module_version": "1.1.0",
       "_view_module_version": "1.1.0",
       "border": null,
       "overflow_x": null,
       "overflow_y": null
      }
     },
     "3af37c07964a4ae7b4c80a9e18031e8c": {
      "model_module": "@jupyter-widgets/base",
      "model_module_version": "1.1.0",
      "model_name": "LayoutModel",
      "state": {
       "_model_module_version": "1.1.0",
       "_view_module_version": "1.1.0",
       "border": null,
       "overflow_x": null,
       "overflow_y": null
      }
     },
     "3dcab56d27034a0a9cd076681a0c3af3": {
      "model_module": "@jupyter-widgets/controls",
      "model_module_version": "1.4.0",
      "model_name": "ButtonStyleModel",
      "state": {
       "_model_module_version": "1.4.0",
       "_view_module_version": "1.1.0"
      }
     },
     "4e0b4767d50c45d4a3059b25b084f5ae": {
      "model_module": "@jupyter-widgets/base",
      "model_module_version": "1.1.0",
      "model_name": "LayoutModel",
      "state": {
       "_model_module_version": "1.1.0",
       "_view_module_version": "1.1.0",
       "border": null,
       "overflow_x": null,
       "overflow_y": null
      }
     },
     "50ad71ba430a4e65af089a66a036d98f": {
      "model_module": "@jupyter-widgets/output",
      "model_module_version": "1.0.0",
      "model_name": "OutputModel",
      "state": {
       "layout": "IPY_MODEL_7afbf7a09ee940d988779e898d39f6b1",
       "outputs": [
        {
         "ename": "NameError",
         "evalue": "name 'TFile' is not defined",
         "output_type": "error",
         "traceback": [
          "\u001b[0;31m---------------------------------------------------------------------------\u001b[0m",
          "\u001b[0;31mNameError\u001b[0m                                 Traceback (most recent call last)",
          "\u001b[0;32m<ipython-input-43-4b1715ce1e25>\u001b[0m in \u001b[0;36msaveButtonRoot\u001b[0;34m(b)\u001b[0m\n\u001b[1;32m      5\u001b[0m \u001b[0;32mdef\u001b[0m \u001b[0msaveButtonRoot\u001b[0m\u001b[0;34m(\u001b[0m\u001b[0mb\u001b[0m\u001b[0;34m)\u001b[0m\u001b[0;34m:\u001b[0m\u001b[0;34m\u001b[0m\u001b[0;34m\u001b[0m\u001b[0m\n\u001b[1;32m      6\u001b[0m     \u001b[0;32mwith\u001b[0m \u001b[0moutput\u001b[0m\u001b[0;34m:\u001b[0m\u001b[0;34m\u001b[0m\u001b[0;34m\u001b[0m\u001b[0m\n\u001b[0;32m----> 7\u001b[0;31m         \u001b[0;32mwith\u001b[0m \u001b[0mTFile\u001b[0m\u001b[0;34m(\u001b[0m\u001b[0;34m\"file1.root\"\u001b[0m\u001b[0;34m,\u001b[0m \u001b[0;34m\"recreate\"\u001b[0m\u001b[0;34m)\u001b[0m \u001b[0;32mas\u001b[0m \u001b[0moutfile\u001b[0m\u001b[0;34m:\u001b[0m\u001b[0;34m\u001b[0m\u001b[0;34m\u001b[0m\u001b[0m\n\u001b[0m\u001b[1;32m      8\u001b[0m             \u001b[0moutfile\u001b[0m\u001b[0;34m.\u001b[0m\u001b[0mWriteObject\u001b[0m\u001b[0;34m(\u001b[0m\u001b[0mcanvas\u001b[0m\u001b[0;34m,\u001b[0m \u001b[0;34m\"myCanvas\"\u001b[0m\u001b[0;34m)\u001b[0m\u001b[0;34m\u001b[0m\u001b[0;34m\u001b[0m\u001b[0m\n",
          "\u001b[0;31mNameError\u001b[0m: name 'TFile' is not defined"
         ]
        }
       ]
      }
     },
     "56dbdc8b10b144ecab1eb0b2dd996fbe": {
      "model_module": "@jupyter-widgets/base",
      "model_module_version": "1.1.0",
      "model_name": "LayoutModel",
      "state": {
       "_model_module_version": "1.1.0",
       "_view_module_version": "1.1.0",
       "border": null,
       "overflow_x": null,
       "overflow_y": null
      }
     },
     "60e33b896df246778339f4dff4be8f25": {
      "model_module": "@jupyter-widgets/controls",
      "model_module_version": "1.4.0",
      "model_name": "ButtonModel",
      "state": {
       "_model_module_version": "1.4.0",
       "_view_module_version": "1.4.0",
       "description": "Save to PDF",
       "layout": "IPY_MODEL_395a63505c3c454cac74c6db62abe6ec",
       "style": "IPY_MODEL_818a6a2006cd45a685b9b1bbc4db9c76"
      }
     },
     "62f5350b3b1440088cb5206a67058fde": {
      "model_module": "@jupyter-widgets/base",
      "model_module_version": "1.1.0",
      "model_name": "LayoutModel",
      "state": {
       "_model_module_version": "1.1.0",
       "_view_module_version": "1.1.0",
       "border": null,
       "overflow_x": null,
       "overflow_y": null
      }
     },
     "695713c99706467f875821a5ef7f992e": {
      "model_module": "@jupyter-widgets/controls",
      "model_module_version": "1.4.0",
      "model_name": "ButtonStyleModel",
      "state": {
       "_model_module_version": "1.4.0",
       "_view_module_version": "1.1.0"
      }
     },
     "6a80bacd37dd4454a07080adc1395665": {
      "model_module": "@jupyter-widgets/base",
      "model_module_version": "1.1.0",
      "model_name": "LayoutModel",
      "state": {
       "_model_module_version": "1.1.0",
       "_view_module_version": "1.1.0",
       "border": null,
       "overflow_x": null,
       "overflow_y": null
      }
     },
     "6b44fe66f54148a9995780522c1665ad": {
      "model_module": "@jupyter-widgets/controls",
      "model_module_version": "1.4.0",
      "model_name": "ButtonModel",
      "state": {
       "_model_module_version": "1.4.0",
       "_view_module_version": "1.4.0",
       "description": "Save to Root",
       "layout": "IPY_MODEL_36c7b3e4573e44f19456b149ff230bc6",
       "style": "IPY_MODEL_72aeead3a6904e9ea2c2a224224a8c63"
      }
     },
     "6f24f617f4e8405baa6588f13c520940": {
      "model_module": "@jupyter-widgets/controls",
      "model_module_version": "1.4.0",
      "model_name": "ButtonStyleModel",
      "state": {
       "_model_module_version": "1.4.0",
       "_view_module_version": "1.1.0"
      }
     },
     "72aeead3a6904e9ea2c2a224224a8c63": {
      "model_module": "@jupyter-widgets/controls",
      "model_module_version": "1.4.0",
      "model_name": "ButtonStyleModel",
      "state": {
       "_model_module_version": "1.4.0",
       "_view_module_version": "1.1.0"
      }
     },
     "7afbf7a09ee940d988779e898d39f6b1": {
      "model_module": "@jupyter-widgets/base",
      "model_module_version": "1.1.0",
      "model_name": "LayoutModel",
      "state": {
       "_model_module_version": "1.1.0",
       "_view_module_version": "1.1.0",
       "border": null,
       "overflow_x": null,
       "overflow_y": null
      }
     },
     "818a6a2006cd45a685b9b1bbc4db9c76": {
      "model_module": "@jupyter-widgets/controls",
      "model_module_version": "1.4.0",
      "model_name": "ButtonStyleModel",
      "state": {
       "_model_module_version": "1.4.0",
       "_view_module_version": "1.1.0"
      }
     },
     "823ef688583b43b3b7dc29e5d3422aa8": {
      "model_module": "@jupyter-widgets/output",
      "model_module_version": "1.0.0",
      "model_name": "OutputModel",
      "state": {
       "layout": "IPY_MODEL_8aa1aa0ffe69479fba520c5f0e95576b"
      }
     },
     "831b63241ada4949ae7ddc9cf3f6f3ad": {
      "model_module": "@jupyter-widgets/base",
      "model_module_version": "1.1.0",
      "model_name": "LayoutModel",
      "state": {
       "_model_module_version": "1.1.0",
       "_view_module_version": "1.1.0",
       "border": null,
       "overflow_x": null,
       "overflow_y": null
      }
     },
     "8417421b463a46c9872d37497c3b663d": {
      "model_module": "@jupyter-widgets/controls",
      "model_module_version": "1.4.0",
      "model_name": "ButtonModel",
      "state": {
       "_model_module_version": "1.4.0",
       "_view_module_version": "1.4.0",
       "description": "Save to Root",
       "layout": "IPY_MODEL_9a4fe9d3c94d4621bf792f335bbd40fe",
       "style": "IPY_MODEL_f771512ee9df4ba5bee6a026a4e83de5"
      }
     },
     "8aa1aa0ffe69479fba520c5f0e95576b": {
      "model_module": "@jupyter-widgets/base",
      "model_module_version": "1.1.0",
      "model_name": "LayoutModel",
      "state": {
       "_model_module_version": "1.1.0",
       "_view_module_version": "1.1.0",
       "border": null,
       "overflow_x": null,
       "overflow_y": null
      }
     },
     "8d62ef6a181e417c949955ba277e179d": {
      "model_module": "@jupyter-widgets/output",
      "model_module_version": "1.0.0",
      "model_name": "OutputModel",
      "state": {
       "layout": "IPY_MODEL_b9925dbb44cf40f0a3e0fa6aaff4d77f",
       "outputs": [
        {
         "ename": "AttributeError",
         "evalue": "__enter__",
         "output_type": "error",
         "traceback": [
          "\u001b[0;31m---------------------------------------------------------------------------\u001b[0m",
          "\u001b[0;31mAttributeError\u001b[0m                            Traceback (most recent call last)",
          "\u001b[0;32m<ipython-input-46-87e37fcb9b6d>\u001b[0m in \u001b[0;36msaveButtonRoot\u001b[0;34m(b)\u001b[0m\n\u001b[1;32m      5\u001b[0m \u001b[0;32mdef\u001b[0m \u001b[0msaveButtonRoot\u001b[0m\u001b[0;34m(\u001b[0m\u001b[0mb\u001b[0m\u001b[0;34m)\u001b[0m\u001b[0;34m:\u001b[0m\u001b[0;34m\u001b[0m\u001b[0;34m\u001b[0m\u001b[0m\n\u001b[1;32m      6\u001b[0m     \u001b[0;32mwith\u001b[0m \u001b[0moutput\u001b[0m\u001b[0;34m:\u001b[0m\u001b[0;34m\u001b[0m\u001b[0;34m\u001b[0m\u001b[0m\n\u001b[0;32m----> 7\u001b[0;31m         \u001b[0;32mwith\u001b[0m \u001b[0mROOT\u001b[0m\u001b[0;34m.\u001b[0m\u001b[0mTFile\u001b[0m\u001b[0;34m(\u001b[0m\u001b[0;34m\"file1.root\"\u001b[0m\u001b[0;34m,\u001b[0m \u001b[0;34m\"recreate\"\u001b[0m\u001b[0;34m)\u001b[0m \u001b[0;32mas\u001b[0m \u001b[0moutfile\u001b[0m\u001b[0;34m:\u001b[0m\u001b[0;34m\u001b[0m\u001b[0;34m\u001b[0m\u001b[0m\n\u001b[0m\u001b[1;32m      8\u001b[0m             \u001b[0moutfile\u001b[0m\u001b[0;34m.\u001b[0m\u001b[0mWriteObject\u001b[0m\u001b[0;34m(\u001b[0m\u001b[0mcanvas\u001b[0m\u001b[0;34m,\u001b[0m \u001b[0;34m\"myCanvas\"\u001b[0m\u001b[0;34m)\u001b[0m\u001b[0;34m\u001b[0m\u001b[0;34m\u001b[0m\u001b[0m\n",
          "\u001b[0;31mAttributeError\u001b[0m: __enter__"
         ]
        },
        {
         "ename": "AttributeError",
         "evalue": "__enter__",
         "output_type": "error",
         "traceback": [
          "\u001b[0;31m---------------------------------------------------------------------------\u001b[0m",
          "\u001b[0;31mAttributeError\u001b[0m                            Traceback (most recent call last)",
          "\u001b[0;32m<ipython-input-46-87e37fcb9b6d>\u001b[0m in \u001b[0;36msaveButtonRoot\u001b[0;34m(b)\u001b[0m\n\u001b[1;32m      5\u001b[0m \u001b[0;32mdef\u001b[0m \u001b[0msaveButtonRoot\u001b[0m\u001b[0;34m(\u001b[0m\u001b[0mb\u001b[0m\u001b[0;34m)\u001b[0m\u001b[0;34m:\u001b[0m\u001b[0;34m\u001b[0m\u001b[0;34m\u001b[0m\u001b[0m\n\u001b[1;32m      6\u001b[0m     \u001b[0;32mwith\u001b[0m \u001b[0moutput\u001b[0m\u001b[0;34m:\u001b[0m\u001b[0;34m\u001b[0m\u001b[0;34m\u001b[0m\u001b[0m\n\u001b[0;32m----> 7\u001b[0;31m         \u001b[0;32mwith\u001b[0m \u001b[0mROOT\u001b[0m\u001b[0;34m.\u001b[0m\u001b[0mTFile\u001b[0m\u001b[0;34m(\u001b[0m\u001b[0;34m\"file1.root\"\u001b[0m\u001b[0;34m,\u001b[0m \u001b[0;34m\"recreate\"\u001b[0m\u001b[0;34m)\u001b[0m \u001b[0;32mas\u001b[0m \u001b[0moutfile\u001b[0m\u001b[0;34m:\u001b[0m\u001b[0;34m\u001b[0m\u001b[0;34m\u001b[0m\u001b[0m\n\u001b[0m\u001b[1;32m      8\u001b[0m             \u001b[0moutfile\u001b[0m\u001b[0;34m.\u001b[0m\u001b[0mWriteObject\u001b[0m\u001b[0;34m(\u001b[0m\u001b[0mcanvas\u001b[0m\u001b[0;34m,\u001b[0m \u001b[0;34m\"myCanvas\"\u001b[0m\u001b[0;34m)\u001b[0m\u001b[0;34m\u001b[0m\u001b[0;34m\u001b[0m\u001b[0m\n",
          "\u001b[0;31mAttributeError\u001b[0m: __enter__"
         ]
        }
       ]
      }
     },
     "9242204266e343ae8a441c776e80f4f0": {
      "model_module": "@jupyter-widgets/controls",
      "model_module_version": "1.4.0",
      "model_name": "ButtonStyleModel",
      "state": {
       "_model_module_version": "1.4.0",
       "_view_module_version": "1.1.0"
      }
     },
     "929e5779ad394a799083037ff870d526": {
      "model_module": "@jupyter-widgets/controls",
      "model_module_version": "1.4.0",
      "model_name": "ButtonStyleModel",
      "state": {
       "_model_module_version": "1.4.0",
       "_view_module_version": "1.1.0"
      }
     },
     "93749ab864be49de92dbce533bdae34f": {
      "model_module": "@jupyter-widgets/base",
      "model_module_version": "1.1.0",
      "model_name": "LayoutModel",
      "state": {
       "_model_module_version": "1.1.0",
       "_view_module_version": "1.1.0",
       "border": null,
       "overflow_x": null,
       "overflow_y": null
      }
     },
     "938ac682ac6545cfb80a6da1bc8c26c1": {
      "model_module": "@jupyter-widgets/output",
      "model_module_version": "1.0.0",
      "model_name": "OutputModel",
      "state": {
       "layout": "IPY_MODEL_ce589ac0e83d4bd38fd711550e349c6a"
      }
     },
     "9a4fe9d3c94d4621bf792f335bbd40fe": {
      "model_module": "@jupyter-widgets/base",
      "model_module_version": "1.1.0",
      "model_name": "LayoutModel",
      "state": {
       "_model_module_version": "1.1.0",
       "_view_module_version": "1.1.0",
       "border": null,
       "overflow_x": null,
       "overflow_y": null
      }
     },
     "9e2719717feb49c9938e46061e59b4a1": {
      "model_module": "@jupyter-widgets/output",
      "model_module_version": "1.0.0",
      "model_name": "OutputModel",
      "state": {
       "layout": "IPY_MODEL_10ee510d3cee4e4fbc3f48e8b75680c2"
      }
     },
     "9eb16856a0e443978661ce094f708029": {
      "model_module": "@jupyter-widgets/base",
      "model_module_version": "1.1.0",
      "model_name": "LayoutModel",
      "state": {
       "_model_module_version": "1.1.0",
       "_view_module_version": "1.1.0",
       "border": null,
       "overflow_x": null,
       "overflow_y": null
      }
     },
     "9fdc5097fef143f580581ed9f63baf19": {
      "model_module": "@jupyter-widgets/controls",
      "model_module_version": "1.4.0",
      "model_name": "ButtonModel",
      "state": {
       "_model_module_version": "1.4.0",
       "_view_module_version": "1.4.0",
       "description": "Save to PDF",
       "layout": "IPY_MODEL_6a80bacd37dd4454a07080adc1395665",
       "style": "IPY_MODEL_9242204266e343ae8a441c776e80f4f0"
      }
     },
     "a0caf4fc7e3e4a0daf064e63c0e3234a": {
      "model_module": "@jupyter-widgets/output",
      "model_module_version": "1.0.0",
      "model_name": "OutputModel",
      "state": {
       "layout": "IPY_MODEL_93749ab864be49de92dbce533bdae34f"
      }
     },
     "a2eef3a45bed4115932b9e88827850e1": {
      "model_module": "@jupyter-widgets/controls",
      "model_module_version": "1.4.0",
      "model_name": "ButtonModel",
      "state": {
       "_model_module_version": "1.4.0",
       "_view_module_version": "1.4.0",
       "description": "Save to PDF",
       "layout": "IPY_MODEL_831b63241ada4949ae7ddc9cf3f6f3ad",
       "style": "IPY_MODEL_20e680f74b7d40f395649181965c1d39"
      }
     },
     "a39b71b5f18a4a3089aae76958a3cc55": {
      "model_module": "@jupyter-widgets/base",
      "model_module_version": "1.1.0",
      "model_name": "LayoutModel",
      "state": {
       "_model_module_version": "1.1.0",
       "_view_module_version": "1.1.0",
       "border": null,
       "overflow_x": null,
       "overflow_y": null
      }
     },
     "a3a8439080a4433c8cfc3592bcac145a": {
      "model_module": "@jupyter-widgets/base",
      "model_module_version": "1.1.0",
      "model_name": "LayoutModel",
      "state": {
       "_model_module_version": "1.1.0",
       "_view_module_version": "1.1.0",
       "border": null,
       "overflow_x": null,
       "overflow_y": null
      }
     },
     "a8c867acf084415fba648604326f8c9d": {
      "model_module": "@jupyter-widgets/controls",
      "model_module_version": "1.4.0",
      "model_name": "ButtonStyleModel",
      "state": {
       "_model_module_version": "1.4.0",
       "_view_module_version": "1.1.0"
      }
     },
     "b635d6f1a72043699079245523aadc13": {
      "model_module": "@jupyter-widgets/base",
      "model_module_version": "1.1.0",
      "model_name": "LayoutModel",
      "state": {
       "_model_module_version": "1.1.0",
       "_view_module_version": "1.1.0",
       "border": null,
       "overflow_x": null,
       "overflow_y": null
      }
     },
     "b97779ed35cd4f1f8b3d360fd1d1cc0e": {
      "model_module": "@jupyter-widgets/controls",
      "model_module_version": "1.4.0",
      "model_name": "ButtonModel",
      "state": {
       "_model_module_version": "1.4.0",
       "_view_module_version": "1.4.0",
       "description": "Save to PDF",
       "layout": "IPY_MODEL_b635d6f1a72043699079245523aadc13",
       "style": "IPY_MODEL_0e66ecb30df5491980f781135fa73613"
      }
     },
     "b9925dbb44cf40f0a3e0fa6aaff4d77f": {
      "model_module": "@jupyter-widgets/base",
      "model_module_version": "1.1.0",
      "model_name": "LayoutModel",
      "state": {
       "_model_module_version": "1.1.0",
       "_view_module_version": "1.1.0",
       "border": null,
       "overflow_x": null,
       "overflow_y": null
      }
     },
     "c38d6de6905f44c4b32b9c73fb8276ba": {
      "model_module": "@jupyter-widgets/controls",
      "model_module_version": "1.4.0",
      "model_name": "ButtonModel",
      "state": {
       "_model_module_version": "1.4.0",
       "_view_module_version": "1.4.0",
       "description": "Save to PDF",
       "layout": "IPY_MODEL_fa9655bf72304c2bb97bf8c45500503b",
       "style": "IPY_MODEL_929e5779ad394a799083037ff870d526"
      }
     },
     "c52a903ddba4487e93fc08785f78bdbe": {
      "model_module": "@jupyter-widgets/controls",
      "model_module_version": "1.4.0",
      "model_name": "ButtonModel",
      "state": {
       "_model_module_version": "1.4.0",
       "_view_module_version": "1.4.0",
       "description": "Save to PDF",
       "layout": "IPY_MODEL_26fda7ba48bf41428588a380515d67c5",
       "style": "IPY_MODEL_695713c99706467f875821a5ef7f992e"
      }
     },
     "ca9438839a46429aaa3f24354ee42db5": {
      "model_module": "@jupyter-widgets/controls",
      "model_module_version": "1.4.0",
      "model_name": "ButtonStyleModel",
      "state": {
       "_model_module_version": "1.4.0",
       "_view_module_version": "1.1.0"
      }
     },
     "cce918eab1414c88ad12d08f31aaac47": {
      "model_module": "@jupyter-widgets/controls",
      "model_module_version": "1.4.0",
      "model_name": "ButtonModel",
      "state": {
       "_model_module_version": "1.4.0",
       "_view_module_version": "1.4.0",
       "description": "Save to PDF",
       "layout": "IPY_MODEL_f2a3cad8e9254cc9af9a6ed86874d83d",
       "style": "IPY_MODEL_a8c867acf084415fba648604326f8c9d"
      }
     },
     "ce589ac0e83d4bd38fd711550e349c6a": {
      "model_module": "@jupyter-widgets/base",
      "model_module_version": "1.1.0",
      "model_name": "LayoutModel",
      "state": {
       "_model_module_version": "1.1.0",
       "_view_module_version": "1.1.0",
       "border": null,
       "overflow_x": null,
       "overflow_y": null
      }
     },
     "d3e65f21f57643d188d5b1e4b7c7775c": {
      "model_module": "@jupyter-widgets/controls",
      "model_module_version": "1.4.0",
      "model_name": "ButtonModel",
      "state": {
       "_model_module_version": "1.4.0",
       "_view_module_version": "1.4.0",
       "description": "Save to PDF",
       "layout": "IPY_MODEL_a39b71b5f18a4a3089aae76958a3cc55",
       "style": "IPY_MODEL_384fad664c4549dbbfc6371a56598c46"
      }
     },
     "d4b09a17060d4dc19cad65f89af8b8b1": {
      "model_module": "@jupyter-widgets/controls",
      "model_module_version": "1.4.0",
      "model_name": "ButtonModel",
      "state": {
       "_model_module_version": "1.4.0",
       "_view_module_version": "1.4.0",
       "description": "Save to PDF",
       "layout": "IPY_MODEL_62f5350b3b1440088cb5206a67058fde",
       "style": "IPY_MODEL_3dcab56d27034a0a9cd076681a0c3af3"
      }
     },
     "e5c089c3d1f54e06aa7c69d6be7b7d7a": {
      "model_module": "@jupyter-widgets/base",
      "model_module_version": "1.1.0",
      "model_name": "LayoutModel",
      "state": {
       "_model_module_version": "1.1.0",
       "_view_module_version": "1.1.0",
       "border": null,
       "overflow_x": null,
       "overflow_y": null
      }
     },
     "e6380f2797b54ba8b9859882ee113294": {
      "model_module": "@jupyter-widgets/output",
      "model_module_version": "1.0.0",
      "model_name": "OutputModel",
      "state": {
       "layout": "IPY_MODEL_3af37c07964a4ae7b4c80a9e18031e8c"
      }
     },
     "f2a3cad8e9254cc9af9a6ed86874d83d": {
      "model_module": "@jupyter-widgets/base",
      "model_module_version": "1.1.0",
      "model_name": "LayoutModel",
      "state": {
       "_model_module_version": "1.1.0",
       "_view_module_version": "1.1.0",
       "border": null,
       "overflow_x": null,
       "overflow_y": null
      }
     },
     "f771512ee9df4ba5bee6a026a4e83de5": {
      "model_module": "@jupyter-widgets/controls",
      "model_module_version": "1.4.0",
      "model_name": "ButtonStyleModel",
      "state": {
       "_model_module_version": "1.4.0",
       "_view_module_version": "1.1.0"
      }
     },
     "f7b6aafe840345ad9c68def299dd0a29": {
      "model_module": "@jupyter-widgets/output",
      "model_module_version": "1.0.0",
      "model_name": "OutputModel",
      "state": {
       "layout": "IPY_MODEL_2ae503cdb98942fd9cfe9369ff0968de"
      }
     },
     "fa9655bf72304c2bb97bf8c45500503b": {
      "model_module": "@jupyter-widgets/base",
      "model_module_version": "1.1.0",
      "model_name": "LayoutModel",
      "state": {
       "_model_module_version": "1.1.0",
       "_view_module_version": "1.1.0",
       "border": null,
       "overflow_x": null,
       "overflow_y": null
      }
     }
    },
    "version_major": 2,
    "version_minor": 0
   }
  }
 },
 "nbformat": 4,
 "nbformat_minor": 5
}
