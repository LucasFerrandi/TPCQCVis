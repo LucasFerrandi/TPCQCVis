{
 "cells": [
  {
   "cell_type": "code",
   "execution_count": 1,
   "id": "6ba04481",
   "metadata": {},
   "outputs": [],
   "source": [
    "%%capture\n",
    "import ROOT\n",
    "import glob\n",
    "import math\n",
    "import sys\n",
    "import numpy as np\n",
    "import pandas as pd\n",
    "from IPython.display import display, Markdown, HTML\n",
    "import ipywidgets as widgets\n",
    "from TPCQCVis.src.drawHistograms import *\n",
    "from TPCQCVis.src.drawTrending import *\n",
    "from TPCQCVis.src.drawMultiTrending import *\n",
    "from TPCQCVis.src.checkHistograms import *\n",
    "from TPCQCVis.src.checkTrending import *\n",
    "from TPCQCVis.src.utility import *\n",
    "import warnings\n",
    "from copy import copy\n",
    "warnings.filterwarnings('ignore')"
   ]
  },
  {
   "cell_type": "code",
   "execution_count": 2,
   "id": "7afb8d37",
   "metadata": {},
   "outputs": [
    {
     "data": {
      "text/html": [
       "<style>.container { width:95% !important; align-items: center;}</style>"
      ],
      "text/plain": [
       "<IPython.core.display.HTML object>"
      ]
     },
     "metadata": {},
     "output_type": "display_data"
    },
    {
     "data": {
      "text/html": [
       "<style>table {float:left;}</style>"
      ],
      "text/plain": [
       "<IPython.core.display.HTML object>"
      ]
     },
     "metadata": {},
     "output_type": "display_data"
    }
   ],
   "source": [
    "%jsroot on\n",
    "display(HTML(\"<style>.container { width:95% !important; align-items: center;}</style>\"))\n",
    "display(HTML(\"<style>table {float:left;}</style>\"))\n",
    "ROOT.gErrorIgnoreLevel = ROOT.kError\n",
    "#display(HTML('<style>{}</style>'.format(CSS)))\n",
    "#ROOT.gStyle.SetPalette(57)"
   ]
  },
  {
   "cell_type": "code",
   "execution_count": 3,
   "id": "1e556f7f-d199-4a14-bb9f-0515fb139009",
   "metadata": {},
   "outputs": [],
   "source": [
    "def drawQuantileProjection(objectName,rootDataFile,quantileOrder=0.5, axis=\"x\"):\n",
    "    from copy import copy\n",
    "    canvas = ROOT.TCanvas()\n",
    "    legend = ROOT.TLegend()\n",
    "    [hist,leg,canvo,pad1] = drawHistograms(objectName,rootDataFile,normalize=False,legend=False,\n",
    "                                               legendNames=runList,pads=True,drawOption=\"COLZ\",maxColumns=3)\n",
    "    quants = []\n",
    "    canvas.cd()\n",
    "    ROOT.gPad.SetGridy(1)\n",
    "    for i,histo in enumerate(hist):\n",
    "        if axis == \"y\":\n",
    "            quant = copy(histo.QuantilesY(quantileOrder))\n",
    "        else:\n",
    "            quant = copy(histo.QuantilesX(quantileOrder))\n",
    "        quant.SetYTitle(\"Median \"+ histo.GetYaxis().GetTitle())\n",
    "        quant.SetXTitle(histo.GetXaxis().GetTitle())\n",
    "        quant.SetTitle(quant.GetYaxis().GetTitle()+\" vs. \"+quant.GetXaxis().GetTitle())\n",
    "        quant.SetLineWidth(2)\n",
    "        quants.append(quant)\n",
    "        quants[i].SetStats(0)\n",
    "        quants[i].Draw(\"SAME L\")\n",
    "        legend.AddEntry(quant,runList[i])\n",
    "    return quants,legend,canvas\n",
    "    \n",
    "def sliceAndFit(objectName,rootDataFile,fitFunc=\"gaus\",fitRange=[40,60]):\n",
    "    from copy import copy\n",
    "    canvas = ROOT.TCanvas()\n",
    "    legend = ROOT.TLegend()\n",
    "    [hist,leg,canvo,pad1] = drawHistograms(objectName,rootDataFile,normalize=False,legend=False,\n",
    "                                               legendNames=runList,pads=True,drawOption=\"COLZ\",maxColumns=3)\n",
    "    fits = []\n",
    "    myFunc = ROOT.TF1(\"myFunc\",\"gaus\",40,60)\n",
    "    canvas.cd()\n",
    "    for i,histo in enumerate(hist):\n",
    "        try:\n",
    "            histo.FitSlicesY(myFunc, 0, -1, 0, \"QNR\")\n",
    "            fit = copy(ROOT.gDirectory.Get(histo.GetName()+\"_1\"))\n",
    "        except:\n",
    "            print(\"Could not perform fit.\")\n",
    "            return [],legend,canvas\n",
    "        fit.SetYTitle(\"Gaus Fit Mean \"+ histo.GetYaxis().GetTitle())\n",
    "        fit.SetXTitle(histo.GetXaxis().GetTitle())\n",
    "        fit.SetTitle(quant.GetYaxis().GetTitle()+\" vs. \"+quant.GetXaxis().GetTitle())\n",
    "        fit.SetLineWidth(2)\n",
    "        fits.append(fit)\n",
    "        legend.AddEntry(fit,runList[i])\n",
    "        fit.Draw(\"SAME L\")\n",
    "    legend.Draw()\n",
    "    return fits, legend, canvas"
   ]
  },
  {
   "cell_type": "code",
   "execution_count": 4,
   "id": "0b4c56f8-1009-40aa-8a1f-12c5bd2e1ffb",
   "metadata": {},
   "outputs": [],
   "source": [
    "ROOT.gStyle.SetPalette(57)\n",
    "ROOT.gStyle.SetPalette(55)\n",
    "ROOT.gStyle.SetGridStyle(3)\n",
    "ROOT.gStyle.SetGridWidth(1)\n",
    "ROOT.gStyle.SetOptStat(0)\n",
    "cols = list(ROOT.TColor.GetPalette())\n",
    "def updateColors(histograms,palette):\n",
    "    global runList_first, runList_comparison\n",
    "    nFirst = len(runList_first)\n",
    "    nComparison = len(runList_comparison)\n",
    "    colors = []\n",
    "    for i, hist in enumerate(histograms):\n",
    "        if i < nFirst:\n",
    "            color = ROOT.kBlue + i -round(nFirst/2)\n",
    "        else:\n",
    "            color = ROOT.kRed+i-nFirst-round(nComparison/2)\n",
    "            hist.SetLineStyle(2)\n",
    "        colors.append(color)\n",
    "        hist.SetLineColor(color)\n",
    "        hist.SetMarkerColor(color)\n",
    "    return colors"
   ]
  },
  {
   "cell_type": "code",
   "execution_count": 5,
   "id": "bb0c55ba",
   "metadata": {
    "scrolled": true
   },
   "outputs": [],
   "source": [
    "# Notebook variables\n",
    "periodName = \"myPeriod\"\n",
    "passName = \"LHC22m vs LHC23k2c\"\n",
    "runNumber = 123456\n",
    "path = \"myPath\"\n",
    "\n",
    "\n",
    "path = \"/cave/alice-tpc-qc/data/sim/2023/\"\n",
    "path_comparison = \"/cave/alice-tpc-qc/data/sim/2023/\"\n",
    "runNumber = 123456\n",
    "periodName_first = \"LHC23k4e\"\n",
    "passName_first = \"\"\n",
    "periodName_comparison = \"LHC23k4f\"\n",
    "passName_comparison = \"\"\n",
    "#runList = [periodName,periodName_comparison]\n",
    "#LHC23zzgLHC23zzhLHC23zziLHC23zzk \n",
    "\n",
    "passName = periodName_first+\" vs \"+periodName_comparison\n",
    "\n",
    "# Find runs\n",
    "fileList_first = glob.glob(path+\"/\"+periodName_first+\"/\"+passName_first+\"/\"+\"*_QC.root\")\n",
    "fileList_first = [file for file in fileList_first if file[-13] != \"_\"]\n",
    "fileList_first.sort()\n",
    "\n",
    "runList_first = [fileList_first[i][-14:-8] for i in range(len(fileList_first))]\n",
    "runList_first = [run for run in runList_first]# if (5290000 > int(run) > 529000)]\n",
    "# Find runs in period to be compared\n",
    "fileList_comparison = glob.glob(path_comparison+\"/\"+periodName_comparison+\"/\"+passName_comparison+\"/\"+\"*_QC.root\")\n",
    "fileList_comparison = [file for file in fileList_comparison if file[-13] != \"_\"]\n",
    "fileList_comparison.sort()\n",
    "fileList_comparison = [file for file in fileList_comparison]\n",
    "runList_comparison = [fileList_comparison[i][-14:-8] for i in range(len(fileList_comparison))]"
   ]
  },
  {
   "cell_type": "code",
   "execution_count": 6,
   "id": "81fb14df",
   "metadata": {},
   "outputs": [],
   "source": [
    "# Make sure only the same runs are there\n",
    "runList_temp = [run for run in runList_first if run in runList_comparison]\n",
    "runList_first = runList_temp\n",
    "fileList_first = [file for file in fileList_first if file[-14:-8] in runList_first]\n",
    "fileList_comparison = [fileList_comparison[i] for i in range(len(fileList_comparison)) if runList_comparison[i] in runList_first]\n",
    "runList_comparison = runList_first\n",
    "\n",
    "# Read the Root Files\n",
    "rootDataFile_first = [ROOT.TFile.Open(file,\"READ\") for file in fileList_first]   \n",
    "rootDataFile_comparison = [ROOT.TFile.Open(file,\"READ\") for file in fileList_comparison]\n",
    "\n",
    "# Combine files\n",
    "rootDataFile = rootDataFile_first + rootDataFile_comparison\n",
    "runList = [periodName_first +\"_\"+ run for run in runList_first] + [periodName_comparison +\"_\"+ run for run in runList_comparison]"
   ]
  },
  {
   "cell_type": "code",
   "execution_count": 7,
   "id": "bb0f06b7",
   "metadata": {},
   "outputs": [
    {
     "data": {
      "text/markdown": [
       "# TPC Async QC Report - LHC23k4e  vs Anchored MC LHC23k4f"
      ],
      "text/plain": [
       "<IPython.core.display.Markdown object>"
      ]
     },
     "metadata": {},
     "output_type": "display_data"
    }
   ],
   "source": [
    "display(Markdown(f\"# TPC Async QC Report - {periodName_first} {passName_first} vs Anchored MC {periodName_comparison}\"))"
   ]
  },
  {
   "cell_type": "markdown",
   "id": "38300728",
   "metadata": {},
   "source": [
    "### RCT Tables:\n",
    "+ [2022](https://docs.google.com/spreadsheets/d/14vXFYVx3oVE8wgJKmIBhjvAt6NpGp7D6H4AmBM9E0Cw/edit#gid=0), [2023](https://docs.google.com/spreadsheets/d/1YBQLXWwwc3aC3B_PYVpFkTgEP0n6u1ovtYfiCOMWnTc/edit?pli=1#gid=0), [2023_PbPb](https://docs.google.com/spreadsheets/d/1vsl-pkLdUoNXZm6muPyMENWdDSKM7UDtQLcXc2B9QhE/edit#gid=492527515)"
   ]
  },
  {
   "cell_type": "code",
   "execution_count": 8,
   "id": "5f717680",
   "metadata": {
    "scrolled": false
   },
   "outputs": [
    {
     "name": "stdout",
     "output_type": "stream",
     "text": [
      "LHC23k4e:\t ['535365', '535475', '535476', '535479', '535514', '535517', '535563', '535566', '535613', '535621', '535623', '535624', '535627', '535644', '535711', '535716', '535721', '535722', '535725', '535941', '535983', '536401', '536487']\n",
      "LHC23k4f:\t ['535365', '535475', '535476', '535479', '535514', '535517', '535563', '535566', '535613', '535621', '535623', '535624', '535627', '535644', '535711', '535716', '535721', '535722', '535725', '535941', '535983', '536401', '536487']\n"
     ]
    }
   ],
   "source": [
    "#print(\"Period: \"+periodName +\" - Runs:\")\n",
    "print(periodName_first+\":\\t\",runList_first)\n",
    "print(periodName_comparison+\":\\t\",runList_comparison)"
   ]
  },
  {
   "cell_type": "code",
   "execution_count": 9,
   "id": "65609185",
   "metadata": {},
   "outputs": [],
   "source": [
    " #len(runList_first)"
   ]
  },
  {
   "cell_type": "code",
   "execution_count": 210,
   "id": "0668b0c3",
   "metadata": {},
   "outputs": [
    {
     "data": {
      "text/markdown": [
       "+ Report automatically created on 19.03.2024 at 14:04:47"
      ],
      "text/plain": [
       "<IPython.core.display.Markdown object>"
      ]
     },
     "metadata": {},
     "output_type": "display_data"
    }
   ],
   "source": [
    "import datetime\n",
    "now = datetime.datetime.now()\n",
    "display(Markdown(\"+ Report automatically created on \"+now.strftime(\"%d.%m.%Y at %H:%M:%S\")))"
   ]
  },
  {
   "cell_type": "markdown",
   "id": "897badfe",
   "metadata": {
    "toc": true
   },
   "source": [
    "<h1>Table of Contents<span class=\"tocSkip\"></span></h1>\n",
    "<div class=\"toc\"><ul class=\"toc-item\"><li><span><a href=\"#TPC-asyncQC\" data-toc-modified-id=\"TPC-asyncQC\">TPC asyncQC</a></span><ul class=\"toc-item\"><li><span><a href=\"#General-notes\" data-toc-modified-id=\"General-notes-1.1\">General notes</a></span></li><li><span><a href=\"#Run-Table\" data-toc-modified-id=\"Run-Table-1.2\">Run Table</a></span></li></ul></li><li><span><a href=\"#Quality-Observer\" data-toc-modified-id=\"Quality-Observer-2\">Quality Observer</a></span><ul class=\"toc-item\"><li><span><a href=\"#Clusters\" data-toc-modified-id=\"Clusters-2.1\">Clusters</a></span></li><li><span><a href=\"#Tracks\" data-toc-modified-id=\"Tracks-2.2\">Tracks</a></span></li></ul></li><li><span><a href=\"#Trendings\" data-toc-modified-id=\"Trendings-3\">Trendings</a></span></li><li><span><a href=\"#Plots\" data-toc-modified-id=\"Plots-4\">Plots</a></span><ul class=\"toc-item\"><li><span><a href=\"#Clusters\" data-toc-modified-id=\"Clusters-4.1\">Clusters</a></span></li><li><span><a href=\"#Tracks\" data-toc-modified-id=\"Tracks-4.2\">Tracks</a></span><ul class=\"toc-item\"><li><span><a href=\"#Geometrical-distributions-of-tracks\" data-toc-modified-id=\"Geometrical-distributions-of-tracks-4.2.1\">Geometrical distributions of tracks</a></span></li><li><span><a href=\"#Track-properties\" data-toc-modified-id=\"Track-properties-4.2.2\">Track properties</a></span></li></ul></li><li><span><a href=\"#PID\" data-toc-modified-id=\"PID-4.3\">PID</a></span><ul class=\"toc-item\"><li><span><a href=\"#TPC-Gain-calibration\" data-toc-modified-id=\"TPC-Gain-calibration-4.3.1\">TPC Gain calibration</a></span></li><li><span><a href=\"#dEdx-vs-p\" data-toc-modified-id=\"dEdx-vs-p-4.3.2\">dEdx vs p</a></span></li></ul></li></ul></li></ul></div>"
   ]
  },
  {
   "cell_type": "markdown",
   "id": "2ca94113",
   "metadata": {},
   "source": [
    "---\n",
    "## Plots"
   ]
  },
  {
   "cell_type": "code",
   "execution_count": 197,
   "id": "94dac685",
   "metadata": {},
   "outputs": [],
   "source": [
    "ROOT.gStyle.SetPalette(57)\n",
    "ROOT.gStyle.SetGridStyle(3)\n",
    "ROOT.gStyle.SetGridWidth(1)\n",
    "ROOT.gStyle.SetPalette(57)"
   ]
  },
  {
   "cell_type": "markdown",
   "id": "549deb42",
   "metadata": {},
   "source": [
    "---\n",
    "### Tracks\n",
    "#### Geometrical distributions of tracks\n",
    "**Phi distribution A-side tracks:**"
   ]
  },
  {
   "cell_type": "code",
   "execution_count": 198,
   "id": "d4d46a67",
   "metadata": {},
   "outputs": [
    {
     "data": {
      "text/html": [
       "\n",
       "\n",
       "<div id=\"root_plot_1710853427003\" style=\"width: 800px; height: 600px; position: relative\">\n",
       "</div>\n",
       "\n",
       "<script>\n",
       "\n",
       "function display_root_plot_1710853427003(Core) {\n",
       "   let obj = Core.parse({\"_typename\":\"TCanvasWebSnapshot\",\"fUniqueID\":0,\"fBits\":0,\"fObjectID\":\"\",\"fOption\":\"\",\"fKind\":3,\"fSnapshot\":{\"_typename\":\"TCanvas\",\"fUniqueID\":0,\"fBits\":3342344,\"fLineColor\":1,\"fLineStyle\":1,\"fLineWidth\":1,\"fFillColor\":0,\"fFillStyle\":1001,\"fLeftMargin\":0.1,\"fRightMargin\":0.1,\"fBottomMargin\":0.1,\"fTopMargin\":0.1,\"fXfile\":2,\"fYfile\":2,\"fAfile\":1,\"fXstat\":0.99,\"fYstat\":0.99,\"fAstat\":2,\"fFrameFillColor\":0,\"fFrameLineColor\":1,\"fFrameFillStyle\":1001,\"fFrameLineStyle\":1,\"fFrameLineWidth\":1,\"fFrameBorderSize\":1,\"fFrameBorderMode\":0,\"fX1\":0,\"fY1\":0,\"fX2\":1,\"fY2\":1,\"fXtoAbsPixelk\":5e-5,\"fXtoPixelk\":5e-5,\"fXtoPixel\":1200,\"fYtoAbsPixelk\":400.00005,\"fYtoPixelk\":400.00005,\"fYtoPixel\":-400,\"fUtoAbsPixelk\":5e-5,\"fUtoPixelk\":5e-5,\"fUtoPixel\":1200,\"fVtoAbsPixelk\":400.00005,\"fVtoPixelk\":400,\"fVtoPixel\":-400,\"fAbsPixeltoXk\":0,\"fPixeltoXk\":0,\"fPixeltoX\":8.33333333333333e-4,\"fAbsPixeltoYk\":1,\"fPixeltoYk\":0,\"fPixeltoY\":-0.0025,\"fXlowNDC\":0,\"fYlowNDC\":0,\"fXUpNDC\":1,\"fYUpNDC\":1,\"fWNDC\":1,\"fHNDC\":1,\"fAbsXlowNDC\":0,\"fAbsYlowNDC\":0,\"fAbsWNDC\":1,\"fAbsHNDC\":1,\"fUxmin\":0,\"fUymin\":0,\"fUxmax\":1,\"fUymax\":1,\"fTheta\":30,\"fPhi\":30,\"fAspectRatio\":0,\"fNumber\":0,\"fTickx\":0,\"fTicky\":0,\"fLogx\":0,\"fLogy\":0,\"fLogz\":0,\"fPadPaint\":0,\"fCrosshair\":0,\"fCrosshairPos\":0,\"fBorderSize\":2,\"fBorderMode\":0,\"fModified\":false,\"fGridx\":false,\"fGridy\":false,\"fAbsCoord\":false,\"fEditable\":true,\"fFixedAspectRatio\":false,\"fPrimitives\":{\"_typename\":\"TList\",\"name\":\"TList\",\"arr\":[],\"opt\":[]},\"fExecs\":null,\"fName\":\"hPhiAside\",\"fTitle\":\"hPhiAside\",\"fNumPaletteColor\":0,\"fNextPaletteColor\":0,\"fDISPLAY\":\"$DISPLAY\",\"fDoubleBuffer\":0,\"fRetained\":true,\"fXsizeUser\":0,\"fYsizeUser\":0,\"fXsizeReal\":20,\"fYsizeReal\":15,\"fWindowTopX\":0,\"fWindowTopY\":0,\"fWindowWidth\":0,\"fWindowHeight\":0,\"fCw\":1200,\"fCh\":400,\"fCatt\":{\"_typename\":\"TAttCanvas\",\"fXBetween\":2,\"fYBetween\":2,\"fTitleFromTop\":1.2,\"fXdate\":0.2,\"fYdate\":0.3,\"fAdate\":1},\"kMoveOpaque\":true,\"kResizeOpaque\":true,\"fHighLightColor\":2,\"fBatch\":true,\"kShowEventStatus\":false,\"kAutoExec\":true,\"kMenuBar\":true},\"fActive\":false,\"fReadOnly\":true,\"fWithoutPrimitives\":false,\"fHasExecs\":false,\"fPrimitives\":[{\"_typename\":\"TWebSnapshot\",\"fUniqueID\":0,\"fBits\":0,\"fObjectID\":\"\",\"fOption\":\"\",\"fKind\":4,\"fSnapshot\":{\"_typename\":\"TWebPainting\",\"fUniqueID\":0,\"fBits\":0,\"fOper\":\"0:255,255,255;1:0,0,0;2:255,0,0;3:0,255,0;4:0,0,255;5:255,255,0;6:255,0,255;7:0,255,255;8:89,211,84;9:89,84,216;10:254,254,254;11:192,182,172;12:76,76,76;13:102,102,102;14:127,127,127;15:153,153,153;16:178,178,178;17:204,204,204;18:229,229,229;19:242,242,242;20:204,198,170;21:204,198,170;22:193,191,168;23:186,181,163;24:178,165,150;25:183,163,155;26:173,153,140;27:155,142,130;28:135,102,86;29:175,206,198;30:132,193,163;31:137,168,160;32:130,158,140;33:173,188,198;34:122,142,153;35:117,137,145;36:104,130,150;37:109,122,132;38:124,153,209;39:127,127,155;40:170,165,191;41:211,206,135;42:221,186,135;43:188,158,130;44:198,153,124;45:191,130,119;46:206,94,96;47:170,142,147;48:165,119,122;49:147,104,112;50:211,89,84;51:146,0,255;52:122,0,255;53:98,0,255;54:74,0,255;55:51,0,255;56:27,0,255;57:3,0,255;58:0,20,255;59:0,44,255;60:0,68,255;61:0,91,255;62:0,115,255;63:0,139,255;64:0,163,255;65:0,187,255;66:0,210,255;67:0,234,255;68:0,255,251;69:0,255,227;70:0,255,204;71:0,255,180;72:0,255,156;73:0,255,132;74:0,255,108;75:0,255,85;76:0,255,61;77:0,255,37;78:0,255,13;79:10,255,0;80:34,255,0;81:57,255,0;82:81,255,0;83:105,255,0;84:129,255,0;85:153,255,0;86:176,255,0;87:200,255,0;88:224,255,0;89:248,255,0;90:255,238,0;91:255,214,0;92:255,190,0;93:255,166,0;94:255,142,0;95:255,119,0;96:255,95,0;97:255,71,0;98:255,47,0;99:255,23,0;110:254,254,254;201:91,91,91;202:122,122,122;203:183,183,183;204:214,214,214;205:137,15,15;206:183,20,20;207:234,71,71;208:239,117,117;209:15,137,15;210:20,183,20;211:71,234,71;212:117,239,117;213:15,15,137;214:20,20,183;215:71,71,234;216:117,117,239;217:137,137,15;218:183,183,20;219:234,234,71;220:239,239,117;221:137,15,137;222:183,20,183;223:234,71,234;224:239,117,239;225:15,137,137;226:20,183,183;227:71,234,234;228:117,239,239;390:255,255,204;391:255,255,153;392:204,204,153;393:255,255,102;394:204,204,102;395:153,153,102;396:255,255,51;397:204,204,51;398:153,153,51;399:102,102,51;400:255,255,0;401:204,204,0;402:153,153,0;403:102,102,0;404:51,51,0;406:204,255,204;407:153,255,153;408:153,204,153;409:102,255,102;410:102,204,102;411:102,153,102;412:51,255,51;413:51,204,51;414:51,153,51;415:51,102,51;416:0,255,0;417:0,204,0;418:0,153,0;419:0,102,0;420:0,51,0;422:204,255,255;423:153,255,255;424:153,204,204;425:102,255,255;426:102,204,204;427:102,153,153;428:51,255,255;429:51,204,204;430:51,153,153;431:51,102,102;432:0,255,255;433:0,204,204;434:0,153,153;435:0,102,102;436:0,51,51;590:204,204,255;591:153,153,255;592:153,153,204;593:102,102,255;594:102,102,204;595:102,102,153;596:51,51,255;597:51,51,204;598:51,51,153;599:51,51,102;600:0,0,255;601:0,0,204;602:0,0,153;603:0,0,102;604:0,0,51;606:255,204,255;607:255,153,255;608:204,153,204;609:255,102,255;610:204,102,204;611:153,102,153;612:255,51,255;613:204,51,204;614:153,51,153;615:102,51,102;616:255,0,255;617:204,0,204;618:153,0,153;619:102,0,102;620:51,0,51;622:255,204,204;623:255,153,153;624:204,153,153;625:255,102,102;626:204,102,102;627:153,102,102;628:255,51,51;629:204,51,51;630:153,51,51;631:102,51,51;632:255,0,0;633:204,0,0;634:153,0,0;635:102,0,0;636:51,0,0;791:255,204,153;792:204,153,102;793:153,102,51;794:153,102,0;795:204,153,51;796:255,204,102;797:255,153,0;798:255,204,51;799:204,153,0;800:255,204,0;801:255,153,51;802:204,102,0;803:102,51,0;804:153,51,0;805:204,102,51;806:255,153,102;807:255,102,0;808:255,102,51;809:204,51,0;810:255,51,0;811:153,255,51;812:102,204,0;813:51,102,0;814:51,153,0;815:102,204,51;816:153,255,102;817:102,255,0;818:102,255,51;819:51,204,0;820:51,255,0;821:204,255,153;822:153,204,102;823:102,153,51;824:102,153,0;825:153,204,51;826:204,255,102;827:153,255,0;828:204,255,51;829:153,204,0;830:204,255,0;831:153,255,204;832:102,204,153;833:51,153,102;834:0,153,102;835:51,204,153;836:102,255,204;837:0,255,102;838:51,255,204;839:0,204,153;840:0,255,204;841:51,255,153;842:0,204,102;843:0,102,51;844:0,153,51;845:51,204,102;846:102,255,153;847:0,255,153;848:51,255,102;849:0,204,51;850:0,255,51;851:153,204,255;852:102,153,204;853:51,102,153;854:0,51,153;855:51,102,204;856:102,153,255;857:0,102,255;858:51,102,255;859:0,51,204;860:0,51,255;861:51,153,255;862:0,102,204;863:0,51,102;864:0,102,153;865:51,153,204;866:102,204,255;867:0,153,255;868:51,204,255;869:0,153,204;870:0,204,255;871:204,153,255;872:153,102,204;873:102,51,153;874:102,0,153;875:153,51,204;876:204,102,255;877:153,0,255;878:204,51,255;879:153,0,204;880:204,0,255;881:153,51,255;882:102,0,204;883:51,0,102;884:51,0,153;885:102,51,204;886:153,102,255;887:102,0,255;888:102,51,255;889:51,0,204;890:51,0,255;891:255,51,153;892:204,0,102;893:102,0,51;894:153,0,51;895:204,51,102;896:255,102,153;897:255,0,102;898:255,51,102;899:204,0,51;900:255,0,51;901:255,153,204;902:204,102,153;903:153,51,102;904:153,0,102;905:204,51,153;906:255,102,204;907:255,0,153;908:204,0,153;909:255,51,204;910:255,0,153;920:204,204,204;921:153,153,153;922:102,102,102;923:51,51,51;924:53,42,134;925:51,44,137;926:50,45,140;927:49,47,143;928:48,48,146;929:46,50,148;930:45,51,151;931:44,53,154;932:43,55,157;933:42,56,160;934:40,58,162;935:39,59,165;936:38,61,168;937:37,63,171;938:35,64,174;939:34,66,176;940:33,67,179;941:32,69,182;942:31,71,185;943:29,72,187;944:28,74,190;945:27,75,193;946:26,77,196;947:24,79,199;948:23,80,201;949:22,82,204;950:21,83,207;951:19,85,210;952:18,86,213;953:17,88,215;954:16,90,218;955:15,91,221;956:15,92,221;957:15,94,220;958:15,95,220;959:15,96,220;960:15,97,220;961:15,98,220;962:16,99,219;963:16,100,219;964:16,102,219;965:16,103,219;966:16,104,218;967:16,105,218;968:17,106,218;969:17,107,218;970:17,109,217;971:17,110,217;972:17,111,217;973:17,112,217;974:17,113,216;975:18,114,216;976:18,115,216;977:18,117,216;978:18,118,215;979:18,119,215;980:18,120,215;981:18,121,215;982:19,122,215;983:19,123,214;984:19,125,214;985:19,126,214;986:19,127,214;987:19,128,213;988:19,129,213;989:19,130,213;990:18,131,212;991:18,132,212;992:17,134,211;993:17,135,211;994:16,136,211;995:16,137,210;996:15,138,210;997:15,139,210;998:15,140,209;999:14,141,209;1000:14,142,208;1001:13,143,208;1002:13,145,208;1003:12,146,207;1004:12,147,207;1005:12,148,207;1006:11,149,206;1007:11,150,206;1008:10,151,205;1009:10,152,205;1010:9,153,205;1011:9,154,204;1012:8,155,204;1013:8,157,204;1014:8,158,203;1015:7,159,203;1016:7,160,202;1017:6,161,202;1018:6,162,202;1019:5,163,201;1020:7,164,200;1021:8,164,199;1022:9,165,198;1023:10,166,197;1024:12,166,195;1025:13,167,194;1026:14,167,193;1027:15,168,192;1028:17,169,191;1029:18,169,189;1030:19,170,188;1031:20,170,187;1032:22,171,186;1033:23,172,185;1034:24,172,184;1035:25,173,182;1036:27,173,181;1037:28,174,180;1038:29,175,179;1039:30,175,178;1040:32,176,176;1041:33,176,175;1042:34,177,174;1043:35,178,173;1044:37,178,172;1045:38,179,170;1046:39,180,169;1047:40,180,168;1048:42,181,167;1049:43,181,166;1050:44,182,165;1051:45,183,163;1052:48,183,162;1053:51,183,161;1054:54,183,159;1055:57,184,158;1056:59,184,156;1057:62,184,155;1058:65,184,154;1059:68,185,152;1060:71,185,151;1061:73,185,149;1062:76,185,148;1063:79,186,146;1064:82,186,145;1065:84,186,144;1066:87,186,142;1067:90,187,141;1068:93,187,139;1069:96,187,138;1070:98,187,137;1071:101,188,135;1072:104,188,134;1073:107,188,132;1074:110,188,131;1075:112,189,130;1076:115,189,128;1077:118,189,127;1078:121,189,125;1079:124,190,124;1080:126,190,123;1081:129,190,121;1082:132,190,120;1083:135,191,118;1084:137,190,117;1085:139,190,117;1086:142,190,116;1087:144,190,115;1088:146,190,114;1089:148,190,113;1090:151,190,112;1091:153,190,111;1092:155,189,110;1093:158,189,109;1094:160,189,108;1095:162,189,107;1096:165,189,106;1097:167,189,105;1098:169,189,104;1099:171,188,104;1100:174,188,103;1101:176,188,102;1102:178,188,101;1103:181,188,100;1104:183,188,99;1105:185,188,98;1106:188,188,97;1107:190,187,96;1108:192,187,95;1109:194,187,94;1110:197,187,93;1111:199,187,92;1112:201,187,92;1113:204,187,91;1114:206,186,90;1115:208,186,89;1116:210,187,88;1117:211,187,86;1118:212,188,85;1119:214,188,84;1120:215,188,83;1121:217,189,81;1122:218,189,80;1123:220,190,79;1124:221,190,78;1125:222,191,77;1126:224,191,75;1127:225,191,74;1128:227,192,73;1129:228,192,72;1130:229,193,70;1131:231,193,69;1132:232,194,68;1133:234,194,67;1134:235,194,66;1135:236,195,64;1136:238,195,63;1137:239,196,62;1138:241,196,61;1139:242,197,59;1140:244,197,58;1141:245,197,57;1142:246,198,56;1143:248,198,55;1144:249,199,53;1145:251,199,52;1146:252,200,51;1147:253,200,50;1148:253,202,49;1149:253,203,47;1150:253,205,46;1151:253,206,45;1152:253,208,44;1153:252,209,43;1154:252,211,42;1155:252,213,41;1156:252,214,39;1157:252,216,38;1158:252,217,37;1159:252,219,36;1160:251,220,35;1161:251,222,34;1162:251,224,33;1163:251,225,31;1164:251,227,30;1165:251,228,29;1166:250,230,28;1167:250,231,27;1168:250,233,26;1169:250,235,25;1170:250,236,23;1171:250,238,22;1172:250,239,21;1173:249,241,20;1174:249,242,19;1175:249,244,18;1176:249,246,17;1177:249,247,16;1178:249,249,14;1179:0,0,99;1180:0,1,100;1181:0,3,101;1182:0,4,103;1183:0,6,104;1184:0,7,105;1185:0,9,107;1186:1,10,108;1187:1,12,110;1188:1,13,111;1189:1,15,112;1190:1,17,114;1191:1,18,115;1192:2,20,117;1193:2,21,118;1194:2,23,119;1195:2,24,121;1196:2,26,122;1197:2,27,123;1198:3,29,125;1199:3,30,126;1200:3,32,128;1201:3,34,129;1202:3,35,130;1203:3,37,132;1204:4,38,133;1205:4,40,135;1206:4,41,136;1207:4,43,137;1208:4,44,139;1209:4,46,140;1210:5,48,142;1211:5,50,143;1212:5,52,145;1213:5,55,147;1214:6,57,149;1215:6,59,150;1216:6,62,152;1217:7,64,154;1218:7,67,156;1219:7,69,157;1220:8,71,159;1221:8,74,161;1222:8,76,163;1223:9,78,164;1224:9,81,166;1225:9,83,168;1226:10,86,170;1227:10,88,171;1228:10,90,173;1229:10,93,175;1230:11,95,177;1231:11,97,178;1232:11,100,180;1233:12,102,182;1234:12,105,184;1235:12,107,185;1236:13,109,187;1237:13,112,189;1238:13,114,191;1239:14,116,192;1240:14,119,194;1241:14,121,196;1242:15,124,198;1243:15,126,198;1244:16,128,198;1245:16,130,198;1246:17,132,198;1247:18,134,198;1248:18,136,198;1249:19,138,198;1250:20,141,198;1251:20,143,198;1252:21,145,198;1253:21,147,199;1254:22,149,199;1255:23,151,199;1256:23,153,199;1257:24,155,199;1258:25,158,199;1259:25,160,199;1260:26,162,199;1261:26,164,199;1262:27,166,199;1263:28,168,199;1264:28,170,200;1265:29,172,200;1266:30,175,200;1267:30,177,200;1268:31,179,200;1269:31,181,200;1270:32,183,200;1271:33,185,200;1272:33,187,200;1273:34,189,200;1274:35,192,201;1275:37,192,197;1276:39,192,194;1277:41,193,190;1278:43,193,187;1279:45,194,183;1280:47,194,180;1281:49,195,176;1282:51,195,173;1283:53,195,169;1284:55,196,166;1285:58,196,162;1286:60,197,159;1287:62,197,155;1288:64,198,152;1289:66,198,148;1290:68,199,145;1291:70,199,142;1292:72,199,138;1293:74,200,135;1294:76,200,131;1295:78,201,128;1296:81,201,124;1297:83,202,121;1298:85,202,117;1299:87,202,114;1300:89,203,110;1301:91,203,107;1302:93,204,103;1303:95,204,100;1304:97,205,96;1305:99,205,93;1306:102,206,90;1307:104,206,87;1308:107,207,85;1309:110,207,83;1310:113,208,81;1311:116,209,79;1312:119,209,77;1313:122,210,75;1314:125,211,73;1315:128,211,70;1316:131,212,68;1317:134,212,66;1318:137,213,64;1319:140,214,62;1320:143,214,60;1321:146,215,58;1322:149,216,56;1323:151,216,53;1324:154,217,51;1325:157,217,49;1326:160,218,47;1327:163,219,45;1328:166,219,43;1329:169,220,41;1330:172,221,39;1331:175,221,36;1332:178,222,34;1333:181,222,32;1334:184,223,30;1335:187,224,28;1336:190,224,26;1337:193,225,24;1338:196,226,22;1339:196,221,21;1340:196,217,21;1341:197,213,21;1342:197,209,20;1343:197,205,20;1344:198,201,20;1345:198,197,20;1346:199,193,19;1347:199,189,19;1348:199,185,19;1349:200,181,18;1350:200,177,18;1351:200,173,18;1352:201,169,18;1353:201,165,17;1354:202,161,17;1355:202,157,17;1356:202,153,16;1357:203,149,16;1358:203,145,16;1359:203,141,16;1360:204,137,15;1361:204,133,15;1362:205,129,15;1363:205,125,14;1364:205,121,14;1365:206,117,14;1366:206,113,14;1367:206,109,13;1368:207,105,13;1369:207,101,13;1370:208,97,13;1371:207,94,12;1372:207,91,12;1373:207,89,12;1374:206,86,12;1375:206,84,12;1376:206,81,12;1377:206,79,11;1378:205,76,11;1379:205,74,11;1380:205,71,11;1381:204,69,11;1382:204,66,11;1383:204,64,10;1384:204,61,10;1385:203,59,10;1386:203,56,10;1387:203,53,10;1388:202,51,10;1389:202,48,10;1390:202,46,9;1391:202,43,9;1392:201,41,9;1393:201,38,9;1394:201,36,9;1395:200,33,9;1396:200,31,8;1397:200,28,8;1398:200,26,8;1399:199,23,8;1400:199,21,8;1401:199,18,8;1402:199,16,8;1403:196,15,7;1404:193,15,7;1405:190,14,7;1406:187,14,7;1407:185,13,7;1408:182,13,6;1409:179,12,6;1410:176,12,6;1411:173,11,6;1412:171,11,6;1413:168,10,5;1414:165,10,5;1415:162,9,5;1416:160,9,5;1417:157,8,5;1418:154,8,5;1419:151,7,4;1420:148,7,4;1421:146,6,4;1422:143,6,4;1423:140,5,4;1424:137,5,3;1425:135,4,3;1426:132,4,3;1427:129,3,3;1428:126,3,3;1429:123,2,2;1430:121,2,2;1431:118,1,2;1432:115,1,2;1433:112,0,2\",\"fBuf\":[924,925,926,927,928,929,930,931,932,933,934,935,936,937,938,939,940,941,942,943,944,945,946,947,948,949,950,951,952,953,954,955,956,957,958,959,960,961,962,963,964,965,966,967,968,969,970,971,972,973,974,975,976,977,978,979,980,981,982,983,984,985,986,987,988,989,990,991,992,993,994,995,996,997,998,999,1000,1001,1002,1003,1004,1005,1006,1007,1008,1009,1010,1011,1012,1013,1014,1015,1016,1017,1018,1019,1020,1021,1022,1023,1024,1025,1026,1027,1028,1029,1030,1031,1032,1033,1034,1035,1036,1037,1038,1039,1040,1041,1042,1043,1044,1045,1046,1047,1048,1049,1050,1051,1052,1053,1054,1055,1056,1057,1058,1059,1060,1061,1062,1063,1064,1065,1066,1067,1068,1069,1070,1071,1072,1073,1074,1075,1076,1077,1078,1079,1080,1081,1082,1083,1084,1085,1086,1087,1088,1089,1090,1091,1092,1093,1094,1095,1096,1097,1098,1099,1100,1101,1102,1103,1104,1105,1106,1107,1108,1109,1110,1111,1112,1113,1114,1115,1116,1117,1118,1119,1120,1121,1122,1123,1124,1125,1126,1127,1128,1129,1130,1131,1132,1133,1134,1135,1136,1137,1138,1139,1140,1141,1142,1143,1144,1145,1146,1147,1148,1149,1150,1151,1152,1153,1154,1155,1156,1157,1158,1159,1160,1161,1162,1163,1164,1165,1166,1167,1168,1169,1170,1171,1172,1173,1174,1175,1176,1177,1178]}},{\"_typename\":\"TWebSnapshot\",\"fUniqueID\":0,\"fBits\":0,\"fObjectID\":\"\",\"fOption\":\"\",\"fKind\":5,\"fSnapshot\":{\"_typename\":\"TStyle\",\"fUniqueID\":0,\"fBits\":0,\"fName\":\"Modern\",\"fTitle\":\"Modern Style\",\"fLineColor\":1,\"fLineStyle\":1,\"fLineWidth\":1,\"fFillColor\":19,\"fFillStyle\":1001,\"fMarkerColor\":1,\"fMarkerStyle\":1,\"fMarkerSize\":1,\"fTextAngle\":0,\"fTextSize\":0.05,\"fTextAlign\":11,\"fTextColor\":1,\"fTextFont\":62,\"fXaxis\":{\"_typename\":\"TAttAxis\",\"fNdivisions\":510,\"fAxisColor\":1,\"fLabelColor\":1,\"fLabelFont\":42,\"fLabelOffset\":0.005,\"fLabelSize\":0.035,\"fTickLength\":0.03,\"fTitleOffset\":1,\"fTitleSize\":0.035,\"fTitleColor\":1,\"fTitleFont\":42},\"fYaxis\":{\"_typename\":\"TAttAxis\",\"fNdivisions\":510,\"fAxisColor\":1,\"fLabelColor\":1,\"fLabelFont\":42,\"fLabelOffset\":0.005,\"fLabelSize\":0.035,\"fTickLength\":0.03,\"fTitleOffset\":0,\"fTitleSize\":0.035,\"fTitleColor\":1,\"fTitleFont\":42},\"fZaxis\":{\"_typename\":\"TAttAxis\",\"fNdivisions\":510,\"fAxisColor\":1,\"fLabelColor\":1,\"fLabelFont\":42,\"fLabelOffset\":0.005,\"fLabelSize\":0.035,\"fTickLength\":0.03,\"fTitleOffset\":1,\"fTitleSize\":0.035,\"fTitleColor\":1,\"fTitleFont\":42},\"fBarWidth\":1,\"fBarOffset\":0,\"fColorModelPS\":0,\"fDrawBorder\":0,\"fOptLogx\":0,\"fOptLogy\":0,\"fOptLogz\":0,\"fOptDate\":0,\"fOptStat\":0,\"fOptTitle\":1,\"fOptFile\":0,\"fOptFit\":0,\"fShowEventStatus\":0,\"fShowEditor\":0,\"fShowToolBar\":0,\"fNumberContours\":20,\"fAttDate\":{\"_typename\":\"TAttText\",\"fTextAngle\":0,\"fTextSize\":0.025,\"fTextAlign\":11,\"fTextColor\":1,\"fTextFont\":62},\"fDateX\":0.01,\"fDateY\":0.01,\"fEndErrorSize\":2,\"fErrorX\":0.5,\"fFuncColor\":2,\"fFuncStyle\":1,\"fFuncWidth\":2,\"fGridColor\":0,\"fGridStyle\":3,\"fGridWidth\":1,\"fLegendBorderSize\":1,\"fLegendFillColor\":0,\"fLegendFont\":42,\"fLegendTextSize\":0,\"fHatchesLineWidth\":1,\"fHatchesSpacing\":1,\"fFrameFillColor\":0,\"fFrameLineColor\":1,\"fFrameFillStyle\":1001,\"fFrameLineStyle\":1,\"fFrameLineWidth\":1,\"fFrameBorderSize\":1,\"fFrameBorderMode\":0,\"fHistFillColor\":0,\"fHistLineColor\":602,\"fHistFillStyle\":1001,\"fHistLineStyle\":1,\"fHistLineWidth\":1,\"fHistMinimumZero\":false,\"fHistTopMargin\":0.05,\"fCanvasPreferGL\":false,\"fCanvasColor\":0,\"fCanvasBorderSize\":2,\"fCanvasBorderMode\":0,\"fCanvasDefH\":500,\"fCanvasDefW\":700,\"fCanvasDefX\":10,\"fCanvasDefY\":10,\"fPadColor\":0,\"fPadBorderSize\":2,\"fPadBorderMode\":0,\"fPadBottomMargin\":0.1,\"fPadTopMargin\":0.1,\"fPadLeftMargin\":0.1,\"fPadRightMargin\":0.1,\"fPadGridX\":false,\"fPadGridY\":false,\"fPadTickX\":0,\"fPadTickY\":0,\"fPaperSizeX\":20,\"fPaperSizeY\":26,\"fScreenFactor\":1,\"fStatColor\":0,\"fStatTextColor\":1,\"fStatBorderSize\":1,\"fStatFont\":42,\"fStatFontSize\":0,\"fStatStyle\":1001,\"fStatFormat\":\"6.4g\",\"fStatX\":0.98,\"fStatY\":0.935,\"fStatW\":0.2,\"fStatH\":0.16,\"fStripDecimals\":true,\"fTitleAlign\":23,\"fTitleColor\":0,\"fTitleTextColor\":1,\"fTitleBorderSize\":0,\"fTitleFont\":42,\"fTitleFontSize\":0.05,\"fTitleStyle\":0,\"fTitleX\":0.5,\"fTitleY\":0.995,\"fTitleW\":0,\"fTitleH\":0,\"fLegoInnerR\":0.5,\"fLineStyles\":[\"\",\"  \",\" 12 12\",\" 4 8\",\" 12 16 4 16\",\" 20 12 4 12\",\" 20 12 4 12 4 12 4 12\",\" 20 20\",\" 20 12 4 12 4 12\",\" 80 20\",\" 80 40 4 40\",\"  \",\"  \",\"  \",\"  \",\"  \",\"  \",\"  \",\"  \",\"  \",\"  \",\"  \",\"  \",\"  \",\"  \",\"  \",\"  \",\"  \",\"  \",\"  \"],\"fHeaderPS\":\"\",\"fTitlePS\":\"\",\"fFitFormat\":\"5.4g\",\"fPaintTextFormat\":\"g\",\"fLineScalePS\":3,\"fJoinLinePS\":0,\"fCapLinePS\":0,\"fTimeOffset\":788918400,\"fImageScaling\":1,\"fCandleWhiskerRange\":1,\"fCandleBoxRange\":0.5,\"fCandleScaled\":false,\"fViolinScaled\":true,\"fXAxisExpXOffset\":0,\"fXAxisExpYOffset\":0,\"fYAxisExpXOffset\":0,\"fYAxisExpYOffset\":0,\"fAxisMaxDigits\":5,\"fOrthoCamera\":false}},{\"_typename\":\"TPadWebSnapshot\",\"fUniqueID\":0,\"fBits\":0,\"fObjectID\":\"\",\"fOption\":\"\",\"fKind\":3,\"fSnapshot\":{\"_typename\":\"TPad\",\"fUniqueID\":0,\"fBits\":9,\"fLineColor\":1,\"fLineStyle\":1,\"fLineWidth\":1,\"fFillColor\":0,\"fFillStyle\":1001,\"fLeftMargin\":0.1,\"fRightMargin\":0.1,\"fBottomMargin\":0.1,\"fTopMargin\":0.1,\"fXfile\":2,\"fYfile\":2,\"fAfile\":1,\"fXstat\":0.99,\"fYstat\":0.99,\"fAstat\":2,\"fFrameFillColor\":0,\"fFrameLineColor\":1,\"fFrameFillStyle\":1001,\"fFrameLineStyle\":1,\"fFrameLineWidth\":1,\"fFrameBorderSize\":1,\"fFrameBorderMode\":0,\"fX1\":-0.785398221914175,\"fY1\":0.00207499999068677,\"fX2\":7.06858352909376,\"fY2\":0.00332500000931323,\"fXtoAbsPixelk\":120.000057152558,\"fXtoPixelk\":120.000057152558,\"fXtoPixel\":152.78874309149,\"fYtoAbsPixelk\":1064.0000371254,\"fYtoPixelk\":1064.0000371254,\"fYtoPixel\":-319999.995231628,\"fUtoAbsPixelk\":5e-5,\"fUtoPixelk\":5e-5,\"fUtoPixel\":1200,\"fVtoAbsPixelk\":400.00005,\"fVtoPixelk\":400,\"fVtoPixel\":-400,\"fAbsPixeltoXk\":-0.785398221914175,\"fPixeltoXk\":-0.785398221914175,\"fPixeltoX\":0.00654498479250661,\"fAbsPixeltoYk\":0.00332500000931323,\"fPixeltoYk\":0.00207499999068677,\"fPixeltoY\":-3.12500004656613e-6,\"fXlowNDC\":0,\"fYlowNDC\":0,\"fXUpNDC\":1,\"fYUpNDC\":1,\"fWNDC\":1,\"fHNDC\":1,\"fAbsXlowNDC\":0,\"fAbsYlowNDC\":0,\"fAbsWNDC\":1,\"fAbsHNDC\":1,\"fUxmin\":0,\"fUymin\":0.0022,\"fUxmax\":6.28318530717959,\"fUymax\":0.0032,\"fTheta\":30,\"fPhi\":30,\"fAspectRatio\":0,\"fNumber\":0,\"fTickx\":0,\"fTicky\":0,\"fLogx\":0,\"fLogy\":0,\"fLogz\":0,\"fPadPaint\":0,\"fCrosshair\":0,\"fCrosshairPos\":0,\"fBorderSize\":2,\"fBorderMode\":0,\"fModified\":false,\"fGridx\":false,\"fGridy\":true,\"fAbsCoord\":false,\"fEditable\":true,\"fFixedAspectRatio\":false,\"fPrimitives\":{\"_typename\":\"TList\",\"name\":\"TList\",\"arr\":[],\"opt\":[]},\"fExecs\":{\"_typename\":\"TList\",\"name\":\"TList\",\"arr\":[],\"opt\":[]},\"fName\":\"pad1\",\"fTitle\":\"The pad with the content\",\"fNumPaletteColor\":0,\"fNextPaletteColor\":0},\"fActive\":false,\"fReadOnly\":true,\"fWithoutPrimitives\":false,\"fHasExecs\":true,\"fPrimitives\":[{\"_typename\":\"TWebSnapshot\",\"fUniqueID\":0,\"fBits\":0,\"fObjectID\":\"\",\"fOption\":\"\",\"fKind\":1,\"fSnapshot\":{\"_typename\":\"TFrame\",\"fUniqueID\":0,\"fBits\":8,\"fLineColor\":1,\"fLineStyle\":1,\"fLineWidth\":1,\"fFillColor\":0,\"fFillStyle\":1001,\"fX1\":0,\"fY1\":0.0022,\"fX2\":6.28318530717959,\"fY2\":0.0032,\"fBorderSize\":1,\"fBorderMode\":0}},{\"_typename\":\"TWebSnapshot\",\"fUniqueID\":0,\"fBits\":0,\"fObjectID\":\"\",\"fOption\":\" L;;use_pad_title\",\"fKind\":1,\"fSnapshot\":{\"_typename\":\"TH1F\",\"fUniqueID\":0,\"fBits\":8,\"fName\":\"LHC23o_536401\",\"fTitle\":\"Azimuthal angle, A side\",\"fLineColor\":600,\"fLineStyle\":1,\"fLineWidth\":3,\"fFillColor\":0,\"fFillStyle\":1001,\"fMarkerColor\":600,\"fMarkerStyle\":1,\"fMarkerSize\":1,\"fNcells\":362,\"fXaxis\":{\"_typename\":\"TAxis\",\"fUniqueID\":0,\"fBits\":0,\"fName\":\"xaxis\",\"fTitle\":\"#phi\",\"fNdivisions\":510,\"fAxisColor\":1,\"fLabelColor\":1,\"fLabelFont\":42,\"fLabelOffset\":0.005,\"fLabelSize\":0.035,\"fTickLength\":0.03,\"fTitleOffset\":1,\"fTitleSize\":0.035,\"fTitleColor\":1,\"fTitleFont\":42,\"fNbins\":360,\"fXmin\":0,\"fXmax\":6.28318530717959,\"fXbins\":[],\"fFirst\":0,\"fLast\":0,\"fBits2\":0,\"fTimeDisplay\":false,\"fTimeFormat\":\"\",\"fLabels\":null,\"fModLabs\":null},\"fYaxis\":{\"_typename\":\"TAxis\",\"fUniqueID\":0,\"fBits\":0,\"fName\":\"yaxis\",\"fTitle\":\"\",\"fNdivisions\":510,\"fAxisColor\":1,\"fLabelColor\":1,\"fLabelFont\":42,\"fLabelOffset\":0.005,\"fLabelSize\":0.035,\"fTickLength\":0.03,\"fTitleOffset\":0,\"fTitleSize\":0.035,\"fTitleColor\":1,\"fTitleFont\":42,\"fNbins\":1,\"fXmin\":0,\"fXmax\":1,\"fXbins\":[],\"fFirst\":0,\"fLast\":0,\"fBits2\":0,\"fTimeDisplay\":false,\"fTimeFormat\":\"\",\"fLabels\":null,\"fModLabs\":null},\"fZaxis\":{\"_typename\":\"TAxis\",\"fUniqueID\":0,\"fBits\":0,\"fName\":\"zaxis\",\"fTitle\":\"\",\"fNdivisions\":510,\"fAxisColor\":1,\"fLabelColor\":1,\"fLabelFont\":42,\"fLabelOffset\":0.005,\"fLabelSize\":0.035,\"fTickLength\":0.03,\"fTitleOffset\":1,\"fTitleSize\":0.035,\"fTitleColor\":1,\"fTitleFont\":42,\"fNbins\":1,\"fXmin\":0,\"fXmax\":1,\"fXbins\":[],\"fFirst\":0,\"fLast\":0,\"fBits2\":0,\"fTimeDisplay\":false,\"fTimeFormat\":\"\",\"fLabels\":null,\"fModLabs\":null},\"fBarOffset\":0,\"fBarWidth\":1000,\"fEntries\":587860818,\"fTsumw\":1,\"fTsumw2\":1.70108299482887e-9,\"fTsumwx\":3.14317966457534,\"fTsumwx2\":13.1859459000184,\"fMaximum\":0.0032,\"fMinimum\":0.0022,\"fNormFactor\":0,\"fContour\":[],\"fSumw2\":[0,4.82238697263455e-12,4.83147892573689e-12,4.83691326307814e-12,4.80349990137454e-12,4.77574658431389e-12,4.75910211765423e-12,4.74775309153476e-12,4.75221515126863e-12,4.78453759434728e-12,4.81446406760775e-12,4.81354387630077e-12,4.78380259877504e-12,4.74812058932088e-12,4.72869529295678e-12,4.73189281306438e-12,4.74169661227213e-12,4.76418631930949e-12,4.77935500745795e-12,4.79380027476759e-12,4.78980120437057e-12,4.79953555517778e-12,4.80650933206405e-12,4.83712450196308e-12,4.80029370021687e-12,4.77907721385584e-12,4.76233725564545e-12,4.75948408385713e-12,4.75503649254004e-12,4.76827509389052e-12,4.78034754084881e-12,4.7691634546806e-12,4.73818946804551e-12,4.7034623740986e-12,4.69790360837308e-12,4.70211102397168e-12,4.7216838981869e-12,4.74199466165772e-12,4.78778720075528e-12,4.78790005440614e-12,4.78065137760112e-12,4.7950098344101e-12,4.78691620206534e-12,4.79802505246632e-12,4.75286333634021e-12,4.72380496808633e-12,4.70580336393304e-12,4.70719811931029e-12,4.7290049170758e-12,4.74358618750313e-12,4.77326959136176e-12,4.76408504039205e-12,4.74088638093264e-12,4.72721083339551e-12,4.71367997002615e-12,4.70668883103976e-12,4.7285390340556e-12,4.75617660378203e-12,4.77274872835781e-12,4.7726069378734e-12,4.79356878009916e-12,4.79395653366877e-12,4.76947886616632e-12,4.7572790971404e-12,4.71993032607359e-12,4.7070679035593e-12,4.70032562134146e-12,4.70946387337748e-12,4.70921791029228e-12,4.72247387374289e-12,4.74083140094889e-12,4.75785783381145e-12,4.75075962854091e-12,4.72761884274861e-12,4.71148655804284e-12,4.7118511621456e-12,4.73317182110742e-12,4.74248658782812e-12,4.76891170422868e-12,4.76009175736174e-12,4.77602727159936e-12,4.79497800389319e-12,4.80036893598411e-12,4.79795849774915e-12,4.76260347451414e-12,4.72022837545918e-12,4.69476106824923e-12,4.68972605921101e-12,4.69851128187769e-12,4.72995983258305e-12,4.74944300261425e-12,4.75592485333012e-12,4.7249074614447e-12,4.7118193316287e-12,4.68812006494882e-12,4.6804315482738e-12,4.66721899007352e-12,4.66541333165981e-12,4.69264289203315e-12,4.71097148240559e-12,4.74185287117331e-12,4.75270129007232e-12,4.74977288251676e-12,4.76536404843509e-12,4.75108372107671e-12,4.74089506198271e-12,4.70793890224924e-12,4.68041418617367e-12,4.6499957867428e-12,4.64623399838091e-12,4.63171349530404e-12,4.64403769271424e-12,4.61378712691798e-12,4.59044957065752e-12,4.52052371237679e-12,4.53236466466666e-12,4.56883664967681e-12,4.59981352999525e-12,4.7096374943788e-12,4.71764720990626e-12,4.74447165460985e-12,4.76465509601304e-12,4.71775427619041e-12,4.70398323710255e-12,4.67492486884867e-12,4.66579819154607e-12,4.65446652752673e-12,4.65498739053068e-12,4.65799971490355e-12,4.6880245733981e-12,4.7196641072049e-12,4.70137892208279e-12,4.68161506476612e-12,4.64416790846523e-12,4.62899922031677e-12,4.61401283421969e-12,4.61091659302952e-12,4.63833424282095e-12,4.64319852454121e-12,4.61151847916743e-12,4.59737994229345e-12,4.6037720888253e-12,4.59518074294343e-12,4.60521893050295e-12,4.57194157191704e-12,4.53564031422486e-12,4.50219222832099e-12,4.49856065571009e-12,4.53638688453052e-12,4.58819249764039e-12,4.60450419071419e-12,4.59223497328773e-12,4.56613684310632e-12,4.5399808392578e-12,4.5102048375318e-12,4.48157473441451e-12,4.46248799900297e-12,4.46487818145445e-12,4.49719483716639e-12,4.55687705636937e-12,4.61120885504841e-12,4.68099292284473e-12,4.72002292394096e-12,4.74634676142409e-12,4.70141653996641e-12,4.68955243820969e-12,4.67211799599403e-12,4.67362560502214e-12,4.67472809838051e-12,4.68929490039107e-12,4.71834748127824e-12,4.72504635824575e-12,4.70627214063659e-12,4.70031404660804e-12,4.70393115080216e-12,4.70751353079601e-12,4.71127821284125e-12,4.73112309329187e-12,4.75477027367135e-12,4.77564530539646e-12,4.78761357975396e-12,4.79865298175442e-12,4.77297154197617e-12,4.77148997609825e-12,4.73572694351015e-12,4.70858998100418e-12,4.6998308014877e-12,4.69733065906873e-12,4.71640292606348e-12,4.75728199082375e-12,4.79737686739473e-12,4.81031741935961e-12,4.777254193342e-12,4.75929310075568e-12,4.74470025559492e-12,4.73790878076004e-12,4.74825080507187e-12,4.77166649078293e-12,4.80907313551684e-12,4.80276201211894e-12,4.82199632538159e-12,4.81372617835215e-12,4.80522743033765e-12,4.81862807795602e-12,4.78963337073596e-12,4.77828723829984e-12,4.75611873011492e-12,4.75613609221505e-12,4.75170875668145e-12,4.75530560509208e-12,4.74887584067661e-12,4.73071508393878e-12,4.69072148628523e-12,4.66301157447492e-12,4.65694641416222e-12,4.66684281123733e-12,4.70207629977141e-12,4.75817324529718e-12,4.81546238836533e-12,4.83199689505749e-12,4.88912109817439e-12,4.88254664959116e-12,4.83217051605881e-12,4.79769227888046e-12,4.74831157242233e-12,4.71819990342712e-12,4.69059127053424e-12,4.69276732041743e-12,4.71652446076441e-12,4.73424248394888e-12,4.75000437718518e-12,4.75299065840785e-12,4.72810208786895e-12,4.70297623529491e-12,4.69034530744904e-12,4.69657830139635e-12,4.72149870245216e-12,4.75982843217641e-12,4.77296575460945e-12,4.77301205354314e-12,4.78998350642195e-12,4.78993720748827e-12,4.78176833937626e-12,4.7759144179485e-12,4.75644861001742e-12,4.732500486569e-12,4.7119611221131e-12,4.6981351030415e-12,4.68825896174988e-12,4.70092172011265e-12,4.72524023503056e-12,4.75624026481584e-12,4.74408968840696e-12,4.72873869820711e-12,4.7133269406568e-12,4.71135634229185e-12,4.7185702948966e-12,4.73209826458261e-12,4.76434257821067e-12,4.77242752950537e-12,4.78109989852119e-12,4.78802737647377e-12,4.77763326586155e-12,4.76536404843509e-12,4.73514820683909e-12,4.72213241910697e-12,4.71794815297521e-12,4.71859923173015e-12,4.72519682978023e-12,4.71573737889177e-12,4.7226677505277e-12,4.70945519232742e-12,4.68163242686625e-12,4.66236917677004e-12,4.65299364269888e-12,4.65336982153507e-12,4.65328590471777e-12,4.65962307126587e-12,4.70632712062034e-12,4.72059587324531e-12,4.73343803997611e-12,4.74641620982461e-12,4.75227013125238e-12,4.775584538046e-12,4.73391549772974e-12,4.70496130207664e-12,4.67800374793871e-12,4.6532511805175e-12,4.66037542893824e-12,4.67273435054871e-12,4.7116572853608e-12,4.71838509916186e-12,4.70229332602306e-12,4.67444451741169e-12,4.67766518698614e-12,4.69300170876921e-12,4.71851531491285e-12,4.77319146191117e-12,4.82079255310579e-12,4.81796542446766e-12,4.82465562038511e-12,4.8334466304185e-12,4.81030005725948e-12,4.81062125611192e-12,4.77617774313383e-12,4.73750655877366e-12,4.70969826172926e-12,4.68913864148989e-12,4.69765185792117e-12,4.71784976774113e-12,4.73336280420887e-12,4.73861483949874e-12,4.72471069097654e-12,4.72068557742932e-12,4.72975438106482e-12,4.7456985763525e-12,4.77225390850405e-12,4.81949618296261e-12,4.83530726881595e-12,4.81828372963674e-12,4.83164097200479e-12,4.84334013381025e-12,4.84086892822483e-12,4.81708574472765e-12,4.76228806302841e-12,4.71505157593656e-12,4.694995456601e-12,4.68422227346924e-12,4.69869647761243e-12,4.72946211904593e-12,4.75381246448075e-12,4.75937412388963e-12,4.7365198127495e-12,4.71530332638847e-12,4.69781679787242e-12,4.68072091660933e-12,4.6752142371842e-12,4.67818315630673e-12,4.7177484888237e-12,4.74348780226905e-12,4.77794578366392e-12,4.78754123767008e-12,4.78658342847948e-12,4.80455609579922e-12,4.79823050398454e-12,4.78398200714307e-12,4.75978792060944e-12,4.7573109276573e-12,4.75349415931167e-12,4.75533454192564e-12,4.77810493624846e-12,4.77646421778601e-12,4.75273312058922e-12,4.73142693004418e-12,4.71574605994183e-12,4.71329800382325e-12,4.7127250545189e-12,4.72687227244294e-12,4.79121621553131e-12,4.81864544005616e-12,4.8132313584984e-12,6.94484005271033e-17],\"fOption\":\"\",\"fFunctions\":{\"_typename\":\"TList\",\"name\":\"TList\",\"arr\":[],\"opt\":[]},\"fBufferSize\":0,\"fBuffer\":[],\"fBinStatErrOpt\":0,\"fStatOverflows\":2,\"fArray\":[0,0.002834892,0.002840237,0.002843432,0.002823789,0.002807474,0.00279769,0.002791018,0.002793641,0.002812642,0.002830235,0.002829694,0.00281221,0.002791234,0.002779815,0.002781694,0.002787458,0.002800678,0.002809595,0.002818087,0.002815736,0.002821459,0.002825558,0.002843556,0.002821904,0.002809432,0.002799591,0.002797914,0.0027953,0.002803082,0.002810179,0.002803604,0.002785396,0.002764981,0.002761713,0.002764187,0.002775693,0.002787633,0.002814552,0.002814619,0.002810358,0.002818798,0.00281404,0.002820571,0.002794022,0.00277694,0.002766357,0.002767177,0.002779996,0.002788568,0.002806018,0.002800619,0.002786981,0.002778942,0.002770988,0.002766878,0.002779723,0.00279597,0.002805712,0.002805629,0.002817951,0.002818179,0.00280379,0.002796618,0.002774662,0.002767101,0.002763137,0.002768509,0.002768365,0.002776157,0.002786949,0.002796958,0.002792785,0.002779182,0.002769698,0.002769913,0.002782446,0.002787922,0.002803456,0.002798271,0.002807639,0.00281878,0.002821949,0.002820532,0.002799748,0.002774837,0.002759866,0.002756906,0.002762071,0.002780558,0.002792011,0.002795822,0.002777588,0.002769894,0.002755962,0.002751442,0.002743675,0.002742614,0.002758621,0.002769395,0.002787549,0.002793927,0.002792205,0.002801371,0.002792976,0.002786986,0.002767613,0.002751432,0.00273355,0.002731339,0.002722803,0.002730048,0.002712265,0.002698545,0.002657439,0.0026644,0.00268584,0.00270405,0.002768611,0.00277332,0.002789089,0.002800954,0.002773383,0.002765287,0.002748205,0.00274284,0.002736178,0.002736485,0.002738255,0.002755906,0.002774505,0.002763756,0.002752138,0.002730124,0.002721207,0.002712397,0.002710577,0.002726695,0.002729554,0.002710931,0.002702619,0.002706377,0.002701327,0.002707228,0.002687665,0.002666325,0.002646662,0.002644527,0.002666764,0.002697218,0.002706808,0.002699595,0.002684253,0.002668877,0.002651373,0.002634542,0.002623322,0.002624727,0.002643724,0.002678809,0.002710749,0.002751772,0.002774716,0.002790191,0.002763778,0.002756804,0.002746555,0.002747441,0.002748089,0.002756653,0.002773731,0.00277767,0.002766633,0.00276313,0.002765257,0.002767363,0.002769576,0.002781242,0.002795143,0.002807415,0.00281445,0.00282094,0.002805843,0.002804972,0.002783948,0.002767995,0.002762846,0.002761377,0.002772588,0.00279662,0.00282019,0.002827797,0.00280836,0.002797802,0.002789223,0.002785231,0.00279131,0.002805076,0.002827066,0.002823355,0.002834663,0.002829801,0.002824805,0.002832683,0.002815638,0.002808968,0.002795936,0.002795946,0.002793343,0.002795458,0.002791678,0.002781002,0.002757491,0.002741202,0.002737636,0.002743454,0.002764166,0.002797144,0.002830822,0.002840542,0.002874123,0.002870258,0.002840644,0.002820375,0.002791346,0.002773645,0.002757415,0.002758694,0.00277266,0.002783075,0.002792341,0.002794097,0.002779466,0.002764695,0.00275727,0.002760934,0.002775584,0.002798117,0.00280584,0.002805867,0.002815844,0.002815816,0.002811014,0.002807573,0.00279613,0.002782051,0.002769977,0.002761849,0.002756044,0.002763488,0.002777783,0.002796007,0.002788864,0.00277984,0.00277078,0.002769622,0.002773863,0.002781815,0.00280077,0.002805523,0.002810621,0.002814694,0.002808583,0.002801371,0.002783608,0.002775956,0.002773497,0.00277388,0.002777758,0.002772197,0.002776271,0.002768504,0.002752148,0.002740824,0.002735313,0.002735534,0.002735484,0.00273921,0.002766665,0.002775053,0.002782603,0.002790232,0.002793673,0.002807379,0.002782883,0.002765862,0.002750015,0.002735464,0.002739652,0.002746917,0.002769799,0.002773754,0.002764294,0.002747923,0.002749816,0.002758832,0.00277383,0.002805972,0.002833955,0.002832293,0.002836226,0.002841394,0.002827787,0.002827976,0.002807728,0.002784994,0.002768647,0.002756561,0.002761565,0.002773439,0.002782558,0.002785646,0.002777472,0.002775106,0.002780437,0.00278981,0.002805421,0.002833193,0.002842488,0.00283248,0.002840332,0.00284721,0.002845757,0.002831776,0.002799562,0.002771794,0.002760004,0.002753671,0.002762179,0.002780265,0.00279458,0.002797849,0.002784414,0.002771942,0.002761662,0.002751612,0.002748375,0.00275012,0.002773379,0.00278851,0.002808767,0.002814408,0.002813845,0.00282441,0.002820692,0.002812315,0.002798093,0.002796637,0.002794393,0.002795475,0.002808861,0.002807896,0.002793945,0.00278142,0.002772202,0.002770763,0.002770426,0.002778743,0.002816568,0.002832693,0.00282951,4.082599e-8]}},{\"_typename\":\"TWebSnapshot\",\"fUniqueID\":0,\"fBits\":0,\"fObjectID\":\"\",\"fOption\":\"SAME L\",\"fKind\":1,\"fSnapshot\":{\"_typename\":\"TH1F\",\"fUniqueID\":0,\"fBits\":8,\"fName\":\"LHC23k4e_536401\",\"fTitle\":\"Azimuthal angle, A side\",\"fLineColor\":632,\"fLineStyle\":2,\"fLineWidth\":3,\"fFillColor\":0,\"fFillStyle\":1001,\"fMarkerColor\":632,\"fMarkerStyle\":1,\"fMarkerSize\":1,\"fNcells\":362,\"fXaxis\":{\"_typename\":\"TAxis\",\"fUniqueID\":0,\"fBits\":0,\"fName\":\"xaxis\",\"fTitle\":\"#phi\",\"fNdivisions\":510,\"fAxisColor\":1,\"fLabelColor\":1,\"fLabelFont\":42,\"fLabelOffset\":0.005,\"fLabelSize\":0.035,\"fTickLength\":0.03,\"fTitleOffset\":1,\"fTitleSize\":0.035,\"fTitleColor\":1,\"fTitleFont\":42,\"fNbins\":360,\"fXmin\":0,\"fXmax\":6.28318530717959,\"fXbins\":[],\"fFirst\":0,\"fLast\":0,\"fBits2\":0,\"fTimeDisplay\":false,\"fTimeFormat\":\"\",\"fLabels\":null,\"fModLabs\":null},\"fYaxis\":{\"_typename\":\"TAxis\",\"fUniqueID\":0,\"fBits\":0,\"fName\":\"yaxis\",\"fTitle\":\"\",\"fNdivisions\":510,\"fAxisColor\":1,\"fLabelColor\":1,\"fLabelFont\":42,\"fLabelOffset\":0.005,\"fLabelSize\":0.035,\"fTickLength\":0.03,\"fTitleOffset\":0,\"fTitleSize\":0.035,\"fTitleColor\":1,\"fTitleFont\":42,\"fNbins\":1,\"fXmin\":0,\"fXmax\":1,\"fXbins\":[],\"fFirst\":0,\"fLast\":0,\"fBits2\":0,\"fTimeDisplay\":false,\"fTimeFormat\":\"\",\"fLabels\":null,\"fModLabs\":null},\"fZaxis\":{\"_typename\":\"TAxis\",\"fUniqueID\":0,\"fBits\":0,\"fName\":\"zaxis\",\"fTitle\":\"\",\"fNdivisions\":510,\"fAxisColor\":1,\"fLabelColor\":1,\"fLabelFont\":42,\"fLabelOffset\":0.005,\"fLabelSize\":0.035,\"fTickLength\":0.03,\"fTitleOffset\":1,\"fTitleSize\":0.035,\"fTitleColor\":1,\"fTitleFont\":42,\"fNbins\":1,\"fXmin\":0,\"fXmax\":1,\"fXbins\":[],\"fFirst\":0,\"fLast\":0,\"fBits2\":0,\"fTimeDisplay\":false,\"fTimeFormat\":\"\",\"fLabels\":null,\"fModLabs\":null},\"fBarOffset\":0,\"fBarWidth\":1000,\"fEntries\":4149936,\"fTsumw\":1,\"fTsumw2\":2.40967571548091e-7,\"fTsumwx\":3.13904201384022,\"fTsumwx2\":13.1747287060421,\"fMaximum\":0.0032,\"fMinimum\":0.0022,\"fNormFactor\":0,\"fContour\":[],\"fSumw2\":[0,6.70190506747109e-10,6.79539031403692e-10,6.81919711595742e-10,6.72687317680234e-10,6.67867891925598e-10,6.70248572117647e-10,6.75184128613359e-10,6.71061487305176e-10,6.89177882912965e-10,6.8406813030564e-10,6.8064227344391e-10,6.80816469555524e-10,6.7802933176971e-10,6.62700073947735e-10,6.65138819510322e-10,6.81455188631439e-10,6.67925957296135e-10,6.8273262678327e-10,6.8011968510907e-10,6.81745515484128e-10,6.71526010269478e-10,6.88481098466511e-10,6.86623006609302e-10,6.83487476600262e-10,6.71526010269478e-10,6.74661540278518e-10,6.71700206381091e-10,6.80410011961759e-10,6.71119552675714e-10,6.85984287533386e-10,6.82151973077893e-10,6.82035842336817e-10,6.6676464988538e-10,6.65371080992473e-10,6.76809958988416e-10,6.64848492657633e-10,6.76693828247341e-10,6.78377723992937e-10,6.7959709677423e-10,6.81803580854666e-10,6.8325521511811e-10,6.91152105511249e-10,6.80874534926061e-10,6.83835868823488e-10,6.81919711595742e-10,6.77274481952719e-10,6.64906558028171e-10,6.67113042108606e-10,6.79422900662617e-10,6.88190771613822e-10,6.75009932501745e-10,6.71874402492705e-10,6.68506611001513e-10,6.77274481952719e-10,6.71874402492705e-10,6.70829225823025e-10,6.58983890233317e-10,6.76519632135728e-10,6.68796937854202e-10,6.73500232867763e-10,6.81513254001977e-10,6.78203527881323e-10,6.70887291193562e-10,6.71642141010554e-10,6.72977644532923e-10,6.7802933176971e-10,6.73848625090989e-10,6.63687185246877e-10,6.89003686801351e-10,6.6937759155958e-10,6.81222927149288e-10,6.71409879528402e-10,6.76809958988416e-10,6.77622874175945e-10,6.70248572117647e-10,6.70829225823025e-10,6.83371345859186e-10,6.82035842336817e-10,6.81222927149288e-10,6.8459071864048e-10,6.84881045493169e-10,6.85868156792311e-10,6.82268103818968e-10,6.72861513791847e-10,6.71700206381091e-10,6.72338925457007e-10,6.67867891925598e-10,6.70887291193562e-10,6.78784181586701e-10,6.86971398832529e-10,6.887714253192e-10,6.77158351211643e-10,6.68796937854202e-10,6.71177618046251e-10,6.74255082684754e-10,6.79713227515306e-10,6.81977776966279e-10,6.7802933176971e-10,6.77332547323257e-10,6.71409879528402e-10,6.88481098466511e-10,6.79306769921541e-10,6.78784181586701e-10,6.69609853041731e-10,6.72745383050772e-10,6.81977776966279e-10,6.85926222162849e-10,6.71177618046251e-10,6.74022821202603e-10,6.75997043800887e-10,6.84532653269942e-10,6.76345436024114e-10,6.78087397140248e-10,6.76403501394652e-10,6.67403368961295e-10,6.76345436024114e-10,6.7698415510003e-10,6.74313148055292e-10,6.69029199336353e-10,6.70596964340874e-10,6.8011968510907e-10,6.81977776966279e-10,6.77913201028634e-10,6.64383969693331e-10,6.63745250617415e-10,6.66822715255918e-10,6.76577697506265e-10,6.77913201028634e-10,6.657194732157e-10,6.73209906015074e-10,6.89932732729956e-10,6.75184128613359e-10,6.67171107479144e-10,6.71409879528402e-10,6.74255082684754e-10,6.79713227515306e-10,6.66822715255918e-10,6.72861513791847e-10,6.76809958988416e-10,6.77971266399172e-10,6.81397123260901e-10,6.74719605649056e-10,6.92777935886307e-10,6.67635630443447e-10,6.8273262678327e-10,6.58461301898477e-10,6.76345436024114e-10,6.68971133965816e-10,6.7489380176067e-10,6.82035842336817e-10,6.90687582546947e-10,6.69842114523882e-10,6.69087264706891e-10,6.64442035063868e-10,6.58577432639552e-10,6.58751628751165e-10,6.65951734697851e-10,6.70887291193562e-10,6.8168745011359e-10,6.66300126921077e-10,6.64035577470104e-10,6.58229040416325e-10,6.54280595219756e-10,6.44874005192635e-10,6.52945091697387e-10,6.51841849657169e-10,6.43364305558653e-10,6.43248174817577e-10,6.48764385018667e-10,6.62525877836122e-10,6.64151708211179e-10,6.49286973353507e-10,6.5915808634493e-10,6.4446754759887e-10,6.30764120151953e-10,6.29428616629584e-10,6.37035180170034e-10,6.29312485888509e-10,6.1828006548633e-10,6.13402574361156e-10,6.24493060133873e-10,6.21589791606983e-10,6.18686523080094e-10,6.12647724544165e-10,6.27802786254526e-10,6.13402574361156e-10,6.11254155651258e-10,6.22344641423975e-10,6.24493060133873e-10,6.2849957070098e-10,6.3976425258531e-10,6.274543940313e-10,6.19499438267623e-10,6.22634968276663e-10,6.20602680307841e-10,6.18744588450632e-10,6.1276385528524e-10,6.32448015897549e-10,6.34654499977985e-10,6.30125401076038e-10,6.42493325000586e-10,6.2954474737066e-10,6.39183598879932e-10,6.36512591835194e-10,6.33028669602927e-10,6.4185460592467e-10,6.30415727928727e-10,6.41273952219292e-10,6.47428881496297e-10,6.55325771889436e-10,6.58693563380628e-10,6.47196620014146e-10,6.52480568733085e-10,6.39706187214772e-10,6.53409614661689e-10,6.44874005192635e-10,6.47545012237373e-10,6.70771160452487e-10,6.69784049153345e-10,6.91616628475552e-10,6.89700471247805e-10,6.77390612693794e-10,6.72571186939158e-10,6.67171107479144e-10,6.76055109171425e-10,6.78261593251861e-10,6.62525877836122e-10,6.76055109171425e-10,6.78203527881323e-10,6.76171239912501e-10,6.78319658622399e-10,6.83429411229724e-10,6.74022821202603e-10,6.70306637488185e-10,6.7251312156862e-10,6.75300259354434e-10,6.70538898970336e-10,6.75590586207123e-10,6.8824883698436e-10,6.81048731037675e-10,6.81745515484128e-10,6.77913201028634e-10,6.70480833599798e-10,6.77622874175945e-10,6.75184128613359e-10,6.65371080992473e-10,6.62177485612895e-10,6.76868024358954e-10,6.78145462510785e-10,6.67751761184522e-10,6.85926222162849e-10,6.68100153407749e-10,6.67113042108606e-10,6.71177618046251e-10,6.72222794715932e-10,6.68274349519362e-10,6.70132441376571e-10,6.63977512099566e-10,6.69493722300656e-10,6.85519764569084e-10,6.94926354596205e-10,6.78609985475088e-10,6.79655162144768e-10,6.69087264706891e-10,6.5602255633589e-10,6.64035577470104e-10,6.71177618046251e-10,6.7251312156862e-10,6.7593897843035e-10,6.83951999564564e-10,6.77739004917021e-10,6.67925957296135e-10,6.67519499702371e-10,6.63803315987953e-10,6.71409879528402e-10,6.75067997872283e-10,6.72280860086469e-10,6.78319658622399e-10,6.82384234560044e-10,6.75706716948199e-10,6.8511330697532e-10,6.79306769921541e-10,6.81861646225204e-10,6.66590453773766e-10,6.80468077332297e-10,6.85926222162849e-10,6.60029066902997e-10,6.73732494349914e-10,6.78377723992937e-10,6.9086177865856e-10,6.82268103818968e-10,6.85287503086933e-10,6.735582982383e-10,6.73906690461527e-10,6.6624206155054e-10,6.68738872483664e-10,6.78784181586701e-10,6.63280727653113e-10,6.81280992519826e-10,6.74080886573141e-10,6.84242326417253e-10,6.70016310635496e-10,6.71119552675714e-10,6.68564676372051e-10,6.67577565072909e-10,6.75300259354434e-10,6.68913068595278e-10,6.77100285841105e-10,6.84358457158328e-10,6.81106796408212e-10,6.79713227515306e-10,6.95565073672121e-10,6.75474455466047e-10,6.80177750479608e-10,6.73384102126687e-10,6.7541639009551e-10,6.71409879528402e-10,6.79132573809928e-10,6.74661540278518e-10,6.87029464203067e-10,6.81803580854666e-10,6.73616363608838e-10,6.8064227344391e-10,6.65022688769246e-10,6.73964755832065e-10,6.78668050845626e-10,6.71409879528402e-10,6.79539031403692e-10,6.64500100434406e-10,6.75300259354434e-10,6.7750674343487e-10,6.74138951943678e-10,6.76113174541963e-10,6.57822582822561e-10,6.66125930809464e-10,6.62119420242357e-10,6.83545541970799e-10,6.77913201028634e-10,6.78726116216163e-10,6.82442299930582e-10,6.83197149747573e-10,6.78668050845626e-10,6.72571186939158e-10,6.64616231175482e-10,6.80758404184986e-10,6.68100153407749e-10,6.59216151715468e-10,6.69087264706891e-10,6.80177750479608e-10,6.80990665667137e-10,6.90397255694258e-10,6.79480966033155e-10,6.74138951943678e-10,6.6386138135849e-10,6.79364835292079e-10,6.67984022666673e-10,6.75764782318736e-10,6.75764782318736e-10,6.77042220470568e-10,6.91674693846089e-10,0],\"fOption\":\"\",\"fFunctions\":{\"_typename\":\"TList\",\"name\":\"TList\",\"arr\":[],\"opt\":[]},\"fBufferSize\":0,\"fBuffer\":[],\"fBinStatErrOpt\":0,\"fStatOverflows\":2,\"fArray\":[0,0.002781248,0.002820044,0.002829923,0.002791609,0.002771609,0.002781489,0.002801971,0.002784862,0.002860044,0.002838839,0.002824622,0.002825345,0.002813778,0.002750163,0.002760283,0.002827995,0.00277185,0.002833297,0.002822453,0.0028292,0.00278679,0.002857153,0.002849441,0.002836429,0.00278679,0.002799802,0.002787513,0.002823658,0.002785103,0.002846791,0.002830887,0.002830405,0.002767031,0.002761247,0.002808718,0.002759079,0.002808236,0.002815224,0.002820285,0.002829441,0.002835465,0.002868237,0.002825586,0.002837875,0.002829923,0.002810646,0.00275932,0.002768476,0.002819562,0.002855948,0.002801248,0.002788236,0.00277426,0.002810646,0.002788236,0.002783898,0.002734741,0.002807513,0.002775464,0.002794983,0.002828236,0.002814501,0.002784139,0.002787272,0.002792814,0.002813778,0.002796429,0.002754259,0.002859321,0.002777874,0.002827032,0.002786308,0.002808718,0.002812091,0.002781489,0.002783898,0.002835947,0.002830405,0.002827032,0.002841008,0.002842213,0.002846309,0.002831369,0.002792332,0.002787513,0.002790164,0.002771609,0.002784139,0.002816911,0.002850887,0.002858357,0.002810164,0.002775464,0.002785344,0.002798115,0.002820766,0.002830164,0.002813778,0.002810887,0.002786308,0.002857153,0.00281908,0.002816911,0.002778838,0.00279185,0.002830164,0.00284655,0.002785344,0.002797152,0.002805345,0.002840767,0.00280679,0.002814019,0.002807031,0.002769681,0.00280679,0.002809441,0.002798356,0.002776428,0.002782935,0.002822453,0.002830164,0.002813296,0.002757151,0.0027545,0.002767272,0.002807754,0.002813296,0.002762693,0.002793778,0.002863177,0.002801971,0.002768717,0.002786308,0.002798115,0.002820766,0.002767272,0.002792332,0.002808718,0.002813537,0.002827754,0.002800043,0.002874984,0.002770645,0.002833297,0.002732572,0.00280679,0.002776187,0.002800766,0.002830405,0.002866309,0.002779802,0.002776669,0.002757392,0.002733054,0.002733777,0.002763657,0.002784139,0.002828959,0.002765103,0.002755705,0.002731608,0.002715223,0.002676186,0.00270968,0.002705102,0.002669921,0.002669439,0.002692331,0.00274944,0.002756187,0.002694499,0.002735464,0.002674499,0.002617631,0.002612089,0.002643655,0.002611607,0.002565823,0.002545581,0.002591606,0.002579558,0.002567509,0.002542449,0.002605341,0.002545581,0.002536666,0.00258269,0.002591606,0.002608233,0.002654981,0.002603895,0.002570883,0.002583895,0.002575462,0.00256775,0.002542931,0.002624619,0.002633776,0.00261498,0.002666306,0.00261257,0.002652571,0.002641486,0.002627028,0.002663655,0.002616185,0.002661246,0.002686788,0.00271956,0.002733536,0.002685825,0.002707753,0.00265474,0.002711608,0.002676186,0.00268727,0.002783657,0.002779561,0.002870165,0.002862213,0.002811128,0.002791127,0.002768717,0.002805586,0.002814742,0.00274944,0.002805586,0.002814501,0.002806067,0.002814983,0.002836188,0.002797152,0.00278173,0.002790886,0.002802453,0.002782694,0.002803658,0.002856189,0.002826309,0.0028292,0.002813296,0.002782453,0.002812091,0.002801971,0.002761247,0.002747994,0.002808959,0.00281426,0.002771127,0.00284655,0.002772573,0.002768476,0.002785344,0.002789682,0.002773296,0.002781007,0.002755464,0.002778356,0.002844863,0.0028839,0.002816188,0.002820525,0.002776669,0.002722452,0.002755705,0.002785344,0.002790886,0.002805104,0.002838357,0.002812573,0.00277185,0.002770163,0.002754741,0.002786308,0.002801489,0.002789923,0.002814983,0.002831851,0.00280414,0.002843176,0.00281908,0.002829682,0.002766308,0.002823899,0.00284655,0.002739078,0.002795947,0.002815224,0.002867032,0.002831369,0.002843899,0.002795224,0.00279667,0.002764862,0.002775223,0.002816911,0.002752573,0.002827273,0.002797392,0.002839562,0.002780525,0.002785103,0.002774501,0.002770404,0.002802453,0.002775946,0.002809923,0.002840044,0.00282655,0.002820766,0.002886551,0.002803176,0.002822694,0.002794501,0.002802935,0.002786308,0.002818357,0.002799802,0.002851128,0.002829441,0.002795465,0.002824622,0.002759802,0.002796911,0.002816429,0.002786308,0.002820044,0.002757633,0.002802453,0.00281161,0.002797633,0.002805826,0.002729922,0.00276438,0.002747753,0.00283667,0.002813296,0.00281667,0.002832092,0.002835224,0.002816429,0.002791127,0.002758115,0.002825104,0.002772573,0.002735705,0.002776669,0.002822694,0.002826068,0.002865104,0.002819803,0.002797633,0.002754982,0.002819321,0.002772091,0.002804381,0.002804381,0.002809682,0.002870406,0]}},{\"_typename\":\"TWebSnapshot\",\"fUniqueID\":0,\"fBits\":0,\"fObjectID\":\"\",\"fOption\":\"blNDC\",\"fKind\":1,\"fSnapshot\":{\"_typename\":\"TPaveText\",\"fUniqueID\":0,\"fBits\":9,\"fLineColor\":1,\"fLineStyle\":1,\"fLineWidth\":1,\"fFillColor\":0,\"fFillStyle\":0,\"fX1\":1.45969600876968,\"fY1\":0.00324270106299839,\"fX2\":4.82348929840991,\"fY2\":0.00331875001518056,\"fX1NDC\":0.285854271356784,\"fY1NDC\":0.934160843929211,\"fX2NDC\":0.714145728643216,\"fY2NDC\":0.995000004768372,\"fBorderSize\":0,\"fInit\":1,\"fShadowColor\":1,\"fCornerRadius\":0,\"fOption\":\"blNDC\",\"fName\":\"title\",\"fTextAngle\":0,\"fTextSize\":0,\"fTextAlign\":22,\"fTextColor\":1,\"fTextFont\":42,\"fLabel\":\"\",\"fLongest\":23,\"fMargin\":0.05,\"fLines\":{\"_typename\":\"TList\",\"name\":\"TList\",\"arr\":[{\"_typename\":\"TLatex\",\"fUniqueID\":0,\"fBits\":0,\"fName\":\"\",\"fTitle\":\"Azimuthal angle, A side\",\"fTextAngle\":0,\"fTextSize\":0,\"fTextAlign\":0,\"fTextColor\":0,\"fTextFont\":0,\"fX\":0,\"fY\":0,\"fLineColor\":1,\"fLineStyle\":1,\"fLineWidth\":2,\"fLimitFactorSize\":3,\"fOriginSize\":0.0517132878303528}],\"opt\":[\"\"]}}},{\"_typename\":\"TWebSnapshot\",\"fUniqueID\":0,\"fBits\":0,\"fObjectID\":\"\",\"fOption\":\"\",\"fKind\":1,\"fSnapshot\":{\"_typename\":\"TLine\",\"fUniqueID\":0,\"fBits\":9,\"fLineColor\":1,\"fLineStyle\":2,\"fLineWidth\":1,\"fX1\":0,\"fY1\":0.0022,\"fX2\":0,\"fY2\":0.0032}},{\"_typename\":\"TWebSnapshot\",\"fUniqueID\":0,\"fBits\":0,\"fObjectID\":\"\",\"fOption\":\"\",\"fKind\":1,\"fSnapshot\":{\"_typename\":\"TText\",\"fUniqueID\":0,\"fBits\":9,\"fName\":\"\",\"fTitle\":\"0\",\"fTextAngle\":0,\"fTextSize\":0.05,\"fTextAlign\":22,\"fTextColor\":921,\"fTextFont\":0,\"fX\":0.174532925199433,\"fY\":0.00315}},{\"_typename\":\"TWebSnapshot\",\"fUniqueID\":0,\"fBits\":0,\"fObjectID\":\"\",\"fOption\":\"\",\"fKind\":1,\"fSnapshot\":{\"_typename\":\"TLine\",\"fUniqueID\":0,\"fBits\":9,\"fLineColor\":1,\"fLineStyle\":2,\"fLineWidth\":1,\"fX1\":0.349065850398866,\"fY1\":0.0022,\"fX2\":0.349065850398866,\"fY2\":0.0032}},{\"_typename\":\"TWebSnapshot\",\"fUniqueID\":0,\"fBits\":0,\"fObjectID\":\"\",\"fOption\":\"\",\"fKind\":1,\"fSnapshot\":{\"_typename\":\"TText\",\"fUniqueID\":0,\"fBits\":9,\"fName\":\"\",\"fTitle\":\"1\",\"fTextAngle\":0,\"fTextSize\":0.05,\"fTextAlign\":22,\"fTextColor\":921,\"fTextFont\":0,\"fX\":0.523598775598299,\"fY\":0.00315}},{\"_typename\":\"TWebSnapshot\",\"fUniqueID\":0,\"fBits\":0,\"fObjectID\":\"\",\"fOption\":\"\",\"fKind\":1,\"fSnapshot\":{\"_typename\":\"TLine\",\"fUniqueID\":0,\"fBits\":9,\"fLineColor\":1,\"fLineStyle\":2,\"fLineWidth\":1,\"fX1\":0.698131700797732,\"fY1\":0.0022,\"fX2\":0.698131700797732,\"fY2\":0.0032}},{\"_typename\":\"TWebSnapshot\",\"fUniqueID\":0,\"fBits\":0,\"fObjectID\":\"\",\"fOption\":\"\",\"fKind\":1,\"fSnapshot\":{\"_typename\":\"TText\",\"fUniqueID\":0,\"fBits\":9,\"fName\":\"\",\"fTitle\":\"2\",\"fTextAngle\":0,\"fTextSize\":0.05,\"fTextAlign\":22,\"fTextColor\":921,\"fTextFont\":0,\"fX\":0.872664625997165,\"fY\":0.00315}},{\"_typename\":\"TWebSnapshot\",\"fUniqueID\":0,\"fBits\":0,\"fObjectID\":\"\",\"fOption\":\"\",\"fKind\":1,\"fSnapshot\":{\"_typename\":\"TLine\",\"fUniqueID\":0,\"fBits\":9,\"fLineColor\":1,\"fLineStyle\":2,\"fLineWidth\":1,\"fX1\":1.0471975511966,\"fY1\":0.0022,\"fX2\":1.0471975511966,\"fY2\":0.0032}},{\"_typename\":\"TWebSnapshot\",\"fUniqueID\":0,\"fBits\":0,\"fObjectID\":\"\",\"fOption\":\"\",\"fKind\":1,\"fSnapshot\":{\"_typename\":\"TText\",\"fUniqueID\":0,\"fBits\":9,\"fName\":\"\",\"fTitle\":\"3\",\"fTextAngle\":0,\"fTextSize\":0.05,\"fTextAlign\":22,\"fTextColor\":921,\"fTextFont\":0,\"fX\":1.22173047639603,\"fY\":0.00315}},{\"_typename\":\"TWebSnapshot\",\"fUniqueID\":0,\"fBits\":0,\"fObjectID\":\"\",\"fOption\":\"\",\"fKind\":1,\"fSnapshot\":{\"_typename\":\"TLine\",\"fUniqueID\":0,\"fBits\":9,\"fLineColor\":1,\"fLineStyle\":2,\"fLineWidth\":1,\"fX1\":1.39626340159546,\"fY1\":0.0022,\"fX2\":1.39626340159546,\"fY2\":0.0032}},{\"_typename\":\"TWebSnapshot\",\"fUniqueID\":0,\"fBits\":0,\"fObjectID\":\"\",\"fOption\":\"\",\"fKind\":1,\"fSnapshot\":{\"_typename\":\"TText\",\"fUniqueID\":0,\"fBits\":9,\"fName\":\"\",\"fTitle\":\"4\",\"fTextAngle\":0,\"fTextSize\":0.05,\"fTextAlign\":22,\"fTextColor\":921,\"fTextFont\":0,\"fX\":1.5707963267949,\"fY\":0.00315}},{\"_typename\":\"TWebSnapshot\",\"fUniqueID\":0,\"fBits\":0,\"fObjectID\":\"\",\"fOption\":\"\",\"fKind\":1,\"fSnapshot\":{\"_typename\":\"TLine\",\"fUniqueID\":0,\"fBits\":9,\"fLineColor\":1,\"fLineStyle\":2,\"fLineWidth\":1,\"fX1\":1.74532925199433,\"fY1\":0.0022,\"fX2\":1.74532925199433,\"fY2\":0.0032}},{\"_typename\":\"TWebSnapshot\",\"fUniqueID\":0,\"fBits\":0,\"fObjectID\":\"\",\"fOption\":\"\",\"fKind\":1,\"fSnapshot\":{\"_typename\":\"TText\",\"fUniqueID\":0,\"fBits\":9,\"fName\":\"\",\"fTitle\":\"5\",\"fTextAngle\":0,\"fTextSize\":0.05,\"fTextAlign\":22,\"fTextColor\":921,\"fTextFont\":0,\"fX\":1.91986217719376,\"fY\":0.00315}},{\"_typename\":\"TWebSnapshot\",\"fUniqueID\":0,\"fBits\":0,\"fObjectID\":\"\",\"fOption\":\"\",\"fKind\":1,\"fSnapshot\":{\"_typename\":\"TLine\",\"fUniqueID\":0,\"fBits\":9,\"fLineColor\":1,\"fLineStyle\":2,\"fLineWidth\":1,\"fX1\":2.0943951023932,\"fY1\":0.0022,\"fX2\":2.0943951023932,\"fY2\":0.0032}},{\"_typename\":\"TWebSnapshot\",\"fUniqueID\":0,\"fBits\":0,\"fObjectID\":\"\",\"fOption\":\"\",\"fKind\":1,\"fSnapshot\":{\"_typename\":\"TText\",\"fUniqueID\":0,\"fBits\":9,\"fName\":\"\",\"fTitle\":\"6\",\"fTextAngle\":0,\"fTextSize\":0.05,\"fTextAlign\":22,\"fTextColor\":921,\"fTextFont\":0,\"fX\":2.26892802759263,\"fY\":0.00315}},{\"_typename\":\"TWebSnapshot\",\"fUniqueID\":0,\"fBits\":0,\"fObjectID\":\"\",\"fOption\":\"\",\"fKind\":1,\"fSnapshot\":{\"_typename\":\"TLine\",\"fUniqueID\":0,\"fBits\":9,\"fLineColor\":1,\"fLineStyle\":2,\"fLineWidth\":1,\"fX1\":2.44346095279206,\"fY1\":0.0022,\"fX2\":2.44346095279206,\"fY2\":0.0032}},{\"_typename\":\"TWebSnapshot\",\"fUniqueID\":0,\"fBits\":0,\"fObjectID\":\"\",\"fOption\":\"\",\"fKind\":1,\"fSnapshot\":{\"_typename\":\"TText\",\"fUniqueID\":0,\"fBits\":9,\"fName\":\"\",\"fTitle\":\"7\",\"fTextAngle\":0,\"fTextSize\":0.05,\"fTextAlign\":22,\"fTextColor\":921,\"fTextFont\":0,\"fX\":2.61799387799149,\"fY\":0.00315}},{\"_typename\":\"TWebSnapshot\",\"fUniqueID\":0,\"fBits\":0,\"fObjectID\":\"\",\"fOption\":\"\",\"fKind\":1,\"fSnapshot\":{\"_typename\":\"TLine\",\"fUniqueID\":0,\"fBits\":9,\"fLineColor\":1,\"fLineStyle\":2,\"fLineWidth\":1,\"fX1\":2.79252680319093,\"fY1\":0.0022,\"fX2\":2.79252680319093,\"fY2\":0.0032}},{\"_typename\":\"TWebSnapshot\",\"fUniqueID\":0,\"fBits\":0,\"fObjectID\":\"\",\"fOption\":\"\",\"fKind\":1,\"fSnapshot\":{\"_typename\":\"TText\",\"fUniqueID\":0,\"fBits\":9,\"fName\":\"\",\"fTitle\":\"8\",\"fTextAngle\":0,\"fTextSize\":0.05,\"fTextAlign\":22,\"fTextColor\":921,\"fTextFont\":0,\"fX\":2.96705972839036,\"fY\":0.00315}},{\"_typename\":\"TWebSnapshot\",\"fUniqueID\":0,\"fBits\":0,\"fObjectID\":\"\",\"fOption\":\"\",\"fKind\":1,\"fSnapshot\":{\"_typename\":\"TLine\",\"fUniqueID\":0,\"fBits\":9,\"fLineColor\":1,\"fLineStyle\":2,\"fLineWidth\":1,\"fX1\":3.14159265358979,\"fY1\":0.0022,\"fX2\":3.14159265358979,\"fY2\":0.0032}},{\"_typename\":\"TWebSnapshot\",\"fUniqueID\":0,\"fBits\":0,\"fObjectID\":\"\",\"fOption\":\"\",\"fKind\":1,\"fSnapshot\":{\"_typename\":\"TText\",\"fUniqueID\":0,\"fBits\":9,\"fName\":\"\",\"fTitle\":\"9\",\"fTextAngle\":0,\"fTextSize\":0.05,\"fTextAlign\":22,\"fTextColor\":921,\"fTextFont\":0,\"fX\":3.31612557878923,\"fY\":0.00315}},{\"_typename\":\"TWebSnapshot\",\"fUniqueID\":0,\"fBits\":0,\"fObjectID\":\"\",\"fOption\":\"\",\"fKind\":1,\"fSnapshot\":{\"_typename\":\"TLine\",\"fUniqueID\":0,\"fBits\":9,\"fLineColor\":1,\"fLineStyle\":2,\"fLineWidth\":1,\"fX1\":3.49065850398866,\"fY1\":0.0022,\"fX2\":3.49065850398866,\"fY2\":0.0032}},{\"_typename\":\"TWebSnapshot\",\"fUniqueID\":0,\"fBits\":0,\"fObjectID\":\"\",\"fOption\":\"\",\"fKind\":1,\"fSnapshot\":{\"_typename\":\"TText\",\"fUniqueID\":0,\"fBits\":9,\"fName\":\"\",\"fTitle\":\"10\",\"fTextAngle\":0,\"fTextSize\":0.05,\"fTextAlign\":22,\"fTextColor\":921,\"fTextFont\":0,\"fX\":3.66519142918809,\"fY\":0.00315}},{\"_typename\":\"TWebSnapshot\",\"fUniqueID\":0,\"fBits\":0,\"fObjectID\":\"\",\"fOption\":\"\",\"fKind\":1,\"fSnapshot\":{\"_typename\":\"TLine\",\"fUniqueID\":0,\"fBits\":9,\"fLineColor\":1,\"fLineStyle\":2,\"fLineWidth\":1,\"fX1\":3.83972435438752,\"fY1\":0.0022,\"fX2\":3.83972435438752,\"fY2\":0.0032}},{\"_typename\":\"TWebSnapshot\",\"fUniqueID\":0,\"fBits\":0,\"fObjectID\":\"\",\"fOption\":\"\",\"fKind\":1,\"fSnapshot\":{\"_typename\":\"TText\",\"fUniqueID\":0,\"fBits\":9,\"fName\":\"\",\"fTitle\":\"11\",\"fTextAngle\":0,\"fTextSize\":0.05,\"fTextAlign\":22,\"fTextColor\":921,\"fTextFont\":0,\"fX\":4.01425727958696,\"fY\":0.00315}},{\"_typename\":\"TWebSnapshot\",\"fUniqueID\":0,\"fBits\":0,\"fObjectID\":\"\",\"fOption\":\"\",\"fKind\":1,\"fSnapshot\":{\"_typename\":\"TLine\",\"fUniqueID\":0,\"fBits\":9,\"fLineColor\":1,\"fLineStyle\":2,\"fLineWidth\":1,\"fX1\":4.18879020478639,\"fY1\":0.0022,\"fX2\":4.18879020478639,\"fY2\":0.0032}},{\"_typename\":\"TWebSnapshot\",\"fUniqueID\":0,\"fBits\":0,\"fObjectID\":\"\",\"fOption\":\"\",\"fKind\":1,\"fSnapshot\":{\"_typename\":\"TText\",\"fUniqueID\":0,\"fBits\":9,\"fName\":\"\",\"fTitle\":\"12\",\"fTextAngle\":0,\"fTextSize\":0.05,\"fTextAlign\":22,\"fTextColor\":921,\"fTextFont\":0,\"fX\":4.36332312998582,\"fY\":0.00315}},{\"_typename\":\"TWebSnapshot\",\"fUniqueID\":0,\"fBits\":0,\"fObjectID\":\"\",\"fOption\":\"\",\"fKind\":1,\"fSnapshot\":{\"_typename\":\"TLine\",\"fUniqueID\":0,\"fBits\":9,\"fLineColor\":1,\"fLineStyle\":2,\"fLineWidth\":1,\"fX1\":4.53785605518526,\"fY1\":0.0022,\"fX2\":4.53785605518526,\"fY2\":0.0032}},{\"_typename\":\"TWebSnapshot\",\"fUniqueID\":0,\"fBits\":0,\"fObjectID\":\"\",\"fOption\":\"\",\"fKind\":1,\"fSnapshot\":{\"_typename\":\"TText\",\"fUniqueID\":0,\"fBits\":9,\"fName\":\"\",\"fTitle\":\"13\",\"fTextAngle\":0,\"fTextSize\":0.05,\"fTextAlign\":22,\"fTextColor\":921,\"fTextFont\":0,\"fX\":4.71238898038469,\"fY\":0.00315}},{\"_typename\":\"TWebSnapshot\",\"fUniqueID\":0,\"fBits\":0,\"fObjectID\":\"\",\"fOption\":\"\",\"fKind\":1,\"fSnapshot\":{\"_typename\":\"TLine\",\"fUniqueID\":0,\"fBits\":9,\"fLineColor\":1,\"fLineStyle\":2,\"fLineWidth\":1,\"fX1\":4.88692190558412,\"fY1\":0.0022,\"fX2\":4.88692190558412,\"fY2\":0.0032}},{\"_typename\":\"TWebSnapshot\",\"fUniqueID\":0,\"fBits\":0,\"fObjectID\":\"\",\"fOption\":\"\",\"fKind\":1,\"fSnapshot\":{\"_typename\":\"TText\",\"fUniqueID\":0,\"fBits\":9,\"fName\":\"\",\"fTitle\":\"14\",\"fTextAngle\":0,\"fTextSize\":0.05,\"fTextAlign\":22,\"fTextColor\":921,\"fTextFont\":0,\"fX\":5.06145483078356,\"fY\":0.00315}},{\"_typename\":\"TWebSnapshot\",\"fUniqueID\":0,\"fBits\":0,\"fObjectID\":\"\",\"fOption\":\"\",\"fKind\":1,\"fSnapshot\":{\"_typename\":\"TLine\",\"fUniqueID\":0,\"fBits\":9,\"fLineColor\":1,\"fLineStyle\":2,\"fLineWidth\":1,\"fX1\":5.23598775598299,\"fY1\":0.0022,\"fX2\":5.23598775598299,\"fY2\":0.0032}},{\"_typename\":\"TWebSnapshot\",\"fUniqueID\":0,\"fBits\":0,\"fObjectID\":\"\",\"fOption\":\"\",\"fKind\":1,\"fSnapshot\":{\"_typename\":\"TText\",\"fUniqueID\":0,\"fBits\":9,\"fName\":\"\",\"fTitle\":\"15\",\"fTextAngle\":0,\"fTextSize\":0.05,\"fTextAlign\":22,\"fTextColor\":921,\"fTextFont\":0,\"fX\":5.41052068118242,\"fY\":0.00315}},{\"_typename\":\"TWebSnapshot\",\"fUniqueID\":0,\"fBits\":0,\"fObjectID\":\"\",\"fOption\":\"\",\"fKind\":1,\"fSnapshot\":{\"_typename\":\"TLine\",\"fUniqueID\":0,\"fBits\":9,\"fLineColor\":1,\"fLineStyle\":2,\"fLineWidth\":1,\"fX1\":5.58505360638185,\"fY1\":0.0022,\"fX2\":5.58505360638185,\"fY2\":0.0032}},{\"_typename\":\"TWebSnapshot\",\"fUniqueID\":0,\"fBits\":0,\"fObjectID\":\"\",\"fOption\":\"\",\"fKind\":1,\"fSnapshot\":{\"_typename\":\"TText\",\"fUniqueID\":0,\"fBits\":9,\"fName\":\"\",\"fTitle\":\"16\",\"fTextAngle\":0,\"fTextSize\":0.05,\"fTextAlign\":22,\"fTextColor\":921,\"fTextFont\":0,\"fX\":5.75958653158129,\"fY\":0.00315}},{\"_typename\":\"TWebSnapshot\",\"fUniqueID\":0,\"fBits\":0,\"fObjectID\":\"\",\"fOption\":\"\",\"fKind\":1,\"fSnapshot\":{\"_typename\":\"TLine\",\"fUniqueID\":0,\"fBits\":9,\"fLineColor\":1,\"fLineStyle\":2,\"fLineWidth\":1,\"fX1\":5.93411945678072,\"fY1\":0.0022,\"fX2\":5.93411945678072,\"fY2\":0.0032}},{\"_typename\":\"TWebSnapshot\",\"fUniqueID\":0,\"fBits\":0,\"fObjectID\":\"\",\"fOption\":\"\",\"fKind\":1,\"fSnapshot\":{\"_typename\":\"TText\",\"fUniqueID\":0,\"fBits\":9,\"fName\":\"\",\"fTitle\":\"17\",\"fTextAngle\":0,\"fTextSize\":0.05,\"fTextAlign\":22,\"fTextColor\":921,\"fTextFont\":0,\"fX\":6.10865238198015,\"fY\":0.00315}},{\"_typename\":\"TWebSnapshot\",\"fUniqueID\":0,\"fBits\":0,\"fObjectID\":\"\",\"fOption\":\"\",\"fKind\":1,\"fSnapshot\":{\"_typename\":\"TLine\",\"fUniqueID\":0,\"fBits\":9,\"fLineColor\":1,\"fLineStyle\":2,\"fLineWidth\":1,\"fX1\":6.28318530717959,\"fY1\":0.0022,\"fX2\":6.28318530717959,\"fY2\":0.0032}}]},{\"_typename\":\"TWebSnapshot\",\"fUniqueID\":0,\"fBits\":0,\"fObjectID\":\"\",\"fOption\":\"\",\"fKind\":1,\"fSnapshot\":{\"_typename\":\"TLegend\",\"fUniqueID\":0,\"fBits\":8,\"fLineColor\":1,\"fLineStyle\":1,\"fLineWidth\":1,\"fFillColor\":0,\"fFillStyle\":1001,\"fX1\":0,\"fY1\":0,\"fX2\":0.3,\"fY2\":0.15,\"fX1NDC\":0,\"fY1NDC\":0,\"fX2NDC\":0.3,\"fY2NDC\":0.15,\"fBorderSize\":1,\"fInit\":1,\"fShadowColor\":1,\"fCornerRadius\":0,\"fOption\":\"brNDC\",\"fName\":\"TPave\",\"fTextAngle\":0,\"fTextSize\":0,\"fTextAlign\":12,\"fTextColor\":1,\"fTextFont\":42,\"fPrimitives\":{\"_typename\":\"TList\",\"name\":\"TList\",\"arr\":[{\"_typename\":\"TLegendEntry\",\"fUniqueID\":0,\"fBits\":0,\"fTextAngle\":0,\"fTextSize\":0,\"fTextAlign\":0,\"fTextColor\":0,\"fTextFont\":42,\"fLineColor\":1,\"fLineStyle\":1,\"fLineWidth\":1,\"fFillColor\":0,\"fFillStyle\":0,\"fMarkerColor\":1,\"fMarkerStyle\":21,\"fMarkerSize\":1,\"fObject\":null,\"fLabel\":\"Normalized to integral\",\"fOption\":\"h\"},{\"_typename\":\"TLegendEntry\",\"fUniqueID\":0,\"fBits\":0,\"fTextAngle\":0,\"fTextSize\":0,\"fTextAlign\":0,\"fTextColor\":0,\"fTextFont\":42,\"fLineColor\":600,\"fLineStyle\":1,\"fLineWidth\":3,\"fFillColor\":0,\"fFillStyle\":0,\"fMarkerColor\":1,\"fMarkerStyle\":21,\"fMarkerSize\":1,\"fObject\":{\"$ref\":19},\"fLabel\":\"LHC23o_536401\",\"fOption\":\"l\"},{\"_typename\":\"TLegendEntry\",\"fUniqueID\":0,\"fBits\":0,\"fTextAngle\":0,\"fTextSize\":0,\"fTextAlign\":0,\"fTextColor\":0,\"fTextFont\":42,\"fLineColor\":632,\"fLineStyle\":2,\"fLineWidth\":3,\"fFillColor\":0,\"fFillStyle\":0,\"fMarkerColor\":1,\"fMarkerStyle\":21,\"fMarkerSize\":1,\"fObject\":{\"$ref\":25},\"fLabel\":\"LHC23k4e_536401\",\"fOption\":\"l\"}],\"opt\":[\"h\",\"l\",\"l\"]},\"fEntrySeparation\":0.1,\"fMargin\":0.25,\"fNColumns\":1,\"fColumnSeparation\":0}}],\"fScripts\":\"\",\"fHighlightConnect\":false,\"fFixedSize\":false});\n",
       "   Core.settings.HandleKeys = false;\n",
       "   Core.draw(\"root_plot_1710853427003\", obj, \"\");\n",
       "}\n",
       "\n",
       "function script_load_root_plot_1710853427003(src, on_error) {\n",
       "    let script = document.createElement('script');\n",
       "    script.src = src;\n",
       "    script.onload = function() { display_root_plot_1710853427003(JSROOT); };\n",
       "    script.onerror = function() { script.remove(); on_error(); };\n",
       "    document.head.appendChild(script);\n",
       "}\n",
       "\n",
       "if (typeof requirejs !== 'undefined') {\n",
       "\n",
       "    // We are in jupyter notebooks, use require.js which should be configured already\n",
       "    requirejs.config({\n",
       "       paths: { 'JSRootCore' : [ 'build/jsroot', 'https://root.cern/js/7.4.3/build/jsroot', 'https://jsroot.gsi.de/7.4.3/build/jsroot' ] }\n",
       "    })(['JSRootCore'],  function(Core) {\n",
       "       display_root_plot_1710853427003(Core);\n",
       "    });\n",
       "\n",
       "} else if (typeof JSROOT !== 'undefined') {\n",
       "\n",
       "   // JSROOT already loaded, just use it\n",
       "   display_root_plot_1710853427003(JSROOT);\n",
       "\n",
       "} else {\n",
       "\n",
       "    // We are in jupyterlab without require.js, directly loading jsroot\n",
       "    // Jupyterlab might be installed in a different base_url so we need to know it.\n",
       "    try {\n",
       "        var base_url = JSON.parse(document.getElementById('jupyter-config-data').innerHTML).baseUrl;\n",
       "    } catch(_) {\n",
       "        var base_url = '/';\n",
       "    }\n",
       "\n",
       "    // Try loading a local version of requirejs and fallback to cdn if not possible.\n",
       "    script_load_root_plot_1710853427003(base_url + 'static/build/jsroot.js', function(){\n",
       "        console.error('Fail to load JSROOT locally, please check your jupyter_notebook_config.py file');\n",
       "        script_load_root_plot_1710853427003('https://root.cern/js/7.4.3/build/jsroot.js', function(){\n",
       "            document.getElementById(\"root_plot_1710853427003\").innerHTML = \"Failed to load JSROOT\";\n",
       "        });\n",
       "    });\n",
       "}\n",
       "\n",
       "</script>\n"
      ],
      "text/plain": [
       "<IPython.core.display.HTML object>"
      ]
     },
     "metadata": {},
     "output_type": "display_data"
    }
   ],
   "source": [
    "%jsroot on\n",
    "objectName=\"hPhiAside\"\n",
    "if checkIfExists(rootDataFile,objectName):\n",
    "    [hist,legend,canvas,pad1] = drawHistograms(objectName,rootDataFile,\n",
    "                                               normalize=True,legend=True,legendNames=runList,pads=False,\n",
    "                                               maxColumns=2,drawOption=\"SAME L\",yAxisRange=[2.2e-3,3.2e-3],\n",
    "                                               grid=True)\n",
    "    #Sector boundatries\n",
    "    pad1.cd()\n",
    "    sectorBoundary = ROOT.TLine(0,hist[0].GetMinimum(),0,hist[0].GetMaximum())\n",
    "    sectorBoundary.SetLineStyle(2)\n",
    "    sectorNum = ROOT.TText(.5,.5,\"test\")\n",
    "    sectorNum.SetTextAlign(22)\n",
    "    sectorNum.SetTextColor(ROOT.kGray+1)\n",
    "    sectorNum.SetTextFont(0)\n",
    "    for j in range(19):\n",
    "        sectorBoundary.DrawLine((j*2*math.pi)/18,hist[0].GetMinimum(),(j*2*math.pi)/18,hist[0].GetMaximum())\n",
    "        if j < 18 : sectorNum.DrawText(((j+0.5)*2*math.pi)/18,hist[0].GetMaximum()*0.95+hist[0].GetMinimum()*0.05,str(j))\n",
    "    pad1.SetGridy(1)\n",
    "    canvas.SetCanvasSize(1200,400)\n",
    "    updateColors(hist,0)\n",
    "    canvas.Draw()"
   ]
  },
  {
   "cell_type": "markdown",
   "id": "6305738a",
   "metadata": {},
   "source": [
    "**Phi distribution C-side tracks:**"
   ]
  },
  {
   "cell_type": "code",
   "execution_count": 199,
   "id": "347e4057",
   "metadata": {},
   "outputs": [
    {
     "data": {
      "text/html": [
       "\n",
       "\n",
       "<div id=\"root_plot_1710853427144\" style=\"width: 800px; height: 600px; position: relative\">\n",
       "</div>\n",
       "\n",
       "<script>\n",
       "\n",
       "function display_root_plot_1710853427144(Core) {\n",
       "   let obj = Core.parse({\"_typename\":\"TCanvasWebSnapshot\",\"fUniqueID\":0,\"fBits\":0,\"fObjectID\":\"\",\"fOption\":\"\",\"fKind\":3,\"fSnapshot\":{\"_typename\":\"TCanvas\",\"fUniqueID\":0,\"fBits\":3342344,\"fLineColor\":1,\"fLineStyle\":1,\"fLineWidth\":1,\"fFillColor\":0,\"fFillStyle\":1001,\"fLeftMargin\":0.1,\"fRightMargin\":0.1,\"fBottomMargin\":0.1,\"fTopMargin\":0.1,\"fXfile\":2,\"fYfile\":2,\"fAfile\":1,\"fXstat\":0.99,\"fYstat\":0.99,\"fAstat\":2,\"fFrameFillColor\":0,\"fFrameLineColor\":1,\"fFrameFillStyle\":1001,\"fFrameLineStyle\":1,\"fFrameLineWidth\":1,\"fFrameBorderSize\":1,\"fFrameBorderMode\":0,\"fX1\":0,\"fY1\":0,\"fX2\":1,\"fY2\":1,\"fXtoAbsPixelk\":5e-5,\"fXtoPixelk\":5e-5,\"fXtoPixel\":1200,\"fYtoAbsPixelk\":400.00005,\"fYtoPixelk\":400.00005,\"fYtoPixel\":-400,\"fUtoAbsPixelk\":5e-5,\"fUtoPixelk\":5e-5,\"fUtoPixel\":1200,\"fVtoAbsPixelk\":400.00005,\"fVtoPixelk\":400,\"fVtoPixel\":-400,\"fAbsPixeltoXk\":0,\"fPixeltoXk\":0,\"fPixeltoX\":8.33333333333333e-4,\"fAbsPixeltoYk\":1,\"fPixeltoYk\":0,\"fPixeltoY\":-0.0025,\"fXlowNDC\":0,\"fYlowNDC\":0,\"fXUpNDC\":1,\"fYUpNDC\":1,\"fWNDC\":1,\"fHNDC\":1,\"fAbsXlowNDC\":0,\"fAbsYlowNDC\":0,\"fAbsWNDC\":1,\"fAbsHNDC\":1,\"fUxmin\":0,\"fUymin\":0,\"fUxmax\":1,\"fUymax\":1,\"fTheta\":30,\"fPhi\":30,\"fAspectRatio\":0,\"fNumber\":0,\"fTickx\":0,\"fTicky\":0,\"fLogx\":0,\"fLogy\":0,\"fLogz\":0,\"fPadPaint\":0,\"fCrosshair\":0,\"fCrosshairPos\":0,\"fBorderSize\":2,\"fBorderMode\":0,\"fModified\":false,\"fGridx\":false,\"fGridy\":false,\"fAbsCoord\":false,\"fEditable\":true,\"fFixedAspectRatio\":false,\"fPrimitives\":{\"_typename\":\"TList\",\"name\":\"TList\",\"arr\":[],\"opt\":[]},\"fExecs\":null,\"fName\":\"hPhiCside\",\"fTitle\":\"hPhiCside\",\"fNumPaletteColor\":0,\"fNextPaletteColor\":0,\"fDISPLAY\":\"$DISPLAY\",\"fDoubleBuffer\":0,\"fRetained\":true,\"fXsizeUser\":0,\"fYsizeUser\":0,\"fXsizeReal\":20,\"fYsizeReal\":15,\"fWindowTopX\":0,\"fWindowTopY\":0,\"fWindowWidth\":0,\"fWindowHeight\":0,\"fCw\":1200,\"fCh\":400,\"fCatt\":{\"_typename\":\"TAttCanvas\",\"fXBetween\":2,\"fYBetween\":2,\"fTitleFromTop\":1.2,\"fXdate\":0.2,\"fYdate\":0.3,\"fAdate\":1},\"kMoveOpaque\":true,\"kResizeOpaque\":true,\"fHighLightColor\":2,\"fBatch\":true,\"kShowEventStatus\":false,\"kAutoExec\":true,\"kMenuBar\":true},\"fActive\":false,\"fReadOnly\":true,\"fWithoutPrimitives\":false,\"fHasExecs\":false,\"fPrimitives\":[{\"_typename\":\"TWebSnapshot\",\"fUniqueID\":0,\"fBits\":0,\"fObjectID\":\"\",\"fOption\":\"\",\"fKind\":4,\"fSnapshot\":{\"_typename\":\"TWebPainting\",\"fUniqueID\":0,\"fBits\":0,\"fOper\":\"0:255,255,255;1:0,0,0;2:255,0,0;3:0,255,0;4:0,0,255;5:255,255,0;6:255,0,255;7:0,255,255;8:89,211,84;9:89,84,216;10:254,254,254;11:192,182,172;12:76,76,76;13:102,102,102;14:127,127,127;15:153,153,153;16:178,178,178;17:204,204,204;18:229,229,229;19:242,242,242;20:204,198,170;21:204,198,170;22:193,191,168;23:186,181,163;24:178,165,150;25:183,163,155;26:173,153,140;27:155,142,130;28:135,102,86;29:175,206,198;30:132,193,163;31:137,168,160;32:130,158,140;33:173,188,198;34:122,142,153;35:117,137,145;36:104,130,150;37:109,122,132;38:124,153,209;39:127,127,155;40:170,165,191;41:211,206,135;42:221,186,135;43:188,158,130;44:198,153,124;45:191,130,119;46:206,94,96;47:170,142,147;48:165,119,122;49:147,104,112;50:211,89,84;51:146,0,255;52:122,0,255;53:98,0,255;54:74,0,255;55:51,0,255;56:27,0,255;57:3,0,255;58:0,20,255;59:0,44,255;60:0,68,255;61:0,91,255;62:0,115,255;63:0,139,255;64:0,163,255;65:0,187,255;66:0,210,255;67:0,234,255;68:0,255,251;69:0,255,227;70:0,255,204;71:0,255,180;72:0,255,156;73:0,255,132;74:0,255,108;75:0,255,85;76:0,255,61;77:0,255,37;78:0,255,13;79:10,255,0;80:34,255,0;81:57,255,0;82:81,255,0;83:105,255,0;84:129,255,0;85:153,255,0;86:176,255,0;87:200,255,0;88:224,255,0;89:248,255,0;90:255,238,0;91:255,214,0;92:255,190,0;93:255,166,0;94:255,142,0;95:255,119,0;96:255,95,0;97:255,71,0;98:255,47,0;99:255,23,0;110:254,254,254;201:91,91,91;202:122,122,122;203:183,183,183;204:214,214,214;205:137,15,15;206:183,20,20;207:234,71,71;208:239,117,117;209:15,137,15;210:20,183,20;211:71,234,71;212:117,239,117;213:15,15,137;214:20,20,183;215:71,71,234;216:117,117,239;217:137,137,15;218:183,183,20;219:234,234,71;220:239,239,117;221:137,15,137;222:183,20,183;223:234,71,234;224:239,117,239;225:15,137,137;226:20,183,183;227:71,234,234;228:117,239,239;390:255,255,204;391:255,255,153;392:204,204,153;393:255,255,102;394:204,204,102;395:153,153,102;396:255,255,51;397:204,204,51;398:153,153,51;399:102,102,51;400:255,255,0;401:204,204,0;402:153,153,0;403:102,102,0;404:51,51,0;406:204,255,204;407:153,255,153;408:153,204,153;409:102,255,102;410:102,204,102;411:102,153,102;412:51,255,51;413:51,204,51;414:51,153,51;415:51,102,51;416:0,255,0;417:0,204,0;418:0,153,0;419:0,102,0;420:0,51,0;422:204,255,255;423:153,255,255;424:153,204,204;425:102,255,255;426:102,204,204;427:102,153,153;428:51,255,255;429:51,204,204;430:51,153,153;431:51,102,102;432:0,255,255;433:0,204,204;434:0,153,153;435:0,102,102;436:0,51,51;590:204,204,255;591:153,153,255;592:153,153,204;593:102,102,255;594:102,102,204;595:102,102,153;596:51,51,255;597:51,51,204;598:51,51,153;599:51,51,102;600:0,0,255;601:0,0,204;602:0,0,153;603:0,0,102;604:0,0,51;606:255,204,255;607:255,153,255;608:204,153,204;609:255,102,255;610:204,102,204;611:153,102,153;612:255,51,255;613:204,51,204;614:153,51,153;615:102,51,102;616:255,0,255;617:204,0,204;618:153,0,153;619:102,0,102;620:51,0,51;622:255,204,204;623:255,153,153;624:204,153,153;625:255,102,102;626:204,102,102;627:153,102,102;628:255,51,51;629:204,51,51;630:153,51,51;631:102,51,51;632:255,0,0;633:204,0,0;634:153,0,0;635:102,0,0;636:51,0,0;791:255,204,153;792:204,153,102;793:153,102,51;794:153,102,0;795:204,153,51;796:255,204,102;797:255,153,0;798:255,204,51;799:204,153,0;800:255,204,0;801:255,153,51;802:204,102,0;803:102,51,0;804:153,51,0;805:204,102,51;806:255,153,102;807:255,102,0;808:255,102,51;809:204,51,0;810:255,51,0;811:153,255,51;812:102,204,0;813:51,102,0;814:51,153,0;815:102,204,51;816:153,255,102;817:102,255,0;818:102,255,51;819:51,204,0;820:51,255,0;821:204,255,153;822:153,204,102;823:102,153,51;824:102,153,0;825:153,204,51;826:204,255,102;827:153,255,0;828:204,255,51;829:153,204,0;830:204,255,0;831:153,255,204;832:102,204,153;833:51,153,102;834:0,153,102;835:51,204,153;836:102,255,204;837:0,255,102;838:51,255,204;839:0,204,153;840:0,255,204;841:51,255,153;842:0,204,102;843:0,102,51;844:0,153,51;845:51,204,102;846:102,255,153;847:0,255,153;848:51,255,102;849:0,204,51;850:0,255,51;851:153,204,255;852:102,153,204;853:51,102,153;854:0,51,153;855:51,102,204;856:102,153,255;857:0,102,255;858:51,102,255;859:0,51,204;860:0,51,255;861:51,153,255;862:0,102,204;863:0,51,102;864:0,102,153;865:51,153,204;866:102,204,255;867:0,153,255;868:51,204,255;869:0,153,204;870:0,204,255;871:204,153,255;872:153,102,204;873:102,51,153;874:102,0,153;875:153,51,204;876:204,102,255;877:153,0,255;878:204,51,255;879:153,0,204;880:204,0,255;881:153,51,255;882:102,0,204;883:51,0,102;884:51,0,153;885:102,51,204;886:153,102,255;887:102,0,255;888:102,51,255;889:51,0,204;890:51,0,255;891:255,51,153;892:204,0,102;893:102,0,51;894:153,0,51;895:204,51,102;896:255,102,153;897:255,0,102;898:255,51,102;899:204,0,51;900:255,0,51;901:255,153,204;902:204,102,153;903:153,51,102;904:153,0,102;905:204,51,153;906:255,102,204;907:255,0,153;908:204,0,153;909:255,51,204;910:255,0,153;920:204,204,204;921:153,153,153;922:102,102,102;923:51,51,51;924:53,42,134;925:51,44,137;926:50,45,140;927:49,47,143;928:48,48,146;929:46,50,148;930:45,51,151;931:44,53,154;932:43,55,157;933:42,56,160;934:40,58,162;935:39,59,165;936:38,61,168;937:37,63,171;938:35,64,174;939:34,66,176;940:33,67,179;941:32,69,182;942:31,71,185;943:29,72,187;944:28,74,190;945:27,75,193;946:26,77,196;947:24,79,199;948:23,80,201;949:22,82,204;950:21,83,207;951:19,85,210;952:18,86,213;953:17,88,215;954:16,90,218;955:15,91,221;956:15,92,221;957:15,94,220;958:15,95,220;959:15,96,220;960:15,97,220;961:15,98,220;962:16,99,219;963:16,100,219;964:16,102,219;965:16,103,219;966:16,104,218;967:16,105,218;968:17,106,218;969:17,107,218;970:17,109,217;971:17,110,217;972:17,111,217;973:17,112,217;974:17,113,216;975:18,114,216;976:18,115,216;977:18,117,216;978:18,118,215;979:18,119,215;980:18,120,215;981:18,121,215;982:19,122,215;983:19,123,214;984:19,125,214;985:19,126,214;986:19,127,214;987:19,128,213;988:19,129,213;989:19,130,213;990:18,131,212;991:18,132,212;992:17,134,211;993:17,135,211;994:16,136,211;995:16,137,210;996:15,138,210;997:15,139,210;998:15,140,209;999:14,141,209;1000:14,142,208;1001:13,143,208;1002:13,145,208;1003:12,146,207;1004:12,147,207;1005:12,148,207;1006:11,149,206;1007:11,150,206;1008:10,151,205;1009:10,152,205;1010:9,153,205;1011:9,154,204;1012:8,155,204;1013:8,157,204;1014:8,158,203;1015:7,159,203;1016:7,160,202;1017:6,161,202;1018:6,162,202;1019:5,163,201;1020:7,164,200;1021:8,164,199;1022:9,165,198;1023:10,166,197;1024:12,166,195;1025:13,167,194;1026:14,167,193;1027:15,168,192;1028:17,169,191;1029:18,169,189;1030:19,170,188;1031:20,170,187;1032:22,171,186;1033:23,172,185;1034:24,172,184;1035:25,173,182;1036:27,173,181;1037:28,174,180;1038:29,175,179;1039:30,175,178;1040:32,176,176;1041:33,176,175;1042:34,177,174;1043:35,178,173;1044:37,178,172;1045:38,179,170;1046:39,180,169;1047:40,180,168;1048:42,181,167;1049:43,181,166;1050:44,182,165;1051:45,183,163;1052:48,183,162;1053:51,183,161;1054:54,183,159;1055:57,184,158;1056:59,184,156;1057:62,184,155;1058:65,184,154;1059:68,185,152;1060:71,185,151;1061:73,185,149;1062:76,185,148;1063:79,186,146;1064:82,186,145;1065:84,186,144;1066:87,186,142;1067:90,187,141;1068:93,187,139;1069:96,187,138;1070:98,187,137;1071:101,188,135;1072:104,188,134;1073:107,188,132;1074:110,188,131;1075:112,189,130;1076:115,189,128;1077:118,189,127;1078:121,189,125;1079:124,190,124;1080:126,190,123;1081:129,190,121;1082:132,190,120;1083:135,191,118;1084:137,190,117;1085:139,190,117;1086:142,190,116;1087:144,190,115;1088:146,190,114;1089:148,190,113;1090:151,190,112;1091:153,190,111;1092:155,189,110;1093:158,189,109;1094:160,189,108;1095:162,189,107;1096:165,189,106;1097:167,189,105;1098:169,189,104;1099:171,188,104;1100:174,188,103;1101:176,188,102;1102:178,188,101;1103:181,188,100;1104:183,188,99;1105:185,188,98;1106:188,188,97;1107:190,187,96;1108:192,187,95;1109:194,187,94;1110:197,187,93;1111:199,187,92;1112:201,187,92;1113:204,187,91;1114:206,186,90;1115:208,186,89;1116:210,187,88;1117:211,187,86;1118:212,188,85;1119:214,188,84;1120:215,188,83;1121:217,189,81;1122:218,189,80;1123:220,190,79;1124:221,190,78;1125:222,191,77;1126:224,191,75;1127:225,191,74;1128:227,192,73;1129:228,192,72;1130:229,193,70;1131:231,193,69;1132:232,194,68;1133:234,194,67;1134:235,194,66;1135:236,195,64;1136:238,195,63;1137:239,196,62;1138:241,196,61;1139:242,197,59;1140:244,197,58;1141:245,197,57;1142:246,198,56;1143:248,198,55;1144:249,199,53;1145:251,199,52;1146:252,200,51;1147:253,200,50;1148:253,202,49;1149:253,203,47;1150:253,205,46;1151:253,206,45;1152:253,208,44;1153:252,209,43;1154:252,211,42;1155:252,213,41;1156:252,214,39;1157:252,216,38;1158:252,217,37;1159:252,219,36;1160:251,220,35;1161:251,222,34;1162:251,224,33;1163:251,225,31;1164:251,227,30;1165:251,228,29;1166:250,230,28;1167:250,231,27;1168:250,233,26;1169:250,235,25;1170:250,236,23;1171:250,238,22;1172:250,239,21;1173:249,241,20;1174:249,242,19;1175:249,244,18;1176:249,246,17;1177:249,247,16;1178:249,249,14;1179:0,0,99;1180:0,1,100;1181:0,3,101;1182:0,4,103;1183:0,6,104;1184:0,7,105;1185:0,9,107;1186:1,10,108;1187:1,12,110;1188:1,13,111;1189:1,15,112;1190:1,17,114;1191:1,18,115;1192:2,20,117;1193:2,21,118;1194:2,23,119;1195:2,24,121;1196:2,26,122;1197:2,27,123;1198:3,29,125;1199:3,30,126;1200:3,32,128;1201:3,34,129;1202:3,35,130;1203:3,37,132;1204:4,38,133;1205:4,40,135;1206:4,41,136;1207:4,43,137;1208:4,44,139;1209:4,46,140;1210:5,48,142;1211:5,50,143;1212:5,52,145;1213:5,55,147;1214:6,57,149;1215:6,59,150;1216:6,62,152;1217:7,64,154;1218:7,67,156;1219:7,69,157;1220:8,71,159;1221:8,74,161;1222:8,76,163;1223:9,78,164;1224:9,81,166;1225:9,83,168;1226:10,86,170;1227:10,88,171;1228:10,90,173;1229:10,93,175;1230:11,95,177;1231:11,97,178;1232:11,100,180;1233:12,102,182;1234:12,105,184;1235:12,107,185;1236:13,109,187;1237:13,112,189;1238:13,114,191;1239:14,116,192;1240:14,119,194;1241:14,121,196;1242:15,124,198;1243:15,126,198;1244:16,128,198;1245:16,130,198;1246:17,132,198;1247:18,134,198;1248:18,136,198;1249:19,138,198;1250:20,141,198;1251:20,143,198;1252:21,145,198;1253:21,147,199;1254:22,149,199;1255:23,151,199;1256:23,153,199;1257:24,155,199;1258:25,158,199;1259:25,160,199;1260:26,162,199;1261:26,164,199;1262:27,166,199;1263:28,168,199;1264:28,170,200;1265:29,172,200;1266:30,175,200;1267:30,177,200;1268:31,179,200;1269:31,181,200;1270:32,183,200;1271:33,185,200;1272:33,187,200;1273:34,189,200;1274:35,192,201;1275:37,192,197;1276:39,192,194;1277:41,193,190;1278:43,193,187;1279:45,194,183;1280:47,194,180;1281:49,195,176;1282:51,195,173;1283:53,195,169;1284:55,196,166;1285:58,196,162;1286:60,197,159;1287:62,197,155;1288:64,198,152;1289:66,198,148;1290:68,199,145;1291:70,199,142;1292:72,199,138;1293:74,200,135;1294:76,200,131;1295:78,201,128;1296:81,201,124;1297:83,202,121;1298:85,202,117;1299:87,202,114;1300:89,203,110;1301:91,203,107;1302:93,204,103;1303:95,204,100;1304:97,205,96;1305:99,205,93;1306:102,206,90;1307:104,206,87;1308:107,207,85;1309:110,207,83;1310:113,208,81;1311:116,209,79;1312:119,209,77;1313:122,210,75;1314:125,211,73;1315:128,211,70;1316:131,212,68;1317:134,212,66;1318:137,213,64;1319:140,214,62;1320:143,214,60;1321:146,215,58;1322:149,216,56;1323:151,216,53;1324:154,217,51;1325:157,217,49;1326:160,218,47;1327:163,219,45;1328:166,219,43;1329:169,220,41;1330:172,221,39;1331:175,221,36;1332:178,222,34;1333:181,222,32;1334:184,223,30;1335:187,224,28;1336:190,224,26;1337:193,225,24;1338:196,226,22;1339:196,221,21;1340:196,217,21;1341:197,213,21;1342:197,209,20;1343:197,205,20;1344:198,201,20;1345:198,197,20;1346:199,193,19;1347:199,189,19;1348:199,185,19;1349:200,181,18;1350:200,177,18;1351:200,173,18;1352:201,169,18;1353:201,165,17;1354:202,161,17;1355:202,157,17;1356:202,153,16;1357:203,149,16;1358:203,145,16;1359:203,141,16;1360:204,137,15;1361:204,133,15;1362:205,129,15;1363:205,125,14;1364:205,121,14;1365:206,117,14;1366:206,113,14;1367:206,109,13;1368:207,105,13;1369:207,101,13;1370:208,97,13;1371:207,94,12;1372:207,91,12;1373:207,89,12;1374:206,86,12;1375:206,84,12;1376:206,81,12;1377:206,79,11;1378:205,76,11;1379:205,74,11;1380:205,71,11;1381:204,69,11;1382:204,66,11;1383:204,64,10;1384:204,61,10;1385:203,59,10;1386:203,56,10;1387:203,53,10;1388:202,51,10;1389:202,48,10;1390:202,46,9;1391:202,43,9;1392:201,41,9;1393:201,38,9;1394:201,36,9;1395:200,33,9;1396:200,31,8;1397:200,28,8;1398:200,26,8;1399:199,23,8;1400:199,21,8;1401:199,18,8;1402:199,16,8;1403:196,15,7;1404:193,15,7;1405:190,14,7;1406:187,14,7;1407:185,13,7;1408:182,13,6;1409:179,12,6;1410:176,12,6;1411:173,11,6;1412:171,11,6;1413:168,10,5;1414:165,10,5;1415:162,9,5;1416:160,9,5;1417:157,8,5;1418:154,8,5;1419:151,7,4;1420:148,7,4;1421:146,6,4;1422:143,6,4;1423:140,5,4;1424:137,5,3;1425:135,4,3;1426:132,4,3;1427:129,3,3;1428:126,3,3;1429:123,2,2;1430:121,2,2;1431:118,1,2;1432:115,1,2;1433:112,0,2\",\"fBuf\":[924,925,926,927,928,929,930,931,932,933,934,935,936,937,938,939,940,941,942,943,944,945,946,947,948,949,950,951,952,953,954,955,956,957,958,959,960,961,962,963,964,965,966,967,968,969,970,971,972,973,974,975,976,977,978,979,980,981,982,983,984,985,986,987,988,989,990,991,992,993,994,995,996,997,998,999,1000,1001,1002,1003,1004,1005,1006,1007,1008,1009,1010,1011,1012,1013,1014,1015,1016,1017,1018,1019,1020,1021,1022,1023,1024,1025,1026,1027,1028,1029,1030,1031,1032,1033,1034,1035,1036,1037,1038,1039,1040,1041,1042,1043,1044,1045,1046,1047,1048,1049,1050,1051,1052,1053,1054,1055,1056,1057,1058,1059,1060,1061,1062,1063,1064,1065,1066,1067,1068,1069,1070,1071,1072,1073,1074,1075,1076,1077,1078,1079,1080,1081,1082,1083,1084,1085,1086,1087,1088,1089,1090,1091,1092,1093,1094,1095,1096,1097,1098,1099,1100,1101,1102,1103,1104,1105,1106,1107,1108,1109,1110,1111,1112,1113,1114,1115,1116,1117,1118,1119,1120,1121,1122,1123,1124,1125,1126,1127,1128,1129,1130,1131,1132,1133,1134,1135,1136,1137,1138,1139,1140,1141,1142,1143,1144,1145,1146,1147,1148,1149,1150,1151,1152,1153,1154,1155,1156,1157,1158,1159,1160,1161,1162,1163,1164,1165,1166,1167,1168,1169,1170,1171,1172,1173,1174,1175,1176,1177,1178]}},{\"_typename\":\"TWebSnapshot\",\"fUniqueID\":0,\"fBits\":0,\"fObjectID\":\"\",\"fOption\":\"\",\"fKind\":5,\"fSnapshot\":{\"_typename\":\"TStyle\",\"fUniqueID\":0,\"fBits\":0,\"fName\":\"Modern\",\"fTitle\":\"Modern Style\",\"fLineColor\":1,\"fLineStyle\":1,\"fLineWidth\":1,\"fFillColor\":19,\"fFillStyle\":1001,\"fMarkerColor\":1,\"fMarkerStyle\":1,\"fMarkerSize\":1,\"fTextAngle\":0,\"fTextSize\":0.05,\"fTextAlign\":11,\"fTextColor\":1,\"fTextFont\":62,\"fXaxis\":{\"_typename\":\"TAttAxis\",\"fNdivisions\":510,\"fAxisColor\":1,\"fLabelColor\":1,\"fLabelFont\":42,\"fLabelOffset\":0.005,\"fLabelSize\":0.035,\"fTickLength\":0.03,\"fTitleOffset\":1,\"fTitleSize\":0.035,\"fTitleColor\":1,\"fTitleFont\":42},\"fYaxis\":{\"_typename\":\"TAttAxis\",\"fNdivisions\":510,\"fAxisColor\":1,\"fLabelColor\":1,\"fLabelFont\":42,\"fLabelOffset\":0.005,\"fLabelSize\":0.035,\"fTickLength\":0.03,\"fTitleOffset\":0,\"fTitleSize\":0.035,\"fTitleColor\":1,\"fTitleFont\":42},\"fZaxis\":{\"_typename\":\"TAttAxis\",\"fNdivisions\":510,\"fAxisColor\":1,\"fLabelColor\":1,\"fLabelFont\":42,\"fLabelOffset\":0.005,\"fLabelSize\":0.035,\"fTickLength\":0.03,\"fTitleOffset\":1,\"fTitleSize\":0.035,\"fTitleColor\":1,\"fTitleFont\":42},\"fBarWidth\":1,\"fBarOffset\":0,\"fColorModelPS\":0,\"fDrawBorder\":0,\"fOptLogx\":0,\"fOptLogy\":0,\"fOptLogz\":0,\"fOptDate\":0,\"fOptStat\":0,\"fOptTitle\":1,\"fOptFile\":0,\"fOptFit\":0,\"fShowEventStatus\":0,\"fShowEditor\":0,\"fShowToolBar\":0,\"fNumberContours\":20,\"fAttDate\":{\"_typename\":\"TAttText\",\"fTextAngle\":0,\"fTextSize\":0.025,\"fTextAlign\":11,\"fTextColor\":1,\"fTextFont\":62},\"fDateX\":0.01,\"fDateY\":0.01,\"fEndErrorSize\":2,\"fErrorX\":0.5,\"fFuncColor\":2,\"fFuncStyle\":1,\"fFuncWidth\":2,\"fGridColor\":0,\"fGridStyle\":3,\"fGridWidth\":1,\"fLegendBorderSize\":1,\"fLegendFillColor\":0,\"fLegendFont\":42,\"fLegendTextSize\":0,\"fHatchesLineWidth\":1,\"fHatchesSpacing\":1,\"fFrameFillColor\":0,\"fFrameLineColor\":1,\"fFrameFillStyle\":1001,\"fFrameLineStyle\":1,\"fFrameLineWidth\":1,\"fFrameBorderSize\":1,\"fFrameBorderMode\":0,\"fHistFillColor\":0,\"fHistLineColor\":602,\"fHistFillStyle\":1001,\"fHistLineStyle\":1,\"fHistLineWidth\":1,\"fHistMinimumZero\":false,\"fHistTopMargin\":0.05,\"fCanvasPreferGL\":false,\"fCanvasColor\":0,\"fCanvasBorderSize\":2,\"fCanvasBorderMode\":0,\"fCanvasDefH\":500,\"fCanvasDefW\":700,\"fCanvasDefX\":10,\"fCanvasDefY\":10,\"fPadColor\":0,\"fPadBorderSize\":2,\"fPadBorderMode\":0,\"fPadBottomMargin\":0.1,\"fPadTopMargin\":0.1,\"fPadLeftMargin\":0.1,\"fPadRightMargin\":0.1,\"fPadGridX\":false,\"fPadGridY\":false,\"fPadTickX\":0,\"fPadTickY\":0,\"fPaperSizeX\":20,\"fPaperSizeY\":26,\"fScreenFactor\":1,\"fStatColor\":0,\"fStatTextColor\":1,\"fStatBorderSize\":1,\"fStatFont\":42,\"fStatFontSize\":0,\"fStatStyle\":1001,\"fStatFormat\":\"6.4g\",\"fStatX\":0.98,\"fStatY\":0.935,\"fStatW\":0.2,\"fStatH\":0.16,\"fStripDecimals\":true,\"fTitleAlign\":23,\"fTitleColor\":0,\"fTitleTextColor\":1,\"fTitleBorderSize\":0,\"fTitleFont\":42,\"fTitleFontSize\":0.05,\"fTitleStyle\":0,\"fTitleX\":0.5,\"fTitleY\":0.995,\"fTitleW\":0,\"fTitleH\":0,\"fLegoInnerR\":0.5,\"fLineStyles\":[\"\",\"  \",\" 12 12\",\" 4 8\",\" 12 16 4 16\",\" 20 12 4 12\",\" 20 12 4 12 4 12 4 12\",\" 20 20\",\" 20 12 4 12 4 12\",\" 80 20\",\" 80 40 4 40\",\"  \",\"  \",\"  \",\"  \",\"  \",\"  \",\"  \",\"  \",\"  \",\"  \",\"  \",\"  \",\"  \",\"  \",\"  \",\"  \",\"  \",\"  \",\"  \"],\"fHeaderPS\":\"\",\"fTitlePS\":\"\",\"fFitFormat\":\"5.4g\",\"fPaintTextFormat\":\"g\",\"fLineScalePS\":3,\"fJoinLinePS\":0,\"fCapLinePS\":0,\"fTimeOffset\":788918400,\"fImageScaling\":1,\"fCandleWhiskerRange\":1,\"fCandleBoxRange\":0.5,\"fCandleScaled\":false,\"fViolinScaled\":true,\"fXAxisExpXOffset\":0,\"fXAxisExpYOffset\":0,\"fYAxisExpXOffset\":0,\"fYAxisExpYOffset\":0,\"fAxisMaxDigits\":5,\"fOrthoCamera\":false}},{\"_typename\":\"TPadWebSnapshot\",\"fUniqueID\":0,\"fBits\":0,\"fObjectID\":\"\",\"fOption\":\"\",\"fKind\":3,\"fSnapshot\":{\"_typename\":\"TPad\",\"fUniqueID\":0,\"fBits\":9,\"fLineColor\":1,\"fLineStyle\":1,\"fLineWidth\":1,\"fFillColor\":0,\"fFillStyle\":1001,\"fLeftMargin\":0.1,\"fRightMargin\":0.1,\"fBottomMargin\":0.1,\"fTopMargin\":0.1,\"fXfile\":2,\"fYfile\":2,\"fAfile\":1,\"fXstat\":0.99,\"fYstat\":0.99,\"fAstat\":2,\"fFrameFillColor\":0,\"fFrameLineColor\":1,\"fFrameFillStyle\":1001,\"fFrameLineStyle\":1,\"fFrameLineWidth\":1,\"fFrameBorderSize\":1,\"fFrameBorderMode\":0,\"fX1\":-0.785398221914175,\"fY1\":0.00207499999068677,\"fX2\":7.06858352909376,\"fY2\":0.00332500000931323,\"fXtoAbsPixelk\":120.000057152558,\"fXtoPixelk\":120.000057152558,\"fXtoPixel\":152.78874309149,\"fYtoAbsPixelk\":1064.0000371254,\"fYtoPixelk\":1064.0000371254,\"fYtoPixel\":-319999.995231628,\"fUtoAbsPixelk\":5e-5,\"fUtoPixelk\":5e-5,\"fUtoPixel\":1200,\"fVtoAbsPixelk\":400.00005,\"fVtoPixelk\":400,\"fVtoPixel\":-400,\"fAbsPixeltoXk\":-0.785398221914175,\"fPixeltoXk\":-0.785398221914175,\"fPixeltoX\":0.00654498479250661,\"fAbsPixeltoYk\":0.00332500000931323,\"fPixeltoYk\":0.00207499999068677,\"fPixeltoY\":-3.12500004656613e-6,\"fXlowNDC\":0,\"fYlowNDC\":0,\"fXUpNDC\":1,\"fYUpNDC\":1,\"fWNDC\":1,\"fHNDC\":1,\"fAbsXlowNDC\":0,\"fAbsYlowNDC\":0,\"fAbsWNDC\":1,\"fAbsHNDC\":1,\"fUxmin\":0,\"fUymin\":0.0022,\"fUxmax\":6.28318530717959,\"fUymax\":0.0032,\"fTheta\":30,\"fPhi\":30,\"fAspectRatio\":0,\"fNumber\":0,\"fTickx\":0,\"fTicky\":0,\"fLogx\":0,\"fLogy\":0,\"fLogz\":0,\"fPadPaint\":0,\"fCrosshair\":0,\"fCrosshairPos\":0,\"fBorderSize\":2,\"fBorderMode\":0,\"fModified\":false,\"fGridx\":false,\"fGridy\":true,\"fAbsCoord\":false,\"fEditable\":true,\"fFixedAspectRatio\":false,\"fPrimitives\":{\"_typename\":\"TList\",\"name\":\"TList\",\"arr\":[],\"opt\":[]},\"fExecs\":{\"_typename\":\"TList\",\"name\":\"TList\",\"arr\":[],\"opt\":[]},\"fName\":\"pad1\",\"fTitle\":\"The pad with the content\",\"fNumPaletteColor\":0,\"fNextPaletteColor\":0},\"fActive\":false,\"fReadOnly\":true,\"fWithoutPrimitives\":false,\"fHasExecs\":true,\"fPrimitives\":[{\"_typename\":\"TWebSnapshot\",\"fUniqueID\":0,\"fBits\":0,\"fObjectID\":\"\",\"fOption\":\"\",\"fKind\":1,\"fSnapshot\":{\"_typename\":\"TFrame\",\"fUniqueID\":0,\"fBits\":8,\"fLineColor\":1,\"fLineStyle\":1,\"fLineWidth\":1,\"fFillColor\":0,\"fFillStyle\":1001,\"fX1\":0,\"fY1\":0.0022,\"fX2\":6.28318530717959,\"fY2\":0.0032,\"fBorderSize\":1,\"fBorderMode\":0}},{\"_typename\":\"TWebSnapshot\",\"fUniqueID\":0,\"fBits\":0,\"fObjectID\":\"\",\"fOption\":\" L;;use_pad_title\",\"fKind\":1,\"fSnapshot\":{\"_typename\":\"TH1F\",\"fUniqueID\":0,\"fBits\":8,\"fName\":\"LHC23o_536401\",\"fTitle\":\"Azimuthal angle, C side\",\"fLineColor\":600,\"fLineStyle\":1,\"fLineWidth\":3,\"fFillColor\":0,\"fFillStyle\":1001,\"fMarkerColor\":600,\"fMarkerStyle\":1,\"fMarkerSize\":1,\"fNcells\":362,\"fXaxis\":{\"_typename\":\"TAxis\",\"fUniqueID\":0,\"fBits\":0,\"fName\":\"xaxis\",\"fTitle\":\"#phi\",\"fNdivisions\":510,\"fAxisColor\":1,\"fLabelColor\":1,\"fLabelFont\":42,\"fLabelOffset\":0.005,\"fLabelSize\":0.035,\"fTickLength\":0.03,\"fTitleOffset\":1,\"fTitleSize\":0.035,\"fTitleColor\":1,\"fTitleFont\":42,\"fNbins\":360,\"fXmin\":0,\"fXmax\":6.28318530717959,\"fXbins\":[],\"fFirst\":0,\"fLast\":0,\"fBits2\":0,\"fTimeDisplay\":false,\"fTimeFormat\":\"\",\"fLabels\":null,\"fModLabs\":null},\"fYaxis\":{\"_typename\":\"TAxis\",\"fUniqueID\":0,\"fBits\":0,\"fName\":\"yaxis\",\"fTitle\":\"\",\"fNdivisions\":510,\"fAxisColor\":1,\"fLabelColor\":1,\"fLabelFont\":42,\"fLabelOffset\":0.005,\"fLabelSize\":0.035,\"fTickLength\":0.03,\"fTitleOffset\":0,\"fTitleSize\":0.035,\"fTitleColor\":1,\"fTitleFont\":42,\"fNbins\":1,\"fXmin\":0,\"fXmax\":1,\"fXbins\":[],\"fFirst\":0,\"fLast\":0,\"fBits2\":0,\"fTimeDisplay\":false,\"fTimeFormat\":\"\",\"fLabels\":null,\"fModLabs\":null},\"fZaxis\":{\"_typename\":\"TAxis\",\"fUniqueID\":0,\"fBits\":0,\"fName\":\"zaxis\",\"fTitle\":\"\",\"fNdivisions\":510,\"fAxisColor\":1,\"fLabelColor\":1,\"fLabelFont\":42,\"fLabelOffset\":0.005,\"fLabelSize\":0.035,\"fTickLength\":0.03,\"fTitleOffset\":1,\"fTitleSize\":0.035,\"fTitleColor\":1,\"fTitleFont\":42,\"fNbins\":1,\"fXmin\":0,\"fXmax\":1,\"fXbins\":[],\"fFirst\":0,\"fLast\":0,\"fBits2\":0,\"fTimeDisplay\":false,\"fTimeFormat\":\"\",\"fLabels\":null,\"fModLabs\":null},\"fBarOffset\":0,\"fBarWidth\":1000,\"fEntries\":472239819,\"fTsumw\":1,\"fTsumw2\":2.11756822200775e-9,\"fTsumwx\":3.13134855718428,\"fTsumwx2\":13.0955400451176,\"fMaximum\":0.0032,\"fMinimum\":0.0022,\"fNormFactor\":0,\"fContour\":[],\"fSumw2\":[0,6.00064755165995e-12,5.99858038378434e-12,5.99665222285915e-12,6.03006321600701e-12,5.9839263607529e-12,5.92891099705258e-12,5.92197858591225e-12,5.93412599974094e-12,5.96455058550235e-12,6.01419400318319e-12,6.03112594656345e-12,5.99163452035848e-12,5.95413403241115e-12,5.9339556041243e-12,5.91797877301628e-12,5.94326010161213e-12,5.96433086483878e-12,6.01534193154795e-12,6.01061569523365e-12,6.02843548945854e-12,6.03382537185871e-12,6.02040447500037e-12,6.04395494285872e-12,6.03234113635584e-12,5.99056282161169e-12,5.9486499840123e-12,5.9316014541575e-12,5.95173952558778e-12,5.96102160259973e-12,5.97881000815839e-12,5.96950551067056e-12,5.93982976880336e-12,5.92280365942443e-12,5.9188486874802e-12,5.93109923549791e-12,5.9401974646077e-12,5.96537117491935e-12,5.98395774941913e-12,5.95552858601053e-12,5.91878591014776e-12,5.88898012952048e-12,5.84853807513845e-12,5.82297873264176e-12,5.75440794922785e-12,5.71750384593877e-12,5.71354438989937e-12,5.71310943266741e-12,5.72188032282943e-12,5.74714819913975e-12,5.77425455447176e-12,5.79362584562715e-12,5.77469847989407e-12,5.77251024144874e-12,5.80641000097066e-12,5.83353429268337e-12,5.8421258190384e-12,5.88622689508312e-12,5.86100385972455e-12,5.80198868312825e-12,5.83264195774358e-12,5.78905206854879e-12,5.77932606611453e-12,5.7693085974939e-12,5.77151028822475e-12,5.7996435013518e-12,5.83225184146336e-12,5.84323787464176e-12,5.85346161164044e-12,5.86832190304991e-12,5.90181360991092e-12,5.92377670807737e-12,5.92405920607339e-12,5.90901058266657e-12,5.91781734558999e-12,5.92306822103974e-12,5.95825939997202e-12,5.99691678447446e-12,6.00382677513892e-12,5.97046959113316e-12,5.9637569006564e-12,5.98308335086003e-12,5.99658047733635e-12,5.97965750214644e-12,5.9511117522633e-12,5.91678600369977e-12,5.87725422063823e-12,5.87522740961919e-12,5.87759052777634e-12,5.89551794028542e-12,5.92026566155546e-12,5.93215748195918e-12,5.92484840682416e-12,5.9244672587343e-12,5.92087101440406e-12,5.89941461899237e-12,5.89167955481574e-12,5.89861645005125e-12,5.95251527405303e-12,5.95434926897955e-12,5.97152783759442e-12,5.9715143853089e-12,5.97841092368783e-12,6.03873545607518e-12,5.99484064840851e-12,5.98680963395034e-12,5.96847416878035e-12,5.94373989979583e-12,5.92103692592553e-12,5.91769627502027e-12,5.92154811277547e-12,5.93744423017034e-12,5.93715724807914e-12,5.90949934904063e-12,5.8947018349636e-12,5.90889399619202e-12,5.93932755014378e-12,5.97857235111412e-12,5.98098031022302e-12,5.95754194474405e-12,5.9840877881792e-12,5.98241522067898e-12,5.94099114945365e-12,5.9551967629676e-12,5.92905448809818e-12,5.9103602953142e-12,5.91491165191668e-12,5.89223558261743e-12,5.90144591410658e-12,5.92596943061788e-12,5.94470398025843e-12,5.94113912459442e-12,5.91475022449038e-12,5.88653181355501e-12,5.87097200329825e-12,5.86233563599148e-12,5.88896219313978e-12,5.9087370528609e-12,5.94043512165197e-12,5.95635814361788e-12,5.89335212231597e-12,5.84498218766478e-12,5.87689100892907e-12,5.80430247623848e-12,5.66133606977851e-12,5.69767517707555e-12,5.77378820857358e-12,5.82093398524202e-12,5.85835375947621e-12,5.89888549576174e-12,5.95628191399991e-12,5.90965180827657e-12,5.86181996504637e-12,5.85339435021281e-12,5.83005463482768e-12,5.8061185347843e-12,5.77702572528982e-12,5.79083673842838e-12,5.83220251641644e-12,5.84983397864398e-12,5.89739229206851e-12,5.94665007756432e-12,5.94243502809995e-12,5.96115612545498e-12,5.95132250473652e-12,5.92546272786312e-12,5.90462065349038e-12,5.88903842275775e-12,5.86863130561698e-12,5.87456376353332e-12,5.88560360585381e-12,5.90805547039432e-12,5.89743713302026e-12,5.888993581806e-12,5.89920835061433e-12,5.93484345496892e-12,5.93409461107472e-12,5.95404435050766e-12,5.97860373978035e-12,5.96173457373254e-12,5.95519227887242e-12,5.97321385738017e-12,5.95677516446914e-12,5.95694107599061e-12,5.93852938120265e-12,5.9157098208578e-12,5.88396242701982e-12,5.87972495707958e-12,5.87279703003442e-12,5.92071407107294e-12,5.94132745659176e-12,5.93447127506941e-12,5.91532867276794e-12,5.91254404966435e-12,5.91725234959795e-12,5.9408028174563e-12,5.95122833873785e-12,5.99379137013759e-12,6.00725710794768e-12,6.00011394433414e-12,6.01820726836469e-12,6.00471911007872e-12,6.00913594382595e-12,6.04311193296584e-12,6.0176333041823e-12,6.03328728043773e-12,6.00369225228367e-12,5.97648276276264e-12,5.97229461786932e-12,5.98880954039832e-12,5.98105205574582e-12,5.9441389842664e-12,5.90275078580247e-12,5.8757072078029e-12,5.87089577368028e-12,5.88354540616855e-12,5.92615776261522e-12,5.98355866494857e-12,6.05268547616416e-12,6.09011421858869e-12,6.17454524663608e-12,6.13035000459269e-12,6.07173839656213e-12,6.0623442171708e-12,6.00577735653998e-12,5.95300852452226e-12,5.90236066952225e-12,5.86975232941069e-12,5.84813899066788e-12,5.85406248039387e-12,5.85066353625133e-12,5.85052452930091e-12,5.80529346127212e-12,5.79349580686707e-12,5.79326711801316e-12,5.80700190153374e-12,5.81857086708487e-12,5.81658441292241e-12,5.80800633885291e-12,5.76512493669575e-12,5.76638945153506e-12,5.74443980565414e-12,5.71358026266077e-12,5.73978979895781e-12,5.70326235966343e-12,5.68266691052531e-12,5.67395431360056e-12,5.67027735555718e-12,5.68288663118887e-12,5.6743399457856e-12,5.69446456493036e-12,5.71874594030221e-12,5.71869213116011e-12,5.71120817631327e-12,5.7363504979587e-12,5.7622102748321e-12,5.77599886749478e-12,5.81752158881396e-12,5.85341228659351e-12,5.81324376201714e-12,5.79805164756473e-12,5.75086551403971e-12,5.78209275283741e-12,5.82721171848682e-12,5.78412404795162e-12,5.7549325883633e-12,5.72792936722031e-12,5.73639982300562e-12,5.74143546188698e-12,5.7682368987471e-12,5.7724474641163e-12,5.77419177713931e-12,5.74387929375728e-12,5.72622989514904e-12,5.7125937617223e-12,5.73202334611496e-12,5.74526487916631e-12,5.81584005312339e-12,5.84602249774535e-12,5.81282225707071e-12,5.81775027766788e-12,5.82111783314419e-12,5.81805071204459e-12,5.85968105164796e-12,5.82221643646203e-12,5.80349533910701e-12,5.7698780775811e-12,5.7580714549857e-12,5.76330439405476e-12,5.78633470687283e-12,5.81545442093835e-12,5.83798251509683e-12,5.80965200178208e-12,5.80578671174136e-12,5.80965648587726e-12,5.83548038998926e-12,5.85942097412782e-12,5.89750887854306e-12,5.93425603850101e-12,5.89329382907869e-12,5.922202790671e-12,5.93982976880336e-12,5.90975494246559e-12,5.94473985301983e-12,5.91295658642044e-12,5.8560892914129e-12,5.81189404936951e-12,5.77750552347353e-12,5.79031209929293e-12,5.81513156608576e-12,5.84446651671967e-12,5.83207696175154e-12,5.81993851611321e-12,5.81507775694366e-12,5.81115865776084e-12,5.81227968155455e-12,5.84017075354216e-12,5.86233563599148e-12,5.886890541169e-12,5.89127150215483e-12,5.88126748581973e-12,5.87461308858024e-12,5.83270473507602e-12,5.85895462822964e-12,5.82914884760236e-12,5.77438907732701e-12,5.73758810822696e-12,5.76130897170195e-12,5.7801152668653e-12,5.83464186419156e-12,5.85734035396669e-12,5.88686363659795e-12,5.8609590187728e-12,5.82687989544389e-12,5.80528897717695e-12,5.75384295323581e-12,5.73531915606848e-12,5.75141705774622e-12,5.79493968551338e-12,5.81331102344477e-12,5.80504683603751e-12,5.81301058906805e-12,5.85330018421414e-12,5.94667698213537e-12,5.9504167175112e-12,5.92757922078565e-12,5.89039261950056e-12,5.8804334441172e-12,5.87198989290295e-12,5.88974242570021e-12,5.8827337849419e-12,5.88381445187904e-12,5.8618154809512e-12,5.85795915910082e-12,5.86551037537528e-12,5.89084551311322e-12,5.92854330124824e-12,5.91583089142752e-12,5.92493808872766e-12,5.94712987574803e-12,5.98990814371616e-12,7.1745522797713e-17],\"fOption\":\"\",\"fFunctions\":{\"_typename\":\"TList\",\"name\":\"TList\",\"arr\":[],\"opt\":[]},\"fBufferSize\":0,\"fBuffer\":[],\"fBinStatErrOpt\":0,\"fStatOverflows\":2,\"fArray\":[0,0.002833745,0.002832768,0.002831858,0.002847636,0.002825848,0.002799868,0.002796594,0.002802331,0.002816698,0.002840142,0.002848138,0.002829488,0.002811779,0.00280225,0.002794705,0.002806644,0.002816594,0.002840684,0.002838452,0.002846867,0.002849413,0.002843075,0.002854196,0.002848712,0.002828982,0.002809189,0.002801138,0.002810648,0.002815032,0.002823432,0.002819038,0.002805024,0.002796984,0.002795116,0.002800901,0.002805198,0.002817086,0.002825863,0.002812438,0.002795086,0.002781011,0.002761913,0.002749842,0.002717461,0.002700033,0.002698163,0.002697958,0.0027021,0.002714032,0.002726833,0.002735981,0.002727042,0.002726009,0.002742018,0.002754827,0.002758884,0.002779711,0.002767799,0.00273993,0.002754406,0.002733821,0.002729228,0.002724497,0.002725537,0.002738822,0.002754221,0.00275941,0.002764238,0.002771255,0.002787071,0.002797443,0.002797577,0.00279047,0.002794629,0.002797109,0.002813727,0.002831983,0.002835246,0.002819493,0.002816323,0.00282545,0.002831824,0.002823832,0.002810352,0.002794142,0.002775473,0.002774516,0.002775632,0.002784098,0.002795785,0.002801401,0.002797949,0.002797769,0.002796071,0.002785938,0.002782286,0.002785561,0.002811015,0.002811881,0.002819993,0.002819987,0.002823244,0.002851731,0.002831002,0.00282721,0.002818551,0.00280687,0.002796149,0.002794572,0.002796391,0.002803897,0.002803762,0.002790701,0.002783713,0.002790415,0.002804787,0.00282332,0.002824457,0.002813388,0.002825924,0.002825135,0.002805572,0.002812281,0.002799936,0.002791107,0.002793257,0.002782548,0.002786898,0.002798479,0.002807326,0.002805642,0.002793181,0.002779855,0.002772507,0.002768428,0.002781002,0.002790341,0.00280531,0.002812829,0.002783075,0.002760233,0.002775302,0.002741023,0.002673508,0.002690669,0.002726613,0.002748877,0.002766548,0.002785688,0.002812793,0.002790773,0.002768185,0.002764206,0.002753184,0.00274188,0.002728141,0.002734664,0.002754198,0.002762524,0.002784983,0.002808245,0.002806254,0.002815095,0.002810451,0.002798239,0.002788397,0.002781038,0.002771401,0.002774203,0.002779416,0.002790019,0.002785004,0.002781017,0.002785841,0.002802669,0.002802316,0.002811737,0.002823335,0.002815368,0.002812279,0.002820789,0.002813026,0.002813105,0.00280441,0.002793634,0.002778641,0.00277664,0.002773368,0.002795997,0.002805731,0.002802494,0.002793454,0.002792139,0.002794362,0.002805484,0.002810407,0.002830507,0.002836866,0.002833493,0.002842037,0.002835667,0.002837753,0.002853798,0.002841766,0.002849158,0.002835182,0.002822333,0.002820355,0.002828154,0.002824491,0.002807059,0.002787514,0.002774743,0.002772471,0.002778444,0.002798568,0.002825675,0.002858319,0.002875994,0.002915866,0.002894995,0.002867317,0.00286288,0.002836167,0.002811247,0.00278733,0.002771931,0.002761724,0.002764521,0.002762916,0.002762851,0.002741491,0.002735919,0.002735811,0.002742297,0.002747761,0.002746823,0.002742772,0.002722522,0.002723119,0.002712753,0.00269818,0.002710557,0.002693308,0.002683582,0.002679467,0.002677731,0.002683685,0.002679649,0.002689153,0.002700619,0.002700594,0.00269706,0.002708933,0.002721145,0.002727657,0.002747265,0.002764214,0.002745245,0.002738071,0.002715788,0.002730534,0.002751841,0.002731494,0.002717708,0.002704956,0.002708956,0.002711334,0.002723991,0.00272598,0.002726803,0.002712488,0.002704154,0.002697714,0.00270689,0.002713143,0.002746471,0.002760724,0.002745046,0.002747373,0.002748963,0.002747515,0.002767175,0.002749482,0.002740642,0.002724766,0.00271919,0.002721662,0.002732537,0.002746289,0.002756928,0.002743549,0.002741724,0.002743551,0.002755746,0.002767052,0.002785038,0.002802392,0.002783048,0.0027967,0.002805024,0.002790821,0.002807343,0.002792333,0.002765479,0.002744608,0.002728368,0.002734416,0.002746137,0.00275999,0.002754139,0.002748407,0.002746111,0.00274426,0.00274479,0.002757961,0.002768428,0.002780024,0.002782093,0.002777369,0.002774226,0.002754435,0.002766832,0.002752756,0.002726896,0.002709517,0.002720719,0.002729601,0.00275535,0.002766069,0.002780011,0.002767778,0.002751685,0.002741489,0.002717194,0.002708446,0.002716048,0.002736601,0.002745277,0.002741374,0.002745135,0.002764161,0.002808257,0.002810024,0.002799239,0.002781678,0.002776975,0.002772987,0.002781371,0.002778061,0.002778571,0.002768183,0.002766361,0.002769927,0.002781892,0.002799694,0.002793691,0.002797992,0.002808471,0.002828673,3.388109e-8]}},{\"_typename\":\"TWebSnapshot\",\"fUniqueID\":0,\"fBits\":0,\"fObjectID\":\"\",\"fOption\":\"SAME L\",\"fKind\":1,\"fSnapshot\":{\"_typename\":\"TH1F\",\"fUniqueID\":0,\"fBits\":8,\"fName\":\"LHC23k4e_536401\",\"fTitle\":\"Azimuthal angle, C side\",\"fLineColor\":632,\"fLineStyle\":2,\"fLineWidth\":3,\"fFillColor\":0,\"fFillStyle\":1001,\"fMarkerColor\":632,\"fMarkerStyle\":1,\"fMarkerSize\":1,\"fNcells\":362,\"fXaxis\":{\"_typename\":\"TAxis\",\"fUniqueID\":0,\"fBits\":0,\"fName\":\"xaxis\",\"fTitle\":\"#phi\",\"fNdivisions\":510,\"fAxisColor\":1,\"fLabelColor\":1,\"fLabelFont\":42,\"fLabelOffset\":0.005,\"fLabelSize\":0.035,\"fTickLength\":0.03,\"fTitleOffset\":1,\"fTitleSize\":0.035,\"fTitleColor\":1,\"fTitleFont\":42,\"fNbins\":360,\"fXmin\":0,\"fXmax\":6.28318530717959,\"fXbins\":[],\"fFirst\":0,\"fLast\":0,\"fBits2\":0,\"fTimeDisplay\":false,\"fTimeFormat\":\"\",\"fLabels\":null,\"fModLabs\":null},\"fYaxis\":{\"_typename\":\"TAxis\",\"fUniqueID\":0,\"fBits\":0,\"fName\":\"yaxis\",\"fTitle\":\"\",\"fNdivisions\":510,\"fAxisColor\":1,\"fLabelColor\":1,\"fLabelFont\":42,\"fLabelOffset\":0.005,\"fLabelSize\":0.035,\"fTickLength\":0.03,\"fTitleOffset\":0,\"fTitleSize\":0.035,\"fTitleColor\":1,\"fTitleFont\":42,\"fNbins\":1,\"fXmin\":0,\"fXmax\":1,\"fXbins\":[],\"fFirst\":0,\"fLast\":0,\"fBits2\":0,\"fTimeDisplay\":false,\"fTimeFormat\":\"\",\"fLabels\":null,\"fModLabs\":null},\"fZaxis\":{\"_typename\":\"TAxis\",\"fUniqueID\":0,\"fBits\":0,\"fName\":\"zaxis\",\"fTitle\":\"\",\"fNdivisions\":510,\"fAxisColor\":1,\"fLabelColor\":1,\"fLabelFont\":42,\"fLabelOffset\":0.005,\"fLabelSize\":0.035,\"fTickLength\":0.03,\"fTitleOffset\":1,\"fTitleSize\":0.035,\"fTitleColor\":1,\"fTitleFont\":42,\"fNbins\":1,\"fXmin\":0,\"fXmax\":1,\"fXbins\":[],\"fFirst\":0,\"fLast\":0,\"fBits2\":0,\"fTimeDisplay\":false,\"fTimeFormat\":\"\",\"fLabels\":null,\"fModLabs\":null},\"fBarOffset\":0,\"fBarWidth\":1000,\"fEntries\":3735662,\"fTsumw\":1,\"fTsumw2\":2.67690171112911e-7,\"fTsumwx\":3.14410451911332,\"fTsumwx2\":13.1755347496432,\"fMaximum\":0.0032,\"fMinimum\":0.0022,\"fNormFactor\":0,\"fContour\":[],\"fSumw2\":[0,7.5140607857188e-10,7.48898047602014e-10,7.50761156322486e-10,7.46318358604437e-10,7.34064835865949e-10,7.36357892752683e-10,7.51047788433328e-10,7.25322556485273e-10,7.44240275800834e-10,7.46461674659858e-10,7.5147773659959e-10,7.46246700576727e-10,7.32058411090056e-10,7.38435975556287e-10,7.29263748009348e-10,7.42448825108072e-10,7.44813540022518e-10,7.48611415491172e-10,7.45315146216491e-10,7.54415715735719e-10,7.63301311171816e-10,7.61223228368213e-10,7.44526907911676e-10,7.52552607015247e-10,7.39940794138206e-10,7.3277499136716e-10,7.4044240033218e-10,7.37146131057499e-10,7.35211364309316e-10,7.48181467324909e-10,7.51621052655011e-10,7.46604990715279e-10,7.31556804896083e-10,7.36931156974367e-10,7.35999602614131e-10,7.48539757463462e-10,7.3743276316834e-10,7.4201887694181e-10,7.39582503999654e-10,7.57067062761006e-10,7.47536545075515e-10,7.43165405385177e-10,7.39725820055075e-10,7.47894835214067e-10,7.5133442054417e-10,7.23101157626248e-10,7.47966493241778e-10,7.47321570992384e-10,7.34494784032212e-10,7.44526907911676e-10,7.35712970503289e-10,7.56422140511612e-10,7.36357892752683e-10,7.37002815002078e-10,7.3420815192137e-10,7.37647737251472e-10,7.43022089329756e-10,7.42162192997231e-10,7.52767581098379e-10,7.53699135458615e-10,7.58141933176663e-10,7.3420815192137e-10,7.42377167080362e-10,7.37002815002078e-10,7.49471311823698e-10,7.25680846623825e-10,7.4825312535262e-10,7.42663799191204e-10,7.32058411090056e-10,7.43881985662282e-10,7.5140607857188e-10,7.36716182891236e-10,7.35426338392447e-10,7.34709758115343e-10,7.42448825108072e-10,7.31055198702109e-10,7.23531105792511e-10,7.34064835865949e-10,7.46390016632148e-10,7.52695923070668e-10,7.43093747357467e-10,7.48969705629724e-10,7.47679861130936e-10,7.39940794138206e-10,7.20091520462409e-10,7.35426338392447e-10,7.36142918669552e-10,7.44383591856255e-10,7.53484161375483e-10,7.44598565939386e-10,7.35784628531e-10,7.51692710682722e-10,7.26612400984061e-10,7.1091929291547e-10,7.42950431302046e-10,7.33491571644265e-10,7.32058411090056e-10,7.47178254936963e-10,7.51047788433328e-10,7.40944006526153e-10,7.42878773274335e-10,7.45888410438175e-10,7.58643539370636e-10,7.5133442054417e-10,7.14573852328704e-10,7.39654162027365e-10,7.37719395279182e-10,7.47464887047805e-10,7.53412503347773e-10,7.52695923070668e-10,7.4667664874299e-10,7.45386804244201e-10,7.26110794790088e-10,7.29335406037058e-10,7.4044240033218e-10,7.33993177838238e-10,7.43237063412888e-10,7.4517183016107e-10,7.51621052655011e-10,7.50259550128513e-10,7.46461674659858e-10,7.41517270747836e-10,7.42735457218914e-10,7.39080897805681e-10,7.32846649394871e-10,7.35497996420158e-10,7.47249912964673e-10,7.47034938881542e-10,7.34494784032212e-10,7.44383591856255e-10,7.5613550840077e-10,7.53770793486325e-10,7.38221001473155e-10,7.37647737251472e-10,7.28977115898506e-10,7.37791053306893e-10,7.2955038012019e-10,7.42448825108072e-10,7.37719395279182e-10,7.34709758115343e-10,7.43093747357467e-10,7.43953643689992e-10,7.40012452165917e-10,7.35283022337027e-10,7.37074473029788e-10,7.39080897805681e-10,7.42663799191204e-10,7.44025301717703e-10,7.46604990715279e-10,7.41517270747836e-10,7.63659601310369e-10,7.54630689818851e-10,7.30051986314163e-10,7.41588928775547e-10,7.38794265694839e-10,7.28618825759954e-10,7.31055198702109e-10,7.37934369362314e-10,7.53842451514036e-10,7.50259550128513e-10,7.49399653795987e-10,7.41087322581574e-10,7.48396441408041e-10,7.33634887699686e-10,7.38435975556287e-10,7.46390016632148e-10,7.37934369362314e-10,7.25465872540694e-10,7.39940794138206e-10,7.47249912964673e-10,7.52122658848985e-10,7.56995404733296e-10,7.40227426249048e-10,7.35497996420158e-10,7.33061623478002e-10,7.55992192345349e-10,7.45888410438175e-10,7.47393229020094e-10,7.4517183016107e-10,7.58715197398347e-10,7.54200741652588e-10,7.52839239126089e-10,7.55705560234508e-10,7.23602763820222e-10,7.26039136762377e-10,7.41158980609284e-10,7.42520483135783e-10,7.42950431302046e-10,7.60291674007977e-10,7.50904472377907e-10,7.58213591204374e-10,7.35426338392447e-10,7.31413488840662e-10,7.4832478338033e-10,7.41230638636995e-10,7.39510845971944e-10,7.39224213861102e-10,7.47464887047805e-10,7.48539757463462e-10,7.55203954040534e-10,7.41517270747836e-10,7.50689498294775e-10,7.52839239126089e-10,7.3743276316834e-10,7.37217789085209e-10,7.4366701157915e-10,7.41373954692416e-10,7.47106596909252e-10,7.34494784032212e-10,7.57067062761006e-10,7.53269187292352e-10,7.47894835214067e-10,7.3736110514063e-10,7.44670223967097e-10,7.42305509052652e-10,7.3585628655871e-10,7.5455903179114e-10,7.56350482483902e-10,7.6394623342121e-10,7.74694937577779e-10,7.73978357300675e-10,7.57568668954979e-10,7.68174057056128e-10,7.47321570992384e-10,7.25609188596114e-10,7.35354680364737e-10,7.3886592372255e-10,7.43881985662282e-10,7.33348255588844e-10,7.55275612068245e-10,7.54344057708009e-10,7.48611415491172e-10,7.43810327634571e-10,7.47034938881542e-10,7.29908670258742e-10,7.42592141163493e-10,7.467483067707e-10,7.55347270095955e-10,7.49256337740566e-10,7.42520483135783e-10,7.58858513453768e-10,7.45601778327333e-10,7.48611415491172e-10,7.56708772622454e-10,7.39439187944233e-10,7.29478722092479e-10,7.36357892752683e-10,7.53914109541746e-10,7.39295871888812e-10,7.53484161375483e-10,7.55347270095955e-10,7.46390016632148e-10,7.45530120299622e-10,7.45458462271912e-10,7.41158980609284e-10,7.35712970503289e-10,7.45816752410464e-10,7.47034938881542e-10,7.59073487536899e-10,7.46533332687569e-10,7.51836026738143e-10,7.46461674659858e-10,7.5613550840077e-10,7.48468099435751e-10,7.34064835865949e-10,7.36859498946657e-10,7.33849861782817e-10,7.48109809297199e-10,7.3585628655871e-10,7.58428565287505e-10,7.41517270747836e-10,7.43523695523729e-10,7.42520483135783e-10,7.29765354203321e-10,7.2797390351056e-10,7.39152555833391e-10,7.42162192997231e-10,7.35426338392447e-10,7.51836026738143e-10,7.49113021685145e-10,7.39080897805681e-10,7.47464887047805e-10,7.44096959745413e-10,7.48898047602014e-10,7.46891622826121e-10,7.41875560886389e-10,7.33921519810528e-10,7.2797390351056e-10,7.36931156974367e-10,7.50259550128513e-10,7.47321570992384e-10,7.56852088677875e-10,7.38794265694839e-10,7.45601778327333e-10,7.33993177838238e-10,7.27615613372007e-10,7.42950431302046e-10,7.58356907259795e-10,7.50832814350196e-10,7.51907684765853e-10,7.67815766917575e-10,7.4359535355144e-10,7.46031726493595e-10,7.3277499136716e-10,7.2654074295635e-10,7.31700120951504e-10,7.34996390226185e-10,7.36572866835815e-10,7.43093747357467e-10,7.50331208156223e-10,7.47894835214067e-10,7.49256337740566e-10,7.467483067707e-10,7.28117219565981e-10,7.42807115246625e-10,7.40729032443021e-10,7.3277499136716e-10,7.37791053306893e-10,7.64519497642894e-10,7.53197529264642e-10,7.5133442054417e-10,7.44240275800834e-10,7.49614627879118e-10,7.40944006526153e-10,7.55705560234508e-10,7.35139706281606e-10,7.37146131057499e-10,7.33419913616555e-10,7.50331208156223e-10,7.55562244179087e-10,7.49327995768277e-10,7.4517183016107e-10,7.39510845971944e-10,7.33204939533423e-10,7.36071260641842e-10,7.30840224618978e-10,7.37504421196051e-10,7.44383591856255e-10,7.49399653795987e-10,7.59431777675451e-10,7.61294886395923e-10,7.46031726493595e-10,7.51549394627301e-10,7.41803902858678e-10,7.39510845971944e-10,7.35068048253895e-10,7.36501208808104e-10,7.3886592372255e-10,7.38722607667129e-10,7.53914109541746e-10,7.57998617121242e-10,7.44741881994807e-10,7.42162192997231e-10,7.4832478338033e-10,7.40227426249048e-10,7.50546182239354e-10,7.48181467324909e-10,7.48396441408041e-10,7.6072162217424e-10,7.44025301717703e-10,0],\"fOption\":\"\",\"fFunctions\":{\"_typename\":\"TList\",\"name\":\"TList\",\"arr\":[],\"opt\":[]},\"fBufferSize\":0,\"fBuffer\":[],\"fBinStatErrOpt\":0,\"fStatOverflows\":2,\"fArray\":[0,0.002806999,0.00279763,0.00280459,0.002787993,0.002742218,0.002750784,0.002805661,0.00270956,0.00278023,0.002788529,0.002807267,0.002787726,0.002734723,0.002758547,0.002724283,0.002773538,0.002782372,0.002796559,0.002784245,0.002818242,0.002851436,0.002843673,0.002781301,0.002811282,0.002764169,0.0027374,0.002766042,0.002753729,0.002746501,0.002794953,0.002807802,0.002789064,0.002732849,0.002752926,0.002749446,0.002796292,0.0027548,0.002771932,0.00276283,0.002828147,0.002792544,0.002776215,0.002763366,0.002793882,0.002806731,0.002701262,0.00279415,0.002791741,0.002743824,0.002781301,0.002748375,0.002825737,0.002750784,0.002753193,0.002742754,0.002755603,0.002775679,0.002772467,0.002812085,0.002815565,0.002832162,0.002742754,0.00277327,0.002753193,0.002799771,0.002710898,0.002795221,0.002774341,0.002734723,0.002778892,0.002806999,0.002752123,0.002747304,0.002744627,0.002773538,0.002730975,0.002702868,0.002742218,0.002788261,0.002811817,0.002775947,0.002797898,0.002793079,0.002764169,0.002690019,0.002747304,0.002749981,0.002780766,0.002814762,0.002781569,0.002748643,0.00280807,0.002714378,0.002655754,0.002775412,0.002740077,0.002734723,0.002791205,0.002805661,0.002767916,0.002775144,0.002786387,0.002834036,0.002806731,0.002669406,0.002763098,0.00275587,0.002792276,0.002814495,0.002811817,0.002789332,0.002784513,0.002712504,0.002724551,0.002766042,0.00274195,0.002776482,0.00278371,0.002807802,0.002802716,0.002788529,0.002770058,0.002774609,0.002760957,0.002737667,0.002747572,0.002791473,0.00279067,0.002743824,0.002780766,0.002824667,0.002815833,0.002757744,0.002755603,0.002723212,0.002756138,0.002725354,0.002773538,0.00275587,0.002744627,0.002775947,0.002779159,0.002764436,0.002746769,0.002753461,0.002760957,0.002774341,0.002779427,0.002789064,0.002770058,0.002852774,0.002819045,0.002727228,0.002770326,0.002759886,0.002721874,0.002730975,0.002756673,0.002816101,0.002802716,0.002799504,0.002768452,0.002795756,0.002740612,0.002758547,0.002788261,0.002756673,0.002710095,0.002764169,0.002791473,0.002809676,0.002827879,0.002765239,0.002747572,0.00273847,0.002824131,0.002786387,0.002792008,0.00278371,0.002834304,0.002817439,0.002812353,0.002823061,0.002703135,0.002712237,0.002768719,0.002773806,0.002775412,0.002840193,0.002805125,0.00283243,0.002747304,0.002732313,0.002795488,0.002768987,0.002762563,0.002761492,0.002792276,0.002796292,0.002821187,0.002770058,0.002804322,0.002812353,0.0027548,0.002753997,0.002778089,0.002769523,0.002790938,0.002743824,0.002828147,0.002813959,0.002793882,0.002754532,0.002781836,0.002773002,0.00274891,0.002818777,0.00282547,0.002853845,0.002893999,0.002891321,0.00283002,0.002869639,0.002791741,0.002710631,0.002747037,0.002760153,0.002778892,0.002739541,0.002821454,0.002817974,0.002796559,0.002778624,0.00279067,0.002726692,0.002774073,0.002789599,0.002821722,0.002798968,0.002773806,0.002834839,0.002785316,0.002796559,0.002826808,0.002762295,0.002725086,0.002750784,0.002816368,0.00276176,0.002814762,0.002821722,0.002788261,0.002785048,0.002784781,0.002768719,0.002748375,0.002786119,0.00279067,0.002835642,0.002788796,0.002808605,0.002788529,0.002824667,0.002796024,0.002742218,0.002752658,0.002741415,0.002794685,0.00274891,0.002833233,0.002770058,0.002777553,0.002773806,0.002726157,0.002719464,0.002761224,0.002772467,0.002747304,0.002808605,0.002798433,0.002760957,0.002792276,0.002779695,0.00279763,0.002790135,0.002771396,0.002741683,0.002719464,0.002752926,0.002802716,0.002791741,0.002827344,0.002759886,0.002785316,0.00274195,0.002718126,0.002775412,0.002832965,0.002804858,0.002808873,0.0028683,0.002777821,0.002786922,0.0027374,0.002714111,0.002733384,0.002745698,0.002751587,0.002775947,0.002802984,0.002793882,0.002798968,0.002789599,0.00272,0.002774876,0.002767113,0.0027374,0.002756138,0.002855986,0.002813691,0.002806731,0.00278023,0.002800307,0.002767916,0.002823061,0.002746233,0.002753729,0.002739809,0.002802984,0.002822525,0.002799236,0.00278371,0.002762563,0.002739006,0.002749713,0.002730172,0.002755067,0.002780766,0.002799504,0.00283698,0.00284394,0.002786922,0.002807535,0.002771129,0.002762563,0.002745966,0.00275132,0.002760153,0.002759618,0.002816368,0.002831627,0.002782104,0.002772467,0.002795488,0.002765239,0.002803787,0.002794953,0.002795756,0.002841799,0.002779427,0]}},{\"_typename\":\"TWebSnapshot\",\"fUniqueID\":0,\"fBits\":0,\"fObjectID\":\"\",\"fOption\":\"blNDC\",\"fKind\":1,\"fSnapshot\":{\"_typename\":\"TPaveText\",\"fUniqueID\":0,\"fBits\":9,\"fLineColor\":1,\"fLineStyle\":1,\"fLineWidth\":1,\"fFillColor\":0,\"fFillStyle\":0,\"fX1\":1.45969600876968,\"fY1\":0.00324270106299839,\"fX2\":4.82348929840991,\"fY2\":0.00331875001518056,\"fX1NDC\":0.285854271356784,\"fY1NDC\":0.934160843929211,\"fX2NDC\":0.714145728643216,\"fY2NDC\":0.995000004768372,\"fBorderSize\":0,\"fInit\":1,\"fShadowColor\":1,\"fCornerRadius\":0,\"fOption\":\"blNDC\",\"fName\":\"title\",\"fTextAngle\":0,\"fTextSize\":0,\"fTextAlign\":22,\"fTextColor\":1,\"fTextFont\":42,\"fLabel\":\"\",\"fLongest\":23,\"fMargin\":0.05,\"fLines\":{\"_typename\":\"TList\",\"name\":\"TList\",\"arr\":[{\"_typename\":\"TLatex\",\"fUniqueID\":0,\"fBits\":0,\"fName\":\"\",\"fTitle\":\"Azimuthal angle, C side\",\"fTextAngle\":0,\"fTextSize\":0,\"fTextAlign\":0,\"fTextColor\":0,\"fTextFont\":0,\"fX\":0,\"fY\":0,\"fLineColor\":1,\"fLineStyle\":1,\"fLineWidth\":2,\"fLimitFactorSize\":3,\"fOriginSize\":0.0517132878303528}],\"opt\":[\"\"]}}},{\"_typename\":\"TWebSnapshot\",\"fUniqueID\":0,\"fBits\":0,\"fObjectID\":\"\",\"fOption\":\"\",\"fKind\":1,\"fSnapshot\":{\"_typename\":\"TLine\",\"fUniqueID\":0,\"fBits\":9,\"fLineColor\":1,\"fLineStyle\":2,\"fLineWidth\":1,\"fX1\":0,\"fY1\":0.0022,\"fX2\":0,\"fY2\":0.0032}},{\"_typename\":\"TWebSnapshot\",\"fUniqueID\":0,\"fBits\":0,\"fObjectID\":\"\",\"fOption\":\"\",\"fKind\":1,\"fSnapshot\":{\"_typename\":\"TText\",\"fUniqueID\":0,\"fBits\":9,\"fName\":\"\",\"fTitle\":\"0\",\"fTextAngle\":0,\"fTextSize\":0.05,\"fTextAlign\":22,\"fTextColor\":921,\"fTextFont\":0,\"fX\":0.174532925199433,\"fY\":0.00315}},{\"_typename\":\"TWebSnapshot\",\"fUniqueID\":0,\"fBits\":0,\"fObjectID\":\"\",\"fOption\":\"\",\"fKind\":1,\"fSnapshot\":{\"_typename\":\"TLine\",\"fUniqueID\":0,\"fBits\":9,\"fLineColor\":1,\"fLineStyle\":2,\"fLineWidth\":1,\"fX1\":0.349065850398866,\"fY1\":0.0022,\"fX2\":0.349065850398866,\"fY2\":0.0032}},{\"_typename\":\"TWebSnapshot\",\"fUniqueID\":0,\"fBits\":0,\"fObjectID\":\"\",\"fOption\":\"\",\"fKind\":1,\"fSnapshot\":{\"_typename\":\"TText\",\"fUniqueID\":0,\"fBits\":9,\"fName\":\"\",\"fTitle\":\"1\",\"fTextAngle\":0,\"fTextSize\":0.05,\"fTextAlign\":22,\"fTextColor\":921,\"fTextFont\":0,\"fX\":0.523598775598299,\"fY\":0.00315}},{\"_typename\":\"TWebSnapshot\",\"fUniqueID\":0,\"fBits\":0,\"fObjectID\":\"\",\"fOption\":\"\",\"fKind\":1,\"fSnapshot\":{\"_typename\":\"TLine\",\"fUniqueID\":0,\"fBits\":9,\"fLineColor\":1,\"fLineStyle\":2,\"fLineWidth\":1,\"fX1\":0.698131700797732,\"fY1\":0.0022,\"fX2\":0.698131700797732,\"fY2\":0.0032}},{\"_typename\":\"TWebSnapshot\",\"fUniqueID\":0,\"fBits\":0,\"fObjectID\":\"\",\"fOption\":\"\",\"fKind\":1,\"fSnapshot\":{\"_typename\":\"TText\",\"fUniqueID\":0,\"fBits\":9,\"fName\":\"\",\"fTitle\":\"2\",\"fTextAngle\":0,\"fTextSize\":0.05,\"fTextAlign\":22,\"fTextColor\":921,\"fTextFont\":0,\"fX\":0.872664625997165,\"fY\":0.00315}},{\"_typename\":\"TWebSnapshot\",\"fUniqueID\":0,\"fBits\":0,\"fObjectID\":\"\",\"fOption\":\"\",\"fKind\":1,\"fSnapshot\":{\"_typename\":\"TLine\",\"fUniqueID\":0,\"fBits\":9,\"fLineColor\":1,\"fLineStyle\":2,\"fLineWidth\":1,\"fX1\":1.0471975511966,\"fY1\":0.0022,\"fX2\":1.0471975511966,\"fY2\":0.0032}},{\"_typename\":\"TWebSnapshot\",\"fUniqueID\":0,\"fBits\":0,\"fObjectID\":\"\",\"fOption\":\"\",\"fKind\":1,\"fSnapshot\":{\"_typename\":\"TText\",\"fUniqueID\":0,\"fBits\":9,\"fName\":\"\",\"fTitle\":\"3\",\"fTextAngle\":0,\"fTextSize\":0.05,\"fTextAlign\":22,\"fTextColor\":921,\"fTextFont\":0,\"fX\":1.22173047639603,\"fY\":0.00315}},{\"_typename\":\"TWebSnapshot\",\"fUniqueID\":0,\"fBits\":0,\"fObjectID\":\"\",\"fOption\":\"\",\"fKind\":1,\"fSnapshot\":{\"_typename\":\"TLine\",\"fUniqueID\":0,\"fBits\":9,\"fLineColor\":1,\"fLineStyle\":2,\"fLineWidth\":1,\"fX1\":1.39626340159546,\"fY1\":0.0022,\"fX2\":1.39626340159546,\"fY2\":0.0032}},{\"_typename\":\"TWebSnapshot\",\"fUniqueID\":0,\"fBits\":0,\"fObjectID\":\"\",\"fOption\":\"\",\"fKind\":1,\"fSnapshot\":{\"_typename\":\"TText\",\"fUniqueID\":0,\"fBits\":9,\"fName\":\"\",\"fTitle\":\"4\",\"fTextAngle\":0,\"fTextSize\":0.05,\"fTextAlign\":22,\"fTextColor\":921,\"fTextFont\":0,\"fX\":1.5707963267949,\"fY\":0.00315}},{\"_typename\":\"TWebSnapshot\",\"fUniqueID\":0,\"fBits\":0,\"fObjectID\":\"\",\"fOption\":\"\",\"fKind\":1,\"fSnapshot\":{\"_typename\":\"TLine\",\"fUniqueID\":0,\"fBits\":9,\"fLineColor\":1,\"fLineStyle\":2,\"fLineWidth\":1,\"fX1\":1.74532925199433,\"fY1\":0.0022,\"fX2\":1.74532925199433,\"fY2\":0.0032}},{\"_typename\":\"TWebSnapshot\",\"fUniqueID\":0,\"fBits\":0,\"fObjectID\":\"\",\"fOption\":\"\",\"fKind\":1,\"fSnapshot\":{\"_typename\":\"TText\",\"fUniqueID\":0,\"fBits\":9,\"fName\":\"\",\"fTitle\":\"5\",\"fTextAngle\":0,\"fTextSize\":0.05,\"fTextAlign\":22,\"fTextColor\":921,\"fTextFont\":0,\"fX\":1.91986217719376,\"fY\":0.00315}},{\"_typename\":\"TWebSnapshot\",\"fUniqueID\":0,\"fBits\":0,\"fObjectID\":\"\",\"fOption\":\"\",\"fKind\":1,\"fSnapshot\":{\"_typename\":\"TLine\",\"fUniqueID\":0,\"fBits\":9,\"fLineColor\":1,\"fLineStyle\":2,\"fLineWidth\":1,\"fX1\":2.0943951023932,\"fY1\":0.0022,\"fX2\":2.0943951023932,\"fY2\":0.0032}},{\"_typename\":\"TWebSnapshot\",\"fUniqueID\":0,\"fBits\":0,\"fObjectID\":\"\",\"fOption\":\"\",\"fKind\":1,\"fSnapshot\":{\"_typename\":\"TText\",\"fUniqueID\":0,\"fBits\":9,\"fName\":\"\",\"fTitle\":\"6\",\"fTextAngle\":0,\"fTextSize\":0.05,\"fTextAlign\":22,\"fTextColor\":921,\"fTextFont\":0,\"fX\":2.26892802759263,\"fY\":0.00315}},{\"_typename\":\"TWebSnapshot\",\"fUniqueID\":0,\"fBits\":0,\"fObjectID\":\"\",\"fOption\":\"\",\"fKind\":1,\"fSnapshot\":{\"_typename\":\"TLine\",\"fUniqueID\":0,\"fBits\":9,\"fLineColor\":1,\"fLineStyle\":2,\"fLineWidth\":1,\"fX1\":2.44346095279206,\"fY1\":0.0022,\"fX2\":2.44346095279206,\"fY2\":0.0032}},{\"_typename\":\"TWebSnapshot\",\"fUniqueID\":0,\"fBits\":0,\"fObjectID\":\"\",\"fOption\":\"\",\"fKind\":1,\"fSnapshot\":{\"_typename\":\"TText\",\"fUniqueID\":0,\"fBits\":9,\"fName\":\"\",\"fTitle\":\"7\",\"fTextAngle\":0,\"fTextSize\":0.05,\"fTextAlign\":22,\"fTextColor\":921,\"fTextFont\":0,\"fX\":2.61799387799149,\"fY\":0.00315}},{\"_typename\":\"TWebSnapshot\",\"fUniqueID\":0,\"fBits\":0,\"fObjectID\":\"\",\"fOption\":\"\",\"fKind\":1,\"fSnapshot\":{\"_typename\":\"TLine\",\"fUniqueID\":0,\"fBits\":9,\"fLineColor\":1,\"fLineStyle\":2,\"fLineWidth\":1,\"fX1\":2.79252680319093,\"fY1\":0.0022,\"fX2\":2.79252680319093,\"fY2\":0.0032}},{\"_typename\":\"TWebSnapshot\",\"fUniqueID\":0,\"fBits\":0,\"fObjectID\":\"\",\"fOption\":\"\",\"fKind\":1,\"fSnapshot\":{\"_typename\":\"TText\",\"fUniqueID\":0,\"fBits\":9,\"fName\":\"\",\"fTitle\":\"8\",\"fTextAngle\":0,\"fTextSize\":0.05,\"fTextAlign\":22,\"fTextColor\":921,\"fTextFont\":0,\"fX\":2.96705972839036,\"fY\":0.00315}},{\"_typename\":\"TWebSnapshot\",\"fUniqueID\":0,\"fBits\":0,\"fObjectID\":\"\",\"fOption\":\"\",\"fKind\":1,\"fSnapshot\":{\"_typename\":\"TLine\",\"fUniqueID\":0,\"fBits\":9,\"fLineColor\":1,\"fLineStyle\":2,\"fLineWidth\":1,\"fX1\":3.14159265358979,\"fY1\":0.0022,\"fX2\":3.14159265358979,\"fY2\":0.0032}},{\"_typename\":\"TWebSnapshot\",\"fUniqueID\":0,\"fBits\":0,\"fObjectID\":\"\",\"fOption\":\"\",\"fKind\":1,\"fSnapshot\":{\"_typename\":\"TText\",\"fUniqueID\":0,\"fBits\":9,\"fName\":\"\",\"fTitle\":\"9\",\"fTextAngle\":0,\"fTextSize\":0.05,\"fTextAlign\":22,\"fTextColor\":921,\"fTextFont\":0,\"fX\":3.31612557878923,\"fY\":0.00315}},{\"_typename\":\"TWebSnapshot\",\"fUniqueID\":0,\"fBits\":0,\"fObjectID\":\"\",\"fOption\":\"\",\"fKind\":1,\"fSnapshot\":{\"_typename\":\"TLine\",\"fUniqueID\":0,\"fBits\":9,\"fLineColor\":1,\"fLineStyle\":2,\"fLineWidth\":1,\"fX1\":3.49065850398866,\"fY1\":0.0022,\"fX2\":3.49065850398866,\"fY2\":0.0032}},{\"_typename\":\"TWebSnapshot\",\"fUniqueID\":0,\"fBits\":0,\"fObjectID\":\"\",\"fOption\":\"\",\"fKind\":1,\"fSnapshot\":{\"_typename\":\"TText\",\"fUniqueID\":0,\"fBits\":9,\"fName\":\"\",\"fTitle\":\"10\",\"fTextAngle\":0,\"fTextSize\":0.05,\"fTextAlign\":22,\"fTextColor\":921,\"fTextFont\":0,\"fX\":3.66519142918809,\"fY\":0.00315}},{\"_typename\":\"TWebSnapshot\",\"fUniqueID\":0,\"fBits\":0,\"fObjectID\":\"\",\"fOption\":\"\",\"fKind\":1,\"fSnapshot\":{\"_typename\":\"TLine\",\"fUniqueID\":0,\"fBits\":9,\"fLineColor\":1,\"fLineStyle\":2,\"fLineWidth\":1,\"fX1\":3.83972435438752,\"fY1\":0.0022,\"fX2\":3.83972435438752,\"fY2\":0.0032}},{\"_typename\":\"TWebSnapshot\",\"fUniqueID\":0,\"fBits\":0,\"fObjectID\":\"\",\"fOption\":\"\",\"fKind\":1,\"fSnapshot\":{\"_typename\":\"TText\",\"fUniqueID\":0,\"fBits\":9,\"fName\":\"\",\"fTitle\":\"11\",\"fTextAngle\":0,\"fTextSize\":0.05,\"fTextAlign\":22,\"fTextColor\":921,\"fTextFont\":0,\"fX\":4.01425727958696,\"fY\":0.00315}},{\"_typename\":\"TWebSnapshot\",\"fUniqueID\":0,\"fBits\":0,\"fObjectID\":\"\",\"fOption\":\"\",\"fKind\":1,\"fSnapshot\":{\"_typename\":\"TLine\",\"fUniqueID\":0,\"fBits\":9,\"fLineColor\":1,\"fLineStyle\":2,\"fLineWidth\":1,\"fX1\":4.18879020478639,\"fY1\":0.0022,\"fX2\":4.18879020478639,\"fY2\":0.0032}},{\"_typename\":\"TWebSnapshot\",\"fUniqueID\":0,\"fBits\":0,\"fObjectID\":\"\",\"fOption\":\"\",\"fKind\":1,\"fSnapshot\":{\"_typename\":\"TText\",\"fUniqueID\":0,\"fBits\":9,\"fName\":\"\",\"fTitle\":\"12\",\"fTextAngle\":0,\"fTextSize\":0.05,\"fTextAlign\":22,\"fTextColor\":921,\"fTextFont\":0,\"fX\":4.36332312998582,\"fY\":0.00315}},{\"_typename\":\"TWebSnapshot\",\"fUniqueID\":0,\"fBits\":0,\"fObjectID\":\"\",\"fOption\":\"\",\"fKind\":1,\"fSnapshot\":{\"_typename\":\"TLine\",\"fUniqueID\":0,\"fBits\":9,\"fLineColor\":1,\"fLineStyle\":2,\"fLineWidth\":1,\"fX1\":4.53785605518526,\"fY1\":0.0022,\"fX2\":4.53785605518526,\"fY2\":0.0032}},{\"_typename\":\"TWebSnapshot\",\"fUniqueID\":0,\"fBits\":0,\"fObjectID\":\"\",\"fOption\":\"\",\"fKind\":1,\"fSnapshot\":{\"_typename\":\"TText\",\"fUniqueID\":0,\"fBits\":9,\"fName\":\"\",\"fTitle\":\"13\",\"fTextAngle\":0,\"fTextSize\":0.05,\"fTextAlign\":22,\"fTextColor\":921,\"fTextFont\":0,\"fX\":4.71238898038469,\"fY\":0.00315}},{\"_typename\":\"TWebSnapshot\",\"fUniqueID\":0,\"fBits\":0,\"fObjectID\":\"\",\"fOption\":\"\",\"fKind\":1,\"fSnapshot\":{\"_typename\":\"TLine\",\"fUniqueID\":0,\"fBits\":9,\"fLineColor\":1,\"fLineStyle\":2,\"fLineWidth\":1,\"fX1\":4.88692190558412,\"fY1\":0.0022,\"fX2\":4.88692190558412,\"fY2\":0.0032}},{\"_typename\":\"TWebSnapshot\",\"fUniqueID\":0,\"fBits\":0,\"fObjectID\":\"\",\"fOption\":\"\",\"fKind\":1,\"fSnapshot\":{\"_typename\":\"TText\",\"fUniqueID\":0,\"fBits\":9,\"fName\":\"\",\"fTitle\":\"14\",\"fTextAngle\":0,\"fTextSize\":0.05,\"fTextAlign\":22,\"fTextColor\":921,\"fTextFont\":0,\"fX\":5.06145483078356,\"fY\":0.00315}},{\"_typename\":\"TWebSnapshot\",\"fUniqueID\":0,\"fBits\":0,\"fObjectID\":\"\",\"fOption\":\"\",\"fKind\":1,\"fSnapshot\":{\"_typename\":\"TLine\",\"fUniqueID\":0,\"fBits\":9,\"fLineColor\":1,\"fLineStyle\":2,\"fLineWidth\":1,\"fX1\":5.23598775598299,\"fY1\":0.0022,\"fX2\":5.23598775598299,\"fY2\":0.0032}},{\"_typename\":\"TWebSnapshot\",\"fUniqueID\":0,\"fBits\":0,\"fObjectID\":\"\",\"fOption\":\"\",\"fKind\":1,\"fSnapshot\":{\"_typename\":\"TText\",\"fUniqueID\":0,\"fBits\":9,\"fName\":\"\",\"fTitle\":\"15\",\"fTextAngle\":0,\"fTextSize\":0.05,\"fTextAlign\":22,\"fTextColor\":921,\"fTextFont\":0,\"fX\":5.41052068118242,\"fY\":0.00315}},{\"_typename\":\"TWebSnapshot\",\"fUniqueID\":0,\"fBits\":0,\"fObjectID\":\"\",\"fOption\":\"\",\"fKind\":1,\"fSnapshot\":{\"_typename\":\"TLine\",\"fUniqueID\":0,\"fBits\":9,\"fLineColor\":1,\"fLineStyle\":2,\"fLineWidth\":1,\"fX1\":5.58505360638185,\"fY1\":0.0022,\"fX2\":5.58505360638185,\"fY2\":0.0032}},{\"_typename\":\"TWebSnapshot\",\"fUniqueID\":0,\"fBits\":0,\"fObjectID\":\"\",\"fOption\":\"\",\"fKind\":1,\"fSnapshot\":{\"_typename\":\"TText\",\"fUniqueID\":0,\"fBits\":9,\"fName\":\"\",\"fTitle\":\"16\",\"fTextAngle\":0,\"fTextSize\":0.05,\"fTextAlign\":22,\"fTextColor\":921,\"fTextFont\":0,\"fX\":5.75958653158129,\"fY\":0.00315}},{\"_typename\":\"TWebSnapshot\",\"fUniqueID\":0,\"fBits\":0,\"fObjectID\":\"\",\"fOption\":\"\",\"fKind\":1,\"fSnapshot\":{\"_typename\":\"TLine\",\"fUniqueID\":0,\"fBits\":9,\"fLineColor\":1,\"fLineStyle\":2,\"fLineWidth\":1,\"fX1\":5.93411945678072,\"fY1\":0.0022,\"fX2\":5.93411945678072,\"fY2\":0.0032}},{\"_typename\":\"TWebSnapshot\",\"fUniqueID\":0,\"fBits\":0,\"fObjectID\":\"\",\"fOption\":\"\",\"fKind\":1,\"fSnapshot\":{\"_typename\":\"TText\",\"fUniqueID\":0,\"fBits\":9,\"fName\":\"\",\"fTitle\":\"17\",\"fTextAngle\":0,\"fTextSize\":0.05,\"fTextAlign\":22,\"fTextColor\":921,\"fTextFont\":0,\"fX\":6.10865238198015,\"fY\":0.00315}},{\"_typename\":\"TWebSnapshot\",\"fUniqueID\":0,\"fBits\":0,\"fObjectID\":\"\",\"fOption\":\"\",\"fKind\":1,\"fSnapshot\":{\"_typename\":\"TLine\",\"fUniqueID\":0,\"fBits\":9,\"fLineColor\":1,\"fLineStyle\":2,\"fLineWidth\":1,\"fX1\":6.28318530717959,\"fY1\":0.0022,\"fX2\":6.28318530717959,\"fY2\":0.0032}}]},{\"_typename\":\"TWebSnapshot\",\"fUniqueID\":0,\"fBits\":0,\"fObjectID\":\"\",\"fOption\":\"\",\"fKind\":1,\"fSnapshot\":{\"_typename\":\"TLegend\",\"fUniqueID\":0,\"fBits\":8,\"fLineColor\":1,\"fLineStyle\":1,\"fLineWidth\":1,\"fFillColor\":0,\"fFillStyle\":1001,\"fX1\":0,\"fY1\":0,\"fX2\":0.3,\"fY2\":0.15,\"fX1NDC\":0,\"fY1NDC\":0,\"fX2NDC\":0.3,\"fY2NDC\":0.15,\"fBorderSize\":1,\"fInit\":1,\"fShadowColor\":1,\"fCornerRadius\":0,\"fOption\":\"brNDC\",\"fName\":\"TPave\",\"fTextAngle\":0,\"fTextSize\":0,\"fTextAlign\":12,\"fTextColor\":1,\"fTextFont\":42,\"fPrimitives\":{\"_typename\":\"TList\",\"name\":\"TList\",\"arr\":[{\"_typename\":\"TLegendEntry\",\"fUniqueID\":0,\"fBits\":0,\"fTextAngle\":0,\"fTextSize\":0,\"fTextAlign\":0,\"fTextColor\":0,\"fTextFont\":42,\"fLineColor\":1,\"fLineStyle\":1,\"fLineWidth\":1,\"fFillColor\":0,\"fFillStyle\":0,\"fMarkerColor\":1,\"fMarkerStyle\":21,\"fMarkerSize\":1,\"fObject\":null,\"fLabel\":\"Normalized to integral\",\"fOption\":\"h\"},{\"_typename\":\"TLegendEntry\",\"fUniqueID\":0,\"fBits\":0,\"fTextAngle\":0,\"fTextSize\":0,\"fTextAlign\":0,\"fTextColor\":0,\"fTextFont\":42,\"fLineColor\":600,\"fLineStyle\":1,\"fLineWidth\":3,\"fFillColor\":0,\"fFillStyle\":0,\"fMarkerColor\":1,\"fMarkerStyle\":21,\"fMarkerSize\":1,\"fObject\":{\"$ref\":19},\"fLabel\":\"LHC23o_536401\",\"fOption\":\"l\"},{\"_typename\":\"TLegendEntry\",\"fUniqueID\":0,\"fBits\":0,\"fTextAngle\":0,\"fTextSize\":0,\"fTextAlign\":0,\"fTextColor\":0,\"fTextFont\":42,\"fLineColor\":632,\"fLineStyle\":2,\"fLineWidth\":3,\"fFillColor\":0,\"fFillStyle\":0,\"fMarkerColor\":1,\"fMarkerStyle\":21,\"fMarkerSize\":1,\"fObject\":{\"$ref\":25},\"fLabel\":\"LHC23k4e_536401\",\"fOption\":\"l\"}],\"opt\":[\"h\",\"l\",\"l\"]},\"fEntrySeparation\":0.1,\"fMargin\":0.25,\"fNColumns\":1,\"fColumnSeparation\":0}}],\"fScripts\":\"\",\"fHighlightConnect\":false,\"fFixedSize\":false});\n",
       "   Core.settings.HandleKeys = false;\n",
       "   Core.draw(\"root_plot_1710853427144\", obj, \"\");\n",
       "}\n",
       "\n",
       "function script_load_root_plot_1710853427144(src, on_error) {\n",
       "    let script = document.createElement('script');\n",
       "    script.src = src;\n",
       "    script.onload = function() { display_root_plot_1710853427144(JSROOT); };\n",
       "    script.onerror = function() { script.remove(); on_error(); };\n",
       "    document.head.appendChild(script);\n",
       "}\n",
       "\n",
       "if (typeof requirejs !== 'undefined') {\n",
       "\n",
       "    // We are in jupyter notebooks, use require.js which should be configured already\n",
       "    requirejs.config({\n",
       "       paths: { 'JSRootCore' : [ 'build/jsroot', 'https://root.cern/js/7.4.3/build/jsroot', 'https://jsroot.gsi.de/7.4.3/build/jsroot' ] }\n",
       "    })(['JSRootCore'],  function(Core) {\n",
       "       display_root_plot_1710853427144(Core);\n",
       "    });\n",
       "\n",
       "} else if (typeof JSROOT !== 'undefined') {\n",
       "\n",
       "   // JSROOT already loaded, just use it\n",
       "   display_root_plot_1710853427144(JSROOT);\n",
       "\n",
       "} else {\n",
       "\n",
       "    // We are in jupyterlab without require.js, directly loading jsroot\n",
       "    // Jupyterlab might be installed in a different base_url so we need to know it.\n",
       "    try {\n",
       "        var base_url = JSON.parse(document.getElementById('jupyter-config-data').innerHTML).baseUrl;\n",
       "    } catch(_) {\n",
       "        var base_url = '/';\n",
       "    }\n",
       "\n",
       "    // Try loading a local version of requirejs and fallback to cdn if not possible.\n",
       "    script_load_root_plot_1710853427144(base_url + 'static/build/jsroot.js', function(){\n",
       "        console.error('Fail to load JSROOT locally, please check your jupyter_notebook_config.py file');\n",
       "        script_load_root_plot_1710853427144('https://root.cern/js/7.4.3/build/jsroot.js', function(){\n",
       "            document.getElementById(\"root_plot_1710853427144\").innerHTML = \"Failed to load JSROOT\";\n",
       "        });\n",
       "    });\n",
       "}\n",
       "\n",
       "</script>\n"
      ],
      "text/plain": [
       "<IPython.core.display.HTML object>"
      ]
     },
     "metadata": {},
     "output_type": "display_data"
    }
   ],
   "source": [
    "%jsroot on\n",
    "objectName=\"hPhiCside\"\n",
    "if checkIfExists(rootDataFile,objectName):\n",
    "    [hist,legend,canvas,pad1] = drawHistograms(objectName,rootDataFile,\n",
    "                                               normalize=True,legend=True,legendNames=runList,pads=False,\n",
    "                                               maxColumns=2,drawOption=\"SAME L\",yAxisRange=[2.2e-3,3.2e-3],\n",
    "                                               grid=True)\n",
    "    #Sector boundatries\n",
    "    pad1.cd()\n",
    "    sectorBoundary = ROOT.TLine(0,hist[0].GetMinimum(),0,hist[0].GetMaximum())\n",
    "    sectorBoundary.SetLineStyle(2)\n",
    "    sectorNum = ROOT.TText(.5,.5,\"test\")\n",
    "    sectorNum.SetTextAlign(22)\n",
    "    sectorNum.SetTextColor(ROOT.kGray+1)\n",
    "    sectorNum.SetTextFont(0)\n",
    "    for j in range(19):\n",
    "        sectorBoundary.DrawLine((j*2*math.pi)/18,hist[0].GetMinimum(),(j*2*math.pi)/18,hist[0].GetMaximum())\n",
    "        if j < 18 : sectorNum.DrawText(((j+0.5)*2*math.pi)/18,hist[0].GetMaximum()*0.95+hist[0].GetMinimum()*0.05,str(j))\n",
    "    pad1.SetGridy(1)\n",
    "    canvas.SetCanvasSize(1200,400)\n",
    "    updateColors(hist,0)\n",
    "    canvas.Draw()"
   ]
  },
  {
   "cell_type": "markdown",
   "id": "87f2c477",
   "metadata": {},
   "source": [
    "**Eta distribution:**"
   ]
  },
  {
   "cell_type": "code",
   "execution_count": null,
   "id": "e2d2dcfc",
   "metadata": {},
   "outputs": [],
   "source": [
    "%jsroot on\n",
    "objectName=\"hEta\"\n",
    "xRange = [-1.1,1.1]\n",
    "yRange = [2e-3,13e-3]\n",
    "log  = \"none\"\n",
    "if checkIfExists(rootDataFile,objectName):\n",
    "    [hist,legend,canvas,pad1] = drawHistograms(objectName,rootDataFile,\n",
    "                                               normalize=True,legend=True,legendNames=runList,pads=False,\n",
    "                                               maxColumns=2,drawOption=\"SAME L\",xAxisRange=xRange,yAxisRange=yRange,log=log,\n",
    "                                               grid=True)\n",
    "    pad1.SetGrid(1)\n",
    "    canvas.SetCanvasSize(800,500)\n",
    "    updateColors(hist,0)\n",
    "    canvas.Draw()"
   ]
  },
  {
   "cell_type": "code",
   "execution_count": null,
   "id": "99e1195a-bfe1-450e-a934-f1d591424808",
   "metadata": {},
   "outputs": [],
   "source": [
    "%jsroot on\n",
    "objectName=\"h2DEtaPhi\"\n",
    "if checkIfExists(rootDataFile,objectName):\n",
    "    c = ROOT.TCanvas(\"\",\"\",1200,500)\n",
    "    [quants,legend,canvas] = drawQuantileProjection(objectName,rootDataFile)\n",
    "    updateColors(quants,cols)\n",
    "    canvas = c.cd()\n",
    "    canvas.SetGridy(1)\n",
    "    for quant in quants:\n",
    "        quant.Draw(\"L SAME\")\n",
    "        quant.GetYaxis().SetRangeUser(-.1,.1)\n",
    "        quant.SetTitle(passName+\" - Median eta vs phi\")\n",
    "    sectorBoundary = ROOT.TLine(0,quant.GetMinimum(),0,quant.GetMaximum())\n",
    "    sectorBoundary.SetLineStyle(2)\n",
    "    sectorNum = ROOT.TText(.5,.5,\"test\")\n",
    "    sectorNum.SetTextAlign(22)\n",
    "    sectorNum.SetTextColor(ROOT.kGray+1)\n",
    "    sectorNum.SetTextFont(0)\n",
    "    for j in range(19):\n",
    "        sectorBoundary.DrawLine((j*2*math.pi)/18,quant.GetMinimum(),(j*2*math.pi)/18,quant.GetMaximum())\n",
    "        if j < 18 : sectorNum.DrawText(((j+0.5)*2*math.pi)/18,quant.GetMaximum()*0.95+quant.GetMinimum()*0.05,str(j))\n",
    "    legend.Draw()\n",
    "    c.Draw()\n"
   ]
  },
  {
   "cell_type": "markdown",
   "id": "738f539d",
   "metadata": {},
   "source": [
    "#### Track properties\n",
    "**Transverse momentum**"
   ]
  },
  {
   "cell_type": "code",
   "execution_count": null,
   "id": "fe939830",
   "metadata": {},
   "outputs": [],
   "source": [
    "%jsroot on\n",
    "objectName=\"hPt\"\n",
    "xRange = [0,0]\n",
    "yRange = [0,0]\n",
    "log  = \"logxy\"\n",
    "if checkIfExists(rootDataFile,objectName):\n",
    "    [hist,legend,canvas,pad1] = drawHistograms(objectName,rootDataFile,\n",
    "                                               normalize=True,legend=True,legendNames=runList,pads=False,\n",
    "                                               maxColumns=2,drawOption=\"SAME L\",xAxisRange=xRange,yAxisRange=yRange,log=log,\n",
    "                                               grid=True)\n",
    "    pad1.SetGrid(1)\n",
    "    canvas.SetCanvasSize(800,500)\n",
    "    updateColors(hist,0)\n",
    "    canvas.Draw()"
   ]
  },
  {
   "cell_type": "markdown",
   "id": "5200e396",
   "metadata": {},
   "source": [
    "**Track sign**"
   ]
  },
  {
   "cell_type": "code",
   "execution_count": null,
   "id": "e222519f",
   "metadata": {},
   "outputs": [],
   "source": [
    "%jsroot on\n",
    "objectName=\"hSign\"\n",
    "xRange = [0,0]\n",
    "yRange = [0,0]\n",
    "log  = \"none\"\n",
    "if checkIfExists(rootDataFile,objectName):\n",
    "    [hist,legend,canvas,pad1] = drawHistograms(objectName,rootDataFile,\n",
    "                                               normalize=True,legend=True,legendNames=runList,pads=False,\n",
    "                                               maxColumns=2,drawOption=\"SAME HIST\",xAxisRange=xRange,yAxisRange=yRange,log=log,\n",
    "                                               grid=True)\n",
    "    pad1.SetGrid(1)\n",
    "    canvas.SetCanvasSize(800,400)\n",
    "    updateColors(hist,0)\n",
    "    canvas.Draw()"
   ]
  },
  {
   "cell_type": "markdown",
   "id": "d58cf558",
   "metadata": {},
   "source": [
    "**Charge / transverse momentum**"
   ]
  },
  {
   "cell_type": "code",
   "execution_count": null,
   "id": "edc50695",
   "metadata": {},
   "outputs": [],
   "source": [
    "%jsroot on\n",
    "objectName=\"hQOverPt\"\n",
    "xRange = [0,0]\n",
    "yRange = [0,0]\n",
    "log  = \"none\"\n",
    "if checkIfExists(rootDataFile,objectName):\n",
    "    [hist,legend,canvas,pad1] = drawHistograms(objectName,rootDataFile,\n",
    "                                               normalize=True,legend=True,legendNames=runList,pads=False,\n",
    "                                               maxColumns=2,drawOption=\"SAME L\",xAxisRange=xRange,yAxisRange=yRange,log=log,\n",
    "                                               grid=True)\n",
    "    pad1.SetGrid(1)\n",
    "    canvas.SetCanvasSize(800,400)\n",
    "    updateColors(hist,0)\n",
    "    canvas.Draw()"
   ]
  },
  {
   "cell_type": "markdown",
   "id": "cb886e2a",
   "metadata": {},
   "source": [
    "**Number of clusters per track**"
   ]
  },
  {
   "cell_type": "code",
   "execution_count": null,
   "id": "ad5067a9",
   "metadata": {},
   "outputs": [],
   "source": [
    "%jsroot on\n",
    "objectName=\"hNClustersAfterCuts\"\n",
    "xRange = [50,160]\n",
    "yRange = [0,40e-3]\n",
    "log  = \"none\"\n",
    "if checkIfExists(rootDataFile,objectName):\n",
    "    [hist,legend,canvas,pad1] = drawHistograms(objectName,rootDataFile,\n",
    "                                               normalize=True,legend=True,legendNames=runList,pads=False,\n",
    "                                               maxColumns=2,drawOption=\"SAME L\",xAxisRange=xRange,yAxisRange=yRange,log=log,\n",
    "                                               grid=True)\n",
    "    pad1.SetGrid(1)\n",
    "    canvas.SetCanvasSize(800,400)\n",
    "    updateColors(hist,0)\n",
    "    canvas.Draw()"
   ]
  },
  {
   "cell_type": "markdown",
   "id": "f2925ae9",
   "metadata": {},
   "source": [
    "**nClusters vs phi**"
   ]
  },
  {
   "cell_type": "code",
   "execution_count": null,
   "id": "f4295051-b300-4f80-a42b-1f00d9fc10aa",
   "metadata": {},
   "outputs": [],
   "source": [
    "%jsroot on\n",
    "objectName=\"h2DNClustersPhiAside\"\n",
    "if checkIfExists(rootDataFile,objectName):\n",
    "    c = ROOT.TCanvas(\"\",\"\",1200,500)\n",
    "    [quants,legend,canvas] = drawQuantileProjection(objectName,rootDataFile)\n",
    "    updateColors(quants,cols)\n",
    "    canvas = c.cd()\n",
    "    canvas.SetGridy(1)\n",
    "    for quant in quants:\n",
    "        quant.Draw(\"L SAME\")\n",
    "        quant.GetYaxis().SetRangeUser(60,160)\n",
    "        quant.SetTitle(passName+\"- A-Side - nClusters per track vs phi\")\n",
    "    sectorBoundary = ROOT.TLine(0,quant.GetMinimum(),0,quant.GetMaximum())\n",
    "    sectorBoundary.SetLineStyle(2)\n",
    "    sectorNum = ROOT.TText(.5,.5,\"test\")\n",
    "    sectorNum.SetTextAlign(22)\n",
    "    sectorNum.SetTextColor(ROOT.kGray+1)\n",
    "    sectorNum.SetTextFont(0)\n",
    "    for j in range(19):\n",
    "        sectorBoundary.DrawLine((j*2*math.pi)/18,quant.GetMinimum(),(j*2*math.pi)/18,quant.GetMaximum())\n",
    "        if j < 18 : sectorNum.DrawText(((j+0.5)*2*math.pi)/18,quant.GetMaximum()*0.95+quant.GetMinimum()*0.05,str(j))\n",
    "    legend.Draw()\n",
    "    c.Draw()\n"
   ]
  },
  {
   "cell_type": "code",
   "execution_count": null,
   "id": "a8a24637-f8e4-49c8-9b0f-7dc8cdceebd4",
   "metadata": {},
   "outputs": [],
   "source": [
    "%jsroot on\n",
    "objectName=\"h2DNClustersPhiCside\"\n",
    "if checkIfExists(rootDataFile,objectName):\n",
    "    c = ROOT.TCanvas(\"\",\"\",1200,500)\n",
    "    [quants,legend,canvas] = drawQuantileProjection(objectName,rootDataFile)\n",
    "    updateColors(quants,cols)\n",
    "    canvas = c.cd()\n",
    "    canvas.SetGridy(1)\n",
    "    for quant in quants:\n",
    "        quant.Draw(\"L SAME\")\n",
    "        quant.GetYaxis().SetRangeUser(60,160)\n",
    "        quant.SetTitle(passName+\"- C-Side - nClusters per track vs phi\")\n",
    "    sectorBoundary = ROOT.TLine(0,quant.GetMinimum(),0,quant.GetMaximum())\n",
    "    sectorBoundary.SetLineStyle(2)\n",
    "    sectorNum = ROOT.TText(.5,.5,\"test\")\n",
    "    sectorNum.SetTextAlign(22)\n",
    "    sectorNum.SetTextColor(ROOT.kGray+1)\n",
    "    sectorNum.SetTextFont(0)\n",
    "    for j in range(19):\n",
    "        sectorBoundary.DrawLine((j*2*math.pi)/18,quant.GetMinimum(),(j*2*math.pi)/18,quant.GetMaximum())\n",
    "        if j < 18 : sectorNum.DrawText(((j+0.5)*2*math.pi)/18,quant.GetMaximum()*0.95+quant.GetMinimum()*0.05,str(j))\n",
    "    legend.Draw()\n",
    "    c.Draw()\n"
   ]
  },
  {
   "cell_type": "markdown",
   "id": "91903ed3",
   "metadata": {},
   "source": [
    "**nClusters vs eta**"
   ]
  },
  {
   "cell_type": "code",
   "execution_count": null,
   "id": "9fe0d2ad-6969-4d87-9ac2-ade8f2ab95e7",
   "metadata": {},
   "outputs": [],
   "source": [
    "%jsroot on\n",
    "objectName=\"h2DNClustersEta\"\n",
    "if checkIfExists(rootDataFile,objectName):\n",
    "    c = ROOT.TCanvas(\"\",\"\",1200,500)\n",
    "    [quants,legend,canvas] = drawQuantileProjection(objectName,rootDataFile)\n",
    "    updateColors(quants,cols)\n",
    "    canvas = c.cd()\n",
    "    canvas.SetGrid(1)\n",
    "    for quant in quants:\n",
    "        quant.Draw(\"L SAME\")\n",
    "        quant.GetXaxis().SetRangeUser(-1.1,1.1)\n",
    "        quant.GetYaxis().SetRangeUser(60,160)\n",
    "        quant.SetTitle(passName+\"- nClusters per track vs eta\")\n",
    "    legend.Draw()\n",
    "    c.Draw()\n"
   ]
  },
  {
   "cell_type": "markdown",
   "id": "9254b83e",
   "metadata": {},
   "source": [
    "**nClusters vs transverse momentum**"
   ]
  },
  {
   "cell_type": "code",
   "execution_count": null,
   "id": "60716034-b41d-4983-a5a3-4dad574c907a",
   "metadata": {},
   "outputs": [],
   "source": [
    "%jsroot on\n",
    "objectName=\"h2DNClustersPt\"\n",
    "if checkIfExists(rootDataFile,objectName):\n",
    "    c = ROOT.TCanvas(\"\",\"\",1200,500)\n",
    "    [quants,legend,canvas] = drawQuantileProjection(objectName,rootDataFile)\n",
    "    updateColors(quants,cols)\n",
    "    canvas = c.cd()\n",
    "    canvas.SetGrid(1)\n",
    "    canvas.SetLogx()\n",
    "    for quant in quants:\n",
    "        quant.Draw(\"L SAME\")\n",
    "        quant.GetYaxis().SetRangeUser(60,160)\n",
    "        quant.SetTitle(passName+\"- nClusters per track vs pT\")\n",
    "    legend.Draw()\n",
    "    c.Draw()"
   ]
  },
  {
   "cell_type": "markdown",
   "id": "dda7f5c0-a25a-40b0-b573-1b0e28ca0253",
   "metadata": {},
   "source": [
    "### DCAr"
   ]
  },
  {
   "cell_type": "code",
   "execution_count": null,
   "id": "e439180b-5d8d-4c34-a993-64e1f7018737",
   "metadata": {},
   "outputs": [],
   "source": [
    "%jsroot on\n",
    "objectName=\"hDCAr_A_Pos\"\n",
    "title = \" - DCAr A-Side - Positive\"\n",
    "if checkIfExists(rootDataFile,objectName):\n",
    "    c = ROOT.TCanvas(\"\",\"\",1200,500)\n",
    "    [quants,legend,canvas] = drawQuantileProjection(objectName,rootDataFile)\n",
    "    updateColors(quants,cols)\n",
    "    canvas = c.cd()\n",
    "    canvas.SetGridy(1)\n",
    "    for quant in quants:\n",
    "        quant.Draw(\"L SAME\")\n",
    "        quant.GetYaxis().SetRangeUser(-3,3)\n",
    "        quant.SetTitle(passName+title)\n",
    "    sectorBoundary = ROOT.TLine(0,quant.GetMinimum(),0,quant.GetMaximum())\n",
    "    sectorBoundary.SetLineStyle(2)\n",
    "    sectorNum = ROOT.TText(.5,.5,\"test\")\n",
    "    sectorNum.SetTextAlign(22)\n",
    "    sectorNum.SetTextColor(ROOT.kGray+1)\n",
    "    sectorNum.SetTextFont(0)\n",
    "    for j in range(19):\n",
    "        sectorBoundary.DrawLine((j*2*math.pi)/18,quant.GetMinimum(),(j*2*math.pi)/18,quant.GetMaximum())\n",
    "        if j < 18 : sectorNum.DrawText(((j+0.5)*2*math.pi)/18,quant.GetMaximum()*0.95+quant.GetMinimum()*0.05,str(j))\n",
    "    legend.Draw()\n",
    "    c.Draw()"
   ]
  },
  {
   "cell_type": "code",
   "execution_count": null,
   "id": "b0eb056b-e630-4812-ac76-d98f9f62bfbf",
   "metadata": {},
   "outputs": [],
   "source": [
    "%jsroot on\n",
    "objectName=\"hDCAr_A_Neg\"\n",
    "title = \" - DCAr A-Side - Negative\"\n",
    "if checkIfExists(rootDataFile,objectName):\n",
    "    c = ROOT.TCanvas(\"\",\"\",1200,500)\n",
    "    [quants,legend,canvas] = drawQuantileProjection(objectName,rootDataFile)\n",
    "    updateColors(quants,cols)\n",
    "    canvas = c.cd()\n",
    "    canvas.SetGridy(1)\n",
    "    for quant in quants:\n",
    "        quant.Draw(\"L SAME\")\n",
    "        quant.GetYaxis().SetRangeUser(-3,3)\n",
    "        quant.SetTitle(passName+title)\n",
    "    sectorBoundary = ROOT.TLine(0,quant.GetMinimum(),0,quant.GetMaximum())\n",
    "    sectorBoundary.SetLineStyle(2)\n",
    "    sectorNum = ROOT.TText(.5,.5,\"test\")\n",
    "    sectorNum.SetTextAlign(22)\n",
    "    sectorNum.SetTextColor(ROOT.kGray+1)\n",
    "    sectorNum.SetTextFont(0)\n",
    "    for j in range(19):\n",
    "        sectorBoundary.DrawLine((j*2*math.pi)/18,quant.GetMinimum(),(j*2*math.pi)/18,quant.GetMaximum())\n",
    "        if j < 18 : sectorNum.DrawText(((j+0.5)*2*math.pi)/18,quant.GetMaximum()*0.95+quant.GetMinimum()*0.05,str(j))\n",
    "    legend.Draw()\n",
    "    c.Draw()"
   ]
  },
  {
   "cell_type": "code",
   "execution_count": null,
   "id": "6f4125b9-2961-4315-9014-73ca4486a001",
   "metadata": {},
   "outputs": [],
   "source": [
    "%jsroot on\n",
    "objectName=\"hDCAr_C_Pos\"\n",
    "title = \" - DCAr C-Side - Positive\"\n",
    "if checkIfExists(rootDataFile,objectName):\n",
    "    c = ROOT.TCanvas(\"\",\"\",1200,500)\n",
    "    [quants,legend,canvas] = drawQuantileProjection(objectName,rootDataFile)\n",
    "    updateColors(quants,cols)\n",
    "    canvas = c.cd()\n",
    "    canvas.SetGridy(1)\n",
    "    for quant in quants:\n",
    "        quant.Draw(\"L SAME\")\n",
    "        quant.GetYaxis().SetRangeUser(-3,3)\n",
    "        quant.SetTitle(passName+title)\n",
    "    sectorBoundary = ROOT.TLine(0,quant.GetMinimum(),0,quant.GetMaximum())\n",
    "    sectorBoundary.SetLineStyle(2)\n",
    "    sectorNum = ROOT.TText(.5,.5,\"test\")\n",
    "    sectorNum.SetTextAlign(22)\n",
    "    sectorNum.SetTextColor(ROOT.kGray+1)\n",
    "    sectorNum.SetTextFont(0)\n",
    "    for j in range(19):\n",
    "        sectorBoundary.DrawLine((j*2*math.pi)/18,quant.GetMinimum(),(j*2*math.pi)/18,quant.GetMaximum())\n",
    "        if j < 18 : sectorNum.DrawText(((j+0.5)*2*math.pi)/18,quant.GetMaximum()*0.95+quant.GetMinimum()*0.05,str(j))\n",
    "    legend.Draw()\n",
    "    c.Draw()"
   ]
  },
  {
   "cell_type": "code",
   "execution_count": null,
   "id": "c8c8ae14-8f11-45e5-8edf-927a208859c2",
   "metadata": {},
   "outputs": [],
   "source": [
    "%jsroot on\n",
    "objectName=\"hDCAr_C_Neg\"\n",
    "title = \" - DCAr C-Side - Negative\"\n",
    "if checkIfExists(rootDataFile,objectName):\n",
    "    c = ROOT.TCanvas(\"\",\"\",1200,500)\n",
    "    [quants,legend,canvas] = drawQuantileProjection(objectName,rootDataFile)\n",
    "    updateColors(quants,cols)\n",
    "    canvas = c.cd()\n",
    "    canvas.SetGridy(1)\n",
    "    for quant in quants:\n",
    "        quant.Draw(\"L SAME\")\n",
    "        quant.GetYaxis().SetRangeUser(-3,3)\n",
    "        quant.SetTitle(passName+title)\n",
    "    sectorBoundary = ROOT.TLine(0,quant.GetMinimum(),0,quant.GetMaximum())\n",
    "    sectorBoundary.SetLineStyle(2)\n",
    "    sectorNum = ROOT.TText(.5,.5,\"test\")\n",
    "    sectorNum.SetTextAlign(22)\n",
    "    sectorNum.SetTextColor(ROOT.kGray+1)\n",
    "    sectorNum.SetTextFont(0)\n",
    "    for j in range(19):\n",
    "        sectorBoundary.DrawLine((j*2*math.pi)/18,quant.GetMinimum(),(j*2*math.pi)/18,quant.GetMaximum())\n",
    "        if j < 18 : sectorNum.DrawText(((j+0.5)*2*math.pi)/18,quant.GetMaximum()*0.95+quant.GetMinimum()*0.05,str(j))\n",
    "    legend.Draw()\n",
    "    c.Draw()"
   ]
  },
  {
   "cell_type": "markdown",
   "id": "8d8b92cf",
   "metadata": {},
   "source": [
    "### PID\n",
    "#### dEdxTot of MIP"
   ]
  },
  {
   "cell_type": "code",
   "execution_count": null,
   "id": "e1995b55-5a5f-4cd2-8615-25288a28c662",
   "metadata": {},
   "outputs": [],
   "source": [
    "%jsroot on\n",
    "yRange = [0,0.09]\n",
    "objects = [\"hdEdxTotMIP_\" + region for region in [\"TPC\",\"IROC\",\"OROC1\",\"OROC2\",\"OROC3\"]]\n",
    "if all([checkIfExists(rootDataFile,objectName) for objectName in objects]):\n",
    "    hists = []\n",
    "    for objectName in objects:\n",
    "        [hist,legend,canvas,pad1] = drawHistograms(objectName,rootDataFile,normalize=True,legend=True,legendNames=runList,pads=False,\n",
    "                                               drawOption=\"SAME L\",yAxisRange=yRange,log=\"logx\")\n",
    "        updateColors(hist,cols)\n",
    "        hists.append(copy(hist))\n",
    "    c = ROOT.TCanvas(\"MIP\",\"MIP\",1100,600)\n",
    "    c.Divide(2)\n",
    "    leftPad = c.cd(1)\n",
    "    leftPad.SetGrid(1)\n",
    "    for hist in hists[0]:\n",
    "        hist.SetTitle(passName+\" - \"+hist.GetTitle())\n",
    "        hist.Draw(\"SAME L\")\n",
    "        hist.SetStats(0)\n",
    "    #Draw target 50\n",
    "    targets = [ROOT.TLine(50,yRange[0],50,yRange[1]) for hist in hists]\n",
    "    for i in range(len(objects)):\n",
    "        targets[i].SetLineStyle(2)\n",
    "        targets[i].SetLineColor(3)\n",
    "        targets[i].SetLineWidth(3)\n",
    "    targets[0].Draw()\n",
    "    legend.Draw()\n",
    "    rightPad = c.cd(2)\n",
    "    rightPad.Divide(2,2)\n",
    "    for i in range(1,5):\n",
    "        rightPad.cd(i)\n",
    "        ROOT.gPad.SetGrid(1)\n",
    "        for hist in hists[i]:\n",
    "            hist.SetTitle(passName+\" - \"+hist.GetTitle())\n",
    "            hist.Draw(\"SAME L\")\n",
    "            hist.SetStats(0)\n",
    "        targets[i].Draw()\n",
    "    c.Draw()"
   ]
  },
  {
   "cell_type": "markdown",
   "id": "b9ed6bf3",
   "metadata": {},
   "source": [
    "#### TPC Gain calibration\n",
    "**dEdx of MIP vs sector**"
   ]
  },
  {
   "cell_type": "code",
   "execution_count": null,
   "id": "b3d4f947-e97e-4c8d-9e0d-c22eef7d2913",
   "metadata": {},
   "outputs": [],
   "source": [
    "%jsroot on\n",
    "objectName=\"hdEdxTotMIPVsSec_TPC\"\n",
    "title = \"TPC Mean MIP Q_{Tot} vs Sector\"\n",
    "if checkIfExists(rootDataFile,objectName):\n",
    "    c = ROOT.TCanvas(\"\",\"\",1200,500)\n",
    "    [quants,legend,canvas] = sliceAndFit(objectName,rootDataFile)\n",
    "    updateColors(quants,cols)\n",
    "    canvas = c.cd()\n",
    "    canvas.SetGridy(1)\n",
    "    for quant in quants:\n",
    "        quant.Draw(\"L SAME\")\n",
    "        quant.GetYaxis().SetRangeUser(45,55)\n",
    "        quant.SetTitle(passName+\" - \"+title)\n",
    "    legend.Draw()    \n",
    "    c.Draw()"
   ]
  },
  {
   "cell_type": "markdown",
   "id": "dedc1882",
   "metadata": {},
   "source": [
    "**dEdx of Mip vs nClusters**"
   ]
  },
  {
   "cell_type": "code",
   "execution_count": null,
   "id": "91d4c491-8c38-4a13-8221-6e164424c2af",
   "metadata": {},
   "outputs": [],
   "source": [
    "%jsroot on\n",
    "objectName=\"hdEdxTotMIPVsNcl_TPC\"\n",
    "title = \"TPC Mean MIP Q_{Tot} vs nClusters\"\n",
    "if checkIfExists(rootDataFile,objectName):\n",
    "    c = ROOT.TCanvas(\"\",\"\",1200,500)\n",
    "    [quants,legend,canvas] = sliceAndFit(objectName,rootDataFile)\n",
    "    updateColors(quants,cols)\n",
    "    canvas = c.cd()\n",
    "    canvas.SetGridy(1)\n",
    "    for quant in quants:\n",
    "        quant.Draw(\"L SAME\")\n",
    "        quant.GetYaxis().SetRangeUser(45,55)\n",
    "        quant.GetXaxis().SetRangeUser(60,155)\n",
    "        quant.SetTitle(passName+\" - \"+title)\n",
    "    legend.Draw()\n",
    "    c.Draw()"
   ]
  },
  {
   "cell_type": "markdown",
   "id": "560a30ec",
   "metadata": {},
   "source": [
    "**dEdx of Mip vs tan(lambda)**"
   ]
  },
  {
   "cell_type": "code",
   "execution_count": null,
   "id": "ea06236c-f411-42e6-a8f6-6cb0c3b96a4b",
   "metadata": {},
   "outputs": [],
   "source": [
    "%jsroot on\n",
    "objectName=\"hdEdxTotMIPVsTgl_TPC\"\n",
    "title = \"TPC Mean MIP Q_{Tot} vs tan(lambda)\"\n",
    "if checkIfExists(rootDataFile,objectName):\n",
    "    c = ROOT.TCanvas(\"\",\"\",1200,500)\n",
    "    [quants,legend,canvas] = sliceAndFit(objectName,rootDataFile)\n",
    "    updateColors(quants,cols)\n",
    "    canvas = c.cd()\n",
    "    canvas.SetGridy(1)\n",
    "    for quant in quants:\n",
    "        quant.Draw(\"L SAME\")\n",
    "        quant.GetYaxis().SetRangeUser(45,55)\n",
    "        quant.GetXaxis().SetRangeUser(-2,2)\n",
    "        quant.SetTitle(passName+\" - \"+title)\n",
    "    legend.Draw()\n",
    "    c.Draw()"
   ]
  },
  {
   "cell_type": "markdown",
   "id": "61714520",
   "metadata": {},
   "source": [
    "**dEdx of Mip vs sin(phi)**"
   ]
  },
  {
   "cell_type": "code",
   "execution_count": null,
   "id": "c5e9bdae-e112-472e-be5a-82277ad7ea37",
   "metadata": {},
   "outputs": [],
   "source": [
    "%jsroot on\n",
    "objectName=\"hdEdxTotMIPVsSnp_TPC\"\n",
    "title = \"TPC Mean MIP Q_{Tot} vs sin(phi)\"\n",
    "if checkIfExists(rootDataFile,objectName):\n",
    "    c = ROOT.TCanvas(\"\",\"\",1200,500)\n",
    "    [quants,legend,canvas] = sliceAndFit(objectName,rootDataFile)\n",
    "    updateColors(quants,cols)\n",
    "    canvas = c.cd()\n",
    "    canvas.SetGridy(1)\n",
    "    for quant in quants:\n",
    "        quant.Draw(\"L SAME\")\n",
    "        quant.GetYaxis().SetRangeUser(45,55)\n",
    "        quant.GetXaxis().SetRangeUser(-1,1)\n",
    "        quant.SetTitle(passName+\" - \"+title)\n",
    "    legend.Draw()\n",
    "    c.Draw()"
   ]
  },
  {
   "cell_type": "code",
   "execution_count": null,
   "id": "f7620fc3-74bd-4cbf-971d-7ce9c756e313",
   "metadata": {},
   "outputs": [],
   "source": []
  }
 ],
 "metadata": {
  "kernelspec": {
   "display_name": "Python 3 (ipykernel)",
   "language": "python",
   "name": "python3"
  },
  "language_info": {
   "codemirror_mode": {
    "name": "ipython",
    "version": 3
   },
   "file_extension": ".py",
   "mimetype": "text/x-python",
   "name": "python",
   "nbconvert_exporter": "python",
   "pygments_lexer": "ipython3",
   "version": "3.9.16"
  },
  "toc": {
   "base_numbering": 1,
   "nav_menu": {},
   "number_sections": false,
   "sideBar": false,
   "skip_h1_title": true,
   "title_cell": "Table of Contents",
   "title_sidebar": "Contents",
   "toc_cell": true,
   "toc_position": {},
   "toc_section_display": true,
   "toc_window_display": false
  },
  "widgets": {
   "application/vnd.jupyter.widget-state+json": {
    "state": {
     "0406058ce7b34920a5002f002b388a11": {
      "model_module": "@jupyter-widgets/output",
      "model_module_version": "1.0.0",
      "model_name": "OutputModel",
      "state": {
       "layout": "IPY_MODEL_e5c089c3d1f54e06aa7c69d6be7b7d7a"
      }
     },
     "04f7abbb945649049c088602c240cddf": {
      "model_module": "@jupyter-widgets/controls",
      "model_module_version": "1.4.0",
      "model_name": "ButtonModel",
      "state": {
       "_model_module_version": "1.4.0",
       "_view_module_version": "1.4.0",
       "description": "Save to Root",
       "layout": "IPY_MODEL_a3a8439080a4433c8cfc3592bcac145a",
       "style": "IPY_MODEL_ca9438839a46429aaa3f24354ee42db5"
      }
     },
     "0879c08a037c40b59978c9acbf2b6698": {
      "model_module": "@jupyter-widgets/controls",
      "model_module_version": "1.4.0",
      "model_name": "ButtonStyleModel",
      "state": {
       "_model_module_version": "1.4.0",
       "_view_module_version": "1.1.0"
      }
     },
     "0e66ecb30df5491980f781135fa73613": {
      "model_module": "@jupyter-widgets/controls",
      "model_module_version": "1.4.0",
      "model_name": "ButtonStyleModel",
      "state": {
       "_model_module_version": "1.4.0",
       "_view_module_version": "1.1.0"
      }
     },
     "0ee941a35f4e48c0ae62d26a3e4022b9": {
      "model_module": "@jupyter-widgets/controls",
      "model_module_version": "1.4.0",
      "model_name": "ButtonModel",
      "state": {
       "_model_module_version": "1.4.0",
       "_view_module_version": "1.4.0",
       "description": "Save to Root",
       "layout": "IPY_MODEL_4e0b4767d50c45d4a3059b25b084f5ae",
       "style": "IPY_MODEL_6f24f617f4e8405baa6588f13c520940"
      }
     },
     "1088528976754aab8271549957380321": {
      "model_module": "@jupyter-widgets/controls",
      "model_module_version": "1.4.0",
      "model_name": "ButtonModel",
      "state": {
       "_model_module_version": "1.4.0",
       "_view_module_version": "1.4.0",
       "description": "Save to PDF",
       "layout": "IPY_MODEL_56dbdc8b10b144ecab1eb0b2dd996fbe",
       "style": "IPY_MODEL_0879c08a037c40b59978c9acbf2b6698"
      }
     },
     "10ee510d3cee4e4fbc3f48e8b75680c2": {
      "model_module": "@jupyter-widgets/base",
      "model_module_version": "1.1.0",
      "model_name": "LayoutModel",
      "state": {
       "_model_module_version": "1.1.0",
       "_view_module_version": "1.1.0",
       "border": null,
       "overflow_x": null,
       "overflow_y": null
      }
     },
     "20e680f74b7d40f395649181965c1d39": {
      "model_module": "@jupyter-widgets/controls",
      "model_module_version": "1.4.0",
      "model_name": "ButtonStyleModel",
      "state": {
       "_model_module_version": "1.4.0",
       "_view_module_version": "1.1.0"
      }
     },
     "26fda7ba48bf41428588a380515d67c5": {
      "model_module": "@jupyter-widgets/base",
      "model_module_version": "1.1.0",
      "model_name": "LayoutModel",
      "state": {
       "_model_module_version": "1.1.0",
       "_view_module_version": "1.1.0",
       "border": null,
       "overflow_x": null,
       "overflow_y": null
      }
     },
     "2926bb68cdaa4f858a67ce97bd19c469": {
      "model_module": "@jupyter-widgets/output",
      "model_module_version": "1.0.0",
      "model_name": "OutputModel",
      "state": {
       "layout": "IPY_MODEL_9eb16856a0e443978661ce094f708029"
      }
     },
     "2ae503cdb98942fd9cfe9369ff0968de": {
      "model_module": "@jupyter-widgets/base",
      "model_module_version": "1.1.0",
      "model_name": "LayoutModel",
      "state": {
       "_model_module_version": "1.1.0",
       "_view_module_version": "1.1.0",
       "border": null,
       "overflow_x": null,
       "overflow_y": null
      }
     },
     "36c7b3e4573e44f19456b149ff230bc6": {
      "model_module": "@jupyter-widgets/base",
      "model_module_version": "1.1.0",
      "model_name": "LayoutModel",
      "state": {
       "_model_module_version": "1.1.0",
       "_view_module_version": "1.1.0",
       "border": null,
       "overflow_x": null,
       "overflow_y": null
      }
     },
     "384fad664c4549dbbfc6371a56598c46": {
      "model_module": "@jupyter-widgets/controls",
      "model_module_version": "1.4.0",
      "model_name": "ButtonStyleModel",
      "state": {
       "_model_module_version": "1.4.0",
       "_view_module_version": "1.1.0"
      }
     },
     "395a63505c3c454cac74c6db62abe6ec": {
      "model_module": "@jupyter-widgets/base",
      "model_module_version": "1.1.0",
      "model_name": "LayoutModel",
      "state": {
       "_model_module_version": "1.1.0",
       "_view_module_version": "1.1.0",
       "border": null,
       "overflow_x": null,
       "overflow_y": null
      }
     },
     "3af37c07964a4ae7b4c80a9e18031e8c": {
      "model_module": "@jupyter-widgets/base",
      "model_module_version": "1.1.0",
      "model_name": "LayoutModel",
      "state": {
       "_model_module_version": "1.1.0",
       "_view_module_version": "1.1.0",
       "border": null,
       "overflow_x": null,
       "overflow_y": null
      }
     },
     "3dcab56d27034a0a9cd076681a0c3af3": {
      "model_module": "@jupyter-widgets/controls",
      "model_module_version": "1.4.0",
      "model_name": "ButtonStyleModel",
      "state": {
       "_model_module_version": "1.4.0",
       "_view_module_version": "1.1.0"
      }
     },
     "4e0b4767d50c45d4a3059b25b084f5ae": {
      "model_module": "@jupyter-widgets/base",
      "model_module_version": "1.1.0",
      "model_name": "LayoutModel",
      "state": {
       "_model_module_version": "1.1.0",
       "_view_module_version": "1.1.0",
       "border": null,
       "overflow_x": null,
       "overflow_y": null
      }
     },
     "50ad71ba430a4e65af089a66a036d98f": {
      "model_module": "@jupyter-widgets/output",
      "model_module_version": "1.0.0",
      "model_name": "OutputModel",
      "state": {
       "layout": "IPY_MODEL_7afbf7a09ee940d988779e898d39f6b1",
       "outputs": [
        {
         "ename": "NameError",
         "evalue": "name 'TFile' is not defined",
         "output_type": "error",
         "traceback": [
          "\u001b[0;31m---------------------------------------------------------------------------\u001b[0m",
          "\u001b[0;31mNameError\u001b[0m                                 Traceback (most recent call last)",
          "\u001b[0;32m<ipython-input-43-4b1715ce1e25>\u001b[0m in \u001b[0;36msaveButtonRoot\u001b[0;34m(b)\u001b[0m\n\u001b[1;32m      5\u001b[0m \u001b[0;32mdef\u001b[0m \u001b[0msaveButtonRoot\u001b[0m\u001b[0;34m(\u001b[0m\u001b[0mb\u001b[0m\u001b[0;34m)\u001b[0m\u001b[0;34m:\u001b[0m\u001b[0;34m\u001b[0m\u001b[0;34m\u001b[0m\u001b[0m\n\u001b[1;32m      6\u001b[0m     \u001b[0;32mwith\u001b[0m \u001b[0moutput\u001b[0m\u001b[0;34m:\u001b[0m\u001b[0;34m\u001b[0m\u001b[0;34m\u001b[0m\u001b[0m\n\u001b[0;32m----> 7\u001b[0;31m         \u001b[0;32mwith\u001b[0m \u001b[0mTFile\u001b[0m\u001b[0;34m(\u001b[0m\u001b[0;34m\"file1.root\"\u001b[0m\u001b[0;34m,\u001b[0m \u001b[0;34m\"recreate\"\u001b[0m\u001b[0;34m)\u001b[0m \u001b[0;32mas\u001b[0m \u001b[0moutfile\u001b[0m\u001b[0;34m:\u001b[0m\u001b[0;34m\u001b[0m\u001b[0;34m\u001b[0m\u001b[0m\n\u001b[0m\u001b[1;32m      8\u001b[0m             \u001b[0moutfile\u001b[0m\u001b[0;34m.\u001b[0m\u001b[0mWriteObject\u001b[0m\u001b[0;34m(\u001b[0m\u001b[0mcanvas\u001b[0m\u001b[0;34m,\u001b[0m \u001b[0;34m\"myCanvas\"\u001b[0m\u001b[0;34m)\u001b[0m\u001b[0;34m\u001b[0m\u001b[0;34m\u001b[0m\u001b[0m\n",
          "\u001b[0;31mNameError\u001b[0m: name 'TFile' is not defined"
         ]
        }
       ]
      }
     },
     "56dbdc8b10b144ecab1eb0b2dd996fbe": {
      "model_module": "@jupyter-widgets/base",
      "model_module_version": "1.1.0",
      "model_name": "LayoutModel",
      "state": {
       "_model_module_version": "1.1.0",
       "_view_module_version": "1.1.0",
       "border": null,
       "overflow_x": null,
       "overflow_y": null
      }
     },
     "60e33b896df246778339f4dff4be8f25": {
      "model_module": "@jupyter-widgets/controls",
      "model_module_version": "1.4.0",
      "model_name": "ButtonModel",
      "state": {
       "_model_module_version": "1.4.0",
       "_view_module_version": "1.4.0",
       "description": "Save to PDF",
       "layout": "IPY_MODEL_395a63505c3c454cac74c6db62abe6ec",
       "style": "IPY_MODEL_818a6a2006cd45a685b9b1bbc4db9c76"
      }
     },
     "62f5350b3b1440088cb5206a67058fde": {
      "model_module": "@jupyter-widgets/base",
      "model_module_version": "1.1.0",
      "model_name": "LayoutModel",
      "state": {
       "_model_module_version": "1.1.0",
       "_view_module_version": "1.1.0",
       "border": null,
       "overflow_x": null,
       "overflow_y": null
      }
     },
     "695713c99706467f875821a5ef7f992e": {
      "model_module": "@jupyter-widgets/controls",
      "model_module_version": "1.4.0",
      "model_name": "ButtonStyleModel",
      "state": {
       "_model_module_version": "1.4.0",
       "_view_module_version": "1.1.0"
      }
     },
     "6a80bacd37dd4454a07080adc1395665": {
      "model_module": "@jupyter-widgets/base",
      "model_module_version": "1.1.0",
      "model_name": "LayoutModel",
      "state": {
       "_model_module_version": "1.1.0",
       "_view_module_version": "1.1.0",
       "border": null,
       "overflow_x": null,
       "overflow_y": null
      }
     },
     "6b44fe66f54148a9995780522c1665ad": {
      "model_module": "@jupyter-widgets/controls",
      "model_module_version": "1.4.0",
      "model_name": "ButtonModel",
      "state": {
       "_model_module_version": "1.4.0",
       "_view_module_version": "1.4.0",
       "description": "Save to Root",
       "layout": "IPY_MODEL_36c7b3e4573e44f19456b149ff230bc6",
       "style": "IPY_MODEL_72aeead3a6904e9ea2c2a224224a8c63"
      }
     },
     "6f24f617f4e8405baa6588f13c520940": {
      "model_module": "@jupyter-widgets/controls",
      "model_module_version": "1.4.0",
      "model_name": "ButtonStyleModel",
      "state": {
       "_model_module_version": "1.4.0",
       "_view_module_version": "1.1.0"
      }
     },
     "72aeead3a6904e9ea2c2a224224a8c63": {
      "model_module": "@jupyter-widgets/controls",
      "model_module_version": "1.4.0",
      "model_name": "ButtonStyleModel",
      "state": {
       "_model_module_version": "1.4.0",
       "_view_module_version": "1.1.0"
      }
     },
     "7afbf7a09ee940d988779e898d39f6b1": {
      "model_module": "@jupyter-widgets/base",
      "model_module_version": "1.1.0",
      "model_name": "LayoutModel",
      "state": {
       "_model_module_version": "1.1.0",
       "_view_module_version": "1.1.0",
       "border": null,
       "overflow_x": null,
       "overflow_y": null
      }
     },
     "818a6a2006cd45a685b9b1bbc4db9c76": {
      "model_module": "@jupyter-widgets/controls",
      "model_module_version": "1.4.0",
      "model_name": "ButtonStyleModel",
      "state": {
       "_model_module_version": "1.4.0",
       "_view_module_version": "1.1.0"
      }
     },
     "823ef688583b43b3b7dc29e5d3422aa8": {
      "model_module": "@jupyter-widgets/output",
      "model_module_version": "1.0.0",
      "model_name": "OutputModel",
      "state": {
       "layout": "IPY_MODEL_8aa1aa0ffe69479fba520c5f0e95576b"
      }
     },
     "831b63241ada4949ae7ddc9cf3f6f3ad": {
      "model_module": "@jupyter-widgets/base",
      "model_module_version": "1.1.0",
      "model_name": "LayoutModel",
      "state": {
       "_model_module_version": "1.1.0",
       "_view_module_version": "1.1.0",
       "border": null,
       "overflow_x": null,
       "overflow_y": null
      }
     },
     "8417421b463a46c9872d37497c3b663d": {
      "model_module": "@jupyter-widgets/controls",
      "model_module_version": "1.4.0",
      "model_name": "ButtonModel",
      "state": {
       "_model_module_version": "1.4.0",
       "_view_module_version": "1.4.0",
       "description": "Save to Root",
       "layout": "IPY_MODEL_9a4fe9d3c94d4621bf792f335bbd40fe",
       "style": "IPY_MODEL_f771512ee9df4ba5bee6a026a4e83de5"
      }
     },
     "8aa1aa0ffe69479fba520c5f0e95576b": {
      "model_module": "@jupyter-widgets/base",
      "model_module_version": "1.1.0",
      "model_name": "LayoutModel",
      "state": {
       "_model_module_version": "1.1.0",
       "_view_module_version": "1.1.0",
       "border": null,
       "overflow_x": null,
       "overflow_y": null
      }
     },
     "8d62ef6a181e417c949955ba277e179d": {
      "model_module": "@jupyter-widgets/output",
      "model_module_version": "1.0.0",
      "model_name": "OutputModel",
      "state": {
       "layout": "IPY_MODEL_b9925dbb44cf40f0a3e0fa6aaff4d77f",
       "outputs": [
        {
         "ename": "AttributeError",
         "evalue": "__enter__",
         "output_type": "error",
         "traceback": [
          "\u001b[0;31m---------------------------------------------------------------------------\u001b[0m",
          "\u001b[0;31mAttributeError\u001b[0m                            Traceback (most recent call last)",
          "\u001b[0;32m<ipython-input-46-87e37fcb9b6d>\u001b[0m in \u001b[0;36msaveButtonRoot\u001b[0;34m(b)\u001b[0m\n\u001b[1;32m      5\u001b[0m \u001b[0;32mdef\u001b[0m \u001b[0msaveButtonRoot\u001b[0m\u001b[0;34m(\u001b[0m\u001b[0mb\u001b[0m\u001b[0;34m)\u001b[0m\u001b[0;34m:\u001b[0m\u001b[0;34m\u001b[0m\u001b[0;34m\u001b[0m\u001b[0m\n\u001b[1;32m      6\u001b[0m     \u001b[0;32mwith\u001b[0m \u001b[0moutput\u001b[0m\u001b[0;34m:\u001b[0m\u001b[0;34m\u001b[0m\u001b[0;34m\u001b[0m\u001b[0m\n\u001b[0;32m----> 7\u001b[0;31m         \u001b[0;32mwith\u001b[0m \u001b[0mROOT\u001b[0m\u001b[0;34m.\u001b[0m\u001b[0mTFile\u001b[0m\u001b[0;34m(\u001b[0m\u001b[0;34m\"file1.root\"\u001b[0m\u001b[0;34m,\u001b[0m \u001b[0;34m\"recreate\"\u001b[0m\u001b[0;34m)\u001b[0m \u001b[0;32mas\u001b[0m \u001b[0moutfile\u001b[0m\u001b[0;34m:\u001b[0m\u001b[0;34m\u001b[0m\u001b[0;34m\u001b[0m\u001b[0m\n\u001b[0m\u001b[1;32m      8\u001b[0m             \u001b[0moutfile\u001b[0m\u001b[0;34m.\u001b[0m\u001b[0mWriteObject\u001b[0m\u001b[0;34m(\u001b[0m\u001b[0mcanvas\u001b[0m\u001b[0;34m,\u001b[0m \u001b[0;34m\"myCanvas\"\u001b[0m\u001b[0;34m)\u001b[0m\u001b[0;34m\u001b[0m\u001b[0;34m\u001b[0m\u001b[0m\n",
          "\u001b[0;31mAttributeError\u001b[0m: __enter__"
         ]
        },
        {
         "ename": "AttributeError",
         "evalue": "__enter__",
         "output_type": "error",
         "traceback": [
          "\u001b[0;31m---------------------------------------------------------------------------\u001b[0m",
          "\u001b[0;31mAttributeError\u001b[0m                            Traceback (most recent call last)",
          "\u001b[0;32m<ipython-input-46-87e37fcb9b6d>\u001b[0m in \u001b[0;36msaveButtonRoot\u001b[0;34m(b)\u001b[0m\n\u001b[1;32m      5\u001b[0m \u001b[0;32mdef\u001b[0m \u001b[0msaveButtonRoot\u001b[0m\u001b[0;34m(\u001b[0m\u001b[0mb\u001b[0m\u001b[0;34m)\u001b[0m\u001b[0;34m:\u001b[0m\u001b[0;34m\u001b[0m\u001b[0;34m\u001b[0m\u001b[0m\n\u001b[1;32m      6\u001b[0m     \u001b[0;32mwith\u001b[0m \u001b[0moutput\u001b[0m\u001b[0;34m:\u001b[0m\u001b[0;34m\u001b[0m\u001b[0;34m\u001b[0m\u001b[0m\n\u001b[0;32m----> 7\u001b[0;31m         \u001b[0;32mwith\u001b[0m \u001b[0mROOT\u001b[0m\u001b[0;34m.\u001b[0m\u001b[0mTFile\u001b[0m\u001b[0;34m(\u001b[0m\u001b[0;34m\"file1.root\"\u001b[0m\u001b[0;34m,\u001b[0m \u001b[0;34m\"recreate\"\u001b[0m\u001b[0;34m)\u001b[0m \u001b[0;32mas\u001b[0m \u001b[0moutfile\u001b[0m\u001b[0;34m:\u001b[0m\u001b[0;34m\u001b[0m\u001b[0;34m\u001b[0m\u001b[0m\n\u001b[0m\u001b[1;32m      8\u001b[0m             \u001b[0moutfile\u001b[0m\u001b[0;34m.\u001b[0m\u001b[0mWriteObject\u001b[0m\u001b[0;34m(\u001b[0m\u001b[0mcanvas\u001b[0m\u001b[0;34m,\u001b[0m \u001b[0;34m\"myCanvas\"\u001b[0m\u001b[0;34m)\u001b[0m\u001b[0;34m\u001b[0m\u001b[0;34m\u001b[0m\u001b[0m\n",
          "\u001b[0;31mAttributeError\u001b[0m: __enter__"
         ]
        }
       ]
      }
     },
     "9242204266e343ae8a441c776e80f4f0": {
      "model_module": "@jupyter-widgets/controls",
      "model_module_version": "1.4.0",
      "model_name": "ButtonStyleModel",
      "state": {
       "_model_module_version": "1.4.0",
       "_view_module_version": "1.1.0"
      }
     },
     "929e5779ad394a799083037ff870d526": {
      "model_module": "@jupyter-widgets/controls",
      "model_module_version": "1.4.0",
      "model_name": "ButtonStyleModel",
      "state": {
       "_model_module_version": "1.4.0",
       "_view_module_version": "1.1.0"
      }
     },
     "93749ab864be49de92dbce533bdae34f": {
      "model_module": "@jupyter-widgets/base",
      "model_module_version": "1.1.0",
      "model_name": "LayoutModel",
      "state": {
       "_model_module_version": "1.1.0",
       "_view_module_version": "1.1.0",
       "border": null,
       "overflow_x": null,
       "overflow_y": null
      }
     },
     "938ac682ac6545cfb80a6da1bc8c26c1": {
      "model_module": "@jupyter-widgets/output",
      "model_module_version": "1.0.0",
      "model_name": "OutputModel",
      "state": {
       "layout": "IPY_MODEL_ce589ac0e83d4bd38fd711550e349c6a"
      }
     },
     "9a4fe9d3c94d4621bf792f335bbd40fe": {
      "model_module": "@jupyter-widgets/base",
      "model_module_version": "1.1.0",
      "model_name": "LayoutModel",
      "state": {
       "_model_module_version": "1.1.0",
       "_view_module_version": "1.1.0",
       "border": null,
       "overflow_x": null,
       "overflow_y": null
      }
     },
     "9e2719717feb49c9938e46061e59b4a1": {
      "model_module": "@jupyter-widgets/output",
      "model_module_version": "1.0.0",
      "model_name": "OutputModel",
      "state": {
       "layout": "IPY_MODEL_10ee510d3cee4e4fbc3f48e8b75680c2"
      }
     },
     "9eb16856a0e443978661ce094f708029": {
      "model_module": "@jupyter-widgets/base",
      "model_module_version": "1.1.0",
      "model_name": "LayoutModel",
      "state": {
       "_model_module_version": "1.1.0",
       "_view_module_version": "1.1.0",
       "border": null,
       "overflow_x": null,
       "overflow_y": null
      }
     },
     "9fdc5097fef143f580581ed9f63baf19": {
      "model_module": "@jupyter-widgets/controls",
      "model_module_version": "1.4.0",
      "model_name": "ButtonModel",
      "state": {
       "_model_module_version": "1.4.0",
       "_view_module_version": "1.4.0",
       "description": "Save to PDF",
       "layout": "IPY_MODEL_6a80bacd37dd4454a07080adc1395665",
       "style": "IPY_MODEL_9242204266e343ae8a441c776e80f4f0"
      }
     },
     "a0caf4fc7e3e4a0daf064e63c0e3234a": {
      "model_module": "@jupyter-widgets/output",
      "model_module_version": "1.0.0",
      "model_name": "OutputModel",
      "state": {
       "layout": "IPY_MODEL_93749ab864be49de92dbce533bdae34f"
      }
     },
     "a2eef3a45bed4115932b9e88827850e1": {
      "model_module": "@jupyter-widgets/controls",
      "model_module_version": "1.4.0",
      "model_name": "ButtonModel",
      "state": {
       "_model_module_version": "1.4.0",
       "_view_module_version": "1.4.0",
       "description": "Save to PDF",
       "layout": "IPY_MODEL_831b63241ada4949ae7ddc9cf3f6f3ad",
       "style": "IPY_MODEL_20e680f74b7d40f395649181965c1d39"
      }
     },
     "a39b71b5f18a4a3089aae76958a3cc55": {
      "model_module": "@jupyter-widgets/base",
      "model_module_version": "1.1.0",
      "model_name": "LayoutModel",
      "state": {
       "_model_module_version": "1.1.0",
       "_view_module_version": "1.1.0",
       "border": null,
       "overflow_x": null,
       "overflow_y": null
      }
     },
     "a3a8439080a4433c8cfc3592bcac145a": {
      "model_module": "@jupyter-widgets/base",
      "model_module_version": "1.1.0",
      "model_name": "LayoutModel",
      "state": {
       "_model_module_version": "1.1.0",
       "_view_module_version": "1.1.0",
       "border": null,
       "overflow_x": null,
       "overflow_y": null
      }
     },
     "a8c867acf084415fba648604326f8c9d": {
      "model_module": "@jupyter-widgets/controls",
      "model_module_version": "1.4.0",
      "model_name": "ButtonStyleModel",
      "state": {
       "_model_module_version": "1.4.0",
       "_view_module_version": "1.1.0"
      }
     },
     "b635d6f1a72043699079245523aadc13": {
      "model_module": "@jupyter-widgets/base",
      "model_module_version": "1.1.0",
      "model_name": "LayoutModel",
      "state": {
       "_model_module_version": "1.1.0",
       "_view_module_version": "1.1.0",
       "border": null,
       "overflow_x": null,
       "overflow_y": null
      }
     },
     "b97779ed35cd4f1f8b3d360fd1d1cc0e": {
      "model_module": "@jupyter-widgets/controls",
      "model_module_version": "1.4.0",
      "model_name": "ButtonModel",
      "state": {
       "_model_module_version": "1.4.0",
       "_view_module_version": "1.4.0",
       "description": "Save to PDF",
       "layout": "IPY_MODEL_b635d6f1a72043699079245523aadc13",
       "style": "IPY_MODEL_0e66ecb30df5491980f781135fa73613"
      }
     },
     "b9925dbb44cf40f0a3e0fa6aaff4d77f": {
      "model_module": "@jupyter-widgets/base",
      "model_module_version": "1.1.0",
      "model_name": "LayoutModel",
      "state": {
       "_model_module_version": "1.1.0",
       "_view_module_version": "1.1.0",
       "border": null,
       "overflow_x": null,
       "overflow_y": null
      }
     },
     "c38d6de6905f44c4b32b9c73fb8276ba": {
      "model_module": "@jupyter-widgets/controls",
      "model_module_version": "1.4.0",
      "model_name": "ButtonModel",
      "state": {
       "_model_module_version": "1.4.0",
       "_view_module_version": "1.4.0",
       "description": "Save to PDF",
       "layout": "IPY_MODEL_fa9655bf72304c2bb97bf8c45500503b",
       "style": "IPY_MODEL_929e5779ad394a799083037ff870d526"
      }
     },
     "c52a903ddba4487e93fc08785f78bdbe": {
      "model_module": "@jupyter-widgets/controls",
      "model_module_version": "1.4.0",
      "model_name": "ButtonModel",
      "state": {
       "_model_module_version": "1.4.0",
       "_view_module_version": "1.4.0",
       "description": "Save to PDF",
       "layout": "IPY_MODEL_26fda7ba48bf41428588a380515d67c5",
       "style": "IPY_MODEL_695713c99706467f875821a5ef7f992e"
      }
     },
     "ca9438839a46429aaa3f24354ee42db5": {
      "model_module": "@jupyter-widgets/controls",
      "model_module_version": "1.4.0",
      "model_name": "ButtonStyleModel",
      "state": {
       "_model_module_version": "1.4.0",
       "_view_module_version": "1.1.0"
      }
     },
     "cce918eab1414c88ad12d08f31aaac47": {
      "model_module": "@jupyter-widgets/controls",
      "model_module_version": "1.4.0",
      "model_name": "ButtonModel",
      "state": {
       "_model_module_version": "1.4.0",
       "_view_module_version": "1.4.0",
       "description": "Save to PDF",
       "layout": "IPY_MODEL_f2a3cad8e9254cc9af9a6ed86874d83d",
       "style": "IPY_MODEL_a8c867acf084415fba648604326f8c9d"
      }
     },
     "ce589ac0e83d4bd38fd711550e349c6a": {
      "model_module": "@jupyter-widgets/base",
      "model_module_version": "1.1.0",
      "model_name": "LayoutModel",
      "state": {
       "_model_module_version": "1.1.0",
       "_view_module_version": "1.1.0",
       "border": null,
       "overflow_x": null,
       "overflow_y": null
      }
     },
     "d3e65f21f57643d188d5b1e4b7c7775c": {
      "model_module": "@jupyter-widgets/controls",
      "model_module_version": "1.4.0",
      "model_name": "ButtonModel",
      "state": {
       "_model_module_version": "1.4.0",
       "_view_module_version": "1.4.0",
       "description": "Save to PDF",
       "layout": "IPY_MODEL_a39b71b5f18a4a3089aae76958a3cc55",
       "style": "IPY_MODEL_384fad664c4549dbbfc6371a56598c46"
      }
     },
     "d4b09a17060d4dc19cad65f89af8b8b1": {
      "model_module": "@jupyter-widgets/controls",
      "model_module_version": "1.4.0",
      "model_name": "ButtonModel",
      "state": {
       "_model_module_version": "1.4.0",
       "_view_module_version": "1.4.0",
       "description": "Save to PDF",
       "layout": "IPY_MODEL_62f5350b3b1440088cb5206a67058fde",
       "style": "IPY_MODEL_3dcab56d27034a0a9cd076681a0c3af3"
      }
     },
     "e5c089c3d1f54e06aa7c69d6be7b7d7a": {
      "model_module": "@jupyter-widgets/base",
      "model_module_version": "1.1.0",
      "model_name": "LayoutModel",
      "state": {
       "_model_module_version": "1.1.0",
       "_view_module_version": "1.1.0",
       "border": null,
       "overflow_x": null,
       "overflow_y": null
      }
     },
     "e6380f2797b54ba8b9859882ee113294": {
      "model_module": "@jupyter-widgets/output",
      "model_module_version": "1.0.0",
      "model_name": "OutputModel",
      "state": {
       "layout": "IPY_MODEL_3af37c07964a4ae7b4c80a9e18031e8c"
      }
     },
     "f2a3cad8e9254cc9af9a6ed86874d83d": {
      "model_module": "@jupyter-widgets/base",
      "model_module_version": "1.1.0",
      "model_name": "LayoutModel",
      "state": {
       "_model_module_version": "1.1.0",
       "_view_module_version": "1.1.0",
       "border": null,
       "overflow_x": null,
       "overflow_y": null
      }
     },
     "f771512ee9df4ba5bee6a026a4e83de5": {
      "model_module": "@jupyter-widgets/controls",
      "model_module_version": "1.4.0",
      "model_name": "ButtonStyleModel",
      "state": {
       "_model_module_version": "1.4.0",
       "_view_module_version": "1.1.0"
      }
     },
     "f7b6aafe840345ad9c68def299dd0a29": {
      "model_module": "@jupyter-widgets/output",
      "model_module_version": "1.0.0",
      "model_name": "OutputModel",
      "state": {
       "layout": "IPY_MODEL_2ae503cdb98942fd9cfe9369ff0968de"
      }
     },
     "fa9655bf72304c2bb97bf8c45500503b": {
      "model_module": "@jupyter-widgets/base",
      "model_module_version": "1.1.0",
      "model_name": "LayoutModel",
      "state": {
       "_model_module_version": "1.1.0",
       "_view_module_version": "1.1.0",
       "border": null,
       "overflow_x": null,
       "overflow_y": null
      }
     }
    },
    "version_major": 2,
    "version_minor": 0
   }
  }
 },
 "nbformat": 4,
 "nbformat_minor": 5
}
