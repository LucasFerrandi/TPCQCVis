{
 "cells": [
  {
   "cell_type": "code",
   "execution_count": null,
   "id": "d15bf47e",
   "metadata": {
    "slideshow": {
     "slide_type": "skip"
    }
   },
   "outputs": [],
   "source": [
    "import ROOT;\n",
    "import glob\n",
    "import math\n",
    "from IPython.display import display, Markdown\n",
    "from IPython.display import display, HTML\n",
    "from TPCQCVis.src.DrawHistogram import *\n",
    "display(HTML(\"<style>.container { width:100% !important; }</style>\"))"
   ]
  },
  {
   "cell_type": "code",
   "execution_count": null,
   "id": "8b5d07b1",
   "metadata": {
    "slideshow": {
     "slide_type": "skip"
    }
   },
   "outputs": [],
   "source": [
    "# Read the Root Files from LHC21k6\n",
    "path = \"/home/berki/Software/TPCQCVis/data/userFiles/\"\n",
    "fileList = glob.glob(path+\"LHC21k6_302043.root\")\n",
    "rootDataFile=[]\n",
    "for file in fileList:\n",
    "    rootDataFile.append(ROOT.TFile.Open(file,\"READ\"))\n",
    "#rootDataFile[0].ls()    \n",
    "#rootDataFile[0].PID.ls()\n",
    "#rootDataFile[0].Tracks.ls()"
   ]
  },
  {
   "cell_type": "markdown",
   "id": "b643b902",
   "metadata": {
    "slideshow": {
     "slide_type": "slide"
    }
   },
   "source": [
    "# Reporting on TPC QC status\n",
    "Berkin Ulukutlu\n",
    "\n",
    "## Looking at LHC21k6\n",
    "> GP MinBias for pp@13.5 TeV Run 3 MC <br />\n",
    "> JIRA: https://alice.its.cern.ch/jira/browse/O2-2777\n",
    "\n",
    "**Using:**\n",
    "+ `302043`: 1656347793629 - 27 Jun 2022 16:36 UTC - 27 Jun 2022 18:36 CEST\n",
    "\n",
    "**General Notes**\n",
    "+ Problem with the cuts on the Tracks task for async QC\n",
    " + Configurable cut parameters introduced in recent update but the values were not set in the json file\n",
    " + Bug in default cuts leads to empty plots\n",
    " + Fix merged: https://github.com/AliceO2Group/O2DPG/commit/805abd0242966a1beedacebd772afe6522243f35"
   ]
  },
  {
   "cell_type": "markdown",
   "id": "b391df59",
   "metadata": {
    "slideshow": {
     "slide_type": "slide"
    }
   },
   "source": [
    "---\n",
    "## General performance observed on different runs"
   ]
  },
  {
   "cell_type": "code",
   "execution_count": null,
   "id": "50a413cf",
   "metadata": {
    "slideshow": {
     "slide_type": "skip"
    }
   },
   "outputs": [],
   "source": [
    "#Visual settings\n",
    "#ROOT.gStyle.SetPalette(55)\n",
    "ROOT.gStyle.SetOptStat(0)"
   ]
  },
  {
   "cell_type": "markdown",
   "id": "f78f840d",
   "metadata": {},
   "source": [
    "## Looking at Cluster distributions"
   ]
  },
  {
   "cell_type": "code",
   "execution_count": null,
   "id": "a6fd4308",
   "metadata": {
    "slideshow": {
     "slide_type": "slide"
    }
   },
   "outputs": [],
   "source": [
    "#%jsroot on\n",
    "objectName=\"hNClsPID\"\n",
    "c = ROOT.TCanvas(objectName,objectName,800,600)\n",
    "DrawDistributions(objectName,rootDataFile,len(rootDataFile))\n",
    "c.Draw()\n",
    "display(Markdown('---\\n'+'### '+objectName))\n",
    "display(Markdown('- Distribution as expected.\\n'+\n",
    "                 '- **OK**'))"
   ]
  },
  {
   "cell_type": "code",
   "execution_count": null,
   "id": "b2fdbfcf",
   "metadata": {
    "slideshow": {
     "slide_type": "slide"
    }
   },
   "outputs": [],
   "source": [
    "#%jsroot on\n",
    "objectName=\"h2DNClustersEtaBeforeCuts\"\n",
    "c = ROOT.TCanvas(objectName,objectName,800,600)\n",
    "DrawDistributions(objectName,rootDataFile,len(rootDataFile))\n",
    "c.Draw()\n",
    "display(Markdown('---\\n'+'### '+objectName))\n",
    "display(Markdown('- Distribution as expected.\\n'+\n",
    "                 '- **OK**'))"
   ]
  },
  {
   "cell_type": "code",
   "execution_count": null,
   "id": "5e991d3a",
   "metadata": {
    "slideshow": {
     "slide_type": "slide"
    }
   },
   "outputs": [],
   "source": [
    "#%jsroot on\n",
    "objectName=\"h2DNClustersPtBeforeCuts\"\n",
    "c = ROOT.TCanvas(objectName,objectName,800,600)\n",
    "DrawDistributions(objectName,rootDataFile,len(rootDataFile),log=\"logx\")\n",
    "c.Draw()\n",
    "display(Markdown('---\\n'+'### '+objectName))\n",
    "display(Markdown('- Distribution as expected.\\n'+\n",
    "                 '- **OK**'))"
   ]
  },
  {
   "cell_type": "markdown",
   "id": "e760bb2f",
   "metadata": {
    "slideshow": {
     "slide_type": "slide"
    }
   },
   "source": [
    "## Looking at dEdx"
   ]
  },
  {
   "cell_type": "code",
   "execution_count": null,
   "id": "207719d2",
   "metadata": {
    "slideshow": {
     "slide_type": "slide"
    }
   },
   "outputs": [],
   "source": [
    "#%jsroot on\n",
    "objectName=\"hdEdxVsPhi\"\n",
    "c = ROOT.TCanvas(objectName,objectName,800,600)\n",
    "hist = DrawDistributions(objectName,rootDataFile,len(rootDataFile))\n",
    "hist\n",
    "#Sector boundatries\n",
    "sectorBoundary = ROOT.TLine(0,0,0,300)\n",
    "sectorBoundary.SetLineStyle(2)\n",
    "for j in range(19):\n",
    "    sectorBoundary.DrawLine((j*2*math.pi)/18,0,(j*2*math.pi)/18,300)\n",
    "c.Draw()\n",
    "display(Markdown('---\\n'+'### '+objectName))\n",
    "display(Markdown('- Distribution as expected.\\n'+\n",
    "                 '- **OK**'))"
   ]
  },
  {
   "cell_type": "code",
   "execution_count": null,
   "id": "43e0fb9d",
   "metadata": {
    "slideshow": {
     "slide_type": "slide"
    }
   },
   "outputs": [],
   "source": [
    "#%jsroot on\n",
    "objectName=\"hdEdxTotVsP_TPC\"\n",
    "c = ROOT.TCanvas(objectName,objectName,800,600)\n",
    "hist = DrawDistributions(objectName,rootDataFile,len(rootDataFile),log=\"logxz\")\n",
    "c.Draw()\n",
    "display(Markdown('---\\n'+'### '+objectName))\n",
    "display(Markdown('- Distribution as expected.\\n'+\n",
    "                 '- **OK**'))"
   ]
  },
  {
   "cell_type": "code",
   "execution_count": null,
   "id": "3388b4ea",
   "metadata": {
    "slideshow": {
     "slide_type": "slide"
    }
   },
   "outputs": [],
   "source": [
    "#%jsroot on\n",
    "canvasName=\"MIPs\"\n",
    "c = ROOT.TCanvas(canvasName,canvasName,1200,600)\n",
    "c.Divide(2,1)\n",
    "c.cd(1)\n",
    "objectName=\"hdEdxTotMIP_TPC\"\n",
    "hist = DrawDistributions(objectName,rootDataFile,len(rootDataFile))\n",
    "\n",
    "c.cd(2)\n",
    "objectName=\"hdEdxTotMIPVsSec_TPC\"\n",
    "hist2 = DrawDistributions(objectName,rootDataFile,len(rootDataFile))\n",
    "\n",
    "c.Draw()\n",
    "display(Markdown('---\\n'+'### '+canvasName))\n",
    "display(Markdown('- MIP peak at 50 as expected. However some contamination from electrons can be observed. Need to refine the cuts for MIP selection to get rid of the electrons.\\n'+\n",
    "                 '- **OK**'))"
   ]
  },
  {
   "cell_type": "code",
   "execution_count": null,
   "id": "c102739f",
   "metadata": {
    "slideshow": {
     "slide_type": "slide"
    }
   },
   "outputs": [],
   "source": [
    "#%jsroot on\n",
    "canvasName=\"tan(lambda)\"\n",
    "c = ROOT.TCanvas(canvasName,canvasName,800,600)\n",
    "\n",
    "objectName=\"hdEdxTotMIPVsTgl_TPC\"\n",
    "hist = DrawDistributions(objectName,rootDataFile,len(rootDataFile))\n",
    "\n",
    "c.Draw()\n",
    "display(Markdown('---\\n'+'### '+canvasName))\n",
    "display(Markdown('- Distribtuion as expected.\\n'+\n",
    "                 '- **OK**'))"
   ]
  },
  {
   "cell_type": "code",
   "execution_count": null,
   "id": "22644a98",
   "metadata": {
    "slideshow": {
     "slide_type": "slide"
    }
   },
   "outputs": [],
   "source": [
    "#%jsroot on\n",
    "canvasName=\"sin(phi)\"\n",
    "c = ROOT.TCanvas(canvasName,canvasName,800,600)\n",
    "\n",
    "objectName=\"hdEdxTotMIPVsSnp_TPC\"\n",
    "hist = DrawDistributions(objectName,rootDataFile,len(rootDataFile))\n",
    "\n",
    "c.Draw()\n",
    "display(Markdown('---\\n'+'### '+canvasName))\n",
    "display(Markdown('- Distribution as expected.\\n'+\n",
    "                 '- **OK**'))"
   ]
  },
  {
   "cell_type": "code",
   "execution_count": null,
   "id": "aa91e303",
   "metadata": {},
   "outputs": [],
   "source": []
  },
  {
   "cell_type": "code",
   "execution_count": null,
   "id": "426dadce",
   "metadata": {},
   "outputs": [],
   "source": []
  }
 ],
 "metadata": {
  "celltoolbar": "Slideshow",
  "kernelspec": {
   "display_name": "Python 3 (ipykernel)",
   "language": "python",
   "name": "python3"
  },
  "language_info": {
   "codemirror_mode": {
    "name": "ipython",
    "version": 3
   },
   "file_extension": ".py",
   "mimetype": "text/x-python",
   "name": "python",
   "nbconvert_exporter": "python",
   "pygments_lexer": "ipython3",
   "version": "3.9.12"
  }
 },
 "nbformat": 4,
 "nbformat_minor": 5
}
