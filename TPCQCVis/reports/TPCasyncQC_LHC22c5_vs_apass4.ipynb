{
 "cells": [
  {
   "cell_type": "code",
   "execution_count": null,
   "id": "9987d362",
   "metadata": {
    "slideshow": {
     "slide_type": "skip"
    }
   },
   "outputs": [],
   "source": [
    "import ROOT\n",
    "import glob\n",
    "import math\n",
    "from IPython.display import display, Markdown, HTML\n",
    "display(HTML(\"<style>.container { width:90% !important; }</style>\"))"
   ]
  },
  {
   "cell_type": "code",
   "execution_count": null,
   "id": "9607f398",
   "metadata": {
    "slideshow": {
     "slide_type": "skip"
    }
   },
   "outputs": [],
   "source": [
    "# Read the Root Files\n",
    "path = \"/home/berki/Software/TPCQCVis/data/userFiles/\"\n",
    "fileList = glob.glob(path+\"apass4_*.root\")\n",
    "fileList.sort()\n",
    "rootDataFile=[]\n",
    "for file in fileList:\n",
    "    rootDataFile.append(ROOT.TFile.Open(file,\"READ\"))"
   ]
  },
  {
   "cell_type": "code",
   "execution_count": null,
   "id": "00abea28",
   "metadata": {
    "slideshow": {
     "slide_type": "skip"
    }
   },
   "outputs": [],
   "source": [
    "#Visual settings\n",
    "#ROOT.gStyle.SetOptStat(0)"
   ]
  },
  {
   "cell_type": "markdown",
   "id": "ad31f554",
   "metadata": {},
   "source": [
    "# TPC: Report on async QC\n",
    "### Comparing anchored MC production LHC22c5 to async pass4 of the 21' pilot beam data\n",
    "\n",
    "**Relevant links:**\n",
    "+ apass4: https://alice.its.cern.ch/jira/browse/O2-2980\n",
    "+ LHC22c5: https://alice.its.cern.ch/jira/browse/O2-2900\n",
    "\n",
    "**General comments:**\n",
    "+ dEdx calibartion in LHC22c5 is `BAD`\n",
    "+ The secondary peak observed in nClusters distributions not as prevelant in MC\n",
    "+ Enhanced high pT-tail is not reproduced in MC\n",
    "+ Asymmetry in tan(lambda) and eta are not reproduced in MC"
   ]
  },
  {
   "cell_type": "code",
   "execution_count": null,
   "id": "fefedf20",
   "metadata": {
    "slideshow": {
     "slide_type": "skip"
    }
   },
   "outputs": [],
   "source": [
    "# Read the Root Files\n",
    "path = \"/home/berki/Software/TPCQCVis/data/userFiles/\"\n",
    "fileList_22c5 = glob.glob(path+\"LHC22c5_*.root\")\n",
    "fileList_22c5.sort()\n",
    "rootDataFile_22c5=[]\n",
    "for file in fileList_22c5:\n",
    "    rootDataFile_22c5.append(ROOT.TFile.Open(file,\"READ\"))"
   ]
  },
  {
   "cell_type": "code",
   "execution_count": null,
   "id": "d8bec729",
   "metadata": {
    "slideshow": {
     "slide_type": "slide"
    }
   },
   "outputs": [],
   "source": [
    "%jsroot on\n",
    "c = ROOT.TCanvas(\"dedx_comperison\",\"dedx_comperison\",1000,800)\n",
    "titlepad = ROOT.TPad(\"titlepad\",\"The pad with the canvas title\", 0,0.9,1,1)\n",
    "titlepad.cd()\n",
    "title = ROOT.TPaveText(0.05,0.2,0.95,0.8)\n",
    "title.AddText(\"dEdxTot\")\n",
    "title.Draw()\n",
    "c.cd()\n",
    "legend = ROOT.TLegend()\n",
    "legend.SetHeader(\"Normalized to integral\")\n",
    "pad = ROOT.TPad(\"pad\",\"The pad with the content\", 0,0,1,0.9)\n",
    "pad.Divide(3,3)\n",
    "for i in range(len(rootDataFile)):\n",
    "    pad.cd(i+1)\n",
    "    hist_apass4 = rootDataFile[i].PID.Get(\"hdEdxTot;1\")\n",
    "    hist_apass4.Scale(1/hist_apass4.Integral())\n",
    "    hist_apass4.SetLineWidth(3)\n",
    "    hist_apass4.SetLineColor(4)\n",
    "    hist_22c5 = rootDataFile_22c5[i].PID.Get(\"hdEdxTot;1\")\n",
    "    hist_22c5.Scale(1/hist_22c5.Integral())\n",
    "    hist_22c5.SetLineWidth(3)\n",
    "    hist_22c5.SetLineColor(2)\n",
    "    hist_apass4.Draw(\"HIST\")\n",
    "    hist_22c5.Draw(\"HIST SAME\")\n",
    "    hist_apass4.SetTitle(\"RUN: \"+fileList[i][-11:-5])\n",
    "\n",
    "legend.AddEntry(hist_apass4, \"apass4\", \"l\")\n",
    "legend.AddEntry(hist_22c5, \"LHC22c5\", \"l\")\n",
    "legend.Draw()\n",
    "c.cd()\n",
    "titlepad.Draw()\n",
    "pad.Draw()\n",
    "c.Draw()\n",
    "display(Markdown('---\\n'+'### Energy loss:'))\n",
    "display(Markdown('- The detector response seems to be different (different calibration?), was also observed when comparing apass3 vs LHC22c5: **Not OK**'))"
   ]
  },
  {
   "cell_type": "code",
   "execution_count": null,
   "id": "b008a007",
   "metadata": {
    "slideshow": {
     "slide_type": "slide"
    }
   },
   "outputs": [],
   "source": [
    "%jsroot on\n",
    "c = ROOT.TCanvas(\"mips_comperison\",\"mips_comperison\",1000,800)\n",
    "titlepad = ROOT.TPad(\"titlepad\",\"The pad with the canvas title\", 0,0.9,1,1)\n",
    "titlepad.cd()\n",
    "title = ROOT.TPaveText(0.05,0.2,0.95,0.8)\n",
    "title.AddText(\"dEdxMips\")\n",
    "title.Draw()\n",
    "c.cd()\n",
    "legend = ROOT.TLegend()\n",
    "legend.SetHeader(\"Normalized to integral\")\n",
    "pad = ROOT.TPad(\"pad\",\"The pad with the content\", 0,0,1,0.9)\n",
    "pad.Divide(3,3)\n",
    "for i in range(len(rootDataFile)):\n",
    "    pad.cd(i+1)\n",
    "    hist_apass4 = rootDataFile[i].PID.Get(\"hdEdxMips;1\")\n",
    "    hist_apass4.Scale(1/hist_apass4.Integral())\n",
    "    hist_apass4.SetLineWidth(3)\n",
    "    hist_apass4.SetLineColor(4)\n",
    "    hist_22c5 = rootDataFile_22c5[i].PID.Get(\"hdEdxMips;1\")\n",
    "    hist_22c5.Scale(1/hist_22c5.Integral())\n",
    "    hist_22c5.SetLineWidth(3)\n",
    "    hist_22c5.SetLineColor(2)\n",
    "    hist_apass4.Draw(\"HIST\")\n",
    "    hist_22c5.Draw(\"HIST SAME\")\n",
    "    hist_apass4.SetTitle(\"RUN: \"+fileList[i][-11:-5])\n",
    "\n",
    "legend.AddEntry(hist_apass4, \"apass4\", \"l\")\n",
    "legend.AddEntry(hist_22c5, \"LHC22c5\", \"l\")\n",
    "legend.Draw()\n",
    "c.cd()\n",
    "titlepad.Draw()\n",
    "pad.Draw()\n",
    "c.Draw()\n",
    "\n",
    "display(Markdown('---\\n'+'### MIPs:'))\n",
    "display(Markdown('- Peak mean of LHC22c5 doesn\\'t lie at 50: **Not OK**'))"
   ]
  },
  {
   "cell_type": "code",
   "execution_count": null,
   "id": "3ae22aa2",
   "metadata": {
    "slideshow": {
     "slide_type": "slide"
    }
   },
   "outputs": [],
   "source": [
    "%jsroot on\n",
    "c = ROOT.TCanvas(\"eles_comperison\",\"eles_comperison\",1000,800)\n",
    "titlepad = ROOT.TPad(\"titlepad\",\"The pad with the canvas title\", 0,0.9,1,1)\n",
    "titlepad.cd()\n",
    "title = ROOT.TPaveText(0.05,0.2,0.95,0.8)\n",
    "title.AddText(\"dEdxEles\")\n",
    "title.Draw()\n",
    "c.cd()\n",
    "legend = ROOT.TLegend()\n",
    "legend.SetHeader(\"Normalized to integral\")\n",
    "pad = ROOT.TPad(\"pad\",\"The pad with the content\", 0,0,1,0.9)\n",
    "pad.Divide(3,3)\n",
    "for i in range(len(rootDataFile)):\n",
    "    pad.cd(i+1)\n",
    "    hist_apass4 = rootDataFile[i].PID.Get(\"hdEdxEles;1\")\n",
    "    hist_apass4.Scale(1/hist_apass4.Integral())\n",
    "    hist_apass4.SetLineWidth(3)\n",
    "    hist_apass4.SetLineColor(4)\n",
    "    hist_22c5 = rootDataFile_22c5[i].PID.Get(\"hdEdxEles;1\")\n",
    "    hist_22c5.Scale(1/hist_22c5.Integral())\n",
    "    hist_22c5.SetLineWidth(3)\n",
    "    hist_22c5.SetLineColor(2)\n",
    "    hist_apass4.Draw(\"HIST\")\n",
    "    hist_22c5.Draw(\"HIST SAME\")\n",
    "    hist_apass4.SetTitle(\"RUN: \"+fileList[i][-11:-5])\n",
    "\n",
    "legend.AddEntry(hist_apass4, \"apass4\", \"l\")\n",
    "legend.AddEntry(hist_22c5, \"LHC22c5\", \"l\")\n",
    "legend.Draw()\n",
    "c.cd()\n",
    "titlepad.Draw()\n",
    "pad.Draw()\n",
    "c.Draw()\n",
    "\n",
    "display(Markdown('---\\n'+'### Electrons:'))\n",
    "display(Markdown('- Signals do not overlap: **Not OK**'))"
   ]
  },
  {
   "cell_type": "code",
   "execution_count": null,
   "id": "7d893f90",
   "metadata": {
    "slideshow": {
     "slide_type": "slide"
    }
   },
   "outputs": [],
   "source": [
    "%jsroot on\n",
    "c = ROOT.TCanvas(\"clus_comperison\",\"clus_comperison\",1000,800)\n",
    "titlepad = ROOT.TPad(\"titlepad\",\"The pad with the canvas title\", 0,0.9,1,1)\n",
    "titlepad.cd()\n",
    "title = ROOT.TPaveText(0.05,0.2,0.95,0.8)\n",
    "title.AddText(\"NClusters\")\n",
    "title.Draw()\n",
    "c.cd()\n",
    "legend = ROOT.TLegend()\n",
    "legend.SetHeader(\"Normalized to integral\")\n",
    "pad = ROOT.TPad(\"pad\",\"The pad with the content\", 0,0,1,0.9)\n",
    "pad.Divide(3,3)\n",
    "for i in range(len(rootDataFile)):\n",
    "    pad.cd(i+1)\n",
    "    hist_apass4 = rootDataFile[i].PID.Get(\"hNClusters;1\")\n",
    "    hist_apass4.Scale(1/hist_apass4.Integral())\n",
    "    hist_apass4.SetLineWidth(3)\n",
    "    hist_apass4.SetLineColor(4)\n",
    "    hist_22c5 = rootDataFile_22c5[i].PID.Get(\"hNClusters;1\")\n",
    "    hist_22c5.Scale(1/hist_22c5.Integral())\n",
    "    hist_22c5.SetLineWidth(3)\n",
    "    hist_22c5.SetLineColor(2)\n",
    "    hist_22c5.Draw(\"HIST SAME\")\n",
    "    hist_apass4.Draw(\"HIST SAME\")\n",
    "    hist_apass4.SetTitle(\"RUN: \"+fileList[i][-11:-5])\n",
    "\n",
    "legend.AddEntry(hist_apass4, \"apass4\", \"l\")\n",
    "legend.AddEntry(hist_22c5, \"LHC22c5\", \"l\")\n",
    "legend.Draw()\n",
    "c.cd()\n",
    "titlepad.Draw()\n",
    "pad.Draw()\n",
    "c.Draw()\n",
    "\n",
    "display(Markdown('---\\n'+'### Clusters:'))\n",
    "display(Markdown('- Secondary peak at ~90 less pronounced in MC.'+'\\n'+\n",
    "                 '- This peak is expected to be from tracks passing the central electrode, what might be the source of the observed difference?'+'\\n'+\n",
    "                 '- Under investigation.'))"
   ]
  },
  {
   "cell_type": "code",
   "execution_count": null,
   "id": "1f85b179",
   "metadata": {
    "slideshow": {
     "slide_type": "slide"
    }
   },
   "outputs": [],
   "source": [
    "%jsroot on\n",
    "c = ROOT.TCanvas(\"sign_comperison\",\"sign_comperison\",1000,800)\n",
    "titlepad = ROOT.TPad(\"titlepad\",\"The pad with the canvas title\", 0,0.9,1,1)\n",
    "titlepad.cd()\n",
    "title = ROOT.TPaveText(0.05,0.2,0.95,0.8)\n",
    "title.AddText(\"Sign\")\n",
    "title.Draw()\n",
    "c.cd()\n",
    "legend = ROOT.TLegend()\n",
    "legend.SetHeader(\"Normalized to integral\")\n",
    "pad = ROOT.TPad(\"pad\",\"The pad with the content\", 0,0,1,0.9)\n",
    "pad.Divide(3,3)\n",
    "for i in range(len(rootDataFile)):\n",
    "    pad.cd(i+1)\n",
    "    hist_apass4 = rootDataFile[i].Tracks.Get(\"hSign;1\")\n",
    "    hist_apass4.Scale(1/hist_apass4.Integral())\n",
    "    hist_apass4.SetLineWidth(3)\n",
    "    hist_apass4.SetLineColor(4)\n",
    "    hist_22c5 = rootDataFile_22c5[i].Tracks.Get(\"hSign;1\")\n",
    "    hist_22c5.Scale(1/hist_22c5.Integral())\n",
    "    hist_22c5.SetLineWidth(3)\n",
    "    hist_22c5.SetLineColor(2)\n",
    "    hist_apass4.Draw(\"HIST\")\n",
    "    hist_22c5.Draw(\"HIST SAME\")\n",
    "    hist_apass4.SetTitle(\"RUN: \"+fileList[i][-11:-5])\n",
    "\n",
    "legend.AddEntry(hist_apass4, \"apass4\", \"l\")\n",
    "legend.AddEntry(hist_22c5, \"LHC22c5\", \"l\")\n",
    "legend.Draw()\n",
    "c.cd()\n",
    "titlepad.Draw()\n",
    "pad.Draw()\n",
    "c.Draw()\n",
    "\n",
    "display(Markdown('---\\n'+'### Sign:'))\n",
    "display(Markdown('- Measured ratios not identical (2-3% discrapency): **Not OK**'+'\\n'+\n",
    "                 'The positive/negative ratio is expected to be influenced mainly by material knockout but also space-charge distortions.'+'\\n'+\n",
    "                 'Under investigation.'))"
   ]
  },
  {
   "cell_type": "code",
   "execution_count": null,
   "id": "1ff74fe7",
   "metadata": {
    "slideshow": {
     "slide_type": "slide"
    }
   },
   "outputs": [],
   "source": [
    "%jsroot on\n",
    "c = ROOT.TCanvas(\"pt_comperison\",\"pt_comperison\",1000,800)\n",
    "titlepad = ROOT.TPad(\"titlepad\",\"The pad with the canvas title\", 0,0.9,1,1)\n",
    "titlepad.cd()\n",
    "title = ROOT.TPaveText(0.05,0.2,0.95,0.8)\n",
    "title.AddText(\"p_T\")\n",
    "title.Draw()\n",
    "c.cd()\n",
    "legend = ROOT.TLegend()\n",
    "legend.SetHeader(\"Normalized to integral\")\n",
    "pad = ROOT.TPad(\"pad\",\"The pad with the content\", 0,0,1,0.9)\n",
    "pad.Divide(3,3)\n",
    "for i in range(len(rootDataFile)):\n",
    "    pad.cd(i+1)\n",
    "    hist_apass4 = rootDataFile[i].Tracks.Get(\"hPt;1\")\n",
    "    hist_apass4.Scale(1/hist_apass4.Integral())\n",
    "    hist_apass4.SetLineWidth(3)\n",
    "    hist_apass4.SetLineColor(4)\n",
    "    hist_22c5 = rootDataFile_22c5[i].Tracks.Get(\"hPt;1\")\n",
    "    hist_22c5.Scale(1/hist_22c5.Integral())\n",
    "    hist_22c5.SetLineWidth(3)\n",
    "    hist_22c5.SetLineColor(2)\n",
    "    hist_22c5.Draw(\"HIST SAME\")\n",
    "    hist_apass4.Draw(\"HIST SAME\")\n",
    "    hist_apass4.SetTitle(\"RUN: \"+fileList[i][-11:-5])\n",
    "    ROOT.gPad.SetLogx()\n",
    "\n",
    "legend.AddEntry(hist_apass4, \"apass4\", \"l\")\n",
    "legend.AddEntry(hist_22c5, \"LHC22c5\", \"l\")\n",
    "legend.Draw()\n",
    "\n",
    "c.cd()\n",
    "titlepad.Draw()\n",
    "pad.Draw()\n",
    "\n",
    "c.Draw()\n",
    "\n",
    "display(Markdown('---\\n'+'### p_T:'))\n",
    "display(Markdown('- Distributions not perfectly overlapping but is likely good enough.'))"
   ]
  },
  {
   "cell_type": "code",
   "execution_count": null,
   "id": "40fb0ca2",
   "metadata": {
    "slideshow": {
     "slide_type": "slide"
    }
   },
   "outputs": [],
   "source": [
    "%jsroot on\n",
    "c = ROOT.TCanvas(\"phi_comperison\",\"phi_comperison\",1000,800)\n",
    "titlepad = ROOT.TPad(\"titlepad\",\"The pad with the canvas title\", 0,0.9,1,1)\n",
    "titlepad.cd()\n",
    "title = ROOT.TPaveText(0.05,0.2,0.95,0.8)\n",
    "title.AddText(\"Phi\")\n",
    "title.Draw()\n",
    "c.cd()\n",
    "legend = ROOT.TLegend()\n",
    "legend.SetHeader(\"Normalized to integral\")\n",
    "pad = ROOT.TPad(\"pad\",\"The pad with the content\", 0,0,1,0.9)\n",
    "pad.Divide(3,3)\n",
    "for i in range(len(rootDataFile)):\n",
    "    pad.cd(i+1)\n",
    "    hist_apass4 = rootDataFile[i].PID.Get(\"hPhi;1\")\n",
    "    hist_apass4.Scale(1/hist_apass4.Integral())\n",
    "    hist_apass4.SetLineWidth(3)\n",
    "    hist_apass4.SetLineColor(4)\n",
    "    hist_22c5 = rootDataFile_22c5[i].PID.Get(\"hPhi;1\")\n",
    "    hist_22c5.Scale(1/hist_22c5.Integral())\n",
    "    hist_22c5.SetLineWidth(3)\n",
    "    hist_22c5.SetLineColor(2)\n",
    "    \n",
    "    hist_apass4.SetMaximum(0.0065)\n",
    "    hist_apass4.SetMinimum(0.0045)\n",
    "    hist_apass4.Draw(\"HIST SAME\")\n",
    "    hist_22c5.Draw(\"HIST SAME\")\n",
    "    hist_apass4.SetTitle(\"RUN: \"+fileList[i][-11:-5])\n",
    "\n",
    "legend.AddEntry(hist_apass4, \"apass4\", \"l\")\n",
    "legend.AddEntry(hist_22c5, \"LHC22c5\", \"l\")\n",
    "legend.Draw()\n",
    "c.cd()\n",
    "titlepad.Draw()\n",
    "pad.Draw()\n",
    "c.Draw()\n",
    "\n",
    "display(Markdown('---\\n'+'### Phi:'))\n",
    "display(Markdown('- Sector boundaries less evident in MC.'))"
   ]
  },
  {
   "cell_type": "code",
   "execution_count": null,
   "id": "061573b7",
   "metadata": {
    "slideshow": {
     "slide_type": "slide"
    }
   },
   "outputs": [],
   "source": [
    "%jsroot on\n",
    "c = ROOT.TCanvas(\"tgl_comperison\",\"tgl_comperison\",1000,800)\n",
    "titlepad = ROOT.TPad(\"titlepad\",\"The pad with the canvas title\", 0,0.9,1,1)\n",
    "titlepad.cd()\n",
    "title = ROOT.TPaveText(0.05,0.2,0.95,0.8)\n",
    "title.AddText(\"tan(lambda)\")\n",
    "title.Draw()\n",
    "c.cd()\n",
    "legend = ROOT.TLegend()\n",
    "legend.SetHeader(\"Normalized to integral\")\n",
    "pad = ROOT.TPad(\"pad\",\"The pad with the content\", 0,0,1,0.9)\n",
    "pad.Divide(3,3)\n",
    "for i in range(len(rootDataFile)):\n",
    "    pad.cd(i+1)\n",
    "    hist_apass4 = rootDataFile[i].PID.Get(\"hTgl;1\")\n",
    "    hist_apass4.Scale(1/hist_apass4.Integral())\n",
    "    hist_apass4.SetLineWidth(3)\n",
    "    hist_apass4.SetLineColor(4)\n",
    "    hist_22c5 = rootDataFile_22c5[i].PID.Get(\"hTgl;1\")\n",
    "    hist_22c5.Scale(1/hist_22c5.Integral())\n",
    "    hist_22c5.SetLineWidth(3)\n",
    "    hist_22c5.SetLineColor(2)\n",
    "    hist_apass4.Draw(\"HIST SAME\")\n",
    "    hist_22c5.Draw(\"HIST SAME\")\n",
    "    hist_apass4.SetTitle(\"RUN: \"+fileList[i][-11:-5])\n",
    "\n",
    "legend.AddEntry(hist_apass4, \"apass4\", \"l\")\n",
    "legend.AddEntry(hist_22c5, \"LHC22c5\", \"l\")\n",
    "legend.Draw()\n",
    "\n",
    "c.cd()\n",
    "titlepad.Draw()\n",
    "pad.Draw()\n",
    "\n",
    "c.Draw()\n",
    "display(Markdown('---\\n'+'### tgl:'))\n",
    "display(Markdown('- Asymmetry not reproduced in MC'))"
   ]
  },
  {
   "cell_type": "code",
   "execution_count": null,
   "id": "38f67be0",
   "metadata": {
    "slideshow": {
     "slide_type": "slide"
    }
   },
   "outputs": [],
   "source": [
    "%jsroot on\n",
    "c = ROOT.TCanvas(\"eta_comperison\",\"eta_comperison\",1000,800)\n",
    "titlepad = ROOT.TPad(\"titlepad\",\"The pad with the canvas title\", 0,0.9,1,1)\n",
    "titlepad.cd()\n",
    "title = ROOT.TPaveText(0.05,0.2,0.95,0.8)\n",
    "title.AddText(\"Eta\")\n",
    "title.Draw()\n",
    "c.cd()\n",
    "legend = ROOT.TLegend()\n",
    "legend.SetHeader(\"Normalized to integral\")\n",
    "pad = ROOT.TPad(\"pad\",\"The pad with the content\", 0,0,1,0.9)\n",
    "pad.Divide(3,3)\n",
    "for i in range(len(rootDataFile)):\n",
    "    pad.cd(i+1)\n",
    "    hist_apass4 = rootDataFile[i].Tracks.Get(\"hEta;1\")\n",
    "    hist_apass4.Scale(1/hist_apass4.Integral())\n",
    "    hist_apass4.SetLineWidth(3)\n",
    "    hist_apass4.SetLineColor(4)\n",
    "    hist_22c5 = rootDataFile_22c5[i].Tracks.Get(\"hEta;1\")\n",
    "    hist_22c5.Scale(1/hist_22c5.Integral())\n",
    "    hist_22c5.SetLineWidth(3)\n",
    "    hist_22c5.SetLineColor(2)\n",
    "    hist_apass4.Draw(\"HIST SAME\")\n",
    "    hist_22c5.Draw(\"HIST SAME\")\n",
    "    hist_apass4.SetTitle(\"RUN: \"+fileList[i][-11:-5])\n",
    "\n",
    "legend.AddEntry(hist_apass4, \"apass4\", \"l\")\n",
    "legend.AddEntry(hist_22c5, \"LHC22c5\", \"l\")\n",
    "legend.Draw()\n",
    "\n",
    "c.cd()\n",
    "titlepad.Draw()\n",
    "pad.Draw()\n",
    "\n",
    "c.Draw()\n",
    "\n",
    "display(Markdown('---\\n'+'### eta:'))\n",
    "display(Markdown('- Asymmetry not reproduced in MC'))"
   ]
  },
  {
   "cell_type": "code",
   "execution_count": null,
   "id": "8228aca2",
   "metadata": {
    "slideshow": {
     "slide_type": "slide"
    }
   },
   "outputs": [],
   "source": [
    "%jsroot on\n",
    "c = ROOT.TCanvas(\"dedx_p_comperison\",\"dedx_p_comperison\",1000,500)\n",
    "titlepad = ROOT.TPad(\"titlepad\",\"The pad with the canvas title\", 0,0.9,1,1)\n",
    "titlepad.cd()\n",
    "title = ROOT.TPaveText(0.05,0.2,0.95,0.8)\n",
    "title.AddText(\"Energy loss vs momentum\")\n",
    "title.Draw()\n",
    "legend1 = ROOT.TLegend()\n",
    "legend2 = ROOT.TLegend()\n",
    "\n",
    "c.cd()\n",
    "pad = ROOT.TPad(\"pad\",\"The pad with the content\", 0,0,1,0.9)\n",
    "pad.Divide(2,1)\n",
    "for ipad in range(2):\n",
    "    pad.cd(ipad+1)\n",
    "    if ipad==0:\n",
    "        file = rootDataFile\n",
    "    else:\n",
    "        file = rootDataFile_22c5\n",
    "    for i in range(len(file)):\n",
    "        if i == 0:\n",
    "            hist = file[i].PID.Get(\"hdEdxVsp;1\")\n",
    "        else:\n",
    "            hist.Add(file[i].PID.Get(\"hdEdxVsp;1\"))\n",
    "    hist.Draw(\"SAME COLZ\")\n",
    "    ROOT.gPad.SetLogx()\n",
    "    ROOT.gPad.SetLogz()\n",
    "    if ipad==0:\n",
    "        legend1.AddEntry(hist,\"apass4\", \"l\")\n",
    "        legend1.Draw()\n",
    "    else:\n",
    "        legend2.AddEntry(hist,\"LHC22c5\", \"l\")\n",
    "        legend2.Draw()\n",
    "    \n",
    "c.cd()\n",
    "titlepad.Draw()\n",
    "pad.Draw()\n",
    "c.Draw()\n",
    "\n",
    "display(Markdown('---\\n'+'### Energy loss vs momentum:'))\n",
    "display(Markdown('- Looks **OK** granted there is a difference in statistics '))"
   ]
  },
  {
   "cell_type": "code",
   "execution_count": null,
   "id": "f3850267",
   "metadata": {
    "slideshow": {
     "slide_type": "slide"
    }
   },
   "outputs": [],
   "source": [
    "%jsroot on\n",
    "c = ROOT.TCanvas(\"cluster_eta_comperison\",\"cluster_eta_comperison\",1000,500)\n",
    "titlepad = ROOT.TPad(\"titlepad\",\"The pad with the canvas title\", 0,0.9,1,1)\n",
    "titlepad.cd()\n",
    "title = ROOT.TPaveText(0.05,0.2,0.95,0.8)\n",
    "title.AddText(\"Clusters vs eta\")\n",
    "title.Draw()\n",
    "legend1 = ROOT.TLegend()\n",
    "legend2 = ROOT.TLegend()\n",
    "\n",
    "c.cd()\n",
    "pad = ROOT.TPad(\"pad\",\"The pad with the content\", 0,0,1,0.9)\n",
    "pad.Divide(2,1)\n",
    "for ipad in range(2):\n",
    "    pad.cd(ipad+1)\n",
    "    if ipad==0:\n",
    "        file = rootDataFile\n",
    "    else:\n",
    "        file = rootDataFile_22c5\n",
    "    for i in range(len(file)):\n",
    "        if i == 0:\n",
    "            hist = file[i].Tracks.Get(\"h2DNClustersEta;1\")\n",
    "        else:\n",
    "            hist.Add(file[i].Tracks.Get(\"h2DNClustersEta;1\"))\n",
    "    hist.Draw(\"SAME COLZ\")\n",
    "    if ipad==0:\n",
    "        legend1.AddEntry(hist,\"apass4\", \"l\")\n",
    "        legend1.Draw()\n",
    "    else:\n",
    "        legend2.AddEntry(hist,\"LHC22c5\", \"l\")\n",
    "        legend2.Draw()\n",
    "    \n",
    "c.cd()\n",
    "titlepad.Draw()\n",
    "pad.Draw()\n",
    "c.Draw()\n",
    "\n",
    "display(Markdown('---\\n'+'### Clusters vs eta:'))\n",
    "display(Markdown('- Asymmetry in eta and the peak at eta \\~0.4 and nClusters \\~85 not observed in MC.\\n- Under investigation.'))"
   ]
  },
  {
   "cell_type": "code",
   "execution_count": null,
   "id": "7d514840",
   "metadata": {},
   "outputs": [],
   "source": []
  },
  {
   "cell_type": "code",
   "execution_count": null,
   "id": "861ddef8",
   "metadata": {},
   "outputs": [],
   "source": []
  }
 ],
 "metadata": {
  "celltoolbar": "Slideshow",
  "kernelspec": {
   "display_name": "Python 3 (ipykernel)",
   "language": "python",
   "name": "python3"
  },
  "language_info": {
   "codemirror_mode": {
    "name": "ipython",
    "version": 3
   },
   "file_extension": ".py",
   "mimetype": "text/x-python",
   "name": "python",
   "nbconvert_exporter": "python",
   "pygments_lexer": "ipython3",
   "version": "3.6.10"
  }
 },
 "nbformat": 4,
 "nbformat_minor": 5
}
